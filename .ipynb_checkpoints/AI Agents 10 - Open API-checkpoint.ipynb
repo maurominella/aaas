{
 "cells": [
  {
   "attachments": {},
   "cell_type": "markdown",
   "id": "6aff6e2d-97b4-441c-b548-2557bafae055",
   "metadata": {},
   "source": [
    "# [Create Agent With OpenAPI](https://learn.microsoft.com/en-us/python/api/overview/azure/ai-projects-readme?view=azure-python-preview#create-agent-with-openapi)\n",
    "AzureFunctionTool contains the input and output queues of azure function and the description of input parameters.\n",
    "\n",
    "Inspired by [sample_agents_openapi.py](https://github.com/Azure/azure-sdk-for-python/blob/azure-ai-projects_1.0.0b4/sdk/ai/azure-ai-projects/samples/agents/sample_agents_openapi.py)"
   ]
  },
  {
   "cell_type": "markdown",
   "id": "54084032-e7de-40c6-bcbc-90ab737a001f",
   "metadata": {},
   "source": [
    "# Constants"
   ]
  },
  {
   "cell_type": "code",
   "execution_count": 1,
   "id": "98d9cc9d-cbef-4b35-a4a3-84802dd4ee06",
   "metadata": {},
   "outputs": [
    {
     "name": "stdout",
     "output_type": "stream",
     "text": [
      "Project Connection String: <...mai04-rg;mmai-hub04-prj01-fvye>\n"
     ]
    }
   ],
   "source": [
    "import os, jsonref\n",
    "from dotenv import load_dotenv # requires python-dotenv\n",
    "# import logging\n",
    "# logging.basicConfig(level=logging.INFO) # Configure logging \n",
    "\n",
    "load_dotenv(\"./../config/credentials_my.env\")\n",
    "model_name =  \"gpt-4o-0513\" # https://learn.microsoft.com/en-us/azure/ai-services/agents/how-to/tools/bing-grounding?tabs=python&pivots=overview#setup\n",
    "project_connection_string = os.environ[\"PROJECT_CONNECTION_STRING\"]\n",
    "\n",
    "print(f'Project Connection String: <...{project_connection_string[-30:]}>')"
   ]
  },
  {
   "cell_type": "markdown",
   "id": "6541e9bb-3e3f-478e-a084-84b70fce0255",
   "metadata": {},
   "source": [
    "# Create AI Foundry Project Client"
   ]
  },
  {
   "cell_type": "code",
   "execution_count": 2,
   "id": "5a9abb62-b855-402f-9e22-583ffe6bf8cb",
   "metadata": {},
   "outputs": [
    {
     "data": {
      "text/plain": [
       "{'subscription_id': 'eca2eddb-0f0c-4351-a634-52751499eeea',\n",
       " 'resource_group_name': 'mmai04-rg',\n",
       " 'project_name': 'mmai-hub04-prj01-fvye'}"
      ]
     },
     "execution_count": 2,
     "metadata": {},
     "output_type": "execute_result"
    }
   ],
   "source": [
    "from azure.ai.projects import AIProjectClient\n",
    "from azure.ai.projects.models import OpenApiTool, OpenApiAnonymousAuthDetails # <<<<<<<<<<<<<<< SPECIFIC FOR OPENAPI\n",
    "from azure.identity import DefaultAzureCredential\n",
    "\n",
    "project_client = AIProjectClient.from_connection_string(\n",
    "    credential=DefaultAzureCredential(), conn_str=project_connection_string\n",
    ")\n",
    "\n",
    "project_client.scope"
   ]
  },
  {
   "cell_type": "code",
   "execution_count": 3,
   "id": "18bd8408-d7d0-43b1-bd29-5131090ea4f3",
   "metadata": {},
   "outputs": [],
   "source": [
    "# Load Weather OpenAPI"
   ]
  },
  {
   "cell_type": "code",
   "execution_count": 4,
   "id": "121d6e68-3373-417e-b8fc-d31cf5ee4a83",
   "metadata": {},
   "outputs": [
    {
     "data": {
      "text/plain": [
       "{'openapi': '3.1.0',\n",
       " 'info': {'title': 'get weather data',\n",
       "  'description': 'Retrieves current weather data for a location based on wttr.in.',\n",
       "  'version': 'v1.0.0'},\n",
       " 'servers': [{'url': 'https://wttr.in'}],\n",
       " 'auth': [],\n",
       " 'paths': {'/{location}': {'get': {'description': 'Get weather information for a specific location',\n",
       "    'operationId': 'GetCurrentWeather',\n",
       "    'parameters': [{'name': 'location',\n",
       "      'in': 'path',\n",
       "      'description': 'City or location to retrieve the weather for',\n",
       "      'required': True,\n",
       "      'schema': {'type': 'string'}},\n",
       "     {'name': 'format',\n",
       "      'in': 'query',\n",
       "      'description': 'Always use j1 value for this parameter',\n",
       "      'required': True,\n",
       "      'schema': {'type': 'string', 'default': 'j1'}}],\n",
       "    'responses': {'200': {'description': 'Successful response',\n",
       "      'content': {'text/plain': {'schema': {'type': 'string'}}}},\n",
       "     '404': {'description': 'Location not found'}},\n",
       "    'deprecated': False}}},\n",
       " 'components': {'schemes': {}}}"
      ]
     },
     "execution_count": 4,
     "metadata": {},
     "output_type": "execute_result"
    }
   ],
   "source": [
    "# https://github.com/Azure/azure-sdk-for-python/blob/azure-ai-projects_1.0.0b4/sdk/ai/azure-ai-projects/samples/agents/weather_openapi.json\n",
    "with open(\"./openapi/weather_openapi.json\", \"r\") as f:\n",
    "    openapi_spec = jsonref.loads(f.read())\n",
    "\n",
    "openapi_spec"
   ]
  },
  {
   "cell_type": "markdown",
   "id": "073506bb-e90e-43a2-bb50-a07cb1397597",
   "metadata": {},
   "source": [
    "# Create Auth object for the OpenApiTool \n",
    "## Note: connection or managed identity auth setup requires additional setup in Azure"
   ]
  },
  {
   "cell_type": "code",
   "execution_count": 5,
   "id": "ed0b781f-a5c2-4994-aed4-09c7d6fbf47a",
   "metadata": {},
   "outputs": [
    {
     "data": {
      "text/plain": [
       "{'type': 'anonymous'}"
      ]
     },
     "execution_count": 5,
     "metadata": {},
     "output_type": "execute_result"
    }
   ],
   "source": [
    "auth = OpenApiAnonymousAuthDetails()\n",
    "auth"
   ]
  },
  {
   "cell_type": "markdown",
   "id": "cb3d93bc-1a86-4018-bc60-ef6bbdff4a15",
   "metadata": {},
   "source": [
    "# Initialize agent OpenApi tool using the read in OpenAPI spec"
   ]
  },
  {
   "cell_type": "code",
   "execution_count": 6,
   "id": "d8f04bae-92c8-4bcd-974a-023bd56e32e0",
   "metadata": {},
   "outputs": [
    {
     "name": "stdout",
     "output_type": "stream",
     "text": [
      "openapi.definitions: [{'type': 'openapi', 'openapi': {'name': 'get_weather', 'description': 'Retrieve weather information for a location', 'spec': {'openapi': '3.1.0', 'info': {'title': 'get weather data', 'description': 'Retrieves current weather data for a location based on wttr.in.', 'version': 'v1.0.0'}, 'servers': [{'url': 'https://wttr.in'}], 'auth': [], 'paths': {'/{location}': {'get': {'description': 'Get weather information for a specific location', 'operationId': 'GetCurrentWeather', 'parameters': [{'name': 'location', 'in': 'path', 'description': 'City or location to retrieve the weather for', 'required': True, 'schema': {'type': 'string'}}, {'name': 'format', 'in': 'query', 'description': 'Always use j1 value for this parameter', 'required': True, 'schema': {'type': 'string', 'default': 'j1'}}], 'responses': {'200': {'description': 'Successful response', 'content': {'text/plain': {'schema': {'type': 'string'}}}}, '404': {'description': 'Location not found'}}, 'deprecated': False}}}, 'components': {'schemes': {}}}, 'auth': {'type': 'anonymous'}}}]\n",
      "openapi.resources: {}\n"
     ]
    }
   ],
   "source": [
    "openapi = OpenApiTool(\n",
    "    name=\"get_weather\", spec=openapi_spec, description=\"Retrieve weather information for a location\", auth=auth\n",
    ")\n",
    "print(f\"openapi.definitions: {openapi.definitions}\")\n",
    "print(f\"openapi.resources: {openapi.resources}\")"
   ]
  },
  {
   "cell_type": "markdown",
   "id": "1b889e58-4f42-45fa-abb4-ba63f7038793",
   "metadata": {},
   "source": [
    "# Create AI Foundry Agent"
   ]
  },
  {
   "cell_type": "code",
   "execution_count": 7,
   "id": "b23ba3db-c486-4378-be6c-cb5626f52e3f",
   "metadata": {},
   "outputs": [
    {
     "data": {
      "text/plain": [
       "<bound method _MyMutableMapping.items of {'id': 'asst_AnBXF31GZLAEVz7u9sHaEJLi', 'object': 'assistant', 'created_at': 1736982816, 'name': 'openapi-agent', 'description': None, 'model': 'gpt-4o-0513', 'instructions': 'You are a helpful assistant', 'tools': [{'type': 'openapi', 'openapi': {'name': 'get_weather', 'description': 'Retrieve weather information for a location', 'spec': {'openapi': '3.1.0', 'info': {'title': 'get weather data', 'description': 'Retrieves current weather data for a location based on wttr.in.', 'version': 'v1.0.0'}, 'servers': [{'url': 'https://wttr.in'}], 'auth': [], 'paths': {'/{location}': {'get': {'description': 'Get weather information for a specific location', 'operationId': 'GetCurrentWeather', 'parameters': [{'name': 'location', 'in': 'path', 'description': 'City or location to retrieve the weather for', 'required': True, 'schema': {'type': 'string'}}, {'name': 'format', 'in': 'query', 'description': 'Always use j1 value for this parameter', 'required': True, 'schema': {'type': 'string', 'default': 'j1'}}], 'responses': {'200': {'description': 'Successful response', 'content': {'text/plain': {'schema': {'type': 'string'}}}}, '404': {'description': 'Location not found'}}, 'deprecated': False}}}, 'components': {'schemes': {}}}, 'auth': {'type': 'anonymous', 'security_scheme': {}}, 'functions': [{'name': 'get_weather.GetCurrentWeather', 'description': 'Get weather information for a specific location', 'parameters': {'type': 'object', 'properties': {'location': {'type': 'string', 'description': 'City or location to retrieve the weather for'}, 'format': {'type': 'string', 'description': 'Always use j1 value for this parameter'}}, 'required': ['location', 'format']}}]}}], 'top_p': 1.0, 'temperature': 1.0, 'tool_resources': {}, 'metadata': {}, 'response_format': 'auto'}>"
      ]
     },
     "execution_count": 7,
     "metadata": {},
     "output_type": "execute_result"
    }
   ],
   "source": [
    "# Create agent with AI search tool and process assistant run\n",
    "agent = project_client.agents.create_agent(\n",
    "    model=model_name,\n",
    "    name=\"openapi-agent\",\n",
    "    instructions=\"You are a helpful assistant\",\n",
    "    tools=openapi.definitions\n",
    ")\n",
    "\n",
    "agent.items"
   ]
  },
  {
   "cell_type": "markdown",
   "id": "d0858e59-5a9a-4523-ae47-68eafc10005b",
   "metadata": {},
   "source": [
    "# Create the thread and attach a new message to it"
   ]
  },
  {
   "cell_type": "code",
   "execution_count": 8,
   "id": "06f80125-1252-4060-bdf5-3b52acc42a47",
   "metadata": {},
   "outputs": [
    {
     "name": "stdout",
     "output_type": "stream",
     "text": [
      "Created thread: {'id': 'thread_hxVmiq2cLKdl6wcU37bN79b1', 'object': 'thread', 'created_at': 1736982817, 'metadata': {}, 'tool_resources': {}}\n",
      "\n",
      "Created message: {'id': 'msg_vkxkZaHlRVlaGXnYvkd49qQw', 'object': 'thread.message', 'created_at': 1736982817, 'assistant_id': None, 'thread_id': 'thread_hxVmiq2cLKdl6wcU37bN79b1', 'run_id': None, 'role': 'user', 'content': [{'type': 'text', 'text': {'value': \"Quale sarà la temperatura massima a Chiavari il 15 giugno? Se il giorno non è ancora disponibile, indica esattamente quale è l'ultima data per la quale sei in grado di rispondere.\", 'annotations': []}}], 'attachments': [], 'metadata': {}}\n"
     ]
    }
   ],
   "source": [
    "# Create a thread\n",
    "thread = project_client.agents.create_thread()\n",
    "print(f\"Created thread: {thread}\\n\")\n",
    "\n",
    "# Add a user message to the thread\n",
    "message = project_client.agents.create_message(\n",
    "    thread_id=thread.id, \n",
    "    role=\"user\", \n",
    "    content=\"Quale sarà la temperatura massima a Chiavari il 15 giugno? Se il giorno non è ancora disponibile, indica esattamente quale è l'ultima data per la quale sei in grado di rispondere.\",\n",
    ")\n",
    "print(f\"Created message: {message}\")"
   ]
  },
  {
   "cell_type": "markdown",
   "id": "ca620721-a30e-44ac-9578-bbc098e20314",
   "metadata": {},
   "source": [
    "# Run the agent synchronously"
   ]
  },
  {
   "cell_type": "code",
   "execution_count": 9,
   "id": "8604f495-2519-42a7-a19a-026538cf2c2c",
   "metadata": {},
   "outputs": [
    {
     "name": "stdout",
     "output_type": "stream",
     "text": [
      "Run finished with status: RunStatus.COMPLETED. Run: {'id': 'run_3MrW6JzGuRBAoT9VGjs49Q29', 'object': 'thread.run', 'created_at': 1736982818, 'assistant_id': 'asst_AnBXF31GZLAEVz7u9sHaEJLi', 'thread_id': 'thread_hxVmiq2cLKdl6wcU37bN79b1', 'status': 'completed', 'started_at': 1736982818, 'expires_at': None, 'cancelled_at': None, 'failed_at': None, 'completed_at': 1736982822, 'required_action': None, 'last_error': None, 'model': 'gpt-4o-0513', 'instructions': 'You are a helpful assistant', 'tools': [{'type': 'openapi', 'openapi': {'name': 'get_weather', 'description': 'Retrieve weather information for a location', 'spec': {'openapi': '3.1.0', 'info': {'title': 'get weather data', 'description': 'Retrieves current weather data for a location based on wttr.in.', 'version': 'v1.0.0'}, 'servers': [{'url': 'https://wttr.in'}], 'auth': [], 'paths': {'/{location}': {'get': {'description': 'Get weather information for a specific location', 'operationId': 'GetCurrentWeather', 'parameters': [{'name': 'location', 'in': 'path', 'description': 'City or location to retrieve the weather for', 'required': True, 'schema': {'type': 'string'}}, {'name': 'format', 'in': 'query', 'description': 'Always use j1 value for this parameter', 'required': True, 'schema': {'type': 'string', 'default': 'j1'}}], 'responses': {'200': {'description': 'Successful response', 'content': {'text/plain': {'schema': {'type': 'string'}}}}, '404': {'description': 'Location not found'}}, 'deprecated': False}}}, 'components': {'schemes': {}}}, 'auth': {'type': 'anonymous', 'security_scheme': {}}, 'functions': [{'name': 'get_weather.GetCurrentWeather', 'description': 'Get weather information for a specific location', 'parameters': {'type': 'object', 'properties': {'location': {'type': 'string', 'description': 'City or location to retrieve the weather for'}, 'format': {'type': 'string', 'description': 'Always use j1 value for this parameter'}}, 'required': ['location', 'format']}}]}}], 'tool_resources': {}, 'metadata': {}, 'temperature': 1.0, 'top_p': 1.0, 'max_completion_tokens': None, 'max_prompt_tokens': None, 'truncation_strategy': {'type': 'auto', 'last_messages': None}, 'incomplete_details': None, 'usage': {'prompt_tokens': 9359, 'completion_tokens': 93, 'total_tokens': 9452}, 'response_format': 'auto', 'tool_choice': 'auto', 'parallel_tool_calls': True}\n",
      "CPU times: total: 62.5 ms\n",
      "Wall time: 5.17 s\n"
     ]
    }
   ],
   "source": [
    "%%time\n",
    "# Create and process agent run in thread with tools\n",
    "run = project_client.agents.create_and_process_run(thread_id=thread.id, assistant_id=agent.id)\n",
    "print(f\"Run finished with status: {run.status}. Run: {run}\")\n",
    "\n",
    "if run.status == \"failed\":\n",
    "    # Check if you got \"Rate limit is exceeded.\", then you want to get more quota\n",
    "    print(f\"Run failed: {run.last_error}\")"
   ]
  },
  {
   "cell_type": "markdown",
   "id": "fecc4801-ce47-47ff-8502-e11c6b38fcc2",
   "metadata": {},
   "source": [
    "# Fetch messages from the thread after the agent run execution"
   ]
  },
  {
   "cell_type": "code",
   "execution_count": 10,
   "id": "bd778151-0cbb-4216-8de9-e4dee771d546",
   "metadata": {},
   "outputs": [
    {
     "name": "stdout",
     "output_type": "stream",
     "text": [
      "Messages: {'object': 'list', 'data': [{'id': 'msg_35yVSJb5arYXC7K5NLNX8cw1', 'object': 'thread.message', 'created_at': 1736982821, 'assistant_id': 'asst_AnBXF31GZLAEVz7u9sHaEJLi', 'thread_id': 'thread_hxVmiq2cLKdl6wcU37bN79b1', 'run_id': 'run_3MrW6JzGuRBAoT9VGjs49Q29', 'role': 'assistant', 'content': [{'type': 'text', 'text': {'value': 'Al momento, la previsione metereologica per Chiavari è disponibile fino al 18 gennaio 2025. Nella data più lontana al momento disponibile, la temperatura massima prevista è di 12°C. Purtroppo, non posso fornire una previsione per il 15 giugno 2025.', 'annotations': []}}], 'attachments': [], 'metadata': {}}, {'id': 'msg_vkxkZaHlRVlaGXnYvkd49qQw', 'object': 'thread.message', 'created_at': 1736982817, 'assistant_id': None, 'thread_id': 'thread_hxVmiq2cLKdl6wcU37bN79b1', 'run_id': None, 'role': 'user', 'content': [{'type': 'text', 'text': {'value': \"Quale sarà la temperatura massima a Chiavari il 15 giugno? Se il giorno non è ancora disponibile, indica esattamente quale è l'ultima data per la quale sei in grado di rispondere.\", 'annotations': []}}], 'attachments': [], 'metadata': {}}], 'first_id': 'msg_35yVSJb5arYXC7K5NLNX8cw1', 'last_id': 'msg_vkxkZaHlRVlaGXnYvkd49qQw', 'has_more': False}\n",
      "\n",
      "Last Message:\n",
      "Al momento, la previsione metereologica per Chiavari è disponibile fino al 18 gennaio 2025. Nella data più lontana al momento disponibile, la temperatura massima prevista è di 12°C. Purtroppo, non posso fornire una previsione per il 15 giugno 2025.\n"
     ]
    }
   ],
   "source": [
    "# Fetch messages from the thread\n",
    "messages = project_client.agents.list_messages(thread_id=thread.id)\n",
    "print(f\"Messages: {messages}\\n\")\n",
    "\n",
    "# Fetch the last message from the thread\n",
    "last_msg = messages.get_last_text_message_by_sender(\"assistant\")\n",
    "if last_msg:\n",
    "    print(f\"Last Message:\\n{last_msg.text.value}\")"
   ]
  },
  {
   "cell_type": "code",
   "execution_count": 11,
   "id": "0d3222fb-0f69-43ec-8762-65cc8242df67",
   "metadata": {},
   "outputs": [
    {
     "name": "stdout",
     "output_type": "stream",
     "text": [
      "Last Message: Al momento, la previsione metereologica per Chiavari è disponibile fino al 18 gennaio 2025. Nella data più lontana al momento disponibile, la temperatura massima prevista è di 12°C. Purtroppo, non posso fornire una previsione per il 15 giugno 2025.\n"
     ]
    }
   ],
   "source": [
    "# Get the last message from the sender\n",
    "last_msg = messages.get_last_text_message_by_sender(\"assistant\")\n",
    "if last_msg:\n",
    "    print(f\"Last Message: {last_msg.text.value}\")"
   ]
  },
  {
   "cell_type": "markdown",
   "id": "b9e4ca37-422c-4c17-8964-8c32a3bb914a",
   "metadata": {},
   "source": [
    "# Run Steps"
   ]
  },
  {
   "cell_type": "code",
   "execution_count": 12,
   "id": "cd551092-22cb-465c-baa3-ff58823fbb72",
   "metadata": {},
   "outputs": [
    {
     "name": "stdout",
     "output_type": "stream",
     "text": [
      "Nr of run step(s): 2\n",
      "\n",
      "Run step 1: {'id': 'step_DEcnuMyKG02zbJa47RK3A9nt', 'object': 'thread.run.step', 'created_at': 1736982821, 'run_id': 'run_3MrW6JzGuRBAoT9VGjs49Q29', 'assistant_id': 'asst_AnBXF31GZLAEVz7u9sHaEJLi', 'thread_id': 'thread_hxVmiq2cLKdl6wcU37bN79b1', 'type': 'message_creation', 'status': 'completed', 'cancelled_at': None, 'completed_at': 1736982822, 'expires_at': None, 'failed_at': None, 'last_error': None, 'step_details': {'type': 'message_creation', 'message_creation': {'message_id': 'msg_35yVSJb5arYXC7K5NLNX8cw1'}}, 'usage': {'prompt_tokens': 9225, 'completion_tokens': 68, 'total_tokens': 9293}} \n",
      "\n",
      "Run step 2: {'id': 'step_HjeRS7Caq5TE22BWA3IJOxfp', 'object': 'thread.run.step', 'created_at': 1736982819, 'run_id': 'run_3MrW6JzGuRBAoT9VGjs49Q29', 'assistant_id': 'asst_AnBXF31GZLAEVz7u9sHaEJLi', 'thread_id': 'thread_hxVmiq2cLKdl6wcU37bN79b1', 'type': 'tool_calls', 'status': 'completed', 'cancelled_at': None, 'completed_at': 1736982821, 'expires_at': None, 'failed_at': None, 'last_error': None, 'step_details': {'type': 'tool_calls', 'tool_calls': [{'id': 'call_GpvkCOdrxephPTfPFPIIa9gu', 'type': 'openapi', 'function': {'name': 'get_weather.GetCurrentWeather', 'arguments': '{\"location\":\"Chiavari\",\"format\":\"j1\"}', 'output': \"{'current_condition': [{'FeelsLikeC': '7', 'FeelsLikeF': '44', 'cloudcover': '0', 'humidity': '36', 'localObsDateTime': '2025-01-16 12:12 AM', 'observation_time': '11:12 PM', 'precipInches': '0.0', 'precipMM': '0.0', 'pressure': '1025', 'pressureInches': '30', 'temp_C': '8', 'temp_F': '47', 'uvIndex': '0', 'visibility': '10', 'visibilityMiles': '6', 'weatherCode': '113', 'weatherDesc': [{'value': 'Clear'}], 'weatherIconUrl': [{'value': ''}], 'winddir16Point': 'NE', 'winddirDegree': '52', 'windspeedKmph': '9', 'windspeedMiles': '6'}], 'nearest_area': [{'areaName': [{'value': 'Chiavari'}], 'country': [{'value': 'Italy'}], 'latitude': '44.317', 'longitude': '9.317', 'population': '26572', 'region': [{'value': 'Liguria'}], 'weatherUrl': [{'value': ''}]}], 'request': [{'query': 'Lat 44.32 and Lon 9.32', 'type': 'LatLon'}], 'weather': [{'astronomy': [{'moon_illumination': '95', 'moon_phase': 'Waning Gibbous', 'moonrise': '08:01 PM', 'moonset': '09:38 AM', 'sunrise': '07:55 AM', 'sunset': '05:12 PM'}], 'avgtempC': '8', 'avgtempF': '46', 'date': '2025-01-16', 'hourly': [{'DewPointC': '-5', 'DewPointF': '23', 'FeelsLikeC': '5', 'FeelsLikeF': '41', 'HeatIndexC': '7', 'HeatIndexF': '45', 'WindChillC': '5', 'WindChillF': '41', 'WindGustKmph': '15', 'WindGustMiles': '9', 'chanceoffog': '0', 'chanceoffrost': '0', 'chanceofhightemp': '0', 'chanceofovercast': '38', 'chanceofrain': '0', 'chanceofremdry': '80', 'chanceofsnow': '0', 'chanceofsunshine': '81', 'chanceofthunder': '0', 'chanceofwindy': '0', 'cloudcover': '38', 'diffRad': '0.0', 'humidity': '42', 'precipInches': '0.0', 'precipMM': '0.0', 'pressure': '1027', 'pressureInches': '30', 'shortRad': '0.0', 'tempC': '7', 'tempF': '45', 'time': '0', 'uvIndex': '0', 'visibility': '10', 'visibilityMiles': '6', 'weatherCode': '116', 'weatherDesc': [{'value': 'Partly Cloudy '}], 'weatherIconUrl': [{'value': ''}], 'winddir16Point': 'NE', 'winddirDegree': '42', 'windspeedKmph': '10', 'windspeedMiles': '6'}, {'DewPointC': '-3', 'DewPointF': '26', 'FeelsLikeC': '6', 'FeelsLikeF': '43', 'HeatIndexC': '8', 'HeatIndexF': '46', 'WindChillC': '6', 'WindChillF': '43', 'WindGustKmph': '13', 'WindGustMiles': '8', 'chanceoffog': '0', 'chanceoffrost': '0', 'chanceofhightemp': '0', 'chanceofovercast': '48', 'chanceofrain': '0', 'chanceofremdry': '82', 'chanceofsnow': '0', 'chanceofsunshine': '73', 'chanceofthunder': '0', 'chanceofwindy': '0', 'cloudcover': '45', 'diffRad': '0.0', 'humidity': '46', 'precipInches': '0.0', 'precipMM': '0.0', 'pressure': '1027', 'pressureInches': '30', 'shortRad': '0.0', 'tempC': '8', 'tempF': '46', 'time': '300', 'uvIndex': '0', 'visibility': '10', 'visibilityMiles': '6', 'weatherCode': '116', 'weatherDesc': [{'value': 'Partly Cloudy '}], 'weatherIconUrl': [{'value': ''}], 'winddir16Point': 'NNE', 'winddirDegree': '19', 'windspeedKmph': '9', 'windspeedMiles': '6'}, {'DewPointC': '-1', 'DewPointF': '30', 'FeelsLikeC': '5', 'FeelsLikeF': '40', 'HeatIndexC': '7', 'HeatIndexF': '45', 'WindChillC': '5', 'WindChillF': '40', 'WindGustKmph': '20', 'WindGustMiles': '12', 'chanceoffog': '0', 'chanceoffrost': '0', 'chanceofhightemp': '0', 'chanceofovercast': '0', 'chanceofrain': '0', 'chanceofremdry': '80', 'chanceofsnow': '0', 'chanceofsunshine': '85', 'chanceofthunder': '0', 'chanceofwindy': '0', 'cloudcover': '20', 'diffRad': '0.0', 'humidity': '56', 'precipInches': '0.0', 'precipMM': '0.0', 'pressure': '1028', 'pressureInches': '30', 'shortRad': '0.0', 'tempC': '7', 'tempF': '45', 'time': '600', 'uvIndex': '0', 'visibility': '10', 'visibilityMiles': '6', 'weatherCode': '113', 'weatherDesc': [{'value': 'Clear '}], 'weatherIconUrl': [{'value': ''}], 'winddir16Point': 'N', 'winddirDegree': '6', 'windspeedKmph': '14', 'windspeedMiles': '9'}, {'DewPointC': '-1', 'DewPointF': '31', 'FeelsLikeC': '4', 'FeelsLikeF': '39', 'HeatIndexC': '7', 'HeatIndexF': '45', 'WindChillC': '4', 'WindChillF': '39', 'WindGustKmph': '23', 'WindGustMiles': '15', 'chanceoffog': '0', 'chanceoffrost': '0', 'chanceofhightemp': '0', 'chanceofovercast': '0', 'chanceofrain': '0', 'chanceofremdry': '89', 'chanceofsnow': '0', 'chanceofsunshine': '91', 'chanceofthunder': '0', 'chanceofwindy': '0', 'cloudcover': '11', 'diffRad': '8.9', 'humidity': '58', 'precipInches': '0.0', 'precipMM': '0.0', 'pressure': '1031', 'pressureInches': '30', 'shortRad': '19.8', 'tempC': '7', 'tempF': '45', 'time': '900', 'uvIndex': '0', 'visibility': '10', 'visibilityMiles': '6', 'weatherCode': '113', 'weatherDesc': [{'value': 'Sunny'}], 'weatherIconUrl': [{'value': ''}], 'winddir16Point': 'NNE', 'winddirDegree': '13', 'windspeedKmph': '18', 'windspeedMiles': '11'}, {'DewPointC': '-0', 'DewPointF': '32', 'FeelsLikeC': '6', 'FeelsLikeF': '44', 'HeatIndexC': '9', 'HeatIndexF': '48', 'WindChillC': '6', 'WindChillF': '44', 'WindGustKmph': '20', 'WindGustMiles': '13', 'chanceoffog': '0', 'chanceoffrost': '0', 'chanceofhightemp': '0', 'chanceofovercast': '0', 'chanceofrain': '0', 'chanceofremdry': '87', 'chanceofsnow': '0', 'chanceofsunshine': '93', 'chanceofthunder': '0', 'chanceofwindy': '0', 'cloudcover': '22', 'diffRad': '53.2', 'humidity': '52', 'precipInches': '0.0', 'precipMM': '0.0', 'pressure': '1032', 'pressureInches': '30', 'shortRad': '123.0', 'tempC': '9', 'tempF': '48', 'time': '1200', 'uvIndex': '1', 'visibility': '10', 'visibilityMiles': '6', 'weatherCode': '113', 'weatherDesc': [{'value': 'Sunny'}], 'weatherIconUrl': [{'value': ''}], 'winddir16Point': 'NNE', 'winddirDegree': '19', 'windspeedKmph': '18', 'windspeedMiles': '11'}, {'DewPointC': '-0', 'DewPointF': '32', 'FeelsLikeC': '8', 'FeelsLikeF': '46', 'HeatIndexC': '10', 'HeatIndexF': '50', 'WindChillC': '8', 'WindChillF': '46', 'WindGustKmph': '18', 'WindGustMiles': '11', 'chanceoffog': '0', 'chanceoffrost': '0', 'chanceofhightemp': '0', 'chanceofovercast': '0', 'chanceofrain': '0', 'chanceofremdry': '90', 'chanceofsnow': '0', 'chanceofsunshine': '86', 'chanceofthunder': '0', 'chanceofwindy': '0', 'cloudcover': '24', 'diffRad': '115.3', 'humidity': '49', 'precipInches': '0.0', 'precipMM': '0.0', 'pressure': '1031', 'pressureInches': '30', 'shortRad': '285.0', 'tempC': '10', 'tempF': '50', 'time': '1500', 'uvIndex': '0', 'visibility': '10', 'visibilityMiles': '6', 'weatherCode': '113', 'weatherDesc': [{'value': 'Sunny'}], 'weatherIconUrl': [{'value': ''}], 'winddir16Point': 'NE', 'winddirDegree': '36', 'windspeedKmph': '16', 'windspeedMiles': '10'}, {'DewPointC': '1', 'DewPointF': '34', 'FeelsLikeC': '5', 'FeelsLikeF': '40', 'HeatIndexC': '7', 'HeatIndexF': '45', 'WindChillC': '5', 'WindChillF': '40', 'WindGustKmph': '19', 'WindGustMiles': '12', 'chanceoffog': '0', 'chanceoffrost': '0', 'chanceofhightemp': '0', 'chanceofovercast': '0', 'chanceofrain': '0', 'chanceofremdry': '84', 'chanceofsnow': '0', 'chanceofsunshine': '93', 'chanceofthunder': '0', 'chanceofwindy': '0', 'cloudcover': '6', 'diffRad': '62.0', 'humidity': '64', 'precipInches': '0.0', 'precipMM': '0.0', 'pressure': '1033', 'pressureInches': '31', 'shortRad': '161.7', 'tempC': '7', 'tempF': '45', 'time': '1800', 'uvIndex': '0', 'visibility': '10', 'visibilityMiles': '6', 'weatherCode': '113', 'weatherDesc': [{'value': 'Clear '}], 'weatherIconUrl': [{'value': ''}], 'winddir16Point': 'NNE', 'winddirDegree': '24', 'windspeedKmph': '15', 'windspeedMiles': '9'}, {'DewPointC': '1', 'DewPointF': '35', 'FeelsLikeC': '3', 'FeelsLikeF': '37', 'HeatIndexC': '6', 'HeatIndexF': '43', 'WindChillC': '3', 'WindChillF': '37', 'WindGustKmph': '20', 'WindGustMiles': '13', 'chanceoffog': '0', 'chanceoffrost': '0', 'chanceofhightemp': '0', 'chanceofovercast': '0', 'chanceofrain': '0', 'chanceofremdry': '85', 'chanceofsnow': '0', 'chanceofsunshine': '91', 'chanceofthunder': '0', 'chanceofwindy': '0', 'cloudcover': '0', 'diffRad': '0.0', 'humidity': '71', 'precipInches': '0.0', 'precipMM': '0.0', 'pressure': '1034', 'pressureInches': '31', 'shortRad': '0.0', 'tempC': '6', 'tempF': '43', 'time': '2100', 'uvIndex': '0', 'visibility': '10', 'visibilityMiles': '6', 'weatherCode': '113', 'weatherDesc': [{'value': 'Clear '}], 'weatherIconUrl': [{'value': ''}], 'winddir16Point': 'NNE', 'winddirDegree': '23', 'windspeedKmph': '16', 'windspeedMiles': '10'}], 'maxtempC': '10', 'maxtempF': '50', 'mintempC': '6', 'mintempF': '43', 'sunHour': '9.6', 'totalSnow_cm': '0.0', 'uvIndex': '0'}, {'astronomy': [{'moon_illumination': '90', 'moon_phase': 'Waning Gibbous', 'moonrise': '09:08 PM', 'moonset': '09:57 AM', 'sunrise': '07:55 AM', 'sunset': '05:13 PM'}], 'avgtempC': '8', 'avgtempF': '46', 'date': '2025-01-17', 'hourly': [{'DewPointC': '1', 'DewPointF': '34', 'FeelsLikeC': '3', 'FeelsLikeF': '38', 'HeatIndexC': '6', 'HeatIndexF': '43', 'WindChillC': '3', 'WindChillF': '38', 'WindGustKmph': '19', 'WindGustMiles': '12', 'chanceoffog': '0', 'chanceoffrost': '0', 'chanceofhightemp': '0', 'chanceofovercast': '0', 'chanceofrain': '0', 'chanceofremdry': '93', 'chanceofsnow': '0', 'chanceofsunshine': '94', 'chanceofthunder': '0', 'chanceofwindy': '0', 'cloudcover': '0', 'diffRad': '0.0', 'humidity': '70', 'precipInches': '0.0', 'precipMM': '0.0', 'pressure': '1035', 'pressureInches': '31', 'shortRad': '0.0', 'tempC': '6', 'tempF': '43', 'time': '0', 'uvIndex': '0', 'visibility': '10', 'visibilityMiles': '6', 'weatherCode': '113', 'weatherDesc': [{'value': 'Clear '}], 'weatherIconUrl': [{'value': ''}], 'winddir16Point': 'NNE', 'winddirDegree': '22', 'windspeedKmph': '14', 'windspeedMiles': '9'}, {'DewPointC': '1', 'DewPointF': '34', 'FeelsLikeC': '3', 'FeelsLikeF': '37', 'HeatIndexC': '6', 'HeatIndexF': '42', 'WindChillC': '3', 'WindChillF': '37', 'WindGustKmph': '19', 'WindGustMiles': '12', 'chanceoffog': '0', 'chanceoffrost': '0', 'chanceofhightemp': '0', 'chanceofovercast': '0', 'chanceofrain': '0', 'chanceofremdry': '94', 'chanceofsnow': '0', 'chanceofsunshine': '85', 'chanceofthunder': '0', 'chanceofwindy': '0', 'cloudcover': '0', 'diffRad': '0.0', 'humidity': '71', 'precipInches': '0.0', 'precipMM': '0.0', 'pressure': '1035', 'pressureInches': '31', 'shortRad': '0.0', 'tempC': '6', 'tempF': '42', 'time': '300', 'uvIndex': '0', 'visibility': '10', 'visibilityMiles': '6', 'weatherCode': '113', 'weatherDesc': [{'value': 'Clear '}], 'weatherIconUrl': [{'value': ''}], 'winddir16Point': 'NNE', 'winddirDegree': '23', 'windspeedKmph': '15', 'windspeedMiles': '9'}, {'DewPointC': '1', 'DewPointF': '33', 'FeelsLikeC': '2', 'FeelsLikeF': '36', 'HeatIndexC': '6', 'HeatIndexF': '42', 'WindChillC': '2', 'WindChillF': '36', 'WindGustKmph': '22', 'WindGustMiles': '14', 'chanceoffog': '0', 'chanceoffrost': '0', 'chanceofhightemp': '0', 'chanceofovercast': '0', 'chanceofrain': '0', 'chanceofremdry': '91', 'chanceofsnow': '0', 'chanceofsunshine': '94', 'chanceofthunder': '0', 'chanceofwindy': '0', 'cloudcover': '5', 'diffRad': '0.0', 'humidity': '71', 'precipInches': '0.0', 'precipMM': '0.0', 'pressure': '1034', 'pressureInches': '31', 'shortRad': '0.0', 'tempC': '6', 'tempF': '42', 'time': '600', 'uvIndex': '0', 'visibility': '10', 'visibilityMiles': '6', 'weatherCode': '113', 'weatherDesc': [{'value': 'Clear '}], 'weatherIconUrl': [{'value': ''}], 'winddir16Point': 'N', 'winddirDegree': '11', 'windspeedKmph': '17', 'windspeedMiles': '11'}, {'DewPointC': '-0', 'DewPointF': '32', 'FeelsLikeC': '4', 'FeelsLikeF': '38', 'HeatIndexC': '6', 'HeatIndexF': '43', 'WindChillC': '4', 'WindChillF': '38', 'WindGustKmph': '16', 'WindGustMiles': '10', 'chanceoffog': '0', 'chanceoffrost': '0', 'chanceofhightemp': '0', 'chanceofovercast': '0', 'chanceofrain': '0', 'chanceofremdry': '89', 'chanceofsnow': '0', 'chanceofsunshine': '88', 'chanceofthunder': '0', 'chanceofwindy': '0', 'cloudcover': '9', 'diffRad': '8.9', 'humidity': '64', 'precipInches': '0.0', 'precipMM': '0.0', 'pressure': '1035', 'pressureInches': '31', 'shortRad': '23.2', 'tempC': '6', 'tempF': '43', 'time': '900', 'uvIndex': '0', 'visibility': '10', 'visibilityMiles': '6', 'weatherCode': '113', 'weatherDesc': [{'value': 'Sunny'}], 'weatherIconUrl': [{'value': ''}], 'winddir16Point': 'NNE', 'winddirDegree': '31', 'windspeedKmph': '13', 'windspeedMiles': '8'}, {'DewPointC': '-1', 'DewPointF': '31', 'FeelsLikeC': '8', 'FeelsLikeF': '47', 'HeatIndexC': '10', 'HeatIndexF': '49', 'WindChillC': '8', 'WindChillF': '47', 'WindGustKmph': '10', 'WindGustMiles': '6', 'chanceoffog': '0', 'chanceoffrost': '0', 'chanceofhightemp': '0', 'chanceofovercast': '0', 'chanceofrain': '0', 'chanceofremdry': '93', 'chanceofsnow': '0', 'chanceofsunshine': '88', 'chanceofthunder': '0', 'chanceofwindy': '0', 'cloudcover': '0', 'diffRad': '38.4', 'humidity': '48', 'precipInches': '0.0', 'precipMM': '0.0', 'pressure': '1033', 'pressureInches': '31', 'shortRad': '183.8', 'tempC': '10', 'tempF': '49', 'time': '1200', 'uvIndex': '1', 'visibility': '10', 'visibilityMiles': '6', 'weatherCode': '113', 'weatherDesc': [{'value': 'Sunny'}], 'weatherIconUrl': [{'value': ''}], 'winddir16Point': 'N', 'winddirDegree': '9', 'windspeedKmph': '9', 'windspeedMiles': '5'}, {'DewPointC': '1', 'DewPointF': '33', 'FeelsLikeC': '9', 'FeelsLikeF': '49', 'HeatIndexC': '11', 'HeatIndexF': '52', 'WindChillC': '9', 'WindChillF': '49', 'WindGustKmph': '15', 'WindGustMiles': '9', 'chanceoffog': '0', 'chanceoffrost': '0', 'chanceofhightemp': '0', 'chanceofovercast': '0', 'chanceofrain': '0', 'chanceofremdry': '88', 'chanceofsnow': '0', 'chanceofsunshine': '89', 'chanceofthunder': '0', 'chanceofwindy': '0', 'cloudcover': '5', 'diffRad': '64.8', 'humidity': '48', 'precipInches': '0.0', 'precipMM': '0.0', 'pressure': '1031', 'pressureInches': '30', 'shortRad': '352.8', 'tempC': '11', 'tempF': '52', 'time': '1500', 'uvIndex': '1', 'visibility': '10', 'visibilityMiles': '6', 'weatherCode': '113', 'weatherDesc': [{'value': 'Sunny'}], 'weatherIconUrl': [{'value': ''}], 'winddir16Point': 'N', 'winddirDegree': '5', 'windspeedKmph': '13', 'windspeedMiles': '8'}, {'DewPointC': '2', 'DewPointF': '35', 'FeelsLikeC': '5', 'FeelsLikeF': '41', 'HeatIndexC': '8', 'HeatIndexF': '46', 'WindChillC': '5', 'WindChillF': '41', 'WindGustKmph': '27', 'WindGustMiles': '17', 'chanceoffog': '0', 'chanceoffrost': '0', 'chanceofhightemp': '0', 'chanceofovercast': '0', 'chanceofrain': '0', 'chanceofremdry': '92', 'chanceofsnow': '0', 'chanceofsunshine': '86', 'chanceofthunder': '0', 'chanceofwindy': '0', 'cloudcover': '4', 'diffRad': '39.9', 'humidity': '65', 'precipInches': '0.0', 'precipMM': '0.0', 'pressure': '1031', 'pressureInches': '30', 'shortRad': '192.9', 'tempC': '8', 'tempF': '46', 'time': '1800', 'uvIndex': '0', 'visibility': '10', 'visibilityMiles': '6', 'weatherCode': '113', 'weatherDesc': [{'value': 'Clear '}], 'weatherIconUrl': [{'value': ''}], 'winddir16Point': 'N', 'winddirDegree': '9', 'windspeedKmph': '19', 'windspeedMiles': '12'}, {'DewPointC': '-0', 'DewPointF': '32', 'FeelsLikeC': '5', 'FeelsLikeF': '41', 'HeatIndexC': '7', 'HeatIndexF': '45', 'WindChillC': '5', 'WindChillF': '41', 'WindGustKmph': '21', 'WindGustMiles': '13', 'chanceoffog': '0', 'chanceoffrost': '0', 'chanceofhightemp': '0', 'chanceofovercast': '0', 'chanceofrain': '0', 'chanceofremdry': '93', 'chanceofsnow': '0', 'chanceofsunshine': '87', 'chanceofthunder': '0', 'chanceofwindy': '0', 'cloudcover': '0', 'diffRad': '0.0', 'humidity': '58', 'precipInches': '0.0', 'precipMM': '0.0', 'pressure': '1031', 'pressureInches': '30', 'shortRad': '0.0', 'tempC': '7', 'tempF': '45', 'time': '2100', 'uvIndex': '0', 'visibility': '10', 'visibilityMiles': '6', 'weatherCode': '113', 'weatherDesc': [{'value': 'Clear '}], 'weatherIconUrl': [{'value': ''}], 'winddir16Point': 'NNE', 'winddirDegree': '16', 'windspeedKmph': '14', 'windspeedMiles': '9'}], 'maxtempC': '11', 'maxtempF': '52', 'mintempC': '6', 'mintempF': '42', 'sunHour': '9.6', 'totalSnow_cm': '0.0', 'uvIndex': '0'}, {'astronomy': [{'moon_illumination': '83', 'moon_phase': 'Waning Gibbous', 'moonrise': '10:13 PM', 'moonset': '10:14 AM', 'sunrise': '07:54 AM', 'sunset': '05:14 PM'}], 'avgtempC': '9', 'avgtempF': '48', 'date': '2025-01-18', 'hourly': [{'DewPointC': '-0', 'DewPointF': '31', 'FeelsLikeC': '4', 'FeelsLikeF': '40', 'HeatIndexC': '7', 'HeatIndexF': '45', 'WindChillC': '4', 'WindChillF': '40', 'WindGustKmph': '25', 'WindGustMiles': '16', 'chanceoffog': '0', 'chanceoffrost': '0', 'chanceofhightemp': '0', 'chanceofovercast': '0', 'chanceofrain': '0', 'chanceofremdry': '80', 'chanceofsnow': '0', 'chanceofsunshine': '89', 'chanceofthunder': '0', 'chanceofwindy': '0', 'cloudcover': '0', 'diffRad': '0.0', 'humidity': '57', 'precipInches': '0.0', 'precipMM': '0.0', 'pressure': '1030', 'pressureInches': '30', 'shortRad': '0.0', 'tempC': '7', 'tempF': '45', 'time': '0', 'uvIndex': '0', 'visibility': '10', 'visibilityMiles': '6', 'weatherCode': '113', 'weatherDesc': [{'value': 'Clear '}], 'weatherIconUrl': [{'value': ''}], 'winddir16Point': 'NNE', 'winddirDegree': '12', 'windspeedKmph': '17', 'windspeedMiles': '11'}, {'DewPointC': '-1', 'DewPointF': '31', 'FeelsLikeC': '5', 'FeelsLikeF': '40', 'HeatIndexC': '7', 'HeatIndexF': '45', 'WindChillC': '5', 'WindChillF': '40', 'WindGustKmph': '24', 'WindGustMiles': '15', 'chanceoffog': '0', 'chanceoffrost': '0', 'chanceofhightemp': '0', 'chanceofovercast': '0', 'chanceofrain': '0', 'chanceofremdry': '80', 'chanceofsnow': '0', 'chanceofsunshine': '93', 'chanceofthunder': '0', 'chanceofwindy': '0', 'cloudcover': '0', 'diffRad': '0.0', 'humidity': '57', 'precipInches': '0.0', 'precipMM': '0.0', 'pressure': '1029', 'pressureInches': '30', 'shortRad': '0.0', 'tempC': '7', 'tempF': '45', 'time': '300', 'uvIndex': '0', 'visibility': '10', 'visibilityMiles': '6', 'weatherCode': '113', 'weatherDesc': [{'value': 'Clear '}], 'weatherIconUrl': [{'value': ''}], 'winddir16Point': 'NNE', 'winddirDegree': '23', 'windspeedKmph': '16', 'windspeedMiles': '10'}, {'DewPointC': '-1', 'DewPointF': '31', 'FeelsLikeC': '5', 'FeelsLikeF': '40', 'HeatIndexC': '8', 'HeatIndexF': '46', 'WindChillC': '5', 'WindChillF': '40', 'WindGustKmph': '28', 'WindGustMiles': '18', 'chanceoffog': '0', 'chanceoffrost': '0', 'chanceofhightemp': '0', 'chanceofovercast': '0', 'chanceofrain': '0', 'chanceofremdry': '80', 'chanceofsnow': '0', 'chanceofsunshine': '92', 'chanceofthunder': '0', 'chanceofwindy': '0', 'cloudcover': '0', 'diffRad': '0.0', 'humidity': '56', 'precipInches': '0.0', 'precipMM': '0.0', 'pressure': '1028', 'pressureInches': '30', 'shortRad': '0.0', 'tempC': '8', 'tempF': '46', 'time': '600', 'uvIndex': '0', 'visibility': '10', 'visibilityMiles': '6', 'weatherCode': '113', 'weatherDesc': [{'value': 'Clear '}], 'weatherIconUrl': [{'value': ''}], 'winddir16Point': 'NNE', 'winddirDegree': '14', 'windspeedKmph': '18', 'windspeedMiles': '11'}, {'DewPointC': '-1', 'DewPointF': '30', 'FeelsLikeC': '5', 'FeelsLikeF': '41', 'HeatIndexC': '8', 'HeatIndexF': '46', 'WindChillC': '5', 'WindChillF': '41', 'WindGustKmph': '25', 'WindGustMiles': '15', 'chanceoffog': '0', 'chanceoffrost': '0', 'chanceofhightemp': '0', 'chanceofovercast': '0', 'chanceofrain': '0', 'chanceofremdry': '88', 'chanceofsnow': '0', 'chanceofsunshine': '89', 'chanceofthunder': '0', 'chanceofwindy': '0', 'cloudcover': '0', 'diffRad': '9.0', 'humidity': '52', 'precipInches': '0.0', 'precipMM': '0.0', 'pressure': '1027', 'pressureInches': '30', 'shortRad': '24.9', 'tempC': '8', 'tempF': '46', 'time': '900', 'uvIndex': '0', 'visibility': '10', 'visibilityMiles': '6', 'weatherCode': '113', 'weatherDesc': [{'value': 'Sunny'}], 'weatherIconUrl': [{'value': ''}], 'winddir16Point': 'NNE', 'winddirDegree': '14', 'windspeedKmph': '17', 'windspeedMiles': '11'}, {'DewPointC': '-2', 'DewPointF': '29', 'FeelsLikeC': '10', 'FeelsLikeF': '50', 'HeatIndexC': '11', 'HeatIndexF': '53', 'WindChillC': '10', 'WindChillF': '50', 'WindGustKmph': '15', 'WindGustMiles': '9', 'chanceoffog': '0', 'chanceoffrost': '0', 'chanceofhightemp': '0', 'chanceofovercast': '0', 'chanceofrain': '0', 'chanceofremdry': '82', 'chanceofsnow': '0', 'chanceofsunshine': '89', 'chanceofthunder': '0', 'chanceofwindy': '0', 'cloudcover': '18', 'diffRad': '36.4', 'humidity': '40', 'precipInches': '0.0', 'precipMM': '0.0', 'pressure': '1026', 'pressureInches': '30', 'shortRad': '191.2', 'tempC': '11', 'tempF': '53', 'time': '1200', 'uvIndex': '1', 'visibility': '10', 'visibilityMiles': '6', 'weatherCode': '113', 'weatherDesc': [{'value': 'Sunny'}], 'weatherIconUrl': [{'value': ''}], 'winddir16Point': 'N', 'winddirDegree': '11', 'windspeedKmph': '13', 'windspeedMiles': '8'}, {'DewPointC': '0', 'DewPointF': '33', 'FeelsLikeC': '11', 'FeelsLikeF': '51', 'HeatIndexC': '12', 'HeatIndexF': '54', 'WindChillC': '11', 'WindChillF': '51', 'WindGustKmph': '17', 'WindGustMiles': '11', 'chanceoffog': '0', 'chanceoffrost': '0', 'chanceofhightemp': '0', 'chanceofovercast': '0', 'chanceofrain': '0', 'chanceofremdry': '90', 'chanceofsnow': '0', 'chanceofsunshine': '89', 'chanceofthunder': '0', 'chanceofwindy': '0', 'cloudcover': '7', 'diffRad': '60.5', 'humidity': '44', 'precipInches': '0.0', 'precipMM': '0.0', 'pressure': '1023', 'pressureInches': '30', 'shortRad': '367.9', 'tempC': '12', 'tempF': '54', 'time': '1500', 'uvIndex': '1', 'visibility': '10', 'visibilityMiles': '6', 'weatherCode': '113', 'weatherDesc': [{'value': 'Sunny'}], 'weatherIconUrl': [{'value': ''}], 'winddir16Point': 'N', 'winddirDegree': '2', 'windspeedKmph': '14', 'windspeedMiles': '9'}, {'DewPointC': '-1', 'DewPointF': '31', 'FeelsLikeC': '6', 'FeelsLikeF': '44', 'HeatIndexC': '9', 'HeatIndexF': '48', 'WindChillC': '6', 'WindChillF': '44', 'WindGustKmph': '22', 'WindGustMiles': '14', 'chanceoffog': '0', 'chanceoffrost': '0', 'chanceofhightemp': '0', 'chanceofovercast': '0', 'chanceofrain': '0', 'chanceofremdry': '85', 'chanceofsnow': '0', 'chanceofsunshine': '86', 'chanceofthunder': '0', 'chanceofwindy': '0', 'cloudcover': '7', 'diffRad': '37.8', 'humidity': '51', 'precipInches': '0.0', 'precipMM': '0.0', 'pressure': '1025', 'pressureInches': '30', 'shortRad': '202.6', 'tempC': '9', 'tempF': '48', 'time': '1800', 'uvIndex': '0', 'visibility': '10', 'visibilityMiles': '6', 'weatherCode': '113', 'weatherDesc': [{'value': 'Clear '}], 'weatherIconUrl': [{'value': ''}], 'winddir16Point': 'NNE', 'winddirDegree': '24', 'windspeedKmph': '15', 'windspeedMiles': '9'}, {'DewPointC': '-2', 'DewPointF': '28', 'FeelsLikeC': '6', 'FeelsLikeF': '42', 'HeatIndexC': '8', 'HeatIndexF': '46', 'WindChillC': '6', 'WindChillF': '42', 'WindGustKmph': '19', 'WindGustMiles': '12', 'chanceoffog': '0', 'chanceoffrost': '0', 'chanceofhightemp': '0', 'chanceofovercast': '0', 'chanceofrain': '0', 'chanceofremdry': '90', 'chanceofsnow': '0', 'chanceofsunshine': '87', 'chanceofthunder': '0', 'chanceofwindy': '0', 'cloudcover': '9', 'diffRad': '0.0', 'humidity': '49', 'precipInches': '0.0', 'precipMM': '0.0', 'pressure': '1026', 'pressureInches': '30', 'shortRad': '0.0', 'tempC': '8', 'tempF': '46', 'time': '2100', 'uvIndex': '0', 'visibility': '10', 'visibilityMiles': '6', 'weatherCode': '113', 'weatherDesc': [{'value': 'Clear '}], 'weatherIconUrl': [{'value': ''}], 'winddir16Point': 'NNE', 'winddirDegree': '23', 'windspeedKmph': '12', 'windspeedMiles': '8'}], 'maxtempC': '12', 'maxtempF': '54', 'mintempC': '7', 'mintempF': '45', 'sunHour': '9.6', 'totalSnow_cm': '0.0', 'uvIndex': '0'}]}\"}}]}, 'usage': {'prompt_tokens': 134, 'completion_tokens': 25, 'total_tokens': 159}} \n",
      "\n"
     ]
    }
   ],
   "source": [
    "run_steps = project_client.agents.list_run_steps(run_id=run.id, thread_id=thread.id)\n",
    "\n",
    "print(f'Nr of run step(s): {len(run_steps[\"data\"])}\\n')\n",
    "i=0\n",
    "for rs in run_steps[\"data\"]:\n",
    "    i += 1\n",
    "    print(f\"Run step {i}: {rs}\", '\\n')"
   ]
  },
  {
   "cell_type": "markdown",
   "id": "944ec759-c053-4ab7-81aa-15cfa4961468",
   "metadata": {},
   "source": [
    "# START teardown"
   ]
  },
  {
   "cell_type": "code",
   "execution_count": 13,
   "id": "4067d9ab-2a20-4107-be1f-9ea5ccd19cc0",
   "metadata": {},
   "outputs": [
    {
     "name": "stdout",
     "output_type": "stream",
     "text": [
      "deleting trhead: {'id': 'thread_hxVmiq2cLKdl6wcU37bN79b1', 'object': 'thread', 'created_at': 1736982817, 'metadata': {}, 'tool_resources': {}}...\n"
     ]
    },
    {
     "data": {
      "text/plain": [
       "{'id': 'thread_hxVmiq2cLKdl6wcU37bN79b1', 'object': 'thread.deleted', 'deleted': True}"
      ]
     },
     "execution_count": 13,
     "metadata": {},
     "output_type": "execute_result"
    }
   ],
   "source": [
    "print(f\"deleting trhead: {thread}...\")\n",
    "project_client.agents.delete_thread(thread.id)"
   ]
  },
  {
   "cell_type": "code",
   "execution_count": 14,
   "id": "48399858-16e3-4b7c-a13a-aa3ed8320539",
   "metadata": {},
   "outputs": [
    {
     "name": "stdout",
     "output_type": "stream",
     "text": [
      "1 agent(s) will now be deleted\n",
      "\n",
      "1 - Agent openapi-agent has been deleted\n"
     ]
    }
   ],
   "source": [
    "# Delete all agents\n",
    "\n",
    "print(f\"{len(project_client.agents.list_agents()['data'])} agent(s) will now be deleted\")\n",
    "\n",
    "i=0\n",
    "for pca in project_client.agents.list_agents()['data']:\n",
    "    i += 1\n",
    "    project_client.agents.delete_agent(pca.id)\n",
    "    print(f\"\\n{i} - Agent {pca.name} has been deleted\")"
   ]
  },
  {
   "cell_type": "markdown",
   "id": "c8cc2b04-a0b3-45ee-9066-4306e16511f9",
   "metadata": {},
   "source": [
    "# HIC SUNT LEONES"
   ]
  }
 ],
 "metadata": {
  "kernelspec": {
   "display_name": "aaas",
   "language": "python",
   "name": "aaas"
  },
  "language_info": {
   "codemirror_mode": {
    "name": "ipython",
    "version": 3
   },
   "file_extension": ".py",
   "mimetype": "text/x-python",
   "name": "python",
   "nbconvert_exporter": "python",
   "pygments_lexer": "ipython3",
   "version": "3.12.8"
  }
 },
 "nbformat": 4,
 "nbformat_minor": 5
}
