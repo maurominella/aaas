{
 "cells": [
  {
   "cell_type": "markdown",
   "id": "6aff6e2d-97b4-441c-b548-2557bafae055",
   "metadata": {},
   "source": [
    "# Get an authenticated AzureOpenAI client\n",
    "Your Azure AI Foundry project may have one or more OpenAI models deployed that support chat completions. Use the code below to get an already authenticated AzureOpenAI from the openai package, and execute a chat completions call.<br/><br/>\n",
    "**IMPORTANT**: THE INTERACTIVE USER MUST HAVE THE ```Cognitive Services Contributor``` ROLE ON THE AZURE AI SERVICES SERVICE.\n",
    "<br/><br/>\n",
    "First, install the package:\n",
    "```\n",
    "    pip install openai\n",
    "```\n",
    "Then run the code below. Replace **gpt-4o** with your model deployment name, and update the api_version value with one found in the \"Data plane - inference\" row in this table."
   ]
  },
  {
   "cell_type": "code",
   "execution_count": 2,
   "id": "98d9cc9d-cbef-4b35-a4a3-84802dd4ee06",
   "metadata": {},
   "outputs": [
    {
     "name": "stdout",
     "output_type": "stream",
     "text": [
      "AZURE_OPENAI_ENDPOINT: <https://mmoaiscus-01.openai.azure.com/>\n"
     ]
    }
   ],
   "source": [
    "import os\n",
    "from dotenv import load_dotenv # requires python-dotenv\n",
    "# import logging\n",
    "# logging.basicConfig(level=logging.INFO) # Configure logging \n",
    "\n",
    "load_dotenv(\"./../config/credentials_my.env\")\n",
    "model_name =  \"gpt-4o\"\n",
    "\n",
    "print(f'Project Connection String: <...{os.environ[\"PROJECT_CONNECTION_STRING\"][-30:]}>')"
   ]
  },
  {
   "cell_type": "code",
   "execution_count": 2,
   "id": "5a9abb62-b855-402f-9e22-583ffe6bf8cb",
   "metadata": {},
   "outputs": [
    {
     "data": {
      "text/plain": [
       "{'subscription_id': 'eca2eddb-0f0c-4351-a634-52751499eeea',\n",
       " 'resource_group_name': 'mmai04-rg',\n",
       " 'project_name': 'mmai-hub04-prj01-fvye'}"
      ]
     },
     "execution_count": 2,
     "metadata": {},
     "output_type": "execute_result"
    }
   ],
   "source": [
    "from azure.ai.projects import AIProjectClient\n",
    "from azure.ai.projects.models import (\n",
    "    FileSearchTool,\n",
    ")\n",
    "from azure.identity import DefaultAzureCredential\n",
    "\n",
    "project_client = AIProjectClient.from_connection_string(\n",
    "    credential=DefaultAzureCredential(), conn_str=os.environ[\"PROJECT_CONNECTION_STRING\"]\n",
    ")\n",
    "\n",
    "project_client.scope"
   ]
  },
  {
   "cell_type": "code",
   "execution_count": 3,
   "id": "221383a3-d0bd-4bb1-a989-2be0fb7a2ece",
   "metadata": {},
   "outputs": [
    {
     "name": "stdout",
     "output_type": "stream",
     "text": [
      "There are **5,280 feet** in a mile.\n"
     ]
    }
   ],
   "source": [
    "aoai_client = project_client.inference.get_azure_openai_client(api_version=\"2024-06-01\")\n",
    "\n",
    "response = aoai_client.chat.completions.create(\n",
    "    model=model_name,\n",
    "    messages=[\n",
    "        {\n",
    "            \"role\": \"user\",\n",
    "            \"content\": \"How many feet are in a mile?\",\n",
    "        },\n",
    "    ],\n",
    ")\n",
    "\n",
    "print(response.choices[0].message.content)"
   ]
  },
  {
   "cell_type": "markdown",
   "id": "c8cc2b04-a0b3-45ee-9066-4306e16511f9",
   "metadata": {},
   "source": [
    "# HIC SUNT LEONES"
   ]
  }
 ],
 "metadata": {
  "kernelspec": {
   "display_name": "aaas",
   "language": "python",
   "name": "aaas"
  },
  "language_info": {
   "codemirror_mode": {
    "name": "ipython",
    "version": 3
   },
   "file_extension": ".py",
   "mimetype": "text/x-python",
   "name": "python",
   "nbconvert_exporter": "python",
   "pygments_lexer": "ipython3",
   "version": "3.12.8"
  }
 },
 "nbformat": 4,
 "nbformat_minor": 5
}
