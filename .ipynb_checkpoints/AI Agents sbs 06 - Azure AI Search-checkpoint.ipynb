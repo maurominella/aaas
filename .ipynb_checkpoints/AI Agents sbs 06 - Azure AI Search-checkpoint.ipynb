{
 "cells": [
  {
   "attachments": {},
   "cell_type": "markdown",
   "id": "6aff6e2d-97b4-441c-b548-2557bafae055",
   "metadata": {},
   "source": [
    "# [Create Agent with Azure AI Search](https://learn.microsoft.com/en-us/python/api/overview/azure/ai-projects-readme?view=azure-python-preview#create-agent-with-azure-ai-search)\n",
    "Azure AI Search is an enterprise search system for high-performance applications. It integrates with Azure OpenAI Service and Azure Machine Learning, offering advanced search technologies like vector search and full-text search. Ideal for knowledge base insights, information discovery, and automation.<br/><br/>\n",
    "**IMPORTANT**: in order to create the index leveraging the \"Import and Vectorize\" wizard, the `Storage Blob Data Contributor` role on the Storage Account is needed for the Azure AI Managed Identity."
   ]
  },
  {
   "cell_type": "markdown",
   "id": "a59136b0-7233-41a3-a2c7-104239de7990",
   "metadata": {},
   "source": [
    "## Create a connection to Azure AI Search using CLI\n",
    "\n",
    "1. First of all, let's check which connections we have, associated to our project mmai-hub04-prj01-fvye:\n",
    "   ```az ml connection list --resource-group mmai04-rg --workspace-name mmai-hub04-prj01-fvye```\n",
    "3. Now, create a new yaml file with the configuration for Azure AI Search, using key-based or key-less (as in this case) authentication:\n",
    "```name: my_project_acs_connection_credentialless\n",
    "type: azure_ai_search\n",
    "endpoint: https://mmai-hub04-ai-search-fvye.search.windows.net\n",
    "metadata:\n",
    "  ApiType: Azure\n",
    "  location: East US\n",
    "  ResourceId: /subscriptions/eca2eddb-0f0c-4351-a634-52751499eeea/resourceGroups/mmai04-rg/providers/Microsoft.Search/searchServices/mmai-hub04-ai-search-fvye\n",
    "  ```\n",
    "\n",
    "3. Run the command `az ml connection create --file aisearchconnection.yml --resource-group mmai04-rg --workspace-name mmai-hub04-prj01-fvye`"
   ]
  },
  {
   "cell_type": "code",
   "execution_count": null,
   "id": "98d9cc9d-cbef-4b35-a4a3-84802dd4ee06",
   "metadata": {},
   "outputs": [],
   "source": [
    "import os\n",
    "from dotenv import load_dotenv # requires python-dotenv\n",
    "# import logging\n",
    "# logging.basicConfig(level=logging.INFO) # Configure logging \n",
    "\n",
    "load_dotenv(\"./../config/credentials_my.env\")\n",
    "model_name =  \"gpt-4o-0513\" # https://learn.microsoft.com/en-us/azure/ai-services/agents/how-to/tools/azure-ai-search?tabs=azurecli%2Cpython&pivots=overview-azure-ai-search\n",
    "index_name =  \"ms-surface-specs\"\n",
    "\n",
    "print(f'Project Connection String: <...{os.environ[\"PROJECT_CONNECTION_STRING\"][-30:]}>')"
   ]
  },
  {
   "cell_type": "code",
   "execution_count": null,
   "id": "5a9abb62-b855-402f-9e22-583ffe6bf8cb",
   "metadata": {},
   "outputs": [],
   "source": [
    "from azure.ai.projects import AIProjectClient\n",
    "from azure.ai.projects.models import AzureAISearchTool # <<<<<<<<<<<<<<< SPECIFIC FOR AZURE AI SEARCH\n",
    "from azure.identity import DefaultAzureCredential\n",
    "\n",
    "project_client = AIProjectClient.from_connection_string(\n",
    "    credential=DefaultAzureCredential(), conn_str=os.environ[\"PROJECT_CONNECTION_STRING\"]\n",
    ")\n",
    "\n",
    "project_client.scope"
   ]
  },
  {
   "cell_type": "code",
   "execution_count": null,
   "id": "7f45388f-98a6-463c-a163-fbff707c5163",
   "metadata": {},
   "outputs": [],
   "source": [
    "conn_list = project_client.connections.list()\n",
    "conn_id = \"\"\n",
    "for conn in conn_list:    \n",
    "    if conn.connection_type == \"CognitiveSearch\":\n",
    "        print(f\">>>>>>> AI SEARCH FOUND: {conn}\")\n",
    "        conn_id = conn.id\n",
    "    else:\n",
    "        print(conn)"
   ]
  },
  {
   "cell_type": "code",
   "execution_count": null,
   "id": "39c9c299-d540-4d97-bf96-ef6bac3f4fe4",
   "metadata": {},
   "outputs": [],
   "source": [
    "conn_id"
   ]
  },
  {
   "cell_type": "code",
   "execution_count": null,
   "id": "db6d8143-2d9b-4454-81eb-7e4bf91523d3",
   "metadata": {},
   "outputs": [],
   "source": [
    "# Initialize agent AI search tool and add the search index connection id\n",
    "ai_search = AzureAISearchTool(index_connection_id=conn_id, index_name=index_name)\n",
    "print(f\"ai_search.definitions: {ai_search.definitions}\")\n",
    "print(f\"ai_search.resources: {ai_search.resources}\")"
   ]
  },
  {
   "cell_type": "code",
   "execution_count": null,
   "id": "c2f4c841-42aa-4245-9bdd-a5811b9f424a",
   "metadata": {},
   "outputs": [],
   "source": [
    "# Create agent with AI search tool and process assistant run\n",
    "agent = project_client.agents.create_agent(\n",
    "    model=model_name,\n",
    "    name=\"my-assistant\",\n",
    "    instructions=\"You are a helpful assistant\",\n",
    "    tools=ai_search.definitions,\n",
    "    tool_resources=ai_search.resources,\n",
    "    headers={\"x-ms-enable-preview\": \"true\"},\n",
    ")\n",
    "\n",
    "agent.items"
   ]
  },
  {
   "cell_type": "code",
   "execution_count": null,
   "id": "06f80125-1252-4060-bdf5-3b52acc42a47",
   "metadata": {},
   "outputs": [],
   "source": [
    "# Create thread for communication\n",
    "thread = project_client.agents.create_thread()\n",
    "print(f\"Created thread: {thread}\")"
   ]
  },
  {
   "cell_type": "code",
   "execution_count": null,
   "id": "1c138ab8-205f-4c82-a575-f915afd45e85",
   "metadata": {},
   "outputs": [],
   "source": [
    "# Create message to thread\n",
    "message = project_client.agents.create_message(\n",
    "    thread_id=thread.id, role=\"user\", content=\"What kind of keys does the the MS Surface Book keyboard include?\" # \"How does wikipedia explain Euler's Identity?\"\n",
    ")\n",
    "print(f\"Created message: {message}\")"
   ]
  },
  {
   "cell_type": "code",
   "execution_count": null,
   "id": "8604f495-2519-42a7-a19a-026538cf2c2c",
   "metadata": {},
   "outputs": [],
   "source": [
    "# Create and process agent run in thread with tools\n",
    "run = project_client.agents.create_and_process_run(thread_id=thread.id, assistant_id=agent.id)\n",
    "print(f\"Run finished with status: {run.status}. Run: {run}\")\n",
    "\n",
    "if run.status == \"failed\":\n",
    "    # Check if you got \"Rate limit is exceeded.\", then you want to get more quota\n",
    "    print(f\"Run failed: {run.last_error}\")"
   ]
  },
  {
   "cell_type": "code",
   "execution_count": null,
   "id": "bd778151-0cbb-4216-8de9-e4dee771d546",
   "metadata": {},
   "outputs": [],
   "source": [
    "# Fetch and log all messages\n",
    "messages = project_client.agents.list_messages(thread_id=thread.id)\n",
    "messages"
   ]
  },
  {
   "cell_type": "code",
   "execution_count": null,
   "id": "0d3222fb-0f69-43ec-8762-65cc8242df67",
   "metadata": {},
   "outputs": [],
   "source": [
    "# Get the last message from the sender\n",
    "last_msg = messages.get_last_text_message_by_sender(\"assistant\")\n",
    "if last_msg:\n",
    "    print(f\"Last Message: {last_msg.text.value}\")"
   ]
  },
  {
   "cell_type": "code",
   "execution_count": null,
   "id": "f7a46d95-6368-428e-8335-761e3661e7b1",
   "metadata": {},
   "outputs": [],
   "source": [
    "# Print citations from the messages\n",
    "for annotation in messages.file_citation_annotations:\n",
    "    print(annotation[\"text\"], annotation[\"file_citation\"][\"file_id\"])"
   ]
  },
  {
   "cell_type": "code",
   "execution_count": null,
   "id": "cd551092-22cb-465c-baa3-ff58823fbb72",
   "metadata": {},
   "outputs": [],
   "source": [
    "run_steps = project_client.agents.list_run_steps(run_id=run.id, thread_id=thread.id)\n",
    "run_steps_data = run_steps['data']\n",
    "print(f\"Last run step detail: {run_steps_data}\")"
   ]
  },
  {
   "cell_type": "code",
   "execution_count": null,
   "id": "a13a57be-292d-4008-b3de-68c9878b2980",
   "metadata": {},
   "outputs": [],
   "source": [
    "for rs in run_steps[\"data\"]:\n",
    "    print(rs, '\\n')"
   ]
  },
  {
   "cell_type": "markdown",
   "id": "944ec759-c053-4ab7-81aa-15cfa4961468",
   "metadata": {},
   "source": [
    "# START teardown"
   ]
  },
  {
   "cell_type": "code",
   "execution_count": null,
   "id": "ec6c51f5-1c91-4502-b504-9f1212bb2086",
   "metadata": {},
   "outputs": [],
   "source": [
    "project_client.agents.list_agents()['data']"
   ]
  },
  {
   "cell_type": "code",
   "execution_count": null,
   "id": "48399858-16e3-4b7c-a13a-aa3ed8320539",
   "metadata": {},
   "outputs": [],
   "source": [
    "# Delete all agents\n",
    "for pca in project_client.agents.list_agents()['data']:\n",
    "    print(f\"Deleting agent {pca.name} ({pca.id})...\")\n",
    "    project_client.agents.delete_agent(pca.id)"
   ]
  },
  {
   "cell_type": "markdown",
   "id": "c8cc2b04-a0b3-45ee-9066-4306e16511f9",
   "metadata": {},
   "source": [
    "# HIC SUNT LEONES"
   ]
  }
 ],
 "metadata": {
  "kernelspec": {
   "display_name": "aaas",
   "language": "python",
   "name": "aaas"
  },
  "language_info": {
   "codemirror_mode": {
    "name": "ipython",
    "version": 3
   },
   "file_extension": ".py",
   "mimetype": "text/x-python",
   "name": "python",
   "nbconvert_exporter": "python",
   "pygments_lexer": "ipython3",
   "version": "3.12.8"
  }
 },
 "nbformat": 4,
 "nbformat_minor": 5
}
