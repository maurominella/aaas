{
 "cells": [
  {
   "cell_type": "code",
   "execution_count": 1,
   "id": "98d9cc9d-cbef-4b35-a4a3-84802dd4ee06",
   "metadata": {},
   "outputs": [
    {
     "name": "stdout",
     "output_type": "stream",
     "text": [
      "Project Connection String: <eastus.api.azureml.ms;eca2eddb>\n"
     ]
    }
   ],
   "source": [
    "import os\n",
    "from dotenv import load_dotenv # requires python-dotenv\n",
    "load_dotenv(\"./../config/credentials_my.env\")\n",
    "\n",
    "print(f'Project Connection String: <{os.environ[\"PROJECT_CONNECTION_STRING\"][:30]}>')"
   ]
  },
  {
   "cell_type": "code",
   "execution_count": 2,
   "id": "6ec19c8c-d4a4-469a-9cb6-596c17bf7ebb",
   "metadata": {},
   "outputs": [],
   "source": [
    "import os\n",
    "from azure.ai.projects import AIProjectClient\n",
    "from azure.ai.projects.models import FileSearchTool, FilePurpose\n",
    "from azure.identity import DefaultAzureCredential"
   ]
  },
  {
   "cell_type": "code",
   "execution_count": 3,
   "id": "3150d6cf-4fb1-41b2-b64b-84b0d0e2f5ef",
   "metadata": {},
   "outputs": [],
   "source": [
    "project_client = AIProjectClient.from_connection_string(\n",
    "    credential=DefaultAzureCredential(), conn_str=os.environ[\"PROJECT_CONNECTION_STRING\"]\n",
    ")"
   ]
  },
  {
   "cell_type": "code",
   "execution_count": 4,
   "id": "51d6bf3b-f91b-4eaa-b0b0-99bafb0e8d16",
   "metadata": {},
   "outputs": [],
   "source": [
    "file = project_client.agents.upload_file_and_poll(\n",
    "    file_path=\"./product_info_1.md\", purpose=FilePurpose.AGENTS\n",
    ")"
   ]
  },
  {
   "cell_type": "code",
   "execution_count": 6,
   "id": "42acb26e-cb01-41e4-84a4-4dab2b249cfc",
   "metadata": {},
   "outputs": [],
   "source": [
    "from azure.ai.projects.models import CodeInterpreterTool\n",
    "\n",
    "code_interpreter = CodeInterpreterTool()\n",
    "\n",
    "agent = project_client.agents.create_agent(\n",
    "    model=\"gpt-4o-mini\", # gpt-4o-mini or gpt-4o\n",
    "    name=\"my-agent\",\n",
    "    instructions=\"You are a helpful agent\",\n",
    "    tools=code_interpreter.definitions,\n",
    "    tool_resources=code_interpreter.resources,\n",
    "        \n",
    ")"
   ]
  },
  {
   "cell_type": "code",
   "execution_count": null,
   "id": "0a545b5e-d7a5-4793-8b4e-b9f33ec1b5a7",
   "metadata": {},
   "outputs": [],
   "source": [
    "_, asset_uri = project_client.upload_file(\"./README.md\")\n",
    "\n",
    "asset_uri"
   ]
  },
  {
   "cell_type": "code",
   "execution_count": 7,
   "id": "4156c4bd-d43d-40f5-88e8-25778f9a015c",
   "metadata": {},
   "outputs": [
    {
     "data": {
      "text/plain": [
       "<bound method _MyMutableMapping.items of {'id': 'asst_ob4c7YS8KrtRO49PQIWEhZ7C', 'object': 'assistant', 'created_at': 1735515217, 'name': 'my-agent', 'description': None, 'model': 'gpt-4o-mini', 'instructions': 'You are a helpful agent', 'tools': [{'type': 'code_interpreter'}], 'top_p': 1.0, 'temperature': 1.0, 'tool_resources': {'code_interpreter': {'file_ids': []}}, 'metadata': {}, 'response_format': 'auto'}>"
      ]
     },
     "execution_count": 7,
     "metadata": {},
     "output_type": "execute_result"
    }
   ],
   "source": [
    "agent.items"
   ]
  },
  {
   "cell_type": "code",
   "execution_count": null,
   "id": "c17ca6bb-8944-413b-829c-5cb846c320c5",
   "metadata": {},
   "outputs": [],
   "source": []
  },
  {
   "cell_type": "code",
   "execution_count": null,
   "id": "a4aa6cb4-a342-4408-a5f4-db379640b068",
   "metadata": {},
   "outputs": [],
   "source": []
  },
  {
   "cell_type": "code",
   "execution_count": null,
   "id": "e5944322-0be3-4ada-a4b4-ed6f4d5d12a4",
   "metadata": {},
   "outputs": [],
   "source": []
  },
  {
   "cell_type": "code",
   "execution_count": null,
   "id": "2bb0c779-e84f-45b2-b605-9097d9823748",
   "metadata": {},
   "outputs": [],
   "source": []
  },
  {
   "cell_type": "code",
   "execution_count": null,
   "id": "3de90002-cacd-45e6-95ea-dc9e8ff1872c",
   "metadata": {},
   "outputs": [],
   "source": []
  },
  {
   "cell_type": "code",
   "execution_count": null,
   "id": "4907558d-ee9f-4a35-9f2c-e1ae61d29514",
   "metadata": {},
   "outputs": [],
   "source": []
  },
  {
   "cell_type": "code",
   "execution_count": null,
   "id": "dba5695f-ce83-444d-95a2-b488e61a8931",
   "metadata": {},
   "outputs": [],
   "source": []
  },
  {
   "cell_type": "code",
   "execution_count": null,
   "id": "63f63453-f447-4567-ad30-38027e8412bd",
   "metadata": {},
   "outputs": [],
   "source": []
  },
  {
   "cell_type": "code",
   "execution_count": null,
   "id": "c8526b16-9237-47b0-8f2f-392b18e10d61",
   "metadata": {},
   "outputs": [],
   "source": []
  },
  {
   "cell_type": "code",
   "execution_count": null,
   "id": "c3d28479-a357-4ffe-b6af-d6256736ef96",
   "metadata": {},
   "outputs": [],
   "source": []
  },
  {
   "cell_type": "code",
   "execution_count": null,
   "id": "ccef8254-2906-4fae-8768-bfeeab694a27",
   "metadata": {},
   "outputs": [],
   "source": []
  },
  {
   "cell_type": "code",
   "execution_count": null,
   "id": "5a9abb62-b855-402f-9e22-583ffe6bf8cb",
   "metadata": {},
   "outputs": [],
   "source": [
    "from azure.ai.projects import AIProjectClient\n",
    "from azure.identity import DefaultAzureCredential\n",
    "\n",
    "project_client = AIProjectClient.from_connection_string(\n",
    "    credential=DefaultAzureCredential(), conn_str=os.environ[\"PROJECT_CONNECTION_STRING\"]\n",
    ")\n",
    "\n",
    "project_client.scope"
   ]
  },
  {
   "cell_type": "code",
   "execution_count": null,
   "id": "620acc5d-d1dc-4515-bb9f-67d3a7f4ebd3",
   "metadata": {},
   "outputs": [],
   "source": [
    "from azure.ai.projects.models import CodeInterpreterTool\n",
    "\n",
    "code_interpreter = CodeInterpreterTool()\n",
    "\n",
    "print(f\"Code interpreter definitions: {code_interpreter.definitions}\")\n",
    "print(f\"Code interpreter resources: {code_interpreter.resources}\")\n",
    "print(f\"Code interpreter file_ids: {code_interpreter.file_ids}\")"
   ]
  },
  {
   "cell_type": "code",
   "execution_count": null,
   "id": "be53bb45-87fe-46a2-afb5-925881baf673",
   "metadata": {},
   "outputs": [],
   "source": [
    "agent = project_client.agents.create_agent(\n",
    "    model=\"gpt-4o-mini\", # gpt-4o-mini or gpt-4o\n",
    "    name=\"my-agent\",\n",
    "    instructions=\"You are a helpful assistant\",\n",
    "    tools=code_interpreter.definitions,\n",
    "    tool_resources=code_interpreter.resources        \n",
    ")\n",
    "\n",
    "agent.items"
   ]
  },
  {
   "cell_type": "code",
   "execution_count": null,
   "id": "1ecf043f-7edd-4e07-b7f0-3c8c259b63c8",
   "metadata": {},
   "outputs": [],
   "source": [
    "#upload a file\n",
    "from azure.ai.projects.models import FilePurpose\n",
    "file = project_client.agents.upload_file(file_path='./README.md', purpose=\"assistants\") # or FilePurpose.AGENTS\n",
    "print(f\"Uploaded file, file ID: {file.id}\")"
   ]
  },
  {
   "cell_type": "code",
   "execution_count": 8,
   "id": "1ff42510-0731-4119-beb8-e586bf7677d3",
   "metadata": {},
   "outputs": [
    {
     "name": "stdout",
     "output_type": "stream",
     "text": [
      "Deleting agent my-agent (asst_ob4c7YS8KrtRO49PQIWEhZ7C)...\n"
     ]
    }
   ],
   "source": [
    "# Delete all agents\n",
    "for pca in project_client.agents.list_agents()['data']:\n",
    "    print(f\"Deleting agent {pca.name} ({pca.id})...\")\n",
    "    project_client.agents.delete_agent(pca.id)"
   ]
  }
 ],
 "metadata": {
  "kernelspec": {
   "display_name": "aaas",
   "language": "python",
   "name": "aaas"
  },
  "language_info": {
   "codemirror_mode": {
    "name": "ipython",
    "version": 3
   },
   "file_extension": ".py",
   "mimetype": "text/x-python",
   "name": "python",
   "nbconvert_exporter": "python",
   "pygments_lexer": "ipython3",
   "version": "3.12.8"
  }
 },
 "nbformat": 4,
 "nbformat_minor": 5
}
