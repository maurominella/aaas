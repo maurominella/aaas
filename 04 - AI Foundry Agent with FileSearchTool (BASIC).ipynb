{
 "cells": [
  {
   "cell_type": "markdown",
   "id": "cbcc9ea8-96f5-477b-ae8d-f2e01c0e3e14",
   "metadata": {},
   "source": [
    "# Constants"
   ]
  },
  {
   "cell_type": "code",
   "execution_count": 1,
   "id": "98d9cc9d-cbef-4b35-a4a3-84802dd4ee06",
   "metadata": {},
   "outputs": [
    {
     "name": "stdout",
     "output_type": "stream",
     "text": [
      "Project Connection String: <...mai04-rg;mmai-hub04-prj01-fvye>\n"
     ]
    }
   ],
   "source": [
    "import os\n",
    "from dotenv import load_dotenv # requires python-dotenv\n",
    "# import logging\n",
    "# logging.basicConfig(level=logging.INFO) # Configure logging \n",
    "\n",
    "load_dotenv(\"./../config/credentials_my.env\")\n",
    "model_name =  \"gpt-4\"\n",
    "project_connection_string = os.environ[\"PROJECT_CONNECTION_STRING\"]\n",
    "\n",
    "print(f'Project Connection String: <...{project_connection_string[-30:]}>')"
   ]
  },
  {
   "cell_type": "markdown",
   "id": "ae58a6b5-3ef4-4933-b6b5-7e7583dac3fc",
   "metadata": {},
   "source": [
    "# Create AI Foundry Project Client"
   ]
  },
  {
   "cell_type": "code",
   "execution_count": 2,
   "id": "5a9abb62-b855-402f-9e22-583ffe6bf8cb",
   "metadata": {},
   "outputs": [
    {
     "data": {
      "text/plain": [
       "{'subscription_id': 'eca2eddb-0f0c-4351-a634-52751499eeea',\n",
       " 'resource_group_name': 'mmai04-rg',\n",
       " 'project_name': 'mmai-hub04-prj01-fvye'}"
      ]
     },
     "execution_count": 2,
     "metadata": {},
     "output_type": "execute_result"
    }
   ],
   "source": [
    "from azure.ai.projects import AIProjectClient\n",
    "from azure.ai.projects.models import (\n",
    "    FileSearchTool,\n",
    ")\n",
    "from azure.identity import DefaultAzureCredential\n",
    "\n",
    "project_client = AIProjectClient.from_connection_string(\n",
    "    credential=DefaultAzureCredential(), conn_str=project_connection_string\n",
    ")\n",
    "\n",
    "project_client.scope"
   ]
  },
  {
   "cell_type": "markdown",
   "id": "7c0231d0-ec4f-4cd8-af78-586bd8ca165a",
   "metadata": {},
   "source": [
    "# Check if we have any files already on Azure AI Foundry\n",
    "If needed, we may delete them using the cells at the bottom of this notebook"
   ]
  },
  {
   "cell_type": "code",
   "execution_count": 3,
   "id": "221383a3-d0bd-4bb1-a989-2be0fb7a2ece",
   "metadata": {},
   "outputs": [
    {
     "data": {
      "text/plain": [
       "[]"
      ]
     },
     "execution_count": 3,
     "metadata": {},
     "output_type": "execute_result"
    }
   ],
   "source": [
    "project_client.agents.list_files()['data']"
   ]
  },
  {
   "cell_type": "markdown",
   "id": "bc5695ad-7bcf-4e3d-95bc-c5fe4e42b72d",
   "metadata": {},
   "source": [
    "# Upload file(s) to search into"
   ]
  },
  {
   "cell_type": "code",
   "execution_count": 4,
   "id": "75ccbead-5635-4b7a-b8b1-980ef2da02f1",
   "metadata": {},
   "outputs": [
    {
     "name": "stdout",
     "output_type": "stream",
     "text": [
      "Uploaded file: {'object': 'file', 'id': 'assistant-zADxredP0oxMQQGsHwR6cOcq', 'purpose': 'assistants', 'filename': 'product_info_1.md', 'bytes': 10999, 'created_at': 1737281181, 'status': 'processed', 'status_details': None}\n"
     ]
    }
   ],
   "source": [
    "file = project_client.agents.upload_file_and_poll(file_path=\"./product_info_1.md\", purpose=\"assistants\")\n",
    "print(f\"Uploaded file: {file}\")"
   ]
  },
  {
   "cell_type": "markdown",
   "id": "13e70849-afce-4cf3-8a07-9840d65d12f8",
   "metadata": {},
   "source": [
    "# Create a vector store to vectorize file(s)"
   ]
  },
  {
   "cell_type": "code",
   "execution_count": 5,
   "id": "9a848220-84d9-4f0d-a8d2-59cb9c1b59d0",
   "metadata": {},
   "outputs": [
    {
     "name": "stdout",
     "output_type": "stream",
     "text": [
      "Created vector store <{'id': 'vs_X2aflqg4DzzvhHhEjpgID5Q9', 'object': 'vector_store', 'name': 'my_vectorstore', 'status': 'completed', 'usage_bytes': 17143, 'created_at': 1737281183, 'file_counts': {'in_progress': 0, 'completed': 1, 'failed': 0, 'cancelled': 0, 'total': 1}, 'metadata': {}, 'expires_after': None, 'expires_at': None, 'last_active_at': 1737281183}>\n",
      "\n",
      "...and uploaded file \"product_info_1.md\".\n"
     ]
    }
   ],
   "source": [
    "vector_store = project_client.agents.create_vector_store_and_poll(file_ids=[file.id], name=\"my_vectorstore\")\n",
    "print(f'Created vector store <{vector_store}>\\n\\n...and uploaded file \"{file.filename}\".')"
   ]
  },
  {
   "cell_type": "markdown",
   "id": "80675f20-b8ad-4847-9c09-947db58d7e1c",
   "metadata": {},
   "source": [
    "# Create file search tool with resources followed by creating agent"
   ]
  },
  {
   "cell_type": "code",
   "execution_count": 6,
   "id": "43843f1b-03c9-4693-b8bc-0f01ed830b16",
   "metadata": {},
   "outputs": [
    {
     "name": "stdout",
     "output_type": "stream",
     "text": [
      "file_search.definitions: [{'type': 'file_search'}]\n",
      "file_search.resources: {'file_search': {'vector_store_ids': ['vs_X2aflqg4DzzvhHhEjpgID5Q9']}}\n"
     ]
    }
   ],
   "source": [
    "file_search_tool = FileSearchTool(vector_store_ids=[vector_store.id])\n",
    "\n",
    "print(f\"file_search.definitions: {file_search_tool.definitions}\")\n",
    "print(f\"file_search.resources: {file_search_tool.resources}\")"
   ]
  },
  {
   "cell_type": "markdown",
   "id": "d61b4a06-f13d-4eb6-9004-3dac76ffa998",
   "metadata": {},
   "source": [
    "# Create AI Foundry Agent"
   ]
  },
  {
   "cell_type": "code",
   "execution_count": 7,
   "id": "d96936bc-7f5e-4950-a86d-d702cd0d68a8",
   "metadata": {},
   "outputs": [
    {
     "name": "stdout",
     "output_type": "stream",
     "text": [
      "Created agent, ID: asst_M5FwpTjyuRnmnFbV9Wq0jxLG\n"
     ]
    }
   ],
   "source": [
    "agent = project_client.agents.create_agent(\n",
    "    model=model_name,\n",
    "    name=\"file-agent\",\n",
    "    instructions=\"Hello, you are helpful agent that can search information from uploaded files\",\n",
    "    tools=file_search_tool.definitions,\n",
    "    tool_resources=file_search_tool.resources,\n",
    ")\n",
    "\n",
    "print(f\"Created agent, ID: {agent.id}\")"
   ]
  },
  {
   "cell_type": "markdown",
   "id": "8303905a-4c41-48a3-bec8-41f334ce205f",
   "metadata": {},
   "source": [
    "# Create the thread and attach a new message to it"
   ]
  },
  {
   "cell_type": "code",
   "execution_count": 8,
   "id": "530e6bab-f562-4af7-b135-6ad06074d156",
   "metadata": {},
   "outputs": [
    {
     "name": "stdout",
     "output_type": "stream",
     "text": [
      "Created thread: {'id': 'thread_MI1ycGHSwqCvrxSomNDuGxBA', 'object': 'thread', 'created_at': 1737281186, 'metadata': {}, 'tool_resources': {}}\n",
      "\n",
      "Created message: {'id': 'msg_fAYrT3IxlJvpRnBuEgvM2Udz', 'object': 'thread.message', 'created_at': 1737281186, 'assistant_id': None, 'thread_id': 'thread_MI1ycGHSwqCvrxSomNDuGxBA', 'run_id': None, 'role': 'user', 'content': [{'type': 'text', 'text': {'value': 'Hello, how much for the TrailMaster?', 'annotations': []}}], 'attachments': [], 'metadata': {}}\n"
     ]
    }
   ],
   "source": [
    "# Create a thread\n",
    "thread = project_client.agents.create_thread()\n",
    "print(f\"Created thread: {thread}\\n\")\n",
    "\n",
    "# Add a user message to the thread\n",
    "message = project_client.agents.create_message(\n",
    "    thread_id=thread.id, \n",
    "    role=\"user\", \n",
    "    content=\"Hello, how much for the TrailMaster?\",\n",
    ")\n",
    "print(f\"Created message: {message}\")"
   ]
  },
  {
   "cell_type": "markdown",
   "id": "f5e6dd3c-9fda-4d73-bacd-a25fa277b804",
   "metadata": {},
   "source": [
    "# Run the agent syncrhonously"
   ]
  },
  {
   "cell_type": "code",
   "execution_count": 9,
   "id": "7d5a044e-4312-45d0-a4b0-8d7d0c01f071",
   "metadata": {},
   "outputs": [
    {
     "name": "stdout",
     "output_type": "stream",
     "text": [
      "Run finished with status: RunStatus.COMPLETED.\n",
      "\n",
      "Run: {'id': 'run_AyEzTyd3TatqWHZ5Q0KLd4k2', 'object': 'thread.run', 'created_at': 1737281187, 'assistant_id': 'asst_M5FwpTjyuRnmnFbV9Wq0jxLG', 'thread_id': 'thread_MI1ycGHSwqCvrxSomNDuGxBA', 'status': 'completed', 'started_at': 1737281187, 'expires_at': None, 'cancelled_at': None, 'failed_at': None, 'completed_at': 1737281193, 'required_action': None, 'last_error': None, 'model': 'gpt-4', 'instructions': 'Hello, you are helpful agent that can search information from uploaded files', 'tools': [{'type': 'file_search', 'file_search': {'ranking_options': {'ranker': 'default_2024_08_21', 'score_threshold': 0.0}}}], 'tool_resources': {}, 'metadata': {}, 'temperature': 1.0, 'top_p': 1.0, 'max_completion_tokens': None, 'max_prompt_tokens': None, 'truncation_strategy': {'type': 'auto', 'last_messages': None}, 'incomplete_details': None, 'usage': {'prompt_tokens': 5842, 'completion_tokens': 36, 'total_tokens': 5878}, 'response_format': 'auto', 'tool_choice': 'auto', 'parallel_tool_calls': True}\n",
      "CPU times: total: 15.6 ms\n",
      "Wall time: 6.17 s\n"
     ]
    }
   ],
   "source": [
    "%%time\n",
    "# Create and process assistant run in thread with tools\n",
    "run = project_client.agents.create_and_process_run\\\n",
    "    (thread_id=thread.id, assistant_id=agent.id)\n",
    "\n",
    "print(f\"Run finished with status: {run.status}.\\n\\nRun: {run}\")\n",
    "\n",
    "if run.status == \"failed\":\n",
    "    # Check if you got \"Rate limit is exceeded.\", then you want to get more quota\n",
    "    print(f\"Run failed: {run.last_error}\")"
   ]
  },
  {
   "cell_type": "markdown",
   "id": "c7bef1f6-ee31-4027-ab4d-37fb57d9158d",
   "metadata": {},
   "source": [
    "# Fetch messages from the thread after the agent run execution"
   ]
  },
  {
   "cell_type": "code",
   "execution_count": 10,
   "id": "bcb83a7e-dc23-4a27-8443-eb9d2d2f1236",
   "metadata": {},
   "outputs": [
    {
     "name": "stdout",
     "output_type": "stream",
     "text": [
      "Here are the 2 messages, starting with the most recent one:\n",
      "\n",
      "\n",
      "===== MESSAGE 2 =====\n",
      "\n",
      "CONTENT 1 (MessageTextContent) --> Text: The price for the TrailMaster X4 Tent is $250【4:0†source】.\n",
      ">>> Annotation in MessageTextContent 1 of message 1: 【4:0†source】\n",
      "\n",
      ">>> Annotation in MessageTextContent 1 of message 1: 【4:0†source】\n",
      "\n",
      "\n",
      "===== MESSAGE 1 =====\n",
      "\n",
      "CONTENT 1 (MessageTextContent) --> Text: Hello, how much for the TrailMaster?\n"
     ]
    }
   ],
   "source": [
    "from azure.ai.projects.models import MessageTextContent, MessageImageFileContent\n",
    "\n",
    "if run.status == 'completed':    \n",
    "    messages = project_client.agents.list_messages(thread_id=thread.id)\n",
    "    messages_nr = len(messages.data)\n",
    "    print(f\"Here are the {messages_nr} messages, starting with the most recent one:\\n\")\n",
    "    i=0\n",
    "    for m in messages.data:\n",
    "        j = 0\n",
    "        i += 1\n",
    "        print(f\"\\n===== MESSAGE {messages_nr-i+1} =====\")\n",
    "        for c in m.content:\n",
    "            j +=1\n",
    "            if (type(c) is MessageImageFileContent):\n",
    "                print(f\"\\nCONTENT {j} (MessageImageFileContent) --> image_file id: {c.image_file.file_id}\")\n",
    "            elif (type(c) is MessageTextContent):\n",
    "                print(f\"\\nCONTENT {j} (MessageTextContent) --> Text: {c.text.value}\")\n",
    "                for a in c.text.annotations:\n",
    "                    print(f\">>> Annotation in MessageTextContent {j} of message {i}: {a.text}\\n\")\n",
    "\n",
    "else:\n",
    "    print(f\"Sorry, I can't proceed because the run status is {run.status}\")"
   ]
  },
  {
   "cell_type": "markdown",
   "id": "c80a2951-b37d-49b9-9dc3-231f4fedf1ae",
   "metadata": {},
   "source": [
    "## Fetch citations from the messages"
   ]
  },
  {
   "cell_type": "code",
   "execution_count": 11,
   "id": "5d95256d-35d2-4504-964f-381372415f97",
   "metadata": {},
   "outputs": [
    {
     "name": "stdout",
     "output_type": "stream",
     "text": [
      "{'type': 'file_citation', 'text': '【4:0†source】', 'start_index': 45, 'end_index': 57, 'file_citation': {'file_id': 'assistant-zADxredP0oxMQQGsHwR6cOcq'}}\n",
      "{'type': 'file_citation', 'text': '【4:0†source】', 'start_index': 45, 'end_index': 57, 'file_citation': {'file_id': 'assistant-zADxredP0oxMQQGsHwR6cOcq'}}\n"
     ]
    }
   ],
   "source": [
    "for citation in messages.file_citation_annotations:\n",
    "    print(citation)"
   ]
  },
  {
   "cell_type": "markdown",
   "id": "01e37364-f513-483c-9e8e-caecb1af61f8",
   "metadata": {},
   "source": [
    "# START teardown"
   ]
  },
  {
   "cell_type": "code",
   "execution_count": 12,
   "id": "d198459b-56c2-486d-8034-4f5c2911d912",
   "metadata": {},
   "outputs": [
    {
     "name": "stdout",
     "output_type": "stream",
     "text": [
      "1 files will now be deleted\n",
      "\n",
      "1 - file product_info_1.md has been deleted\n"
     ]
    }
   ],
   "source": [
    "# Delete all files\n",
    "\n",
    "print(f\"{len(project_client.agents.list_files()['data'])} files will now be deleted\")\n",
    "\n",
    "i=0\n",
    "for f in project_client.agents.list_files()['data']:\n",
    "    i += 1\n",
    "    project_client.agents.delete_file(file_id=f.id)\n",
    "    print(f\"\\n{i} - file {f.filename} has been deleted\")"
   ]
  },
  {
   "cell_type": "code",
   "execution_count": 13,
   "id": "58f77d60-94bd-4fc1-8231-56ba2e0c66cb",
   "metadata": {},
   "outputs": [
    {
     "name": "stdout",
     "output_type": "stream",
     "text": [
      "1 vector stores will now be deleted\n",
      "\n",
      "1 - vector store \"my_vectorstore(vs_X2aflqg4DzzvhHhEjpgID5Q9)\" has been deleted\n"
     ]
    }
   ],
   "source": [
    "# Delete all vector stores\n",
    "\n",
    "all_vector_stores = project_client.agents.list_vector_stores()['data']\n",
    "\n",
    "print(f\"{len(all_vector_stores)} vector stores will now be deleted\")\n",
    "\n",
    "i=0\n",
    "for vs in all_vector_stores:\n",
    "    i += 1\n",
    "    project_client.agents.delete_vector_store(vector_store_id=vs.id)\n",
    "    print(f'\\n{i} - vector store \"{vs.name}({vs.id})\" has been deleted')"
   ]
  },
  {
   "cell_type": "code",
   "execution_count": 14,
   "id": "05648e27-338e-423d-927b-ef441da75bd3",
   "metadata": {},
   "outputs": [
    {
     "name": "stdout",
     "output_type": "stream",
     "text": [
      "1 agents will now be deleted\n",
      "\n",
      "1 - Agent file-agent has been deleted\n"
     ]
    }
   ],
   "source": [
    "# Delete all agents\n",
    "\n",
    "print(f\"{len(project_client.agents.list_agents()['data'])} agents will now be deleted\")\n",
    "\n",
    "i=0\n",
    "for pca in project_client.agents.list_agents()['data']:\n",
    "    i += 1\n",
    "    project_client.agents.delete_agent(pca.id)\n",
    "    print(f\"\\n{i} - Agent {pca.name} has been deleted\")"
   ]
  },
  {
   "cell_type": "markdown",
   "id": "c8cc2b04-a0b3-45ee-9066-4306e16511f9",
   "metadata": {},
   "source": [
    "# HIC SUNT LEONES"
   ]
  }
 ],
 "metadata": {
  "kernelspec": {
   "display_name": "aaas",
   "language": "python",
   "name": "aaas"
  },
  "language_info": {
   "codemirror_mode": {
    "name": "ipython",
    "version": 3
   },
   "file_extension": ".py",
   "mimetype": "text/x-python",
   "name": "python",
   "nbconvert_exporter": "python",
   "pygments_lexer": "ipython3",
   "version": "3.12.8"
  }
 },
 "nbformat": 4,
 "nbformat_minor": 5
}
