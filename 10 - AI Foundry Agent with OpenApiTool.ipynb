{
 "cells": [
  {
   "attachments": {},
   "cell_type": "markdown",
   "id": "6aff6e2d-97b4-441c-b548-2557bafae055",
   "metadata": {},
   "source": [
    "# [Create Agent With OpenAPI](https://learn.microsoft.com/en-us/python/api/overview/azure/ai-projects-readme?view=azure-python-preview#create-agent-with-openapi)\n",
    "AzureFunctionTool contains the input and output queues of azure function and the description of input parameters.\n",
    "\n",
    "Inspired by [sample_agents_openapi.py](https://github.com/Azure/azure-sdk-for-python/blob/azure-ai-projects_1.0.0b4/sdk/ai/azure-ai-projects/samples/agents/sample_agents_openapi.py)"
   ]
  },
  {
   "cell_type": "markdown",
   "id": "54084032-e7de-40c6-bcbc-90ab737a001f",
   "metadata": {},
   "source": [
    "# Constants"
   ]
  },
  {
   "cell_type": "code",
   "execution_count": 1,
   "id": "98d9cc9d-cbef-4b35-a4a3-84802dd4ee06",
   "metadata": {},
   "outputs": [
    {
     "name": "stdout",
     "output_type": "stream",
     "text": [
      "Project Connection String: <...mai04-rg;mmai-hub04-prj01-fvye>\n"
     ]
    }
   ],
   "source": [
    "import os, jsonref\n",
    "from dotenv import load_dotenv # requires python-dotenv\n",
    "# import logging\n",
    "# logging.basicConfig(level=logging.INFO) # Configure logging \n",
    "\n",
    "load_dotenv(\"./../config/credentials_my.env\")\n",
    "model_name =  \"gpt-4o-2024-08-06\" # https://learn.microsoft.com/en-us/azure/ai-services/agents/how-to/tools/bing-grounding?tabs=python&pivots=overview#setup\n",
    "project_connection_string = os.environ[\"PROJECT_CONNECTION_STRING\"]\n",
    "\n",
    "print(f'Project Connection String: <...{project_connection_string[-30:]}>')"
   ]
  },
  {
   "cell_type": "markdown",
   "id": "6541e9bb-3e3f-478e-a084-84b70fce0255",
   "metadata": {},
   "source": [
    "# Create AI Foundry Project Client"
   ]
  },
  {
   "cell_type": "code",
   "execution_count": 2,
   "id": "5a9abb62-b855-402f-9e22-583ffe6bf8cb",
   "metadata": {},
   "outputs": [
    {
     "data": {
      "text/plain": [
       "{'subscription_id': 'eca2eddb-0f0c-4351-a634-52751499eeea',\n",
       " 'resource_group_name': 'mmai04-rg',\n",
       " 'project_name': 'mmai-hub04-prj01-fvye'}"
      ]
     },
     "execution_count": 2,
     "metadata": {},
     "output_type": "execute_result"
    }
   ],
   "source": [
    "from azure.ai.projects import AIProjectClient\n",
    "from azure.ai.projects.models import OpenApiTool, OpenApiAnonymousAuthDetails # <<<<<<<<<<<<<<< SPECIFIC FOR OPENAPI\n",
    "from azure.identity import DefaultAzureCredential\n",
    "\n",
    "project_client = AIProjectClient.from_connection_string(\n",
    "    credential=DefaultAzureCredential(), conn_str=project_connection_string\n",
    ")\n",
    "\n",
    "project_client.scope"
   ]
  },
  {
   "cell_type": "code",
   "execution_count": 3,
   "id": "18bd8408-d7d0-43b1-bd29-5131090ea4f3",
   "metadata": {},
   "outputs": [],
   "source": [
    "# Load Weather OpenAPI"
   ]
  },
  {
   "cell_type": "code",
   "execution_count": 4,
   "id": "121d6e68-3373-417e-b8fc-d31cf5ee4a83",
   "metadata": {},
   "outputs": [
    {
     "data": {
      "text/plain": [
       "{'openapi': '3.1.0',\n",
       " 'info': {'title': 'get weather data',\n",
       "  'description': 'Retrieves current weather data for a location based on wttr.in.',\n",
       "  'version': 'v1.0.0'},\n",
       " 'servers': [{'url': 'https://wttr.in'}],\n",
       " 'auth': [],\n",
       " 'paths': {'/{location}': {'get': {'description': 'Get weather information for a specific location',\n",
       "    'operationId': 'GetCurrentWeather',\n",
       "    'parameters': [{'name': 'location',\n",
       "      'in': 'path',\n",
       "      'description': 'City or location to retrieve the weather for',\n",
       "      'required': True,\n",
       "      'schema': {'type': 'string'}},\n",
       "     {'name': 'format',\n",
       "      'in': 'query',\n",
       "      'description': 'Always use j1 value for this parameter',\n",
       "      'required': True,\n",
       "      'schema': {'type': 'string', 'default': 'j1'}}],\n",
       "    'responses': {'200': {'description': 'Successful response',\n",
       "      'content': {'text/plain': {'schema': {'type': 'string'}}}},\n",
       "     '404': {'description': 'Location not found'}},\n",
       "    'deprecated': False}}},\n",
       " 'components': {'schemes': {}}}"
      ]
     },
     "execution_count": 4,
     "metadata": {},
     "output_type": "execute_result"
    }
   ],
   "source": [
    "# https://github.com/Azure/azure-sdk-for-python/blob/azure-ai-projects_1.0.0b4/sdk/ai/azure-ai-projects/samples/agents/weather_openapi.json\n",
    "with open(\"./openapi/weather_openapi.json\", \"r\") as f:\n",
    "    openapi_spec = jsonref.loads(f.read())\n",
    "\n",
    "openapi_spec"
   ]
  },
  {
   "cell_type": "markdown",
   "id": "073506bb-e90e-43a2-bb50-a07cb1397597",
   "metadata": {},
   "source": [
    "# Create Auth object for the OpenApiTool \n",
    "## Note: connection or managed identity auth setup requires additional setup in Azure"
   ]
  },
  {
   "cell_type": "code",
   "execution_count": 5,
   "id": "ed0b781f-a5c2-4994-aed4-09c7d6fbf47a",
   "metadata": {},
   "outputs": [
    {
     "data": {
      "text/plain": [
       "{'type': 'anonymous'}"
      ]
     },
     "execution_count": 5,
     "metadata": {},
     "output_type": "execute_result"
    }
   ],
   "source": [
    "auth = OpenApiAnonymousAuthDetails()\n",
    "auth"
   ]
  },
  {
   "cell_type": "markdown",
   "id": "cb3d93bc-1a86-4018-bc60-ef6bbdff4a15",
   "metadata": {},
   "source": [
    "# Initialize agent OpenApi tool using the read in OpenAPI spec"
   ]
  },
  {
   "cell_type": "code",
   "execution_count": 6,
   "id": "d8f04bae-92c8-4bcd-974a-023bd56e32e0",
   "metadata": {},
   "outputs": [
    {
     "name": "stdout",
     "output_type": "stream",
     "text": [
      "openapi.definitions: [{'type': 'openapi', 'openapi': {'name': 'get_weather', 'description': 'Retrieve weather information for a location', 'spec': {'openapi': '3.1.0', 'info': {'title': 'get weather data', 'description': 'Retrieves current weather data for a location based on wttr.in.', 'version': 'v1.0.0'}, 'servers': [{'url': 'https://wttr.in'}], 'auth': [], 'paths': {'/{location}': {'get': {'description': 'Get weather information for a specific location', 'operationId': 'GetCurrentWeather', 'parameters': [{'name': 'location', 'in': 'path', 'description': 'City or location to retrieve the weather for', 'required': True, 'schema': {'type': 'string'}}, {'name': 'format', 'in': 'query', 'description': 'Always use j1 value for this parameter', 'required': True, 'schema': {'type': 'string', 'default': 'j1'}}], 'responses': {'200': {'description': 'Successful response', 'content': {'text/plain': {'schema': {'type': 'string'}}}}, '404': {'description': 'Location not found'}}, 'deprecated': False}}}, 'components': {'schemes': {}}}, 'auth': {'type': 'anonymous'}}}]\n",
      "\n",
      "openapi.resources: {}\n"
     ]
    }
   ],
   "source": [
    "openapi = OpenApiTool(\n",
    "    name=\"get_weather\", spec=openapi_spec, description=\"Retrieve weather information for a location\", auth=auth\n",
    ")\n",
    "print(f\"openapi.definitions: {openapi.definitions}\")\n",
    "print(f\"\\nopenapi.resources: {openapi.resources}\")"
   ]
  },
  {
   "cell_type": "markdown",
   "id": "1b889e58-4f42-45fa-abb4-ba63f7038793",
   "metadata": {},
   "source": [
    "# Create AI Foundry Agent"
   ]
  },
  {
   "cell_type": "code",
   "execution_count": 7,
   "id": "b23ba3db-c486-4378-be6c-cb5626f52e3f",
   "metadata": {},
   "outputs": [
    {
     "data": {
      "text/plain": [
       "<bound method _MyMutableMapping.items of {'id': 'asst_IOnCsq0BfNMfQk0vbOLOQFsj', 'object': 'assistant', 'created_at': 1737422561, 'name': 'openapi-agent', 'description': None, 'model': 'gpt-4o-2024-08-06', 'instructions': 'You are a helpful assistant', 'tools': [{'type': 'openapi', 'openapi': {'name': 'get_weather', 'description': 'Retrieve weather information for a location', 'spec': {'openapi': '3.1.0', 'info': {'title': 'get weather data', 'description': 'Retrieves current weather data for a location based on wttr.in.', 'version': 'v1.0.0'}, 'servers': [{'url': 'https://wttr.in'}], 'auth': [], 'paths': {'/{location}': {'get': {'description': 'Get weather information for a specific location', 'operationId': 'GetCurrentWeather', 'parameters': [{'name': 'location', 'in': 'path', 'description': 'City or location to retrieve the weather for', 'required': True, 'schema': {'type': 'string'}}, {'name': 'format', 'in': 'query', 'description': 'Always use j1 value for this parameter', 'required': True, 'schema': {'type': 'string', 'default': 'j1'}}], 'responses': {'200': {'description': 'Successful response', 'content': {'text/plain': {'schema': {'type': 'string'}}}}, '404': {'description': 'Location not found'}}, 'deprecated': False}}}, 'components': {'schemes': {}}}, 'auth': {'type': 'anonymous', 'security_scheme': {}}, 'functions': [{'name': 'get_weather.GetCurrentWeather', 'description': 'Get weather information for a specific location', 'parameters': {'type': 'object', 'properties': {'location': {'type': 'string', 'description': 'City or location to retrieve the weather for'}, 'format': {'type': 'string', 'description': 'Always use j1 value for this parameter'}}, 'required': ['location', 'format']}}]}}], 'top_p': 1.0, 'temperature': 1.0, 'tool_resources': {}, 'metadata': {}, 'response_format': 'auto'}>"
      ]
     },
     "execution_count": 7,
     "metadata": {},
     "output_type": "execute_result"
    }
   ],
   "source": [
    "# Create agent with AI search tool and process assistant run\n",
    "agent = project_client.agents.create_agent(\n",
    "    model=model_name,\n",
    "    name=\"openapi-agent\",\n",
    "    instructions=\"You are a helpful assistant\",\n",
    "    tools=openapi.definitions,\n",
    "    tool_resources = openapi.resources,\n",
    ")\n",
    "\n",
    "agent.items"
   ]
  },
  {
   "cell_type": "markdown",
   "id": "d0858e59-5a9a-4523-ae47-68eafc10005b",
   "metadata": {},
   "source": [
    "# Create the thread and attach a new message to it"
   ]
  },
  {
   "cell_type": "code",
   "execution_count": 8,
   "id": "06f80125-1252-4060-bdf5-3b52acc42a47",
   "metadata": {},
   "outputs": [
    {
     "name": "stdout",
     "output_type": "stream",
     "text": [
      "Created thread: {'id': 'thread_7qT1kh44ewJBaCwHXuvabn4i', 'object': 'thread', 'created_at': 1737422561, 'metadata': {}, 'tool_resources': {}}\n",
      "\n",
      "Created message: {'id': 'msg_z9iBU1eQ3ozvK59bvrVswVsK', 'object': 'thread.message', 'created_at': 1737422562, 'assistant_id': None, 'thread_id': 'thread_7qT1kh44ewJBaCwHXuvabn4i', 'run_id': None, 'role': 'user', 'content': [{'type': 'text', 'text': {'value': 'Quale sarà la temperatura massima a Chiavari il 15 giugno? Se il giorno non è ancora disponibile, indica la temperatura massima del giorno più lontano che sai prevedere.', 'annotations': []}}], 'attachments': [], 'metadata': {}}\n"
     ]
    }
   ],
   "source": [
    "# Create a thread\n",
    "thread = project_client.agents.create_thread()\n",
    "print(f\"Created thread: {thread}\\n\")\n",
    "\n",
    "# Add a user message to the thread\n",
    "message = project_client.agents.create_message(\n",
    "    thread_id=thread.id, \n",
    "    role=\"user\", \n",
    "    content=\"Quale sarà la temperatura massima a Chiavari il 15 giugno? Se il giorno non è ancora disponibile, indica la temperatura massima del giorno più lontano che sai prevedere.\",\n",
    ")\n",
    "print(f\"Created message: {message}\")"
   ]
  },
  {
   "cell_type": "markdown",
   "id": "ca620721-a30e-44ac-9578-bbc098e20314",
   "metadata": {},
   "source": [
    "# Run the agent synchronously"
   ]
  },
  {
   "cell_type": "code",
   "execution_count": 9,
   "id": "8604f495-2519-42a7-a19a-026538cf2c2c",
   "metadata": {},
   "outputs": [
    {
     "name": "stdout",
     "output_type": "stream",
     "text": [
      "Run finished with status: RunStatus.COMPLETED. Run: {'id': 'run_Qw5gQHDzUdDpvFoMjKQaSRqo', 'object': 'thread.run', 'created_at': 1737422563, 'assistant_id': 'asst_IOnCsq0BfNMfQk0vbOLOQFsj', 'thread_id': 'thread_7qT1kh44ewJBaCwHXuvabn4i', 'status': 'completed', 'started_at': 1737422563, 'expires_at': None, 'cancelled_at': None, 'failed_at': None, 'completed_at': 1737422566, 'required_action': None, 'last_error': None, 'model': 'gpt-4o-2024-08-06', 'instructions': 'You are a helpful assistant', 'tools': [{'type': 'openapi', 'openapi': {'name': 'get_weather', 'description': 'Retrieve weather information for a location', 'spec': {'openapi': '3.1.0', 'info': {'title': 'get weather data', 'description': 'Retrieves current weather data for a location based on wttr.in.', 'version': 'v1.0.0'}, 'servers': [{'url': 'https://wttr.in'}], 'auth': [], 'paths': {'/{location}': {'get': {'description': 'Get weather information for a specific location', 'operationId': 'GetCurrentWeather', 'parameters': [{'name': 'location', 'in': 'path', 'description': 'City or location to retrieve the weather for', 'required': True, 'schema': {'type': 'string'}}, {'name': 'format', 'in': 'query', 'description': 'Always use j1 value for this parameter', 'required': True, 'schema': {'type': 'string', 'default': 'j1'}}], 'responses': {'200': {'description': 'Successful response', 'content': {'text/plain': {'schema': {'type': 'string'}}}}, '404': {'description': 'Location not found'}}, 'deprecated': False}}}, 'components': {'schemes': {}}}, 'auth': {'type': 'anonymous', 'security_scheme': {}}, 'functions': [{'name': 'get_weather.GetCurrentWeather', 'description': 'Get weather information for a specific location', 'parameters': {'type': 'object', 'properties': {'location': {'type': 'string', 'description': 'City or location to retrieve the weather for'}, 'format': {'type': 'string', 'description': 'Always use j1 value for this parameter'}}, 'required': ['location', 'format']}}]}}], 'tool_resources': {}, 'metadata': {}, 'temperature': 1.0, 'top_p': 1.0, 'max_completion_tokens': None, 'max_prompt_tokens': None, 'truncation_strategy': {'type': 'auto', 'last_messages': None}, 'incomplete_details': None, 'usage': {'prompt_tokens': 9433, 'completion_tokens': 81, 'total_tokens': 9514}, 'response_format': 'auto', 'tool_choice': 'auto', 'parallel_tool_calls': True}\n",
      "CPU times: total: 15.6 ms\n",
      "Wall time: 4.73 s\n"
     ]
    }
   ],
   "source": [
    "%%time\n",
    "# Create and process agent run in thread with tools\n",
    "run = project_client.agents.create_and_process_run(thread_id=thread.id, assistant_id=agent.id)\n",
    "print(f\"Run finished with status: {run.status}. Run: {run}\")\n",
    "\n",
    "if run.status == \"failed\":\n",
    "    # Check if you got \"Rate limit is exceeded.\", then you want to get more quota\n",
    "    print(f\"Run failed: {run.last_error}\")"
   ]
  },
  {
   "cell_type": "markdown",
   "id": "fecc4801-ce47-47ff-8502-e11c6b38fcc2",
   "metadata": {},
   "source": [
    "# Fetch messages from the thread after the agent run execution"
   ]
  },
  {
   "cell_type": "code",
   "execution_count": 10,
   "id": "bd778151-0cbb-4216-8de9-e4dee771d546",
   "metadata": {},
   "outputs": [
    {
     "name": "stdout",
     "output_type": "stream",
     "text": [
      "Here are the 2 messages:\n",
      "\n",
      "\n",
      "===== MESSAGE 1 =====\n",
      "\n",
      "CONTENT 1 (MessageTextContent) --> Text: Quale sarà la temperatura massima a Chiavari il 15 giugno? Se il giorno non è ancora disponibile, indica la temperatura massima del giorno più lontano che sai prevedere.\n",
      "\n",
      "===== MESSAGE 2 =====\n",
      "\n",
      "CONTENT 1 (MessageTextContent) --> Text: Attualmente, non posso fornire la temperatura massima esatta a Chiavari per il 15 giugno. Tuttavia, la previsione più lontana disponibile è per il 23 gennaio 2025, con una temperatura massima prevista di 12°C.\n"
     ]
    }
   ],
   "source": [
    "from azure.ai.projects.models import MessageTextContent, MessageImageFileContent\n",
    "\n",
    "if run.status == 'completed':    \n",
    "    messages = project_client.agents.list_messages(thread_id=thread.id)\n",
    "    messages_nr = len(messages.data)\n",
    "    print(f\"Here are the {messages_nr} messages:\\n\")\n",
    "    \n",
    "    for i, message in enumerate(reversed(messages.data), 1):\n",
    "        j = 0\n",
    "        print(f\"\\n===== MESSAGE {i} =====\")\n",
    "        for c in message.content:\n",
    "            j +=1\n",
    "            if (type(c) is MessageImageFileContent):\n",
    "                print(f\"\\nCONTENT {j} (MessageImageFileContent) --> image_file id: {c.image_file.file_id}\")\n",
    "            elif (type(c) is MessageTextContent):\n",
    "                print(f\"\\nCONTENT {j} (MessageTextContent) --> Text: {c.text.value}\")\n",
    "                for a in c.text.annotations:\n",
    "                    print(f\">>> Annotation in MessageTextContent {j} of message {i}: {a.text}\\n\")\n",
    "\n",
    "else:\n",
    "    print(f\"Sorry, I can't proceed because the run status is {run.status}\")"
   ]
  },
  {
   "cell_type": "markdown",
   "id": "b9e4ca37-422c-4c17-8964-8c32a3bb914a",
   "metadata": {},
   "source": [
    "# Run Steps"
   ]
  },
  {
   "cell_type": "code",
   "execution_count": 11,
   "id": "cd551092-22cb-465c-baa3-ff58823fbb72",
   "metadata": {},
   "outputs": [
    {
     "name": "stdout",
     "output_type": "stream",
     "text": [
      "Nr of run step(s): 2\n",
      "\n",
      "Run step 1: {'id': 'step_7G7aJvyJQa0EjY1eRtKrBQPD', 'object': 'thread.run.step', 'created_at': 1737422565, 'run_id': 'run_Qw5gQHDzUdDpvFoMjKQaSRqo', 'assistant_id': 'asst_IOnCsq0BfNMfQk0vbOLOQFsj', 'thread_id': 'thread_7qT1kh44ewJBaCwHXuvabn4i', 'type': 'message_creation', 'status': 'completed', 'cancelled_at': None, 'completed_at': 1737422566, 'expires_at': None, 'failed_at': None, 'last_error': None, 'step_details': {'type': 'message_creation', 'message_creation': {'message_id': 'msg_gns9EVhtTJxYQD06aLzWnccO'}}, 'usage': {'prompt_tokens': 9277, 'completion_tokens': 56, 'total_tokens': 9333}} \n",
      "\n",
      "Run step 2: {'id': 'step_Epl9l06MgsBQj8u6DvwjUtZB', 'object': 'thread.run.step', 'created_at': 1737422563, 'run_id': 'run_Qw5gQHDzUdDpvFoMjKQaSRqo', 'assistant_id': 'asst_IOnCsq0BfNMfQk0vbOLOQFsj', 'thread_id': 'thread_7qT1kh44ewJBaCwHXuvabn4i', 'type': 'tool_calls', 'status': 'completed', 'cancelled_at': None, 'completed_at': 1737422565, 'expires_at': None, 'failed_at': None, 'last_error': None, 'step_details': {'type': 'tool_calls', 'tool_calls': [{'id': 'call_25xKBncNNzzvveDtM8JKnGdR', 'type': 'openapi', 'function': {'name': 'get_weather.GetCurrentWeather', 'arguments': '{\"location\":\"Chiavari\",\"format\":\"j1\"}', 'output': \"{'current_condition': [{'FeelsLikeC': '4', 'FeelsLikeF': '40', 'cloudcover': '75', 'humidity': '81', 'localObsDateTime': '2025-01-21 02:21 AM', 'observation_time': '01:21 AM', 'precipInches': '0.1', 'precipMM': '1.3', 'pressure': '1018', 'pressureInches': '30', 'temp_C': '7', 'temp_F': '45', 'uvIndex': '0', 'visibility': '10', 'visibilityMiles': '6', 'weatherCode': '296', 'weatherDesc': [{'value': 'Light drizzle and rain'}], 'weatherIconUrl': [{'value': ''}], 'winddir16Point': 'NNE', 'winddirDegree': '22', 'windspeedKmph': '16', 'windspeedMiles': '10'}], 'nearest_area': [{'areaName': [{'value': 'Chiavari'}], 'country': [{'value': 'Italy'}], 'latitude': '44.317', 'longitude': '9.317', 'population': '26572', 'region': [{'value': 'Liguria'}], 'weatherUrl': [{'value': ''}]}], 'request': [{'query': 'Lat 44.32 and Lon 9.32', 'type': 'LatLon'}], 'weather': [{'astronomy': [{'moon_illumination': '58', 'moon_phase': 'Last Quarter', 'moonrise': '12:19 AM', 'moonset': '11:04 AM', 'sunrise': '07:52 AM', 'sunset': '05:18 PM'}], 'avgtempC': '10', 'avgtempF': '50', 'date': '2025-01-21', 'hourly': [{'DewPointC': '7', 'DewPointF': '44', 'FeelsLikeC': '6', 'FeelsLikeF': '43', 'HeatIndexC': '8', 'HeatIndexF': '47', 'WindChillC': '6', 'WindChillF': '43', 'WindGustKmph': '18', 'WindGustMiles': '11', 'chanceoffog': '0', 'chanceoffrost': '0', 'chanceofhightemp': '0', 'chanceofovercast': '83', 'chanceofrain': '100', 'chanceofremdry': '0', 'chanceofsnow': '0', 'chanceofsunshine': '0', 'chanceofthunder': '0', 'chanceofwindy': '0', 'cloudcover': '100', 'diffRad': '0.0', 'humidity': '90', 'precipInches': '0.1', 'precipMM': '3.2', 'pressure': '1020', 'pressureInches': '30', 'shortRad': '0.0', 'tempC': '8', 'tempF': '47', 'time': '0', 'uvIndex': '0', 'visibility': '7', 'visibilityMiles': '4', 'weatherCode': '302', 'weatherDesc': [{'value': 'Moderate rain'}], 'weatherIconUrl': [{'value': ''}], 'winddir16Point': 'NNW', 'winddirDegree': '333', 'windspeedKmph': '14', 'windspeedMiles': '9'}, {'DewPointC': '6', 'DewPointF': '43', 'FeelsLikeC': '7', 'FeelsLikeF': '45', 'HeatIndexC': '9', 'HeatIndexF': '49', 'WindChillC': '7', 'WindChillF': '45', 'WindGustKmph': '17', 'WindGustMiles': '10', 'chanceoffog': '0', 'chanceoffrost': '0', 'chanceofhightemp': '0', 'chanceofovercast': '87', 'chanceofrain': '100', 'chanceofremdry': '0', 'chanceofsnow': '0', 'chanceofsunshine': '0', 'chanceofthunder': '0', 'chanceofwindy': '0', 'cloudcover': '100', 'diffRad': '0.0', 'humidity': '81', 'precipInches': '0.0', 'precipMM': '0.4', 'pressure': '1019', 'pressureInches': '30', 'shortRad': '0.0', 'tempC': '9', 'tempF': '49', 'time': '300', 'uvIndex': '0', 'visibility': '2', 'visibilityMiles': '1', 'weatherCode': '266', 'weatherDesc': [{'value': 'Light drizzle'}], 'weatherIconUrl': [{'value': ''}], 'winddir16Point': 'NNE', 'winddirDegree': '22', 'windspeedKmph': '14', 'windspeedMiles': '9'}, {'DewPointC': '5', 'DewPointF': '42', 'FeelsLikeC': '8', 'FeelsLikeF': '46', 'HeatIndexC': '9', 'HeatIndexF': '49', 'WindChillC': '8', 'WindChillF': '46', 'WindGustKmph': '13', 'WindGustMiles': '8', 'chanceoffog': '0', 'chanceoffrost': '0', 'chanceofhightemp': '0', 'chanceofovercast': '93', 'chanceofrain': '76', 'chanceofremdry': '0', 'chanceofsnow': '0', 'chanceofsunshine': '0', 'chanceofthunder': '0', 'chanceofwindy': '0', 'cloudcover': '98', 'diffRad': '0.0', 'humidity': '76', 'precipInches': '0.0', 'precipMM': '0.0', 'pressure': '1018', 'pressureInches': '30', 'shortRad': '0.0', 'tempC': '9', 'tempF': '49', 'time': '600', 'uvIndex': '0', 'visibility': '10', 'visibilityMiles': '6', 'weatherCode': '176', 'weatherDesc': [{'value': 'Patchy rain nearby'}], 'weatherIconUrl': [{'value': ''}], 'winddir16Point': 'N', 'winddirDegree': '5', 'windspeedKmph': '11', 'windspeedMiles': '7'}, {'DewPointC': '6', 'DewPointF': '43', 'FeelsLikeC': '8', 'FeelsLikeF': '47', 'HeatIndexC': '10', 'HeatIndexF': '49', 'WindChillC': '8', 'WindChillF': '47', 'WindGustKmph': '11', 'WindGustMiles': '7', 'chanceoffog': '0', 'chanceoffrost': '0', 'chanceofhightemp': '0', 'chanceofovercast': '81', 'chanceofrain': '0', 'chanceofremdry': '87', 'chanceofsnow': '0', 'chanceofsunshine': '14', 'chanceofthunder': '0', 'chanceofwindy': '0', 'cloudcover': '83', 'diffRad': '7.1', 'humidity': '78', 'precipInches': '0.0', 'precipMM': '0.0', 'pressure': '1019', 'pressureInches': '30', 'shortRad': '14.3', 'tempC': '10', 'tempF': '49', 'time': '900', 'uvIndex': '0', 'visibility': '10', 'visibilityMiles': '6', 'weatherCode': '119', 'weatherDesc': [{'value': 'Cloudy '}], 'weatherIconUrl': [{'value': ''}], 'winddir16Point': 'N', 'winddirDegree': '9', 'windspeedKmph': '9', 'windspeedMiles': '5'}, {'DewPointC': '6', 'DewPointF': '43', 'FeelsLikeC': '11', 'FeelsLikeF': '51', 'HeatIndexC': '11', 'HeatIndexF': '51', 'WindChillC': '11', 'WindChillF': '51', 'WindGustKmph': '3', 'WindGustMiles': '2', 'chanceoffog': '0', 'chanceoffrost': '0', 'chanceofhightemp': '0', 'chanceofovercast': '46', 'chanceofrain': '0', 'chanceofremdry': '83', 'chanceofsnow': '0', 'chanceofsunshine': '82', 'chanceofthunder': '0', 'chanceofwindy': '0', 'cloudcover': '54', 'diffRad': '40.6', 'humidity': '73', 'precipInches': '0.0', 'precipMM': '0.0', 'pressure': '1019', 'pressureInches': '30', 'shortRad': '93.6', 'tempC': '11', 'tempF': '51', 'time': '1200', 'uvIndex': '1', 'visibility': '10', 'visibilityMiles': '6', 'weatherCode': '116', 'weatherDesc': [{'value': 'Partly Cloudy '}], 'weatherIconUrl': [{'value': ''}], 'winddir16Point': 'NNW', 'winddirDegree': '347', 'windspeedKmph': '3', 'windspeedMiles': '2'}, {'DewPointC': '6', 'DewPointF': '43', 'FeelsLikeC': '11', 'FeelsLikeF': '52', 'HeatIndexC': '11', 'HeatIndexF': '51', 'WindChillC': '11', 'WindChillF': '52', 'WindGustKmph': '4', 'WindGustMiles': '2', 'chanceoffog': '0', 'chanceoffrost': '0', 'chanceofhightemp': '0', 'chanceofovercast': '93', 'chanceofrain': '89', 'chanceofremdry': '0', 'chanceofsnow': '0', 'chanceofsunshine': '0', 'chanceofthunder': '0', 'chanceofwindy': '0', 'cloudcover': '75', 'diffRad': '100.6', 'humidity': '74', 'precipInches': '0.0', 'precipMM': '0.0', 'pressure': '1018', 'pressureInches': '30', 'shortRad': '296.6', 'tempC': '11', 'tempF': '51', 'time': '1500', 'uvIndex': '0', 'visibility': '10', 'visibilityMiles': '6', 'weatherCode': '176', 'weatherDesc': [{'value': 'Patchy rain nearby'}], 'weatherIconUrl': [{'value': ''}], 'winddir16Point': 'WSW', 'winddirDegree': '238', 'windspeedKmph': '3', 'windspeedMiles': '2'}, {'DewPointC': '6', 'DewPointF': '43', 'FeelsLikeC': '10', 'FeelsLikeF': '50', 'HeatIndexC': '10', 'HeatIndexF': '50', 'WindChillC': '10', 'WindChillF': '50', 'WindGustKmph': '2', 'WindGustMiles': '2', 'chanceoffog': '0', 'chanceoffrost': '0', 'chanceofhightemp': '0', 'chanceofovercast': '41', 'chanceofrain': '0', 'chanceofremdry': '94', 'chanceofsnow': '0', 'chanceofsunshine': '88', 'chanceofthunder': '0', 'chanceofwindy': '0', 'cloudcover': '40', 'diffRad': '57.8', 'humidity': '77', 'precipInches': '0.0', 'precipMM': '0.0', 'pressure': '1018', 'pressureInches': '30', 'shortRad': '162.1', 'tempC': '10', 'tempF': '50', 'time': '1800', 'uvIndex': '0', 'visibility': '10', 'visibilityMiles': '6', 'weatherCode': '116', 'weatherDesc': [{'value': 'Partly Cloudy '}], 'weatherIconUrl': [{'value': ''}], 'winddir16Point': 'ENE', 'winddirDegree': '65', 'windspeedKmph': '2', 'windspeedMiles': '1'}, {'DewPointC': '6', 'DewPointF': '43', 'FeelsLikeC': '10', 'FeelsLikeF': '50', 'HeatIndexC': '10', 'HeatIndexF': '50', 'WindChillC': '10', 'WindChillF': '50', 'WindGustKmph': '5', 'WindGustMiles': '3', 'chanceoffog': '0', 'chanceoffrost': '0', 'chanceofhightemp': '0', 'chanceofovercast': '44', 'chanceofrain': '0', 'chanceofremdry': '93', 'chanceofsnow': '0', 'chanceofsunshine': '78', 'chanceofthunder': '0', 'chanceofwindy': '0', 'cloudcover': '53', 'diffRad': '0.0', 'humidity': '77', 'precipInches': '0.0', 'precipMM': '0.0', 'pressure': '1019', 'pressureInches': '30', 'shortRad': '0.0', 'tempC': '10', 'tempF': '50', 'time': '2100', 'uvIndex': '0', 'visibility': '10', 'visibilityMiles': '6', 'weatherCode': '116', 'weatherDesc': [{'value': 'Partly Cloudy '}], 'weatherIconUrl': [{'value': ''}], 'winddir16Point': 'ENE', 'winddirDegree': '64', 'windspeedKmph': '4', 'windspeedMiles': '2'}], 'maxtempC': '11', 'maxtempF': '51', 'mintempC': '8', 'mintempF': '47', 'sunHour': '8.3', 'totalSnow_cm': '0.0', 'uvIndex': '0'}, {'astronomy': [{'moon_illumination': '49', 'moon_phase': 'Waning Crescent', 'moonrise': '01:24 AM', 'moonset': '11:24 AM', 'sunrise': '07:51 AM', 'sunset': '05:19 PM'}], 'avgtempC': '10', 'avgtempF': '51', 'date': '2025-01-22', 'hourly': [{'DewPointC': '6', 'DewPointF': '43', 'FeelsLikeC': '9', 'FeelsLikeF': '48', 'HeatIndexC': '10', 'HeatIndexF': '50', 'WindChillC': '9', 'WindChillF': '48', 'WindGustKmph': '12', 'WindGustMiles': '8', 'chanceoffog': '0', 'chanceoffrost': '0', 'chanceofhightemp': '0', 'chanceofovercast': '85', 'chanceofrain': '0', 'chanceofremdry': '93', 'chanceofsnow': '0', 'chanceofsunshine': '8', 'chanceofthunder': '0', 'chanceofwindy': '0', 'cloudcover': '66', 'diffRad': '0.0', 'humidity': '78', 'precipInches': '0.0', 'precipMM': '0.0', 'pressure': '1019', 'pressureInches': '30', 'shortRad': '0.0', 'tempC': '10', 'tempF': '50', 'time': '0', 'uvIndex': '0', 'visibility': '10', 'visibilityMiles': '6', 'weatherCode': '119', 'weatherDesc': [{'value': 'Cloudy '}], 'weatherIconUrl': [{'value': ''}], 'winddir16Point': 'ENE', 'winddirDegree': '63', 'windspeedKmph': '9', 'windspeedMiles': '6'}, {'DewPointC': '6', 'DewPointF': '44', 'FeelsLikeC': '9', 'FeelsLikeF': '49', 'HeatIndexC': '10', 'HeatIndexF': '50', 'WindChillC': '9', 'WindChillF': '49', 'WindGustKmph': '10', 'WindGustMiles': '6', 'chanceoffog': '0', 'chanceoffrost': '0', 'chanceofhightemp': '0', 'chanceofovercast': '84', 'chanceofrain': '100', 'chanceofremdry': '0', 'chanceofsnow': '0', 'chanceofsunshine': '0', 'chanceofthunder': '0', 'chanceofwindy': '0', 'cloudcover': '100', 'diffRad': '0.0', 'humidity': '78', 'precipInches': '0.0', 'precipMM': '0.1', 'pressure': '1018', 'pressureInches': '30', 'shortRad': '0.0', 'tempC': '10', 'tempF': '50', 'time': '300', 'uvIndex': '0', 'visibility': '10', 'visibilityMiles': '6', 'weatherCode': '176', 'weatherDesc': [{'value': 'Patchy rain nearby'}], 'weatherIconUrl': [{'value': ''}], 'winddir16Point': 'ENE', 'winddirDegree': '74', 'windspeedKmph': '8', 'windspeedMiles': '5'}, {'DewPointC': '9', 'DewPointF': '47', 'FeelsLikeC': '9', 'FeelsLikeF': '48', 'HeatIndexC': '11', 'HeatIndexF': '51', 'WindChillC': '9', 'WindChillF': '48', 'WindGustKmph': '17', 'WindGustMiles': '10', 'chanceoffog': '0', 'chanceoffrost': '0', 'chanceofhightemp': '0', 'chanceofovercast': '85', 'chanceofrain': '100', 'chanceofremdry': '0', 'chanceofsnow': '0', 'chanceofsunshine': '0', 'chanceofthunder': '0', 'chanceofwindy': '0', 'cloudcover': '100', 'diffRad': '0.0', 'humidity': '87', 'precipInches': '0.0', 'precipMM': '1.2', 'pressure': '1017', 'pressureInches': '30', 'shortRad': '0.0', 'tempC': '11', 'tempF': '51', 'time': '600', 'uvIndex': '0', 'visibility': '9', 'visibilityMiles': '5', 'weatherCode': '296', 'weatherDesc': [{'value': 'Light rain'}], 'weatherIconUrl': [{'value': ''}], 'winddir16Point': 'ESE', 'winddirDegree': '124', 'windspeedKmph': '14', 'windspeedMiles': '9'}, {'DewPointC': '9', 'DewPointF': '47', 'FeelsLikeC': '8', 'FeelsLikeF': '46', 'HeatIndexC': '10', 'HeatIndexF': '50', 'WindChillC': '8', 'WindChillF': '46', 'WindGustKmph': '23', 'WindGustMiles': '14', 'chanceoffog': '0', 'chanceoffrost': '0', 'chanceofhightemp': '0', 'chanceofovercast': '90', 'chanceofrain': '100', 'chanceofremdry': '0', 'chanceofsnow': '0', 'chanceofsunshine': '0', 'chanceofthunder': '0', 'chanceofwindy': '0', 'cloudcover': '100', 'diffRad': '0.9', 'humidity': '89', 'precipInches': '0.1', 'precipMM': '1.6', 'pressure': '1017', 'pressureInches': '30', 'shortRad': '1.2', 'tempC': '10', 'tempF': '50', 'time': '900', 'uvIndex': '0', 'visibility': '9', 'visibilityMiles': '5', 'weatherCode': '296', 'weatherDesc': [{'value': 'Light rain'}], 'weatherIconUrl': [{'value': ''}], 'winddir16Point': 'E', 'winddirDegree': '100', 'windspeedKmph': '19', 'windspeedMiles': '12'}, {'DewPointC': '8', 'DewPointF': '47', 'FeelsLikeC': '9', 'FeelsLikeF': '48', 'HeatIndexC': '10', 'HeatIndexF': '51', 'WindChillC': '9', 'WindChillF': '48', 'WindGustKmph': '15', 'WindGustMiles': '9', 'chanceoffog': '0', 'chanceoffrost': '0', 'chanceofhightemp': '0', 'chanceofovercast': '82', 'chanceofrain': '100', 'chanceofremdry': '0', 'chanceofsnow': '0', 'chanceofsunshine': '0', 'chanceofthunder': '0', 'chanceofwindy': '0', 'cloudcover': '100', 'diffRad': '6.5', 'humidity': '86', 'precipInches': '0.0', 'precipMM': '0.9', 'pressure': '1017', 'pressureInches': '30', 'shortRad': '9.2', 'tempC': '10', 'tempF': '51', 'time': '1200', 'uvIndex': '0', 'visibility': '9', 'visibilityMiles': '5', 'weatherCode': '296', 'weatherDesc': [{'value': 'Light rain'}], 'weatherIconUrl': [{'value': ''}], 'winddir16Point': 'E', 'winddirDegree': '97', 'windspeedKmph': '12', 'windspeedMiles': '8'}, {'DewPointC': '9', 'DewPointF': '47', 'FeelsLikeC': '9', 'FeelsLikeF': '47', 'HeatIndexC': '10', 'HeatIndexF': '50', 'WindChillC': '9', 'WindChillF': '47', 'WindGustKmph': '14', 'WindGustMiles': '9', 'chanceoffog': '0', 'chanceoffrost': '0', 'chanceofhightemp': '0', 'chanceofovercast': '84', 'chanceofrain': '100', 'chanceofremdry': '0', 'chanceofsnow': '0', 'chanceofsunshine': '0', 'chanceofthunder': '0', 'chanceofwindy': '0', 'cloudcover': '100', 'diffRad': '10.0', 'humidity': '89', 'precipInches': '0.0', 'precipMM': '0.8', 'pressure': '1015', 'pressureInches': '30', 'shortRad': '13.6', 'tempC': '10', 'tempF': '50', 'time': '1500', 'uvIndex': '0', 'visibility': '9', 'visibilityMiles': '5', 'weatherCode': '296', 'weatherDesc': [{'value': 'Light rain'}], 'weatherIconUrl': [{'value': ''}], 'winddir16Point': 'ENE', 'winddirDegree': '77', 'windspeedKmph': '12', 'windspeedMiles': '7'}, {'DewPointC': '9', 'DewPointF': '49', 'FeelsLikeC': '9', 'FeelsLikeF': '48', 'HeatIndexC': '11', 'HeatIndexF': '51', 'WindChillC': '9', 'WindChillF': '48', 'WindGustKmph': '13', 'WindGustMiles': '8', 'chanceoffog': '0', 'chanceoffrost': '0', 'chanceofhightemp': '0', 'chanceofovercast': '90', 'chanceofrain': '100', 'chanceofremdry': '0', 'chanceofsnow': '0', 'chanceofsunshine': '0', 'chanceofthunder': '0', 'chanceofwindy': '0', 'cloudcover': '100', 'diffRad': '5.5', 'humidity': '93', 'precipInches': '0.1', 'precipMM': '1.9', 'pressure': '1015', 'pressureInches': '30', 'shortRad': '7.5', 'tempC': '11', 'tempF': '51', 'time': '1800', 'uvIndex': '0', 'visibility': '9', 'visibilityMiles': '5', 'weatherCode': '296', 'weatherDesc': [{'value': 'Light rain'}], 'weatherIconUrl': [{'value': ''}], 'winddir16Point': 'ESE', 'winddirDegree': '108', 'windspeedKmph': '11', 'windspeedMiles': '7'}, {'DewPointC': '10', 'DewPointF': '50', 'FeelsLikeC': '10', 'FeelsLikeF': '49', 'HeatIndexC': '11', 'HeatIndexF': '52', 'WindChillC': '10', 'WindChillF': '49', 'WindGustKmph': '14', 'WindGustMiles': '9', 'chanceoffog': '0', 'chanceoffrost': '0', 'chanceofhightemp': '0', 'chanceofovercast': '84', 'chanceofrain': '100', 'chanceofremdry': '0', 'chanceofsnow': '0', 'chanceofsunshine': '0', 'chanceofthunder': '0', 'chanceofwindy': '0', 'cloudcover': '100', 'diffRad': '0.0', 'humidity': '92', 'precipInches': '0.0', 'precipMM': '1.0', 'pressure': '1015', 'pressureInches': '30', 'shortRad': '0.0', 'tempC': '11', 'tempF': '52', 'time': '2100', 'uvIndex': '0', 'visibility': '9', 'visibilityMiles': '5', 'weatherCode': '296', 'weatherDesc': [{'value': 'Light rain'}], 'weatherIconUrl': [{'value': ''}], 'winddir16Point': 'SSE', 'winddirDegree': '147', 'windspeedKmph': '12', 'windspeedMiles': '7'}], 'maxtempC': '11', 'maxtempF': '51', 'mintempC': '10', 'mintempF': '50', 'sunHour': '7.5', 'totalSnow_cm': '0.0', 'uvIndex': '0'}, {'astronomy': [{'moon_illumination': '39', 'moon_phase': 'Waning Crescent', 'moonrise': '02:29 AM', 'moonset': '11:48 AM', 'sunrise': '07:50 AM', 'sunset': '05:21 PM'}], 'avgtempC': '11', 'avgtempF': '52', 'date': '2025-01-23', 'hourly': [{'DewPointC': '10', 'DewPointF': '49', 'FeelsLikeC': '10', 'FeelsLikeF': '50', 'HeatIndexC': '11', 'HeatIndexF': '52', 'WindChillC': '10', 'WindChillF': '50', 'WindGustKmph': '11', 'WindGustMiles': '7', 'chanceoffog': '0', 'chanceoffrost': '0', 'chanceofhightemp': '0', 'chanceofovercast': '84', 'chanceofrain': '100', 'chanceofremdry': '0', 'chanceofsnow': '0', 'chanceofsunshine': '0', 'chanceofthunder': '0', 'chanceofwindy': '0', 'cloudcover': '100', 'diffRad': '0.0', 'humidity': '90', 'precipInches': '0.0', 'precipMM': '0.3', 'pressure': '1015', 'pressureInches': '30', 'shortRad': '0.0', 'tempC': '11', 'tempF': '52', 'time': '0', 'uvIndex': '0', 'visibility': '10', 'visibilityMiles': '6', 'weatherCode': '353', 'weatherDesc': [{'value': 'Light rain shower'}], 'weatherIconUrl': [{'value': ''}], 'winddir16Point': 'S', 'winddirDegree': '173', 'windspeedKmph': '9', 'windspeedMiles': '6'}, {'DewPointC': '10', 'DewPointF': '49', 'FeelsLikeC': '11', 'FeelsLikeF': '53', 'HeatIndexC': '11', 'HeatIndexF': '52', 'WindChillC': '11', 'WindChillF': '53', 'WindGustKmph': '5', 'WindGustMiles': '3', 'chanceoffog': '0', 'chanceoffrost': '0', 'chanceofhightemp': '0', 'chanceofovercast': '94', 'chanceofrain': '100', 'chanceofremdry': '0', 'chanceofsnow': '0', 'chanceofsunshine': '0', 'chanceofthunder': '0', 'chanceofwindy': '0', 'cloudcover': '100', 'diffRad': '0.0', 'humidity': '90', 'precipInches': '0.0', 'precipMM': '0.4', 'pressure': '1014', 'pressureInches': '30', 'shortRad': '0.0', 'tempC': '11', 'tempF': '52', 'time': '300', 'uvIndex': '0', 'visibility': '2', 'visibilityMiles': '1', 'weatherCode': '266', 'weatherDesc': [{'value': 'Light drizzle'}], 'weatherIconUrl': [{'value': ''}], 'winddir16Point': 'ESE', 'winddirDegree': '108', 'windspeedKmph': '4', 'windspeedMiles': '2'}, {'DewPointC': '11', 'DewPointF': '51', 'FeelsLikeC': '11', 'FeelsLikeF': '51', 'HeatIndexC': '11', 'HeatIndexF': '52', 'WindChillC': '11', 'WindChillF': '51', 'WindGustKmph': '9', 'WindGustMiles': '5', 'chanceoffog': '0', 'chanceoffrost': '0', 'chanceofhightemp': '0', 'chanceofovercast': '84', 'chanceofrain': '100', 'chanceofremdry': '0', 'chanceofsnow': '0', 'chanceofsunshine': '0', 'chanceofthunder': '0', 'chanceofwindy': '0', 'cloudcover': '100', 'diffRad': '0.0', 'humidity': '95', 'precipInches': '0.0', 'precipMM': '1.0', 'pressure': '1012', 'pressureInches': '30', 'shortRad': '0.0', 'tempC': '11', 'tempF': '52', 'time': '600', 'uvIndex': '0', 'visibility': '9', 'visibilityMiles': '5', 'weatherCode': '296', 'weatherDesc': [{'value': 'Light rain'}], 'weatherIconUrl': [{'value': ''}], 'winddir16Point': 'S', 'winddirDegree': '178', 'windspeedKmph': '7', 'windspeedMiles': '4'}, {'DewPointC': '10', 'DewPointF': '50', 'FeelsLikeC': '10', 'FeelsLikeF': '51', 'HeatIndexC': '11', 'HeatIndexF': '52', 'WindChillC': '10', 'WindChillF': '51', 'WindGustKmph': '11', 'WindGustMiles': '7', 'chanceoffog': '0', 'chanceoffrost': '0', 'chanceofhightemp': '0', 'chanceofovercast': '85', 'chanceofrain': '100', 'chanceofremdry': '0', 'chanceofsnow': '0', 'chanceofsunshine': '0', 'chanceofthunder': '0', 'chanceofwindy': '0', 'cloudcover': '100', 'diffRad': '0.9', 'humidity': '93', 'precipInches': '0.0', 'precipMM': '0.4', 'pressure': '1012', 'pressureInches': '30', 'shortRad': '1.3', 'tempC': '11', 'tempF': '52', 'time': '900', 'uvIndex': '0', 'visibility': '2', 'visibilityMiles': '1', 'weatherCode': '266', 'weatherDesc': [{'value': 'Light drizzle'}], 'weatherIconUrl': [{'value': ''}], 'winddir16Point': 'SSE', 'winddirDegree': '160', 'windspeedKmph': '9', 'windspeedMiles': '5'}, {'DewPointC': '10', 'DewPointF': '51', 'FeelsLikeC': '11', 'FeelsLikeF': '52', 'HeatIndexC': '12', 'HeatIndexF': '53', 'WindChillC': '11', 'WindChillF': '52', 'WindGustKmph': '9', 'WindGustMiles': '6', 'chanceoffog': '0', 'chanceoffrost': '0', 'chanceofhightemp': '0', 'chanceofovercast': '90', 'chanceofrain': '100', 'chanceofremdry': '0', 'chanceofsnow': '0', 'chanceofsunshine': '0', 'chanceofthunder': '0', 'chanceofwindy': '0', 'cloudcover': '100', 'diffRad': '12.4', 'humidity': '92', 'precipInches': '0.0', 'precipMM': '0.1', 'pressure': '1012', 'pressureInches': '30', 'shortRad': '20.4', 'tempC': '12', 'tempF': '53', 'time': '1200', 'uvIndex': '1', 'visibility': '10', 'visibilityMiles': '6', 'weatherCode': '176', 'weatherDesc': [{'value': 'Patchy rain nearby'}], 'weatherIconUrl': [{'value': ''}], 'winddir16Point': 'SSW', 'winddirDegree': '210', 'windspeedKmph': '7', 'windspeedMiles': '4'}, {'DewPointC': '9', 'DewPointF': '47', 'FeelsLikeC': '10', 'FeelsLikeF': '50', 'HeatIndexC': '10', 'HeatIndexF': '51', 'WindChillC': '10', 'WindChillF': '50', 'WindGustKmph': '6', 'WindGustMiles': '4', 'chanceoffog': '0', 'chanceoffrost': '0', 'chanceofhightemp': '0', 'chanceofovercast': '94', 'chanceofrain': '82', 'chanceofremdry': '0', 'chanceofsnow': '0', 'chanceofsunshine': '0', 'chanceofthunder': '0', 'chanceofwindy': '0', 'cloudcover': '90', 'diffRad': '34.3', 'humidity': '88', 'precipInches': '0.0', 'precipMM': '0.0', 'pressure': '1011', 'pressureInches': '30', 'shortRad': '59.2', 'tempC': '10', 'tempF': '51', 'time': '1500', 'uvIndex': '0', 'visibility': '10', 'visibilityMiles': '6', 'weatherCode': '176', 'weatherDesc': [{'value': 'Patchy rain nearby'}], 'weatherIconUrl': [{'value': ''}], 'winddir16Point': 'W', 'winddirDegree': '278', 'windspeedKmph': '5', 'windspeedMiles': '3'}, {'DewPointC': '9', 'DewPointF': '47', 'FeelsLikeC': '10', 'FeelsLikeF': '50', 'HeatIndexC': '11', 'HeatIndexF': '51', 'WindChillC': '10', 'WindChillF': '50', 'WindGustKmph': '6', 'WindGustMiles': '4', 'chanceoffog': '0', 'chanceoffrost': '0', 'chanceofhightemp': '0', 'chanceofovercast': '94', 'chanceofrain': '67', 'chanceofremdry': '0', 'chanceofsnow': '0', 'chanceofsunshine': '0', 'chanceofthunder': '0', 'chanceofwindy': '0', 'cloudcover': '68', 'diffRad': '24.4', 'humidity': '87', 'precipInches': '0.0', 'precipMM': '0.0', 'pressure': '1012', 'pressureInches': '30', 'shortRad': '46.2', 'tempC': '11', 'tempF': '51', 'time': '1800', 'uvIndex': '0', 'visibility': '10', 'visibilityMiles': '6', 'weatherCode': '176', 'weatherDesc': [{'value': 'Patchy rain nearby'}], 'weatherIconUrl': [{'value': ''}], 'winddir16Point': 'ENE', 'winddirDegree': '67', 'windspeedKmph': '5', 'windspeedMiles': '3'}, {'DewPointC': '9', 'DewPointF': '48', 'FeelsLikeC': '10', 'FeelsLikeF': '50', 'HeatIndexC': '11', 'HeatIndexF': '52', 'WindChillC': '10', 'WindChillF': '50', 'WindGustKmph': '10', 'WindGustMiles': '6', 'chanceoffog': '0', 'chanceoffrost': '0', 'chanceofhightemp': '0', 'chanceofovercast': '89', 'chanceofrain': '0', 'chanceofremdry': '83', 'chanceofsnow': '0', 'chanceofsunshine': '16', 'chanceofthunder': '0', 'chanceofwindy': '0', 'cloudcover': '88', 'diffRad': '0.0', 'humidity': '86', 'precipInches': '0.0', 'precipMM': '0.0', 'pressure': '1013', 'pressureInches': '30', 'shortRad': '0.0', 'tempC': '11', 'tempF': '52', 'time': '2100', 'uvIndex': '0', 'visibility': '10', 'visibilityMiles': '6', 'weatherCode': '122', 'weatherDesc': [{'value': 'Overcast '}], 'weatherIconUrl': [{'value': ''}], 'winddir16Point': 'E', 'winddirDegree': '93', 'windspeedKmph': '8', 'windspeedMiles': '5'}], 'maxtempC': '12', 'maxtempF': '53', 'mintempC': '10', 'mintempF': '50', 'sunHour': '7.5', 'totalSnow_cm': '0.0', 'uvIndex': '0'}]}\"}}]}, 'usage': {'prompt_tokens': 156, 'completion_tokens': 25, 'total_tokens': 181}} \n",
      "\n"
     ]
    }
   ],
   "source": [
    "run_steps = project_client.agents.list_run_steps(run_id=run.id, thread_id=thread.id)\n",
    "\n",
    "print(f'Nr of run step(s): {len(run_steps[\"data\"])}\\n')\n",
    "i=0\n",
    "for rs in run_steps[\"data\"]:\n",
    "    i += 1\n",
    "    print(f\"Run step {i}: {rs}\", '\\n')"
   ]
  },
  {
   "cell_type": "markdown",
   "id": "944ec759-c053-4ab7-81aa-15cfa4961468",
   "metadata": {},
   "source": [
    "# START teardown"
   ]
  },
  {
   "cell_type": "code",
   "execution_count": 12,
   "id": "4067d9ab-2a20-4107-be1f-9ea5ccd19cc0",
   "metadata": {},
   "outputs": [
    {
     "name": "stdout",
     "output_type": "stream",
     "text": [
      "Deleting trhead: {'id': 'thread_7qT1kh44ewJBaCwHXuvabn4i', 'object': 'thread', 'created_at': 1737422561, 'metadata': {}, 'tool_resources': {}}...\n"
     ]
    },
    {
     "data": {
      "text/plain": [
       "{'id': 'thread_7qT1kh44ewJBaCwHXuvabn4i', 'object': 'thread.deleted', 'deleted': True}"
      ]
     },
     "execution_count": 12,
     "metadata": {},
     "output_type": "execute_result"
    }
   ],
   "source": [
    "print(f\"Deleting trhead: {thread}...\")\n",
    "project_client.agents.delete_thread(thread.id)"
   ]
  },
  {
   "cell_type": "code",
   "execution_count": 13,
   "id": "48399858-16e3-4b7c-a13a-aa3ed8320539",
   "metadata": {},
   "outputs": [
    {
     "name": "stdout",
     "output_type": "stream",
     "text": [
      "1 agent(s) will now be deleted\n",
      "\n",
      "1 - Agent openapi-agent has been deleted\n"
     ]
    }
   ],
   "source": [
    "# Delete all agents\n",
    "\n",
    "print(f\"{len(project_client.agents.list_agents()['data'])} agent(s) will now be deleted\")\n",
    "\n",
    "i=0\n",
    "for pca in project_client.agents.list_agents()['data']:\n",
    "    i += 1\n",
    "    project_client.agents.delete_agent(pca.id)\n",
    "    print(f\"\\n{i} - Agent {pca.name} has been deleted\")"
   ]
  },
  {
   "cell_type": "markdown",
   "id": "c8cc2b04-a0b3-45ee-9066-4306e16511f9",
   "metadata": {},
   "source": [
    "# HIC SUNT LEONES"
   ]
  }
 ],
 "metadata": {
  "kernelspec": {
   "display_name": "aaas",
   "language": "python",
   "name": "aaas"
  },
  "language_info": {
   "codemirror_mode": {
    "name": "ipython",
    "version": 3
   },
   "file_extension": ".py",
   "mimetype": "text/x-python",
   "name": "python",
   "nbconvert_exporter": "python",
   "pygments_lexer": "ipython3",
   "version": "3.12.8"
  }
 },
 "nbformat": 4,
 "nbformat_minor": 5
}
