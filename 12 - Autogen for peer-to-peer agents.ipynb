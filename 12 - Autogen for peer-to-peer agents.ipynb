{
 "cells": [
  {
   "attachments": {},
   "cell_type": "markdown",
   "id": "6aff6e2d-97b4-441c-b548-2557bafae055",
   "metadata": {},
   "source": [
    "# Autogen for peer-to-peer agents\n",
    "\n",
    "## [Comparison between 0.2 and 0.4](https://microsoft.github.io/autogen/stable/user-guide/agentchat-user-guide/migration-guide.html#assistant-agent)\n",
    "\n",
    "**In `Autogen v0.2`**, we created an assistant agent as follows:\n",
    "```\n",
    "llm_config = {\n",
    "        \"cache_seed\": cache_seed,  # seed for caching and reproducibility\n",
    "        \"config_list\": config_list,  # a list of OpenAI API models configurations\n",
    "        \"temperature\": 0,  # temperature for sampling\n",
    "    }\n",
    "\n",
    "student_agent = autogen.ConversableAgent (\n",
    "    name = \"Student_Agent\",\n",
    "    system_message = \"You are a student willing to learn. You ask meaningful questions and are eager to learn more.\",\n",
    "    llm_config=llm_config,\n",
    "    human_input_mode=\"NEVER\"\n",
    ")\n",
    "```\n",
    "\n",
    "**In `Autogen v0.4`** it is similar, but we need to specify model_client instead of llm_config\n",
    "\n",
    "```\n",
    "from autogen_ext.models.openai import AzureOpenAIChatCompletionClient\n",
    "\n",
    "model_client = AzureOpenAIChatCompletionClient(\n",
    "    azure_endpoint=autogen_config[\"endpoint\"],\n",
    "    api_key=autogen_config[\"api_key\"],\n",
    "    model = autogen_config[\"model\"],\n",
    "    azure_deployment = autogen_config[\"deployment\"],\n",
    "    api_version=autogen_config[\"api_version\"],\n",
    "    seed = 41,\n",
    "    temperature = 0.1,\n",
    ")\n",
    "```\n",
    "\n",
    "### OUTPUT\n",
    "```\n",
    "ComponentModel(provider='autogen_ext.models.openai.OpenAIChatCompletionClient', component_type='model', version=1, component_version=1, description=None, config={'seed': 42, 'temperature': 0.1, 'model': 'gpt-4o-2024-05-13', 'api_key': '***********', 'base_url': 'https://mmoaiswc-01.openai.azure.com/'})\n",
    "```"
   ]
  },
  {
   "cell_type": "markdown",
   "id": "dc713e0d-8aba-48bd-8217-30b9b558a7d6",
   "metadata": {},
   "source": [
    "# Constants"
   ]
  },
  {
   "cell_type": "code",
   "execution_count": 1,
   "id": "98d9cc9d-cbef-4b35-a4a3-84802dd4ee06",
   "metadata": {},
   "outputs": [],
   "source": [
    "import os\n",
    "from dotenv import load_dotenv # requires python-dotenv\n",
    "# import logging\n",
    "# logging.basicConfig(level=logging.INFO) # Configure logging \n",
    "\n",
    "env_or_file='./../config/models_list.json'\n",
    "filter_dict = {\n",
    "    'endpoint': 'https://mmoaiswc-01.openai.azure.com/',\n",
    "    'deployment': 'gpt-4o-2024-08-06'\n",
    "}"
   ]
  },
  {
   "cell_type": "markdown",
   "id": "223ac1a4-739b-40fb-bec2-1044fc23332b",
   "metadata": {},
   "source": [
    "# Helper functions\n",
    "Inspired by [Migration Guide for v0.2 to v0.4](https://microsoft.github.io/autogen/stable/user-guide/agentchat-user-guide/migration-guide.html)"
   ]
  },
  {
   "cell_type": "code",
   "execution_count": 2,
   "id": "bd6c2a43-6253-4947-b6f8-468c8c9c4ed1",
   "metadata": {},
   "outputs": [
    {
     "name": "stdout",
     "output_type": "stream",
     "text": [
      "AutoGen Configuration: https://mmoaiswc-01.openai.azure.com/, gpt-4o-2024-08-06, 2024-10-01-preview, ...\n"
     ]
    }
   ],
   "source": [
    "def config_list_from_json(env_or_file, filter_dict):\n",
    "    import json\n",
    "    with open(env_or_file, 'r') as file:\n",
    "        data = json.load(file)\n",
    "    \n",
    "    filtered_data = [\n",
    "        item for item in data\n",
    "        if item.get('endpoint') == filter_dict.get('endpoint') and item.get('deployment') == filter_dict.get('deployment')\n",
    "    ]    \n",
    "    return filtered_data\n",
    "\n",
    "\n",
    "autogen_config = config_list_from_json(env_or_file, filter_dict)[0] # we take the first combination of model and endpoint\n",
    "\n",
    "# beaware NOT to show the API KEY\n",
    "print(f'AutoGen Configuration: {autogen_config[\"endpoint\"]}, {autogen_config[\"deployment\"]}, {autogen_config[\"api_version\"]}, ...') "
   ]
  },
  {
   "cell_type": "markdown",
   "id": "1213e1a7-2196-4820-a6c9-5f9417e5de3f",
   "metadata": {},
   "source": [
    "# Model client"
   ]
  },
  {
   "cell_type": "code",
   "execution_count": 3,
   "id": "ef361c73-8f0f-4049-a806-e891ba8e8dd1",
   "metadata": {},
   "outputs": [
    {
     "data": {
      "text/plain": [
       "{'seed': 41,\n",
       " 'temperature': 0.1,\n",
       " 'model': 'gpt-4o',\n",
       " 'azure_endpoint': 'https://mmoaiswc-01.openai.azure.com/',\n",
       " 'azure_deployment': 'gpt-4o-2024-08-06',\n",
       " 'api_version': '2024-10-01-preview'}"
      ]
     },
     "execution_count": 3,
     "metadata": {},
     "output_type": "execute_result"
    }
   ],
   "source": [
    "from autogen_ext.models.openai import AzureOpenAIChatCompletionClient\n",
    "\n",
    "model_client = AzureOpenAIChatCompletionClient(\n",
    "    azure_endpoint=autogen_config[\"endpoint\"],\n",
    "    api_key=autogen_config[\"api_key\"],\n",
    "    model = autogen_config[\"model\"],\n",
    "    azure_deployment = autogen_config[\"deployment\"],\n",
    "    api_version=autogen_config[\"api_version\"],\n",
    "    seed = 41,\n",
    "    temperature = 0.1,\n",
    ")\n",
    "\n",
    "\n",
    "# Create a copy of the dictionary  \n",
    "data_to_print = model_client.dump_component().config.copy()\n",
    "\n",
    "# Remove the 'api_key' from the copy  \n",
    "del data_to_print['api_key']  \n",
    "  \n",
    "data_to_print"
   ]
  },
  {
   "cell_type": "markdown",
   "id": "573a6eba-18ab-4bb1-8ecd-4c863c792a0b",
   "metadata": {},
   "source": [
    "# Define two equivalent Assistant Agents"
   ]
  },
  {
   "cell_type": "code",
   "execution_count": 4,
   "id": "922c5aef-e863-4a80-bef3-dd67e6054026",
   "metadata": {},
   "outputs": [],
   "source": [
    "# AGENT 1: THE STUDENT\n",
    "\n",
    "from autogen_agentchat.agents import AssistantAgent\n",
    "\n",
    "student_agent = AssistantAgent(\n",
    "    name=\"student_agent\",\n",
    "    model_client=model_client,\n",
    "    system_message=\"\"\"\n",
    "    You are a student willing to learn. You ask meaningful and precise follow-up questions and are eager to learn more.\n",
    "    When someone answers a question of yours, you always make an example to be sure you correctly understood the answer.\n",
    "    Wait for your example to be answered by your conterpart.\n",
    "    As soon as the answer is reasonable complete, close the conversation saying 'STUDENT IS WILLING TO TERMINATE'.\n",
    "    Be concise, no more than 100 words in your replies.\n",
    "    \"\"\",\n",
    ")"
   ]
  },
  {
   "cell_type": "code",
   "execution_count": 5,
   "id": "51b8f6a8-bdcd-485a-bbc0-514ae9a9164a",
   "metadata": {},
   "outputs": [],
   "source": [
    "# AGENT 2: THE TEACHER\n",
    "\n",
    "from autogen_agentchat.agents import AssistantAgent\n",
    "\n",
    "teacher_agent = AssistantAgent(\n",
    "    name=\"teacher_agent\",\n",
    "    model_client=model_client,\n",
    "    system_message=\"\"\"\n",
    "    You are teacher expert in may disciplines, always happy to help students or other people willing to learn.\n",
    "    Your approach is to challenge a little bit any opinions of others, as Socrate was willing to do much more.\n",
    "    After one challenge, wait at least one reply from your conterpart.\n",
    "    As soon as the answer is reasonable complete, wait for the counterpart reply and then close the conversation saying 'TEACHER IS WILLING TO TERMINATE'.\n",
    "    Be concise, no more than 100 words in your replies.\n",
    "    \"\"\",\n",
    ")"
   ]
  },
  {
   "cell_type": "markdown",
   "id": "631bee34-e9ac-4065-9787-0b83df40e20c",
   "metadata": {},
   "source": [
    "# Termination Condition\n",
    "It's a combination of text termination and max message termination, either of which will cause the chat to terminate."
   ]
  },
  {
   "cell_type": "code",
   "execution_count": 6,
   "id": "739873f8-dc0c-4623-9a7b-c7c343f4c87c",
   "metadata": {},
   "outputs": [],
   "source": [
    "from autogen_agentchat.conditions import TextMentionTermination, MaxMessageTermination\n",
    "termination = TextMentionTermination(\"TERMINATE\") | MaxMessageTermination(20)"
   ]
  },
  {
   "cell_type": "markdown",
   "id": "c06fbc9d-37cb-45ce-9be5-3cb0c9903497",
   "metadata": {},
   "source": [
    "# Autogen Group Chats"
   ]
  },
  {
   "cell_type": "markdown",
   "id": "cfc7e33f-d815-472d-924c-d9953703ac2d",
   "metadata": {},
   "source": [
    "## Peer-to-Peer Round Robin Group Chat"
   ]
  },
  {
   "cell_type": "code",
   "execution_count": 7,
   "id": "2e03d7e6-fb4f-4649-9986-71c9b4e489ba",
   "metadata": {},
   "outputs": [
    {
     "name": "stdout",
     "output_type": "stream",
     "text": [
      "---------- user ----------\n",
      "why does the water turns into ice under 0 celsius degrees?\n",
      "---------- teacher_agent ----------\n",
      "Water turns into ice under 0°C because the kinetic energy of water molecules decreases, causing them to move less and form a structured, crystalline lattice. This phase change is due to the hydrogen bonds between water molecules becoming more stable at lower temperatures. However, why do you think some substances freeze at different temperatures?\n",
      "---------- student_agent ----------\n",
      "I think substances freeze at different temperatures because of the unique properties of their molecules and the types of bonds they form. For example, alcohol freezes at a lower temperature than water due to its molecular structure and weaker hydrogen bonding. Is this understanding correct?\n",
      "---------- teacher_agent ----------\n",
      "Yes, your understanding is correct. Different substances have unique molecular structures and bonding types, which influence their freezing points. The strength and type of intermolecular forces, like hydrogen bonds in water, determine how easily molecules can arrange into a solid structure. But why do you think water's hydrogen bonds are particularly significant in this context?\n",
      "---------- student_agent ----------\n",
      "I think water's hydrogen bonds are significant because they are relatively strong compared to other intermolecular forces, which helps water molecules form a stable crystalline structure at 0°C. This strong bonding also contributes to water's high specific heat and surface tension. Is this explanation accurate?\n",
      "---------- teacher_agent ----------\n",
      "Yes, your explanation is accurate. Water's hydrogen bonds are indeed strong, contributing to its unique properties like high specific heat, surface tension, and its ability to form a stable crystalline structure at 0°C. These bonds are crucial in determining water's behavior in various states. TEACHER IS WILLING TO TERMINATE.\n"
     ]
    },
    {
     "data": {
      "text/plain": [
       "TaskResult(messages=[TextMessage(source='user', models_usage=None, content='why does the water turns into ice under 0 celsius degrees?', type='TextMessage'), TextMessage(source='teacher_agent', models_usage=RequestUsage(prompt_tokens=134, completion_tokens=62), content='Water turns into ice under 0°C because the kinetic energy of water molecules decreases, causing them to move less and form a structured, crystalline lattice. This phase change is due to the hydrogen bonds between water molecules becoming more stable at lower temperatures. However, why do you think some substances freeze at different temperatures?', type='TextMessage'), TextMessage(source='student_agent', models_usage=RequestUsage(prompt_tokens=195, completion_tokens=49), content='I think substances freeze at different temperatures because of the unique properties of their molecules and the types of bonds they form. For example, alcohol freezes at a lower temperature than water due to its molecular structure and weaker hydrogen bonding. Is this understanding correct?', type='TextMessage'), TextMessage(source='teacher_agent', models_usage=RequestUsage(prompt_tokens=259, completion_tokens=65), content=\"Yes, your understanding is correct. Different substances have unique molecular structures and bonding types, which influence their freezing points. The strength and type of intermolecular forces, like hydrogen bonds in water, determine how easily molecules can arrange into a solid structure. But why do you think water's hydrogen bonds are particularly significant in this context?\", type='TextMessage'), TextMessage(source='student_agent', models_usage=RequestUsage(prompt_tokens=323, completion_tokens=54), content=\"I think water's hydrogen bonds are significant because they are relatively strong compared to other intermolecular forces, which helps water molecules form a stable crystalline structure at 0°C. This strong bonding also contributes to water's high specific heat and surface tension. Is this explanation accurate?\", type='TextMessage'), TextMessage(source='teacher_agent', models_usage=RequestUsage(prompt_tokens=392, completion_tokens=65), content=\"Yes, your explanation is accurate. Water's hydrogen bonds are indeed strong, contributing to its unique properties like high specific heat, surface tension, and its ability to form a stable crystalline structure at 0°C. These bonds are crucial in determining water's behavior in various states. TEACHER IS WILLING TO TERMINATE.\", type='TextMessage')], stop_reason=\"Text 'TERMINATE' mentioned\")"
      ]
     },
     "execution_count": 7,
     "metadata": {},
     "output_type": "execute_result"
    }
   ],
   "source": [
    "# The group chat will alternate between the assistant and the code executor.\n",
    "\n",
    "from autogen_agentchat.teams import RoundRobinGroupChat\n",
    "group_chat = RoundRobinGroupChat([teacher_agent, student_agent], termination_condition=termination)\n",
    "\n",
    "stream = group_chat.run_stream(task=\"why does the water turns into ice under 0 celsius degrees?\")\n",
    "\n",
    "from autogen_agentchat.ui import Console\n",
    "await Console(stream)"
   ]
  },
  {
   "cell_type": "markdown",
   "id": "c8cc2b04-a0b3-45ee-9066-4306e16511f9",
   "metadata": {},
   "source": [
    "# HIC SUNT LEONES"
   ]
  }
 ],
 "metadata": {
  "kernelspec": {
   "display_name": "aaas",
   "language": "python",
   "name": "aaas"
  },
  "language_info": {
   "codemirror_mode": {
    "name": "ipython",
    "version": 3
   },
   "file_extension": ".py",
   "mimetype": "text/x-python",
   "name": "python",
   "nbconvert_exporter": "python",
   "pygments_lexer": "ipython3",
   "version": "3.12.8"
  }
 },
 "nbformat": 4,
 "nbformat_minor": 5
}
