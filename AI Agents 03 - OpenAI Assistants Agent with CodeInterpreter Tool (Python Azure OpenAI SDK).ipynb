{
 "cells": [
  {
   "cell_type": "markdown",
   "id": "bd7eb769-c574-4f94-a528-ff66d0b7c7b3",
   "metadata": {},
   "source": [
    "# Constants"
   ]
  },
  {
   "cell_type": "code",
   "execution_count": 1,
   "id": "98d9cc9d-cbef-4b35-a4a3-84802dd4ee06",
   "metadata": {},
   "outputs": [
    {
     "name": "stdout",
     "output_type": "stream",
     "text": [
      "Project Connection String: <...mai04-rg;mmai-hub04-prj01-fvye>\n"
     ]
    }
   ],
   "source": [
    "import os\n",
    "from dotenv import load_dotenv # requires python-dotenv\n",
    "# import logging\n",
    "# logging.basicConfig(level=logging.INFO) # Configure logging \n",
    "\n",
    "load_dotenv(\"./../config/credentials_my.env\")\n",
    "model_name =  \"gpt-4o-mini\" # gpt-4o-mini or gpt-4o\n",
    "\n",
    "print(f'Project Connection String: <...{os.environ[\"PROJECT_CONNECTION_STRING\"][-30:]}>')"
   ]
  },
  {
   "cell_type": "markdown",
   "id": "d5ff8df5-3544-4646-ae90-3d794944dfe7",
   "metadata": {},
   "source": [
    "# Create AI Foundry Project Client"
   ]
  },
  {
   "cell_type": "code",
   "execution_count": 2,
   "id": "5a9abb62-b855-402f-9e22-583ffe6bf8cb",
   "metadata": {},
   "outputs": [
    {
     "data": {
      "text/plain": [
       "{'subscription_id': 'eca2eddb-0f0c-4351-a634-52751499eeea',\n",
       " 'resource_group_name': 'mmai04-rg',\n",
       " 'project_name': 'mmai-hub04-prj01-fvye'}"
      ]
     },
     "execution_count": 2,
     "metadata": {},
     "output_type": "execute_result"
    }
   ],
   "source": [
    "from azure.ai.projects import AIProjectClient\n",
    "from azure.identity import DefaultAzureCredential\n",
    "\n",
    "project_client = AIProjectClient.from_connection_string(\n",
    "    credential=DefaultAzureCredential(), conn_str=os.environ[\"PROJECT_CONNECTION_STRING\"]\n",
    ")\n",
    "\n",
    "project_client.scope"
   ]
  },
  {
   "cell_type": "markdown",
   "id": "59c23d24-7ccf-41f1-8aba-f13988ee1490",
   "metadata": {},
   "source": [
    "# Extract Azure OpenAI client from the AI Foundry Project"
   ]
  },
  {
   "cell_type": "code",
   "execution_count": 3,
   "id": "9113b25e-b2ba-449a-bc98-d51dc5a95650",
   "metadata": {},
   "outputs": [
    {
     "name": "stdout",
     "output_type": "stream",
     "text": [
      "https://mmai-hub04-ai-servicesfvye.openai.azure.com/openai/\n"
     ]
    }
   ],
   "source": [
    "from openai import AzureOpenAI # <<<<< NOT NEEDED FOR AZURE AI FOUNDRY SDK\n",
    "\n",
    "# using explicit type hinting for IntelliSense\n",
    "azure_openai_client: AzureOpenAI = project_client.inference.get_azure_openai_client(\n",
    "    api_version = os.environ.get(\"AZURE_OPENAI_API_VERSION\"),\n",
    ")\n",
    "\n",
    "# if NOT MI --> azure_openai_client.api_key = os.environ.get(\"AZURE_OPENAI_API_KEY\") \n",
    "\n",
    "print(azure_openai_client.base_url)"
   ]
  },
  {
   "cell_type": "markdown",
   "id": "4b78583e-e0cd-4e8d-aca8-776942412ad5",
   "metadata": {},
   "source": [
    "# Create OpenAI Assistant Agent with CodeInterpreterTool as one of the tools"
   ]
  },
  {
   "cell_type": "code",
   "execution_count": 4,
   "id": "5f03834f-3190-4736-9bc7-f6d2a3e25e63",
   "metadata": {},
   "outputs": [],
   "source": [
    "# First, create the code interpreter definitions...\n",
    "code_interpreter_tool = {\"type\": \"code_interpreter\"}\n",
    "code_interpreter_resources={\"code_interpreter\":{\"file_ids\":[]}}\n",
    "\n",
    "# ...then, create the OpenAI Assistant Agent, attaching code interpreter\n",
    "assistant_agent = azure_openai_client.beta.assistants.create(\n",
    "  model=model_name,\n",
    "  instructions=\"You are a helpful agent\",\n",
    "  tools=[code_interpreter_tool],\n",
    "  tool_resources=code_interpreter_resources,\n",
    "  temperature=1,\n",
    "  top_p=1\n",
    ")"
   ]
  },
  {
   "cell_type": "markdown",
   "id": "300f0153-3b23-4128-87b7-a3854c2d9566",
   "metadata": {},
   "source": [
    "# Create the thread and attach a new message to it"
   ]
  },
  {
   "cell_type": "code",
   "execution_count": 5,
   "id": "92a56915-3db9-46f3-9336-cd1ad6aa1182",
   "metadata": {},
   "outputs": [
    {
     "name": "stdout",
     "output_type": "stream",
     "text": [
      "Created thread: Thread(id='thread_7rKNxsfVOPwQ0inyuZdTAqj7', created_at=1737213175, metadata={}, object='thread', tool_resources=ToolResources(code_interpreter=None, file_search=None))\n",
      "\n"
     ]
    },
    {
     "data": {
      "text/plain": [
       "Message(id='msg_Y01WnCB72DyydQtNpL06R0Wu', assistant_id=None, attachments=[], completed_at=None, content=[TextContentBlock(text=Text(annotations=[], value='\\n    Could you please create a bar chart for the operating profit using \\n    the following data and provide the file to me? \\n    Company A: $1.2 million, Company B: $2.5 million, Company C: $3.0 million, \\n    Company D: $1.8 million\\n    '), type='text')], created_at=1737213175, incomplete_at=None, incomplete_details=None, metadata={}, object='thread.message', role='user', run_id=None, status=None, thread_id='thread_7rKNxsfVOPwQ0inyuZdTAqj7')"
      ]
     },
     "execution_count": 5,
     "metadata": {},
     "output_type": "execute_result"
    }
   ],
   "source": [
    "# Create a thread\n",
    "thread = azure_openai_client.beta.threads.create()\n",
    "\n",
    "print(f\"Created thread: {thread}\\n\")\n",
    "\n",
    "# Add a user message to the thread\n",
    "message = azure_openai_client.beta.threads.messages.create(\n",
    "    thread_id=thread.id,\n",
    "    role=\"user\",\n",
    "    content=\"\"\"\n",
    "    Could you please create a bar chart for the operating profit using \n",
    "    the following data and provide the file to me? \n",
    "    Company A: $1.2 million, Company B: $2.5 million, Company C: $3.0 million, \n",
    "    Company D: $1.8 million\n",
    "    \"\"\",\n",
    ")\n",
    "\n",
    "azure_openai_client.beta.threads.messages.retrieve \\\n",
    "    (thread_id=thread.id, message_id=message.id)"
   ]
  },
  {
   "cell_type": "markdown",
   "id": "7dec81ea-03c6-4e6c-bf49-767acd1a5928",
   "metadata": {},
   "source": [
    "# Run the agent syncrhonously"
   ]
  },
  {
   "cell_type": "code",
   "execution_count": 6,
   "id": "21ea64d8-0e95-423f-925b-74f10c1f411b",
   "metadata": {},
   "outputs": [
    {
     "name": "stdout",
     "output_type": "stream",
     "text": [
      "Run status: queued\n",
      "Run status: in_progress\n",
      "Run status: in_progress\n",
      "Run status: in_progress\n",
      "Run status: in_progress\n",
      "Run status: in_progress\n",
      "Run status: in_progress\n",
      "Run status: in_progress\n",
      "Run status: in_progress\n",
      "Run status: completed\n",
      "CPU times: total: 62.5 ms\n",
      "Wall time: 11.6 s\n"
     ]
    }
   ],
   "source": [
    "%%time\n",
    "\n",
    "# Run the agent\n",
    "run = azure_openai_client.beta.threads.runs.create(\n",
    "  thread_id=thread.id,\n",
    "  assistant_id=assistant_agent.id\n",
    ")\n",
    "print(f\"Run status: {run.status}\")\n",
    "\n",
    "# Looping until the run completes or fails\n",
    "import time\n",
    "while run.status in ['queued', 'in_progress', 'cancelling']:\n",
    "    time.sleep(1)\n",
    "    run = azure_openai_client.beta.threads.runs.retrieve\\\n",
    "        (thread_id=thread.id, run_id=run.id)\n",
    "    print(f\"Run status: {run.status}\")  "
   ]
  },
  {
   "cell_type": "markdown",
   "id": "43ed4cdb-c460-4af1-8f90-2c5b55e831f9",
   "metadata": {},
   "source": [
    "# Retrieve messages from the thread after the agent run execution"
   ]
  },
  {
   "cell_type": "code",
   "execution_count": 7,
   "id": "e75ba08b-0c94-446d-b7e1-1d3ba12a2c51",
   "metadata": {},
   "outputs": [
    {
     "name": "stdout",
     "output_type": "stream",
     "text": [
      "Here are the 2 messages, starting with the most recent one:\n",
      "\n",
      "\n",
      "===== MESSAGE 1 =====\n",
      "\n",
      "CONTENT 1 (ImageFileContentBlock)--> image_file id: assistant-XJt7kN0R0AGDWy2qcGuJXdYu\n",
      "\n",
      "CONTENT 2 (TextContentBlock) --> Text: I have created the bar chart for the operating profit, and you can download it using the link below:\n",
      "\n",
      "[Download Operating Profit Chart](sandbox:/mnt/data/operating_profit_chart.png)\n",
      ">>> Annotation in MessageTextContent 2 of message 1: sandbox:/mnt/data/operating_profit_chart.png\n",
      "\n",
      "\n",
      "===== MESSAGE 2 =====\n",
      "\n",
      "CONTENT 1 (TextContentBlock) --> Text: \n",
      "    Could you please create a bar chart for the operating profit using \n",
      "    the following data and provide the file to me? \n",
      "    Company A: $1.2 million, Company B: $2.5 million, Company C: $3.0 million, \n",
      "    Company D: $1.8 million\n",
      "    \n"
     ]
    }
   ],
   "source": [
    "import openai\n",
    "\n",
    "if run.status == 'completed':    \n",
    "    messages = azure_openai_client.beta.threads.messages.list(thread_id=thread.id)\n",
    "    print(f\"Here are the {len(messages.data)} messages, starting with the most recent one:\\n\")\n",
    "    i=0\n",
    "    for m in messages.data:\n",
    "        j =0\n",
    "        i += 1\n",
    "        print(f\"\\n===== MESSAGE {i} =====\")\n",
    "        for c in m.content:\n",
    "            j += 1\n",
    "            if (type(c) is openai.types.beta.threads.image_file_content_block.ImageFileContentBlock):\n",
    "                print(f\"\\nCONTENT {j} (ImageFileContentBlock)--> image_file id: {c.image_file.file_id}\")\n",
    "            elif (type(c) is openai.types.beta.threads.text_content_block.TextContentBlock):\n",
    "                print(f\"\\nCONTENT {j} (TextContentBlock) --> Text: {c.text.value}\")\n",
    "                for a in c.text.annotations:\n",
    "                    print(f\">>> Annotation in MessageTextContent {j} of message {i}: {a.text}\\n\")\n",
    "else:\n",
    "    print(f\"Sorry, I can't proceed because the run status is {run.status}\")"
   ]
  },
  {
   "cell_type": "markdown",
   "id": "c4ac27b7-1e6e-42c5-a2d7-6118ec0cf9da",
   "metadata": {},
   "source": [
    "# Delete all assistants"
   ]
  },
  {
   "cell_type": "code",
   "execution_count": 8,
   "id": "05648e27-338e-423d-927b-ef441da75bd3",
   "metadata": {},
   "outputs": [
    {
     "name": "stdout",
     "output_type": "stream",
     "text": [
      "Nr. of existing agents that will be deleted: 1\n",
      "\n",
      "1 - Deleted agent Assistant(id='asst_USaATqCeq1nsXdzXdc7KHcTK', created_at=1737213175, description=None, instructions='You are a helpful agent', metadata={}, model='gpt-4o-mini', name=None, object='assistant', tools=[CodeInterpreterTool(type='code_interpreter')], response_format='auto', temperature=1.0, tool_resources=ToolResources(code_interpreter=ToolResourcesCodeInterpreter(file_ids=[]), file_search=None), top_p=1.0)\n"
     ]
    }
   ],
   "source": [
    "assistants = azure_openai_client.beta.assistants.list().data\n",
    "print (f\"Nr. of existing agents that will be deleted: {len(assistants)}\")\n",
    "\n",
    "i = 0\n",
    "for a in assistants:\n",
    "    i += 1\n",
    "    azure_openai_client.beta.assistants.delete(a.id)\n",
    "    print(f\"\\n{i} - Deleted agent {a}\")\n",
    "    "
   ]
  },
  {
   "cell_type": "markdown",
   "id": "c8cc2b04-a0b3-45ee-9066-4306e16511f9",
   "metadata": {},
   "source": [
    "# HIC SUNT LEONES"
   ]
  }
 ],
 "metadata": {
  "kernelspec": {
   "display_name": "aaas",
   "language": "python",
   "name": "aaas"
  },
  "language_info": {
   "codemirror_mode": {
    "name": "ipython",
    "version": 3
   },
   "file_extension": ".py",
   "mimetype": "text/x-python",
   "name": "python",
   "nbconvert_exporter": "python",
   "pygments_lexer": "ipython3",
   "version": "3.12.8"
  }
 },
 "nbformat": 4,
 "nbformat_minor": 5
}
