{
 "cells": [
  {
   "attachments": {},
   "cell_type": "markdown",
   "id": "6aff6e2d-97b4-441c-b548-2557bafae055",
   "metadata": {},
   "source": [
    "# [Create Agent with Azure AI Search](https://learn.microsoft.com/en-us/python/api/overview/azure/ai-projects-readme?view=azure-python-preview#create-agent-with-azure-ai-search)\n",
    "Azure AI Search is an enterprise search system for high-performance applications. It integrates with Azure OpenAI Service and Azure Machine Learning, offering advanced search technologies like vector search and full-text search. Ideal for knowledge base insights, information discovery, and automation.<br/><br/>\n",
    "**IMPORTANT**: in order to create the index leveraging the \"Import and Vectorize\" wizard, the `Storage Blob Data Contributor` role on the Storage Account is needed for the Azure AI Managed Identity."
   ]
  },
  {
   "cell_type": "markdown",
   "id": "a59136b0-7233-41a3-a2c7-104239de7990",
   "metadata": {},
   "source": [
    "## Create a connection to Azure AI Search using CLI\n",
    "\n",
    "1. First of all, let's check which connections we have, associated to our project mmai-hub04-prj01-fvye:\n",
    "   ```az ml connection list --resource-group mmai04-rg --workspace-name mmai-hub04-prj01-fvye```\n",
    "3. Now, create a new yaml file with the configuration for Azure AI Search, using key-based or key-less (as in this case) authentication. **Please note that the \"metadata\" section must be filled as shown, including the ResourceId that must contain the connection name reporten on line 1**:\n",
    "```\n",
    "name: mmai-hub04-fvye-connection-AISearch\n",
    "type: azure_ai_search\n",
    "endpoint: https://mmai-hub04-ai-search-fvye.search.windows.net/\n",
    "is_shared: true\n",
    "metadata:\n",
    "  ApiType: Azure\n",
    "  ResourceId: /subscriptions/eca2eddb-0f0c-4351-a634-52751499eeea/resourceGroups/mmai04-rg/providers/Microsoft.Search/searchServices/mmai-hub04-fvye-connection-AISearch\n",
    "  type: azure_ai_search\n",
    "  ```\n",
    "\n",
    "3. Run the command `az ml connection create --file aisearchconnection.yml --resource-group mmai04-rg --workspace-name mmai-hub04-prj01-fvye`"
   ]
  },
  {
   "cell_type": "code",
   "execution_count": 1,
   "id": "98d9cc9d-cbef-4b35-a4a3-84802dd4ee06",
   "metadata": {},
   "outputs": [
    {
     "name": "stdout",
     "output_type": "stream",
     "text": [
      "Project Connection String: <...mai04-rg;mmai-hub04-prj01-fvye>\n"
     ]
    }
   ],
   "source": [
    "import os\n",
    "from dotenv import load_dotenv # requires python-dotenv\n",
    "# import logging\n",
    "# logging.basicConfig(level=logging.INFO) # Configure logging \n",
    "\n",
    "load_dotenv(\"./../config/credentials_my.env\")\n",
    "model_name =  \"gpt-4o-0513\" # https://learn.microsoft.com/en-us/azure/ai-services/agents/how-to/tools/azure-ai-search?tabs=azurecli%2Cpython&pivots=overview-azure-ai-search\n",
    "index_name =  \"ms-surface-specs\"\n",
    "\n",
    "print(f'Project Connection String: <...{os.environ[\"PROJECT_CONNECTION_STRING\"][-30:]}>')"
   ]
  },
  {
   "cell_type": "code",
   "execution_count": 2,
   "id": "5a9abb62-b855-402f-9e22-583ffe6bf8cb",
   "metadata": {},
   "outputs": [
    {
     "data": {
      "text/plain": [
       "{'subscription_id': 'eca2eddb-0f0c-4351-a634-52751499eeea',\n",
       " 'resource_group_name': 'mmai04-rg',\n",
       " 'project_name': 'mmai-hub04-prj01-fvye'}"
      ]
     },
     "execution_count": 2,
     "metadata": {},
     "output_type": "execute_result"
    }
   ],
   "source": [
    "from azure.ai.projects import AIProjectClient\n",
    "from azure.ai.projects.models import AzureAISearchTool # <<<<<<<<<<<<<<< SPECIFIC FOR AZURE AI SEARCH\n",
    "from azure.identity import DefaultAzureCredential\n",
    "\n",
    "project_client = AIProjectClient.from_connection_string(\n",
    "    credential=DefaultAzureCredential(), conn_str=os.environ[\"PROJECT_CONNECTION_STRING\"]\n",
    ")\n",
    "\n",
    "project_client.scope"
   ]
  },
  {
   "cell_type": "code",
   "execution_count": 3,
   "id": "7f45388f-98a6-463c-a163-fbff707c5163",
   "metadata": {},
   "outputs": [
    {
     "name": "stdout",
     "output_type": "stream",
     "text": [
      "{\n",
      " \"name\": \"mmai-hub04-fvye-connection-AIServices_aoai\",\n",
      " \"id\": \"/subscriptions/eca2eddb-0f0c-4351-a634-52751499eeea/resourceGroups/mmai04-rg/providers/Microsoft.MachineLearningServices/workspaces/mmai-hub04-prj01-fvye/connections/mmai-hub04-fvye-connection-AIServices_aoai\",\n",
      " \"authentication_type\": \"AAD\",\n",
      " \"connection_type\": \"ConnectionType.AZURE_OPEN_AI\",\n",
      " \"endpoint_url\": \"https://mmai-hub04-ai-servicesfvye.openai.azure.com\",\n",
      " \"key\": null\n",
      " \"token_credential\": null\n",
      "}\n",
      "\n",
      "{\n",
      " \"name\": \"mmai-hub04-fvye-connection-AIServices\",\n",
      " \"id\": \"/subscriptions/eca2eddb-0f0c-4351-a634-52751499eeea/resourceGroups/mmai04-rg/providers/Microsoft.MachineLearningServices/workspaces/mmai-hub04-prj01-fvye/connections/mmai-hub04-fvye-connection-AIServices\",\n",
      " \"authentication_type\": \"AAD\",\n",
      " \"connection_type\": \"ConnectionType.AZURE_AI_SERVICES\",\n",
      " \"endpoint_url\": \"https://mmai-hub04-ai-servicesfvye.cognitiveservices.azure.com\",\n",
      " \"key\": null\n",
      " \"token_credential\": null\n",
      "}\n",
      "\n",
      "{\n",
      " \"name\": \"grounding_with_bing_search_connection\",\n",
      " \"id\": \"/subscriptions/eca2eddb-0f0c-4351-a634-52751499eeea/resourceGroups/mmai04-rg/providers/Microsoft.MachineLearningServices/workspaces/mmai-hub04-prj01-fvye/connections/grounding_with_bing_search_connection\",\n",
      " \"authentication_type\": \"ApiKey\",\n",
      " \"connection_type\": \"ApiKey\",\n",
      " \"endpoint_url\": \"https://api.bing.microsoft.com\",\n",
      " \"key\": null\n",
      " \"token_credential\": null\n",
      "}\n",
      "\n",
      ">>>>>>> AI SEARCH FOUND: {\n",
      " \"name\": \"mmai-hub04-fvye-connection-AISearch2\",\n",
      " \"id\": \"/subscriptions/eca2eddb-0f0c-4351-a634-52751499eeea/resourceGroups/mmai04-rg/providers/Microsoft.MachineLearningServices/workspaces/mmai-hub04-prj01-fvye/connections/mmai-hub04-fvye-connection-AISearch2\",\n",
      " \"authentication_type\": \"AAD\",\n",
      " \"connection_type\": \"ConnectionType.AZURE_AI_SEARCH\",\n",
      " \"endpoint_url\": \"https://mmai-hub04-ai-search-fvye.search.windows.net\",\n",
      " \"key\": null\n",
      " \"token_credential\": null\n",
      "}\n",
      "\n",
      ">>>>>>> AI SEARCH FOUND: {\n",
      " \"name\": \"mmai-hub04-fvye-connection-AISearch\",\n",
      " \"id\": \"/subscriptions/eca2eddb-0f0c-4351-a634-52751499eeea/resourceGroups/mmai04-rg/providers/Microsoft.MachineLearningServices/workspaces/mmai-hub04-prj01-fvye/connections/mmai-hub04-fvye-connection-AISearch\",\n",
      " \"authentication_type\": \"AAD\",\n",
      " \"connection_type\": \"ConnectionType.AZURE_AI_SEARCH\",\n",
      " \"endpoint_url\": \"https://mmai-hub04-ai-search-fvye.search.windows.net\",\n",
      " \"key\": null\n",
      " \"token_credential\": null\n",
      "}\n",
      "\n",
      "{\n",
      " \"name\": \"mmai-hub04-prj01-fvye/workspaceblobstore\",\n",
      " \"id\": \"/subscriptions/eca2eddb-0f0c-4351-a634-52751499eeea/resourceGroups/mmai04-rg/providers/Microsoft.MachineLearningServices/workspaces/mmai-hub04-prj01-fvye/connections/mmai-hub04-prj01-fvye/workspaceblobstore\",\n",
      " \"authentication_type\": \"None\",\n",
      " \"connection_type\": \"ConnectionType.AZURE_BLOB_STORAGE\",\n",
      " \"endpoint_url\": \"https://mmaihub04storagefvye.core.windows.net/a20f3480-e38b-433f-83ad-058c03c2bf92-azureml-blobstore\",\n",
      " \"key\": null\n",
      " \"token_credential\": null\n",
      "}\n",
      "\n",
      "{\n",
      " \"name\": \"mmai-hub04-prj01-fvye/workspaceartifactstore\",\n",
      " \"id\": \"/subscriptions/eca2eddb-0f0c-4351-a634-52751499eeea/resourceGroups/mmai04-rg/providers/Microsoft.MachineLearningServices/workspaces/mmai-hub04-prj01-fvye/connections/mmai-hub04-prj01-fvye/workspaceartifactstore\",\n",
      " \"authentication_type\": \"None\",\n",
      " \"connection_type\": \"ConnectionType.AZURE_BLOB_STORAGE\",\n",
      " \"endpoint_url\": \"https://mmaihub04storagefvye.core.windows.net/a20f3480-e38b-433f-83ad-058c03c2bf92-azureml\",\n",
      " \"key\": null\n",
      " \"token_credential\": null\n",
      "}\n",
      "\n"
     ]
    }
   ],
   "source": [
    "conn_list = project_client.connections.list()\n",
    "conn_id = \"\"\n",
    "for conn in conn_list:    \n",
    "    if conn.connection_type == \"CognitiveSearch\":\n",
    "        print(f\">>>>>>> AI SEARCH FOUND: {conn}\")\n",
    "        conn_id = conn.id\n",
    "    else:\n",
    "        print(conn)"
   ]
  },
  {
   "cell_type": "code",
   "execution_count": 4,
   "id": "39c9c299-d540-4d97-bf96-ef6bac3f4fe4",
   "metadata": {},
   "outputs": [
    {
     "data": {
      "text/plain": [
       "'/subscriptions/eca2eddb-0f0c-4351-a634-52751499eeea/resourceGroups/mmai04-rg/providers/Microsoft.MachineLearningServices/workspaces/mmai-hub04-prj01-fvye/connections/mmai-hub04-fvye-connection-AISearch'"
      ]
     },
     "execution_count": 4,
     "metadata": {},
     "output_type": "execute_result"
    }
   ],
   "source": [
    "conn_id"
   ]
  },
  {
   "cell_type": "code",
   "execution_count": 5,
   "id": "db6d8143-2d9b-4454-81eb-7e4bf91523d3",
   "metadata": {},
   "outputs": [
    {
     "name": "stdout",
     "output_type": "stream",
     "text": [
      "ai_search.definitions: [{'type': 'azure_ai_search'}]\n",
      "ai_search.resources: {'azure_ai_search': {'indexes': [{'index_connection_id': '/subscriptions/eca2eddb-0f0c-4351-a634-52751499eeea/resourceGroups/mmai04-rg/providers/Microsoft.MachineLearningServices/workspaces/mmai-hub04-prj01-fvye/connections/mmai-hub04-fvye-connection-AISearch', 'index_name': 'ms-surface-specs'}]}}\n"
     ]
    }
   ],
   "source": [
    "# Initialize agent AI search tool and add the search index connection id\n",
    "ai_search = AzureAISearchTool(index_connection_id=conn_id, index_name=index_name)\n",
    "print(f\"ai_search.definitions: {ai_search.definitions}\")\n",
    "print(f\"ai_search.resources: {ai_search.resources}\")"
   ]
  },
  {
   "cell_type": "code",
   "execution_count": 6,
   "id": "9b448220-3fda-43ad-a8be-458d84bf5677",
   "metadata": {},
   "outputs": [
    {
     "data": {
      "text/plain": [
       "{'object': 'list', 'data': [], 'first_id': None, 'last_id': None, 'has_more': False}"
      ]
     },
     "execution_count": 6,
     "metadata": {},
     "output_type": "execute_result"
    }
   ],
   "source": [
    "# Check if we already have any agents defined\n",
    "project_client.agents.list_agents()"
   ]
  },
  {
   "cell_type": "code",
   "execution_count": 7,
   "id": "c2f4c841-42aa-4245-9bdd-a5811b9f424a",
   "metadata": {},
   "outputs": [
    {
     "data": {
      "text/plain": [
       "<bound method _MyMutableMapping.items of {'id': 'asst_PyHOBnnF7bxu6UyQNzt3e0Jf', 'object': 'assistant', 'created_at': 1735902598, 'name': 'my-assistant', 'description': None, 'model': 'gpt-4o-0513', 'instructions': 'You are a helpful assistant', 'tools': [{'type': 'azure_ai_search'}], 'top_p': 1.0, 'temperature': 1.0, 'tool_resources': {'azure_ai_search': {'indexes': [{'index_connection_id': '/subscriptions/eca2eddb-0f0c-4351-a634-52751499eeea/resourceGroups/mmai04-rg/providers/Microsoft.MachineLearningServices/workspaces/mmai-hub04-prj01-fvye/connections/mmai-hub04-fvye-connection-AISearch', 'index_name': 'ms-surface-specs'}]}}, 'metadata': {}, 'response_format': 'auto'}>"
      ]
     },
     "execution_count": 7,
     "metadata": {},
     "output_type": "execute_result"
    }
   ],
   "source": [
    "# Create agent with AI search tool and process assistant run\n",
    "agent = project_client.agents.create_agent(\n",
    "    model=model_name,\n",
    "    name=\"my-assistant\",\n",
    "    instructions=\"You are a helpful assistant\",\n",
    "    tools=ai_search.definitions,\n",
    "    tool_resources=ai_search.resources,\n",
    "    headers={\"x-ms-enable-preview\": \"true\"},\n",
    ")\n",
    "\n",
    "agent.items"
   ]
  },
  {
   "cell_type": "code",
   "execution_count": 8,
   "id": "bd0d0394-2ce9-471c-ae3f-1f5c348c7159",
   "metadata": {},
   "outputs": [
    {
     "data": {
      "text/plain": [
       "{'object': 'list', 'data': [{'id': 'asst_PyHOBnnF7bxu6UyQNzt3e0Jf', 'object': 'assistant', 'created_at': 1735902598, 'name': 'my-assistant', 'description': None, 'model': 'gpt-4o-0513', 'instructions': 'You are a helpful assistant', 'tools': [{'type': 'azure_ai_search'}], 'top_p': 1.0, 'temperature': 1.0, 'tool_resources': {'azure_ai_search': {'indexes': [{'index_connection_id': '/subscriptions/eca2eddb-0f0c-4351-a634-52751499eeea/resourceGroups/mmai04-rg/providers/Microsoft.MachineLearningServices/workspaces/mmai-hub04-prj01-fvye/connections/mmai-hub04-fvye-connection-AISearch', 'index_name': 'ms-surface-specs'}]}}, 'metadata': {}, 'response_format': 'auto'}], 'first_id': 'asst_PyHOBnnF7bxu6UyQNzt3e0Jf', 'last_id': 'asst_PyHOBnnF7bxu6UyQNzt3e0Jf', 'has_more': False}"
      ]
     },
     "execution_count": 8,
     "metadata": {},
     "output_type": "execute_result"
    }
   ],
   "source": [
    "# Check again if the agent created above is now present here\n",
    "project_client.agents.list_agents()"
   ]
  },
  {
   "cell_type": "code",
   "execution_count": 9,
   "id": "06f80125-1252-4060-bdf5-3b52acc42a47",
   "metadata": {},
   "outputs": [
    {
     "name": "stdout",
     "output_type": "stream",
     "text": [
      "Created thread: {'id': 'thread_WbeQkWTfZovU5OPTlQb3QWK2', 'object': 'thread', 'created_at': 1735902599, 'metadata': {}, 'tool_resources': {}}\n"
     ]
    }
   ],
   "source": [
    "# Create thread for communication\n",
    "thread = project_client.agents.create_thread()\n",
    "print(f\"Created thread: {thread}\")"
   ]
  },
  {
   "cell_type": "code",
   "execution_count": 10,
   "id": "1c138ab8-205f-4c82-a575-f915afd45e85",
   "metadata": {},
   "outputs": [
    {
     "name": "stdout",
     "output_type": "stream",
     "text": [
      "Created message: {'id': 'msg_GbAMhGEs6YPn4jRPB1hbCpin', 'object': 'thread.message', 'created_at': 1735902599, 'assistant_id': None, 'thread_id': 'thread_WbeQkWTfZovU5OPTlQb3QWK2', 'run_id': None, 'role': 'user', 'content': [{'type': 'text', 'text': {'value': 'What kind of keys does the the MS Surface Book keyboard include? Do **NOT** use your own internal knowledge.', 'annotations': []}}], 'attachments': [], 'metadata': {}}\n"
     ]
    }
   ],
   "source": [
    "# Create message to thread\n",
    "message = project_client.agents.create_message(\n",
    "    thread_id=thread.id, role=\"user\", content=\"What kind of keys does the MS Surface Book keyboard include? Do **NOT** use your own internal knowledge.\" # \"How does wikipedia explain Euler's Identity?\"\n",
    ")\n",
    "print(f\"Created message: {message}\")"
   ]
  },
  {
   "cell_type": "code",
   "execution_count": 11,
   "id": "8604f495-2519-42a7-a19a-026538cf2c2c",
   "metadata": {},
   "outputs": [
    {
     "name": "stdout",
     "output_type": "stream",
     "text": [
      "Run finished with status: RunStatus.COMPLETED. Run: {'id': 'run_z5qTBFOEWQ44O3i5VkSSo7Og', 'object': 'thread.run', 'created_at': 1735902600, 'assistant_id': 'asst_PyHOBnnF7bxu6UyQNzt3e0Jf', 'thread_id': 'thread_WbeQkWTfZovU5OPTlQb3QWK2', 'status': 'completed', 'started_at': 1735902600, 'expires_at': None, 'cancelled_at': None, 'failed_at': None, 'completed_at': 1735902607, 'required_action': None, 'last_error': None, 'model': 'gpt-4o-0513', 'instructions': 'You are a helpful assistant', 'tools': [{'type': 'azure_ai_search'}], 'tool_resources': {}, 'metadata': {}, 'temperature': 1.0, 'top_p': 1.0, 'max_completion_tokens': None, 'max_prompt_tokens': None, 'truncation_strategy': {'type': 'auto', 'last_messages': None}, 'incomplete_details': None, 'usage': {'prompt_tokens': 1204, 'completion_tokens': 100, 'total_tokens': 1304}, 'response_format': 'auto', 'tool_choice': 'auto', 'parallel_tool_calls': True}\n",
      "CPU times: total: 15.6 ms\n",
      "Wall time: 7.7 s\n"
     ]
    }
   ],
   "source": [
    "%%time\n",
    "# Create and process agent run in thread with tools\n",
    "run = project_client.agents.create_and_process_run(thread_id=thread.id, assistant_id=agent.id)\n",
    "print(f\"Run finished with status: {run.status}. Run: {run}\")\n",
    "\n",
    "if run.status == \"failed\":\n",
    "    # Check if you got \"Rate limit is exceeded.\", then you want to get more quota\n",
    "    print(f\"Run failed: {run.last_error}\")"
   ]
  },
  {
   "cell_type": "code",
   "execution_count": 12,
   "id": "bd778151-0cbb-4216-8de9-e4dee771d546",
   "metadata": {},
   "outputs": [
    {
     "data": {
      "text/plain": [
       "{'object': 'list', 'data': [{'id': 'msg_u0UGkwOehF7i4u6BzoeN7Acz', 'object': 'thread.message', 'created_at': 1735902606, 'assistant_id': 'asst_PyHOBnnF7bxu6UyQNzt3e0Jf', 'thread_id': 'thread_WbeQkWTfZovU5OPTlQb3QWK2', 'run_id': 'run_z5qTBFOEWQ44O3i5VkSSo7Og', 'role': 'assistant', 'content': [{'type': 'text', 'text': {'value': 'The Surface Book keyboard has a standard layout and includes backlit keys, special shortcut keys, and function keys. The keys on the top row double as function keys, which can be used by holding down the Fn key while pressing a top-row key. The keyboard also includes specific shortcuts for tasks such as adjusting backlighting, playing or pausing media, muting audio, and adjusting the volume【7:0†source】.', 'annotations': [{'type': 'file_citation', 'text': '【7:0†source】', 'start_index': 393, 'end_index': 405, 'file_citation': {'file_id': 'surface-book-user-guide-EN.pdf'}}, {'type': 'file_citation', 'text': '【7:0†source】', 'start_index': 393, 'end_index': 405, 'file_citation': {'file_id': 'surface-book-user-guide-EN.pdf'}}]}}], 'attachments': [], 'metadata': {}}, {'id': 'msg_GbAMhGEs6YPn4jRPB1hbCpin', 'object': 'thread.message', 'created_at': 1735902599, 'assistant_id': None, 'thread_id': 'thread_WbeQkWTfZovU5OPTlQb3QWK2', 'run_id': None, 'role': 'user', 'content': [{'type': 'text', 'text': {'value': 'What kind of keys does the the MS Surface Book keyboard include? Do **NOT** use your own internal knowledge.', 'annotations': []}}], 'attachments': [], 'metadata': {}}], 'first_id': 'msg_u0UGkwOehF7i4u6BzoeN7Acz', 'last_id': 'msg_GbAMhGEs6YPn4jRPB1hbCpin', 'has_more': False}"
      ]
     },
     "execution_count": 12,
     "metadata": {},
     "output_type": "execute_result"
    }
   ],
   "source": [
    "# Fetch and log all messages\n",
    "messages = project_client.agents.list_messages(thread_id=thread.id)\n",
    "messages"
   ]
  },
  {
   "cell_type": "code",
   "execution_count": 13,
   "id": "0d3222fb-0f69-43ec-8762-65cc8242df67",
   "metadata": {},
   "outputs": [
    {
     "name": "stdout",
     "output_type": "stream",
     "text": [
      "Last Message: The Surface Book keyboard has a standard layout and includes backlit keys, special shortcut keys, and function keys. The keys on the top row double as function keys, which can be used by holding down the Fn key while pressing a top-row key. The keyboard also includes specific shortcuts for tasks such as adjusting backlighting, playing or pausing media, muting audio, and adjusting the volume【7:0†source】.\n"
     ]
    }
   ],
   "source": [
    "# Get the last message from the sender\n",
    "last_msg = messages.get_last_text_message_by_sender(\"assistant\")\n",
    "if last_msg:\n",
    "    print(f\"Last Message: {last_msg.text.value}\")"
   ]
  },
  {
   "cell_type": "code",
   "execution_count": 14,
   "id": "f7a46d95-6368-428e-8335-761e3661e7b1",
   "metadata": {},
   "outputs": [
    {
     "name": "stdout",
     "output_type": "stream",
     "text": [
      "【7:0†source】 surface-book-user-guide-EN.pdf\n",
      "【7:0†source】 surface-book-user-guide-EN.pdf\n"
     ]
    }
   ],
   "source": [
    "# Print citations from the messages\n",
    "for annotation in messages.file_citation_annotations:\n",
    "    print(annotation[\"text\"], annotation[\"file_citation\"][\"file_id\"])"
   ]
  },
  {
   "cell_type": "code",
   "execution_count": 15,
   "id": "cd551092-22cb-465c-baa3-ff58823fbb72",
   "metadata": {},
   "outputs": [
    {
     "name": "stdout",
     "output_type": "stream",
     "text": [
      "Last run step detail: [{'id': 'step_RXCukcyWXUrWPHeGl59FCwmV', 'object': 'thread.run.step', 'created_at': 1735902606, 'run_id': 'run_z5qTBFOEWQ44O3i5VkSSo7Og', 'assistant_id': 'asst_PyHOBnnF7bxu6UyQNzt3e0Jf', 'thread_id': 'thread_WbeQkWTfZovU5OPTlQb3QWK2', 'type': 'message_creation', 'status': 'completed', 'cancelled_at': None, 'completed_at': 1735902607, 'expires_at': None, 'failed_at': None, 'last_error': None, 'step_details': {'type': 'message_creation', 'message_creation': {'message_id': 'msg_u0UGkwOehF7i4u6BzoeN7Acz'}}, 'usage': {'prompt_tokens': 1204, 'completion_tokens': 88, 'total_tokens': 1292}}, {'id': 'step_rhOzg9gYt8ISIKtCHI9WYb5I', 'object': 'thread.run.step', 'created_at': 1735902604, 'run_id': 'run_z5qTBFOEWQ44O3i5VkSSo7Og', 'assistant_id': 'asst_PyHOBnnF7bxu6UyQNzt3e0Jf', 'thread_id': 'thread_WbeQkWTfZovU5OPTlQb3QWK2', 'type': 'tool_calls', 'status': 'completed', 'cancelled_at': None, 'completed_at': 1735902606, 'expires_at': None, 'failed_at': None, 'last_error': None, 'step_details': {'type': 'tool_calls', 'tool_calls': [{'id': 'call_YQQqftnrHmhZLRt2tWtkeDfL', 'type': 'azure_ai_search', 'azure_ai_search': {}}]}, 'usage': {'prompt_tokens': 0, 'completion_tokens': 12, 'total_tokens': 12}}]\n"
     ]
    }
   ],
   "source": [
    "run_steps = project_client.agents.list_run_steps(run_id=run.id, thread_id=thread.id)\n",
    "run_steps_data = run_steps['data']\n",
    "print(f\"Last run step detail: {run_steps_data}\")"
   ]
  },
  {
   "cell_type": "code",
   "execution_count": 16,
   "id": "a13a57be-292d-4008-b3de-68c9878b2980",
   "metadata": {},
   "outputs": [
    {
     "name": "stdout",
     "output_type": "stream",
     "text": [
      "{'id': 'step_RXCukcyWXUrWPHeGl59FCwmV', 'object': 'thread.run.step', 'created_at': 1735902606, 'run_id': 'run_z5qTBFOEWQ44O3i5VkSSo7Og', 'assistant_id': 'asst_PyHOBnnF7bxu6UyQNzt3e0Jf', 'thread_id': 'thread_WbeQkWTfZovU5OPTlQb3QWK2', 'type': 'message_creation', 'status': 'completed', 'cancelled_at': None, 'completed_at': 1735902607, 'expires_at': None, 'failed_at': None, 'last_error': None, 'step_details': {'type': 'message_creation', 'message_creation': {'message_id': 'msg_u0UGkwOehF7i4u6BzoeN7Acz'}}, 'usage': {'prompt_tokens': 1204, 'completion_tokens': 88, 'total_tokens': 1292}} \n",
      "\n",
      "{'id': 'step_rhOzg9gYt8ISIKtCHI9WYb5I', 'object': 'thread.run.step', 'created_at': 1735902604, 'run_id': 'run_z5qTBFOEWQ44O3i5VkSSo7Og', 'assistant_id': 'asst_PyHOBnnF7bxu6UyQNzt3e0Jf', 'thread_id': 'thread_WbeQkWTfZovU5OPTlQb3QWK2', 'type': 'tool_calls', 'status': 'completed', 'cancelled_at': None, 'completed_at': 1735902606, 'expires_at': None, 'failed_at': None, 'last_error': None, 'step_details': {'type': 'tool_calls', 'tool_calls': [{'id': 'call_YQQqftnrHmhZLRt2tWtkeDfL', 'type': 'azure_ai_search', 'azure_ai_search': {}}]}, 'usage': {'prompt_tokens': 0, 'completion_tokens': 12, 'total_tokens': 12}} \n",
      "\n"
     ]
    }
   ],
   "source": [
    "for rs in run_steps[\"data\"]:\n",
    "    print(rs, '\\n')"
   ]
  },
  {
   "cell_type": "markdown",
   "id": "944ec759-c053-4ab7-81aa-15cfa4961468",
   "metadata": {},
   "source": [
    "# START teardown"
   ]
  },
  {
   "cell_type": "code",
   "execution_count": 17,
   "id": "4067d9ab-2a20-4107-be1f-9ea5ccd19cc0",
   "metadata": {},
   "outputs": [
    {
     "data": {
      "text/plain": [
       "{'object': 'list', 'data': [{'id': 'asst_PyHOBnnF7bxu6UyQNzt3e0Jf', 'object': 'assistant', 'created_at': 1735902598, 'name': 'my-assistant', 'description': None, 'model': 'gpt-4o-0513', 'instructions': 'You are a helpful assistant', 'tools': [{'type': 'azure_ai_search'}], 'top_p': 1.0, 'temperature': 1.0, 'tool_resources': {'azure_ai_search': {'indexes': [{'index_connection_id': '/subscriptions/eca2eddb-0f0c-4351-a634-52751499eeea/resourceGroups/mmai04-rg/providers/Microsoft.MachineLearningServices/workspaces/mmai-hub04-prj01-fvye/connections/mmai-hub04-fvye-connection-AISearch', 'index_name': 'ms-surface-specs'}]}}, 'metadata': {}, 'response_format': 'auto'}], 'first_id': 'asst_PyHOBnnF7bxu6UyQNzt3e0Jf', 'last_id': 'asst_PyHOBnnF7bxu6UyQNzt3e0Jf', 'has_more': False}"
      ]
     },
     "execution_count": 17,
     "metadata": {},
     "output_type": "execute_result"
    }
   ],
   "source": [
    "project_client.agents.list_agents()"
   ]
  },
  {
   "cell_type": "code",
   "execution_count": 18,
   "id": "11b0c075-9f1a-47ca-b8c8-ad2e9d85b477",
   "metadata": {},
   "outputs": [
    {
     "name": "stdout",
     "output_type": "stream",
     "text": [
      "deleting trhead: {'id': 'thread_WbeQkWTfZovU5OPTlQb3QWK2', 'object': 'thread', 'created_at': 1735902599, 'metadata': {}, 'tool_resources': {}}...\n"
     ]
    },
    {
     "data": {
      "text/plain": [
       "{'id': 'thread_WbeQkWTfZovU5OPTlQb3QWK2', 'object': 'thread.deleted', 'deleted': True}"
      ]
     },
     "execution_count": 18,
     "metadata": {},
     "output_type": "execute_result"
    }
   ],
   "source": [
    "print(f\"deleting trhead: {thread}...\")\n",
    "project_client.agents.delete_thread(thread.id)"
   ]
  },
  {
   "cell_type": "code",
   "execution_count": 19,
   "id": "db9b895a-b8f3-4515-937f-3b8a47966a93",
   "metadata": {},
   "outputs": [],
   "source": [
    "for f in project_client.agents.list_files()['data']:\n",
    "    print(f\"deleting file: {f}...\")\n",
    "    project_client.agents.delete_file(f.id)"
   ]
  },
  {
   "cell_type": "code",
   "execution_count": 20,
   "id": "ec6c51f5-1c91-4502-b504-9f1212bb2086",
   "metadata": {},
   "outputs": [],
   "source": [
    "for v in project_client.agents.list_vector_stores()['data']:\n",
    "    print(f\"deleting vectore store: {v}...\")\n",
    "    project_client.agents.delete_vector_store(v.id)"
   ]
  },
  {
   "cell_type": "code",
   "execution_count": 21,
   "id": "48399858-16e3-4b7c-a13a-aa3ed8320539",
   "metadata": {},
   "outputs": [
    {
     "name": "stdout",
     "output_type": "stream",
     "text": [
      "Deleting agent my-assistant (asst_PyHOBnnF7bxu6UyQNzt3e0Jf)...\n"
     ]
    }
   ],
   "source": [
    "# Delete all agents\n",
    "for pca in project_client.agents.list_agents()['data']:\n",
    "    print(f\"Deleting agent {pca.name} ({pca.id})...\")\n",
    "    project_client.agents.delete_agent(pca.id)"
   ]
  },
  {
   "cell_type": "markdown",
   "id": "c8cc2b04-a0b3-45ee-9066-4306e16511f9",
   "metadata": {},
   "source": [
    "# HIC SUNT LEONES"
   ]
  }
 ],
 "metadata": {
  "kernelspec": {
   "display_name": "aaas",
   "language": "python",
   "name": "aaas"
  },
  "language_info": {
   "codemirror_mode": {
    "name": "ipython",
    "version": 3
   },
   "file_extension": ".py",
   "mimetype": "text/x-python",
   "name": "python",
   "nbconvert_exporter": "python",
   "pygments_lexer": "ipython3",
   "version": "3.12.8"
  }
 },
 "nbformat": 4,
 "nbformat_minor": 5
}
