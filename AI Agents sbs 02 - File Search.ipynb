{
 "cells": [
  {
   "cell_type": "code",
   "execution_count": 1,
   "id": "98d9cc9d-cbef-4b35-a4a3-84802dd4ee06",
   "metadata": {},
   "outputs": [
    {
     "name": "stdout",
     "output_type": "stream",
     "text": [
      "Project Connection String: <...mai04-rg;mmai-hub04-prj01-fvye>\n"
     ]
    }
   ],
   "source": [
    "import os\n",
    "from dotenv import load_dotenv # requires python-dotenv\n",
    "# import logging\n",
    "# logging.basicConfig(level=logging.INFO) # Configure logging \n",
    "\n",
    "load_dotenv(\"./../config/credentials_my.env\")\n",
    "model_name =  \"gpt-4\"\n",
    "\n",
    "print(f'Project Connection String: <...{os.environ[\"PROJECT_CONNECTION_STRING\"][-30:]}>')"
   ]
  },
  {
   "cell_type": "code",
   "execution_count": 2,
   "id": "5a9abb62-b855-402f-9e22-583ffe6bf8cb",
   "metadata": {},
   "outputs": [
    {
     "data": {
      "text/plain": [
       "{'subscription_id': 'eca2eddb-0f0c-4351-a634-52751499eeea',\n",
       " 'resource_group_name': 'mmai04-rg',\n",
       " 'project_name': 'mmai-hub04-prj01-fvye'}"
      ]
     },
     "execution_count": 2,
     "metadata": {},
     "output_type": "execute_result"
    }
   ],
   "source": [
    "from azure.ai.projects import AIProjectClient\n",
    "from azure.ai.projects.models import (\n",
    "    FileSearchTool,\n",
    ")\n",
    "from azure.identity import DefaultAzureCredential\n",
    "\n",
    "project_client = AIProjectClient.from_connection_string(\n",
    "    credential=DefaultAzureCredential(), conn_str=os.environ[\"PROJECT_CONNECTION_STRING\"]\n",
    ")\n",
    "\n",
    "project_client.scope"
   ]
  },
  {
   "cell_type": "code",
   "execution_count": 3,
   "id": "221383a3-d0bd-4bb1-a989-2be0fb7a2ece",
   "metadata": {},
   "outputs": [
    {
     "data": {
      "text/plain": [
       "[{'object': 'file', 'id': 'assistant-soO8m1jYtYMeLt9QIq8dqgV2', 'purpose': 'assistants', 'filename': 'azureml://subscriptions/eca2eddb-0f0c-4351-a634-52751499eeea/resourcegroups/mmai04-rg/workspaces/mmai-hub04-prj01-fvye/datastores/workspaceblobstore/paths/LocalUpload/d6b40c5c4bae2d7022f0fb660f2773d4/product_info_1.md', 'bytes': 10999, 'created_at': 1735604056, 'status': 'processed', 'status_details': None}]"
      ]
     },
     "execution_count": 3,
     "metadata": {},
     "output_type": "execute_result"
    }
   ],
   "source": [
    "project_client.agents.list_files()['data']"
   ]
  },
  {
   "cell_type": "code",
   "execution_count": 4,
   "id": "8d5c9fbf-bf1c-4e25-8c36-2be67fd8a292",
   "metadata": {},
   "outputs": [
    {
     "name": "stdout",
     "output_type": "stream",
     "text": [
      "deleting azureml://subscriptions/eca2eddb-0f0c-4351-a634-52751499eeea/resourcegroups/mmai04-rg/workspaces/mmai-hub04-prj01-fvye/datastores/workspaceblobstore/paths/LocalUpload/d6b40c5c4bae2d7022f0fb660f2773d4/product_info_1.md...\n"
     ]
    }
   ],
   "source": [
    "for f in project_client.agents.list_files()['data']:\n",
    "    print(f\"deleting {f.filename}...\")\n",
    "    project_client.agents.delete_file(f.id)"
   ]
  },
  {
   "cell_type": "code",
   "execution_count": 5,
   "id": "75ccbead-5635-4b7a-b8b1-980ef2da02f1",
   "metadata": {},
   "outputs": [
    {
     "name": "stdout",
     "output_type": "stream",
     "text": [
      "Uploaded file: {'object': 'file', 'id': 'assistant-p5GGjAesPBP0WwtkQ3lh4Ycm', 'purpose': 'assistants', 'filename': 'product_info_1.md', 'bytes': 10999, 'created_at': 1735604119, 'status': 'processed', 'status_details': None}\n"
     ]
    }
   ],
   "source": [
    "file = project_client.agents.upload_file_and_poll(file_path=\"./product_info_1.md\", purpose=\"assistants\")\n",
    "print(f\"Uploaded file: {file}\")"
   ]
  },
  {
   "cell_type": "code",
   "execution_count": 6,
   "id": "9a848220-84d9-4f0d-a8d2-59cb9c1b59d0",
   "metadata": {},
   "outputs": [
    {
     "name": "stdout",
     "output_type": "stream",
     "text": [
      "Created vector store: {'id': 'vs_9yI4NaEVjIz9opOMNx7BO8is', 'object': 'vector_store', 'name': 'my_vectorstore', 'status': 'completed', 'usage_bytes': 17143, 'created_at': 1735604121, 'file_counts': {'in_progress': 0, 'completed': 1, 'failed': 0, 'cancelled': 0, 'total': 1}, 'metadata': {}, 'expires_after': None, 'expires_at': None, 'last_active_at': 1735604121}\n"
     ]
    }
   ],
   "source": [
    "vector_store = project_client.agents.create_vector_store_and_poll(file_ids=[file.id], name=\"my_vectorstore\")\n",
    "print(f\"Created vector store: {vector_store}\")"
   ]
  },
  {
   "cell_type": "code",
   "execution_count": 7,
   "id": "43843f1b-03c9-4693-b8bc-0f01ed830b16",
   "metadata": {},
   "outputs": [],
   "source": [
    "# Create file search tool with resources followed by creating agent\n",
    "\n",
    "file_search = FileSearchTool(vector_store_ids=[vector_store.id])"
   ]
  },
  {
   "cell_type": "code",
   "execution_count": 8,
   "id": "622b9f5e-de10-4e3c-b0d5-92cb45c3b85b",
   "metadata": {},
   "outputs": [
    {
     "name": "stdout",
     "output_type": "stream",
     "text": [
      "Created agent, ID: asst_lOTLNLSDMXU3ViIXZKwkmiLB\n"
     ]
    }
   ],
   "source": [
    "agent = project_client.agents.create_agent(\n",
    "    model=model_name,\n",
    "    name=\"my-assistant\",\n",
    "    instructions=\"Hello, you are helpful assistant and can search information from uploaded files\",\n",
    "    tools=file_search.definitions,\n",
    "    tool_resources=file_search.resources,\n",
    ")\n",
    "\n",
    "print(f\"Created agent, ID: {agent.id}\")"
   ]
  },
  {
   "cell_type": "code",
   "execution_count": 9,
   "id": "271e3036-2201-4690-893e-693d767d63a9",
   "metadata": {},
   "outputs": [
    {
     "name": "stdout",
     "output_type": "stream",
     "text": [
      "Created thread: {'id': 'thread_4dw2WutGfbaN6KRWV6ZFsCPD', 'object': 'thread', 'created_at': 1735604123, 'metadata': {}, 'tool_resources': {}}\n"
     ]
    }
   ],
   "source": [
    "# Create thread for communication\n",
    "thread = project_client.agents.create_thread()\n",
    "print(f\"Created thread: {thread}\")"
   ]
  },
  {
   "cell_type": "code",
   "execution_count": 10,
   "id": "e4135670-d792-425e-a29f-e16525f67057",
   "metadata": {},
   "outputs": [
    {
     "name": "stdout",
     "output_type": "stream",
     "text": [
      "Created message: {'id': 'msg_ABcO8nFRLzl0Zfca3p6kLoHZ', 'object': 'thread.message', 'created_at': 1735604124, 'assistant_id': None, 'thread_id': 'thread_4dw2WutGfbaN6KRWV6ZFsCPD', 'run_id': None, 'role': 'user', 'content': [{'type': 'text', 'text': {'value': 'Hello, how much for the TrailMaster?', 'annotations': []}}], 'attachments': [], 'metadata': {}}\n"
     ]
    }
   ],
   "source": [
    "# Create message to thread\n",
    "message = project_client.agents.create_message(\n",
    "    thread_id=thread.id, role=\"user\", content=\"Hello, how much for the TrailMaster?\"\n",
    ")\n",
    "print(f\"Created message: {message}\")"
   ]
  },
  {
   "cell_type": "code",
   "execution_count": 11,
   "id": "7d5a044e-4312-45d0-a4b0-8d7d0c01f071",
   "metadata": {},
   "outputs": [
    {
     "name": "stdout",
     "output_type": "stream",
     "text": [
      "Run finished with status: RunStatus.COMPLETED.\n",
      "Run: {'id': 'run_pGYoNhEqA4JbJLfGtJ63U4HF', 'object': 'thread.run', 'created_at': 1735604124, 'assistant_id': 'asst_lOTLNLSDMXU3ViIXZKwkmiLB', 'thread_id': 'thread_4dw2WutGfbaN6KRWV6ZFsCPD', 'status': 'completed', 'started_at': 1735604124, 'expires_at': None, 'cancelled_at': None, 'failed_at': None, 'completed_at': 1735604127, 'required_action': None, 'last_error': None, 'model': 'gpt-4', 'instructions': 'Hello, you are helpful assistant and can search information from uploaded files', 'tools': [{'type': 'file_search', 'file_search': {'ranking_options': {'ranker': 'default_2024_08_21', 'score_threshold': 0.0}}}], 'tool_resources': {}, 'metadata': {}, 'temperature': 1.0, 'top_p': 1.0, 'max_completion_tokens': None, 'max_prompt_tokens': None, 'truncation_strategy': {'type': 'auto', 'last_messages': None}, 'incomplete_details': None, 'usage': {'prompt_tokens': 5201, 'completion_tokens': 36, 'total_tokens': 5237}, 'response_format': 'auto', 'tool_choice': 'auto', 'parallel_tool_calls': True}\n",
      "CPU times: total: 0 ns\n",
      "Wall time: 3.87 s\n"
     ]
    }
   ],
   "source": [
    "%%time\n",
    "# Create and process assistant run in thread with tools\n",
    "run = project_client.agents.create_and_process_run(thread_id=thread.id, assistant_id=agent.id)\n",
    "print(f\"Run finished with status: {run.status}.\\nRun: {run}\")\n",
    "\n",
    "if run.status == \"failed\":\n",
    "    # Check if you got \"Rate limit is exceeded.\", then you want to get more quota\n",
    "    print(f\"Run failed: {run.last_error}\")"
   ]
  },
  {
   "cell_type": "code",
   "execution_count": 12,
   "id": "bcb83a7e-dc23-4a27-8443-eb9d2d2f1236",
   "metadata": {},
   "outputs": [
    {
     "data": {
      "text/plain": [
       "{'object': 'list', 'data': [{'id': 'msg_LyXynJWLeAS8iOgIrNlvQqsY', 'object': 'thread.message', 'created_at': 1735604126, 'assistant_id': 'asst_lOTLNLSDMXU3ViIXZKwkmiLB', 'thread_id': 'thread_4dw2WutGfbaN6KRWV6ZFsCPD', 'run_id': 'run_pGYoNhEqA4JbJLfGtJ63U4HF', 'role': 'assistant', 'content': [{'type': 'text', 'text': {'value': 'The price of the TrailMaster X4 Tent is $250【4:0†source】.', 'annotations': [{'type': 'file_citation', 'text': '【4:0†source】', 'start_index': 44, 'end_index': 56, 'file_citation': {'file_id': 'assistant-p5GGjAesPBP0WwtkQ3lh4Ycm'}}, {'type': 'file_citation', 'text': '【4:0†source】', 'start_index': 44, 'end_index': 56, 'file_citation': {'file_id': 'assistant-p5GGjAesPBP0WwtkQ3lh4Ycm'}}]}}], 'attachments': [], 'metadata': {}}, {'id': 'msg_ABcO8nFRLzl0Zfca3p6kLoHZ', 'object': 'thread.message', 'created_at': 1735604124, 'assistant_id': None, 'thread_id': 'thread_4dw2WutGfbaN6KRWV6ZFsCPD', 'run_id': None, 'role': 'user', 'content': [{'type': 'text', 'text': {'value': 'Hello, how much for the TrailMaster?', 'annotations': []}}], 'attachments': [], 'metadata': {}}], 'first_id': 'msg_LyXynJWLeAS8iOgIrNlvQqsY', 'last_id': 'msg_ABcO8nFRLzl0Zfca3p6kLoHZ', 'has_more': False}"
      ]
     },
     "execution_count": 12,
     "metadata": {},
     "output_type": "execute_result"
    }
   ],
   "source": [
    "# Fetch and log all messages\n",
    "messages = project_client.agents.list_messages(thread_id=thread.id)\n",
    "messages"
   ]
  },
  {
   "cell_type": "code",
   "execution_count": 13,
   "id": "bbc63c8b-225c-4bcb-863b-aaef05fdccec",
   "metadata": {},
   "outputs": [
    {
     "name": "stdout",
     "output_type": "stream",
     "text": [
      "Last Message: The price of the TrailMaster X4 Tent is $250【4:0†source】.\n"
     ]
    }
   ],
   "source": [
    "# Get the last message from the sender\n",
    "last_msg = messages.get_last_text_message_by_sender(\"assistant\")\n",
    "if last_msg:\n",
    "    print(f\"Last Message: {last_msg.text.value}\")"
   ]
  },
  {
   "cell_type": "code",
   "execution_count": 14,
   "id": "5d95256d-35d2-4504-964f-381372415f97",
   "metadata": {},
   "outputs": [
    {
     "name": "stdout",
     "output_type": "stream",
     "text": [
      "{'type': 'file_citation', 'text': '【4:0†source】', 'start_index': 44, 'end_index': 56, 'file_citation': {'file_id': 'assistant-p5GGjAesPBP0WwtkQ3lh4Ycm'}}\n",
      "{'type': 'file_citation', 'text': '【4:0†source】', 'start_index': 44, 'end_index': 56, 'file_citation': {'file_id': 'assistant-p5GGjAesPBP0WwtkQ3lh4Ycm'}}\n"
     ]
    }
   ],
   "source": [
    "# Print citations from the messages\n",
    "for citation in messages.file_citation_annotations:\n",
    "    print(citation)"
   ]
  },
  {
   "cell_type": "markdown",
   "id": "01e37364-f513-483c-9e8e-caecb1af61f8",
   "metadata": {},
   "source": [
    "# START teardown"
   ]
  },
  {
   "cell_type": "code",
   "execution_count": 15,
   "id": "58f77d60-94bd-4fc1-8231-56ba2e0c66cb",
   "metadata": {},
   "outputs": [
    {
     "name": "stdout",
     "output_type": "stream",
     "text": [
      "Deleted vector store\n",
      "Deleted file\n"
     ]
    }
   ],
   "source": [
    "# Delete the file when done\n",
    "project_client.agents.delete_vector_store(vector_store.id)\n",
    "print(\"Deleted vector store\")\n",
    "\n",
    "project_client.agents.delete_file(file_id=file.id)\n",
    "print(\"Deleted file\")"
   ]
  },
  {
   "cell_type": "code",
   "execution_count": 16,
   "id": "05648e27-338e-423d-927b-ef441da75bd3",
   "metadata": {},
   "outputs": [
    {
     "name": "stdout",
     "output_type": "stream",
     "text": [
      "Deleting agent my-assistant (asst_lOTLNLSDMXU3ViIXZKwkmiLB)...\n"
     ]
    }
   ],
   "source": [
    "# Delete all agents\n",
    "for pca in project_client.agents.list_agents()['data']:\n",
    "    print(f\"Deleting agent {pca.name} ({pca.id})...\")\n",
    "    project_client.agents.delete_agent(pca.id)"
   ]
  },
  {
   "cell_type": "markdown",
   "id": "c8cc2b04-a0b3-45ee-9066-4306e16511f9",
   "metadata": {},
   "source": [
    "# HIC SUNT LEONES"
   ]
  }
 ],
 "metadata": {
  "kernelspec": {
   "display_name": "aaas",
   "language": "python",
   "name": "aaas"
  },
  "language_info": {
   "codemirror_mode": {
    "name": "ipython",
    "version": 3
   },
   "file_extension": ".py",
   "mimetype": "text/x-python",
   "name": "python",
   "nbconvert_exporter": "python",
   "pygments_lexer": "ipython3",
   "version": "3.12.8"
  }
 },
 "nbformat": 4,
 "nbformat_minor": 5
}
