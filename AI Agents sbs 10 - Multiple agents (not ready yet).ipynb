{
 "cells": [
  {
   "cell_type": "markdown",
   "id": "a4e5b574-c0d2-4427-bfe4-dba5c22b45cf",
   "metadata": {},
   "source": [
    "# Libraries and Constants"
   ]
  },
  {
   "cell_type": "code",
   "execution_count": 1,
   "id": "98d9cc9d-cbef-4b35-a4a3-84802dd4ee06",
   "metadata": {},
   "outputs": [
    {
     "name": "stdout",
     "output_type": "stream",
     "text": [
      "Project Connection String: <...mai04-rg;mmai-hub04-prj01-fvye>\n"
     ]
    }
   ],
   "source": [
    "import os\n",
    "from dotenv import load_dotenv # requires python-dotenv\n",
    "from common.utils import *\n",
    "from azure.ai.projects import AIProjectClient\n",
    "from azure.ai.projects.models import FunctionTool, ToolSet # <<<<<<<<<<<<<<< SPECIFIC FOR FUNCTION CALLING\n",
    "from azure.ai.projects.models import AzureAISearchTool # <<<<<<<<<<<<<<< SPECIFIC FOR AZURE AI SEARCH\n",
    "from azure.identity import DefaultAzureCredential\n",
    "from typing import Any, Callable, Set\n",
    "\n",
    "load_dotenv(\"./../config/credentials_my.env\")\n",
    "model_name =  \"gpt-4o-0513\" # https://learn.microsoft.com/en-us/azure/ai-services/agents/how-to/tools/azure-ai-search?tabs=azurecli%2Cpython&pivots=overview-azure-ai-search\n",
    "index_name =  \"ms-surface-specs\"\n",
    "\n",
    "print(f'Project Connection String: <...{os.environ[\"PROJECT_CONNECTION_STRING\"][-30:]}>')"
   ]
  },
  {
   "cell_type": "markdown",
   "id": "b9477a48-03ec-4f7f-898c-f0defe4d6096",
   "metadata": {},
   "source": [
    "# Create a handle to the Azure AI Foundry Project"
   ]
  },
  {
   "cell_type": "code",
   "execution_count": 2,
   "id": "5a9abb62-b855-402f-9e22-583ffe6bf8cb",
   "metadata": {},
   "outputs": [
    {
     "data": {
      "text/plain": [
       "{'subscription_id': 'eca2eddb-0f0c-4351-a634-52751499eeea',\n",
       " 'resource_group_name': 'mmai04-rg',\n",
       " 'project_name': 'mmai-hub04-prj01-fvye'}"
      ]
     },
     "execution_count": 2,
     "metadata": {},
     "output_type": "execute_result"
    }
   ],
   "source": [
    "project_client = AIProjectClient.from_connection_string(\n",
    "    credential=DefaultAzureCredential(), conn_str=os.environ[\"PROJECT_CONNECTION_STRING\"]\n",
    ")\n",
    "\n",
    "project_client.scope"
   ]
  },
  {
   "cell_type": "markdown",
   "id": "5a014148-be12-45c6-9c5c-e38c4643c196",
   "metadata": {},
   "source": [
    "# Check existing agents"
   ]
  },
  {
   "cell_type": "code",
   "execution_count": 3,
   "id": "9b448220-3fda-43ad-a8be-458d84bf5677",
   "metadata": {},
   "outputs": [
    {
     "name": "stdout",
     "output_type": "stream",
     "text": [
      "No agents exist in the current project mmai-hub04-prj01-fvye.\n"
     ]
    }
   ],
   "source": [
    "i=0\n",
    "for a in project_client.agents.list_agents()['data']:\n",
    "    i += 1\n",
    "    print(f\"Agent {i} ({a.name}): {a}\\n\")\n",
    "\n",
    "if i==0:\n",
    "    print(f\"No agents exist in the current project {project_client.scope['project_name']}.\")"
   ]
  },
  {
   "cell_type": "markdown",
   "id": "9d315b8f-b1f1-4b6f-8c1c-2af2f5579727",
   "metadata": {},
   "source": [
    "# Create the agent for Function Call"
   ]
  },
  {
   "cell_type": "code",
   "execution_count": 4,
   "id": "1a6a6f91-7a99-40a4-8c36-f06ef9299ef0",
   "metadata": {},
   "outputs": [],
   "source": [
    "# First, we build the Toolset for the Custom Functions...\n",
    "\n",
    "user_functions: Set[Callable[..., Any]] = {\n",
    "    save_file, \n",
    "    get_flights, \n",
    "    my_cat_born_date,\n",
    "    send_email\n",
    "}\n",
    "\n",
    "functions = FunctionTool(user_functions)\n",
    "toolset = ToolSet()\n",
    "toolset.add(functions)\n",
    "\n",
    "# ...then, we create the agent for Function Call Toolset \n",
    "agent_customfunctions = project_client.agents.create_agent( # agent_function_call\n",
    "    model=model_name,\n",
    "    name=\"custom-functions-assistant-agent\",\n",
    "    instructions=\"You are a helpful assistant\",\n",
    "    toolset=toolset)"
   ]
  },
  {
   "cell_type": "markdown",
   "id": "6f1b3830-a2a6-46da-98c2-62743b755083",
   "metadata": {},
   "source": [
    "# Create the agent for Azure AI Search"
   ]
  },
  {
   "cell_type": "code",
   "execution_count": 5,
   "id": "cd220a60-c41e-4bb6-9d3b-223fbc6e8bcf",
   "metadata": {},
   "outputs": [],
   "source": [
    "# First, build the Azure AI Search Tool...\n",
    "conn_list = project_client.connections.list()\n",
    "conn_id = \"\"\n",
    "for conn in conn_list:    \n",
    "    if conn.connection_type == \"CognitiveSearch\":\n",
    "        conn_id = conn.id\n",
    "\n",
    "ai_search = AzureAISearchTool(index_connection_id=conn_id, index_name=index_name)\n",
    "\n",
    "# ...then, create the agent the Azure AI Search Tool\n",
    "agent_search = project_client.agents.create_agent( # agent_ai_search\n",
    "    model=model_name,\n",
    "    name=\"azure-ai-search-assistant-agent\",\n",
    "    instructions=\"You are a helpful assistant\",\n",
    "    tools=ai_search.definitions,\n",
    "    tool_resources=ai_search.resources,\n",
    "    headers={\"x-ms-enable-preview\": \"true\"})"
   ]
  },
  {
   "cell_type": "markdown",
   "id": "99c8914e-ab52-43ab-ab29-6ce13fc4ebe1",
   "metadata": {},
   "source": [
    "# Check existing agents"
   ]
  },
  {
   "cell_type": "code",
   "execution_count": 6,
   "id": "bd0d0394-2ce9-471c-ae3f-1f5c348c7159",
   "metadata": {},
   "outputs": [
    {
     "name": "stdout",
     "output_type": "stream",
     "text": [
      "Agent 1 (azure-ai-search-assistant-agent): {'id': 'asst_axGZF7lwujR6ZQTNrkm9bx4p', 'object': 'assistant', 'created_at': 1735926556, 'name': 'azure-ai-search-assistant-agent', 'description': None, 'model': 'gpt-4o-0513', 'instructions': 'You are a helpful assistant', 'tools': [{'type': 'azure_ai_search'}], 'top_p': 1.0, 'temperature': 1.0, 'tool_resources': {'azure_ai_search': {'indexes': [{'index_connection_id': '/subscriptions/eca2eddb-0f0c-4351-a634-52751499eeea/resourceGroups/mmai04-rg/providers/Microsoft.MachineLearningServices/workspaces/mmai-hub04-prj01-fvye/connections/mmai-hub04-fvye-connection-AISearch', 'index_name': 'ms-surface-specs'}]}}, 'metadata': {}, 'response_format': 'auto'}\n",
      "\n",
      "Agent 2 (custom-functions-assistant-agent): {'id': 'asst_TrGLJx8mN39UrIjvPwgtSZFd', 'object': 'assistant', 'created_at': 1735926548, 'name': 'custom-functions-assistant-agent', 'description': None, 'model': 'gpt-4o-0513', 'instructions': 'You are a helpful assistant', 'tools': [{'type': 'function', 'function': {'name': 'save_file', 'description': 'Saves a text file using the textual content passed in the joke variable.', 'parameters': {'type': 'object', 'properties': {'joke': {'type': 'string', 'description': 'No description'}}, 'required': ['joke']}, 'strict': False}}, {'type': 'function', 'function': {'name': 'get_flights', 'description': 'Returns the number of flights in a date interval  ', 'parameters': {'type': 'object', 'properties': {'date_1': {'type': 'string', 'description': 'No description'}, 'date_2': {'type': 'string', 'description': 'No description'}}, 'required': ['date_1', 'date_2']}, 'strict': False}}, {'type': 'function', 'function': {'name': 'my_cat_born_date', 'description': \"Returns my cat's born date \", 'parameters': {'type': 'object', 'properties': {}, 'required': []}, 'strict': False}}, {'type': 'function', 'function': {'name': 'send_email', 'description': 'Sends an email ', 'parameters': {'type': 'object', 'properties': {'to': {'type': 'string', 'description': 'No description'}, 'subject': {'type': 'string', 'description': 'No description'}, 'body': {'type': 'string', 'description': 'No description'}}, 'required': ['to', 'subject', 'body']}, 'strict': False}}], 'top_p': 1.0, 'temperature': 1.0, 'tool_resources': {}, 'metadata': {}, 'response_format': 'auto'}\n",
      "\n"
     ]
    }
   ],
   "source": [
    "# Check again if the agent created above is now present here\n",
    "i=0\n",
    "for a in project_client.agents.list_agents()['data']:\n",
    "    i += 1\n",
    "    print(f\"Agent {i} ({a.name}): {a}\\n\")"
   ]
  },
  {
   "cell_type": "markdown",
   "id": "fbc3b5c1-09fc-48a1-ac73-296495c6c16c",
   "metadata": {},
   "source": [
    "# Create the message"
   ]
  },
  {
   "cell_type": "code",
   "execution_count": 7,
   "id": "06f80125-1252-4060-bdf5-3b52acc42a47",
   "metadata": {},
   "outputs": [
    {
     "name": "stdout",
     "output_type": "stream",
     "text": [
      "Created message: {'id': 'msg_rgTtuBD51NvAeXVlzCeUy345', 'object': 'thread.message', 'created_at': 1735926573, 'assistant_id': None, 'thread_id': 'thread_pe3iY2IJVOZNc3PQGLAfhq1R', 'run_id': None, 'role': 'user', 'content': [{'type': 'text', 'text': {'value': '\\n    Please write into a file the nr of flights between my cat born date and Easter 2021. \\n    Then, send the answer to mauromi@microsoft.com.\\n    Finally, **WITHOUT USING YOUR INTERNAL KNOWLEDGE** tell me what kind of keys the MS Surface Book keyboard include.\\n    ', 'annotations': []}}], 'attachments': [], 'metadata': {}}\n"
     ]
    }
   ],
   "source": [
    "# First, create the thread for communication...\n",
    "thread = project_client.agents.create_thread()\n",
    "\n",
    "#...then, add a message to the thread\n",
    "message = project_client.agents.create_message(\n",
    "    thread_id=thread.id,\n",
    "    role=\"user\",\n",
    "    content=\"\"\"\n",
    "    Please write into a file the nr of flights between my cat born date and Easter 2021. \n",
    "    Then, send the answer to mauromi@microsoft.com.\n",
    "    Finally, **WITHOUT USING YOUR INTERNAL KNOWLEDGE** tell me what kind of keys the MS Surface Book keyboard include.\n",
    "    \"\"\")\n",
    "\n",
    "print(f\"Created message: {message}\")"
   ]
  },
  {
   "cell_type": "markdown",
   "id": "3e919fd0-92a7-4439-9d40-78924378556e",
   "metadata": {},
   "source": [
    "# Run the agents!"
   ]
  },
  {
   "cell_type": "code",
   "execution_count": 8,
   "id": "8604f495-2519-42a7-a19a-026538cf2c2c",
   "metadata": {},
   "outputs": [
    {
     "name": "stdout",
     "output_type": "stream",
     "text": [
      "Run finished with status: RunStatus.COMPLETED. Run: {'id': 'run_7zVyxO8V3StXNgalJPiLaec6', 'object': 'thread.run', 'created_at': 1735926576, 'assistant_id': 'asst_axGZF7lwujR6ZQTNrkm9bx4p', 'thread_id': 'thread_pe3iY2IJVOZNc3PQGLAfhq1R', 'status': 'completed', 'started_at': 1735926577, 'expires_at': None, 'cancelled_at': None, 'failed_at': None, 'completed_at': 1735926579, 'required_action': None, 'last_error': None, 'model': 'gpt-4o-0513', 'instructions': 'You are a helpful assistant', 'tools': [{'type': 'azure_ai_search'}], 'tool_resources': {}, 'metadata': {}, 'temperature': 1.0, 'top_p': 1.0, 'max_completion_tokens': None, 'max_prompt_tokens': None, 'truncation_strategy': {'type': 'auto', 'last_messages': None}, 'incomplete_details': None, 'usage': {'prompt_tokens': 1243, 'completion_tokens': 96, 'total_tokens': 1339}, 'response_format': 'auto', 'tool_choice': 'auto', 'parallel_tool_calls': True}\n",
      "CPU times: total: 0 ns\n",
      "Wall time: 6.37 s\n"
     ]
    }
   ],
   "source": [
    "%%time\n",
    "# Create and process agent run in thread with tools\n",
    "run = project_client.agents.create_and_process_run(thread_id=thread.id, assistant_id=agent_search.id)\n",
    "print(f\"Run finished with status: {run.status}. Run: {run}\")\n",
    "\n",
    "if run.status == \"failed\":\n",
    "    # Check if you got \"Rate limit is exceeded.\", then you want to get more quota\n",
    "    print(f\"Run failed: {run.last_error}\")"
   ]
  },
  {
   "cell_type": "code",
   "execution_count": 9,
   "id": "bd778151-0cbb-4216-8de9-e4dee771d546",
   "metadata": {},
   "outputs": [
    {
     "name": "stdout",
     "output_type": "stream",
     "text": [
      "{'value': 'The Microsoft Surface Book keyboard includes a standard layout with backlit keys, special shortcut keys, and function keys. The keys on the top row double as function keys but can perform additional tasks when the \"Fn\" key is pressed. The keyboard is designed to help users perform common tasks quickly and efficiently, including adjusting backlighting, controlling audio playback, muting, and adjusting volume【7:0†source】.', 'annotations': [{'type': 'file_citation', 'text': '【7:0†source】', 'start_index': 410, 'end_index': 422, 'file_citation': {'file_id': 'surface-book-user-guide-EN.pdf'}}, {'type': 'file_citation', 'text': '【7:0†source】', 'start_index': 410, 'end_index': 422, 'file_citation': {'file_id': 'surface-book-user-guide-EN.pdf'}}]}\n",
      "{'value': '\\n    Please write into a file the nr of flights between my cat born date and Easter 2021. \\n    Then, send the answer to mauromi@microsoft.com.\\n    Finally, **WITHOUT USING YOUR INTERNAL KNOWLEDGE** tell me what kind of keys the MS Surface Book keyboard include.\\n    ', 'annotations': []}\n"
     ]
    }
   ],
   "source": [
    "# Fetch and log all messages\n",
    "messages = project_client.agents.list_messages(thread_id=thread.id)\n",
    "for m in messages.text_messages:\n",
    "    print(m.text)"
   ]
  },
  {
   "cell_type": "code",
   "execution_count": 10,
   "id": "0d3222fb-0f69-43ec-8762-65cc8242df67",
   "metadata": {},
   "outputs": [
    {
     "name": "stdout",
     "output_type": "stream",
     "text": [
      "Last Message: The Microsoft Surface Book keyboard includes a standard layout with backlit keys, special shortcut keys, and function keys. The keys on the top row double as function keys but can perform additional tasks when the \"Fn\" key is pressed. The keyboard is designed to help users perform common tasks quickly and efficiently, including adjusting backlighting, controlling audio playback, muting, and adjusting volume【7:0†source】.\n"
     ]
    }
   ],
   "source": [
    "# Get the last message from the sender\n",
    "last_msg = messages.get_last_text_message_by_sender(\"assistant\")\n",
    "if last_msg:\n",
    "    print(f\"Last Message: {last_msg.text.value}\")"
   ]
  },
  {
   "cell_type": "code",
   "execution_count": 11,
   "id": "cd551092-22cb-465c-baa3-ff58823fbb72",
   "metadata": {},
   "outputs": [
    {
     "name": "stdout",
     "output_type": "stream",
     "text": [
      "{'id': 'step_rxnHh0V0j8wLkUhGstpJzF6Y', 'object': 'thread.run.step', 'created_at': 1735926578, 'run_id': 'run_7zVyxO8V3StXNgalJPiLaec6', 'assistant_id': 'asst_axGZF7lwujR6ZQTNrkm9bx4p', 'thread_id': 'thread_pe3iY2IJVOZNc3PQGLAfhq1R', 'type': 'message_creation', 'status': 'completed', 'cancelled_at': None, 'completed_at': 1735926579, 'expires_at': None, 'failed_at': None, 'last_error': None, 'step_details': {'type': 'message_creation', 'message_creation': {'message_id': 'msg_VFE3QcV7AZ281EZICYNWQlJI'}}, 'usage': {'prompt_tokens': 1243, 'completion_tokens': 85, 'total_tokens': 1328}} \n",
      "\n",
      "{'id': 'step_wIFL8K9szSk8tLblmeQZGIRC', 'object': 'thread.run.step', 'created_at': 1735926577, 'run_id': 'run_7zVyxO8V3StXNgalJPiLaec6', 'assistant_id': 'asst_axGZF7lwujR6ZQTNrkm9bx4p', 'thread_id': 'thread_pe3iY2IJVOZNc3PQGLAfhq1R', 'type': 'tool_calls', 'status': 'completed', 'cancelled_at': None, 'completed_at': 1735926578, 'expires_at': None, 'failed_at': None, 'last_error': None, 'step_details': {'type': 'tool_calls', 'tool_calls': [{'id': 'call_Vqp5sRvt9QerAREYSSV8Od6b', 'type': 'azure_ai_search', 'azure_ai_search': {}}]}, 'usage': {'prompt_tokens': 0, 'completion_tokens': 11, 'total_tokens': 11}} \n",
      "\n"
     ]
    }
   ],
   "source": [
    "run_steps = project_client.agents.list_run_steps(run_id=run.id, thread_id=thread.id)\n",
    "run_steps_data = run_steps['data']\n",
    "for rs in run_steps[\"data\"]:\n",
    "    print(rs, '\\n')"
   ]
  },
  {
   "cell_type": "markdown",
   "id": "944ec759-c053-4ab7-81aa-15cfa4961468",
   "metadata": {},
   "source": [
    "# START teardown"
   ]
  },
  {
   "cell_type": "code",
   "execution_count": null,
   "id": "11b0c075-9f1a-47ca-b8c8-ad2e9d85b477",
   "metadata": {},
   "outputs": [],
   "source": [
    "print(f\"deleting trhead: {thread}...\")\n",
    "project_client.agents.delete_thread(thread.id)"
   ]
  },
  {
   "cell_type": "code",
   "execution_count": null,
   "id": "48399858-16e3-4b7c-a13a-aa3ed8320539",
   "metadata": {},
   "outputs": [],
   "source": [
    "# Delete all agents\n",
    "for pca in project_client.agents.list_agents()['data']:\n",
    "    print(f\"Deleting agent {pca.name} ({pca.id})...\")\n",
    "    project_client.agents.delete_agent(pca.id)"
   ]
  },
  {
   "cell_type": "markdown",
   "id": "c8cc2b04-a0b3-45ee-9066-4306e16511f9",
   "metadata": {},
   "source": [
    "# HIC SUNT LEONES"
   ]
  }
 ],
 "metadata": {
  "kernelspec": {
   "display_name": "aaas",
   "language": "python",
   "name": "aaas"
  },
  "language_info": {
   "codemirror_mode": {
    "name": "ipython",
    "version": 3
   },
   "file_extension": ".py",
   "mimetype": "text/x-python",
   "name": "python",
   "nbconvert_exporter": "python",
   "pygments_lexer": "ipython3",
   "version": "3.12.8"
  }
 },
 "nbformat": 4,
 "nbformat_minor": 5
}
