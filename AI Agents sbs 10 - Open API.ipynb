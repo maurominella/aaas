{
 "cells": [
  {
   "attachments": {},
   "cell_type": "markdown",
   "id": "6aff6e2d-97b4-441c-b548-2557bafae055",
   "metadata": {},
   "source": [
    "# [Create Agent With OpenAPI](https://learn.microsoft.com/en-us/python/api/overview/azure/ai-projects-readme?view=azure-python-preview#create-agent-with-openapi)\n",
    "AzureFunctionTool contains the input and output queues of azure function and the description of input parameters.\n",
    "\n",
    "Inspired by [sample_agents_openapi.py](https://github.com/Azure/azure-sdk-for-python/blob/azure-ai-projects_1.0.0b4/sdk/ai/azure-ai-projects/samples/agents/sample_agents_openapi.py)"
   ]
  },
  {
   "cell_type": "code",
   "execution_count": 1,
   "id": "98d9cc9d-cbef-4b35-a4a3-84802dd4ee06",
   "metadata": {},
   "outputs": [
    {
     "name": "stdout",
     "output_type": "stream",
     "text": [
      "Project Connection String: <...mai04-rg;mmai-hub04-prj01-fvye>\n"
     ]
    }
   ],
   "source": [
    "import os, jsonref\n",
    "from dotenv import load_dotenv # requires python-dotenv\n",
    "# import logging\n",
    "# logging.basicConfig(level=logging.INFO) # Configure logging \n",
    "\n",
    "load_dotenv(\"./../config/credentials_my.env\")\n",
    "model_name =  \"gpt-4o-0513\" # https://learn.microsoft.com/en-us/azure/ai-services/agents/how-to/tools/azure-ai-search?tabs=azurecli%2Cpython&pivots=overview-azure-ai-search\n",
    "index_name =  \"ms-surface-specs\"\n",
    "\n",
    "print(f'Project Connection String: <...{os.environ[\"PROJECT_CONNECTION_STRING\"][-30:]}>')"
   ]
  },
  {
   "cell_type": "code",
   "execution_count": 2,
   "id": "5a9abb62-b855-402f-9e22-583ffe6bf8cb",
   "metadata": {},
   "outputs": [
    {
     "data": {
      "text/plain": [
       "{'subscription_id': 'eca2eddb-0f0c-4351-a634-52751499eeea',\n",
       " 'resource_group_name': 'mmai04-rg',\n",
       " 'project_name': 'mmai-hub04-prj01-fvye'}"
      ]
     },
     "execution_count": 2,
     "metadata": {},
     "output_type": "execute_result"
    }
   ],
   "source": [
    "from azure.ai.projects import AIProjectClient\n",
    "from azure.ai.projects.models import OpenApiTool, OpenApiAnonymousAuthDetails # <<<<<<<<<<<<<<< SPECIFIC FOR OPENAPI\n",
    "from azure.identity import DefaultAzureCredential\n",
    "\n",
    "project_client = AIProjectClient.from_connection_string(\n",
    "    credential=DefaultAzureCredential(), conn_str=os.environ[\"PROJECT_CONNECTION_STRING\"]\n",
    ")\n",
    "\n",
    "project_client.scope"
   ]
  },
  {
   "cell_type": "code",
   "execution_count": 3,
   "id": "121d6e68-3373-417e-b8fc-d31cf5ee4a83",
   "metadata": {},
   "outputs": [
    {
     "data": {
      "text/plain": [
       "{'openapi': '3.1.0',\n",
       " 'info': {'title': 'get weather data',\n",
       "  'description': 'Retrieves current weather data for a location based on wttr.in.',\n",
       "  'version': 'v1.0.0'},\n",
       " 'servers': [{'url': 'https://wttr.in'}],\n",
       " 'auth': [],\n",
       " 'paths': {'/{location}': {'get': {'description': 'Get weather information for a specific location',\n",
       "    'operationId': 'GetCurrentWeather',\n",
       "    'parameters': [{'name': 'location',\n",
       "      'in': 'path',\n",
       "      'description': 'City or location to retrieve the weather for',\n",
       "      'required': True,\n",
       "      'schema': {'type': 'string'}},\n",
       "     {'name': 'format',\n",
       "      'in': 'query',\n",
       "      'description': 'Always use j1 value for this parameter',\n",
       "      'required': True,\n",
       "      'schema': {'type': 'string', 'default': 'j1'}}],\n",
       "    'responses': {'200': {'description': 'Successful response',\n",
       "      'content': {'text/plain': {'schema': {'type': 'string'}}}},\n",
       "     '404': {'description': 'Location not found'}},\n",
       "    'deprecated': False}}},\n",
       " 'components': {'schemes': {}}}"
      ]
     },
     "execution_count": 3,
     "metadata": {},
     "output_type": "execute_result"
    }
   ],
   "source": [
    "# https://github.com/Azure/azure-sdk-for-python/blob/azure-ai-projects_1.0.0b4/sdk/ai/azure-ai-projects/samples/agents/weather_openapi.json\n",
    "with open(\"./openapi/weather_openapi.json\", \"r\") as f:\n",
    "    openapi_spec = jsonref.loads(f.read())\n",
    "\n",
    "openapi_spec"
   ]
  },
  {
   "cell_type": "code",
   "execution_count": 4,
   "id": "ed0b781f-a5c2-4994-aed4-09c7d6fbf47a",
   "metadata": {},
   "outputs": [
    {
     "data": {
      "text/plain": [
       "{'type': 'anonymous'}"
      ]
     },
     "execution_count": 4,
     "metadata": {},
     "output_type": "execute_result"
    }
   ],
   "source": [
    "# Create Auth object for the OpenApiTool (note that connection or managed identity auth setup requires additional setup in Azure)\n",
    "auth = OpenApiAnonymousAuthDetails()\n",
    "auth"
   ]
  },
  {
   "cell_type": "code",
   "execution_count": 5,
   "id": "d8f04bae-92c8-4bcd-974a-023bd56e32e0",
   "metadata": {},
   "outputs": [
    {
     "name": "stdout",
     "output_type": "stream",
     "text": [
      "openapi.definitions: [{'type': 'openapi', 'openapi': {'name': 'get_weather', 'description': 'Retrieve weather information for a location', 'spec': {'openapi': '3.1.0', 'info': {'title': 'get weather data', 'description': 'Retrieves current weather data for a location based on wttr.in.', 'version': 'v1.0.0'}, 'servers': [{'url': 'https://wttr.in'}], 'auth': [], 'paths': {'/{location}': {'get': {'description': 'Get weather information for a specific location', 'operationId': 'GetCurrentWeather', 'parameters': [{'name': 'location', 'in': 'path', 'description': 'City or location to retrieve the weather for', 'required': True, 'schema': {'type': 'string'}}, {'name': 'format', 'in': 'query', 'description': 'Always use j1 value for this parameter', 'required': True, 'schema': {'type': 'string', 'default': 'j1'}}], 'responses': {'200': {'description': 'Successful response', 'content': {'text/plain': {'schema': {'type': 'string'}}}}, '404': {'description': 'Location not found'}}, 'deprecated': False}}}, 'components': {'schemes': {}}}, 'auth': {'type': 'anonymous'}}}]\n",
      "openapi.resources: {}\n"
     ]
    }
   ],
   "source": [
    "# Initialize agent OpenApi tool using the read in OpenAPI spec\n",
    "openapi = OpenApiTool(\n",
    "    name=\"get_weather\", spec=openapi_spec, description=\"Retrieve weather information for a location\", auth=auth\n",
    ")\n",
    "print(f\"openapi.definitions: {openapi.definitions}\")\n",
    "print(f\"openapi.resources: {openapi.resources}\")"
   ]
  },
  {
   "cell_type": "code",
   "execution_count": 6,
   "id": "9b448220-3fda-43ad-a8be-458d84bf5677",
   "metadata": {},
   "outputs": [
    {
     "data": {
      "text/plain": [
       "{'object': 'list', 'data': [], 'first_id': None, 'last_id': None, 'has_more': False}"
      ]
     },
     "execution_count": 6,
     "metadata": {},
     "output_type": "execute_result"
    }
   ],
   "source": [
    "# Check if we already have any agents defined\n",
    "project_client.agents.list_agents()"
   ]
  },
  {
   "cell_type": "code",
   "execution_count": 7,
   "id": "b23ba3db-c486-4378-be6c-cb5626f52e3f",
   "metadata": {},
   "outputs": [
    {
     "data": {
      "text/plain": [
       "<bound method _MyMutableMapping.items of {'id': 'asst_IuTkQtjfJ6DzZDM3NYXnaM9H', 'object': 'assistant', 'created_at': 1735837075, 'name': 'my-assistant', 'description': None, 'model': 'gpt-4o-0513', 'instructions': 'You are a helpful assistant', 'tools': [{'type': 'openapi', 'openapi': {'name': 'get_weather', 'description': 'Retrieve weather information for a location', 'spec': {'openapi': '3.1.0', 'info': {'title': 'get weather data', 'description': 'Retrieves current weather data for a location based on wttr.in.', 'version': 'v1.0.0'}, 'servers': [{'url': 'https://wttr.in'}], 'auth': [], 'paths': {'/{location}': {'get': {'description': 'Get weather information for a specific location', 'operationId': 'GetCurrentWeather', 'parameters': [{'name': 'location', 'in': 'path', 'description': 'City or location to retrieve the weather for', 'required': True, 'schema': {'type': 'string'}}, {'name': 'format', 'in': 'query', 'description': 'Always use j1 value for this parameter', 'required': True, 'schema': {'type': 'string', 'default': 'j1'}}], 'responses': {'200': {'description': 'Successful response', 'content': {'text/plain': {'schema': {'type': 'string'}}}}, '404': {'description': 'Location not found'}}, 'deprecated': False}}}, 'components': {'schemes': {}}}, 'auth': {'type': 'anonymous', 'security_scheme': {}}, 'functions': [{'name': 'get_weather.GetCurrentWeather', 'description': 'Get weather information for a specific location', 'parameters': {'type': 'object', 'properties': {'location': {'type': 'string', 'description': 'City or location to retrieve the weather for'}, 'format': {'type': 'string', 'description': 'Always use j1 value for this parameter'}}, 'required': ['location', 'format']}}]}}], 'top_p': 1.0, 'temperature': 1.0, 'tool_resources': {}, 'metadata': {}, 'response_format': 'auto'}>"
      ]
     },
     "execution_count": 7,
     "metadata": {},
     "output_type": "execute_result"
    }
   ],
   "source": [
    "# Create agent with AI search tool and process assistant run\n",
    "agent = project_client.agents.create_agent(\n",
    "    model=model_name,\n",
    "    name=\"my-assistant\",\n",
    "    instructions=\"You are a helpful assistant\",\n",
    "    tools=openapi.definitions\n",
    ")\n",
    "\n",
    "agent.items"
   ]
  },
  {
   "cell_type": "code",
   "execution_count": 8,
   "id": "bd0d0394-2ce9-471c-ae3f-1f5c348c7159",
   "metadata": {},
   "outputs": [
    {
     "data": {
      "text/plain": [
       "{'object': 'list', 'data': [{'id': 'asst_IuTkQtjfJ6DzZDM3NYXnaM9H', 'object': 'assistant', 'created_at': 1735837075, 'name': 'my-assistant', 'description': None, 'model': 'gpt-4o-0513', 'instructions': 'You are a helpful assistant', 'tools': [{'type': 'openapi', 'openapi': {'name': 'get_weather', 'description': 'Retrieve weather information for a location', 'spec': {'openapi': '3.1.0', 'info': {'title': 'get weather data', 'description': 'Retrieves current weather data for a location based on wttr.in.', 'version': 'v1.0.0'}, 'servers': [{'url': 'https://wttr.in'}], 'auth': [], 'paths': {'/{location}': {'get': {'description': 'Get weather information for a specific location', 'operationId': 'GetCurrentWeather', 'parameters': [{'name': 'location', 'in': 'path', 'description': 'City or location to retrieve the weather for', 'required': True, 'schema': {'type': 'string'}}, {'name': 'format', 'in': 'query', 'description': 'Always use j1 value for this parameter', 'required': True, 'schema': {'type': 'string', 'default': 'j1'}}], 'responses': {'200': {'description': 'Successful response', 'content': {'text/plain': {'schema': {'type': 'string'}}}}, '404': {'description': 'Location not found'}}, 'deprecated': False}}}, 'components': {'schemes': {}}}, 'auth': {'type': 'anonymous', 'security_scheme': {}}, 'functions': [{'name': 'get_weather.GetCurrentWeather', 'description': 'Get weather information for a specific location', 'parameters': {'type': 'object', 'properties': {'location': {'type': 'string', 'description': 'City or location to retrieve the weather for'}, 'format': {'type': 'string', 'description': 'Always use j1 value for this parameter'}}, 'required': ['location', 'format']}}]}}], 'top_p': 1.0, 'temperature': 1.0, 'tool_resources': {}, 'metadata': {}, 'response_format': 'auto'}], 'first_id': 'asst_IuTkQtjfJ6DzZDM3NYXnaM9H', 'last_id': 'asst_IuTkQtjfJ6DzZDM3NYXnaM9H', 'has_more': False}"
      ]
     },
     "execution_count": 8,
     "metadata": {},
     "output_type": "execute_result"
    }
   ],
   "source": [
    "# Check again if the agent created above is now present here\n",
    "project_client.agents.list_agents()"
   ]
  },
  {
   "cell_type": "code",
   "execution_count": 9,
   "id": "06f80125-1252-4060-bdf5-3b52acc42a47",
   "metadata": {},
   "outputs": [
    {
     "name": "stdout",
     "output_type": "stream",
     "text": [
      "Created thread: {'id': 'thread_akFnNEZuM0nSLqCXLVeTz0jo', 'object': 'thread', 'created_at': 1735837076, 'metadata': {}, 'tool_resources': {}}\n"
     ]
    }
   ],
   "source": [
    "# Create thread for communication\n",
    "thread = project_client.agents.create_thread()\n",
    "print(f\"Created thread: {thread}\")"
   ]
  },
  {
   "cell_type": "code",
   "execution_count": 10,
   "id": "71f846d7-eea3-46ca-86e5-63a3db33cad1",
   "metadata": {},
   "outputs": [
    {
     "name": "stdout",
     "output_type": "stream",
     "text": [
      "Created message: {'id': 'msg_VHnO2RHHQAQ0DhdlRfA8r4J1', 'object': 'thread.message', 'created_at': 1735837077, 'assistant_id': None, 'thread_id': 'thread_akFnNEZuM0nSLqCXLVeTz0jo', 'run_id': None, 'role': 'user', 'content': [{'type': 'text', 'text': {'value': \"Quale sarà la temperatura massima a Chiavari il 20 giugno? Se il giorno non è ancora disponibile, indica esattamente quale è l'ultima data per la quale sei in grado di rispondere.\", 'annotations': []}}], 'attachments': [], 'metadata': {}}\n"
     ]
    }
   ],
   "source": [
    "# Create message to thread\n",
    "message = project_client.agents.create_message(\n",
    "    thread_id=thread.id,\n",
    "    role=\"user\",\n",
    "    content=\"Quale sarà la temperatura massima a Chiavari il 20 giugno? Se il giorno non è ancora disponibile, indica esattamente quale è l'ultima data per la quale sei in grado di rispondere.\",\n",
    ")\n",
    "print(f\"Created message: {message}\")"
   ]
  },
  {
   "cell_type": "code",
   "execution_count": 11,
   "id": "8604f495-2519-42a7-a19a-026538cf2c2c",
   "metadata": {},
   "outputs": [
    {
     "name": "stdout",
     "output_type": "stream",
     "text": [
      "Run finished with status: RunStatus.COMPLETED. Run: {'id': 'run_FpO9aqap3sdVXoIskkwmeakx', 'object': 'thread.run', 'created_at': 1735837077, 'assistant_id': 'asst_IuTkQtjfJ6DzZDM3NYXnaM9H', 'thread_id': 'thread_akFnNEZuM0nSLqCXLVeTz0jo', 'status': 'completed', 'started_at': 1735837078, 'expires_at': None, 'cancelled_at': None, 'failed_at': None, 'completed_at': 1735837080, 'required_action': None, 'last_error': None, 'model': 'gpt-4o-0513', 'instructions': 'You are a helpful assistant', 'tools': [{'type': 'openapi', 'openapi': {'name': 'get_weather', 'description': 'Retrieve weather information for a location', 'spec': {'openapi': '3.1.0', 'info': {'title': 'get weather data', 'description': 'Retrieves current weather data for a location based on wttr.in.', 'version': 'v1.0.0'}, 'servers': [{'url': 'https://wttr.in'}], 'auth': [], 'paths': {'/{location}': {'get': {'description': 'Get weather information for a specific location', 'operationId': 'GetCurrentWeather', 'parameters': [{'name': 'location', 'in': 'path', 'description': 'City or location to retrieve the weather for', 'required': True, 'schema': {'type': 'string'}}, {'name': 'format', 'in': 'query', 'description': 'Always use j1 value for this parameter', 'required': True, 'schema': {'type': 'string', 'default': 'j1'}}], 'responses': {'200': {'description': 'Successful response', 'content': {'text/plain': {'schema': {'type': 'string'}}}}, '404': {'description': 'Location not found'}}, 'deprecated': False}}}, 'components': {'schemes': {}}}, 'auth': {'type': 'anonymous', 'security_scheme': {}}, 'functions': [{'name': 'get_weather.GetCurrentWeather', 'description': 'Get weather information for a specific location', 'parameters': {'type': 'object', 'properties': {'location': {'type': 'string', 'description': 'City or location to retrieve the weather for'}, 'format': {'type': 'string', 'description': 'Always use j1 value for this parameter'}}, 'required': ['location', 'format']}}]}}], 'tool_resources': {}, 'metadata': {}, 'temperature': 1.0, 'top_p': 1.0, 'max_completion_tokens': None, 'max_prompt_tokens': None, 'truncation_strategy': {'type': 'auto', 'last_messages': None}, 'incomplete_details': None, 'usage': {'prompt_tokens': 9246, 'completion_tokens': 84, 'total_tokens': 9330}, 'response_format': 'auto', 'tool_choice': 'auto', 'parallel_tool_calls': True}\n",
      "CPU times: total: 0 ns\n",
      "Wall time: 5.29 s\n"
     ]
    }
   ],
   "source": [
    "%%time\n",
    "# Create and process agent run in thread with tools\n",
    "run = project_client.agents.create_and_process_run(thread_id=thread.id, assistant_id=agent.id)\n",
    "print(f\"Run finished with status: {run.status}. Run: {run}\")\n",
    "\n",
    "if run.status == \"failed\":\n",
    "    # Check if you got \"Rate limit is exceeded.\", then you want to get more quota\n",
    "    print(f\"Run failed: {run.last_error}\")"
   ]
  },
  {
   "cell_type": "code",
   "execution_count": 12,
   "id": "bd778151-0cbb-4216-8de9-e4dee771d546",
   "metadata": {},
   "outputs": [
    {
     "name": "stdout",
     "output_type": "stream",
     "text": [
      "{'value': 'Non posso prevedere la temperatura massima del 20 giugno. Tuttavia, posso fornirti le previsioni meteo fino al 4 gennaio 2025. La temperatura massima prevista per Chiavari il 4 gennaio 2025 è di 9°C.', 'annotations': []}\n",
      "{'value': \"Quale sarà la temperatura massima a Chiavari il 20 giugno? Se il giorno non è ancora disponibile, indica esattamente quale è l'ultima data per la quale sei in grado di rispondere.\", 'annotations': []}\n"
     ]
    }
   ],
   "source": [
    "# Fetch and log all messages\n",
    "messages = project_client.agents.list_messages(thread_id=thread.id)\n",
    "for m in messages.text_messages:\n",
    "    print(m.text)"
   ]
  },
  {
   "cell_type": "code",
   "execution_count": 13,
   "id": "0d3222fb-0f69-43ec-8762-65cc8242df67",
   "metadata": {},
   "outputs": [
    {
     "name": "stdout",
     "output_type": "stream",
     "text": [
      "Last Message: Non posso prevedere la temperatura massima del 20 giugno. Tuttavia, posso fornirti le previsioni meteo fino al 4 gennaio 2025. La temperatura massima prevista per Chiavari il 4 gennaio 2025 è di 9°C.\n"
     ]
    }
   ],
   "source": [
    "# Get the last message from the sender\n",
    "last_msg = messages.get_last_text_message_by_sender(\"assistant\")\n",
    "if last_msg:\n",
    "    print(f\"Last Message: {last_msg.text.value}\")"
   ]
  },
  {
   "cell_type": "code",
   "execution_count": 14,
   "id": "cd551092-22cb-465c-baa3-ff58823fbb72",
   "metadata": {},
   "outputs": [
    {
     "name": "stdout",
     "output_type": "stream",
     "text": [
      "{'id': 'step_vHzd5cuUuTpdBpR68GZikb8E', 'object': 'thread.run.step', 'created_at': 1735837079, 'run_id': 'run_FpO9aqap3sdVXoIskkwmeakx', 'assistant_id': 'asst_IuTkQtjfJ6DzZDM3NYXnaM9H', 'thread_id': 'thread_akFnNEZuM0nSLqCXLVeTz0jo', 'type': 'message_creation', 'status': 'completed', 'cancelled_at': None, 'completed_at': 1735837080, 'expires_at': None, 'failed_at': None, 'last_error': None, 'step_details': {'type': 'message_creation', 'message_creation': {'message_id': 'msg_PRSqLbmM9e4l2QtrT1NGmWY9'}}, 'usage': {'prompt_tokens': 9246, 'completion_tokens': 59, 'total_tokens': 9305}} \n",
      "\n",
      "{'id': 'step_jj9OqBJthllgISwj8kG8juOS', 'object': 'thread.run.step', 'created_at': 1735837078, 'run_id': 'run_FpO9aqap3sdVXoIskkwmeakx', 'assistant_id': 'asst_IuTkQtjfJ6DzZDM3NYXnaM9H', 'thread_id': 'thread_akFnNEZuM0nSLqCXLVeTz0jo', 'type': 'tool_calls', 'status': 'completed', 'cancelled_at': None, 'completed_at': 1735837079, 'expires_at': None, 'failed_at': None, 'last_error': None, 'step_details': {'type': 'tool_calls', 'tool_calls': [{'id': 'call_S3S2mFcA48jSef1juYSGDRjf', 'type': 'openapi', 'function': {'name': 'get_weather.GetCurrentWeather', 'arguments': '{\"location\":\"Chiavari\",\"format\":\"j1\"}', 'output': \"{'current_condition': [{'FeelsLikeC': '12', 'FeelsLikeF': '54', 'cloudcover': '50', 'humidity': '72', 'localObsDateTime': '2025-01-02 04:10 PM', 'observation_time': '03:10 PM', 'precipInches': '0.0', 'precipMM': '0.4', 'pressure': '1018', 'pressureInches': '30', 'temp_C': '14', 'temp_F': '58', 'uvIndex': '0', 'visibility': '10', 'visibilityMiles': '6', 'weatherCode': '116', 'weatherDesc': [{'value': 'Partly cloudy'}], 'weatherIconUrl': [{'value': ''}], 'winddir16Point': 'SW', 'winddirDegree': '220', 'windspeedKmph': '33', 'windspeedMiles': '21'}], 'nearest_area': [{'areaName': [{'value': 'Chiavari'}], 'country': [{'value': 'Italy'}], 'latitude': '44.317', 'longitude': '9.317', 'population': '26572', 'region': [{'value': 'Liguria'}], 'weatherUrl': [{'value': ''}]}], 'request': [{'query': 'Lat 44.32 and Lon 9.32', 'type': 'LatLon'}], 'weather': [{'astronomy': [{'moon_illumination': '5', 'moon_phase': 'Waxing Crescent', 'moonrise': '10:06 AM', 'moonset': '07:42 PM', 'sunrise': '07:59 AM', 'sunset': '04:56 PM'}], 'avgtempC': '12', 'avgtempF': '54', 'date': '2025-01-02', 'hourly': [{'DewPointC': '8', 'DewPointF': '46', 'FeelsLikeC': '11', 'FeelsLikeF': '51', 'HeatIndexC': '11', 'HeatIndexF': '52', 'WindChillC': '11', 'WindChillF': '51', 'WindGustKmph': '8', 'WindGustMiles': '5', 'chanceoffog': '0', 'chanceoffrost': '0', 'chanceofhightemp': '0', 'chanceofovercast': '83', 'chanceofrain': '100', 'chanceofremdry': '0', 'chanceofsnow': '0', 'chanceofsunshine': '0', 'chanceofthunder': '0', 'chanceofwindy': '0', 'cloudcover': '96', 'diffRad': '0.0', 'humidity': '78', 'precipInches': '0.0', 'precipMM': '0.1', 'pressure': '1028', 'pressureInches': '30', 'shortRad': '0.0', 'tempC': '11', 'tempF': '52', 'time': '0', 'uvIndex': '0', 'visibility': '10', 'visibilityMiles': '6', 'weatherCode': '176', 'weatherDesc': [{'value': 'Patchy rain nearby'}], 'weatherIconUrl': [{'value': ''}], 'winddir16Point': 'SSE', 'winddirDegree': '147', 'windspeedKmph': '6', 'windspeedMiles': '4'}, {'DewPointC': '8', 'DewPointF': '47', 'FeelsLikeC': '10', 'FeelsLikeF': '50', 'HeatIndexC': '11', 'HeatIndexF': '53', 'WindChillC': '10', 'WindChillF': '50', 'WindGustKmph': '18', 'WindGustMiles': '11', 'chanceoffog': '0', 'chanceoffrost': '0', 'chanceofhightemp': '0', 'chanceofovercast': '91', 'chanceofrain': '100', 'chanceofremdry': '0', 'chanceofsnow': '0', 'chanceofsunshine': '0', 'chanceofthunder': '0', 'chanceofwindy': '0', 'cloudcover': '100', 'diffRad': '0.0', 'humidity': '81', 'precipInches': '0.0', 'precipMM': '0.3', 'pressure': '1027', 'pressureInches': '30', 'shortRad': '0.0', 'tempC': '11', 'tempF': '53', 'time': '300', 'uvIndex': '0', 'visibility': '10', 'visibilityMiles': '6', 'weatherCode': '353', 'weatherDesc': [{'value': 'Light rain shower'}], 'weatherIconUrl': [{'value': ''}], 'winddir16Point': 'S', 'winddirDegree': '190', 'windspeedKmph': '15', 'windspeedMiles': '9'}, {'DewPointC': '8', 'DewPointF': '47', 'FeelsLikeC': '10', 'FeelsLikeF': '49', 'HeatIndexC': '12', 'HeatIndexF': '53', 'WindChillC': '10', 'WindChillF': '49', 'WindGustKmph': '24', 'WindGustMiles': '15', 'chanceoffog': '0', 'chanceoffrost': '0', 'chanceofhightemp': '0', 'chanceofovercast': '91', 'chanceofrain': '100', 'chanceofremdry': '0', 'chanceofsnow': '0', 'chanceofsunshine': '0', 'chanceofthunder': '0', 'chanceofwindy': '0', 'cloudcover': '79', 'diffRad': '0.0', 'humidity': '79', 'precipInches': '0.0', 'precipMM': '0.2', 'pressure': '1025', 'pressureInches': '30', 'shortRad': '0.0', 'tempC': '12', 'tempF': '53', 'time': '600', 'uvIndex': '0', 'visibility': '10', 'visibilityMiles': '6', 'weatherCode': '353', 'weatherDesc': [{'value': 'Light rain shower'}], 'weatherIconUrl': [{'value': ''}], 'winddir16Point': 'S', 'winddirDegree': '185', 'windspeedKmph': '18', 'windspeedMiles': '11'}, {'DewPointC': '8', 'DewPointF': '47', 'FeelsLikeC': '10', 'FeelsLikeF': '49', 'HeatIndexC': '12', 'HeatIndexF': '54', 'WindChillC': '10', 'WindChillF': '49', 'WindGustKmph': '28', 'WindGustMiles': '17', 'chanceoffog': '0', 'chanceoffrost': '0', 'chanceofhightemp': '0', 'chanceofovercast': '94', 'chanceofrain': '100', 'chanceofremdry': '0', 'chanceofsnow': '0', 'chanceofsunshine': '0', 'chanceofthunder': '0', 'chanceofwindy': '0', 'cloudcover': '95', 'diffRad': '3.8', 'humidity': '77', 'precipInches': '0.0', 'precipMM': '0.3', 'pressure': '1024', 'pressureInches': '30', 'shortRad': '7.9', 'tempC': '12', 'tempF': '54', 'time': '900', 'uvIndex': '0', 'visibility': '10', 'visibilityMiles': '6', 'weatherCode': '353', 'weatherDesc': [{'value': 'Light rain shower'}], 'weatherIconUrl': [{'value': ''}], 'winddir16Point': 'SSW', 'winddirDegree': '198', 'windspeedKmph': '23', 'windspeedMiles': '14'}, {'DewPointC': '9', 'DewPointF': '48', 'FeelsLikeC': '9', 'FeelsLikeF': '49', 'HeatIndexC': '12', 'HeatIndexF': '54', 'WindChillC': '9', 'WindChillF': '49', 'WindGustKmph': '41', 'WindGustMiles': '26', 'chanceoffog': '0', 'chanceoffrost': '0', 'chanceofhightemp': '0', 'chanceofovercast': '83', 'chanceofrain': '100', 'chanceofremdry': '0', 'chanceofsnow': '0', 'chanceofsunshine': '0', 'chanceofthunder': '0', 'chanceofwindy': '0', 'cloudcover': '74', 'diffRad': '14.7', 'humidity': '81', 'precipInches': '0.0', 'precipMM': '0.5', 'pressure': '1023', 'pressureInches': '30', 'shortRad': '25.1', 'tempC': '12', 'tempF': '54', 'time': '1200', 'uvIndex': '1', 'visibility': '10', 'visibilityMiles': '6', 'weatherCode': '353', 'weatherDesc': [{'value': 'Light rain shower'}], 'weatherIconUrl': [{'value': ''}], 'winddir16Point': 'SSW', 'winddirDegree': '212', 'windspeedKmph': '29', 'windspeedMiles': '18'}, {'DewPointC': '9', 'DewPointF': '48', 'FeelsLikeC': '9', 'FeelsLikeF': '49', 'HeatIndexC': '12', 'HeatIndexF': '54', 'WindChillC': '9', 'WindChillF': '49', 'WindGustKmph': '41', 'WindGustMiles': '25', 'chanceoffog': '0', 'chanceoffrost': '0', 'chanceofhightemp': '0', 'chanceofovercast': '84', 'chanceofrain': '100', 'chanceofremdry': '0', 'chanceofsnow': '0', 'chanceofsunshine': '0', 'chanceofthunder': '0', 'chanceofwindy': '0', 'cloudcover': '76', 'diffRad': '23.9', 'humidity': '80', 'precipInches': '0.0', 'precipMM': '0.3', 'pressure': '1019', 'pressureInches': '30', 'shortRad': '39.3', 'tempC': '12', 'tempF': '54', 'time': '1500', 'uvIndex': '0', 'visibility': '10', 'visibilityMiles': '6', 'weatherCode': '353', 'weatherDesc': [{'value': 'Light rain shower'}], 'weatherIconUrl': [{'value': ''}], 'winddir16Point': 'SW', 'winddirDegree': '219', 'windspeedKmph': '33', 'windspeedMiles': '20'}, {'DewPointC': '9', 'DewPointF': '49', 'FeelsLikeC': '10', 'FeelsLikeF': '50', 'HeatIndexC': '13', 'HeatIndexF': '55', 'WindChillC': '10', 'WindChillF': '50', 'WindGustKmph': '50', 'WindGustMiles': '31', 'chanceoffog': '0', 'chanceoffrost': '0', 'chanceofhightemp': '0', 'chanceofovercast': '90', 'chanceofrain': '100', 'chanceofremdry': '0', 'chanceofsnow': '0', 'chanceofsunshine': '0', 'chanceofthunder': '0', 'chanceofwindy': '0', 'cloudcover': '66', 'diffRad': '14.3', 'humidity': '80', 'precipInches': '0.0', 'precipMM': '0.2', 'pressure': '1017', 'pressureInches': '30', 'shortRad': '24.5', 'tempC': '13', 'tempF': '55', 'time': '1800', 'uvIndex': '0', 'visibility': '10', 'visibilityMiles': '6', 'weatherCode': '353', 'weatherDesc': [{'value': 'Light rain shower'}], 'weatherIconUrl': [{'value': ''}], 'winddir16Point': 'SSW', 'winddirDegree': '208', 'windspeedKmph': '35', 'windspeedMiles': '22'}, {'DewPointC': '9', 'DewPointF': '49', 'FeelsLikeC': '10', 'FeelsLikeF': '50', 'HeatIndexC': '13', 'HeatIndexF': '55', 'WindChillC': '10', 'WindChillF': '50', 'WindGustKmph': '40', 'WindGustMiles': '25', 'chanceoffog': '0', 'chanceoffrost': '0', 'chanceofhightemp': '0', 'chanceofovercast': '93', 'chanceofrain': '100', 'chanceofremdry': '0', 'chanceofsnow': '0', 'chanceofsunshine': '0', 'chanceofthunder': '0', 'chanceofwindy': '0', 'cloudcover': '61', 'diffRad': '0.0', 'humidity': '80', 'precipInches': '0.0', 'precipMM': '0.3', 'pressure': '1015', 'pressureInches': '30', 'shortRad': '0.0', 'tempC': '13', 'tempF': '55', 'time': '2100', 'uvIndex': '0', 'visibility': '10', 'visibilityMiles': '6', 'weatherCode': '353', 'weatherDesc': [{'value': 'Light rain shower'}], 'weatherIconUrl': [{'value': ''}], 'winddir16Point': 'SSW', 'winddirDegree': '205', 'windspeedKmph': '33', 'windspeedMiles': '21'}], 'maxtempC': '13', 'maxtempF': '55', 'mintempC': '11', 'mintempF': '52', 'sunHour': '6.8', 'totalSnow_cm': '0.0', 'uvIndex': '0'}, {'astronomy': [{'moon_illumination': '11', 'moon_phase': 'Waxing Crescent', 'moonrise': '10:32 AM', 'moonset': '08:59 PM', 'sunrise': '07:59 AM', 'sunset': '04:57 PM'}], 'avgtempC': '11', 'avgtempF': '52', 'date': '2025-01-03', 'hourly': [{'DewPointC': '8', 'DewPointF': '47', 'FeelsLikeC': '10', 'FeelsLikeF': '51', 'HeatIndexC': '12', 'HeatIndexF': '54', 'WindChillC': '10', 'WindChillF': '51', 'WindGustKmph': '26', 'WindGustMiles': '16', 'chanceoffog': '0', 'chanceoffrost': '0', 'chanceofhightemp': '0', 'chanceofovercast': '82', 'chanceofrain': '79', 'chanceofremdry': '0', 'chanceofsnow': '0', 'chanceofsunshine': '0', 'chanceofthunder': '0', 'chanceofwindy': '0', 'cloudcover': '67', 'diffRad': '0.0', 'humidity': '77', 'precipInches': '0.0', 'precipMM': '0.0', 'pressure': '1012', 'pressureInches': '30', 'shortRad': '0.0', 'tempC': '12', 'tempF': '54', 'time': '0', 'uvIndex': '0', 'visibility': '10', 'visibilityMiles': '6', 'weatherCode': '176', 'weatherDesc': [{'value': 'Patchy rain nearby'}], 'weatherIconUrl': [{'value': ''}], 'winddir16Point': 'SSE', 'winddirDegree': '168', 'windspeedKmph': '20', 'windspeedMiles': '13'}, {'DewPointC': '8', 'DewPointF': '46', 'FeelsLikeC': '11', 'FeelsLikeF': '51', 'HeatIndexC': '12', 'HeatIndexF': '53', 'WindChillC': '11', 'WindChillF': '51', 'WindGustKmph': '12', 'WindGustMiles': '7', 'chanceoffog': '0', 'chanceoffrost': '0', 'chanceofhightemp': '0', 'chanceofovercast': '34', 'chanceofrain': '0', 'chanceofremdry': '90', 'chanceofsnow': '0', 'chanceofsunshine': '84', 'chanceofthunder': '0', 'chanceofwindy': '0', 'cloudcover': '41', 'diffRad': '0.0', 'humidity': '77', 'precipInches': '0.0', 'precipMM': '0.0', 'pressure': '1011', 'pressureInches': '30', 'shortRad': '0.0', 'tempC': '12', 'tempF': '53', 'time': '300', 'uvIndex': '0', 'visibility': '10', 'visibilityMiles': '6', 'weatherCode': '116', 'weatherDesc': [{'value': 'Partly Cloudy '}], 'weatherIconUrl': [{'value': ''}], 'winddir16Point': 'ENE', 'winddirDegree': '61', 'windspeedKmph': '9', 'windspeedMiles': '6'}, {'DewPointC': '7', 'DewPointF': '44', 'FeelsLikeC': '10', 'FeelsLikeF': '49', 'HeatIndexC': '11', 'HeatIndexF': '52', 'WindChillC': '10', 'WindChillF': '49', 'WindGustKmph': '14', 'WindGustMiles': '8', 'chanceoffog': '0', 'chanceoffrost': '0', 'chanceofhightemp': '0', 'chanceofovercast': '0', 'chanceofrain': '0', 'chanceofremdry': '84', 'chanceofsnow': '0', 'chanceofsunshine': '91', 'chanceofthunder': '0', 'chanceofwindy': '0', 'cloudcover': '21', 'diffRad': '0.0', 'humidity': '76', 'precipInches': '0.0', 'precipMM': '0.0', 'pressure': '1011', 'pressureInches': '30', 'shortRad': '0.0', 'tempC': '11', 'tempF': '52', 'time': '600', 'uvIndex': '0', 'visibility': '10', 'visibilityMiles': '6', 'weatherCode': '113', 'weatherDesc': [{'value': 'Clear '}], 'weatherIconUrl': [{'value': ''}], 'winddir16Point': 'N', 'winddirDegree': '2', 'windspeedKmph': '10', 'windspeedMiles': '6'}, {'DewPointC': '6', 'DewPointF': '43', 'FeelsLikeC': '8', 'FeelsLikeF': '47', 'HeatIndexC': '10', 'HeatIndexF': '51', 'WindChillC': '8', 'WindChillF': '47', 'WindGustKmph': '18', 'WindGustMiles': '11', 'chanceoffog': '0', 'chanceoffrost': '0', 'chanceofhightemp': '0', 'chanceofovercast': '0', 'chanceofrain': '0', 'chanceofremdry': '92', 'chanceofsnow': '0', 'chanceofsunshine': '88', 'chanceofthunder': '0', 'chanceofwindy': '0', 'cloudcover': '9', 'diffRad': '7.5', 'humidity': '75', 'precipInches': '0.0', 'precipMM': '0.0', 'pressure': '1012', 'pressureInches': '30', 'shortRad': '16.4', 'tempC': '10', 'tempF': '51', 'time': '900', 'uvIndex': '0', 'visibility': '10', 'visibilityMiles': '6', 'weatherCode': '113', 'weatherDesc': [{'value': 'Sunny'}], 'weatherIconUrl': [{'value': ''}], 'winddir16Point': 'N', 'winddirDegree': '349', 'windspeedKmph': '14', 'windspeedMiles': '9'}, {'DewPointC': '5', 'DewPointF': '40', 'FeelsLikeC': '10', 'FeelsLikeF': '51', 'HeatIndexC': '12', 'HeatIndexF': '53', 'WindChillC': '10', 'WindChillF': '51', 'WindGustKmph': '17', 'WindGustMiles': '11', 'chanceoffog': '0', 'chanceoffrost': '0', 'chanceofhightemp': '0', 'chanceofovercast': '0', 'chanceofrain': '0', 'chanceofremdry': '89', 'chanceofsnow': '0', 'chanceofsunshine': '88', 'chanceofthunder': '0', 'chanceofwindy': '0', 'cloudcover': '3', 'diffRad': '39.1', 'humidity': '60', 'precipInches': '0.0', 'precipMM': '0.0', 'pressure': '1014', 'pressureInches': '30', 'shortRad': '158.1', 'tempC': '12', 'tempF': '53', 'time': '1200', 'uvIndex': '1', 'visibility': '10', 'visibilityMiles': '6', 'weatherCode': '113', 'weatherDesc': [{'value': 'Sunny'}], 'weatherIconUrl': [{'value': ''}], 'winddir16Point': 'N', 'winddirDegree': '350', 'windspeedKmph': '15', 'windspeedMiles': '9'}, {'DewPointC': '3', 'DewPointF': '38', 'FeelsLikeC': '11', 'FeelsLikeF': '52', 'HeatIndexC': '12', 'HeatIndexF': '54', 'WindChillC': '11', 'WindChillF': '52', 'WindGustKmph': '14', 'WindGustMiles': '9', 'chanceoffog': '0', 'chanceoffrost': '0', 'chanceofhightemp': '0', 'chanceofovercast': '0', 'chanceofrain': '0', 'chanceofremdry': '90', 'chanceofsnow': '0', 'chanceofsunshine': '87', 'chanceofthunder': '0', 'chanceofwindy': '0', 'cloudcover': '0', 'diffRad': '63.0', 'humidity': '54', 'precipInches': '0.0', 'precipMM': '0.0', 'pressure': '1014', 'pressureInches': '30', 'shortRad': '305.2', 'tempC': '12', 'tempF': '54', 'time': '1500', 'uvIndex': '0', 'visibility': '10', 'visibilityMiles': '6', 'weatherCode': '113', 'weatherDesc': [{'value': 'Sunny'}], 'weatherIconUrl': [{'value': ''}], 'winddir16Point': 'N', 'winddirDegree': '359', 'windspeedKmph': '12', 'windspeedMiles': '8'}, {'DewPointC': '4', 'DewPointF': '40', 'FeelsLikeC': '8', 'FeelsLikeF': '46', 'HeatIndexC': '10', 'HeatIndexF': '50', 'WindChillC': '8', 'WindChillF': '46', 'WindGustKmph': '19', 'WindGustMiles': '12', 'chanceoffog': '0', 'chanceoffrost': '0', 'chanceofhightemp': '0', 'chanceofovercast': '0', 'chanceofrain': '0', 'chanceofremdry': '89', 'chanceofsnow': '0', 'chanceofsunshine': '85', 'chanceofthunder': '0', 'chanceofwindy': '0', 'cloudcover': '0', 'diffRad': '36.1', 'humidity': '68', 'precipInches': '0.0', 'precipMM': '0.0', 'pressure': '1018', 'pressureInches': '30', 'shortRad': '158.1', 'tempC': '10', 'tempF': '50', 'time': '1800', 'uvIndex': '0', 'visibility': '10', 'visibilityMiles': '6', 'weatherCode': '113', 'weatherDesc': [{'value': 'Clear '}], 'weatherIconUrl': [{'value': ''}], 'winddir16Point': 'NNE', 'winddirDegree': '30', 'windspeedKmph': '14', 'windspeedMiles': '9'}, {'DewPointC': '3', 'DewPointF': '38', 'FeelsLikeC': '7', 'FeelsLikeF': '45', 'HeatIndexC': '9', 'HeatIndexF': '48', 'WindChillC': '7', 'WindChillF': '45', 'WindGustKmph': '14', 'WindGustMiles': '8', 'chanceoffog': '0', 'chanceoffrost': '0', 'chanceofhightemp': '0', 'chanceofovercast': '0', 'chanceofrain': '0', 'chanceofremdry': '83', 'chanceofsnow': '0', 'chanceofsunshine': '88', 'chanceofthunder': '0', 'chanceofwindy': '0', 'cloudcover': '0', 'diffRad': '0.0', 'humidity': '68', 'precipInches': '0.0', 'precipMM': '0.0', 'pressure': '1020', 'pressureInches': '30', 'shortRad': '0.0', 'tempC': '9', 'tempF': '48', 'time': '2100', 'uvIndex': '0', 'visibility': '10', 'visibilityMiles': '6', 'weatherCode': '113', 'weatherDesc': [{'value': 'Clear '}], 'weatherIconUrl': [{'value': ''}], 'winddir16Point': 'NNE', 'winddirDegree': '28', 'windspeedKmph': '10', 'windspeedMiles': '6'}], 'maxtempC': '12', 'maxtempF': '54', 'mintempC': '8', 'mintempF': '47', 'sunHour': '9.0', 'totalSnow_cm': '0.0', 'uvIndex': '0'}, {'astronomy': [{'moon_illumination': '19', 'moon_phase': 'Waxing Crescent', 'moonrise': '10:54 AM', 'moonset': '10:15 PM', 'sunrise': '07:59 AM', 'sunset': '04:58 PM'}], 'avgtempC': '8', 'avgtempF': '46', 'date': '2025-01-04', 'hourly': [{'DewPointC': '3', 'DewPointF': '37', 'FeelsLikeC': '6', 'FeelsLikeF': '43', 'HeatIndexC': '8', 'HeatIndexF': '46', 'WindChillC': '6', 'WindChillF': '43', 'WindGustKmph': '15', 'WindGustMiles': '9', 'chanceoffog': '0', 'chanceoffrost': '0', 'chanceofhightemp': '0', 'chanceofovercast': '0', 'chanceofrain': '0', 'chanceofremdry': '85', 'chanceofsnow': '0', 'chanceofsunshine': '86', 'chanceofthunder': '0', 'chanceofwindy': '0', 'cloudcover': '0', 'diffRad': '0.0', 'humidity': '70', 'precipInches': '0.0', 'precipMM': '0.0', 'pressure': '1022', 'pressureInches': '30', 'shortRad': '0.0', 'tempC': '8', 'tempF': '46', 'time': '0', 'uvIndex': '0', 'visibility': '10', 'visibilityMiles': '6', 'weatherCode': '113', 'weatherDesc': [{'value': 'Clear '}], 'weatherIconUrl': [{'value': ''}], 'winddir16Point': 'NNE', 'winddirDegree': '22', 'windspeedKmph': '11', 'windspeedMiles': '7'}, {'DewPointC': '2', 'DewPointF': '36', 'FeelsLikeC': '6', 'FeelsLikeF': '42', 'HeatIndexC': '7', 'HeatIndexF': '45', 'WindChillC': '6', 'WindChillF': '42', 'WindGustKmph': '14', 'WindGustMiles': '8', 'chanceoffog': '0', 'chanceoffrost': '0', 'chanceofhightemp': '0', 'chanceofovercast': '0', 'chanceofrain': '0', 'chanceofremdry': '85', 'chanceofsnow': '0', 'chanceofsunshine': '87', 'chanceofthunder': '0', 'chanceofwindy': '0', 'cloudcover': '0', 'diffRad': '0.0', 'humidity': '69', 'precipInches': '0.0', 'precipMM': '0.0', 'pressure': '1022', 'pressureInches': '30', 'shortRad': '0.0', 'tempC': '7', 'tempF': '45', 'time': '300', 'uvIndex': '0', 'visibility': '10', 'visibilityMiles': '6', 'weatherCode': '113', 'weatherDesc': [{'value': 'Clear '}], 'weatherIconUrl': [{'value': ''}], 'winddir16Point': 'NNE', 'winddirDegree': '29', 'windspeedKmph': '10', 'windspeedMiles': '6'}, {'DewPointC': '1', 'DewPointF': '34', 'FeelsLikeC': '5', 'FeelsLikeF': '41', 'HeatIndexC': '7', 'HeatIndexF': '45', 'WindChillC': '5', 'WindChillF': '41', 'WindGustKmph': '14', 'WindGustMiles': '9', 'chanceoffog': '0', 'chanceoffrost': '0', 'chanceofhightemp': '0', 'chanceofovercast': '0', 'chanceofrain': '0', 'chanceofremdry': '85', 'chanceofsnow': '0', 'chanceofsunshine': '93', 'chanceofthunder': '0', 'chanceofwindy': '0', 'cloudcover': '17', 'diffRad': '0.0', 'humidity': '66', 'precipInches': '0.0', 'precipMM': '0.0', 'pressure': '1022', 'pressureInches': '30', 'shortRad': '0.0', 'tempC': '7', 'tempF': '45', 'time': '600', 'uvIndex': '0', 'visibility': '10', 'visibilityMiles': '6', 'weatherCode': '113', 'weatherDesc': [{'value': 'Clear '}], 'weatherIconUrl': [{'value': ''}], 'winddir16Point': 'NE', 'winddirDegree': '37', 'windspeedKmph': '10', 'windspeedMiles': '6'}, {'DewPointC': '0', 'DewPointF': '33', 'FeelsLikeC': '6', 'FeelsLikeF': '43', 'HeatIndexC': '7', 'HeatIndexF': '45', 'WindChillC': '6', 'WindChillF': '43', 'WindGustKmph': '10', 'WindGustMiles': '6', 'chanceoffog': '0', 'chanceoffrost': '0', 'chanceofhightemp': '0', 'chanceofovercast': '0', 'chanceofrain': '0', 'chanceofremdry': '83', 'chanceofsnow': '0', 'chanceofsunshine': '85', 'chanceofthunder': '0', 'chanceofwindy': '0', 'cloudcover': '11', 'diffRad': '7.3', 'humidity': '62', 'precipInches': '0.0', 'precipMM': '0.0', 'pressure': '1024', 'pressureInches': '30', 'shortRad': '16.8', 'tempC': '7', 'tempF': '45', 'time': '900', 'uvIndex': '0', 'visibility': '10', 'visibilityMiles': '6', 'weatherCode': '113', 'weatherDesc': [{'value': 'Sunny'}], 'weatherIconUrl': [{'value': ''}], 'winddir16Point': 'NNE', 'winddirDegree': '23', 'windspeedKmph': '8', 'windspeedMiles': '5'}, {'DewPointC': '-0', 'DewPointF': '31', 'FeelsLikeC': '9', 'FeelsLikeF': '48', 'HeatIndexC': '9', 'HeatIndexF': '48', 'WindChillC': '9', 'WindChillF': '48', 'WindGustKmph': '2', 'WindGustMiles': '1', 'chanceoffog': '0', 'chanceoffrost': '0', 'chanceofhightemp': '0', 'chanceofovercast': '0', 'chanceofrain': '0', 'chanceofremdry': '80', 'chanceofsnow': '0', 'chanceofsunshine': '87', 'chanceofthunder': '0', 'chanceofwindy': '0', 'cloudcover': '24', 'diffRad': '37.6', 'humidity': '52', 'precipInches': '0.0', 'precipMM': '0.0', 'pressure': '1024', 'pressureInches': '30', 'shortRad': '164.8', 'tempC': '9', 'tempF': '48', 'time': '1200', 'uvIndex': '1', 'visibility': '10', 'visibilityMiles': '6', 'weatherCode': '113', 'weatherDesc': [{'value': 'Sunny'}], 'weatherIconUrl': [{'value': ''}], 'winddir16Point': 'WNW', 'winddirDegree': '282', 'windspeedKmph': '1', 'windspeedMiles': '1'}, {'DewPointC': '1', 'DewPointF': '33', 'FeelsLikeC': '9', 'FeelsLikeF': '48', 'HeatIndexC': '9', 'HeatIndexF': '48', 'WindChillC': '9', 'WindChillF': '48', 'WindGustKmph': '4', 'WindGustMiles': '3', 'chanceoffog': '0', 'chanceoffrost': '0', 'chanceofhightemp': '0', 'chanceofovercast': '35', 'chanceofrain': '0', 'chanceofremdry': '80', 'chanceofsnow': '0', 'chanceofsunshine': '77', 'chanceofthunder': '0', 'chanceofwindy': '0', 'cloudcover': '46', 'diffRad': '72.9', 'humidity': '56', 'precipInches': '0.0', 'precipMM': '0.0', 'pressure': '1023', 'pressureInches': '30', 'shortRad': '296.4', 'tempC': '9', 'tempF': '48', 'time': '1500', 'uvIndex': '0', 'visibility': '10', 'visibilityMiles': '6', 'weatherCode': '116', 'weatherDesc': [{'value': 'Partly Cloudy '}], 'weatherIconUrl': [{'value': ''}], 'winddir16Point': 'WSW', 'winddirDegree': '251', 'windspeedKmph': '4', 'windspeedMiles': '2'}, {'DewPointC': '2', 'DewPointF': '35', 'FeelsLikeC': '8', 'FeelsLikeF': '46', 'HeatIndexC': '8', 'HeatIndexF': '46', 'WindChillC': '8', 'WindChillF': '46', 'WindGustKmph': '3', 'WindGustMiles': '2', 'chanceoffog': '0', 'chanceoffrost': '0', 'chanceofhightemp': '0', 'chanceofovercast': '31', 'chanceofrain': '0', 'chanceofremdry': '90', 'chanceofsnow': '0', 'chanceofsunshine': '79', 'chanceofthunder': '0', 'chanceofwindy': '0', 'cloudcover': '42', 'diffRad': '41.1', 'humidity': '64', 'precipInches': '0.0', 'precipMM': '0.0', 'pressure': '1023', 'pressureInches': '30', 'shortRad': '145.1', 'tempC': '8', 'tempF': '46', 'time': '1800', 'uvIndex': '0', 'visibility': '10', 'visibilityMiles': '6', 'weatherCode': '116', 'weatherDesc': [{'value': 'Partly Cloudy '}], 'weatherIconUrl': [{'value': ''}], 'winddir16Point': 'N', 'winddirDegree': '350', 'windspeedKmph': '3', 'windspeedMiles': '2'}, {'DewPointC': '2', 'DewPointF': '36', 'FeelsLikeC': '8', 'FeelsLikeF': '47', 'HeatIndexC': '8', 'HeatIndexF': '47', 'WindChillC': '8', 'WindChillF': '47', 'WindGustKmph': '3', 'WindGustMiles': '2', 'chanceoffog': '0', 'chanceoffrost': '0', 'chanceofhightemp': '0', 'chanceofovercast': '89', 'chanceofrain': '82', 'chanceofremdry': '0', 'chanceofsnow': '0', 'chanceofsunshine': '0', 'chanceofthunder': '0', 'chanceofwindy': '0', 'cloudcover': '100', 'diffRad': '0.0', 'humidity': '65', 'precipInches': '0.0', 'precipMM': '0.0', 'pressure': '1023', 'pressureInches': '30', 'shortRad': '0.0', 'tempC': '8', 'tempF': '47', 'time': '2100', 'uvIndex': '0', 'visibility': '10', 'visibilityMiles': '6', 'weatherCode': '176', 'weatherDesc': [{'value': 'Patchy rain nearby'}], 'weatherIconUrl': [{'value': ''}], 'winddir16Point': 'ESE', 'winddirDegree': '105', 'windspeedKmph': '3', 'windspeedMiles': '2'}], 'maxtempC': '9', 'maxtempF': '48', 'mintempC': '7', 'mintempF': '45', 'sunHour': '9.0', 'totalSnow_cm': '0.0', 'uvIndex': '0'}]}\"}}]}, 'usage': {'prompt_tokens': 0, 'completion_tokens': 25, 'total_tokens': 25}} \n",
      "\n"
     ]
    }
   ],
   "source": [
    "run_steps = project_client.agents.list_run_steps(run_id=run.id, thread_id=thread.id)\n",
    "run_steps_data = run_steps['data']\n",
    "for rs in run_steps[\"data\"]:\n",
    "    print(rs, '\\n')"
   ]
  },
  {
   "cell_type": "markdown",
   "id": "944ec759-c053-4ab7-81aa-15cfa4961468",
   "metadata": {},
   "source": [
    "# START teardown"
   ]
  },
  {
   "cell_type": "code",
   "execution_count": 15,
   "id": "4067d9ab-2a20-4107-be1f-9ea5ccd19cc0",
   "metadata": {},
   "outputs": [
    {
     "data": {
      "text/plain": [
       "{'object': 'list', 'data': [{'id': 'asst_IuTkQtjfJ6DzZDM3NYXnaM9H', 'object': 'assistant', 'created_at': 1735837075, 'name': 'my-assistant', 'description': None, 'model': 'gpt-4o-0513', 'instructions': 'You are a helpful assistant', 'tools': [{'type': 'openapi', 'openapi': {'name': 'get_weather', 'description': 'Retrieve weather information for a location', 'spec': {'openapi': '3.1.0', 'info': {'title': 'get weather data', 'description': 'Retrieves current weather data for a location based on wttr.in.', 'version': 'v1.0.0'}, 'servers': [{'url': 'https://wttr.in'}], 'auth': [], 'paths': {'/{location}': {'get': {'description': 'Get weather information for a specific location', 'operationId': 'GetCurrentWeather', 'parameters': [{'name': 'location', 'in': 'path', 'description': 'City or location to retrieve the weather for', 'required': True, 'schema': {'type': 'string'}}, {'name': 'format', 'in': 'query', 'description': 'Always use j1 value for this parameter', 'required': True, 'schema': {'type': 'string', 'default': 'j1'}}], 'responses': {'200': {'description': 'Successful response', 'content': {'text/plain': {'schema': {'type': 'string'}}}}, '404': {'description': 'Location not found'}}, 'deprecated': False}}}, 'components': {'schemes': {}}}, 'auth': {'type': 'anonymous', 'security_scheme': {}}, 'functions': [{'name': 'get_weather.GetCurrentWeather', 'description': 'Get weather information for a specific location', 'parameters': {'type': 'object', 'properties': {'location': {'type': 'string', 'description': 'City or location to retrieve the weather for'}, 'format': {'type': 'string', 'description': 'Always use j1 value for this parameter'}}, 'required': ['location', 'format']}}]}}], 'top_p': 1.0, 'temperature': 1.0, 'tool_resources': {}, 'metadata': {}, 'response_format': 'auto'}], 'first_id': 'asst_IuTkQtjfJ6DzZDM3NYXnaM9H', 'last_id': 'asst_IuTkQtjfJ6DzZDM3NYXnaM9H', 'has_more': False}"
      ]
     },
     "execution_count": 15,
     "metadata": {},
     "output_type": "execute_result"
    }
   ],
   "source": [
    "project_client.agents.list_agents()"
   ]
  },
  {
   "cell_type": "code",
   "execution_count": 16,
   "id": "11b0c075-9f1a-47ca-b8c8-ad2e9d85b477",
   "metadata": {},
   "outputs": [
    {
     "name": "stdout",
     "output_type": "stream",
     "text": [
      "deleting trhead: {'id': 'thread_akFnNEZuM0nSLqCXLVeTz0jo', 'object': 'thread', 'created_at': 1735837076, 'metadata': {}, 'tool_resources': {}}...\n"
     ]
    },
    {
     "data": {
      "text/plain": [
       "{'id': 'thread_akFnNEZuM0nSLqCXLVeTz0jo', 'object': 'thread.deleted', 'deleted': True}"
      ]
     },
     "execution_count": 16,
     "metadata": {},
     "output_type": "execute_result"
    }
   ],
   "source": [
    "print(f\"deleting trhead: {thread}...\")\n",
    "project_client.agents.delete_thread(thread.id)"
   ]
  },
  {
   "cell_type": "code",
   "execution_count": 17,
   "id": "48399858-16e3-4b7c-a13a-aa3ed8320539",
   "metadata": {},
   "outputs": [
    {
     "name": "stdout",
     "output_type": "stream",
     "text": [
      "Deleting agent my-assistant (asst_IuTkQtjfJ6DzZDM3NYXnaM9H)...\n"
     ]
    }
   ],
   "source": [
    "# Delete all agents\n",
    "for pca in project_client.agents.list_agents()['data']:\n",
    "    print(f\"Deleting agent {pca.name} ({pca.id})...\")\n",
    "    project_client.agents.delete_agent(pca.id)"
   ]
  },
  {
   "cell_type": "markdown",
   "id": "c8cc2b04-a0b3-45ee-9066-4306e16511f9",
   "metadata": {},
   "source": [
    "# HIC SUNT LEONES"
   ]
  }
 ],
 "metadata": {
  "kernelspec": {
   "display_name": "aaas",
   "language": "python",
   "name": "aaas"
  },
  "language_info": {
   "codemirror_mode": {
    "name": "ipython",
    "version": 3
   },
   "file_extension": ".py",
   "mimetype": "text/x-python",
   "name": "python",
   "nbconvert_exporter": "python",
   "pygments_lexer": "ipython3",
   "version": "3.12.8"
  }
 },
 "nbformat": 4,
 "nbformat_minor": 5
}
