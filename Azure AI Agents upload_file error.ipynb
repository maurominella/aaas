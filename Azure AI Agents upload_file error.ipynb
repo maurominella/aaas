{
 "cells": [
  {
   "cell_type": "code",
   "execution_count": 1,
   "id": "98d9cc9d-cbef-4b35-a4a3-84802dd4ee06",
   "metadata": {},
   "outputs": [
    {
     "name": "stdout",
     "output_type": "stream",
     "text": [
      "Project Connection String: <...mai04-rg;mmai-hub04-prj01-fvye>\n"
     ]
    }
   ],
   "source": [
    "import os\n",
    "from dotenv import load_dotenv # requires python-dotenv\n",
    "load_dotenv(\"./../config/credentials_my.env\")\n",
    "\n",
    "print(f'Project Connection String: <...{os.environ[\"PROJECT_CONNECTION_STRING\"][-30:]}>')"
   ]
  },
  {
   "cell_type": "code",
   "execution_count": 3,
   "id": "92162710-b97b-4e73-9c6a-0660b46a433c",
   "metadata": {},
   "outputs": [],
   "source": [
    "from azure.ai.projects.models import azure"
   ]
  },
  {
   "cell_type": "code",
   "execution_count": null,
   "id": "6ec19c8c-d4a4-469a-9cb6-596c17bf7ebb",
   "metadata": {},
   "outputs": [],
   "source": [
    "import os\n",
    "from azure.ai.projects import AIProjectClient\n",
    "from azure.ai.projects.models import FilePurpose\n",
    "from azure.identity import DefaultAzureCredential"
   ]
  },
  {
   "cell_type": "code",
   "execution_count": null,
   "id": "3150d6cf-4fb1-41b2-b64b-84b0d0e2f5ef",
   "metadata": {},
   "outputs": [],
   "source": [
    "project_client = AIProjectClient.from_connection_string(\n",
    "    credential=DefaultAzureCredential(), conn_str=os.environ[\"PROJECT_CONNECTION_STRING\"]\n",
    ")"
   ]
  },
  {
   "cell_type": "code",
   "execution_count": null,
   "id": "47792a97-2f49-4553-b727-9fa569ad2643",
   "metadata": {},
   "outputs": [],
   "source": [
    "project_client.agents.list_agents()"
   ]
  },
  {
   "cell_type": "code",
   "execution_count": null,
   "id": "58fb8a9c-acb5-44ef-8be2-e88afe49120c",
   "metadata": {},
   "outputs": [],
   "source": [
    "connections = project_client.connections.list()\n",
    "for connection in connections:\n",
    "    print(connection)"
   ]
  },
  {
   "cell_type": "code",
   "execution_count": null,
   "id": "51d6bf3b-f91b-4eaa-b0b0-99bafb0e8d16",
   "metadata": {},
   "outputs": [],
   "source": [
    "file = project_client.agents.upload_file_and_poll(\n",
    "    file_path=\"./product_info_1.md\", purpose=FilePurpose.AGENTS\n",
    ")"
   ]
  }
 ],
 "metadata": {
  "kernelspec": {
   "display_name": "aaas",
   "language": "python",
   "name": "aaas"
  },
  "language_info": {
   "codemirror_mode": {
    "name": "ipython",
    "version": 3
   },
   "file_extension": ".py",
   "mimetype": "text/x-python",
   "name": "python",
   "nbconvert_exporter": "python",
   "pygments_lexer": "ipython3",
   "version": "3.12.8"
  }
 },
 "nbformat": 4,
 "nbformat_minor": 5
}
