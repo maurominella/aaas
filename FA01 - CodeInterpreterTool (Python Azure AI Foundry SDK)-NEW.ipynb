{
 "cells": [
  {
   "cell_type": "markdown",
   "id": "bd7eb769-c574-4f94-a528-ff66d0b7c7b3",
   "metadata": {},
   "source": [
    "# Constants and Libraries"
   ]
  },
  {
   "cell_type": "markdown",
   "id": "8a23584a-b3cf-482a-a94c-5ff9a90cdc65",
   "metadata": {},
   "source": [
    "## Only if needed\n",
    "\n",
    "import os\n",
    "\n",
    "# Login with tenant ID\n",
    "os.system(\"az login --tenant 3ad0b905-34ab-4116-93d9-c1dcc2d35af6 --output none\")\n",
    "\n",
    "# Set the subscription programmatically\n",
    "os.system(\"az account set --subscription eca2eddb-0f0c-4351-a634-52751499eeea\")"
   ]
  },
  {
   "cell_type": "code",
   "execution_count": 1,
   "id": "98d9cc9d-cbef-4b35-a4a3-84802dd4ee06",
   "metadata": {},
   "outputs": [
    {
     "name": "stdout",
     "output_type": "stream",
     "text": [
      "Environment variables have been loaded ;-)\n",
      "Project Endpoint: <https://mmai-swc-new01-prj-resource.services.ai.azure.com/api/projects/mmai-swc-new01-prj>\n",
      "azure-ai-projects library installed version: 1.0.0b11\n",
      "azure-ai-agents library installed version: 1.1.0b1\n"
     ]
    }
   ],
   "source": [
    "import os\n",
    "from IPython.display import Markdown, display\n",
    "from dotenv import load_dotenv # requires python-dotenv\n",
    "from PIL import Image # requires pip install pillow\n",
    "from datetime import datetime\n",
    "from common.agents_helper_functions_NEW import *\n",
    "import importlib.metadata\n",
    "import matplotlib.pyplot as plt\n",
    "import matplotlib.image as mpimg\n",
    "\n",
    "if not load_dotenv(\"./../config/credentials_my.env\"):\n",
    "    print(\"Environment variables not loaded, cell execution stopped\")\n",
    "else:\n",
    "    print(\"Environment variables have been loaded ;-)\")\n",
    "\n",
    "\n",
    "project_endpoint = os.environ[\"PROJECT_ENDPOINT\"]\n",
    "api_version = os.environ[\"OPENAI_API_VERSION\"] # at least \"2025-03-01-preview\"\n",
    "\n",
    "print(f'Project Endpoint: <{project_endpoint}>')\n",
    "print(f\"azure-ai-projects library installed version: {importlib.metadata.version(\"azure-ai-projects\")}\")\n",
    "print(f\"azure-ai-agents library installed version: {importlib.metadata.version(\"azure-ai-agents\")}\")"
   ]
  },
  {
   "cell_type": "markdown",
   "id": "d5ff8df5-3544-4646-ae90-3d794944dfe7",
   "metadata": {},
   "source": [
    "# Create AI Foundry Project Client"
   ]
  },
  {
   "cell_type": "code",
   "execution_count": 2,
   "id": "5a9abb62-b855-402f-9e22-583ffe6bf8cb",
   "metadata": {},
   "outputs": [
    {
     "data": {
      "text/plain": [
       "<azure.ai.projects._patch.AIProjectClient at 0x7fb2b08f9400>"
      ]
     },
     "execution_count": 2,
     "metadata": {},
     "output_type": "execute_result"
    }
   ],
   "source": [
    "from azure.ai.projects import AIProjectClient\n",
    "from azure.identity import DefaultAzureCredential\n",
    "\n",
    "project_client = AIProjectClient(\n",
    "    endpoint=project_endpoint,\n",
    "    credential=DefaultAzureCredential(),\n",
    ")\n",
    "\n",
    "project_client"
   ]
  },
  {
   "cell_type": "markdown",
   "id": "cbf08de0-f038-4bb5-b26e-2d0947225ee5",
   "metadata": {},
   "source": [
    "# [Create AI Foundry Agent Client](https://learn.microsoft.com/en-us/python/api/overview/azure/ai-agents-readme?view=azure-python-preview)\n",
    "Please consider that `project_client.agents == agents_client`"
   ]
  },
  {
   "cell_type": "code",
   "execution_count": 3,
   "id": "25d28a9a-3502-4d5b-930d-a73a008b05a5",
   "metadata": {},
   "outputs": [],
   "source": [
    "from azure.ai.agents import AgentsClient\n",
    "\n",
    "agents_client = AgentsClient(\n",
    "    endpoint=project_endpoint,\n",
    "    credential=DefaultAzureCredential(),\n",
    ")"
   ]
  },
  {
   "cell_type": "markdown",
   "id": "552f8322-d880-4e5b-8a2e-dcd3e1ffd0e0",
   "metadata": {},
   "source": [
    "# Just for testing: List current AI Foundry Agents"
   ]
  },
  {
   "cell_type": "code",
   "execution_count": 4,
   "id": "334ff5d8-0377-4b0f-9c57-5ce974c05a6a",
   "metadata": {},
   "outputs": [
    {
     "data": {
      "text/plain": [
       "[]"
      ]
     },
     "execution_count": 4,
     "metadata": {},
     "output_type": "execute_result"
    }
   ],
   "source": [
    "# using project_client.agents...\n",
    "\n",
    "agents = project_client.agents.list_agents()\n",
    "\n",
    "[f\"{a.id}: {a.name}\" for a in agents]"
   ]
  },
  {
   "cell_type": "code",
   "execution_count": 5,
   "id": "8cafff26-cc71-4ac1-8d36-485a7f592422",
   "metadata": {},
   "outputs": [
    {
     "data": {
      "text/plain": [
       "[]"
      ]
     },
     "execution_count": 5,
     "metadata": {},
     "output_type": "execute_result"
    }
   ],
   "source": [
    "# using agents_client...\n",
    "\n",
    "agents = agents_client.list_agents()\n",
    "\n",
    "[f\"{a.id}: {a.name}\" for a in agents]"
   ]
  },
  {
   "cell_type": "markdown",
   "id": "80eeab3e-4e0d-40ad-b522-2faf0787384f",
   "metadata": {},
   "source": [
    "# Create the [CodeInterpreterTool](https://learn.microsoft.com/en-us/azure/ai-services/agents/how-to/tools/code-interpreter-samples?pivots=python#code-interpreter-setup)"
   ]
  },
  {
   "cell_type": "code",
   "execution_count": 6,
   "id": "daae01d0-2496-49b4-b8ce-71714f16f9af",
   "metadata": {},
   "outputs": [
    {
     "name": "stdout",
     "output_type": "stream",
     "text": [
      "Code interpreter definitions: [{'type': 'code_interpreter'}]\n",
      "Code interpreter resources: {}\n"
     ]
    }
   ],
   "source": [
    "from azure.ai.agents.models import CodeInterpreterTool\n",
    "\n",
    "code_interpreter = CodeInterpreterTool()\n",
    "print(f\"Code interpreter definitions: {code_interpreter.definitions}\")\n",
    "print(f\"Code interpreter resources: {code_interpreter.resources}\")"
   ]
  },
  {
   "cell_type": "markdown",
   "id": "63a67348-3db6-44e4-bc75-26b01a35cfdd",
   "metadata": {},
   "source": [
    "# Create AI Foundry Agent with its CodeInterpreterTool for AI Agents"
   ]
  },
  {
   "cell_type": "code",
   "execution_count": 7,
   "id": "5eeed487-88c6-4df4-b942-2ec1ff20bcf1",
   "metadata": {},
   "outputs": [
    {
     "name": "stdout",
     "output_type": "stream",
     "text": [
      "Created agent, agent ID: asst_2385ZBpC0lSRB5SULxdmO9LG,\n",
      "agent items: <bound method _MyMutableMapping.items of {'id': 'asst_2385ZBpC0lSRB5SULxdmO9LG', 'object': 'assistant', 'created_at': 1748513802, 'name': 'my-agent', 'description': None, 'model': 'gpt-4o', 'instructions': 'You are helpful agent', 'tools': [{'type': 'code_interpreter'}], 'top_p': 1.0, 'temperature': 1.0, 'tool_resources': {'code_interpreter': {'file_ids': []}}, 'metadata': {}, 'response_format': 'auto'}>\n"
     ]
    }
   ],
   "source": [
    "# using project_client.agents...\n",
    "ai_agent = project_client.agents.create_agent(\n",
    "    model=os.environ[\"MODEL_DEPLOYMENT_NAME\"],\n",
    "    name=\"my-agent\",\n",
    "    instructions=\"You are helpful agent\",\n",
    "    tools=code_interpreter.definitions,\n",
    "    tool_resources=code_interpreter.resources,\n",
    ")\n",
    "\n",
    "print(f\"Created agent, agent ID: {ai_agent.id},\\nagent items: {ai_agent.items}\")"
   ]
  },
  {
   "cell_type": "markdown",
   "id": "c2f5701e-3363-40ff-8ef6-4450d90041e2",
   "metadata": {},
   "source": [
    "# Just for testing: create a new agent and delete it"
   ]
  },
  {
   "cell_type": "code",
   "execution_count": 8,
   "id": "45404c3b-2dd9-4319-a178-cadab401bea6",
   "metadata": {},
   "outputs": [
    {
     "name": "stdout",
     "output_type": "stream",
     "text": [
      "All agents, including the useless one:\n"
     ]
    },
    {
     "data": {
      "text/plain": [
       "['asst_bRPQSj1QLL4MNnsdSNSDcrCs: my-agent02 to be deleted',\n",
       " 'asst_2385ZBpC0lSRB5SULxdmO9LG: my-agent']"
      ]
     },
     "metadata": {},
     "output_type": "display_data"
    },
    {
     "name": "stdout",
     "output_type": "stream",
     "text": [
      "\n",
      "All agents, after deleting the useless one:\n"
     ]
    },
    {
     "data": {
      "text/plain": [
       "['asst_2385ZBpC0lSRB5SULxdmO9LG: my-agent']"
      ]
     },
     "metadata": {},
     "output_type": "display_data"
    }
   ],
   "source": [
    "# Create a second agent\n",
    "ai_agent_02 = agents_client.create_agent( # using agents_client\n",
    "    model=os.environ[\"MODEL_DEPLOYMENT_NAME\"],\n",
    "    name=\"my-agent02 to be deleted\",\n",
    "    instructions=\"You are helpful agent\",\n",
    "    tools=code_interpreter.definitions,\n",
    "    tool_resources=code_interpreter.resources,\n",
    ")\n",
    "\n",
    "# List all agents\n",
    "print(f\"All agents, including the useless one:\")\n",
    "display([f\"{a.id}: {a.name}\" for a in project_client.agents.list_agents()]) # using project_client.agents\n",
    "\n",
    "agents_client.delete_agent(ai_agent_02.id) # using agents_client\n",
    "\n",
    "# List all agents\n",
    "print(f\"\\nAll agents, after deleting the useless one:\")\n",
    "display([f\"{a.id}: {a.name}\" for a in project_client.agents.list_agents()])"
   ]
  },
  {
   "cell_type": "markdown",
   "id": "300f0153-3b23-4128-87b7-a3854c2d9566",
   "metadata": {},
   "source": [
    "# Create the thread and attach a new message to it"
   ]
  },
  {
   "cell_type": "code",
   "execution_count": 9,
   "id": "8120c83c-7845-4e9b-a05a-bd2d90e6ce26",
   "metadata": {},
   "outputs": [
    {
     "name": "stdout",
     "output_type": "stream",
     "text": [
      "Created thread: {'id': 'thread_5iQA0Z3JWlRX9UileLIq5CY0', 'object': 'thread', 'created_at': 1748513804, 'metadata': {}, 'tool_resources': {}}\n",
      "\n"
     ]
    }
   ],
   "source": [
    "from azure.ai.agents.models import MessageRole\n",
    "\n",
    "# Create a thread\n",
    "thread = project_client.agents.threads.create()\n",
    "print(f\"Created thread: {thread}\\n\")\n",
    "\n",
    "message = project_client.agents.messages.create(\n",
    "    thread_id=thread.id,\n",
    "    role=MessageRole.USER,\n",
    "    content=\"\"\"\n",
    "    Could you please create a bar chart for the operating profit using \n",
    "    the following data and provide the file to me? \n",
    "    Company A: $1.2 million, Company B: $2.5 million, Company C: $3.0 million, \n",
    "    Company D: $1.8 million\n",
    "    \"\"\",\n",
    ")"
   ]
  },
  {
   "cell_type": "markdown",
   "id": "7dec81ea-03c6-4e6c-bf49-767acd1a5928",
   "metadata": {},
   "source": [
    "# Run the agent syncrhonously"
   ]
  },
  {
   "cell_type": "code",
   "execution_count": 10,
   "id": "21ea64d8-0e95-423f-925b-74f10c1f411b",
   "metadata": {},
   "outputs": [
    {
     "name": "stdout",
     "output_type": "stream",
     "text": [
      "Run status: RunStatus.COMPLETED.\n",
      "\n",
      "Run details: {'id': 'run_Oz6p9pKLLKI02x5KxX2rgwzl', 'object': 'thread.run', 'created_at': 1748513805, 'assistant_id': 'asst_2385ZBpC0lSRB5SULxdmO9LG', 'thread_id': 'thread_5iQA0Z3JWlRX9UileLIq5CY0', 'status': 'completed', 'started_at': 1748513805, 'expires_at': None, 'cancelled_at': None, 'failed_at': None, 'completed_at': 1748513812, 'required_action': None, 'last_error': None, 'model': 'gpt-4o', 'instructions': 'You are helpful agent', 'tools': [{'type': 'code_interpreter'}], 'tool_resources': {}, 'metadata': {}, 'temperature': 1.0, 'top_p': 1.0, 'max_completion_tokens': None, 'max_prompt_tokens': None, 'truncation_strategy': {'type': 'auto', 'last_messages': None}, 'incomplete_details': None, 'usage': {'prompt_tokens': 625, 'completion_tokens': 224, 'total_tokens': 849, 'prompt_token_details': {'cached_tokens': 0}}, 'response_format': 'auto', 'tool_choice': 'auto', 'parallel_tool_calls': True}\n",
      "CPU times: user 21.7 ms, sys: 3.19 ms, total: 24.9 ms\n",
      "Wall time: 8.52 s\n"
     ]
    }
   ],
   "source": [
    "%%time\n",
    "\n",
    "# Run the agent\n",
    "run = project_client.agents.runs.create_and_process\\\n",
    "    (thread_id=thread.id, agent_id=ai_agent.id)\n",
    "\n",
    "print(f\"Run status: {run.status}.\\n\\nRun details: {run}\")"
   ]
  },
  {
   "cell_type": "markdown",
   "id": "43ed4cdb-c460-4af1-8f90-2c5b55e831f9",
   "metadata": {},
   "source": [
    "# Fetch messages from the thread after the agent run execution"
   ]
  },
  {
   "cell_type": "code",
   "execution_count": 11,
   "id": "52d091ea-7b6f-4810-a770-4bf6d09e03f3",
   "metadata": {},
   "outputs": [
    {
     "name": "stdout",
     "output_type": "stream",
     "text": [
      "Here are the 2 messages:\n",
      "\n",
      "\n",
      "===== MESSAGE 1 =====\n",
      "\n",
      "Message 1 / CONTENT 1 (MessageTextContent) --> Text: \n",
      "    Could you please create a bar chart for the operating profit using \n",
      "    the following data and provide the file to me? \n",
      "    Company A: $1.2 million, Company B: $2.5 million, Company C: $3.0 million, \n",
      "    Company D: $1.8 million\n",
      "    \n",
      "\n",
      "===== MESSAGE 2 =====\n",
      "\n",
      "Message 2 / CONTENT 1 (MessageTextContent) --> Text: The bar chart depicting the operating profit of the companies has been created and saved. You can download it using the link below:\n",
      "\n",
      "[Download the Operating Profit Chart](sandbox:/mnt/data/operating_profit_chart.png)\n",
      ">>> Annotation in MessageTextContent 1 of message 2: {'type': 'file_path', 'text': 'sandbox:/mnt/data/operating_profit_chart.png', 'start_index': 171, 'end_index': 215, 'file_path': {'file_id': 'assistant-XBQjAAqf8NAgA1CxdTXx4w'}}\n",
      "\n"
     ]
    }
   ],
   "source": [
    "from azure.ai.agents.models import MessageTextContent, MessageImageFileContent, MessageTextFileCitationAnnotation, MessageTextFilePathAnnotation\n",
    "\n",
    "image_files = []\n",
    "annotations = []\n",
    "citations = []\n",
    "\n",
    "if run.status == 'completed':\n",
    "    messages = project_client.agents.messages.list(thread_id=thread.id)\n",
    "    messages_list = list(project_client.agents.messages.list(thread_id=thread.id))  # Convert iterator to a list\n",
    "    messages_nr = len(messages_list)\n",
    "    print(f\"Here are the {messages_nr} messages:\\n\")\n",
    "    \n",
    "    for i, message in enumerate(reversed(messages_list), 1):\n",
    "        j = 0\n",
    "        print(f\"\\n===== MESSAGE {i} =====\")\n",
    "        for c in message.content:\n",
    "            j +=1\n",
    "            if (type(c) is MessageTextContent):\n",
    "                print(f\"\\nMessage {i} / CONTENT {j} (MessageTextContent) --> Text: {c.text.value}\")\n",
    "                for a in c.text.annotations:\n",
    "                    if type(a) is MessageTextFileCitationAnnotation:\n",
    "                        print(f\">>> Citation in MessageTextContent {j} of message {i}: {a}\\n\")\n",
    "                        citations.append(a)\n",
    "                    elif type(a) is MessageTextFilePathAnnotation:\n",
    "                        print(f\">>> Annotation in MessageTextContent {j} of message {i}: {a}\\n\")\n",
    "                        annotations.append(a)\n",
    "            elif (type(c) is MessageImageFileContent):\n",
    "                print(f\"\\nMessage {i} / CONTENT {j} (MessageImageFileContent) --> image_file id: {c.image_file.file_id}\")\n",
    "                image_files.append(c.image_file.file_id)\n",
    "\n",
    "else:\n",
    "    print(f\"Sorry, I can't proceed because the run status is {run.status}\")"
   ]
  },
  {
   "cell_type": "markdown",
   "id": "de314be8-f7b6-4c45-bb0e-1cde9b68b92d",
   "metadata": {},
   "source": [
    "# Retrieve and download eventual annotations"
   ]
  },
  {
   "cell_type": "code",
   "execution_count": 12,
   "id": "55bcd0f8-822d-4a78-ba7f-b5d27bd2a514",
   "metadata": {},
   "outputs": [
    {
     "name": "stdout",
     "output_type": "stream",
     "text": [
      "Nr. of file path annotations: 1\n",
      "\n",
      "1 - File annotation paths: sandbox:/mnt/data/operating_profit_chart.png\n",
      "\n",
      ">>> file <assistant-XBQjAAqf8NAgA1CxdTXx4w> saved as <operating_profit_chart.png>\n",
      "File annotation 1 saved as file to: /mnt/batch/tasks/shared/LS_root/mounts/clusters/dsvm-mem-optimized04/code/Users/mauro.minella/git_repos/aaas/operating_profit_chart.png\n"
     ]
    },
    {
     "data": {
      "image/png": "[encoded data removed]",
      "text/plain": [
       "<Figure size 640x480 with 1 Axes>"
      ]
     },
     "metadata": {},
     "output_type": "display_data"
    }
   ],
   "source": [
    "print (f\"Nr. of file path annotations: {len(annotations)}\\n\")\n",
    "\n",
    "i=0\n",
    "for a in annotations:\n",
    "    i += 1\n",
    "    print(f\"{i} - File annotation paths: {a.text}\")\n",
    "    file_name = a.text.split('/')[-1]\n",
    "    file_id = a.file_path.file_id\n",
    "\n",
    "    #agents_client.files.save(file_id=file_id, file_name=file_name)\n",
    "    project_client.agents.files.save(file_id=file_id, file_name=file_name)\n",
    "    print(f\"\\n>>> file <{file_id}> saved as <{file_name}>\")\n",
    "    \n",
    "    # project_client.agents.save_file(file_id=file_path_annotation.file_path.file_id, file_name=file_name)\n",
    "    print(f\"File annotation {i} saved as file to: {os.getcwd()}/{file_name}\")\n",
    "    image = mpimg.imread(f\"{os.getcwd()}/{file_name}\") # read the image\n",
    "    plt.imshow(image)\n",
    "    plt.show()"
   ]
  },
  {
   "cell_type": "markdown",
   "id": "dda70652-48ed-424c-89e3-59f7c41a9709",
   "metadata": {},
   "source": [
    "# Retrieve eventual citations"
   ]
  },
  {
   "cell_type": "code",
   "execution_count": 13,
   "id": "eaa5f40e-abfc-478d-bc48-f05a48c80fe2",
   "metadata": {},
   "outputs": [
    {
     "name": "stdout",
     "output_type": "stream",
     "text": [
      "Nr. of file path citations: 0\n",
      "\n"
     ]
    }
   ],
   "source": [
    "print (f\"Nr. of file path citations: {len(citations)}\\n\")\n",
    "\n",
    "i=0\n",
    "for a in citations:\n",
    "    i += 1\n",
    "    print(f\"{i} - citation: {a}\")"
   ]
  },
  {
   "cell_type": "markdown",
   "id": "ee38e091-cd96-441b-88e1-b9aec9ca20de",
   "metadata": {},
   "source": [
    "# Retrieve and download eventual images"
   ]
  },
  {
   "cell_type": "code",
   "execution_count": 14,
   "id": "73f292e8-41e8-4bee-ad54-2d6faa8ec058",
   "metadata": {},
   "outputs": [
    {
     "name": "stdout",
     "output_type": "stream",
     "text": [
      "Nr. of image contents: 0\n",
      "\n"
     ]
    }
   ],
   "source": [
    "print (f\"Nr. of image contents: {len(image_files)}\\n\")\n",
    "\n",
    "i=0\n",
    "# Generate an image file for the bar chart\n",
    "for image_file in image_files:\n",
    "    i += 1\n",
    "    print(f\"{i} - Image file id: {image_file}\")\n",
    "    file_name = f\"{image_file}.png\"\n",
    "    project_client.agents.files.save(file_id=image_file, file_name=file_name)\n",
    "    print(f\"Image content {i} file to: {os.getcwd()}/{file_name}\")\n",
    "    image = mpimg.imread(f\"{os.getcwd()}/{file_name}\") # read the image\n",
    "    plt.imshow(image)\n",
    "    plt.show()"
   ]
  },
  {
   "cell_type": "markdown",
   "id": "6b6a63db-3d86-4157-a967-21267e985822",
   "metadata": {},
   "source": [
    "# Collect **all** resources for this project"
   ]
  },
  {
   "cell_type": "code",
   "execution_count": 15,
   "id": "eaa75eac-2129-45b6-a704-a2e411dd4b0f",
   "metadata": {},
   "outputs": [
    {
     "name": "stdout",
     "output_type": "stream",
     "text": [
      "1 agents\n",
      "1 threads\n",
      "1 files\n",
      "1 runs in 1 threads\n",
      "0 vector stores\n"
     ]
    }
   ],
   "source": [
    "all_agents = list_all_agents(client=project_client)\n",
    "print(all_agents[\"summary\"])\n",
    "\n",
    "all_threads = list_all_threads(client=project_client)\n",
    "print(all_threads[\"summary\"])\n",
    "\n",
    "all_files = list_all_files(client=project_client)\n",
    "print(all_files[\"summary\"])\n",
    "\n",
    "all_runs = list_all_runs(client=project_client)\n",
    "print(all_runs[\"summary\"])\n",
    "\n",
    "# all_runsteps=list_all_runsteps(project_client)\n",
    "# print(all_runsteps[\"summary\"])\n",
    "\n",
    "# all_messages = list_all_messages(project_client)\n",
    "# print(all_messages[\"summary\"])\n",
    "\n",
    "all_vectorstores = list_all_vectorstores(client=project_client)\n",
    "print(all_vectorstores[\"summary\"])"
   ]
  },
  {
   "cell_type": "markdown",
   "id": "c4ac27b7-1e6e-42c5-a2d7-6118ec0cf9da",
   "metadata": {},
   "source": [
    "# Teardown for **all** resources"
   ]
  },
  {
   "cell_type": "code",
   "execution_count": 16,
   "id": "92ccf15f-6f57-432c-8b8d-a3deb855907c",
   "metadata": {},
   "outputs": [
    {
     "name": "stdout",
     "output_type": "stream",
     "text": [
      "Vector stores deleted: 0\n",
      "\n"
     ]
    }
   ],
   "source": [
    "# delete all vector stores\n",
    "\n",
    "i=0\n",
    "for vector_store in all_vectorstores[\"content\"]:\n",
    "    i += 1\n",
    "    project_client.agents.vector_stores.delete(vector_store_id=vector_store.id)\n",
    "    print(f\"{i} - Vector store <{vector_store.id}> has been deleted\")\n",
    "\n",
    "all_vectorstores = list_all_vectorstores(client=project_client)\n",
    "\n",
    "print(f\"Vector stores deleted: {i}\\n\")"
   ]
  },
  {
   "cell_type": "code",
   "execution_count": 17,
   "id": "6c9a1508-3743-43ff-99b1-d8defa216862",
   "metadata": {},
   "outputs": [
    {
     "name": "stdout",
     "output_type": "stream",
     "text": [
      "1 - File </mnt/data/operating_profit_chart.png> (assistant-XBQjAAqf8NAgA1CxdTXx4w) has been deleted\n",
      "Files deleted: 1\n",
      "\n"
     ]
    }
   ],
   "source": [
    "# delete all files\n",
    "\n",
    "i=0\n",
    "for file in all_files['content']:\n",
    "    i += 1\n",
    "    project_client.agents.files.delete(file_id=file.id)\n",
    "    print(f\"{i} - File <{file.filename}> ({file.id}) has been deleted\")\n",
    "\n",
    "all_files = list_all_files(project_client)\n",
    "\n",
    "print(f\"Files deleted: {i}\\n\")"
   ]
  },
  {
   "cell_type": "code",
   "execution_count": 18,
   "id": "765bd2ff-40b7-4462-bf9d-517b9e79c9b5",
   "metadata": {},
   "outputs": [
    {
     "name": "stdout",
     "output_type": "stream",
     "text": [
      "1 - Thread <thread_5iQA0Z3JWlRX9UileLIq5CY0> has been deleted\n",
      "Threads deleted: 1\n",
      "\n"
     ]
    }
   ],
   "source": [
    "# delete all threads\n",
    "\n",
    "i=0\n",
    "for thread in all_threads[\"content\"]:\n",
    "    i += 1\n",
    "    project_client.agents.threads.delete(thread_id=thread.id)\n",
    "    print(f\"{i} - Thread <{thread.id}> has been deleted\")\n",
    "\n",
    "all_threads = list_all_threads(project_client)\n",
    "\n",
    "print(f\"Threads deleted: {i}\\n\")"
   ]
  },
  {
   "cell_type": "code",
   "execution_count": 19,
   "id": "cf0d467a-7c3e-411d-a623-6bfe1913f13d",
   "metadata": {},
   "outputs": [
    {
     "name": "stdout",
     "output_type": "stream",
     "text": [
      "1 - Agent <asst_2385ZBpC0lSRB5SULxdmO9LG> has been deleted\n",
      "Agents deleted: 1\n",
      "\n"
     ]
    }
   ],
   "source": [
    "# delete all agents\n",
    "\n",
    "i=0\n",
    "for agent in all_agents[\"content\"]:\n",
    "    i += 1\n",
    "    project_client.agents.delete_agent(agent_id=agent.id)\n",
    "    print(f\"{i} - Agent <{agent.id}> has been deleted\")\n",
    "\n",
    "all_agents = list_all_agents(client=project_client)\n",
    "\n",
    "print(f\"Agents deleted: {i}\\n\")"
   ]
  },
  {
   "cell_type": "markdown",
   "id": "c8cc2b04-a0b3-45ee-9066-4306e16511f9",
   "metadata": {},
   "source": [
    "# HIC SUNT LEONES"
   ]
  }
 ],
 "metadata": {
  "kernelspec": {
   "display_name": "aaas_new",
   "language": "python",
   "name": "aaas_new"
  },
  "language_info": {
   "codemirror_mode": {
    "name": "ipython",
    "version": 3
   },
   "file_extension": ".py",
   "mimetype": "text/x-python",
   "name": "python",
   "nbconvert_exporter": "python",
   "pygments_lexer": "ipython3",
   "version": "3.13.2"
  }
 },
 "nbformat": 4,
 "nbformat_minor": 5
}
