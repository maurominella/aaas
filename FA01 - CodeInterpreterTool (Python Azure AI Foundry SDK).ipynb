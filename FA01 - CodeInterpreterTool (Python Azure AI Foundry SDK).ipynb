{
 "cells": [
  {
   "cell_type": "markdown",
   "id": "bd7eb769-c574-4f94-a528-ff66d0b7c7b3",
   "metadata": {},
   "source": [
    "# Constants and Libraries"
   ]
  },
  {
   "cell_type": "markdown",
   "id": "91d5b814-c779-4dca-afd6-982fd802dfe7",
   "metadata": {},
   "source": [
    "## Only if needed\n",
    "```\n",
    "import os\n",
    "\n",
    "# Login with tenant ID\n",
    "os.system(\"az login --tenant 3ad0b905-34ab-4116-93d9-c1dcc2d35af6 --output none\")\n",
    "\n",
    "# Set the subscription programmatically\n",
    "os.system(\"az account set --subscription eca2eddb-0f0c-4351-a634-52751499eeea\")\n",
    "```"
   ]
  },
  {
   "cell_type": "code",
   "execution_count": 1,
   "id": "98d9cc9d-cbef-4b35-a4a3-84802dd4ee06",
   "metadata": {},
   "outputs": [
    {
     "name": "stdout",
     "output_type": "stream",
     "text": [
      "Environment variables have been loaded ;-)\n",
      "Project Connection String: <...hub01-grp;mmai-swc-hub01-prj01>\n",
      "azure-ai-projects library installed version: 1.0.0b10\n"
     ]
    }
   ],
   "source": [
    "import os\n",
    "from IPython.display import Markdown, display\n",
    "from dotenv import load_dotenv # requires python-dotenv\n",
    "from PIL import Image # requires pip install pillow\n",
    "from datetime import datetime\n",
    "from common.agents_helper_functions import *\n",
    "import importlib.metadata\n",
    "import matplotlib.pyplot as plt\n",
    "import matplotlib.image as mpimg\n",
    "\n",
    "if not load_dotenv(\"./../config/credentials_my.env\"):\n",
    "    print(\"Environment variables not loaded, cell execution stopped\")\n",
    "    sys.exit()\n",
    "print(\"Environment variables have been loaded ;-)\")\n",
    "\n",
    "deployment_name =  os.environ[\"MODEL_DEPLOYMENT_NAME_MINI\"]\n",
    "api_version = os.environ[\"OPENAI_API_VERSION\"] # at least \"2025-03-01-preview\"\n",
    "\n",
    "print(f'Project Connection String: <...{os.environ[\"PROJECT_CONNECTION_STRING\"][-30:]}>')\n",
    "version = importlib.metadata.version(\"azure-ai-projects\")\n",
    "print(f\"azure-ai-projects library installed version: {version}\")"
   ]
  },
  {
   "cell_type": "markdown",
   "id": "d5ff8df5-3544-4646-ae90-3d794944dfe7",
   "metadata": {},
   "source": [
    "# Create AI Foundry Project Client"
   ]
  },
  {
   "cell_type": "code",
   "execution_count": 2,
   "id": "5a9abb62-b855-402f-9e22-583ffe6bf8cb",
   "metadata": {},
   "outputs": [
    {
     "data": {
      "text/plain": [
       "{'subscription_id': 'eca2eddb-0f0c-4351-a634-52751499eeea',\n",
       " 'resource_group_name': 'mmai-swc-hub01-grp',\n",
       " 'project_name': 'mmai-swc-hub01-prj01'}"
      ]
     },
     "execution_count": 2,
     "metadata": {},
     "output_type": "execute_result"
    }
   ],
   "source": [
    "from azure.ai.projects import AIProjectClient\n",
    "from azure.identity import DefaultAzureCredential\n",
    "\n",
    "project_client = AIProjectClient.from_connection_string(\n",
    "    credential=DefaultAzureCredential(), \n",
    "    conn_str=os.environ[\"PROJECT_CONNECTION_STRING\"]\n",
    ")\n",
    "\n",
    "project_client.scope"
   ]
  },
  {
   "cell_type": "markdown",
   "id": "552f8322-d880-4e5b-8a2e-dcd3e1ffd0e0",
   "metadata": {},
   "source": [
    "# Just for testing: List current AI Foundry Agents"
   ]
  },
  {
   "cell_type": "code",
   "execution_count": 3,
   "id": "334ff5d8-0377-4b0f-9c57-5ce974c05a6a",
   "metadata": {},
   "outputs": [
    {
     "data": {
      "text/plain": [
       "{'object': 'list', 'data': [], 'first_id': None, 'last_id': None, 'has_more': False}"
      ]
     },
     "execution_count": 3,
     "metadata": {},
     "output_type": "execute_result"
    }
   ],
   "source": [
    "agents = project_client.agents.list_agents()\n",
    "agents"
   ]
  },
  {
   "cell_type": "code",
   "execution_count": 4,
   "id": "c8e63ba3-13c6-471b-99ba-e6501f26f273",
   "metadata": {},
   "outputs": [
    {
     "data": {
      "text/plain": [
       "[]"
      ]
     },
     "execution_count": 4,
     "metadata": {},
     "output_type": "execute_result"
    }
   ],
   "source": [
    "# easier to read ;-)\n",
    "\n",
    "[f\"{a.id}: {a.name}\" for a in agents.data]"
   ]
  },
  {
   "cell_type": "markdown",
   "id": "80eeab3e-4e0d-40ad-b522-2faf0787384f",
   "metadata": {},
   "source": [
    "# Create the CodeInterpreterTool"
   ]
  },
  {
   "cell_type": "code",
   "execution_count": 5,
   "id": "daae01d0-2496-49b4-b8ce-71714f16f9af",
   "metadata": {},
   "outputs": [
    {
     "name": "stdout",
     "output_type": "stream",
     "text": [
      "Code interpreter definitions: [{'type': 'code_interpreter'}]\n",
      "Code interpreter resources: {}\n"
     ]
    }
   ],
   "source": [
    "from azure.ai.projects.models import CodeInterpreterTool\n",
    "\n",
    "code_interpreter = CodeInterpreterTool()\n",
    "print(f\"Code interpreter definitions: {code_interpreter.definitions}\")\n",
    "print(f\"Code interpreter resources: {code_interpreter.resources}\")"
   ]
  },
  {
   "cell_type": "markdown",
   "id": "63a67348-3db6-44e4-bc75-26b01a35cfdd",
   "metadata": {},
   "source": [
    "# Create AI Foundry Agent with its CodeInterpreterTool for AI Agents"
   ]
  },
  {
   "cell_type": "code",
   "execution_count": 6,
   "id": "be53bb45-87fe-46a2-afb5-925881baf673",
   "metadata": {},
   "outputs": [
    {
     "data": {
      "text/plain": [
       "<bound method _MyMutableMapping.items of {'id': 'asst_XCjBkqwyw0tIr1JTnqogxpVE', 'object': 'assistant', 'created_at': 1748328551, 'name': 'my-agent001', 'description': None, 'model': 'gpt-4o-mini', 'instructions': 'You are a helpful agent', 'tools': [{'type': 'code_interpreter'}], 'top_p': 1.0, 'temperature': 1.0, 'tool_resources': {'code_interpreter': {'file_ids': []}}, 'metadata': {}, 'response_format': 'auto'}>"
      ]
     },
     "execution_count": 6,
     "metadata": {},
     "output_type": "execute_result"
    }
   ],
   "source": [
    "# ...then, create the AI Foundry Agent, attaching CodeInterpreterTool object\n",
    "ai_agent = project_client.agents.create_agent(\n",
    "    model=deployment_name,\n",
    "    name=\"my-agent001\",\n",
    "    instructions=\"You are a helpful agent\",\n",
    "    tools=code_interpreter.definitions,\n",
    "    tool_resources=code_interpreter.resources,\n",
    ")\n",
    "\n",
    "ai_agent.items"
   ]
  },
  {
   "cell_type": "markdown",
   "id": "c2f5701e-3363-40ff-8ef6-4450d90041e2",
   "metadata": {},
   "source": [
    "# Just for testing: create a new agent and delete it"
   ]
  },
  {
   "cell_type": "code",
   "execution_count": 7,
   "id": "45404c3b-2dd9-4319-a178-cadab401bea6",
   "metadata": {},
   "outputs": [
    {
     "name": "stdout",
     "output_type": "stream",
     "text": [
      "All agents, including the useless one:\n"
     ]
    },
    {
     "data": {
      "text/plain": [
       "['asst_ONP0sP7JwGL9m0agzVgbs8Nq: my-agent002 TO BE DELETED',\n",
       " 'asst_XCjBkqwyw0tIr1JTnqogxpVE: my-agent001']"
      ]
     },
     "metadata": {},
     "output_type": "display_data"
    },
    {
     "name": "stdout",
     "output_type": "stream",
     "text": [
      "\n",
      "All agents, after deleting the useless one:\n"
     ]
    },
    {
     "data": {
      "text/plain": [
       "['asst_XCjBkqwyw0tIr1JTnqogxpVE: my-agent001']"
      ]
     },
     "metadata": {},
     "output_type": "display_data"
    }
   ],
   "source": [
    "# Create a second agent\n",
    "ai_agent_02 = project_client.agents.create_agent(\n",
    "    model=deployment_name,\n",
    "    name=\"my-agent002 TO BE DELETED\",\n",
    "    instructions=\"You are a helpful agent\",\n",
    "    tools=code_interpreter.definitions,\n",
    "    tool_resources=code_interpreter.resources,\n",
    ")\n",
    "\n",
    "# List all agents\n",
    "print(f\"All agents, including the useless one:\")\n",
    "display([f\"{a.id}: {a.name}\" for a in project_client.agents.list_agents()['data']])\n",
    "\n",
    "project_client.agents.delete_agent(ai_agent_02.id)\n",
    "\n",
    "# List all agents\n",
    "print(f\"\\nAll agents, after deleting the useless one:\")\n",
    "display([f\"{a.id}: {a.name}\" for a in project_client.agents.list_agents()['data']])"
   ]
  },
  {
   "cell_type": "markdown",
   "id": "300f0153-3b23-4128-87b7-a3854c2d9566",
   "metadata": {},
   "source": [
    "# Create the thread and attach a new message to it"
   ]
  },
  {
   "cell_type": "code",
   "execution_count": 8,
   "id": "35d519ab-0642-4198-b484-2aca590669e9",
   "metadata": {},
   "outputs": [
    {
     "name": "stdout",
     "output_type": "stream",
     "text": [
      "Created thread: {'id': 'thread_ssNqj4x1g2MnvPjjCEa2hXvm', 'object': 'thread', 'created_at': 1748328552, 'metadata': {}, 'tool_resources': {}}\n",
      "\n",
      "Messages: {'object': 'list', 'data': [{'id': 'msg_jfGtLr0CZz2OQrxBCoQf8e1b', 'object': 'thread.message', 'created_at': 1748328552, 'assistant_id': None, 'thread_id': 'thread_ssNqj4x1g2MnvPjjCEa2hXvm', 'run_id': None, 'role': 'user', 'content': [{'type': 'text', 'text': {'value': '\\n    Could you please create a bar chart for the operating profit using \\n    the following data and provide the file to me? \\n    Company A: $1.2 million, Company B: $2.5 million, Company C: $3.0 million, \\n    Company D: $1.8 million\\n    ', 'annotations': []}}], 'attachments': [], 'metadata': {}}], 'first_id': 'msg_jfGtLr0CZz2OQrxBCoQf8e1b', 'last_id': 'msg_jfGtLr0CZz2OQrxBCoQf8e1b', 'has_more': False}\n"
     ]
    }
   ],
   "source": [
    "# Create a thread\n",
    "thread = project_client.agents.create_thread()\n",
    "\n",
    "print(f\"Created thread: {thread}\\n\")\n",
    "\n",
    "# Add a user message to the thread\n",
    "message = project_client.agents.create_message(\n",
    "    thread_id=thread.id,\n",
    "    role=\"user\",\n",
    "    content=\"\"\"\n",
    "    Could you please create a bar chart for the operating profit using \n",
    "    the following data and provide the file to me? \n",
    "    Company A: $1.2 million, Company B: $2.5 million, Company C: $3.0 million, \n",
    "    Company D: $1.8 million\n",
    "    \"\"\",\n",
    ")\n",
    "print(f\"Messages: {project_client.agents.list_messages(thread_id=thread.id)}\")"
   ]
  },
  {
   "cell_type": "markdown",
   "id": "7dec81ea-03c6-4e6c-bf49-767acd1a5928",
   "metadata": {},
   "source": [
    "# Run the agent syncrhonously"
   ]
  },
  {
   "cell_type": "code",
   "execution_count": 9,
   "id": "21ea64d8-0e95-423f-925b-74f10c1f411b",
   "metadata": {},
   "outputs": [
    {
     "name": "stdout",
     "output_type": "stream",
     "text": [
      "CPU times: user 25.5 ms, sys: 166 μs, total: 25.7 ms\n",
      "Wall time: 9.16 s\n"
     ]
    }
   ],
   "source": [
    "%%time\n",
    "\n",
    "# Run the agent\n",
    "run = project_client.agents.create_and_process_run\\\n",
    "    (thread_id=thread.id, agent_id=ai_agent.id)\n",
    "\n",
    "# print(f\"Run status: {run.status}.\\n\\nRun details: {run}\")"
   ]
  },
  {
   "cell_type": "markdown",
   "id": "43ed4cdb-c460-4af1-8f90-2c5b55e831f9",
   "metadata": {},
   "source": [
    "# Fetch messages from the thread after the agent run execution"
   ]
  },
  {
   "cell_type": "code",
   "execution_count": 10,
   "id": "205ebfb0-db5f-4d3a-9ab2-493bef8374c0",
   "metadata": {},
   "outputs": [
    {
     "name": "stdout",
     "output_type": "stream",
     "text": [
      "Here are the 2 messages:\n",
      "\n",
      "\n",
      "===== MESSAGE 1 =====\n",
      "\n",
      "CONTENT 1 (MessageTextContent) --> Text: \n",
      "    Could you please create a bar chart for the operating profit using \n",
      "    the following data and provide the file to me? \n",
      "    Company A: $1.2 million, Company B: $2.5 million, Company C: $3.0 million, \n",
      "    Company D: $1.8 million\n",
      "    \n",
      "\n",
      "===== MESSAGE 2 =====\n",
      "\n",
      "CONTENT 1 (MessageImageFileContent) --> image_file id: assistant-Adf6nUPtGGLRcgNzVDjB7G\n",
      "\n",
      "CONTENT 2 (MessageTextContent) --> Text: I have created the bar chart for the operating profits of the companies. You can download the chart using the link below:\n",
      "\n",
      "[Download Operating Profit Bar Chart](sandbox:/mnt/data/operating_profit_bar_chart.png)\n",
      ">>> Annotation in MessageTextContent 2 of message 2: sandbox:/mnt/data/operating_profit_bar_chart.png\n",
      "\n"
     ]
    }
   ],
   "source": [
    "from azure.ai.projects.models import MessageTextContent, MessageImageFileContent\n",
    "\n",
    "if run.status == 'completed':    \n",
    "    messages = project_client.agents.list_messages(thread_id=thread.id)\n",
    "    messages_nr = len(messages.data)\n",
    "    print(f\"Here are the {messages_nr} messages:\\n\")\n",
    "    \n",
    "    for i, message in enumerate(reversed(messages.data), 1):\n",
    "        j = 0\n",
    "        print(f\"\\n===== MESSAGE {i} =====\")\n",
    "        for c in message.content:\n",
    "            j +=1\n",
    "            if (type(c) is MessageImageFileContent):\n",
    "                print(f\"\\nCONTENT {j} (MessageImageFileContent) --> image_file id: {c.image_file.file_id}\")\n",
    "            elif (type(c) is MessageTextContent):\n",
    "                print(f\"\\nCONTENT {j} (MessageTextContent) --> Text: {c.text.value}\")\n",
    "                for a in c.text.annotations:\n",
    "                    print(f\">>> Annotation in MessageTextContent {j} of message {i}: {a.text}\\n\")\n",
    "\n",
    "else:\n",
    "    print(f\"Sorry, I can't proceed because the run status is {run.status}\")"
   ]
  },
  {
   "cell_type": "markdown",
   "id": "de314be8-f7b6-4c45-bb0e-1cde9b68b92d",
   "metadata": {},
   "source": [
    "# Retrieve and download eventual annotations"
   ]
  },
  {
   "cell_type": "code",
   "execution_count": 11,
   "id": "55bcd0f8-822d-4a78-ba7f-b5d27bd2a514",
   "metadata": {},
   "outputs": [
    {
     "name": "stdout",
     "output_type": "stream",
     "text": [
      "Nr. of file path annotations: 1\n",
      "\n",
      "1 - File annotation paths: {'type': 'file_path', 'text': 'sandbox:/mnt/data/operating_profit_bar_chart.png', 'start_index': 161, 'end_index': 209, 'file_path': {'file_id': 'assistant-LsTqgeAs6UPwd6Y6e9TxHQ'}}\n",
      "File annotation 1 saved as file to: /mnt/batch/tasks/shared/LS_root/mounts/clusters/dsvm-mem-optimized01/code/Users/mauro.minella/git_repos/aaas/operating_profit_bar_chart.png\n"
     ]
    },
    {
     "data": {
      "image/png": "[encoded data removed]",
      "text/plain": [
       "<Figure size 640x480 with 1 Axes>"
      ]
     },
     "metadata": {},
     "output_type": "display_data"
    }
   ],
   "source": [
    "# messages.file_path_annotations[0].text.split('/')[-1]\n",
    "print (f\"Nr. of file path annotations: {len(messages.file_path_annotations)}\\n\")\n",
    "\n",
    "i=0\n",
    "for file_path_annotation in messages.file_path_annotations:\n",
    "    i += 1\n",
    "    print(f\"{i} - File annotation paths: {file_path_annotation}\")\n",
    "    file_name = file_path_annotation.text.split('/')[-1]\n",
    "    project_client.agents.save_file(file_id=file_path_annotation.file_path.file_id, file_name=file_name)\n",
    "    print(f\"File annotation {i} saved as file to: {os.getcwd()}/{file_name}\")\n",
    "    image = mpimg.imread(f\"{os.getcwd()}/{file_name}\") # read the image\n",
    "    plt.imshow(image)\n",
    "    plt.show()"
   ]
  },
  {
   "cell_type": "markdown",
   "id": "ee38e091-cd96-441b-88e1-b9aec9ca20de",
   "metadata": {},
   "source": [
    "# Retrieve and download eventual images"
   ]
  },
  {
   "cell_type": "code",
   "execution_count": 12,
   "id": "73f292e8-41e8-4bee-ad54-2d6faa8ec058",
   "metadata": {},
   "outputs": [
    {
     "name": "stdout",
     "output_type": "stream",
     "text": [
      "Nr. of image contents: 1\n",
      "\n",
      "1 - Image content: {'type': 'image_file', 'image_file': {'file_id': 'assistant-Adf6nUPtGGLRcgNzVDjB7G'}}\n",
      "Image content 1 file to: /mnt/batch/tasks/shared/LS_root/mounts/clusters/dsvm-mem-optimized01/code/Users/mauro.minella/git_repos/aaas/assistant-Adf6nUPtGGLRcgNzVDjB7G_image_content.png\n"
     ]
    },
    {
     "data": {
      "image/png": "[encoded data removed]",
      "text/plain": [
       "<Figure size 640x480 with 1 Axes>"
      ]
     },
     "metadata": {},
     "output_type": "display_data"
    }
   ],
   "source": [
    "print (f\"Nr. of image contents: {len(messages.image_contents)}\\n\")\n",
    "\n",
    "i=0\n",
    "# Generate an image file for the bar chart\n",
    "for image_content in messages.image_contents:\n",
    "    i += 1\n",
    "    print(f\"{i} - Image content: {image_content}\")\n",
    "    file_name = f\"{image_content.image_file.file_id}_image_content.png\"\n",
    "    project_client.agents.save_file(file_id=image_content.image_file.file_id, file_name=file_name)\n",
    "    print(f\"Image content {i} file to: {os.getcwd()}/{file_name}\")\n",
    "    image = mpimg.imread(f\"{os.getcwd()}/{file_name}\") # read the image\n",
    "    plt.imshow(image)\n",
    "    plt.show()"
   ]
  },
  {
   "cell_type": "markdown",
   "id": "6b6a63db-3d86-4157-a967-21267e985822",
   "metadata": {},
   "source": [
    "# Collect **all** resources for this project"
   ]
  },
  {
   "cell_type": "code",
   "execution_count": 13,
   "id": "eaa75eac-2129-45b6-a704-a2e411dd4b0f",
   "metadata": {},
   "outputs": [
    {
     "name": "stdout",
     "output_type": "stream",
     "text": [
      "1 agents in project <mmai-swc-hub01-prj01>\n",
      "1 threads in project <mmai-swc-hub01-prj01>\n",
      "2 files in project <mmai-swc-hub01-prj01>\n",
      "1 runs in 1 threads of project <mmai-swc-hub01-prj01>\n",
      "2 run steps in 1 pairs of (thread, run) of project <mmai-swc-hub01-prj01>\n",
      "2 messages in 1 threads of project <mmai-swc-hub01-prj01>\n",
      "0 vector stores in project <mmai-swc-hub01-prj01>\n"
     ]
    }
   ],
   "source": [
    "all_agents = list_all_agents(project_client=project_client)\n",
    "print(all_agents[\"summary\"])\n",
    "\n",
    "all_threads = list_all_threads(project_client)\n",
    "print(all_threads[\"summary\"])\n",
    "\n",
    "all_files = list_all_files(project_client)\n",
    "print(all_files[\"summary\"])\n",
    "\n",
    "all_runs = list_all_runs(project_client)\n",
    "print(all_runs[\"summary\"])\n",
    "\n",
    "all_runsteps=list_all_runsteps(project_client)\n",
    "print(all_runsteps[\"summary\"])\n",
    "\n",
    "all_messages = list_all_messages(project_client)\n",
    "print(all_messages[\"summary\"])\n",
    "\n",
    "all_vectorstores = list_all_vectorstores(project_client=project_client)\n",
    "print(all_vectorstores[\"summary\"])"
   ]
  },
  {
   "cell_type": "markdown",
   "id": "c4ac27b7-1e6e-42c5-a2d7-6118ec0cf9da",
   "metadata": {},
   "source": [
    "# Teardown for **all** resources"
   ]
  },
  {
   "cell_type": "code",
   "execution_count": 14,
   "id": "4c381b0a-6b93-4d93-94f5-398f08a0b804",
   "metadata": {},
   "outputs": [
    {
     "name": "stdout",
     "output_type": "stream",
     "text": [
      "Vector stores deleted: 0\n",
      "\n"
     ]
    }
   ],
   "source": [
    "# delete all vector stores\n",
    "\n",
    "i=0\n",
    "for vector_store in all_vectorstores[\"content\"][\"data\"]:\n",
    "    i += 1\n",
    "    project_client.agents.delete_vector_store(vector_store_id=vector_store.id)\n",
    "    print(f\"{i} - Vector store <{vector_store.id}> has been deleted\")\n",
    "\n",
    "all_vectorstores = list_all_vectorstores(project_client=project_client)\n",
    "\n",
    "print(f\"Vector stores deleted: {i}\\n\")"
   ]
  },
  {
   "cell_type": "code",
   "execution_count": 15,
   "id": "6c9a1508-3743-43ff-99b1-d8defa216862",
   "metadata": {},
   "outputs": [
    {
     "name": "stdout",
     "output_type": "stream",
     "text": [
      "1 - File </mnt/data/operating_profit_bar_chart.png> (assistant-LsTqgeAs6UPwd6Y6e9TxHQ) has been deleted\n",
      "2 - File <c8e57b76-f5a8-484e-8ea7-a39361598d51.png> (assistant-Adf6nUPtGGLRcgNzVDjB7G) has been deleted\n",
      "Files deleted: 2\n",
      "\n"
     ]
    }
   ],
   "source": [
    "# delete all files\n",
    "\n",
    "i=0\n",
    "for file in all_files['content']['data']:\n",
    "    i += 1\n",
    "    project_client.agents.delete_file(file_id=file.id)\n",
    "    print(f\"{i} - File <{file.filename}> ({file.id}) has been deleted\")\n",
    "\n",
    "all_files = list_all_files(project_client)\n",
    "\n",
    "print(f\"Files deleted: {i}\\n\")"
   ]
  },
  {
   "cell_type": "code",
   "execution_count": 16,
   "id": "765bd2ff-40b7-4462-bf9d-517b9e79c9b5",
   "metadata": {},
   "outputs": [
    {
     "name": "stdout",
     "output_type": "stream",
     "text": [
      "1 - Thread <thread_ssNqj4x1g2MnvPjjCEa2hXvm> has been deleted\n",
      "Threads deleted: 1\n",
      "\n"
     ]
    }
   ],
   "source": [
    "# delete all threads\n",
    "\n",
    "i=0\n",
    "for thread in all_threads[\"content\"][\"data\"]:\n",
    "    i += 1\n",
    "    project_client.agents.delete_thread(thread_id=thread.id)\n",
    "    print(f\"{i} - Thread <{thread.id}> has been deleted\")\n",
    "\n",
    "all_threads = list_all_threads(project_client)\n",
    "\n",
    "print(f\"Threads deleted: {i}\\n\")"
   ]
  },
  {
   "cell_type": "code",
   "execution_count": 17,
   "id": "cf0d467a-7c3e-411d-a623-6bfe1913f13d",
   "metadata": {},
   "outputs": [
    {
     "name": "stdout",
     "output_type": "stream",
     "text": [
      "1 - Agent <asst_XCjBkqwyw0tIr1JTnqogxpVE> has been deleted\n",
      "Agents deleted: 1\n",
      "\n"
     ]
    }
   ],
   "source": [
    "# delete all agents\n",
    "\n",
    "i=0\n",
    "for agent in all_agents[\"content\"][\"data\"]:\n",
    "    i += 1\n",
    "    project_client.agents.delete_agent(agent_id=agent.id)\n",
    "    print(f\"{i} - Agent <{agent.id}> has been deleted\")\n",
    "\n",
    "all_agents = list_all_agents(project_client=project_client)\n",
    "\n",
    "print(f\"Agents deleted: {i}\\n\")"
   ]
  },
  {
   "cell_type": "markdown",
   "id": "c8cc2b04-a0b3-45ee-9066-4306e16511f9",
   "metadata": {},
   "source": [
    "# HIC SUNT LEONES"
   ]
  }
 ],
 "metadata": {
  "kernelspec": {
   "display_name": "aaas",
   "language": "python",
   "name": "aaas"
  },
  "language_info": {
   "codemirror_mode": {
    "name": "ipython",
    "version": 3
   },
   "file_extension": ".py",
   "mimetype": "text/x-python",
   "name": "python",
   "nbconvert_exporter": "python",
   "pygments_lexer": "ipython3",
   "version": "3.13.2"
  }
 },
 "nbformat": 4,
 "nbformat_minor": 5
}
