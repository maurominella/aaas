{
 "cells": [
  {
   "cell_type": "markdown",
   "id": "cbcc9ea8-96f5-477b-ae8d-f2e01c0e3e14",
   "metadata": {},
   "source": [
    "# Constants"
   ]
  },
  {
   "cell_type": "code",
   "execution_count": 1,
   "id": "98d9cc9d-cbef-4b35-a4a3-84802dd4ee06",
   "metadata": {},
   "outputs": [
    {
     "name": "stdout",
     "output_type": "stream",
     "text": [
      "Environment variables have been loaded ;-)\n",
      "Project Connection String: <...hub01-grp;mmai-swc-hub01-prj01>\n",
      "azure-ai-projects library installed version: 1.0.0b10\n"
     ]
    }
   ],
   "source": [
    "import os\n",
    "from IPython.display import Markdown, display\n",
    "from dotenv import load_dotenv # requires python-dotenv\n",
    "from PIL import Image # requires pip install pillow\n",
    "from datetime import datetime\n",
    "from common.agents_helper_functions import *\n",
    "import importlib.metadata\n",
    "import matplotlib.pyplot as plt\n",
    "import matplotlib.image as mpimg\n",
    "\n",
    "if not load_dotenv(\"./../config/credentials_my.env\"):\n",
    "    print(\"Environment variables not loaded, cell execution stopped\")\n",
    "    sys.exit()\n",
    "print(\"Environment variables have been loaded ;-)\")\n",
    "\n",
    "deployment_name =  os.environ[\"MODEL_DEPLOYMENT_NAME_MINI\"]\n",
    "api_version = os.environ[\"OPENAI_API_VERSION\"] # at least \"2025-03-01-preview\"\n",
    "\n",
    "project_connection_string = os.environ[\"PROJECT_CONNECTION_STRING\"]\n",
    "\n",
    "print(f'Project Connection String: <...{project_connection_string[-30:]}>')\n",
    "version = importlib.metadata.version(\"azure-ai-projects\")\n",
    "print(f\"azure-ai-projects library installed version: {version}\")"
   ]
  },
  {
   "cell_type": "markdown",
   "id": "ae58a6b5-3ef4-4933-b6b5-7e7583dac3fc",
   "metadata": {},
   "source": [
    "# Create AI Foundry Project Client"
   ]
  },
  {
   "cell_type": "code",
   "execution_count": 2,
   "id": "5a9abb62-b855-402f-9e22-583ffe6bf8cb",
   "metadata": {},
   "outputs": [
    {
     "data": {
      "text/plain": [
       "{'subscription_id': 'eca2eddb-0f0c-4351-a634-52751499eeea',\n",
       " 'resource_group_name': 'mmai-swc-hub01-grp',\n",
       " 'project_name': 'mmai-swc-hub01-prj01'}"
      ]
     },
     "execution_count": 2,
     "metadata": {},
     "output_type": "execute_result"
    }
   ],
   "source": [
    "from azure.ai.projects import AIProjectClient\n",
    "from azure.ai.projects.models import (\n",
    "    FileSearchTool,\n",
    ")\n",
    "from azure.identity import DefaultAzureCredential\n",
    "\n",
    "project_client = AIProjectClient.from_connection_string(\n",
    "    credential=DefaultAzureCredential(), conn_str=project_connection_string\n",
    ")\n",
    "\n",
    "project_client.scope"
   ]
  },
  {
   "cell_type": "markdown",
   "id": "7c0231d0-ec4f-4cd8-af78-586bd8ca165a",
   "metadata": {},
   "source": [
    "# Check if we have any files already on Azure AI Foundry\n",
    "For better clarity, we delete all pre-existing files, if present"
   ]
  },
  {
   "cell_type": "code",
   "execution_count": 3,
   "id": "854edc2c-78b5-4416-8f38-7c616163ea05",
   "metadata": {},
   "outputs": [
    {
     "name": "stdout",
     "output_type": "stream",
     "text": [
      "Files deleted: 0\n",
      "\n"
     ]
    }
   ],
   "source": [
    "# delete all files\n",
    "\n",
    "# the helper function below implements the call \n",
    "# project_client.agents.list_files()['data']\n",
    "\n",
    "i=0\n",
    "for file in list_all_files(project_client)['content']['data']:\n",
    "    i += 1\n",
    "    project_client.agents.delete_file(file_id=file.id)\n",
    "    print(f\"{i} - File <{file.filename}> ({file.id}) has been deleted\")\n",
    "\n",
    "all_files = list_all_files(project_client)\n",
    "\n",
    "print(f\"Files deleted: {i}\\n\")"
   ]
  },
  {
   "cell_type": "markdown",
   "id": "bc5695ad-7bcf-4e3d-95bc-c5fe4e42b72d",
   "metadata": {},
   "source": [
    "# Upload file(s) to search into"
   ]
  },
  {
   "cell_type": "code",
   "execution_count": 4,
   "id": "75ccbead-5635-4b7a-b8b1-980ef2da02f1",
   "metadata": {},
   "outputs": [
    {
     "name": "stdout",
     "output_type": "stream",
     "text": [
      "Uploaded file: {'object': 'file', 'id': 'assistant-Ks3xwWEJE1oTvq1b38mHSf', 'purpose': 'assistants', 'filename': 'product_info_1.md', 'bytes': 10999, 'created_at': 1748330390, 'expires_at': None, 'status': 'processed', 'status_details': None}\n"
     ]
    }
   ],
   "source": [
    "file = project_client.agents.upload_file_and_poll(file_path=\"./product_info_1.md\", purpose=\"assistants\")\n",
    "print(f\"Uploaded file: {file}\")"
   ]
  },
  {
   "cell_type": "markdown",
   "id": "13e70849-afce-4cf3-8a07-9840d65d12f8",
   "metadata": {},
   "source": [
    "# Create a vector store to vectorize file(s)"
   ]
  },
  {
   "cell_type": "code",
   "execution_count": 5,
   "id": "9a848220-84d9-4f0d-a8d2-59cb9c1b59d0",
   "metadata": {},
   "outputs": [
    {
     "name": "stdout",
     "output_type": "stream",
     "text": [
      "Created vector store <{'id': 'vs_OdddUr5FlWLjPkWdFtrvobjU', 'object': 'vector_store', 'name': 'my_vectorstore', 'status': 'completed', 'usage_bytes': 17143, 'created_at': 1748330390, 'file_counts': {'in_progress': 0, 'completed': 1, 'failed': 0, 'cancelled': 0, 'total': 1}, 'metadata': {}, 'expires_after': None, 'expires_at': None, 'last_active_at': 1748330390}>\n",
      "\n",
      "...and uploaded file \"product_info_1.md\".\n"
     ]
    }
   ],
   "source": [
    "vector_store = project_client.agents.create_vector_store_and_poll(file_ids=[file.id], name=\"my_vectorstore\")\n",
    "print(f'Created vector store <{vector_store}>\\n\\n...and uploaded file \"{file.filename}\".')"
   ]
  },
  {
   "cell_type": "markdown",
   "id": "80675f20-b8ad-4847-9c09-947db58d7e1c",
   "metadata": {},
   "source": [
    "# Create file search tool with resources followed by creating agent"
   ]
  },
  {
   "cell_type": "code",
   "execution_count": 6,
   "id": "43843f1b-03c9-4693-b8bc-0f01ed830b16",
   "metadata": {},
   "outputs": [
    {
     "name": "stdout",
     "output_type": "stream",
     "text": [
      "file_search.definitions: [{'type': 'file_search'}]\n",
      "file_search.resources: {'file_search': {'vector_store_ids': ['vs_OdddUr5FlWLjPkWdFtrvobjU']}}\n"
     ]
    }
   ],
   "source": [
    "file_search_tool = FileSearchTool(vector_store_ids=[vector_store.id])\n",
    "\n",
    "print(f\"file_search.definitions: {file_search_tool.definitions}\")\n",
    "print(f\"file_search.resources: {file_search_tool.resources}\")"
   ]
  },
  {
   "cell_type": "markdown",
   "id": "d61b4a06-f13d-4eb6-9004-3dac76ffa998",
   "metadata": {},
   "source": [
    "# Create AI Foundry Agent"
   ]
  },
  {
   "cell_type": "code",
   "execution_count": 7,
   "id": "d96936bc-7f5e-4950-a86d-d702cd0d68a8",
   "metadata": {},
   "outputs": [
    {
     "name": "stdout",
     "output_type": "stream",
     "text": [
      "Created AI Foundry agent, ID: asst_Lk8AozMyFalIJj8Fl5aXgJIg\n"
     ]
    }
   ],
   "source": [
    "agent = project_client.agents.create_agent(\n",
    "    model=deployment_name,\n",
    "    name=\"file-agent\",\n",
    "    instructions=\"Hello, you are helpful agent that can search information from uploaded files\",\n",
    "    tools=file_search_tool.definitions,\n",
    "    tool_resources=file_search_tool.resources,\n",
    ")\n",
    "\n",
    "print(f\"Created AI Foundry agent, ID: {agent.id}\")"
   ]
  },
  {
   "cell_type": "markdown",
   "id": "8303905a-4c41-48a3-bec8-41f334ce205f",
   "metadata": {},
   "source": [
    "# Create the thread and attach a new message to it"
   ]
  },
  {
   "cell_type": "code",
   "execution_count": 8,
   "id": "530e6bab-f562-4af7-b135-6ad06074d156",
   "metadata": {},
   "outputs": [
    {
     "name": "stdout",
     "output_type": "stream",
     "text": [
      "Created thread: {'id': 'thread_grxFF19r13uv5eCGbR8DYOb4', 'object': 'thread', 'created_at': 1748330392, 'metadata': {}, 'tool_resources': {}}\n",
      "\n",
      "The following message has been attached to the thread <thread_grxFF19r13uv5eCGbR8DYOb4>:\n",
      "{'id': 'msg_awEC5hFeedvuvCKLJIPxcWst', 'object': 'thread.message', 'created_at': 1748330393, 'assistant_id': None, 'thread_id': 'thread_grxFF19r13uv5eCGbR8DYOb4', 'run_id': None, 'role': 'user', 'content': [{'type': 'text', 'text': {'value': 'Hello, how much for the TrailMaster?', 'annotations': []}}], 'attachments': [], 'metadata': {}} \n"
     ]
    }
   ],
   "source": [
    "# Create a thread\n",
    "thread = project_client.agents.create_thread()\n",
    "print(f\"Created thread: {thread}\\n\")\n",
    "\n",
    "# Add a user message to the thread\n",
    "message = project_client.agents.create_message(\n",
    "    thread_id=thread.id, \n",
    "    role=\"user\", \n",
    "    content=\"Hello, how much for the TrailMaster?\",\n",
    ")\n",
    "print(f\"The following message has been attached to the thread <{thread.id}>:\\n{message} \")"
   ]
  },
  {
   "cell_type": "markdown",
   "id": "f5e6dd3c-9fda-4d73-bacd-a25fa277b804",
   "metadata": {},
   "source": [
    "# Run the agent syncrhonously"
   ]
  },
  {
   "cell_type": "code",
   "execution_count": 9,
   "id": "7d5a044e-4312-45d0-a4b0-8d7d0c01f071",
   "metadata": {},
   "outputs": [
    {
     "name": "stdout",
     "output_type": "stream",
     "text": [
      "Run finished with status: RunStatus.COMPLETED.\n",
      "\n",
      "Run: {'id': 'run_LUtnkPQQ0GkDdnY3XWUis6G3', 'object': 'thread.run', 'created_at': 1748330393, 'assistant_id': 'asst_Lk8AozMyFalIJj8Fl5aXgJIg', 'thread_id': 'thread_grxFF19r13uv5eCGbR8DYOb4', 'status': 'completed', 'started_at': 1748330393, 'expires_at': None, 'cancelled_at': None, 'failed_at': None, 'completed_at': 1748330394, 'required_action': None, 'last_error': None, 'model': 'gpt-4o-mini', 'instructions': 'Hello, you are helpful agent that can search information from uploaded files', 'tools': [{'type': 'file_search'}], 'tool_resources': {}, 'metadata': {}, 'temperature': 1.0, 'top_p': 1.0, 'max_completion_tokens': None, 'max_prompt_tokens': None, 'truncation_strategy': {'type': 'auto', 'last_messages': None}, 'incomplete_details': None, 'usage': {'prompt_tokens': 6066, 'completion_tokens': 43, 'total_tokens': 6109, 'prompt_token_details': {'cached_tokens': 0}}, 'response_format': 'auto', 'tool_choice': 'auto', 'parallel_tool_calls': True}\n",
      "CPU times: user 11.7 ms, sys: 74 μs, total: 11.8 ms\n",
      "Wall time: 3.18 s\n"
     ]
    }
   ],
   "source": [
    "%%time\n",
    "# Create and process assistant run in thread with tools\n",
    "run = project_client.agents.create_and_process_run\\\n",
    "    (thread_id=thread.id, agent_id=agent.id)\n",
    "\n",
    "print(f\"Run finished with status: {run.status}.\\n\\nRun: {run}\")\n",
    "\n",
    "if run.status == \"failed\":\n",
    "    # Check if you got \"Rate limit is exceeded.\", then you want to get more quota\n",
    "    print(f\"Run failed: {run.last_error}\")"
   ]
  },
  {
   "cell_type": "markdown",
   "id": "c7bef1f6-ee31-4027-ab4d-37fb57d9158d",
   "metadata": {},
   "source": [
    "# Fetch messages from the thread after the agent run execution"
   ]
  },
  {
   "cell_type": "code",
   "execution_count": 10,
   "id": "bcb83a7e-dc23-4a27-8443-eb9d2d2f1236",
   "metadata": {},
   "outputs": [
    {
     "name": "stdout",
     "output_type": "stream",
     "text": [
      "Here are the 2 messages:\n",
      "\n",
      "\n",
      "===== MESSAGE 1 =====\n",
      "\n",
      "CONTENT 1 (MessageTextContent) --> Text: Hello, how much for the TrailMaster?\n",
      "\n",
      "===== MESSAGE 2 =====\n",
      "\n",
      "CONTENT 1 (MessageTextContent) --> Text: The price for the TrailMaster X4 Tent is **$250**【4:2†source】.\n",
      ">>> Annotation in MessageTextContent 1 of message 2: 【4:2†source】\n",
      "\n"
     ]
    }
   ],
   "source": [
    "from azure.ai.projects.models import MessageTextContent, MessageImageFileContent\n",
    "\n",
    "if run.status == 'completed':    \n",
    "    messages = project_client.agents.list_messages(thread_id=thread.id)\n",
    "    messages_nr = len(messages.data)\n",
    "    print(f\"Here are the {messages_nr} messages:\\n\")\n",
    "    \n",
    "    for i, message in enumerate(reversed(messages.data), 1):\n",
    "        j = 0\n",
    "        print(f\"\\n===== MESSAGE {i} =====\")\n",
    "        for c in message.content:\n",
    "            j +=1\n",
    "            if (type(c) is MessageImageFileContent):\n",
    "                print(f\"\\nCONTENT {j} (MessageImageFileContent) --> image_file id: {c.image_file.file_id}\")\n",
    "            elif (type(c) is MessageTextContent):\n",
    "                print(f\"\\nCONTENT {j} (MessageTextContent) --> Text: {c.text.value}\")\n",
    "                for a in c.text.annotations:\n",
    "                    print(f\">>> Annotation in MessageTextContent {j} of message {i}: {a.text}\\n\")\n",
    "\n",
    "else:\n",
    "    print(f\"Sorry, I can't proceed because the run status is {run.status}\")"
   ]
  },
  {
   "cell_type": "markdown",
   "id": "c80a2951-b37d-49b9-9dc3-231f4fedf1ae",
   "metadata": {},
   "source": [
    "# Fetch citations from the messages"
   ]
  },
  {
   "cell_type": "code",
   "execution_count": 11,
   "id": "99d8ad72-05ee-4f6b-a89b-fafda91ef474",
   "metadata": {},
   "outputs": [
    {
     "name": "stdout",
     "output_type": "stream",
     "text": [
      "Nr. of file path citations: 1\n",
      "\n",
      "1 - File file_citation_annotation: {'type': 'file_citation', 'text': '【4:2†source】', 'start_index': 49, 'end_index': 61, 'file_citation': {'file_id': 'assistant-Ks3xwWEJE1oTvq1b38mHSf'}}\n"
     ]
    }
   ],
   "source": [
    "# messages.file_path_annotations[0].text.split('/')[-1]\n",
    "print (f\"Nr. of file path citations: {len(messages.file_citation_annotations)}\\n\")\n",
    "\n",
    "i=0\n",
    "for file_citation_annotation in messages.file_citation_annotations:\n",
    "    i += 1\n",
    "    print(f\"{i} - File file_citation_annotation: {file_citation_annotation}\")"
   ]
  },
  {
   "cell_type": "markdown",
   "id": "77b081de-b3b4-4c2d-a4ae-679054d4224b",
   "metadata": {},
   "source": [
    "# Retrieve and download eventual images"
   ]
  },
  {
   "cell_type": "code",
   "execution_count": 12,
   "id": "cc66b6b9-ed58-4487-8090-8d7ece3a12ef",
   "metadata": {},
   "outputs": [
    {
     "name": "stdout",
     "output_type": "stream",
     "text": [
      "Nr. of file path annotations: 0\n",
      "\n"
     ]
    }
   ],
   "source": [
    "# messages.file_path_annotations[0].text.split('/')[-1]\n",
    "print (f\"Nr. of file path annotations: {len(messages.file_path_annotations)}\\n\")\n",
    "\n",
    "i=0\n",
    "for file_path_annotation in messages.file_path_annotations:\n",
    "    i += 1\n",
    "    print(f\"{i} - File annotation paths: {file_path_annotation}\")\n",
    "    file_name = file_path_annotation.text.split('/')[-1]\n",
    "    project_client.agents.save_file(file_id=file_path_annotation.file_path.file_id, file_name=file_name)\n",
    "    print(f\"File annotation {i} saved as file to: {os.getcwd()}\\\\{file_name}\")\n",
    "    image = Image.open(f\"{os.getcwd()}\\\\{file_name}\") # Open the image\n",
    "    image.show() # Display the image"
   ]
  },
  {
   "cell_type": "markdown",
   "id": "648320cc-d8a9-41c6-b7f8-f64ea45a6580",
   "metadata": {},
   "source": [
    "# Collect all resources for this project"
   ]
  },
  {
   "cell_type": "code",
   "execution_count": 13,
   "id": "9545f511-10cb-431a-a188-a9eec43abaf4",
   "metadata": {},
   "outputs": [
    {
     "name": "stdout",
     "output_type": "stream",
     "text": [
      "1 agents in project <mmai-swc-hub01-prj01>\n",
      "1 threads in project <mmai-swc-hub01-prj01>\n",
      "1 files in project <mmai-swc-hub01-prj01>\n",
      "1 runs in 1 threads of project <mmai-swc-hub01-prj01>\n",
      "2 run steps in 1 pairs of (thread, run) of project <mmai-swc-hub01-prj01>\n",
      "2 messages in 1 threads of project <mmai-swc-hub01-prj01>\n",
      "1 vector stores in project <mmai-swc-hub01-prj01>\n"
     ]
    }
   ],
   "source": [
    "all_agents = list_all_agents(project_client=project_client)\n",
    "print(all_agents[\"summary\"])\n",
    "\n",
    "all_threads = list_all_threads(project_client)\n",
    "print(all_threads[\"summary\"])\n",
    "\n",
    "all_files = list_all_files(project_client)\n",
    "print(all_files[\"summary\"])\n",
    "\n",
    "all_runs = list_all_runs(project_client)\n",
    "print(all_runs[\"summary\"])\n",
    "\n",
    "all_runsteps=list_all_runsteps(project_client)\n",
    "print(all_runsteps[\"summary\"])\n",
    "\n",
    "all_messages = list_all_messages(project_client)\n",
    "print(all_messages[\"summary\"])\n",
    "\n",
    "all_vectorstores = list_all_vectorstores(project_client=project_client)\n",
    "print(all_vectorstores[\"summary\"])"
   ]
  },
  {
   "cell_type": "markdown",
   "id": "01e37364-f513-483c-9e8e-caecb1af61f8",
   "metadata": {},
   "source": [
    "# Teardown for all resources"
   ]
  },
  {
   "cell_type": "code",
   "execution_count": 14,
   "id": "30413d58-d1ee-4518-b8f0-cea395230e9b",
   "metadata": {},
   "outputs": [
    {
     "name": "stdout",
     "output_type": "stream",
     "text": [
      "1 - Vector store <vs_OdddUr5FlWLjPkWdFtrvobjU> has been deleted\n",
      "Vector stores deleted: 1\n",
      "\n"
     ]
    }
   ],
   "source": [
    "# delete all vector stores\n",
    "\n",
    "i=0\n",
    "for vector_store in all_vectorstores[\"content\"][\"data\"]:\n",
    "    i += 1\n",
    "    project_client.agents.delete_vector_store(vector_store_id=vector_store.id)\n",
    "    print(f\"{i} - Vector store <{vector_store.id}> has been deleted\")\n",
    "\n",
    "all_vectorstores = list_all_vectorstores(project_client=project_client)\n",
    "\n",
    "print(f\"Vector stores deleted: {i}\\n\")"
   ]
  },
  {
   "cell_type": "code",
   "execution_count": 15,
   "id": "58c5a16d-b7ae-46b9-b731-82632dd6d2c6",
   "metadata": {},
   "outputs": [
    {
     "name": "stdout",
     "output_type": "stream",
     "text": [
      "1 - File <product_info_1.md> (assistant-Ks3xwWEJE1oTvq1b38mHSf) has been deleted\n",
      "Files deleted: 1\n",
      "\n"
     ]
    }
   ],
   "source": [
    "# delete all files\n",
    "\n",
    "i=0\n",
    "for file in all_files['content']['data']:\n",
    "    i += 1\n",
    "    project_client.agents.delete_file(file_id=file.id)\n",
    "    print(f\"{i} - File <{file.filename}> ({file.id}) has been deleted\")\n",
    "\n",
    "all_files = list_all_files(project_client)\n",
    "\n",
    "print(f\"Files deleted: {i}\\n\")"
   ]
  },
  {
   "cell_type": "code",
   "execution_count": 16,
   "id": "5d5fc0c0-92eb-44d3-99ad-ca6621ced00f",
   "metadata": {},
   "outputs": [
    {
     "name": "stdout",
     "output_type": "stream",
     "text": [
      "1 - Thread <thread_grxFF19r13uv5eCGbR8DYOb4> has been deleted\n",
      "Threads deleted: 1\n",
      "\n"
     ]
    }
   ],
   "source": [
    "# delete all threads\n",
    "\n",
    "i=0\n",
    "for thread in all_threads[\"content\"][\"data\"]:\n",
    "    i += 1\n",
    "    project_client.agents.delete_thread(thread_id=thread.id)\n",
    "    print(f\"{i} - Thread <{thread.id}> has been deleted\")\n",
    "\n",
    "all_threads = list_all_threads(project_client)\n",
    "\n",
    "print(f\"Threads deleted: {i}\\n\")"
   ]
  },
  {
   "cell_type": "code",
   "execution_count": 17,
   "id": "3f2c26d3-384b-4ede-9481-dbc5e120de31",
   "metadata": {},
   "outputs": [
    {
     "name": "stdout",
     "output_type": "stream",
     "text": [
      "1 - Agent <asst_Lk8AozMyFalIJj8Fl5aXgJIg> has been deleted\n",
      "Agents deleted: 1\n",
      "\n"
     ]
    }
   ],
   "source": [
    "# delete all agents\n",
    "\n",
    "i=0\n",
    "for agent in all_agents[\"content\"][\"data\"]:\n",
    "    i += 1\n",
    "    project_client.agents.delete_agent(agent_id=agent.id)\n",
    "    print(f\"{i} - Agent <{agent.id}> has been deleted\")\n",
    "\n",
    "all_agents = list_all_agents(project_client=project_client)\n",
    "\n",
    "print(f\"Agents deleted: {i}\\n\")"
   ]
  },
  {
   "cell_type": "markdown",
   "id": "c8cc2b04-a0b3-45ee-9066-4306e16511f9",
   "metadata": {},
   "source": [
    "# HIC SUNT LEONES"
   ]
  }
 ],
 "metadata": {
  "kernelspec": {
   "display_name": "aaas",
   "language": "python",
   "name": "aaas"
  },
  "language_info": {
   "codemirror_mode": {
    "name": "ipython",
    "version": 3
   },
   "file_extension": ".py",
   "mimetype": "text/x-python",
   "name": "python",
   "nbconvert_exporter": "python",
   "pygments_lexer": "ipython3",
   "version": "3.13.2"
  }
 },
 "nbformat": 4,
 "nbformat_minor": 5
}
