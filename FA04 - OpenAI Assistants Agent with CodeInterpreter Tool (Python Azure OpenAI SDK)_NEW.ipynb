{
 "cells": [
  {
   "cell_type": "markdown",
   "id": "bd7eb769-c574-4f94-a528-ff66d0b7c7b3",
   "metadata": {},
   "source": [
    "# Constants"
   ]
  },
  {
   "cell_type": "markdown",
   "id": "f37bbb97-a8d7-4f37-884c-66432ae1d051",
   "metadata": {},
   "source": [
    "## Only if needed\n",
    "```\n",
    "import os\n",
    "\n",
    "# Login with tenant ID\n",
    "os.system(\"az login --tenant 3ad0b905-34ab-4116-93d9-c1dcc2d35af6 --output none\")\n",
    "\n",
    "# Set the subscription programmatically\n",
    "os.system(\"az account set --subscription eca2eddb-0f0c-4351-a634-52751499eeea\")\n",
    "```"
   ]
  },
  {
   "cell_type": "code",
   "execution_count": 1,
   "id": "98d9cc9d-cbef-4b35-a4a3-84802dd4ee06",
   "metadata": {},
   "outputs": [
    {
     "name": "stdout",
     "output_type": "stream",
     "text": [
      "Environment variables have been loaded ;-)\n",
      "Project Endpoint: <https://aif01ais1lrx7.services.ai.azure.com/api/projects/aif01project01lrx7>\n",
      "azure-ai-projects library installed version: 1.0.0b12\n",
      "azure-ai-agents library installed version: 1.0.2\n"
     ]
    }
   ],
   "source": [
    "import os, json\n",
    "from IPython.display import Markdown, display\n",
    "from dotenv import load_dotenv # requires python-dotenv\n",
    "from PIL import Image # requires pip install pillow\n",
    "from datetime import datetime\n",
    "from common.agents_helper_functions_NEW import *\n",
    "import importlib.metadata\n",
    "import matplotlib.pyplot as plt\n",
    "import matplotlib.image as mpimg\n",
    "\n",
    "if not load_dotenv(\"./../config/credentials_my.env\"):\n",
    "    print(\"Environment variables not loaded, cell execution stopped\")\n",
    "else:\n",
    "    print(\"Environment variables have been loaded ;-)\")\n",
    "\n",
    "\n",
    "project_endpoint = os.environ[\"AZURE_AIF_PROJECT_ENDPOINT\"]\n",
    "deployment_name =  os.environ[\"MODEL_DEPLOYMENT_NAME\"]\n",
    "api_version = os.environ[\"OPENAI_API_VERSION\"] # at least \"2025-03-01-preview\"\n",
    "\n",
    "print(f'Project Endpoint: <{project_endpoint}>')\n",
    "print(f\"azure-ai-projects library installed version: {importlib.metadata.version(\"azure-ai-projects\")}\")\n",
    "print(f\"azure-ai-agents library installed version: {importlib.metadata.version(\"azure-ai-agents\")}\")"
   ]
  },
  {
   "cell_type": "markdown",
   "id": "d5ff8df5-3544-4646-ae90-3d794944dfe7",
   "metadata": {},
   "source": [
    "# Create AI Foundry Project Client"
   ]
  },
  {
   "cell_type": "code",
   "execution_count": 2,
   "id": "5a9abb62-b855-402f-9e22-583ffe6bf8cb",
   "metadata": {},
   "outputs": [
    {
     "data": {
      "text/plain": [
       "<azure.ai.projects._patch.AIProjectClient at 0x78d4b82a56a0>"
      ]
     },
     "execution_count": 2,
     "metadata": {},
     "output_type": "execute_result"
    }
   ],
   "source": [
    "from azure.ai.projects import AIProjectClient\n",
    "from azure.identity import DefaultAzureCredential\n",
    "\n",
    "project_client = AIProjectClient(\n",
    "    endpoint=project_endpoint,\n",
    "    credential=DefaultAzureCredential(),\n",
    ")\n",
    "\n",
    "project_client"
   ]
  },
  {
   "cell_type": "markdown",
   "id": "59c23d24-7ccf-41f1-8aba-f13988ee1490",
   "metadata": {},
   "source": [
    "# Extract Azure OpenAI client from the AI Foundry Project"
   ]
  },
  {
   "cell_type": "code",
   "execution_count": 3,
   "id": "9113b25e-b2ba-449a-bc98-d51dc5a95650",
   "metadata": {},
   "outputs": [
    {
     "name": "stdout",
     "output_type": "stream",
     "text": [
      "https://aif01ais1lrx7.services.ai.azure.com/openai/\n"
     ]
    }
   ],
   "source": [
    "from openai import AzureOpenAI # <<<<< NOT NEEDED FOR AZURE AI FOUNDRY SDK\n",
    "\n",
    "# using explicit type hinting for IntelliSense\n",
    "azure_openai_client: AzureOpenAI = project_client.inference.get_azure_openai_client(\n",
    "    api_version = api_version,\n",
    ")\n",
    "\n",
    "# if NOT MI --> azure_openai_client.api_key = os.environ.get(\"AZURE_OPENAI_API_KEY\") \n",
    "\n",
    "print(azure_openai_client.base_url)"
   ]
  },
  {
   "cell_type": "code",
   "execution_count": 4,
   "id": "13bec37e-81a4-4c60-a045-6ea6576e015f",
   "metadata": {},
   "outputs": [
    {
     "name": "stdout",
     "output_type": "stream",
     "text": [
      "Response from <class 'openai.lib.azure.AzureOpenAI'> object: Cloud computing platform offering various services and solutions.\n"
     ]
    }
   ],
   "source": [
    "# use the client with Responses API's\n",
    "\n",
    "response = azure_openai_client.responses.create(\n",
    "    model = deployment_name,\n",
    "    input = \"Tell me what Microsoft Azure is in less than 10 words\")\n",
    "\n",
    "print(f\"Response from {type(azure_openai_client)} object: {response.output_text}\")"
   ]
  },
  {
   "cell_type": "markdown",
   "id": "4b78583e-e0cd-4e8d-aca8-776942412ad5",
   "metadata": {},
   "source": [
    "# Create an OpenAI **Assistant** with CodeInterpreterTool, \n",
    "# from an Azure OpenAI Client extracted from the AI Foundry Project"
   ]
  },
  {
   "cell_type": "code",
   "execution_count": 5,
   "id": "cba7d3be-7aad-4db0-9a4d-62b94c03c2f4",
   "metadata": {},
   "outputs": [
    {
     "name": "stdout",
     "output_type": "stream",
     "text": [
      "Assistant OpenAI Assistant #1 (asst_FZD1d2H1zGVItmaGUNQPEpB1) has been created. It's available in the AI Foundry Assistants playground.\n"
     ]
    }
   ],
   "source": [
    "# First, create the code interpreter definitions...\n",
    "code_interpreter_tool = {\"type\": \"code_interpreter\"}\n",
    "code_interpreter_resources={\"code_interpreter\":{\"file_ids\":[]}}\n",
    "\n",
    "# ...then, create the OpenAI Assistant Agent, attaching code interpreter\n",
    "assistant = azure_openai_client.beta.assistants.create(\n",
    "    name = \"OpenAI Assistant #1\",  \n",
    "    model=deployment_name,\n",
    "    instructions=\"You are a helpful agent\",\n",
    "    tools=[code_interpreter_tool],\n",
    "    tool_resources=code_interpreter_resources,\n",
    "    temperature=1,\n",
    "    top_p=1\n",
    ")\n",
    "\n",
    "print(f\"Assistant {assistant.name} ({assistant.id}) has been created. It's available in the AI Foundry Assistants playground.\")"
   ]
  },
  {
   "cell_type": "markdown",
   "id": "300f0153-3b23-4128-87b7-a3854c2d9566",
   "metadata": {},
   "source": [
    "# Create the thread and attach a new message to it"
   ]
  },
  {
   "cell_type": "code",
   "execution_count": 6,
   "id": "92a56915-3db9-46f3-9336-cd1ad6aa1182",
   "metadata": {},
   "outputs": [
    {
     "name": "stderr",
     "output_type": "stream",
     "text": [
      "/tmp/ipykernel_1889667/2121601295.py:2: DeprecationWarning: The Assistants API is deprecated in favor of the Responses API\n",
      "  thread = azure_openai_client.beta.threads.create()\n"
     ]
    },
    {
     "name": "stdout",
     "output_type": "stream",
     "text": [
      "The following thread has been created:\n",
      "Thread(id='thread_yn1B4wXR6DyZ9QbRygQaik7C', created_at=1751451414, metadata={}, object='thread', tool_resources=ToolResources(code_interpreter=None, file_search=None))\n",
      "\n"
     ]
    },
    {
     "name": "stderr",
     "output_type": "stream",
     "text": [
      "/tmp/ipykernel_1889667/2121601295.py:7: DeprecationWarning: The Assistants API is deprecated in favor of the Responses API\n",
      "  message = azure_openai_client.beta.threads.messages.create(\n"
     ]
    },
    {
     "name": "stdout",
     "output_type": "stream",
     "text": [
      "The following message has been attached to thread <thread_yn1B4wXR6DyZ9QbRygQaik7C>:\n",
      "Message(id='msg_Rss2vXcfMfeVO6kkDgQGESsW', assistant_id=None, attachments=[], completed_at=None, content=[TextContentBlock(text=Text(annotations=[], value='\\nPlease create a bar chart for the operating profit using \\nthe following data and provide the file to me:\\nCompany A: $1.2 million, Company B: $2.5 million,\\nCompany C: $3.0 million, Company D: $1.8 million\\n'), type='text')], created_at=1751451414, incomplete_at=None, incomplete_details=None, metadata={}, object='thread.message', role='user', run_id=None, status=None, thread_id='thread_yn1B4wXR6DyZ9QbRygQaik7C')\n"
     ]
    }
   ],
   "source": [
    "# Create a thread\n",
    "thread = azure_openai_client.beta.threads.create()\n",
    "\n",
    "print(f\"The following thread has been created:\\n{thread}\\n\")\n",
    "\n",
    "# Add a user message to the thread\n",
    "message = azure_openai_client.beta.threads.messages.create(\n",
    "    thread_id=thread.id,\n",
    "    role=\"user\",\n",
    "    content=\"\"\"\n",
    "Please create a bar chart for the operating profit using \n",
    "the following data and provide the file to me:\n",
    "Company A: $1.2 million, Company B: $2.5 million,\n",
    "Company C: $3.0 million, Company D: $1.8 million\n",
    "\"\"\",\n",
    ")\n",
    "print(f\"The following message has been attached to thread <{thread.id}>:\\n{message}\")\n",
    "\n",
    "# to retrieve the message of a thread, please run: azure_openai_client.beta.threads.messages.retrieve (thread_id=thread.id, message_id=message.id)"
   ]
  },
  {
   "cell_type": "markdown",
   "id": "7dec81ea-03c6-4e6c-bf49-767acd1a5928",
   "metadata": {},
   "source": [
    "# Run the agent syncrhonously"
   ]
  },
  {
   "cell_type": "code",
   "execution_count": 7,
   "id": "21ea64d8-0e95-423f-925b-74f10c1f411b",
   "metadata": {},
   "outputs": [
    {
     "name": "stderr",
     "output_type": "stream",
     "text": [
      "<timed exec>:2: DeprecationWarning: The Assistants API is deprecated in favor of the Responses API\n"
     ]
    },
    {
     "name": "stdout",
     "output_type": "stream",
     "text": [
      "Run status: queued\n"
     ]
    },
    {
     "name": "stderr",
     "output_type": "stream",
     "text": [
      "<timed exec>:12: DeprecationWarning: The Assistants API is deprecated in favor of the Responses API\n"
     ]
    },
    {
     "name": "stdout",
     "output_type": "stream",
     "text": [
      "Run status: in_progress\n",
      "Run status: in_progress\n",
      "Run status: in_progress\n",
      "Run status: in_progress\n",
      "Run status: in_progress\n",
      "Run status: in_progress\n",
      "Run status: in_progress\n",
      "Run status: in_progress\n",
      "Run status: completed\n",
      "CPU times: user 34.2 ms, sys: 4.21 ms, total: 38.4 ms\n",
      "Wall time: 10.4 s\n"
     ]
    }
   ],
   "source": [
    "%%time\n",
    "\n",
    "# Run the agent\n",
    "run = azure_openai_client.beta.threads.runs.create(\n",
    "  thread_id=thread.id,\n",
    "  assistant_id=assistant.id\n",
    ")\n",
    "print(f\"Run status: {run.status}\")\n",
    "\n",
    "# Looping until the run completes or fails\n",
    "import time\n",
    "while run.status in ['queued', 'in_progress', 'cancelling']:\n",
    "    time.sleep(1)\n",
    "    run = azure_openai_client.beta.threads.runs.retrieve\\\n",
    "        (thread_id=thread.id, run_id=run.id)\n",
    "    print(f\"Run status: {run.status}\")  "
   ]
  },
  {
   "cell_type": "markdown",
   "id": "43ed4cdb-c460-4af1-8f90-2c5b55e831f9",
   "metadata": {},
   "source": [
    "# Retrieve messages from the thread after the agent run execution"
   ]
  },
  {
   "cell_type": "code",
   "execution_count": 8,
   "id": "e75ba08b-0c94-446d-b7e1-1d3ba12a2c51",
   "metadata": {},
   "outputs": [
    {
     "name": "stderr",
     "output_type": "stream",
     "text": [
      "/tmp/ipykernel_1889667/3126846534.py:4: DeprecationWarning: The Assistants API is deprecated in favor of the Responses API\n",
      "  messages = azure_openai_client.beta.threads.messages.list(thread_id=thread.id)\n"
     ]
    },
    {
     "name": "stdout",
     "output_type": "stream",
     "text": [
      "Here are the 2 messages:\n",
      "\n",
      "\n",
      "===== MESSAGE 1 =====\n",
      "\n",
      "CONTENT 1 (TextContentBlock) --> Text: \n",
      "Please create a bar chart for the operating profit using \n",
      "the following data and provide the file to me:\n",
      "Company A: $1.2 million, Company B: $2.5 million,\n",
      "Company C: $3.0 million, Company D: $1.8 million\n",
      "\n",
      "\n",
      "===== MESSAGE 2 =====\n",
      "\n",
      "CONTENT 1 (ImageFileContentBlock)--> image_file id: assistant-SmXPp2M4UPczUgVxzzAoCX\n",
      "\n",
      "CONTENT 2 (TextContentBlock) --> Text: The bar chart for the operating profit has been created and saved as a file. You can download it using the link below:\n",
      "\n",
      "[Download the bar chart](sandbox:/mnt/data/operating_profit_bar_chart.png)\n",
      ">>> Annotation in MessageTextContent 2 of message 2: sandbox:/mnt/data/operating_profit_bar_chart.png\n",
      "\n"
     ]
    }
   ],
   "source": [
    "import openai\n",
    "\n",
    "if run.status == 'completed':\n",
    "    messages = azure_openai_client.beta.threads.messages.list(thread_id=thread.id)\n",
    "    messages_nr = len(messages.data)\n",
    "    print(f\"Here are the {messages_nr} messages:\\n\")\n",
    "    \n",
    "    for i, message in enumerate(reversed(messages.data), 1):\n",
    "        j =0\n",
    "        print(f\"\\n===== MESSAGE {i} =====\")\n",
    "        for c in message.content:\n",
    "            j += 1\n",
    "            if (type(c) is openai.types.beta.threads.image_file_content_block.ImageFileContentBlock):\n",
    "                print(f\"\\nCONTENT {j} (ImageFileContentBlock)--> image_file id: {c.image_file.file_id}\")\n",
    "            elif (type(c) is openai.types.beta.threads.text_content_block.TextContentBlock):\n",
    "                print(f\"\\nCONTENT {j} (TextContentBlock) --> Text: {c.text.value}\")\n",
    "                for a in c.text.annotations:\n",
    "                    print(f\">>> Annotation in MessageTextContent {j} of message {i}: {a.text}\\n\")\n",
    "else:\n",
    "    print(f\"Sorry, I can't proceed because the run status is {run.status}\")"
   ]
  },
  {
   "cell_type": "markdown",
   "id": "2060ac76-ecfa-492c-b023-35d60c850057",
   "metadata": {},
   "source": [
    "# Retrieve and download eventual images\n",
    "**Note**: sometimes, the image link is provided in the textual answer. In this case it won't be automatically shown"
   ]
  },
  {
   "cell_type": "code",
   "execution_count": 9,
   "id": "0ee19985-17c4-42b6-ac86-1c44437e3140",
   "metadata": {},
   "outputs": [
    {
     "name": "stdout",
     "output_type": "stream",
     "text": [
      "image_file: assistant-SmXPp2M4UPczUgVxzzAoCX\n"
     ]
    },
    {
     "data": {
      "image/jpeg": "[encoded data removed]",
      "text/plain": [
       "<IPython.core.display.Image object>"
      ]
     },
     "metadata": {},
     "output_type": "display_data"
    },
    {
     "name": "stdout",
     "output_type": "stream",
     "text": [
      "text: The bar chart for the operating profit has been created and saved as a file. You can download it using the link below:\n",
      "\n",
      "[Download the bar chart](sandbox:/mnt/data/operating_profit_bar_chart.png)\n"
     ]
    }
   ],
   "source": [
    "from IPython.display import Image, display\n",
    "for c in json.loads(messages.to_json())[\"data\"][0][\"content\"]:\n",
    "    if c[\"type\"]==\"text\":\n",
    "        print(f'text: {c[\"text\"][\"value\"]}')\n",
    "    elif c[\"type\"]==\"image_file\":\n",
    "        file_id = c[\"image_file\"][\"file_id\"]\n",
    "        content = azure_openai_client.files.content(file_id=file_id)\n",
    "        image= content.write_to_file(f\"{file_id}.jpg\")\n",
    "        print(f'image_file: {file_id}')\n",
    "        display(Image(filename=f\"{file_id}.jpg\"))"
   ]
  },
  {
   "cell_type": "markdown",
   "id": "c4ac27b7-1e6e-42c5-a2d7-6118ec0cf9da",
   "metadata": {},
   "source": [
    "# Teardown"
   ]
  },
  {
   "cell_type": "code",
   "execution_count": 10,
   "id": "b13d582f-2ff5-44d8-b6d0-1a3f8d63ae51",
   "metadata": {},
   "outputs": [
    {
     "name": "stderr",
     "output_type": "stream",
     "text": [
      "/tmp/ipykernel_1889667/3176731398.py:2: DeprecationWarning: The Assistants API is deprecated in favor of the Responses API\n",
      "  azure_openai_client.beta.threads.delete(thread_id=thread.id)\n"
     ]
    },
    {
     "data": {
      "text/plain": [
       "ThreadDeleted(id='thread_yn1B4wXR6DyZ9QbRygQaik7C', deleted=True, object='thread.deleted')"
      ]
     },
     "execution_count": 10,
     "metadata": {},
     "output_type": "execute_result"
    }
   ],
   "source": [
    "# delete thread. Beaware: it's not possible to retrieve the threads list as it is with AI Foundry Agents!\n",
    "azure_openai_client.beta.threads.delete(thread_id=thread.id)"
   ]
  },
  {
   "cell_type": "code",
   "execution_count": 11,
   "id": "05648e27-338e-423d-927b-ef441da75bd3",
   "metadata": {},
   "outputs": [
    {
     "name": "stdout",
     "output_type": "stream",
     "text": [
      "Deleting assistant 1: asst_FZD1d2H1zGVItmaGUNQPEpB1 (OpenAI Assistant #1) created at 2025-07-02 10:16:54...\n",
      "Deleting assistant 2: asst_5fwyyxlS6N9V8pIUYvfUWBha (OpenAI Assistant #1) created at 2025-07-02 10:03:36...\n",
      "Deleting assistant 3: asst_KbRZ95pbfxtK09Dh3oV96ro2 (OpenAI Assistant #1) created at 2025-07-02 10:04:10...\n",
      "\n",
      "3 assistants have been successfully processed.\n"
     ]
    }
   ],
   "source": [
    "def list_assistants(aoc: AzureOpenAI, delete:bool=False):\n",
    "    assistants = aoc.beta.assistants.list(limit=100).data\n",
    "\n",
    "    i=0\n",
    "    while len(assistants) > 0:\n",
    "        for assistant in assistants:\n",
    "            i=i+1\n",
    "            if delete:\n",
    "                print(f\"Deleting assistant {i}: {assistant.id} ({assistant.name}) created at {datetime.fromtimestamp(assistant.created_at).strftime('%Y-%m-%d %H:%M:%S')}...\")\n",
    "                # client.beta.assistants.delete(assistant.id)\n",
    "                aoc.beta.assistants.delete(assistant.id)\n",
    "            else:\n",
    "                print(f\"Assistant {i}: {assistant.id} ({assistant.name}) created at {datetime.fromtimestamp(agent['created_at']).strftime('%Y-%m-%d %H:%M:%S')}...\")\n",
    "\n",
    "            assistants.remove(assistant)\n",
    "            #agents = aoc.agents.list_agents(limit=100)['data']\n",
    "    \n",
    "    print (f\"\\n{i} assistants have been successfully processed.\")\n",
    "\n",
    "\n",
    "list_assistants(azure_openai_client, delete=True)"
   ]
  },
  {
   "cell_type": "markdown",
   "id": "c8cc2b04-a0b3-45ee-9066-4306e16511f9",
   "metadata": {},
   "source": [
    "# HIC SUNT LEONES"
   ]
  }
 ],
 "metadata": {
  "kernelspec": {
   "display_name": "aaas",
   "language": "python",
   "name": "aaas"
  },
  "language_info": {
   "codemirror_mode": {
    "name": "ipython",
    "version": 3
   },
   "file_extension": ".py",
   "mimetype": "text/x-python",
   "name": "python",
   "nbconvert_exporter": "python",
   "pygments_lexer": "ipython3",
   "version": "3.13.5"
  }
 },
 "nbformat": 4,
 "nbformat_minor": 5
}
