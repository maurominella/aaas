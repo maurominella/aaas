{
 "cells": [
  {
   "cell_type": "markdown",
   "id": "cbcc9ea8-96f5-477b-ae8d-f2e01c0e3e14",
   "metadata": {},
   "source": [
    "# Constants"
   ]
  },
  {
   "cell_type": "code",
   "execution_count": 1,
   "id": "98d9cc9d-cbef-4b35-a4a3-84802dd4ee06",
   "metadata": {},
   "outputs": [
    {
     "name": "stdout",
     "output_type": "stream",
     "text": [
      "Environment variables have been loaded ;-)\n",
      "Project Endpoint: <https://mmai-swc-new01-prj-resource.services.ai.azure.com/api/projects/mmai-swc-new01-prj>\n",
      "azure-ai-projects library installed version: 1.0.0b11\n",
      "azure-ai-agents library installed version: 1.1.0b1\n"
     ]
    }
   ],
   "source": [
    "import os, json\n",
    "from IPython.display import Markdown, display\n",
    "from dotenv import load_dotenv # requires python-dotenv\n",
    "from PIL import Image # requires pip install pillow\n",
    "from datetime import datetime\n",
    "from common.agents_helper_functions_NEW import *\n",
    "import importlib.metadata\n",
    "import matplotlib.pyplot as plt\n",
    "import matplotlib.image as mpimg\n",
    "\n",
    "if not load_dotenv(\"./../config/credentials_my.env\"):\n",
    "    print(\"Environment variables not loaded, cell execution stopped\")\n",
    "else:\n",
    "    print(\"Environment variables have been loaded ;-)\")\n",
    "\n",
    "\n",
    "project_endpoint = os.environ[\"PROJECT_ENDPOINT\"]\n",
    "deployment_name =  os.environ[\"MODEL_DEPLOYMENT_NAME\"]\n",
    "api_version = os.environ[\"OPENAI_API_VERSION\"] # at least \"2025-03-01-preview\"\n",
    "\n",
    "print(f'Project Endpoint: <{project_endpoint}>')\n",
    "print(f\"azure-ai-projects library installed version: {importlib.metadata.version(\"azure-ai-projects\")}\")\n",
    "print(f\"azure-ai-agents library installed version: {importlib.metadata.version(\"azure-ai-agents\")}\")"
   ]
  },
  {
   "cell_type": "markdown",
   "id": "ae58a6b5-3ef4-4933-b6b5-7e7583dac3fc",
   "metadata": {},
   "source": [
    "# [Create AI Foundry Agent Client](https://learn.microsoft.com/en-us/python/api/overview/azure/ai-agents-readme?view=azure-python-preview)\n",
    "**Note**: I could create the `project` client rather than the `agent` client, however this is easier to read.<br/>\n",
    "Please consider that `project_client.agens == agents_client`"
   ]
  },
  {
   "cell_type": "code",
   "execution_count": 2,
   "id": "5a9abb62-b855-402f-9e22-583ffe6bf8cb",
   "metadata": {},
   "outputs": [
    {
     "data": {
      "text/plain": [
       "<azure.ai.agents._patch.AgentsClient at 0x75c8087ed400>"
      ]
     },
     "execution_count": 2,
     "metadata": {},
     "output_type": "execute_result"
    }
   ],
   "source": [
    "from azure.ai.agents import AgentsClient\n",
    "from azure.identity import DefaultAzureCredential\n",
    "\n",
    "agents_client = AgentsClient(\n",
    "    endpoint=project_endpoint,\n",
    "    credential=DefaultAzureCredential(),\n",
    ")\n",
    "\n",
    "agents_client"
   ]
  },
  {
   "cell_type": "markdown",
   "id": "7c0231d0-ec4f-4cd8-af78-586bd8ca165a",
   "metadata": {},
   "source": [
    "# Check if we have any files already on Azure AI Foundry\n",
    "For better clarity, we delete all pre-existing files, if present"
   ]
  },
  {
   "cell_type": "code",
   "execution_count": 3,
   "id": "854edc2c-78b5-4416-8f38-7c616163ea05",
   "metadata": {},
   "outputs": [
    {
     "name": "stdout",
     "output_type": "stream",
     "text": [
      "1 - File <product_info_1.md> (assistant-W37gxZUXm9ViQtAfrADVhE) has been deleted\n",
      "Files deleted: 1\n",
      "\n"
     ]
    }
   ],
   "source": [
    "# delete all files\n",
    "\n",
    "i=0\n",
    "for file in agents_client.files.list()[\"data\"]:\n",
    "    i += 1\n",
    "    agents_client.files.delete(file_id=file.id)\n",
    "    print(f\"{i} - File <{file.filename}> ({file.id}) has been deleted\")\n",
    "\n",
    "print(f\"Files deleted: {i}\\n\")"
   ]
  },
  {
   "cell_type": "markdown",
   "id": "bc5695ad-7bcf-4e3d-95bc-c5fe4e42b72d",
   "metadata": {},
   "source": [
    "# Upload file(s) to search into"
   ]
  },
  {
   "cell_type": "code",
   "execution_count": 4,
   "id": "bacc85a3-ecc7-4172-84f6-f9733e6999a1",
   "metadata": {},
   "outputs": [
    {
     "name": "stdout",
     "output_type": "stream",
     "text": [
      "Uploaded file: {'object': 'file', 'id': 'assistant-Vtms6WgDc6e3TJDkDY6FTV', 'purpose': 'assistants', 'filename': 'product_info_1.md', 'bytes': 10999, 'created_at': 1748682887, 'expires_at': None, 'status': 'processed', 'status_details': None}\n"
     ]
    }
   ],
   "source": [
    "file = agents_client.files.upload_and_poll(file_path=\"./product_info_1.md\", purpose=\"assistants\")\n",
    "print(f\"Uploaded file: {file}\")"
   ]
  },
  {
   "cell_type": "markdown",
   "id": "13e70849-afce-4cf3-8a07-9840d65d12f8",
   "metadata": {},
   "source": [
    "# Create a vector store to vectorize file(s)"
   ]
  },
  {
   "cell_type": "code",
   "execution_count": 5,
   "id": "9a848220-84d9-4f0d-a8d2-59cb9c1b59d0",
   "metadata": {},
   "outputs": [
    {
     "name": "stdout",
     "output_type": "stream",
     "text": [
      "Created vector store <{'id': 'vs_iohVcgQmfeviO3zZyZLLPJh4', 'object': 'vector_store', 'name': 'my_vectorstore', 'status': 'completed', 'usage_bytes': 17143, 'created_at': 1748682890, 'file_counts': {'in_progress': 0, 'completed': 1, 'failed': 0, 'cancelled': 0, 'total': 1}, 'metadata': {}, 'expires_after': None, 'expires_at': None, 'last_active_at': 1748682890}>\n",
      "\n",
      "...and uploaded file \"product_info_1.md\".\n"
     ]
    }
   ],
   "source": [
    "vector_store = agents_client.vector_stores.create_and_poll(file_ids=[file.id], name=\"my_vectorstore\")\n",
    "print(f'Created vector store <{vector_store}>\\n\\n...and uploaded file \"{file.filename}\".')"
   ]
  },
  {
   "cell_type": "markdown",
   "id": "80675f20-b8ad-4847-9c09-947db58d7e1c",
   "metadata": {},
   "source": [
    "# Create [FileSearchTool](https://learn.microsoft.com/en-us/python/api/overview/azure/ai-agents-readme?view=azure-python-preview#create-agent-with-file-search) with resources followed by creating agent"
   ]
  },
  {
   "cell_type": "code",
   "execution_count": 6,
   "id": "a9aac204-8ba4-46ae-9c59-c8ce6343f630",
   "metadata": {},
   "outputs": [
    {
     "name": "stdout",
     "output_type": "stream",
     "text": [
      "file_search.definitions: [{'type': 'file_search'}]\n",
      "file_search.resources: {'file_search': {'vector_store_ids': ['vs_iohVcgQmfeviO3zZyZLLPJh4']}}\n"
     ]
    }
   ],
   "source": [
    "from azure.ai.agents.models import FileSearchTool\n",
    "file_search_tool = FileSearchTool(vector_store_ids=[vector_store.id])\n",
    "print(f\"file_search.definitions: {file_search_tool.definitions}\")\n",
    "print(f\"file_search.resources: {file_search_tool.resources}\")"
   ]
  },
  {
   "cell_type": "markdown",
   "id": "d61b4a06-f13d-4eb6-9004-3dac76ffa998",
   "metadata": {},
   "source": [
    "# Create AI Foundry Agent"
   ]
  },
  {
   "cell_type": "code",
   "execution_count": 7,
   "id": "f05bd637-4b8b-49cc-9eec-c711d76638a2",
   "metadata": {},
   "outputs": [
    {
     "name": "stdout",
     "output_type": "stream",
     "text": [
      "Created agent, agent ID: asst_bjYll1MatPFVXV1I3cGzJdAX,\n",
      "agent items: <bound method _MyMutableMapping.items of {'id': 'asst_bjYll1MatPFVXV1I3cGzJdAX', 'object': 'assistant', 'created_at': 1748682892, 'name': 'my-agent', 'description': None, 'model': 'gpt-4o', 'instructions': 'You are helpful agent', 'tools': [{'type': 'file_search'}], 'top_p': 1.0, 'temperature': 1.0, 'tool_resources': {'file_search': {'vector_store_ids': ['vs_iohVcgQmfeviO3zZyZLLPJh4']}}, 'metadata': {}, 'response_format': 'auto'}>\n"
     ]
    }
   ],
   "source": [
    "# using project_client.agents...\n",
    "ai_agent = agents_client.create_agent(\n",
    "    model=os.environ[\"MODEL_DEPLOYMENT_NAME\"],\n",
    "    name=\"my-agent\",\n",
    "    instructions=\"You are helpful agent\",\n",
    "    tools=file_search_tool.definitions,\n",
    "    tool_resources=file_search_tool.resources,\n",
    ")\n",
    "\n",
    "print(f\"Created agent, agent ID: {ai_agent.id},\\nagent items: {ai_agent.items}\")"
   ]
  },
  {
   "cell_type": "markdown",
   "id": "8303905a-4c41-48a3-bec8-41f334ce205f",
   "metadata": {},
   "source": [
    "# Create the thread and attach a new message to it"
   ]
  },
  {
   "cell_type": "code",
   "execution_count": 8,
   "id": "844bb8dc-c6f3-4f0e-90eb-461e756cf5ea",
   "metadata": {},
   "outputs": [
    {
     "name": "stdout",
     "output_type": "stream",
     "text": [
      "Created thread: {'id': 'thread_JnAPn2AANhatQPrLKGIJnpkb', 'object': 'thread', 'created_at': 1748682892, 'metadata': {}, 'tool_resources': {}}\n",
      "\n"
     ]
    }
   ],
   "source": [
    "from azure.ai.agents.models import MessageRole\n",
    "\n",
    "# Create a thread\n",
    "thread = agents_client.threads.create()\n",
    "print(f\"Created thread: {thread}\\n\")\n",
    "\n",
    "message = agents_client.messages.create(\n",
    "    thread_id=thread.id,\n",
    "    role=MessageRole.USER,\n",
    "    content=\"Hello, how much for the TrailMaster?\",\n",
    ")"
   ]
  },
  {
   "cell_type": "markdown",
   "id": "f5e6dd3c-9fda-4d73-bacd-a25fa277b804",
   "metadata": {},
   "source": [
    "# Run the agent syncrhonously"
   ]
  },
  {
   "cell_type": "code",
   "execution_count": 9,
   "id": "7b4c9562-2836-4401-af36-9005d9fc41f3",
   "metadata": {},
   "outputs": [
    {
     "name": "stdout",
     "output_type": "stream",
     "text": [
      "Run finished with status: RunStatus.COMPLETED.\n",
      "\n",
      "Run: {'id': 'run_c3IqGuCgnuUG1at5HtOzeOrh', 'object': 'thread.run', 'created_at': 1748682894, 'assistant_id': 'asst_bjYll1MatPFVXV1I3cGzJdAX', 'thread_id': 'thread_JnAPn2AANhatQPrLKGIJnpkb', 'status': 'completed', 'started_at': 1748682894, 'expires_at': None, 'cancelled_at': None, 'failed_at': None, 'completed_at': 1748682896, 'required_action': None, 'last_error': None, 'model': 'gpt-4o', 'instructions': 'You are helpful agent', 'tools': [{'type': 'file_search'}], 'tool_resources': {}, 'metadata': {}, 'temperature': 1.0, 'top_p': 1.0, 'max_completion_tokens': None, 'max_prompt_tokens': None, 'truncation_strategy': {'type': 'auto', 'last_messages': None}, 'incomplete_details': None, 'usage': {'prompt_tokens': 6043, 'completion_tokens': 35, 'total_tokens': 6078, 'prompt_token_details': {'cached_tokens': 0}}, 'response_format': 'auto', 'tool_choice': 'auto', 'parallel_tool_calls': True}\n",
      "CPU times: user 12.3 ms, sys: 180 μs, total: 12.4 ms\n",
      "Wall time: 4.12 s\n"
     ]
    }
   ],
   "source": [
    "%%time\n",
    "\n",
    "# Run the agent\n",
    "run = agents_client.runs.create_and_process\\\n",
    "    (thread_id=thread.id, agent_id=ai_agent.id)\n",
    "\n",
    "print(f\"Run finished with status: {run.status}.\\n\\nRun: {run}\")\n",
    "\n",
    "if run.status == \"failed\":\n",
    "    # Check if you got \"Rate limit is exceeded.\", then you want to get more quota\n",
    "    print(f\"Run failed: {run.last_error}\")"
   ]
  },
  {
   "cell_type": "markdown",
   "id": "c7bef1f6-ee31-4027-ab4d-37fb57d9158d",
   "metadata": {},
   "source": [
    "# Fetch messages from the thread after the agent run execution"
   ]
  },
  {
   "cell_type": "code",
   "execution_count": 10,
   "id": "b6a0e76c-d430-4ba6-b057-fb4102b4d6a8",
   "metadata": {},
   "outputs": [
    {
     "name": "stdout",
     "output_type": "stream",
     "text": [
      "Here are the 2 messages:\n",
      "\n",
      "\n",
      "===== MESSAGE 1 =====\n",
      "\n",
      "Message 1 / CONTENT 1 (MessageTextContent) --> Text: Hello, how much for the TrailMaster?\n",
      "\n",
      "===== MESSAGE 2 =====\n",
      "\n",
      "Message 2 / CONTENT 1 (MessageTextContent) --> Text: The TrailMaster X4 Tent is priced at $250【4:0†source】.\n",
      ">>> Citation in MessageTextContent 1 of message 2: {'type': 'file_citation', 'text': '【4:0†source】', 'start_index': 41, 'end_index': 53, 'file_citation': {'file_id': 'assistant-Vtms6WgDc6e3TJDkDY6FTV'}}\n",
      "\n"
     ]
    }
   ],
   "source": [
    "from azure.ai.agents.models import (MessageTextContent, MessageImageFileContent, MessageTextFileCitationAnnotation, \\\n",
    "    MessageTextFilePathAnnotation, MessageTextUrlCitationAnnotation)\n",
    "\n",
    "image_files = []\n",
    "annotations = []\n",
    "citations = []\n",
    "citation_annotations = []\n",
    "\n",
    "if run.status == 'completed':\n",
    "    messages = agents_client.messages.list(thread_id=thread.id)\n",
    "    messages_list = list(agents_client.messages.list(thread_id=thread.id))  # Convert iterator to a list\n",
    "    messages_nr = len(messages_list)\n",
    "    print(f\"Here are the {messages_nr} messages:\\n\")\n",
    "    \n",
    "    for i, message in enumerate(reversed(messages_list), 1):\n",
    "        j = 0\n",
    "        print(f\"\\n===== MESSAGE {i} =====\")\n",
    "        for c in message.content:\n",
    "            j +=1\n",
    "            if (type(c) is MessageTextContent):\n",
    "                print(f\"\\nMessage {i} / CONTENT {j} (MessageTextContent) --> Text: {c.text.value}\")\n",
    "                for a in c.text.annotations:\n",
    "                    if type(a) is MessageTextFileCitationAnnotation:\n",
    "                        print(f\">>> Citation in MessageTextContent {j} of message {i}: {a}\\n\")\n",
    "                        citations.append(a)\n",
    "                    elif type(a) is MessageTextFilePathAnnotation:\n",
    "                        print(f\">>> Annotation in MessageTextContent {j} of message {i}: {a}\\n\")\n",
    "                        annotations.append(a)\n",
    "                    elif type(a) is MessageTextUrlCitationAnnotation:\n",
    "                        print(f\">>> Annotation in MessageTextContent {j} of message {i}: {a}\\n\")\n",
    "                        citation_annotations.append(a)\n",
    "                    else:\n",
    "                        print(f\"Unknown type {type(a)}\")\n",
    "            elif (type(c) is MessageImageFileContent):\n",
    "                print(f\"\\nMessage {i} / CONTENT {j} (MessageImageFileContent) --> image_file id: {c.image_file.file_id}\")\n",
    "                image_files.append(c.image_file.file_id)\n",
    "            else:\n",
    "                print(f\"Unknown type {type(a)}\")\n",
    "\n",
    "else:\n",
    "    print(f\"Sorry, I can't proceed because the run status is {run.status}\")"
   ]
  },
  {
   "cell_type": "code",
   "execution_count": 11,
   "id": "58091787-97d6-4812-b463-4c3d6166bfdc",
   "metadata": {},
   "outputs": [
    {
     "name": "stdout",
     "output_type": "stream",
     "text": [
      "The TrailMaster X4 Tent is priced at $250【4:0†source】.\n"
     ]
    }
   ],
   "source": [
    "# Get the last message from the sender\n",
    "last_msg = list(agents_client.messages.list(thread_id=thread.id))[0]\n",
    "\n",
    "if last_msg:\n",
    "    print(last_msg.content[0].text.value)"
   ]
  },
  {
   "cell_type": "markdown",
   "id": "b6f35c56-b209-43a0-b497-946f88853db6",
   "metadata": {},
   "source": [
    "# Fetch citations from the messages"
   ]
  },
  {
   "cell_type": "code",
   "execution_count": 12,
   "id": "1db49012-542e-47b5-b485-0f677bbad8bd",
   "metadata": {},
   "outputs": [
    {
     "name": "stdout",
     "output_type": "stream",
     "text": [
      "Nr. of file path citations: 1\n",
      "\n",
      "1 - citation: {'type': 'file_citation', 'text': '【4:0†source】', 'start_index': 41, 'end_index': 53, 'file_citation': {'file_id': 'assistant-Vtms6WgDc6e3TJDkDY6FTV'}}\n"
     ]
    }
   ],
   "source": [
    "print (f\"Nr. of file path citations: {len(citations)}\\n\")\n",
    "\n",
    "i=0\n",
    "for a in citations:\n",
    "    i += 1\n",
    "    print(f\"{i} - citation: {a}\")"
   ]
  },
  {
   "cell_type": "markdown",
   "id": "99b0cf9f-18ac-4581-8066-858550fb7acb",
   "metadata": {},
   "source": [
    "# Print citation_annotations from the messages"
   ]
  },
  {
   "cell_type": "code",
   "execution_count": 13,
   "id": "1ee8358e-9f75-4ce0-99b6-a855bfd6535e",
   "metadata": {},
   "outputs": [
    {
     "name": "stdout",
     "output_type": "stream",
     "text": [
      "Nr. of citation_annotations: 0\n",
      "\n"
     ]
    }
   ],
   "source": [
    "print (f\"Nr. of citation_annotations: {len(annotations)}\\n\")\n",
    "\n",
    "i=0\n",
    "for ca in citation_annotations:\n",
    "    i += 1\n",
    "    print(f\"{i} - citation_annotations {ca.text}: {ca.url_citation} (from {ca.start_index} to {ca.end_index})\")"
   ]
  },
  {
   "cell_type": "markdown",
   "id": "0bbe02ec-2f05-41c9-bad3-05a6f0e3b7cc",
   "metadata": {},
   "source": [
    "# Retrieve and download eventual annotations"
   ]
  },
  {
   "cell_type": "code",
   "execution_count": 14,
   "id": "aeb23d81-15b1-476b-8a34-6e99cd5c4258",
   "metadata": {},
   "outputs": [
    {
     "name": "stdout",
     "output_type": "stream",
     "text": [
      "Nr. of file path annotations: 0\n",
      "\n"
     ]
    }
   ],
   "source": [
    "print (f\"Nr. of file path annotations: {len(annotations)}\\n\")\n",
    "\n",
    "i=0\n",
    "for a in annotations:\n",
    "    i += 1\n",
    "    print(f\"{i} - File annotation paths: {a.text}\")\n",
    "    file_name = a.text.split('/')[-1]\n",
    "    file_id = a.file_path.file_id\n",
    "\n",
    "    #agents_client.files.save(file_id=file_id, file_name=file_name)\n",
    "    agents_client.files.save(file_id=file_id, file_name=file_name)\n",
    "    print(f\"\\n>>> file <{file_id}> saved as <{file_name}>\")\n",
    "    \n",
    "    # project_client.agents.save_file(file_id=file_path_annotation.file_path.file_id, file_name=file_name)\n",
    "    print(f\"File annotation {i} saved as file to: {os.getcwd()}/{file_name}\")\n",
    "    image = mpimg.imread(f\"{os.getcwd()}/{file_name}\") # read the image\n",
    "    plt.imshow(image)\n",
    "    plt.show()"
   ]
  },
  {
   "cell_type": "markdown",
   "id": "bd37557b-f640-47e6-b36b-28b52267764c",
   "metadata": {},
   "source": [
    "# Retrieve eventual citations"
   ]
  },
  {
   "cell_type": "code",
   "execution_count": 15,
   "id": "d9b50f2e-2cca-483c-89c4-dab6a8f3d6d2",
   "metadata": {},
   "outputs": [
    {
     "name": "stdout",
     "output_type": "stream",
     "text": [
      "Nr. of file path citations: 1\n",
      "\n",
      "1 - citation: {'type': 'file_citation', 'text': '【4:0†source】', 'start_index': 41, 'end_index': 53, 'file_citation': {'file_id': 'assistant-Vtms6WgDc6e3TJDkDY6FTV'}}\n"
     ]
    }
   ],
   "source": [
    "print (f\"Nr. of file path citations: {len(citations)}\\n\")\n",
    "\n",
    "i=0\n",
    "for a in citations:\n",
    "    i += 1\n",
    "    print(f\"{i} - citation: {a}\")"
   ]
  },
  {
   "cell_type": "markdown",
   "id": "77b081de-b3b4-4c2d-a4ae-679054d4224b",
   "metadata": {},
   "source": [
    "# Retrieve and download eventual images"
   ]
  },
  {
   "cell_type": "code",
   "execution_count": 16,
   "id": "cc66b6b9-ed58-4487-8090-8d7ece3a12ef",
   "metadata": {},
   "outputs": [
    {
     "name": "stdout",
     "output_type": "stream",
     "text": [
      "Nr. of image contents: 0\n",
      "\n"
     ]
    }
   ],
   "source": [
    "print (f\"Nr. of image contents: {len(image_files)}\\n\")\n",
    "\n",
    "i=0\n",
    "# Generate an image file for the bar chart\n",
    "for image_file in image_files:\n",
    "    i += 1\n",
    "    print(f\"{i} - Image file id: {image_file}\")\n",
    "    file_name = f\"{image_file}.png\"\n",
    "    agents_client.files.save(file_id=image_file, file_name=file_name)\n",
    "    print(f\"Image content {i} file to: {os.getcwd()}/{file_name}\")\n",
    "    image = mpimg.imread(f\"{os.getcwd()}/{file_name}\") # read the image\n",
    "    plt.imshow(image)\n",
    "    plt.show()"
   ]
  },
  {
   "cell_type": "markdown",
   "id": "648320cc-d8a9-41c6-b7f8-f64ea45a6580",
   "metadata": {},
   "source": [
    "# Collect all resources for this project"
   ]
  },
  {
   "cell_type": "code",
   "execution_count": 17,
   "id": "9545f511-10cb-431a-a188-a9eec43abaf4",
   "metadata": {},
   "outputs": [
    {
     "name": "stdout",
     "output_type": "stream",
     "text": [
      "5 agents\n",
      "5 threads\n",
      "1 files\n",
      "4 runs in 5 threads\n",
      "1 vector stores\n"
     ]
    }
   ],
   "source": [
    "all_agents = list_all_agents(client=agents_client)\n",
    "print(all_agents[\"summary\"])\n",
    "\n",
    "all_threads = list_all_threads(client=agents_client)\n",
    "print(all_threads[\"summary\"])\n",
    "\n",
    "all_files = list_all_files(client=agents_client)\n",
    "print(all_files[\"summary\"])\n",
    "\n",
    "all_runs = list_all_runs(client=agents_client)\n",
    "print(all_runs[\"summary\"])\n",
    "\n",
    "# all_runsteps=list_all_runsteps(project_client)\n",
    "# print(all_runsteps[\"summary\"])\n",
    "\n",
    "# all_messages = list_all_messages(project_client)\n",
    "# print(all_messages[\"summary\"])\n",
    "\n",
    "all_vectorstores = list_all_vectorstores(client=agents_client)\n",
    "print(all_vectorstores[\"summary\"])"
   ]
  },
  {
   "cell_type": "markdown",
   "id": "01e37364-f513-483c-9e8e-caecb1af61f8",
   "metadata": {},
   "source": [
    "# Teardown for all resources"
   ]
  },
  {
   "cell_type": "code",
   "execution_count": 18,
   "id": "30413d58-d1ee-4518-b8f0-cea395230e9b",
   "metadata": {},
   "outputs": [
    {
     "name": "stdout",
     "output_type": "stream",
     "text": [
      "1 - Vector store <vs_iohVcgQmfeviO3zZyZLLPJh4> has been deleted\n",
      "Vector stores deleted: 1\n",
      "\n"
     ]
    }
   ],
   "source": [
    "# delete all vector stores\n",
    "\n",
    "i=0\n",
    "for vector_store in all_vectorstores[\"content\"]:\n",
    "    i += 1\n",
    "    agents_client.vector_stores.delete(vector_store_id=vector_store.id)\n",
    "    print(f\"{i} - Vector store <{vector_store.id}> has been deleted\")\n",
    "\n",
    "all_vectorstores = list_all_vectorstores(client=agents_client)\n",
    "\n",
    "print(f\"Vector stores deleted: {i}\\n\")"
   ]
  },
  {
   "cell_type": "code",
   "execution_count": 19,
   "id": "58c5a16d-b7ae-46b9-b731-82632dd6d2c6",
   "metadata": {},
   "outputs": [
    {
     "name": "stdout",
     "output_type": "stream",
     "text": [
      "1 - File <product_info_1.md> (assistant-Vtms6WgDc6e3TJDkDY6FTV) has been deleted\n",
      "Files deleted: 1\n",
      "\n"
     ]
    }
   ],
   "source": [
    "# delete all files\n",
    "\n",
    "i=0\n",
    "for file in all_files['content']:\n",
    "    i += 1\n",
    "    agents_client.files.delete(file_id=file.id)\n",
    "    print(f\"{i} - File <{file.filename}> ({file.id}) has been deleted\")\n",
    "\n",
    "all_files = list_all_files(client=agents_client)\n",
    "\n",
    "print(f\"Files deleted: {i}\\n\")"
   ]
  },
  {
   "cell_type": "code",
   "execution_count": 20,
   "id": "5d5fc0c0-92eb-44d3-99ad-ca6621ced00f",
   "metadata": {},
   "outputs": [
    {
     "name": "stdout",
     "output_type": "stream",
     "text": [
      "1 - Thread <thread_JnAPn2AANhatQPrLKGIJnpkb> has been deleted\n",
      "2 - Thread <thread_jg2EetPz79RgvzIueCuffRjO> has been deleted\n",
      "3 - Thread <thread_Ybb66RPvpOPqRwTx4hlSk6zq> has been deleted\n",
      "4 - Thread <thread_Z1ey4T85LCumglQoAL9AEkrB> has been deleted\n",
      "5 - Thread <thread_LoZ3qntfyyjxXYqmFWgHyj9y> has been deleted\n",
      "Threads deleted: 5\n",
      "\n"
     ]
    }
   ],
   "source": [
    "# delete all threads\n",
    "\n",
    "i=0\n",
    "for thread in all_threads[\"content\"]:\n",
    "    i += 1\n",
    "    agents_client.threads.delete(thread_id=thread.id)\n",
    "    print(f\"{i} - Thread <{thread.id}> has been deleted\")\n",
    "\n",
    "all_threads = list_all_threads(client=agents_client)\n",
    "\n",
    "print(f\"Threads deleted: {i}\\n\")"
   ]
  },
  {
   "cell_type": "code",
   "execution_count": 21,
   "id": "3f2c26d3-384b-4ede-9481-dbc5e120de31",
   "metadata": {},
   "outputs": [
    {
     "name": "stdout",
     "output_type": "stream",
     "text": [
      "1 - Agent <asst_bjYll1MatPFVXV1I3cGzJdAX> has been deleted\n",
      "2 - Agent <asst_zpDWEyXpy1Q6JPhEDYAIzGpn> has been deleted\n",
      "3 - Agent <asst_kwp4bA5MptiGPK4vEqcFrb9s> has been deleted\n",
      "4 - Agent <asst_VDGVN29tQw7dA9vyzClTqdEh> has been deleted\n",
      "5 - Agent <asst_mq0WeMnh62QU0uZ07NsY7yPA> has been deleted\n",
      "Agents deleted: 5\n",
      "\n"
     ]
    }
   ],
   "source": [
    "# delete all agents\n",
    "\n",
    "i=0\n",
    "for agent in all_agents[\"content\"]:\n",
    "    i += 1\n",
    "    agents_client.delete_agent(agent_id=agent.id)\n",
    "    print(f\"{i} - Agent <{agent.id}> has been deleted\")\n",
    "\n",
    "all_agents = list_all_agents(client=agents_client)\n",
    "\n",
    "print(f\"Agents deleted: {i}\\n\")"
   ]
  },
  {
   "cell_type": "markdown",
   "id": "c8cc2b04-a0b3-45ee-9066-4306e16511f9",
   "metadata": {},
   "source": [
    "# HIC SUNT LEONES"
   ]
  }
 ],
 "metadata": {
  "kernelspec": {
   "display_name": "aaas_new",
   "language": "python",
   "name": "aaas_new"
  },
  "language_info": {
   "codemirror_mode": {
    "name": "ipython",
    "version": 3
   },
   "file_extension": ".py",
   "mimetype": "text/x-python",
   "name": "python",
   "nbconvert_exporter": "python",
   "pygments_lexer": "ipython3",
   "version": "3.13.2"
  }
 },
 "nbformat": 4,
 "nbformat_minor": 5
}
