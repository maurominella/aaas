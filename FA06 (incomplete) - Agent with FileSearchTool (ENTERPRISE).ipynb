{
 "cells": [
  {
   "cell_type": "markdown",
   "id": "1d6b89e2-df9b-4fcd-95f0-fd73e7dba9a8",
   "metadata": {},
   "source": [
    "# [Create Agent with Enterprise File Search](https://learn.microsoft.com/en-us/python/api/overview/azure/ai-projects-readme?view=azure-python-preview#create-agent-with-enterprise-file-search)\n",
    "We can upload file to Azure as it is shown in this example, or use the existing Azure blob storage.<br/><br/>\n",
    "**IMPORTANT**: the interactive user must have the `Storage Blob Data Contributor` role on the Azure Storage Account.\n",
    "<br/><br/>\n",
    "In the code below, we demonstrate how this can be achieved:\n",
    "- first, we upload file to azure and create `VectorStoreDataSource`, which then is used to create a `VectorStore`;\n",
    "- then, this vector store is given to the `FileSearchTool` constructor to creates embeddings for it."
   ]
  },
  {
   "cell_type": "markdown",
   "id": "7d2b2549-9e38-4645-b7cc-d93943ff2c58",
   "metadata": {},
   "source": [
    "# Constants"
   ]
  },
  {
   "cell_type": "code",
   "execution_count": 1,
   "id": "98d9cc9d-cbef-4b35-a4a3-84802dd4ee06",
   "metadata": {},
   "outputs": [
    {
     "name": "stdout",
     "output_type": "stream",
     "text": [
      "Environment variables have been loaded ;-)\n",
      "Project Endpoint: <https://mmai-swc-new01-prj-resource.services.ai.azure.com/api/projects/mmai-swc-new01-prj>\n",
      "azure-ai-projects library installed version: 1.0.0b11\n",
      "azure-ai-agents library installed version: 1.1.0b1\n"
     ]
    }
   ],
   "source": [
    "import os\n",
    "from IPython.display import Markdown, display\n",
    "from dotenv import load_dotenv # requires python-dotenv\n",
    "from PIL import Image # requires pip install pillow\n",
    "from datetime import datetime\n",
    "from common.agents_helper_functions_NEW import *\n",
    "import importlib.metadata\n",
    "import matplotlib.pyplot as plt\n",
    "import matplotlib.image as mpimg\n",
    "\n",
    "if not load_dotenv(\"./../config/credentials_my.env\"):\n",
    "    print(\"Environment variables not loaded, cell execution stopped\")\n",
    "else:\n",
    "    print(\"Environment variables have been loaded ;-)\")\n",
    "\n",
    "\n",
    "project_endpoint = os.environ[\"PROJECT_ENDPOINT\"]\n",
    "deployment_name =  os.environ[\"MODEL_DEPLOYMENT_NAME\"]\n",
    "api_version = os.environ[\"OPENAI_API_VERSION\"] # at least \"2025-03-01-preview\"\n",
    "\n",
    "print(f'Project Endpoint: <{project_endpoint}>')\n",
    "print(f\"azure-ai-projects library installed version: {importlib.metadata.version(\"azure-ai-projects\")}\")\n",
    "print(f\"azure-ai-agents library installed version: {importlib.metadata.version(\"azure-ai-agents\")}\")"
   ]
  },
  {
   "cell_type": "markdown",
   "id": "28ff5acf-4949-40fa-8530-de35acbdb2b1",
   "metadata": {},
   "source": [
    "# Create AI Foundry Project Client"
   ]
  },
  {
   "cell_type": "code",
   "execution_count": 2,
   "id": "5a9abb62-b855-402f-9e22-583ffe6bf8cb",
   "metadata": {},
   "outputs": [
    {
     "data": {
      "text/plain": [
       "<azure.ai.projects._patch.AIProjectClient at 0x7dd330a49400>"
      ]
     },
     "execution_count": 2,
     "metadata": {},
     "output_type": "execute_result"
    }
   ],
   "source": [
    "from azure.ai.projects import AIProjectClient\n",
    "from azure.identity import DefaultAzureCredential\n",
    "\n",
    "project_client = AIProjectClient(\n",
    "    endpoint=project_endpoint,\n",
    "    credential=DefaultAzureCredential(),\n",
    ")\n",
    "\n",
    "project_client"
   ]
  },
  {
   "cell_type": "markdown",
   "id": "afc3ed0a-e08a-4062-a92a-23739fbb293d",
   "metadata": {},
   "source": [
    "# Upload files/folders as a [Dataset](https://learn.microsoft.com/en-us/python/api/overview/azure/ai-projects-readme?view=azure-python-preview)"
   ]
  },
  {
   "cell_type": "code",
   "execution_count": 3,
   "id": "95e2aa19-9b12-4f25-8302-26f2d72d59c6",
   "metadata": {},
   "outputs": [
    {
     "data": {
      "text/plain": [
       "[{'id': 'azureai://accounts/mmai-swc-new01-prj-resource/projects/mmai-swc-new01-prj/data/5/versions/5', 'name': '5', 'version': '5', 'displayName': '5', 'description': None, 'tags': None, 'type': 'uri_file', 'isReference': False, 'dataUri': 'https://mmaiswcnew01prj1storage.blob.core.windows.net/mmai-swc-n-eba90019-5056-588e-bdf8-2de10611f129/product_info_1.md', 'connectionName': None, 'systemData': {'createdAt': '2025-05-29T13:27:31.0617151+00:00', 'createdBy': 'Mauro Minella', 'createdByType': None, 'lastModifiedAt': '2025-05-29T13:27:31.0617151+00:00'}},\n",
       " {'id': 'azureai://accounts/mmai-swc-new01-prj-resource/projects/mmai-swc-new01-prj/data/4/versions/4', 'name': '4', 'version': '4', 'displayName': '4', 'description': None, 'tags': None, 'type': 'uri_file', 'isReference': False, 'dataUri': 'https://mmaiswcnew01prj1storage.blob.core.windows.net/mmai-swc-n-6a0f6d6b-ef85-5418-8e60-e9beccd4367e/product_info_1.md', 'connectionName': None, 'systemData': {'createdAt': '2025-05-29T13:05:47.9995154+00:00', 'createdBy': 'Mauro Minella', 'createdByType': None, 'lastModifiedAt': '2025-05-29T13:05:47.9995154+00:00'}},\n",
       " {'id': 'azureai://accounts/mmai-swc-new01-prj-resource/projects/mmai-swc-new01-prj/data/3/versions/3', 'name': '3', 'version': '3', 'displayName': '3', 'description': None, 'tags': None, 'type': 'uri_file', 'isReference': False, 'dataUri': 'https://mmaiswcnew01prj1storage.blob.core.windows.net/mmai-swc-n-28804a30-ad7c-59ae-a716-6a0ec7dd69af/product_info_1.md', 'connectionName': None, 'systemData': {'createdAt': '2025-05-29T13:01:49.4560246+00:00', 'createdBy': 'Mauro Minella', 'createdByType': None, 'lastModifiedAt': '2025-05-29T13:01:49.4560246+00:00'}},\n",
       " {'id': 'azureai://accounts/mmai-swc-new01-prj-resource/projects/mmai-swc-new01-prj/data/2/versions/2', 'name': '2', 'version': '2', 'displayName': '2', 'description': None, 'tags': None, 'type': 'uri_file', 'isReference': False, 'dataUri': 'https://mmaiswcnew01prj1storage.blob.core.windows.net/mmai-swc-n-93776118-ec5a-5382-9871-cadb319c4066/product_info_1.md', 'connectionName': None, 'systemData': {'createdAt': '2025-05-29T12:56:09.6396691+00:00', 'createdBy': 'Mauro Minella', 'createdByType': None, 'lastModifiedAt': '2025-05-29T12:56:09.6396691+00:00'}},\n",
       " {'id': 'azureai://accounts/mmai-swc-new01-prj-resource/projects/mmai-swc-new01-prj/data/1/versions/1', 'name': '1', 'version': '1', 'displayName': '1', 'description': None, 'tags': None, 'type': 'uri_file', 'isReference': False, 'dataUri': 'https://mmaiswcnew01prj1storage.blob.core.windows.net/mmai-swc-n-6019bdf2-ac44-5e32-8fa6-25f7668b01b5/product_info_1.md', 'connectionName': None, 'systemData': {'createdAt': '2025-05-29T12:12:57.7518672+00:00', 'createdBy': 'Mauro Minella', 'createdByType': None, 'lastModifiedAt': '2025-05-29T12:12:57.7518672+00:00'}}]"
      ]
     },
     "execution_count": 3,
     "metadata": {},
     "output_type": "execute_result"
    }
   ],
   "source": [
    "list(project_client.datasets.list())"
   ]
  },
  {
   "cell_type": "code",
   "execution_count": 5,
   "id": "604c096e-cc79-4aa1-8bdd-440ae87c4501",
   "metadata": {},
   "outputs": [
    {
     "name": "stdout",
     "output_type": "stream",
     "text": [
      "Upload a single file and create a new Dataset `mydataset`, version `6`, to reference the file.\n"
     ]
    },
    {
     "data": {
      "text/plain": [
       "{'id': 'azureai://accounts/mmai-swc-new01-prj-resource/projects/mmai-swc-new01-prj/data/6/versions/6', 'name': '6', 'version': '6', 'displayName': '6', 'description': None, 'tags': None, 'type': 'uri_file', 'isReference': False, 'dataUri': 'https://mmaiswcnew01prj1storage.blob.core.windows.net/mmai-swc-n-ead8226a-f700-57d5-964b-908b853d32ba/product_info_1.md', 'connectionName': None, 'systemData': {'createdAt': '2025-05-30T05:48:22.4344808+00:00', 'createdBy': 'Mauro Minella', 'createdByType': None, 'lastModifiedAt': '2025-05-30T05:48:22.4344808+00:00'}}"
      ]
     },
     "execution_count": 5,
     "metadata": {},
     "output_type": "execute_result"
    }
   ],
   "source": [
    "from azure.ai.projects.models import DatasetVersion\n",
    "\n",
    "dataset_name = \"mydataset\"\n",
    "dataset_version = 6\n",
    "file_path=\"./product_info_1.md\"\n",
    "connection_name=\"mmaiswcnew01prj1storage\"\n",
    "\n",
    "print(\n",
    "    f\"Upload a single file and create a new Dataset `{dataset_name}`, version `{dataset_version}`, to reference the file.\"\n",
    ")\n",
    "dataset: DatasetVersion = project_client.datasets.upload_file(\n",
    "    name=dataset_version,\n",
    "    version=dataset_version,\n",
    "    file_path=file_path,\n",
    "    connection_name=connection_name,\n",
    ")\n",
    "\n",
    "dataset # we will use dataset.data_uri"
   ]
  },
  {
   "attachments": {
    "28b4e9c2-418d-4e1e-a950-2c6bcf298f05.png": {
     "image/png": "[encoded data removed]"
    }
   },
   "cell_type": "markdown",
   "id": "96cf0709-b35e-49d1-9ac7-8eef10a826d6",
   "metadata": {},
   "source": [
    "![image.png](attachment:28b4e9c2-418d-4e1e-a950-2c6bcf298f05.png)"
   ]
  },
  {
   "cell_type": "markdown",
   "id": "f4a224a1-b04e-4ec4-963c-c8f61b27017f",
   "metadata": {},
   "source": [
    "# [Enterprise File Search](https://learn.microsoft.com/en-us/python/api/overview/azure/ai-agents-readme?view=azure-python-preview#create-agent-with-enterprise-file-search)\n",
    "## Create a [vector store data source](https://learn.microsoft.com/en-us/python/api/azure-ai-projects/azure.ai.projects.models.vectorstoredatasource?view=azure-python-preview)"
   ]
  },
  {
   "cell_type": "code",
   "execution_count": 6,
   "id": "ec65fd6f-ac86-4dcb-8b66-e152b28423a6",
   "metadata": {},
   "outputs": [
    {
     "name": "stdout",
     "output_type": "stream",
     "text": [
      "Created the following vector store datasource: {'uri': 'azureai://accounts/mmai-swc-new01-prj-resource/projects/mmai-swc-new01-prj/data/6/versions/6', 'type': 'uri_asset'}\n"
     ]
    }
   ],
   "source": [
    "from azure.ai.agents.models import VectorStoreDataSource, VectorStoreDataSourceAssetType\n",
    "\n",
    "# Create a vector store with no file and wait for it to be processed\n",
    "ds = VectorStoreDataSource(asset_identifier=dataset.id, asset_type=VectorStoreDataSourceAssetType.URI_ASSET)\n",
    "print(f\"Created the following vector store datasource: {ds}\")"
   ]
  },
  {
   "cell_type": "code",
   "execution_count": 7,
   "id": "cf578cf0-4f2a-4300-9c10-99d6aa3f44e0",
   "metadata": {},
   "outputs": [
    {
     "ename": "HttpResponseError",
     "evalue": "(None) Invalid request. Vector store configuration is not supported.\nCode: None\nMessage: Invalid request. Vector store configuration is not supported.",
     "output_type": "error",
     "traceback": [
      "\u001b[31m---------------------------------------------------------------------------\u001b[39m",
      "\u001b[31mHttpResponseError\u001b[39m                         Traceback (most recent call last)",
      "\u001b[36mCell\u001b[39m\u001b[36m \u001b[39m\u001b[32mIn[7]\u001b[39m\u001b[32m, line 1\u001b[39m\n\u001b[32m----> \u001b[39m\u001b[32m1\u001b[39m vector_store = \u001b[43mproject_client\u001b[49m\u001b[43m.\u001b[49m\u001b[43magents\u001b[49m\u001b[43m.\u001b[49m\u001b[43mvector_stores\u001b[49m\u001b[43m.\u001b[49m\u001b[43mcreate_and_poll\u001b[49m\u001b[43m(\u001b[49m\u001b[43mdata_sources\u001b[49m\u001b[43m=\u001b[49m\u001b[43m[\u001b[49m\u001b[43mds\u001b[49m\u001b[43m]\u001b[49m\u001b[43m,\u001b[49m\u001b[43m \u001b[49m\u001b[43mname\u001b[49m\u001b[43m=\u001b[49m\u001b[33;43m\"\u001b[39;49m\u001b[33;43msamplevectorstore\u001b[39;49m\u001b[33;43m\"\u001b[39;49m\u001b[43m)\u001b[49m\n\u001b[32m      2\u001b[39m \u001b[38;5;28mprint\u001b[39m(\u001b[33mf\u001b[39m\u001b[33m\"\u001b[39m\u001b[33mCreated vector store, vector store ID: \u001b[39m\u001b[38;5;132;01m{\u001b[39;00mvector_store.id\u001b[38;5;132;01m}\u001b[39;00m\u001b[33m\"\u001b[39m)\n",
      "\u001b[36mFile \u001b[39m\u001b[32m/anaconda/envs/aaas_new/lib/python3.13/site-packages/azure/core/tracing/decorator.py:119\u001b[39m, in \u001b[36mdistributed_trace.<locals>.decorator.<locals>.wrapper_use_tracer\u001b[39m\u001b[34m(*args, **kwargs)\u001b[39m\n\u001b[32m    117\u001b[39m \u001b[38;5;66;03m# If tracing is disabled globally and user didn't explicitly enable it, don't trace.\u001b[39;00m\n\u001b[32m    118\u001b[39m \u001b[38;5;28;01mif\u001b[39;00m user_enabled \u001b[38;5;129;01mis\u001b[39;00m \u001b[38;5;28;01mFalse\u001b[39;00m \u001b[38;5;129;01mor\u001b[39;00m (\u001b[38;5;129;01mnot\u001b[39;00m tracing_enabled \u001b[38;5;129;01mand\u001b[39;00m user_enabled \u001b[38;5;129;01mis\u001b[39;00m \u001b[38;5;28;01mNone\u001b[39;00m):\n\u001b[32m--> \u001b[39m\u001b[32m119\u001b[39m     \u001b[38;5;28;01mreturn\u001b[39;00m \u001b[43mfunc\u001b[49m\u001b[43m(\u001b[49m\u001b[43m*\u001b[49m\u001b[43margs\u001b[49m\u001b[43m,\u001b[49m\u001b[43m \u001b[49m\u001b[43m*\u001b[49m\u001b[43m*\u001b[49m\u001b[43mkwargs\u001b[49m\u001b[43m)\u001b[49m\n\u001b[32m    121\u001b[39m \u001b[38;5;66;03m# Merge span is parameter is set, but only if no explicit parent are passed\u001b[39;00m\n\u001b[32m    122\u001b[39m \u001b[38;5;28;01mif\u001b[39;00m merge_span \u001b[38;5;129;01mand\u001b[39;00m \u001b[38;5;129;01mnot\u001b[39;00m passed_in_parent:\n",
      "\u001b[36mFile \u001b[39m\u001b[32m/anaconda/envs/aaas_new/lib/python3.13/site-packages/azure/ai/agents/operations/_patch.py:1803\u001b[39m, in \u001b[36mVectorStoresOperations.create_and_poll\u001b[39m\u001b[34m(self, body, content_type, file_ids, name, data_sources, expires_after, chunking_strategy, metadata, polling_interval, timeout, **kwargs)\u001b[39m\n\u001b[32m   1800\u001b[39m     \u001b[38;5;28;01mif\u001b[39;00m data_sources:\n\u001b[32m   1801\u001b[39m         store_configuration = _models.VectorStoreConfiguration(data_sources=data_sources)\n\u001b[32m-> \u001b[39m\u001b[32m1803\u001b[39m     vector_store = \u001b[38;5;28;43msuper\u001b[39;49m\u001b[43m(\u001b[49m\u001b[43m)\u001b[49m\u001b[43m.\u001b[49m\u001b[43mcreate\u001b[49m\u001b[43m(\u001b[49m\n\u001b[32m   1804\u001b[39m \u001b[43m        \u001b[49m\u001b[43mfile_ids\u001b[49m\u001b[43m=\u001b[49m\u001b[43mfile_ids\u001b[49m\u001b[43m,\u001b[49m\n\u001b[32m   1805\u001b[39m \u001b[43m        \u001b[49m\u001b[43mstore_configuration\u001b[49m\u001b[43m=\u001b[49m\u001b[43mstore_configuration\u001b[49m\u001b[43m,\u001b[49m\n\u001b[32m   1806\u001b[39m \u001b[43m        \u001b[49m\u001b[43mname\u001b[49m\u001b[43m=\u001b[49m\u001b[43mname\u001b[49m\u001b[43m,\u001b[49m\n\u001b[32m   1807\u001b[39m \u001b[43m        \u001b[49m\u001b[43mexpires_after\u001b[49m\u001b[43m=\u001b[49m\u001b[43mexpires_after\u001b[49m\u001b[43m,\u001b[49m\n\u001b[32m   1808\u001b[39m \u001b[43m        \u001b[49m\u001b[43mchunking_strategy\u001b[49m\u001b[43m=\u001b[49m\u001b[43mchunking_strategy\u001b[49m\u001b[43m,\u001b[49m\n\u001b[32m   1809\u001b[39m \u001b[43m        \u001b[49m\u001b[43mmetadata\u001b[49m\u001b[43m=\u001b[49m\u001b[43mmetadata\u001b[49m\u001b[43m,\u001b[49m\n\u001b[32m   1810\u001b[39m \u001b[43m        \u001b[49m\u001b[43m*\u001b[49m\u001b[43m*\u001b[49m\u001b[43mkwargs\u001b[49m\u001b[43m,\u001b[49m\n\u001b[32m   1811\u001b[39m \u001b[43m    \u001b[49m\u001b[43m)\u001b[49m\n\u001b[32m   1813\u001b[39m \u001b[38;5;28;01mwhile\u001b[39;00m vector_store.status == \u001b[33m\"\u001b[39m\u001b[33min_progress\u001b[39m\u001b[33m\"\u001b[39m:\n\u001b[32m   1815\u001b[39m     \u001b[38;5;28;01mif\u001b[39;00m timeout \u001b[38;5;129;01mis\u001b[39;00m \u001b[38;5;129;01mnot\u001b[39;00m \u001b[38;5;28;01mNone\u001b[39;00m \u001b[38;5;129;01mand\u001b[39;00m (time.monotonic() - curr_time - polling_interval) >= timeout:\n",
      "\u001b[36mFile \u001b[39m\u001b[32m/anaconda/envs/aaas_new/lib/python3.13/site-packages/azure/core/tracing/decorator.py:119\u001b[39m, in \u001b[36mdistributed_trace.<locals>.decorator.<locals>.wrapper_use_tracer\u001b[39m\u001b[34m(*args, **kwargs)\u001b[39m\n\u001b[32m    117\u001b[39m \u001b[38;5;66;03m# If tracing is disabled globally and user didn't explicitly enable it, don't trace.\u001b[39;00m\n\u001b[32m    118\u001b[39m \u001b[38;5;28;01mif\u001b[39;00m user_enabled \u001b[38;5;129;01mis\u001b[39;00m \u001b[38;5;28;01mFalse\u001b[39;00m \u001b[38;5;129;01mor\u001b[39;00m (\u001b[38;5;129;01mnot\u001b[39;00m tracing_enabled \u001b[38;5;129;01mand\u001b[39;00m user_enabled \u001b[38;5;129;01mis\u001b[39;00m \u001b[38;5;28;01mNone\u001b[39;00m):\n\u001b[32m--> \u001b[39m\u001b[32m119\u001b[39m     \u001b[38;5;28;01mreturn\u001b[39;00m \u001b[43mfunc\u001b[49m\u001b[43m(\u001b[49m\u001b[43m*\u001b[49m\u001b[43margs\u001b[49m\u001b[43m,\u001b[49m\u001b[43m \u001b[49m\u001b[43m*\u001b[49m\u001b[43m*\u001b[49m\u001b[43mkwargs\u001b[49m\u001b[43m)\u001b[49m\n\u001b[32m    121\u001b[39m \u001b[38;5;66;03m# Merge span is parameter is set, but only if no explicit parent are passed\u001b[39;00m\n\u001b[32m    122\u001b[39m \u001b[38;5;28;01mif\u001b[39;00m merge_span \u001b[38;5;129;01mand\u001b[39;00m \u001b[38;5;129;01mnot\u001b[39;00m passed_in_parent:\n",
      "\u001b[36mFile \u001b[39m\u001b[32m/anaconda/envs/aaas_new/lib/python3.13/site-packages/azure/ai/agents/operations/_operations.py:3991\u001b[39m, in \u001b[36mVectorStoresOperations.create\u001b[39m\u001b[34m(self, body, file_ids, name, store_configuration, expires_after, chunking_strategy, metadata, **kwargs)\u001b[39m\n\u001b[32m   3989\u001b[39m     map_error(status_code=response.status_code, response=response, error_map=error_map)\n\u001b[32m   3990\u001b[39m     error = _failsafe_deserialize(_models.AgentV1Error, response.json())\n\u001b[32m-> \u001b[39m\u001b[32m3991\u001b[39m     \u001b[38;5;28;01mraise\u001b[39;00m HttpResponseError(response=response, model=error)\n\u001b[32m   3993\u001b[39m \u001b[38;5;28;01mif\u001b[39;00m _stream:\n\u001b[32m   3994\u001b[39m     deserialized = response.iter_bytes()\n",
      "\u001b[31mHttpResponseError\u001b[39m: (None) Invalid request. Vector store configuration is not supported.\nCode: None\nMessage: Invalid request. Vector store configuration is not supported."
     ]
    }
   ],
   "source": [
    "vector_store = project_client.agents.vector_stores.create_and_poll(data_sources=[ds], name=\"samplevectorstore\")\n",
    "print(f\"Created vector store, vector store ID: {vector_store.id}\")"
   ]
  },
  {
   "cell_type": "code",
   "execution_count": null,
   "id": "5ce708da-aa42-404f-85b5-f21a936a432f",
   "metadata": {},
   "outputs": [],
   "source": [
    "# Create a file search tool\n",
    "file_search_tool = FileSearchTool(vector_store_ids=[vector_store.id])"
   ]
  },
  {
   "cell_type": "markdown",
   "id": "2d8afaeb-0eb5-4f30-870e-aa6da6796af2",
   "metadata": {},
   "source": [
    "# Create a file search tool"
   ]
  },
  {
   "cell_type": "code",
   "execution_count": null,
   "id": "3916bbb7-938f-4fbf-a28c-cc5f332c99bf",
   "metadata": {},
   "outputs": [],
   "source": [
    "from azure.ai.agents.models import FileSearchTool\n",
    "file_search_tool = FileSearchTool(vector_store_ids=[vector_store.id])\n",
    "\n",
    "print(f\"file_search_tool.definitions: {file_search_tool.definitions}\")\n",
    "print(f\"file_search_tool.resources: {file_search_tool.resources}\")"
   ]
  },
  {
   "cell_type": "markdown",
   "id": "ab0fb49b-fe9f-4eb3-b788-fdce1124b7c5",
   "metadata": {},
   "source": [
    "# Create AI Foundry Agent"
   ]
  },
  {
   "cell_type": "code",
   "execution_count": null,
   "id": "42375850-6f37-478e-aa4a-a92f6fc82e89",
   "metadata": {},
   "outputs": [],
   "source": [
    "# Agent creation\n",
    "# Notices that FileSearchTool as tool and tool_resources must be added or the assistant unable to search the file\n",
    "agent = project_client.agents.create_agent(\n",
    "    model=deployment_name,\n",
    "    name=\"enterprisefilesearch-agent\",\n",
    "    instructions=\"You are helpful agent\",\n",
    "    tools=file_search_tool.definitions,\n",
    "    tool_resources=file_search_tool.resources\n",
    ")\n",
    "print(f\"Created agent, ID: {agent.id}\")"
   ]
  },
  {
   "cell_type": "markdown",
   "id": "e15cf06b-206b-44d8-a8a6-090d0a70eab7",
   "metadata": {},
   "source": [
    "# Create the thread and attach a new message to it"
   ]
  },
  {
   "cell_type": "code",
   "execution_count": null,
   "id": "e4135670-d792-425e-a29f-e16525f67057",
   "metadata": {},
   "outputs": [],
   "source": [
    "# Create a thread\n",
    "thread = project_client.agents.create_thread()\n",
    "print(f\"Created thread: {thread}\\n\")\n",
    "\n",
    "# Add a user message to the thread\n",
    "message = project_client.agents.create_message(\n",
    "    thread_id=thread.id, \n",
    "    role=\"user\", \n",
    "    content=\"Hello, how much for the TrailMaster?\",\n",
    ")\n",
    "print(f\"Created message: {message}\")"
   ]
  },
  {
   "cell_type": "markdown",
   "id": "d437175c-c66e-4b62-b8dd-d2920283664a",
   "metadata": {},
   "source": [
    "# Run the agent syncrhonously"
   ]
  },
  {
   "cell_type": "code",
   "execution_count": null,
   "id": "7d5a044e-4312-45d0-a4b0-8d7d0c01f071",
   "metadata": {},
   "outputs": [],
   "source": [
    "%%time\n",
    "# Create and process assistant run in thread with tools\n",
    "run = project_client.agents.create_and_process_run\\\n",
    "    (thread_id=thread.id, agent_id=agent.id)\n",
    "\n",
    "print(f\"Run finished with status: {run.status}.\\n\\nRun: {run}\")\n",
    "\n",
    "if run.status == \"failed\":\n",
    "    # Check if you got \"Rate limit is exceeded.\", then you want to get more quota\n",
    "    print(f\"Run failed: {run.last_error}\")"
   ]
  },
  {
   "cell_type": "markdown",
   "id": "f8eded95-4d22-4a03-b15e-0d0b3b56401c",
   "metadata": {},
   "source": [
    "# Fetch messages from the thread after the agent run execution"
   ]
  },
  {
   "cell_type": "code",
   "execution_count": null,
   "id": "49c407b6-54aa-4b0f-9570-756140032054",
   "metadata": {},
   "outputs": [],
   "source": [
    "from azure.ai.projects.models import MessageTextContent, MessageImageFileContent\n",
    "\n",
    "if run.status == 'completed':    \n",
    "    messages = project_client.agents.list_messages(thread_id=thread.id)\n",
    "    messages_nr = len(messages.data)\n",
    "    print(f\"Here are the {messages_nr} messages:\\n\")\n",
    "    \n",
    "    for i, message in enumerate(reversed(messages.data), 1):\n",
    "        j = 0\n",
    "        print(f\"\\n===== MESSAGE {i} =====\")\n",
    "        for c in message.content:\n",
    "            j +=1\n",
    "            if (type(c) is MessageImageFileContent):\n",
    "                print(f\"\\nCONTENT {j} (MessageImageFileContent) --> image_file id: {c.image_file.file_id}\")\n",
    "            elif (type(c) is MessageTextContent):\n",
    "                print(f\"\\nCONTENT {j} (MessageTextContent) --> Text: {c.text.value}\")\n",
    "                for a in c.text.annotations:\n",
    "                    print(f\">>> Annotation in MessageTextContent {j} of message {i}: {a.text}\\n\")\n",
    "\n",
    "else:\n",
    "    print(f\"Sorry, I can't proceed because the run status is {run.status}\")"
   ]
  },
  {
   "cell_type": "markdown",
   "id": "deb4266a-5918-424a-97eb-b288fa5a77f2",
   "metadata": {},
   "source": [
    "## Fetch citations from the messages"
   ]
  },
  {
   "cell_type": "code",
   "execution_count": null,
   "id": "5d95256d-35d2-4504-964f-381372415f97",
   "metadata": {},
   "outputs": [],
   "source": [
    "# messages.file_path_annotations[0].text.split('/')[-1]\n",
    "print (f\"Nr. of file path citations: {len(messages.file_citation_annotations)}\\n\")\n",
    "\n",
    "i=0\n",
    "for file_citation_annotation in messages.file_citation_annotations:\n",
    "    i += 1\n",
    "    print(f\"{i} - File file_citation_annotation: {file_citation_annotation}\")"
   ]
  },
  {
   "cell_type": "markdown",
   "id": "0b3a308c-b882-4171-bcb8-f060ed4f602a",
   "metadata": {},
   "source": [
    "# Retrieve and download eventual images"
   ]
  },
  {
   "cell_type": "code",
   "execution_count": null,
   "id": "4ed24b0b-bb39-4bc9-8e0e-dc72b6d4b717",
   "metadata": {},
   "outputs": [],
   "source": [
    "# messages.file_path_annotations[0].text.split('/')[-1]\n",
    "print (f\"Nr. of file path annotations: {len(messages.file_path_annotations)}\\n\")\n",
    "\n",
    "i=0\n",
    "for file_path_annotation in messages.file_path_annotations:\n",
    "    i += 1\n",
    "    print(f\"{i} - File annotation paths: {file_path_annotation}\")\n",
    "    file_name = file_path_annotation.text.split('/')[-1]\n",
    "    project_client.agents.save_file(file_id=file_path_annotation.file_path.file_id, file_name=file_name)\n",
    "    print(f\"File annotation {i} saved as file to: {os.getcwd()}\\\\{file_name}\")\n",
    "    image = Image.open(f\"{os.getcwd()}\\\\{file_name}\") # Open the image\n",
    "    image.show() # Display the image"
   ]
  },
  {
   "cell_type": "markdown",
   "id": "eb8d1a19-7279-4059-9fc1-98ce3753152e",
   "metadata": {},
   "source": [
    "# Collect all resources for this project"
   ]
  },
  {
   "cell_type": "code",
   "execution_count": null,
   "id": "10811c78-6430-41df-97a1-a58b70ccf923",
   "metadata": {},
   "outputs": [],
   "source": [
    "all_agents = list_all_agents(project_client=project_client)\n",
    "print(all_agents[\"summary\"])\n",
    "\n",
    "all_threads = list_all_threads(project_client)\n",
    "print(all_threads[\"summary\"])\n",
    "\n",
    "all_files = list_all_files(project_client)\n",
    "print(all_files[\"summary\"])\n",
    "\n",
    "all_runs = list_all_runs(project_client)\n",
    "print(all_runs[\"summary\"])\n",
    "\n",
    "all_runsteps=list_all_runsteps(project_client)\n",
    "print(all_runsteps[\"summary\"])\n",
    "\n",
    "all_messages = list_all_messages(project_client)\n",
    "print(all_messages[\"summary\"])\n",
    "\n",
    "all_vectorstores = list_all_vectorstores(project_client=project_client)\n",
    "print(all_vectorstores[\"summary\"])"
   ]
  },
  {
   "cell_type": "markdown",
   "id": "6fbb0e8a-f2ef-4887-9d20-9a68a20322d2",
   "metadata": {},
   "source": [
    "# Teardown for all resources"
   ]
  },
  {
   "cell_type": "code",
   "execution_count": null,
   "id": "28eb94fd-81b0-42ac-ab61-4f147292ad1b",
   "metadata": {},
   "outputs": [],
   "source": [
    "# delete all vector stores\n",
    "\n",
    "i=0\n",
    "for vector_store in all_vectorstores[\"content\"][\"data\"]:\n",
    "    i += 1\n",
    "    project_client.agents.delete_vector_store(vector_store_id=vector_store.id)\n",
    "    print(f\"{i} - Vector store <{vector_store.id}> has been deleted\")\n",
    "\n",
    "all_vectorstores = list_all_vectorstores(project_client=project_client)\n",
    "\n",
    "print(f\"Vector stores deleted: {i}\\n\")"
   ]
  },
  {
   "cell_type": "code",
   "execution_count": null,
   "id": "e932c9ce-82b0-423b-8c05-63a3912ae67a",
   "metadata": {},
   "outputs": [],
   "source": [
    "# delete all files\n",
    "\n",
    "i=0\n",
    "for file in all_files['content']['data']:\n",
    "    i += 1\n",
    "    project_client.agents.delete_file(file_id=file.id)\n",
    "    print(f\"{i} - File <{file.filename}> ({file.id}) has been deleted\")\n",
    "\n",
    "all_files = list_all_files(project_client)\n",
    "\n",
    "print(f\"Files deleted: {i}\\n\")"
   ]
  },
  {
   "cell_type": "code",
   "execution_count": null,
   "id": "dc7ef1eb-75fa-4c95-81b5-0f0cd745db6a",
   "metadata": {},
   "outputs": [],
   "source": [
    "# delete all threads\n",
    "\n",
    "i=0\n",
    "for thread in all_threads[\"content\"][\"data\"]:\n",
    "    i += 1\n",
    "    project_client.agents.delete_thread(thread_id=thread.id)\n",
    "    print(f\"{i} - Thread <{thread.id}> has been deleted\")\n",
    "\n",
    "all_threads = list_all_threads(project_client)\n",
    "\n",
    "print(f\"Threads deleted: {i}\\n\")"
   ]
  },
  {
   "cell_type": "code",
   "execution_count": null,
   "id": "4ab911fd-c9dd-4520-9b6c-dc541b9d1298",
   "metadata": {},
   "outputs": [],
   "source": [
    "# delete all agents\n",
    "\n",
    "i=0\n",
    "for agent in all_agents[\"content\"][\"data\"]:\n",
    "    i += 1\n",
    "    project_client.agents.delete_agent(agent_id=agent.id)\n",
    "    print(f\"{i} - Agent <{agent.id}> has been deleted\")\n",
    "\n",
    "all_agents = list_all_agents(project_client=project_client)\n",
    "\n",
    "print(f\"Agents deleted: {i}\\n\")"
   ]
  },
  {
   "cell_type": "markdown",
   "id": "c8cc2b04-a0b3-45ee-9066-4306e16511f9",
   "metadata": {},
   "source": [
    "# HIC SUNT LEONES"
   ]
  }
 ],
 "metadata": {
  "kernelspec": {
   "display_name": "aaas_new",
   "language": "python",
   "name": "aaas_new"
  },
  "language_info": {
   "codemirror_mode": {
    "name": "ipython",
    "version": 3
   },
   "file_extension": ".py",
   "mimetype": "text/x-python",
   "name": "python",
   "nbconvert_exporter": "python",
   "pygments_lexer": "ipython3",
   "version": "3.13.2"
  }
 },
 "nbformat": 4,
 "nbformat_minor": 5
}
