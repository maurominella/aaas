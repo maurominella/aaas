{
 "cells": [
  {
   "attachments": {},
   "cell_type": "markdown",
   "id": "6aff6e2d-97b4-441c-b548-2557bafae055",
   "metadata": {},
   "source": [
    "# [Create Agent with Azure AI Search](https://learn.microsoft.com/en-us/python/api/overview/azure/ai-projects-readme?view=azure-python-preview#create-agent-with-azure-ai-search)\n",
    "Azure AI Search is an enterprise search system for high-performance applications. It integrates with Azure OpenAI Service and Azure Machine Learning, offering advanced search technologies like vector search and full-text search. Ideal for knowledge base insights, information discovery, and automation.<br/><br/>\n",
    "**IMPORTANT**: in order to create the index leveraging the \"Import and Vectorize\" wizard, the `Storage Blob Data Contributor` role on the Storage Account is needed for the Azure AI Managed Identity."
   ]
  },
  {
   "cell_type": "markdown",
   "id": "a59136b0-7233-41a3-a2c7-104239de7990",
   "metadata": {},
   "source": [
    "## Create a connection to Azure AI Search using CLI\n",
    "\n",
    "1. First of all, let's check which connections we have, associated to our project mmai-hub04-prj01-fvye:\n",
    "   ```az ml connection list --resource-group mmai04-rg --workspace-name mmai-hub04-prj01-fvye```\n",
    "3. Now, create a new yaml file with the configuration for Azure AI Search, using key-based or key-less (as in this case) authentication. **Please note that the \"metadata\" section must be filled as shown, including the ResourceId that must contain the connection name reporten on line 1**:\n",
    "```\n",
    "name: mmai-hub04-fvye-connection-AISearch\n",
    "type: azure_ai_search\n",
    "endpoint: https://mmai-hub04-ai-search-fvye.search.windows.net/\n",
    "is_shared: true\n",
    "metadata:\n",
    "  ApiType: Azure\n",
    "  ResourceId: /subscriptions/eca2eddb-0f0c-4351-a634-52751499eeea/resourceGroups/mmai04-rg/providers/Microsoft.Search/searchServices/mmai-hub04-fvye-connection-AISearch\n",
    "  type: azure_ai_search\n",
    "  ```\n",
    "\n",
    "3. Run the command `az ml connection create --file aisearchconnection.yml --resource-group mmai04-rg --workspace-name mmai-hub04-prj01-fvye`"
   ]
  },
  {
   "cell_type": "markdown",
   "id": "bcf7da6f-e589-4c2a-a5d8-61ecb9d6fe42",
   "metadata": {},
   "source": [
    "# Constants"
   ]
  },
  {
   "cell_type": "code",
   "execution_count": 1,
   "id": "98d9cc9d-cbef-4b35-a4a3-84802dd4ee06",
   "metadata": {},
   "outputs": [
    {
     "name": "stdout",
     "output_type": "stream",
     "text": [
      "Project Connection String: <...hub01-grp;mmai-swc-hub01-prj01>\n"
     ]
    }
   ],
   "source": [
    "import os\n",
    "from IPython.display import Markdown, display\n",
    "from dotenv import load_dotenv # requires python-dotenv\n",
    "from PIL import Image # requires pip install pillow\n",
    "from datetime import datetime\n",
    "from common.agents_helper_functions import *\n",
    "import importlib.metadata\n",
    "import matplotlib.pyplot as plt\n",
    "import matplotlib.image as mpimg\n",
    "\n",
    "if not load_dotenv(\"./../config/credentials_my.env\"):\n",
    "    print(\"Environment variables not loaded, cell execution stopped\")\n",
    "    sys.exit()\n",
    "print(\"Environment variables have been loaded ;-)\")\n",
    "\n",
    "deployment_name =  os.environ[\"MODEL_DEPLOYMENT_NAME_MINI\"]\n",
    "api_version = os.environ[\"OPENAI_API_VERSION\"] # at least \"2025-03-01-preview\"\n",
    "\n",
    "print(f'Project Connection String: <...{os.environ[\"PROJECT_CONNECTION_STRING\"][-30:]}>')\n",
    "version = importlib.metadata.version(\"azure-ai-projects\")\n",
    "print(f\"azure-ai-projects library installed version: {version}\")"
   ]
  },
  {
   "cell_type": "markdown",
   "id": "b2cf9908-abe3-4023-a49e-7e5e3f24173f",
   "metadata": {},
   "source": [
    "# Create AI Foundry Project Client"
   ]
  },
  {
   "cell_type": "code",
   "execution_count": 2,
   "id": "5a9abb62-b855-402f-9e22-583ffe6bf8cb",
   "metadata": {},
   "outputs": [
    {
     "data": {
      "text/plain": [
       "{'subscription_id': 'eca2eddb-0f0c-4351-a634-52751499eeea',\n",
       " 'resource_group_name': 'mmai-swc-hub01-grp',\n",
       " 'project_name': 'mmai-swc-hub01-prj01'}"
      ]
     },
     "execution_count": 2,
     "metadata": {},
     "output_type": "execute_result"
    }
   ],
   "source": [
    "from azure.ai.projects import AIProjectClient\n",
    "from azure.ai.projects.models import AzureAISearchTool # <<<<<<<<<<<<<<< SPECIFIC FOR AZURE AI SEARCH\n",
    "from azure.identity import DefaultAzureCredential\n",
    "\n",
    "project_client = AIProjectClient.from_connection_string(\n",
    "    credential=DefaultAzureCredential(), conn_str=project_connection_string\n",
    ")\n",
    "\n",
    "project_client.scope"
   ]
  },
  {
   "cell_type": "markdown",
   "id": "57263e8c-9736-41e6-8dee-19fe1c2d3491",
   "metadata": {},
   "source": [
    "# List existing connections and highlight the \"AI Search\" ones"
   ]
  },
  {
   "cell_type": "code",
   "execution_count": 3,
   "id": "7f45388f-98a6-463c-a163-fbff707c5163",
   "metadata": {},
   "outputs": [
    {
     "name": "stdout",
     "output_type": "stream",
     "text": [
      "{\n",
      " \"name\": \"mmai-swc-hub01-oais581696736083_aoai\",\n",
      " \"id\": \"/subscriptions/eca2eddb-0f0c-4351-a634-52751499eeea/resourceGroups/mmai-swc-hub01-grp/providers/Microsoft.MachineLearningServices/workspaces/mmai-swc-hub01-prj01/connections/mmai-swc-hub01-oais581696736083_aoai\",\n",
      " \"authentication_type\": \"ApiKey\",\n",
      " \"connection_type\": \"ConnectionType.AZURE_OPEN_AI\",\n",
      " \"endpoint_url\": \"https://mmai-swc-hub01-oais581696736083.openai.azure.com\",\n",
      " \"key\": null\n",
      " \"token_credential\": null\n",
      "}\n",
      "\n",
      "{\n",
      " \"name\": \"mmai-swc-hub01-oais581696736083\",\n",
      " \"id\": \"/subscriptions/eca2eddb-0f0c-4351-a634-52751499eeea/resourceGroups/mmai-swc-hub01-grp/providers/Microsoft.MachineLearningServices/workspaces/mmai-swc-hub01-prj01/connections/mmai-swc-hub01-oais581696736083\",\n",
      " \"authentication_type\": \"AAD\",\n",
      " \"connection_type\": \"ConnectionType.AZURE_AI_SERVICES\",\n",
      " \"endpoint_url\": \"https://mmai-swc-hub01-oais581696736083.cognitiveservices.azure.com\",\n",
      " \"key\": null\n",
      " \"token_credential\": null\n",
      "}\n",
      "\n",
      "{\n",
      " \"name\": \"mmaihub04groundingwithbingsearch01\",\n",
      " \"id\": \"/subscriptions/eca2eddb-0f0c-4351-a634-52751499eeea/resourceGroups/mmai-swc-hub01-grp/providers/Microsoft.MachineLearningServices/workspaces/mmai-swc-hub01-prj01/connections/mmaihub04groundingwithbingsearch01\",\n",
      " \"authentication_type\": \"ApiKey\",\n",
      " \"connection_type\": \"ConnectionType.API_KEY\",\n",
      " \"endpoint_url\": \"https://api.bing.microsoft.com\",\n",
      " \"key\": null\n",
      " \"token_credential\": null\n",
      "}\n",
      "\n",
      ">>>>>>> AI SEARCH FOUND: {\n",
      " \"name\": \"mmaiswchub01search01\",\n",
      " \"id\": \"/subscriptions/eca2eddb-0f0c-4351-a634-52751499eeea/resourceGroups/mmai-swc-hub01-grp/providers/Microsoft.MachineLearningServices/workspaces/mmai-swc-hub01-prj01/connections/mmaiswchub01search01\",\n",
      " \"authentication_type\": \"AAD\",\n",
      " \"connection_type\": \"ConnectionType.AZURE_AI_SEARCH\",\n",
      " \"endpoint_url\": \"https://mmai-swc-hub01-search01.search.windows.net\",\n",
      " \"key\": null\n",
      " \"token_credential\": null\n",
      "}\n",
      "\n",
      "{\n",
      " \"name\": \"mmoaiswc01\",\n",
      " \"id\": \"/subscriptions/eca2eddb-0f0c-4351-a634-52751499eeea/resourceGroups/mmai-swc-hub01-grp/providers/Microsoft.MachineLearningServices/workspaces/mmai-swc-hub01-prj01/connections/mmoaiswc01\",\n",
      " \"authentication_type\": \"AAD\",\n",
      " \"connection_type\": \"ConnectionType.AZURE_OPEN_AI\",\n",
      " \"endpoint_url\": \"https://mmoaiswc-01.openai.azure.com\",\n",
      " \"key\": null\n",
      " \"token_credential\": null\n",
      "}\n",
      "\n",
      "{\n",
      " \"name\": \"mmai-swc-hub01-prj01/mmaihub04storagefvye\",\n",
      " \"id\": \"/subscriptions/eca2eddb-0f0c-4351-a634-52751499eeea/resourceGroups/mmai-swc-hub01-grp/providers/Microsoft.MachineLearningServices/workspaces/mmai-swc-hub01-prj01/connections/mmai-swc-hub01-prj01/mmaihub04storagefvye\",\n",
      " \"authentication_type\": \"None\",\n",
      " \"connection_type\": \"ConnectionType.AZURE_BLOB_STORAGE\",\n",
      " \"endpoint_url\": \"https://mmaihub04storagefvye.core.windows.net/a20f3480-e38b-433f-83ad-058c03c2bf92-azureml-blobstore\",\n",
      " \"key\": null\n",
      " \"token_credential\": null\n",
      "}\n",
      "\n",
      "{\n",
      " \"name\": \"mmai-swc-hub01-prj01/workspaceartifactstore\",\n",
      " \"id\": \"/subscriptions/eca2eddb-0f0c-4351-a634-52751499eeea/resourceGroups/mmai-swc-hub01-grp/providers/Microsoft.MachineLearningServices/workspaces/mmai-swc-hub01-prj01/connections/mmai-swc-hub01-prj01/workspaceartifactstore\",\n",
      " \"authentication_type\": \"None\",\n",
      " \"connection_type\": \"ConnectionType.AZURE_BLOB_STORAGE\",\n",
      " \"endpoint_url\": \"https://stmmaiswchub581696736083.core.windows.net/a4e1b84a-4bb7-4548-8e7d-fef4b1513cb5-azureml\",\n",
      " \"key\": null\n",
      " \"token_credential\": null\n",
      "}\n",
      "\n",
      "{\n",
      " \"name\": \"mmai-swc-hub01-prj01/workspaceblobstore\",\n",
      " \"id\": \"/subscriptions/eca2eddb-0f0c-4351-a634-52751499eeea/resourceGroups/mmai-swc-hub01-grp/providers/Microsoft.MachineLearningServices/workspaces/mmai-swc-hub01-prj01/connections/mmai-swc-hub01-prj01/workspaceblobstore\",\n",
      " \"authentication_type\": \"None\",\n",
      " \"connection_type\": \"ConnectionType.AZURE_BLOB_STORAGE\",\n",
      " \"endpoint_url\": \"https://stmmaiswchub581696736083.core.windows.net/a4e1b84a-4bb7-4548-8e7d-fef4b1513cb5-azureml-blobstore\",\n",
      " \"key\": null\n",
      " \"token_credential\": null\n",
      "}\n",
      "\n"
     ]
    }
   ],
   "source": [
    "conn_list = project_client.connections.list()\n",
    "conn_id = \"\"\n",
    "for conn in conn_list:    \n",
    "    if conn.connection_type == \"CognitiveSearch\":\n",
    "        print(f\">>>>>>> AI SEARCH FOUND: {conn}\")\n",
    "        conn_id = conn.id\n",
    "    else:\n",
    "        print(conn)"
   ]
  },
  {
   "cell_type": "markdown",
   "id": "d82b832b-d86e-46c4-9968-6a5056a63e63",
   "metadata": {},
   "source": [
    "# Chosen AI Search Connection (just for confirmation)"
   ]
  },
  {
   "cell_type": "code",
   "execution_count": 4,
   "id": "39c9c299-d540-4d97-bf96-ef6bac3f4fe4",
   "metadata": {},
   "outputs": [
    {
     "data": {
      "text/plain": [
       "'/subscriptions/eca2eddb-0f0c-4351-a634-52751499eeea/resourceGroups/mmai-swc-hub01-grp/providers/Microsoft.MachineLearningServices/workspaces/mmai-swc-hub01-prj01/connections/mmaiswchub01search01'"
      ]
     },
     "execution_count": 4,
     "metadata": {},
     "output_type": "execute_result"
    }
   ],
   "source": [
    "conn_id"
   ]
  },
  {
   "cell_type": "markdown",
   "id": "59f94c6a-d7c2-43c8-8fb3-fb14a98d5fee",
   "metadata": {},
   "source": [
    "# Initialize `AzureAISearchTool`, adding the connection id to it"
   ]
  },
  {
   "cell_type": "code",
   "execution_count": 5,
   "id": "db6d8143-2d9b-4454-81eb-7e4bf91523d3",
   "metadata": {},
   "outputs": [
    {
     "name": "stdout",
     "output_type": "stream",
     "text": [
      "ai_search.definitions: [{'type': 'azure_ai_search'}]\n",
      "ai_search.resources: {'azure_ai_search': {'indexes': [{'index_connection_id': '/subscriptions/eca2eddb-0f0c-4351-a634-52751499eeea/resourceGroups/mmai-swc-hub01-grp/providers/Microsoft.MachineLearningServices/workspaces/mmai-swc-hub01-prj01/connections/mmaiswchub01search01', 'index_name': 'ms-surface-specs-index', 'query_type': 'simple', 'filter': '', 'top_k': 5}]}}\n"
     ]
    }
   ],
   "source": [
    "ai_search = AzureAISearchTool(index_connection_id=conn_id, index_name=index_name)\n",
    "print(f\"ai_search.definitions: {ai_search.definitions}\")\n",
    "print(f\"ai_search.resources: {ai_search.resources}\")"
   ]
  },
  {
   "cell_type": "markdown",
   "id": "77755d46-20df-44eb-804c-3ef469b5ac5b",
   "metadata": {},
   "source": [
    "# Create AI Foundry Agent"
   ]
  },
  {
   "cell_type": "code",
   "execution_count": 6,
   "id": "c2f4c841-42aa-4245-9bdd-a5811b9f424a",
   "metadata": {},
   "outputs": [
    {
     "data": {
      "text/plain": [
       "<bound method _MyMutableMapping.items of {'id': 'asst_IYs1yCZQyRPFXgtpfCrpnGoL', 'object': 'assistant', 'created_at': 1745739963, 'name': 'aisearch-agent', 'description': None, 'model': 'gpt-4o', 'instructions': 'You are a helpful assistant. Do **NOT** you your internal knowledge, please just search within the given search engine.', 'tools': [{'type': 'azure_ai_search'}], 'top_p': 1.0, 'temperature': 1.0, 'tool_resources': {'azure_ai_search': {'indexes': [{'index_connection_id': '/subscriptions/eca2eddb-0f0c-4351-a634-52751499eeea/resourceGroups/mmai-swc-hub01-grp/providers/Microsoft.MachineLearningServices/workspaces/mmai-swc-hub01-prj01/connections/mmaiswchub01search01', 'index_name': 'ms-surface-specs-index', 'query_type': 'simple', 'top_k': 5, 'filter': ''}]}}, 'metadata': {}, 'response_format': 'auto'}>"
      ]
     },
     "execution_count": 6,
     "metadata": {},
     "output_type": "execute_result"
    }
   ],
   "source": [
    "# Create agent with AI search tool and process assistant run\n",
    "agent = project_client.agents.create_agent(\n",
    "    model=model_name,\n",
    "    name=\"aisearch-agent\",\n",
    "    instructions=\"You are a helpful assistant. Do **NOT** you your internal knowledge, please just search within the given search engine.\",\n",
    "    tools=ai_search.definitions,\n",
    "    tool_resources=ai_search.resources,\n",
    "    headers={\"x-ms-enable-preview\": \"true\"},\n",
    ")\n",
    "\n",
    "agent.items"
   ]
  },
  {
   "cell_type": "markdown",
   "id": "79a07fe3-2500-4fb1-bb01-a697e4b7f02d",
   "metadata": {},
   "source": [
    "# Create the thread and attach a new message to it"
   ]
  },
  {
   "cell_type": "code",
   "execution_count": 7,
   "id": "ab44f7b1-8043-4594-bfcc-1c38bb38fe11",
   "metadata": {},
   "outputs": [
    {
     "name": "stdout",
     "output_type": "stream",
     "text": [
      "Created thread: {'id': 'thread_PydvJMyU9IotOZ4n06HXNJe6', 'object': 'thread', 'created_at': 1745739964, 'metadata': {}, 'tool_resources': {}}\n",
      "\n",
      "Created message: {'id': 'msg_ngf6xqKQ8QCSX6QtJA1z8jTT', 'object': 'thread.message', 'created_at': 1745739964, 'assistant_id': None, 'thread_id': 'thread_PydvJMyU9IotOZ4n06HXNJe6', 'run_id': None, 'role': 'user', 'content': [{'type': 'text', 'text': {'value': \"In the documentation I've given you, what kind of keys does the MS Surface Book keyboard include?\", 'annotations': []}}], 'attachments': [], 'metadata': {}}\n"
     ]
    }
   ],
   "source": [
    "# Create a thread\n",
    "thread = project_client.agents.create_thread()\n",
    "print(f\"Created thread: {thread}\\n\")\n",
    "\n",
    "# Add a user message to the thread\n",
    "message = project_client.agents.create_message(\n",
    "    thread_id=thread.id, \n",
    "    role=\"user\", \n",
    "    content=\"In the documentation I've given you, what kind of keys does the MS Surface Book keyboard include?\",\n",
    ")\n",
    "print(f\"Created message: {message}\")"
   ]
  },
  {
   "cell_type": "markdown",
   "id": "ce7eb1d6-bb0d-4da7-a377-b36f8e8881c0",
   "metadata": {},
   "source": [
    "# Run the agent syncrhonously\n",
    "Please ensure that the project managed identity has \n",
    "- Search Index Data Reader\n",
    "- Search Service Contributor\n",
    "<br/>\n",
    "roles on the Search resource, and the Search resource allows role-based access."
   ]
  },
  {
   "cell_type": "code",
   "execution_count": 8,
   "id": "09b34c7b-8190-4c83-98ed-663e956f2864",
   "metadata": {},
   "outputs": [
    {
     "name": "stdout",
     "output_type": "stream",
     "text": [
      "Run finished with status: RunStatus.COMPLETED.\n",
      "\n",
      "Run: {'id': 'run_Do9puxajJwK2IHMaJ9vCrQo5', 'object': 'thread.run', 'created_at': 1745739965, 'assistant_id': 'asst_IYs1yCZQyRPFXgtpfCrpnGoL', 'thread_id': 'thread_PydvJMyU9IotOZ4n06HXNJe6', 'status': 'completed', 'started_at': 1745739965, 'expires_at': None, 'cancelled_at': None, 'failed_at': None, 'completed_at': 1745739968, 'required_action': None, 'last_error': None, 'model': 'gpt-4o', 'instructions': 'You are a helpful assistant. Do **NOT** you your internal knowledge, please just search within the given search engine.', 'tools': [{'type': 'azure_ai_search'}], 'tool_resources': {}, 'metadata': {}, 'temperature': 1.0, 'top_p': 1.0, 'max_completion_tokens': None, 'max_prompt_tokens': None, 'truncation_strategy': {'type': 'auto', 'last_messages': None}, 'incomplete_details': None, 'usage': {'prompt_tokens': 2933, 'completion_tokens': 162, 'total_tokens': 3095, 'prompt_token_details': {'cached_tokens': 0}}, 'response_format': 'auto', 'tool_choice': 'auto', 'parallel_tool_calls': True}\n",
      "CPU times: total: 0 ns\n",
      "Wall time: 4.47 s\n"
     ]
    }
   ],
   "source": [
    "%%time\n",
    "# Create and process assistant run in thread with tools\n",
    "run = project_client.agents.create_and_process_run\\\n",
    "    (thread_id=thread.id, agent_id=agent.id)\n",
    "\n",
    "print(f\"Run finished with status: {run.status}.\\n\\nRun: {run}\")\n",
    "\n",
    "if run.status == \"failed\":\n",
    "    # Check if you got \"Rate limit is exceeded.\", then you want to get more quota\n",
    "    print(f\"Run failed: {run.last_error}\")"
   ]
  },
  {
   "cell_type": "markdown",
   "id": "c266525d-1a74-4516-a3b8-909c7c5ee8b4",
   "metadata": {},
   "source": [
    "# Fetch messages from the thread after the agent run execution"
   ]
  },
  {
   "cell_type": "code",
   "execution_count": 9,
   "id": "225a1e08-e65a-4a8f-a29f-48da35130645",
   "metadata": {},
   "outputs": [
    {
     "name": "stdout",
     "output_type": "stream",
     "text": [
      "Here are the 2 messages:\n",
      "\n",
      "\n",
      "===== MESSAGE 1 =====\n",
      "\n",
      "CONTENT 1 (MessageTextContent) --> Text: In the documentation I've given you, what kind of keys does the MS Surface Book keyboard include?\n",
      "\n",
      "===== MESSAGE 2 =====\n",
      "\n",
      "CONTENT 1 (MessageTextContent) --> Text: The Microsoft Surface Book keyboard includes the following types of keys:\n",
      "\n",
      "1. **Standard Layout Keys**: It features a standard keyboard layout.\n",
      "2. **Backlit Keys**: The keys are backlit for use in low-light conditions.\n",
      "3. **Shortcut and Function Keys**: These help in performing common tasks quickly. Keys on the top row also double as function keys, activated by holding the Fn key.\n",
      "4. **Special Fn Key Combinations**: The Fn key can be used with other keys for specific functions, such as controlling keyboard backlighting, media (play/pause), and adjusting volume (mute, volume up, and volume down)【3:0†source】【3:1†source】.\n",
      ">>> Annotation in MessageTextContent 1 of message 2: 【3:0†source】\n",
      "\n",
      ">>> Annotation in MessageTextContent 1 of message 2: 【3:1†source】\n",
      "\n"
     ]
    }
   ],
   "source": [
    "from azure.ai.projects.models import MessageTextContent, MessageImageFileContent\n",
    "\n",
    "if run.status == 'completed':    \n",
    "    messages = project_client.agents.list_messages(thread_id=thread.id)\n",
    "    messages_nr = len(messages.data)\n",
    "    print(f\"Here are the {messages_nr} messages:\\n\")\n",
    "    \n",
    "    for i, message in enumerate(reversed(messages.data), 1):\n",
    "        j = 0\n",
    "        print(f\"\\n===== MESSAGE {i} =====\")\n",
    "        for c in message.content:\n",
    "            j +=1\n",
    "            if (type(c) is MessageImageFileContent):\n",
    "                print(f\"\\nCONTENT {j} (MessageImageFileContent) --> image_file id: {c.image_file.file_id}\")\n",
    "            elif (type(c) is MessageTextContent):\n",
    "                print(f\"\\nCONTENT {j} (MessageTextContent) --> Text: {c.text.value}\")\n",
    "                for a in c.text.annotations:\n",
    "                    print(f\">>> Annotation in MessageTextContent {j} of message {i}: {a.text}\\n\")\n",
    "\n",
    "else:\n",
    "    print(f\"Sorry, I can't proceed because the run status is {run.status}\")"
   ]
  },
  {
   "cell_type": "code",
   "execution_count": 10,
   "id": "8deffde5-8d1e-4774-938c-7d74d34ec4b8",
   "metadata": {},
   "outputs": [
    {
     "name": "stdout",
     "output_type": "stream",
     "text": [
      "The Microsoft Surface Book keyboard includes the following types of keys:\n",
      "\n",
      "1. **Standard Layout Keys**: It features a standard keyboard layout.\n",
      "2. **Backlit Keys**: The keys are backlit for use in low-light conditions.\n",
      "3. **Shortcut and Function Keys**: These help in performing common tasks quickly. Keys on the top row also double as function keys, activated by holding the Fn key.\n",
      "4. **Special Fn Key Combinations**: The Fn key can be used with other keys for specific functions, such as controlling keyboard backlighting, media (play/pause), and adjusting volume (mute, volume up, and volume down)【3:0†source】【3:1†source】.\n"
     ]
    }
   ],
   "source": [
    "# Get the last message from the sender\n",
    "last_msg = messages.get_last_message_by_role(\"assistant\")\n",
    "if last_msg:\n",
    "    print(last_msg.content[0].text.value)"
   ]
  },
  {
   "cell_type": "markdown",
   "id": "912679ac-5feb-400c-920e-5ce3f7bfdefc",
   "metadata": {},
   "source": [
    "# Print annotations from the messages"
   ]
  },
  {
   "cell_type": "code",
   "execution_count": 11,
   "id": "f46708dc-95a9-4949-b68c-c801cec87112",
   "metadata": {},
   "outputs": [
    {
     "name": "stdout",
     "output_type": "stream",
     "text": [
      "Number of annotation(s): 2\n",
      "【3:0†source】 doc_0\n",
      "【3:1†source】 doc_1\n"
     ]
    }
   ],
   "source": [
    "print(f\"Number of annotation(s): {len(last_msg.content[0].text.annotations)}\")\n",
    "\n",
    "for annotation in last_msg.content[0].text.annotations:\n",
    "    print(annotation[\"text\"], annotation[\"url_citation\"][\"url\"])"
   ]
  },
  {
   "cell_type": "markdown",
   "id": "1b901a33-db0f-4a8d-9276-4f3a302d7654",
   "metadata": {},
   "source": [
    "# Fetch citations from the messages"
   ]
  },
  {
   "cell_type": "code",
   "execution_count": 12,
   "id": "b039fca9-a09b-429f-9ca5-539c74bccffd",
   "metadata": {},
   "outputs": [
    {
     "name": "stdout",
     "output_type": "stream",
     "text": [
      "Nr. of file path citations: 0\n",
      "\n"
     ]
    }
   ],
   "source": [
    "# messages.file_path_annotations[0].text.split('/')[-1]\n",
    "print (f\"Nr. of file path citations: {len(messages.file_citation_annotations)}\\n\")\n",
    "\n",
    "i=0\n",
    "for file_citation_annotation in messages.file_citation_annotations:\n",
    "    i += 1\n",
    "    print(f\"{i} - File file_citation_annotation: {file_citation_annotation}\")"
   ]
  },
  {
   "cell_type": "markdown",
   "id": "007fef0d-f7ef-4dc8-838c-a4327e0194f7",
   "metadata": {},
   "source": [
    "# Retrieve and download eventual images"
   ]
  },
  {
   "cell_type": "code",
   "execution_count": 13,
   "id": "2894948f-5fda-4493-bfa5-3fcc96cba2d6",
   "metadata": {},
   "outputs": [
    {
     "name": "stdout",
     "output_type": "stream",
     "text": [
      "Nr. of file path annotations: 0\n",
      "\n"
     ]
    }
   ],
   "source": [
    "# messages.file_path_annotations[0].text.split('/')[-1]\n",
    "print (f\"Nr. of file path annotations: {len(messages.file_path_annotations)}\\n\")\n",
    "\n",
    "i=0\n",
    "for file_path_annotation in messages.file_path_annotations:\n",
    "    i += 1\n",
    "    print(f\"{i} - File annotation paths: {file_path_annotation}\")\n",
    "    file_name = file_path_annotation.text.split('/')[-1]\n",
    "    project_client.agents.save_file(file_id=file_path_annotation.file_path.file_id, file_name=file_name)\n",
    "    print(f\"File annotation {i} saved as file to: {os.getcwd()}\\\\{file_name}\")\n",
    "    image = Image.open(f\"{os.getcwd()}\\\\{file_name}\") # Open the image\n",
    "    image.show() # Display the image"
   ]
  },
  {
   "cell_type": "markdown",
   "id": "5dd16e09-ea32-45c7-bb35-5f0a6c5194c4",
   "metadata": {},
   "source": [
    "# Run Steps"
   ]
  },
  {
   "cell_type": "code",
   "execution_count": 14,
   "id": "5af25587-47a5-4d2c-bcd4-9f08949edcc5",
   "metadata": {},
   "outputs": [
    {
     "name": "stdout",
     "output_type": "stream",
     "text": [
      "Nr of run step(s): 2\n",
      "\n",
      "Run step 1: {'id': 'step_1qfP8kGEwzn1qXii0Hb1Wpaa', 'object': 'thread.run.step', 'created_at': 1745739966, 'run_id': 'run_Do9puxajJwK2IHMaJ9vCrQo5', 'assistant_id': 'asst_IYs1yCZQyRPFXgtpfCrpnGoL', 'thread_id': 'thread_PydvJMyU9IotOZ4n06HXNJe6', 'type': 'message_creation', 'status': 'completed', 'cancelled_at': None, 'completed_at': 1745739968, 'expires_at': None, 'failed_at': None, 'last_error': None, 'step_details': {'type': 'message_creation', 'message_creation': {'message_id': 'msg_vOsjEzaGzBx60ii3cEHr4pBM'}}, 'usage': {'prompt_tokens': 2574, 'completion_tokens': 147, 'total_tokens': 2721, 'prompt_token_details': {'cached_tokens': 0}}} \n",
      "\n",
      "Run step 2: {'id': 'step_JHRQYWIiz8FcnkZ4imNO4woM', 'object': 'thread.run.step', 'created_at': 1745739966, 'run_id': 'run_Do9puxajJwK2IHMaJ9vCrQo5', 'assistant_id': 'asst_IYs1yCZQyRPFXgtpfCrpnGoL', 'thread_id': 'thread_PydvJMyU9IotOZ4n06HXNJe6', 'type': 'tool_calls', 'status': 'completed', 'cancelled_at': None, 'completed_at': 1745739966, 'expires_at': None, 'failed_at': None, 'last_error': None, 'step_details': {'type': 'tool_calls', 'tool_calls': [{'id': 'call_XE93RoDw8uYQAEIZCMFcJy3y', 'type': 'azure_ai_search', 'azure_ai_search': {'input': '\"MS Surface Book keyboard keys\"', 'output': \"{'summary': 'Retrieved 5 documents.', 'metadata': {'urls': ['doc_0', 'doc_1', 'doc_2', 'doc_3', 'doc_4'], 'titles': ['surface-book-user-guide-EN.pdf', 'surface-book-user-guide-EN.pdf', 'surface-book-user-guide-EN.pdf', 'surface-book-user-guide-EN.pdf', 'surface-book-user-guide-EN.pdf'], 'get_urls': ['https://mmai-swc-hub01-search01.search.windows.net//indexes/ms-surface-specs-index/docs/f88876d594ed_aHR0cHM6Ly9zdG1tYWlzd2NodWI1ODE2OTY3MzYwODMuYmxvYi5jb3JlLndpbmRvd3MubmV0L2RhdGEvZG9jcy9zdXJmYWNlLWJvb2stdXNlci1ndWlkZS1FTi5wZGY1_pages_20?api-version=2024-07-01&$select=chunk_id,chunk,title', 'https://mmai-swc-hub01-search01.search.windows.net//indexes/ms-surface-specs-index/docs/f88876d594ed_aHR0cHM6Ly9zdG1tYWlzd2NodWI1ODE2OTY3MzYwODMuYmxvYi5jb3JlLndpbmRvd3MubmV0L2RhdGEvZG9jcy9zdXJmYWNlLWJvb2stdXNlci1ndWlkZS1FTi5wZGY1_pages_14?api-version=2024-07-01&$select=chunk_id,chunk,title', 'https://mmai-swc-hub01-search01.search.windows.net//indexes/ms-surface-specs-index/docs/f88876d594ed_aHR0cHM6Ly9zdG1tYWlzd2NodWI1ODE2OTY3MzYwODMuYmxvYi5jb3JlLndpbmRvd3MubmV0L2RhdGEvZG9jcy9zdXJmYWNlLWJvb2stdXNlci1ndWlkZS1FTi5wZGY1_pages_19?api-version=2024-07-01&$select=chunk_id,chunk,title', 'https://mmai-swc-hub01-search01.search.windows.net//indexes/ms-surface-specs-index/docs/f88876d594ed_aHR0cHM6Ly9zdG1tYWlzd2NodWI1ODE2OTY3MzYwODMuYmxvYi5jb3JlLndpbmRvd3MubmV0L2RhdGEvZG9jcy9zdXJmYWNlLWJvb2stdXNlci1ndWlkZS1FTi5wZGY1_pages_12?api-version=2024-07-01&$select=chunk_id,chunk,title', 'https://mmai-swc-hub01-search01.search.windows.net//indexes/ms-surface-specs-index/docs/f88876d594ed_aHR0cHM6Ly9zdG1tYWlzd2NodWI1ODE2OTY3MzYwODMuYmxvYi5jb3JlLndpbmRvd3MubmV0L2RhdGEvZG9jcy9zdXJmYWNlLWJvb2stdXNlci1ndWlkZS1FTi5wZGY1_pages_45?api-version=2024-07-01&$select=chunk_id,chunk,title'], 'command': 'search', 'query_type': 'simple', 'top_k': 5, 'filter': True}}\"}}]}, 'usage': {'prompt_tokens': 359, 'completion_tokens': 15, 'total_tokens': 374, 'prompt_token_details': {'cached_tokens': 0}}} \n",
      "\n"
     ]
    }
   ],
   "source": [
    "run_steps = project_client.agents.list_run_steps(run_id=run.id, thread_id=thread.id)\n",
    "\n",
    "print(f'Nr of run step(s): {len(run_steps[\"data\"])}\\n')\n",
    "i=0\n",
    "for rs in run_steps[\"data\"]:\n",
    "    i += 1\n",
    "    print(f\"Run step {i}: {rs}\", '\\n')"
   ]
  },
  {
   "cell_type": "markdown",
   "id": "d437cd11-8f02-4b38-9e5e-113ef1fbbf74",
   "metadata": {},
   "source": [
    "# Collect all resources for this project"
   ]
  },
  {
   "cell_type": "code",
   "execution_count": 15,
   "id": "e2915b04-273c-4d7b-bcd2-deaafe8c2306",
   "metadata": {},
   "outputs": [
    {
     "name": "stdout",
     "output_type": "stream",
     "text": [
      "1 agents in project <mmai-swc-hub01-prj01>\n",
      "1 threads in project <mmai-swc-hub01-prj01>\n",
      "0 files in project <mmai-swc-hub01-prj01>\n",
      "1 runs in 1 threads of project <mmai-swc-hub01-prj01>\n",
      "2 run steps in 1 pairs of (thread, run) of project <mmai-swc-hub01-prj01>\n",
      "2 messages in 1 threads of project <mmai-swc-hub01-prj01>\n",
      "0 vector stores in project <mmai-swc-hub01-prj01>\n"
     ]
    }
   ],
   "source": [
    "all_agents = list_all_agents(project_client=project_client)\n",
    "print(all_agents[\"summary\"])\n",
    "\n",
    "all_threads = list_all_threads(project_client)\n",
    "print(all_threads[\"summary\"])\n",
    "\n",
    "all_files = list_all_files(project_client)\n",
    "print(all_files[\"summary\"])\n",
    "\n",
    "all_runs = list_all_runs(project_client)\n",
    "print(all_runs[\"summary\"])\n",
    "\n",
    "all_runsteps=list_all_runsteps(project_client)\n",
    "print(all_runsteps[\"summary\"])\n",
    "\n",
    "all_messages = list_all_messages(project_client)\n",
    "print(all_messages[\"summary\"])\n",
    "\n",
    "all_vectorstores = list_all_vectorstores(project_client=project_client)\n",
    "print(all_vectorstores[\"summary\"])"
   ]
  },
  {
   "cell_type": "markdown",
   "id": "50bc2df5-3dcb-4050-80de-b8cfb925efe1",
   "metadata": {},
   "source": [
    "# Teardown for all resources"
   ]
  },
  {
   "cell_type": "code",
   "execution_count": 16,
   "id": "a50f6169-2c88-4a18-9a96-0ffdcba29a1b",
   "metadata": {},
   "outputs": [
    {
     "name": "stdout",
     "output_type": "stream",
     "text": [
      "Vector stores deleted: 0\n",
      "\n"
     ]
    }
   ],
   "source": [
    "# delete all vector stores\n",
    "\n",
    "i=0\n",
    "for vector_store in all_vectorstores[\"content\"][\"data\"]:\n",
    "    i += 1\n",
    "    project_client.agents.delete_vector_store(vector_store_id=vector_store.id)\n",
    "    print(f\"{i} - Vector store <{vector_store.id}> has been deleted\")\n",
    "\n",
    "all_vectorstores = list_all_vectorstores(project_client=project_client)\n",
    "\n",
    "print(f\"Vector stores deleted: {i}\\n\")"
   ]
  },
  {
   "cell_type": "code",
   "execution_count": 17,
   "id": "ac690f72-23a4-4129-ade1-235d6e665515",
   "metadata": {},
   "outputs": [
    {
     "name": "stdout",
     "output_type": "stream",
     "text": [
      "Files deleted: 0\n",
      "\n"
     ]
    }
   ],
   "source": [
    "# delete all files\n",
    "\n",
    "i=0\n",
    "for file in all_files['content']['data']:\n",
    "    i += 1\n",
    "    project_client.agents.delete_file(file_id=file.id)\n",
    "    print(f\"{i} - File <{file.filename}> ({file.id}) has been deleted\")\n",
    "\n",
    "all_files = list_all_files(project_client)\n",
    "\n",
    "print(f\"Files deleted: {i}\\n\")"
   ]
  },
  {
   "cell_type": "code",
   "execution_count": 18,
   "id": "aa7e21d4-7f25-407e-bbf8-8c93bbc48cde",
   "metadata": {},
   "outputs": [
    {
     "name": "stdout",
     "output_type": "stream",
     "text": [
      "1 - Thread <thread_PydvJMyU9IotOZ4n06HXNJe6> has been deleted\n",
      "Threads deleted: 1\n",
      "\n"
     ]
    }
   ],
   "source": [
    "# delete all threads\n",
    "\n",
    "i=0\n",
    "for thread in all_threads[\"content\"][\"data\"]:\n",
    "    i += 1\n",
    "    project_client.agents.delete_thread(thread_id=thread.id)\n",
    "    print(f\"{i} - Thread <{thread.id}> has been deleted\")\n",
    "\n",
    "all_threads = list_all_threads(project_client)\n",
    "\n",
    "print(f\"Threads deleted: {i}\\n\")"
   ]
  },
  {
   "cell_type": "code",
   "execution_count": 19,
   "id": "98292442-3dc7-42fa-90f4-b614b4b8f33e",
   "metadata": {},
   "outputs": [
    {
     "name": "stdout",
     "output_type": "stream",
     "text": [
      "1 - Agent <asst_IYs1yCZQyRPFXgtpfCrpnGoL> has been deleted\n",
      "Agents deleted: 1\n",
      "\n"
     ]
    }
   ],
   "source": [
    "# delete all agents\n",
    "\n",
    "i=0\n",
    "for agent in all_agents[\"content\"][\"data\"]:\n",
    "    i += 1\n",
    "    project_client.agents.delete_agent(agent_id=agent.id)\n",
    "    print(f\"{i} - Agent <{agent.id}> has been deleted\")\n",
    "\n",
    "all_agents = list_all_agents(project_client=project_client)\n",
    "\n",
    "print(f\"Agents deleted: {i}\\n\")"
   ]
  },
  {
   "cell_type": "markdown",
   "id": "c8cc2b04-a0b3-45ee-9066-4306e16511f9",
   "metadata": {},
   "source": [
    "# HIC SUNT LEONES"
   ]
  }
 ],
 "metadata": {
  "kernelspec": {
   "display_name": "aaas",
   "language": "python",
   "name": "aaas"
  },
  "language_info": {
   "codemirror_mode": {
    "name": "ipython",
    "version": 3
   },
   "file_extension": ".py",
   "mimetype": "text/x-python",
   "name": "python",
   "nbconvert_exporter": "python",
   "pygments_lexer": "ipython3",
   "version": "3.13.2"
  }
 },
 "nbformat": 4,
 "nbformat_minor": 5
}
