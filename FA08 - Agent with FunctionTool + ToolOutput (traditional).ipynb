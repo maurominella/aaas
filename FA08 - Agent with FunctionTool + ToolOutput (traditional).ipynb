{
 "cells": [
  {
   "attachments": {},
   "cell_type": "markdown",
   "id": "6aff6e2d-97b4-441c-b548-2557bafae055",
   "metadata": {},
   "source": [
    "# [Create Agent with Function Call](https://learn.microsoft.com/en-us/python/api/overview/azure/ai-projects-readme?view=azure-python-preview#create-agent-with-function-call) using FunctionTool + ToolOutput\n",
    "You can enhance your Agents by defining **callback functions as function tools**. These can be provided to `create_agent` via either the `toolset` parameter or the **combination** of `tools and tool_resources`. Here are the distinctions:\n",
    "\n",
    "1. **toolset**: When using the toolset parameter, you provide not only the function definitions and descriptions but also their implementations. The SDK will execute these functions within `create_and_run_process` or `streaming`. These functions will be invoked based on their definitions.\n",
    "2. **tools and tool_resources**: When using the tools and tool_resources parameters, only the function definitions and descriptions are provided to `create_agent`, without the implementations. The `Run` or event handler of stream will raise a `requires_action` status based on the function definitions. **Your code must handle this status and call the appropriate functions**.<br/>\n",
    "\n",
    "As a reference point, let's see how we were used to managed this with [OpenAI Assistants API](https://github.com/maurominella/openai/blob/main/assistantapi/Assistant%20APIs%2002%20-%20SDK%20with%20Function%20Calling.ipynb)"
   ]
  },
  {
   "cell_type": "markdown",
   "id": "b654baef-3079-453d-b208-257302bffdd3",
   "metadata": {},
   "source": [
    "# Constants"
   ]
  },
  {
   "cell_type": "code",
   "execution_count": 1,
   "id": "98d9cc9d-cbef-4b35-a4a3-84802dd4ee06",
   "metadata": {},
   "outputs": [
    {
     "name": "stdout",
     "output_type": "stream",
     "text": [
      "Environment variables have been loaded ;-)\n",
      "Project Connection String: <...hub01-grp;mmai-swc-hub01-prj01>\n",
      "azure-ai-projects library installed version: 1.0.0b10\n"
     ]
    }
   ],
   "source": [
    "import os, json, time\n",
    "from IPython.display import Markdown, display\n",
    "from dotenv import load_dotenv # requires python-dotenv\n",
    "from PIL import Image # requires pip install pillow\n",
    "from datetime import datetime\n",
    "from common.agents_helper_functions import *\n",
    "import importlib.metadata\n",
    "import matplotlib.pyplot as plt\n",
    "import matplotlib.image as mpimg\n",
    "\n",
    "if not load_dotenv(\"./../config/credentials_my.env\"):\n",
    "    print(\"Environment variables not loaded, cell execution stopped\")\n",
    "else:\n",
    "    print(\"Environment variables have been loaded ;-)\")\n",
    "\n",
    "deployment_name =  os.environ[\"MODEL_DEPLOYMENT_NAME_MINI\"]\n",
    "model_name =  os.environ[\"MODEL_DEPLOYMENT_NAME\"]\n",
    "api_version = os.environ[\"OPENAI_API_VERSION\"] # at least \"2025-03-01-preview\"\n",
    "\n",
    "project_connection_string = os.environ[\"PROJECT_CONNECTION_STRING\"]\n",
    "\n",
    "print(f'Project Connection String: <...{project_connection_string[-30:]}>')\n",
    "version = importlib.metadata.version(\"azure-ai-projects\")\n",
    "print(f\"azure-ai-projects library installed version: {version}\")"
   ]
  },
  {
   "cell_type": "markdown",
   "id": "5832e0c1-ef63-41c2-b95c-f92138a6bce6",
   "metadata": {},
   "source": [
    "# Create AI Foundry Project Client"
   ]
  },
  {
   "cell_type": "code",
   "execution_count": 2,
   "id": "5a9abb62-b855-402f-9e22-583ffe6bf8cb",
   "metadata": {},
   "outputs": [
    {
     "data": {
      "text/plain": [
       "{'subscription_id': 'eca2eddb-0f0c-4351-a634-52751499eeea',\n",
       " 'resource_group_name': 'mmai-swc-hub01-grp',\n",
       " 'project_name': 'mmai-swc-hub01-prj01'}"
      ]
     },
     "execution_count": 2,
     "metadata": {},
     "output_type": "execute_result"
    }
   ],
   "source": [
    "from azure.ai.projects import AIProjectClient\n",
    "from azure.ai.projects.models import FunctionTool, ToolOutput # <<<<<<<<<<<<<<< SPECIFIC FOR FUNCTION CALLING\n",
    "from azure.identity import DefaultAzureCredential\n",
    "\n",
    "project_client = AIProjectClient.from_connection_string(\n",
    "    credential=DefaultAzureCredential(), conn_str=project_connection_string\n",
    ")\n",
    "\n",
    "project_client.scope"
   ]
  },
  {
   "cell_type": "markdown",
   "id": "59a0cb33-1b66-4cd9-964e-65ce8c5147a8",
   "metadata": {},
   "source": [
    "# Define some custom functions"
   ]
  },
  {
   "cell_type": "code",
   "execution_count": 3,
   "id": "28086556-34d4-48bb-ba24-d74839fc0a3a",
   "metadata": {},
   "outputs": [],
   "source": [
    "from datetime import date\n",
    "\n",
    "def save_file(joke:str) -> str:\n",
    "    \"\"\"\n",
    "    Saves a text file using the textual content passed in the joke variable.\n",
    "    Args:\n",
    "        joke (str): The text content to be saved into the file. \n",
    "        \n",
    "    Returns:\n",
    "        Optional[str]: Returns 'success: file saved' on success, otherwise returns an error message.\n",
    "    \"\"\"\n",
    "    file_name = \"joke.txt\"\n",
    "    try:\n",
    "        with open(file_name, \"w\") as f:\n",
    "            f.write(joke)\n",
    "        return \"success: file saved\"\n",
    "    except Exception as e:\n",
    "        return f\"error: {str(e)}\"\n",
    "\n",
    "\n",
    "def get_flights(date_1:date, date_2:date) -> str:\n",
    "    \"\"\" Returns the number of flights in a date interval  \"\"\"\n",
    "    import json\n",
    "    from dateutil.parser import parse\n",
    "    flights = {\n",
    "        \"flights\": abs((parse(date_2) - parse(date_1)).days) \n",
    "    }\n",
    "    return json.dumps(flights)\n",
    "\n",
    "\n",
    "def my_cat_born_date() -> str:\n",
    "    \"\"\" Returns my cat's born date \"\"\"\n",
    "    import datetime, random, json\n",
    "    from dateutil.relativedelta import relativedelta\n",
    "    \n",
    "    # Calculate the date as ten years ago  \n",
    "    ten_years_ago = datetime.date.today() - relativedelta(years=10) \n",
    "    \n",
    "    cat_born_date = {\n",
    "        \"cat_born_date\": ten_years_ago.strftime(\"%Y-%m-%d\")\n",
    "    }\n",
    "    return json.dumps(cat_born_date)\n",
    "\n",
    "\n",
    "def send_email(to:str, subject:str, body:str) -> str:\n",
    "    \"\"\" Sends an email \"\"\"\n",
    "    import requests, json\n",
    "    url = 'https://prod-18.swedencentral.logic.azure.com:443/workflows/4f7a19b041e04a9e8ea47303e1af503c/triggers/When_a_HTTP_request_is_received/paths/invoke?api-version=2016-10-01&sp=%2Ftriggers%2FWhen_a_HTTP_request_is_received%2Frun&sv=1.0&sig=TX-eDahoU_QIEOjw9qOXjRyPNqA9s4IVkd0osbsyzzI'  \n",
    "\n",
    "    headers = {\n",
    "        'Content-Type': 'application/json'\n",
    "    }\n",
    "\n",
    "    data = {\n",
    "        \"to\": to,\n",
    "        \"subject\": subject,\n",
    "        \"body\": body\n",
    "    }\n",
    "    response = {\"response\": str(requests.post(url, headers=headers, data=json.dumps(data)))}\n",
    "    return json.dumps(response)"
   ]
  },
  {
   "cell_type": "markdown",
   "id": "db9a9004-3b75-454e-981b-0ea252a4748d",
   "metadata": {},
   "source": [
    "# Consolidate the custom functions into a single set"
   ]
  },
  {
   "cell_type": "code",
   "execution_count": 4,
   "id": "1a6a6f91-7a99-40a4-8c36-f06ef9299ef0",
   "metadata": {},
   "outputs": [
    {
     "data": {
      "text/plain": [
       "{<function __main__.get_flights(date_1: datetime.date, date_2: datetime.date) -> str>,\n",
       " <function __main__.my_cat_born_date() -> str>,\n",
       " <function __main__.save_file(joke: str) -> str>,\n",
       " <function __main__.send_email(to: str, subject: str, body: str) -> str>}"
      ]
     },
     "execution_count": 4,
     "metadata": {},
     "output_type": "execute_result"
    }
   ],
   "source": [
    "from typing import Any, Callable, Set\n",
    "\n",
    "user_functions: Set[Callable[..., Any]] = {\n",
    "    save_file, \n",
    "    get_flights, \n",
    "    my_cat_born_date,\n",
    "    send_email\n",
    "}\n",
    "\n",
    "user_functions"
   ]
  },
  {
   "cell_type": "markdown",
   "id": "8526adb2-24ca-424e-a408-9c9d90c537d6",
   "metadata": {},
   "source": [
    "# Just for testing: use the `user_function` set to call its functions"
   ]
  },
  {
   "cell_type": "code",
   "execution_count": 5,
   "id": "4f4d0dfd-3fcb-47ae-8fce-30eac22b72f1",
   "metadata": {},
   "outputs": [
    {
     "name": "stdout",
     "output_type": "stream",
     "text": [
      "my_cat_born_date() returned {\"cat_born_date\": \"2015-05-27\"}\n",
      "send_email() returned {\"response\": \"<Response [200]>\"}\n",
      "get_flights() returned {\"flights\": 2285}\n",
      "save_file() returned success: file saved\n"
     ]
    }
   ],
   "source": [
    "for function in user_functions:    \n",
    "    if function.__name__ == \"my_cat_born_date\":\n",
    "        result = function()\n",
    "    elif function.__name__ == \"save_file\": \n",
    "        result = function(\"This is the content\")\n",
    "    elif function.__name__ == \"get_flights\": \n",
    "        result = function(\"2015-01-01\", \"2021-04-04\")\n",
    "    elif function.__name__ == \"send_email\": \n",
    "        result = function(\"mauromi@microsoft.com\", \"email from Python Agent\", \"body\")\n",
    "\n",
    "    print(f\"{function.__name__}() returned {result}\")"
   ]
  },
  {
   "cell_type": "markdown",
   "id": "c9aa41d6-f4dd-42a1-a1bc-e8977c136c72",
   "metadata": {},
   "source": [
    "# Initialize `FunctionTool`"
   ]
  },
  {
   "cell_type": "code",
   "execution_count": 6,
   "id": "c51a705f-fe78-4b98-b3be-8bfa0715624d",
   "metadata": {},
   "outputs": [
    {
     "name": "stdout",
     "output_type": "stream",
     "text": [
      "functions.definitions: [{'type': 'function', 'function': {'name': 'my_cat_born_date', 'description': \"Returns my cat's born date \", 'parameters': {'type': 'object', 'properties': {}, 'required': []}}}, {'type': 'function', 'function': {'name': 'send_email', 'description': 'Sends an email ', 'parameters': {'type': 'object', 'properties': {'to': {'type': 'string', 'description': 'No description'}, 'subject': {'type': 'string', 'description': 'No description'}, 'body': {'type': 'string', 'description': 'No description'}}, 'required': ['to', 'subject', 'body']}}}, {'type': 'function', 'function': {'name': 'get_flights', 'description': 'Returns the number of flights in a date interval  ', 'parameters': {'type': 'object', 'properties': {'date_1': {'type': 'string', 'description': 'No description'}, 'date_2': {'type': 'string', 'description': 'No description'}}, 'required': ['date_1', 'date_2']}}}, {'type': 'function', 'function': {'name': 'save_file', 'description': 'Saves a text file using the textual content passed in the joke variable.', 'parameters': {'type': 'object', 'properties': {'joke': {'type': 'string', 'description': 'No description'}}, 'required': ['joke']}}}]\n",
      "\n",
      "functions.resources: {}\n"
     ]
    }
   ],
   "source": [
    "functions = FunctionTool(user_functions)\n",
    "print(f\"functions.definitions: {functions.definitions}\")\n",
    "print(f\"\\nfunctions.resources: {functions.resources}\")"
   ]
  },
  {
   "cell_type": "code",
   "execution_count": 7,
   "id": "e6251745-7222-4d2d-ae67-4e92a7cc77a5",
   "metadata": {},
   "outputs": [
    {
     "name": "stdout",
     "output_type": "stream",
     "text": [
      "{\n",
      "  \"my_cat_born_date\": {\n",
      "    \"_data\": {\n",
      "      \"name\": \"my_cat_born_date\",\n",
      "      \"description\": \"Returns my cat's born date \",\n",
      "      \"parameters\": {\n",
      "        \"type\": \"object\",\n",
      "        \"properties\": {},\n",
      "        \"required\": []\n",
      "      }\n",
      "    }\n",
      "  },\n",
      "  \"send_email\": {\n",
      "    \"_data\": {\n",
      "      \"name\": \"send_email\",\n",
      "      \"description\": \"Sends an email \",\n",
      "      \"parameters\": {\n",
      "        \"type\": \"object\",\n",
      "        \"properties\": {\n",
      "          \"to\": {\n",
      "            \"type\": \"string\",\n",
      "            \"description\": \"No description\"\n",
      "          },\n",
      "          \"subject\": {\n",
      "            \"type\": \"string\",\n",
      "            \"description\": \"No description\"\n",
      "          },\n",
      "          \"body\": {\n",
      "            \"type\": \"string\",\n",
      "            \"description\": \"No description\"\n",
      "          }\n",
      "        },\n",
      "        \"required\": [\n",
      "          \"to\",\n",
      "          \"subject\",\n",
      "          \"body\"\n",
      "        ]\n",
      "      }\n",
      "    }\n",
      "  },\n",
      "  \"get_flights\": {\n",
      "    \"_data\": {\n",
      "      \"name\": \"get_flights\",\n",
      "      \"description\": \"Returns the number of flights in a date interval  \",\n",
      "      \"parameters\": {\n",
      "        \"type\": \"object\",\n",
      "        \"properties\": {\n",
      "          \"date_1\": {\n",
      "            \"type\": \"string\",\n",
      "            \"description\": \"No description\"\n",
      "          },\n",
      "          \"date_2\": {\n",
      "            \"type\": \"string\",\n",
      "            \"description\": \"No description\"\n",
      "          }\n",
      "        },\n",
      "        \"required\": [\n",
      "          \"date_1\",\n",
      "          \"date_2\"\n",
      "        ]\n",
      "      }\n",
      "    }\n",
      "  },\n",
      "  \"save_file\": {\n",
      "    \"_data\": {\n",
      "      \"name\": \"save_file\",\n",
      "      \"description\": \"Saves a text file using the textual content passed in the joke variable.\",\n",
      "      \"parameters\": {\n",
      "        \"type\": \"object\",\n",
      "        \"properties\": {\n",
      "          \"joke\": {\n",
      "            \"type\": \"string\",\n",
      "            \"description\": \"No description\"\n",
      "          }\n",
      "        },\n",
      "        \"required\": [\n",
      "          \"joke\"\n",
      "        ]\n",
      "      }\n",
      "    }\n",
      "  }\n",
      "}\n"
     ]
    }
   ],
   "source": [
    "# definitions pretty print\n",
    "def format_tool_definitions(definitions):\n",
    "    def custom_serializer(obj):\n",
    "        return obj.__dict__ if hasattr(obj, '__dict__') else str(obj)\n",
    "\n",
    "    function_dict = {item['function']['name']: item['function'] for item in functions.definitions}\n",
    "\n",
    "    return json.dumps(function_dict, indent=2, default=custom_serializer)\n",
    "\n",
    "print(format_tool_definitions (functions.definitions))"
   ]
  },
  {
   "cell_type": "markdown",
   "id": "d2f05e60-a64d-4536-a656-6608113bf2db",
   "metadata": {},
   "source": [
    "# Create AI Foundry Agent"
   ]
  },
  {
   "cell_type": "code",
   "execution_count": 8,
   "id": "a4465bd0-370a-4651-aa48-1994a32a65f2",
   "metadata": {},
   "outputs": [
    {
     "data": {
      "text/plain": [
       "<bound method _MyMutableMapping.items of {'id': 'asst_Lka3PohT856pobZDFhUKYEts', 'object': 'assistant', 'created_at': 1748337939, 'name': 'functiontool-agent', 'description': None, 'model': 'gpt-4o', 'instructions': 'You are a helpful assistant', 'tools': [{'type': 'function', 'function': {'name': 'my_cat_born_date', 'description': \"Returns my cat's born date \", 'parameters': {'type': 'object', 'properties': {}, 'required': []}, 'strict': False}}, {'type': 'function', 'function': {'name': 'send_email', 'description': 'Sends an email ', 'parameters': {'type': 'object', 'properties': {'to': {'type': 'string', 'description': 'No description'}, 'subject': {'type': 'string', 'description': 'No description'}, 'body': {'type': 'string', 'description': 'No description'}}, 'required': ['to', 'subject', 'body']}, 'strict': False}}, {'type': 'function', 'function': {'name': 'get_flights', 'description': 'Returns the number of flights in a date interval  ', 'parameters': {'type': 'object', 'properties': {'date_1': {'type': 'string', 'description': 'No description'}, 'date_2': {'type': 'string', 'description': 'No description'}}, 'required': ['date_1', 'date_2']}, 'strict': False}}, {'type': 'function', 'function': {'name': 'save_file', 'description': 'Saves a text file using the textual content passed in the joke variable.', 'parameters': {'type': 'object', 'properties': {'joke': {'type': 'string', 'description': 'No description'}}, 'required': ['joke']}, 'strict': False}}], 'top_p': 1.0, 'temperature': 1.0, 'tool_resources': {}, 'metadata': {}, 'response_format': 'auto'}>"
      ]
     },
     "execution_count": 8,
     "metadata": {},
     "output_type": "execute_result"
    }
   ],
   "source": [
    "agent = project_client.agents.create_agent(\n",
    "    model=model_name,\n",
    "    name=\"functiontool-agent\",\n",
    "    instructions=\"You are a helpful assistant\",\n",
    "    tools=functions.definitions\n",
    ")\n",
    "\n",
    "agent.items"
   ]
  },
  {
   "cell_type": "markdown",
   "id": "986f23c5-d08c-4f72-a2c0-d529b1c2e65d",
   "metadata": {},
   "source": [
    "# Create the thread and attach a new message to it"
   ]
  },
  {
   "cell_type": "code",
   "execution_count": 9,
   "id": "a8f794b0-036e-4952-b35f-dd058c661db9",
   "metadata": {},
   "outputs": [
    {
     "name": "stdout",
     "output_type": "stream",
     "text": [
      "Created thread: {'id': 'thread_uM2aVH9blTE6GySa6jGrsyEc', 'object': 'thread', 'created_at': 1748337940, 'metadata': {}, 'tool_resources': {}}\n",
      "\n",
      "Created message: {'id': 'msg_zDsFC0srIbBm6044ReJk5ait', 'object': 'thread.message', 'created_at': 1748337941, 'assistant_id': None, 'thread_id': 'thread_uM2aVH9blTE6GySa6jGrsyEc', 'run_id': None, 'role': 'user', 'content': [{'type': 'text', 'text': {'value': 'Please write into a file the nr of flights between my cat born date and Easter 2021. Send the answer to mauromi@microsoft.com, also.', 'annotations': []}}], 'attachments': [], 'metadata': {}}\n"
     ]
    }
   ],
   "source": [
    "# Create a thread\n",
    "thread = project_client.agents.create_thread()\n",
    "print(f\"Created thread: {thread}\\n\")\n",
    "\n",
    "# Add a user message to the thread\n",
    "message = project_client.agents.create_message(\n",
    "    thread_id=thread.id, \n",
    "    role=\"user\", \n",
    "    content=\"Please write into a file the nr of flights between my cat born date and Easter 2021. Send the answer to mauromi@microsoft.com, also.\",\n",
    ")\n",
    "print(f\"Created message: {message}\")"
   ]
  },
  {
   "cell_type": "markdown",
   "id": "6f5358da-be3d-4527-8902-9d71fba9743d",
   "metadata": {},
   "source": [
    "# Run the agent synchronously and check the status looping until the run stops\n",
    "**Note**: if you get \"incomplete\" due to content filtering, please try running the same cell again"
   ]
  },
  {
   "cell_type": "code",
   "execution_count": 11,
   "id": "c49f24af-3a75-4537-8006-bd0879aad9af",
   "metadata": {},
   "outputs": [
    {
     "name": "stdout",
     "output_type": "stream",
     "text": [
      "Run details:\n",
      "{'id': 'run_XgAhc8yDZKyjSitYnyth48un', 'object': 'thread.run', 'created_at': 1748337957, 'assistant_id': 'asst_Lka3PohT856pobZDFhUKYEts', 'thread_id': 'thread_uM2aVH9blTE6GySa6jGrsyEc', 'status': 'requires_action', 'started_at': 1748337957, 'expires_at': 1748373957, 'cancelled_at': None, 'failed_at': None, 'completed_at': None, 'required_action': {'type': 'submit_tool_outputs', 'submit_tool_outputs': {'tool_calls': [{'id': 'call_gcxy5yIscUIzQaDX9DTUXix6', 'type': 'function', 'function': {'name': 'my_cat_born_date', 'arguments': '{}'}}]}}, 'last_error': None, 'model': 'gpt-4o', 'instructions': 'You are a helpful assistant', 'tools': [{'type': 'function', 'function': {'name': 'my_cat_born_date', 'description': \"Returns my cat's born date \", 'parameters': {'type': 'object', 'properties': {}, 'required': []}, 'strict': False}}, {'type': 'function', 'function': {'name': 'send_email', 'description': 'Sends an email ', 'parameters': {'type': 'object', 'properties': {'to': {'type': 'string', 'description': 'No description'}, 'subject': {'type': 'string', 'description': 'No description'}, 'body': {'type': 'string', 'description': 'No description'}}, 'required': ['to', 'subject', 'body']}, 'strict': False}}, {'type': 'function', 'function': {'name': 'get_flights', 'description': 'Returns the number of flights in a date interval  ', 'parameters': {'type': 'object', 'properties': {'date_1': {'type': 'string', 'description': 'No description'}, 'date_2': {'type': 'string', 'description': 'No description'}}, 'required': ['date_1', 'date_2']}, 'strict': False}}, {'type': 'function', 'function': {'name': 'save_file', 'description': 'Saves a text file using the textual content passed in the joke variable.', 'parameters': {'type': 'object', 'properties': {'joke': {'type': 'string', 'description': 'No description'}}, 'required': ['joke']}, 'strict': False}}], 'tool_resources': {}, 'metadata': {}, 'temperature': 1.0, 'top_p': 1.0, 'max_completion_tokens': None, 'max_prompt_tokens': None, 'truncation_strategy': {'type': 'auto', 'last_messages': None}, 'incomplete_details': None, 'usage': None, 'response_format': 'auto', 'tool_choice': 'auto', 'parallel_tool_calls': True}\n",
      "\n",
      "Run finished with status: <RunStatus.REQUIRES_ACTION>. Please proceed by running the next cell.\n",
      "\n",
      "CPU times: user 9.67 ms, sys: 1 ms, total: 10.7 ms\n",
      "Wall time: 2.31 s\n"
     ]
    }
   ],
   "source": [
    "%%time\n",
    "\n",
    "run = project_client.agents.create_run(thread_id=thread.id, agent_id=agent.id)\n",
    "\n",
    "run = project_client.agents.get_run(thread_id=thread.id, run_id=run.id)\n",
    "\n",
    "# run.status or run[\"status\"]? it's up to you, but be aware to use it \n",
    "# use the run as json object, or as azure.ai.projects.models._models.ThreadRun\n",
    "while run[\"status\"] in ['queued', 'in_progress', 'cancelling']: # here I use the run as a json object\n",
    "    time.sleep(1)\n",
    "    run = project_client.agents.get_run(thread_id=thread.id, run_id=run.id)\n",
    "\n",
    "if run[\"status\"] == \"failed\": \n",
    "    # Check if you got \"Rate limit is exceeded.\", then you want to get more quota\n",
    "    print(f\"Run failed: {run.last_error}\")\n",
    "elif run[\"status\"] == \"incomplete\":\n",
    "    print(f'\"Incomplete\" status returned due to the following reason: <{run[\"incomplete_details\"][\"reason\"]}>. You may try to run this cell again.\\n')\n",
    "else:\n",
    "    print(f\"Run details:\\n{run}\\n\\nRun finished with status: <{run.status}>. Please proceed by running the next cell.\\n\")"
   ]
  },
  {
   "cell_type": "markdown",
   "id": "baeabc3f-d5f5-4b18-be6d-82b604e1d017",
   "metadata": {},
   "source": [
    "# KEEP RUNNING this cells until run.status == 'COMPLETED'"
   ]
  },
  {
   "cell_type": "code",
   "execution_count": 14,
   "id": "e877975a-8cde-4df8-bbd7-500eebb20d7b",
   "metadata": {},
   "outputs": [
    {
     "name": "stdout",
     "output_type": "stream",
     "text": [
      "Initial run status: RunStatus.REQUIRES_ACTION\n",
      "\n",
      "Required action(s): {'type': 'submit_tool_outputs', 'submit_tool_outputs': {'tool_calls': [{'id': 'call_zcyy0EW9t2QUFyyUJQYkMdHa', 'type': 'function', 'function': {'name': 'save_file', 'arguments': '{\"joke\": \"The number of flights between my cat\\'s birth date (2015-05-27) and Easter 2021 (2021-04-04) is: 2139.\"}'}}, {'id': 'call_sEcWwZljK05TSyRaVHAku0fw', 'type': 'function', 'function': {'name': 'send_email', 'arguments': '{\"to\": \"mauromi@microsoft.com\", \"subject\": \"Number of Flights Information\", \"body\": \"The number of flights between my cat\\'s birth date (2015-05-27) and Easter 2021 (2021-04-04) is: 2139.\"}'}}]}}\n",
      "\n",
      "We need to run 2 tool call(s): [{'id': 'call_zcyy0EW9t2QUFyyUJQYkMdHa', 'type': 'function', 'function': {'name': 'save_file', 'arguments': '{\"joke\": \"The number of flights between my cat\\'s birth date (2015-05-27) and Easter 2021 (2021-04-04) is: 2139.\"}'}}, {'id': 'call_sEcWwZljK05TSyRaVHAku0fw', 'type': 'function', 'function': {'name': 'send_email', 'arguments': '{\"to\": \"mauromi@microsoft.com\", \"subject\": \"Number of Flights Information\", \"body\": \"The number of flights between my cat\\'s birth date (2015-05-27) and Easter 2021 (2021-04-04) is: 2139.\"}'}}]\n",
      "\n",
      "1 - Executing tool_call save_file (call_zcyy0EW9t2QUFyyUJQYkMdHa) >>> output: success: file saved\n",
      "\n",
      "2 - Executing tool_call send_email (call_sEcWwZljK05TSyRaVHAku0fw) >>> output: {\"response\": \"<Response [200]>\"}\n",
      "\n",
      "Run status: RunStatus.COMPLETED\n",
      "\n",
      "Great job! All required actions are completed. Please move on to the next cell.\n"
     ]
    }
   ],
   "source": [
    "# just for checking: analyze the current status\n",
    "import time\n",
    "\n",
    "run = project_client.agents.get_run(thread_id=thread.id, run_id=run.id)\n",
    "print(f\"Initial run status: {run.status}\")\n",
    "print(f\"\\nRequired action(s): {run.required_action}\")\n",
    "print(f\"\\nWe need to run {len(run.required_action.submit_tool_outputs.tool_calls)} tool call(s): {run.required_action.submit_tool_outputs.tool_calls}\")\n",
    "\n",
    "i = 0\n",
    "tool_outputs = []\n",
    "for tool_call in run.required_action.submit_tool_outputs.tool_calls:\n",
    "    i += 1\n",
    "    output = functions.execute(tool_call)\n",
    "    print(f\"\\n{i} - Executing tool_call {tool_call.function.name} ({tool_call.id}) >>> output: {output}\")\n",
    "    tool_outputs.append(\n",
    "        ToolOutput(\n",
    "            tool_call_id=tool_call.id,\n",
    "            output=output\n",
    "        )\n",
    "    )\n",
    "    \n",
    "run = project_client.agents.submit_tool_outputs_to_run(\n",
    "    thread_id=thread.id, run_id=run.id, tool_outputs=tool_outputs\n",
    ")\n",
    "\n",
    "while run[\"status\"] in [\"queued\", \"in_progress\"]:\n",
    "    time.sleep(1)\n",
    "    run = project_client.agents.get_run(thread_id=thread.id, run_id=run.id)\n",
    "    print(f\"\\nRun status: {run.status}\")\n",
    "\n",
    "if run[\"status\"] == \"requires_action\":\n",
    "    print(\"\\nPlease run this cell again until all required actions are executed.\")\n",
    "elif run[\"status\"] == \"completed\":\n",
    "    print(\"\\nGreat job! All required actions are completed. Please move on to the next cell.\")"
   ]
  },
  {
   "cell_type": "markdown",
   "id": "25de741a-bd1f-4f60-9e6c-22e05f7564bb",
   "metadata": {},
   "source": [
    "# Fetch messages from the thread after the agent run execution"
   ]
  },
  {
   "cell_type": "code",
   "execution_count": 15,
   "id": "4fb99041-1e46-4b78-a4c3-23b922d957aa",
   "metadata": {},
   "outputs": [
    {
     "name": "stdout",
     "output_type": "stream",
     "text": [
      "Here are the 3 messages:\n",
      "\n",
      "\n",
      "===== MESSAGE 1 =====\n",
      "\n",
      "CONTENT 1 (MessageTextContent) --> Text: Please write into a file the nr of flights between my cat born date and Easter 2021. Send the answer to mauromi@microsoft.com, also.\n",
      "\n",
      "===== MESSAGE 2 =====\n",
      "\n",
      "CONTENT 1 (MessageTextContent) --> Text: I'm sorry, but I cannot assist with that request.\n",
      "\n",
      "===== MESSAGE 3 =====\n",
      "\n",
      "CONTENT 1 (MessageTextContent) --> Text: The number of flights between your cat's birth date (2015-05-27) and Easter 2021 (2021-04-04) is 2139. \n",
      "\n",
      "- This information has been written into a file.\n",
      "- An email with the same details was sent to mauromi@microsoft.com.\n"
     ]
    }
   ],
   "source": [
    "from azure.ai.projects.models import MessageTextContent, MessageImageFileContent\n",
    "\n",
    "if run.status == 'completed':    \n",
    "    messages = project_client.agents.list_messages(thread_id=thread.id)\n",
    "    messages_nr = len(messages.data)\n",
    "    print(f\"Here are the {messages_nr} messages:\\n\")\n",
    "    \n",
    "    for i, message in enumerate(reversed(messages.data), 1):\n",
    "        j = 0\n",
    "        print(f\"\\n===== MESSAGE {i} =====\")\n",
    "        for c in message.content:\n",
    "            j +=1\n",
    "            if (type(c) is MessageImageFileContent):\n",
    "                print(f\"\\nCONTENT {j} (MessageImageFileContent) --> image_file id: {c.image_file.file_id}\")\n",
    "            elif (type(c) is MessageTextContent):\n",
    "                print(f\"\\nCONTENT {j} (MessageTextContent) --> Text: {c.text.value}\")\n",
    "                for a in c.text.annotations:\n",
    "                    print(f\">>> Annotation in MessageTextContent {j} of message {i}: {a.text}\\n\")\n",
    "\n",
    "else:\n",
    "    print(f\"Sorry, I can't proceed because the run status is {run.status}\")"
   ]
  },
  {
   "cell_type": "markdown",
   "id": "cf512a12-addf-49cc-929a-5df65fcf8b61",
   "metadata": {},
   "source": [
    "# Run Steps"
   ]
  },
  {
   "cell_type": "code",
   "execution_count": 16,
   "id": "9643cbce-4453-4d4a-a637-540aeec799f8",
   "metadata": {},
   "outputs": [
    {
     "name": "stdout",
     "output_type": "stream",
     "text": [
      "Nr of run step(s): 4\n",
      "\n",
      "Run step 1: {'id': 'step_iPI7kfhCHYVqTgp750mfstJo', 'object': 'thread.run.step', 'created_at': 1748337994, 'run_id': 'run_XgAhc8yDZKyjSitYnyth48un', 'assistant_id': 'asst_Lka3PohT856pobZDFhUKYEts', 'thread_id': 'thread_uM2aVH9blTE6GySa6jGrsyEc', 'type': 'message_creation', 'status': 'completed', 'cancelled_at': None, 'completed_at': 1748337995, 'expires_at': None, 'failed_at': None, 'last_error': None, 'step_details': {'type': 'message_creation', 'message_creation': {'message_id': 'msg_g2Xzj9oWkBD0SOmv8TS3Ndpy'}}, 'usage': {'prompt_tokens': 692, 'completion_tokens': 66, 'total_tokens': 758, 'prompt_token_details': {'cached_tokens': 0}}} \n",
      "\n",
      "Run step 2: {'id': 'step_T6waB5UUDqQItcCB49jFPxVv', 'object': 'thread.run.step', 'created_at': 1748337974, 'run_id': 'run_XgAhc8yDZKyjSitYnyth48un', 'assistant_id': 'asst_Lka3PohT856pobZDFhUKYEts', 'thread_id': 'thread_uM2aVH9blTE6GySa6jGrsyEc', 'type': 'tool_calls', 'status': 'completed', 'cancelled_at': None, 'completed_at': 1748337988, 'expires_at': None, 'failed_at': None, 'last_error': None, 'step_details': {'type': 'tool_calls', 'tool_calls': [{'id': 'call_zcyy0EW9t2QUFyyUJQYkMdHa', 'type': 'function', 'function': {'name': 'save_file', 'arguments': '{\"joke\": \"The number of flights between my cat\\'s birth date (2015-05-27) and Easter 2021 (2021-04-04) is: 2139.\"}', 'output': 'success: file saved'}}, {'id': 'call_sEcWwZljK05TSyRaVHAku0fw', 'type': 'function', 'function': {'name': 'send_email', 'arguments': '{\"to\": \"mauromi@microsoft.com\", \"subject\": \"Number of Flights Information\", \"body\": \"The number of flights between my cat\\'s birth date (2015-05-27) and Easter 2021 (2021-04-04) is: 2139.\"}', 'output': '{\"response\": \"<Response [200]>\"}'}}]}, 'usage': {'prompt_tokens': 532, 'completion_tokens': 135, 'total_tokens': 667, 'prompt_token_details': {'cached_tokens': 0}}} \n",
      "\n",
      "Run step 3: {'id': 'step_j8kT2FWiwtuB5pZBMXsQRQr5', 'object': 'thread.run.step', 'created_at': 1748337966, 'run_id': 'run_XgAhc8yDZKyjSitYnyth48un', 'assistant_id': 'asst_Lka3PohT856pobZDFhUKYEts', 'thread_id': 'thread_uM2aVH9blTE6GySa6jGrsyEc', 'type': 'tool_calls', 'status': 'completed', 'cancelled_at': None, 'completed_at': 1748337973, 'expires_at': None, 'failed_at': None, 'last_error': None, 'step_details': {'type': 'tool_calls', 'tool_calls': [{'id': 'call_np0XaFBwn0uovqpOcqESVYkD', 'type': 'function', 'function': {'name': 'get_flights', 'arguments': '{\"date_1\":\"2015-05-27\",\"date_2\":\"2021-04-04\"}', 'output': '{\"flights\": 2139}'}}]}, 'usage': {'prompt_tokens': 481, 'completion_tokens': 34, 'total_tokens': 515, 'prompt_token_details': {'cached_tokens': 0}}} \n",
      "\n",
      "Run step 4: {'id': 'step_ngC2uixMh0P7u40qpb0YdAtW', 'object': 'thread.run.step', 'created_at': 1748337958, 'run_id': 'run_XgAhc8yDZKyjSitYnyth48un', 'assistant_id': 'asst_Lka3PohT856pobZDFhUKYEts', 'thread_id': 'thread_uM2aVH9blTE6GySa6jGrsyEc', 'type': 'tool_calls', 'status': 'completed', 'cancelled_at': None, 'completed_at': 1748337965, 'expires_at': None, 'failed_at': None, 'last_error': None, 'step_details': {'type': 'tool_calls', 'tool_calls': [{'id': 'call_gcxy5yIscUIzQaDX9DTUXix6', 'type': 'function', 'function': {'name': 'my_cat_born_date', 'arguments': '{}', 'output': '{\"cat_born_date\": \"2015-05-27\"}'}}]}, 'usage': {'prompt_tokens': 442, 'completion_tokens': 14, 'total_tokens': 456, 'prompt_token_details': {'cached_tokens': 0}}} \n",
      "\n"
     ]
    }
   ],
   "source": [
    "run_steps = project_client.agents.list_run_steps(run_id=run.id, thread_id=thread.id)\n",
    "\n",
    "print(f'Nr of run step(s): {len(run_steps[\"data\"])}\\n')\n",
    "i=0\n",
    "for rs in run_steps[\"data\"]:\n",
    "    i += 1\n",
    "    print(f\"Run step {i}: {rs}\", '\\n')"
   ]
  },
  {
   "cell_type": "markdown",
   "id": "96dbb3d5-9006-41d4-ae54-402ef4f1d35c",
   "metadata": {},
   "source": [
    "# Collect all resources for this project"
   ]
  },
  {
   "cell_type": "code",
   "execution_count": 17,
   "id": "db5b34a9-24f3-4265-8132-430619445629",
   "metadata": {},
   "outputs": [
    {
     "name": "stdout",
     "output_type": "stream",
     "text": [
      "1 agents in project <mmai-swc-hub01-prj01>\n",
      "1 threads in project <mmai-swc-hub01-prj01>\n",
      "0 files in project <mmai-swc-hub01-prj01>\n",
      "2 runs in 1 threads of project <mmai-swc-hub01-prj01>\n",
      "5 run steps in 2 pairs of (thread, run) of project <mmai-swc-hub01-prj01>\n",
      "3 messages in 1 threads of project <mmai-swc-hub01-prj01>\n",
      "0 vector stores in project <mmai-swc-hub01-prj01>\n"
     ]
    }
   ],
   "source": [
    "all_agents = list_all_agents(project_client=project_client)\n",
    "print(all_agents[\"summary\"])\n",
    "\n",
    "all_threads = list_all_threads(project_client)\n",
    "print(all_threads[\"summary\"])\n",
    "\n",
    "all_files = list_all_files(project_client)\n",
    "print(all_files[\"summary\"])\n",
    "\n",
    "all_runs = list_all_runs(project_client)\n",
    "print(all_runs[\"summary\"])\n",
    "\n",
    "all_runsteps=list_all_runsteps(project_client)\n",
    "print(all_runsteps[\"summary\"])\n",
    "\n",
    "all_messages = list_all_messages(project_client)\n",
    "print(all_messages[\"summary\"])\n",
    "\n",
    "all_vectorstores = list_all_vectorstores(project_client=project_client)\n",
    "print(all_vectorstores[\"summary\"])"
   ]
  },
  {
   "cell_type": "markdown",
   "id": "c1e2098a-4a70-4cd4-81a9-706db46ec561",
   "metadata": {},
   "source": [
    "# Teardown for all resources"
   ]
  },
  {
   "cell_type": "code",
   "execution_count": 18,
   "id": "f8d4599d-8818-41e4-b04a-5bdbafc50354",
   "metadata": {},
   "outputs": [
    {
     "name": "stdout",
     "output_type": "stream",
     "text": [
      "Vector stores deleted: 0\n",
      "\n"
     ]
    }
   ],
   "source": [
    "# delete all vector stores\n",
    "\n",
    "i=0\n",
    "for vector_store in all_vectorstores[\"content\"][\"data\"]:\n",
    "    i += 1\n",
    "    project_client.agents.delete_vector_store(vector_store_id=vector_store.id)\n",
    "    print(f\"{i} - Vector store <{vector_store.id}> has been deleted\")\n",
    "\n",
    "all_vectorstores = list_all_vectorstores(project_client=project_client)\n",
    "\n",
    "print(f\"Vector stores deleted: {i}\\n\")"
   ]
  },
  {
   "cell_type": "code",
   "execution_count": 19,
   "id": "d4488291-7686-4635-a042-5bbb7a434d4b",
   "metadata": {},
   "outputs": [
    {
     "name": "stdout",
     "output_type": "stream",
     "text": [
      "Files deleted: 0\n",
      "\n"
     ]
    }
   ],
   "source": [
    "# delete all files\n",
    "\n",
    "i=0\n",
    "for file in all_files['content']['data']:\n",
    "    i += 1\n",
    "    project_client.agents.delete_file(file_id=file.id)\n",
    "    print(f\"{i} - File <{file.filename}> ({file.id}) has been deleted\")\n",
    "\n",
    "all_files = list_all_files(project_client)\n",
    "\n",
    "print(f\"Files deleted: {i}\\n\")"
   ]
  },
  {
   "cell_type": "code",
   "execution_count": 20,
   "id": "e84716c1-7f5b-411c-8034-f6d9f979bb25",
   "metadata": {},
   "outputs": [
    {
     "name": "stdout",
     "output_type": "stream",
     "text": [
      "1 - Thread <thread_uM2aVH9blTE6GySa6jGrsyEc> has been deleted\n",
      "Threads deleted: 1\n",
      "\n"
     ]
    }
   ],
   "source": [
    "# delete all threads\n",
    "\n",
    "i=0\n",
    "for thread in all_threads[\"content\"][\"data\"]:\n",
    "    i += 1\n",
    "    project_client.agents.delete_thread(thread_id=thread.id)\n",
    "    print(f\"{i} - Thread <{thread.id}> has been deleted\")\n",
    "\n",
    "all_threads = list_all_threads(project_client)\n",
    "\n",
    "print(f\"Threads deleted: {i}\\n\")"
   ]
  },
  {
   "cell_type": "code",
   "execution_count": 21,
   "id": "871ef142-cdba-47a6-93da-64ae21929a9e",
   "metadata": {},
   "outputs": [
    {
     "name": "stdout",
     "output_type": "stream",
     "text": [
      "1 - Agent <asst_Lka3PohT856pobZDFhUKYEts> has been deleted\n",
      "Agents deleted: 1\n",
      "\n"
     ]
    }
   ],
   "source": [
    "# delete all agents\n",
    "\n",
    "i=0\n",
    "for agent in all_agents[\"content\"][\"data\"]:\n",
    "    i += 1\n",
    "    project_client.agents.delete_agent(agent_id=agent.id)\n",
    "    print(f\"{i} - Agent <{agent.id}> has been deleted\")\n",
    "\n",
    "all_agents = list_all_agents(project_client=project_client)\n",
    "\n",
    "print(f\"Agents deleted: {i}\\n\")"
   ]
  },
  {
   "cell_type": "markdown",
   "id": "c8cc2b04-a0b3-45ee-9066-4306e16511f9",
   "metadata": {},
   "source": [
    "# HIC SUNT LEONES"
   ]
  }
 ],
 "metadata": {
  "kernelspec": {
   "display_name": "aaas",
   "language": "python",
   "name": "aaas"
  },
  "language_info": {
   "codemirror_mode": {
    "name": "ipython",
    "version": 3
   },
   "file_extension": ".py",
   "mimetype": "text/x-python",
   "name": "python",
   "nbconvert_exporter": "python",
   "pygments_lexer": "ipython3",
   "version": "3.13.2"
  }
 },
 "nbformat": 4,
 "nbformat_minor": 5
}
