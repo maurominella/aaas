{
 "cells": [
  {
   "attachments": {},
   "cell_type": "markdown",
   "id": "6aff6e2d-97b4-441c-b548-2557bafae055",
   "metadata": {},
   "source": [
    "# [Create Agent with Function Call](https://learn.microsoft.com/en-us/python/api/overview/azure/ai-agents-readme?view=azure-python-preview#create-agent-with-function-call) using FunctionTool + ToolOutput\n",
    "You can enhance your Agents by defining **callback functions as function tools**. These can be provided to `create_agent` via either the `toolset` parameter or the **combination** of `tools and tool_resources`. Here are the distinctions:\n",
    "\n",
    "1. **toolset**: When using the toolset parameter, you provide not only the function definitions and descriptions but also their implementations. The SDK will execute these functions within `create_and_run_process` or `streaming`. These functions will be invoked based on their definitions.\n",
    "2. **tools and tool_resources**: When using the tools and tool_resources parameters, only the function definitions and descriptions are provided to `create_agent`, without the implementations. The `Run` or event handler of stream will raise a `requires_action` status based on the function definitions. **Your code must handle this status and call the appropriate functions**.<br/>\n",
    "\n",
    "As a reference point, let's see how we were used to managed this with the notebook [Assistant_APIs_02 (Function Calling).ipynb](https://github.com/maurominella/openai/blob/main/assistantsapi/Assistant_APIs_02%20(Function%20Calling).ipynb)"
   ]
  },
  {
   "cell_type": "markdown",
   "id": "b654baef-3079-453d-b208-257302bffdd3",
   "metadata": {},
   "source": [
    "# Constants"
   ]
  },
  {
   "cell_type": "code",
   "execution_count": 1,
   "id": "98d9cc9d-cbef-4b35-a4a3-84802dd4ee06",
   "metadata": {},
   "outputs": [
    {
     "name": "stdout",
     "output_type": "stream",
     "text": [
      "Environment variables have been loaded ;-)\n",
      "Project Endpoint: <https://aif01ais1lrx7.services.ai.azure.com/api/projects/aif01project01lrx7>\n",
      "azure-ai-projects library installed version: 1.0.0b12\n",
      "azure-ai-agents library installed version: 1.0.1\n"
     ]
    }
   ],
   "source": [
    "import os\n",
    "from IPython.display import Markdown, display\n",
    "from dotenv import load_dotenv # requires python-dotenv\n",
    "from PIL import Image # requires pip install pillow\n",
    "from datetime import datetime\n",
    "from common.agents_helper_functions_NEW import *\n",
    "import importlib.metadata\n",
    "import matplotlib.pyplot as plt\n",
    "import matplotlib.image as mpimg\n",
    "\n",
    "if not load_dotenv(\"./../config/credentials_my.env\"):\n",
    "    print(\"Environment variables not loaded, cell execution stopped\")\n",
    "else:\n",
    "    print(\"Environment variables have been loaded ;-)\")\n",
    "\n",
    "project_endpoint = os.environ[\"AZURE_AIF_PROJECT_ENDPOINT\"]\n",
    "deployment_name =  os.environ[\"MODEL_DEPLOYMENT_NAME\"]\n",
    "api_version = os.environ[\"OPENAI_API_VERSION\"] # at least \"2025-03-01-preview\"\n",
    "\n",
    "print(f'Project Endpoint: <{project_endpoint}>')\n",
    "print(f\"azure-ai-projects library installed version: {importlib.metadata.version(\"azure-ai-projects\")}\")\n",
    "print(f\"azure-ai-agents library installed version: {importlib.metadata.version(\"azure-ai-agents\")}\")"
   ]
  },
  {
   "cell_type": "markdown",
   "id": "5832e0c1-ef63-41c2-b95c-f92138a6bce6",
   "metadata": {},
   "source": [
    "# Create AI Foundry Agents Client"
   ]
  },
  {
   "cell_type": "code",
   "execution_count": 2,
   "id": "1fc663fc-ecdb-4433-856c-1085a6c5daa5",
   "metadata": {},
   "outputs": [
    {
     "data": {
      "text/plain": [
       "<azure.ai.agents._patch.AgentsClient at 0x238cbac70e0>"
      ]
     },
     "execution_count": 2,
     "metadata": {},
     "output_type": "execute_result"
    }
   ],
   "source": [
    "from azure.ai.agents import AgentsClient\n",
    "from azure.identity import DefaultAzureCredential\n",
    "\n",
    "agents_client = AgentsClient(\n",
    "    endpoint=project_endpoint,\n",
    "    credential=DefaultAzureCredential(),\n",
    ")\n",
    "\n",
    "agents_client"
   ]
  },
  {
   "cell_type": "markdown",
   "id": "59a0cb33-1b66-4cd9-964e-65ce8c5147a8",
   "metadata": {},
   "source": [
    "# Define some custom functions"
   ]
  },
  {
   "cell_type": "code",
   "execution_count": 3,
   "id": "28086556-34d4-48bb-ba24-d74839fc0a3a",
   "metadata": {},
   "outputs": [],
   "source": [
    "from datetime import date\n",
    "\n",
    "def save_file(joke:str) -> str:\n",
    "    \"\"\"\n",
    "    Saves a text file using the textual content passed in the joke variable.\n",
    "    Args:\n",
    "        joke (str): The text content to be saved into the file. \n",
    "        \n",
    "    Returns:\n",
    "        Optional[str]: Returns 'success: file saved' on success, otherwise returns an error message.\n",
    "    \"\"\"\n",
    "    file_name = \"joke.txt\"\n",
    "    try:\n",
    "        with open(file_name, \"w\") as f:\n",
    "            f.write(joke)\n",
    "        return \"success: file saved\"\n",
    "    except Exception as e:\n",
    "        return f\"error: {str(e)}\"\n",
    "\n",
    "\n",
    "def get_flights(date_1:date, date_2:date) -> str:\n",
    "    \"\"\" Returns the number of flights in a date interval  \"\"\"\n",
    "    import json\n",
    "    from dateutil.parser import parse\n",
    "    flights = {\n",
    "        \"flights\": abs((parse(date_2) - parse(date_1)).days) \n",
    "    }\n",
    "    return json.dumps(flights)\n",
    "\n",
    "\n",
    "def my_cat_born_date() -> str:\n",
    "    \"\"\" Returns my cat's born date \"\"\"\n",
    "    import datetime, random, json\n",
    "    from dateutil.relativedelta import relativedelta\n",
    "    \n",
    "    # Calculate the date as ten years ago  \n",
    "    ten_years_ago = datetime.date.today() - relativedelta(years=10) \n",
    "    \n",
    "    cat_born_date = {\n",
    "        \"cat_born_date\": ten_years_ago.strftime(\"%Y-%m-%d\")\n",
    "    }\n",
    "    return json.dumps(cat_born_date)\n",
    "\n",
    "\n",
    "def send_email(to:str, subject:str, body:str) -> str:\n",
    "    \"\"\" Sends an email \"\"\"\n",
    "    import requests, json\n",
    "    url = 'https://prod-18.swedencentral.logic.azure.com:443/workflows/4f7a19b041e04a9e8ea47303e1af503c/triggers/When_a_HTTP_request_is_received/paths/invoke?api-version=2016-10-01&sp=%2Ftriggers%2FWhen_a_HTTP_request_is_received%2Frun&sv=1.0&sig=TX-eDahoU_QIEOjw9qOXjRyPNqA9s4IVkd0osbsyzzI'  \n",
    "\n",
    "    headers = {\n",
    "        'Content-Type': 'application/json'\n",
    "    }\n",
    "\n",
    "    data = {\n",
    "        \"to\": to,\n",
    "        \"subject\": subject,\n",
    "        \"body\": body\n",
    "    }\n",
    "    response = {\"response\": str(requests.post(url, headers=headers, data=json.dumps(data)))}\n",
    "    return json.dumps(response)"
   ]
  },
  {
   "cell_type": "markdown",
   "id": "db9a9004-3b75-454e-981b-0ea252a4748d",
   "metadata": {},
   "source": [
    "# Consolidate the custom functions into a single set"
   ]
  },
  {
   "cell_type": "code",
   "execution_count": 4,
   "id": "1a6a6f91-7a99-40a4-8c36-f06ef9299ef0",
   "metadata": {},
   "outputs": [
    {
     "data": {
      "text/plain": [
       "{<function __main__.get_flights(date_1: datetime.date, date_2: datetime.date) -> str>,\n",
       " <function __main__.my_cat_born_date() -> str>,\n",
       " <function __main__.save_file(joke: str) -> str>,\n",
       " <function __main__.send_email(to: str, subject: str, body: str) -> str>}"
      ]
     },
     "execution_count": 4,
     "metadata": {},
     "output_type": "execute_result"
    }
   ],
   "source": [
    "from typing import Any, Callable, Set\n",
    "\n",
    "user_functions: Set[Callable[..., Any]] = {\n",
    "    save_file, \n",
    "    get_flights, \n",
    "    my_cat_born_date,\n",
    "    send_email\n",
    "}\n",
    "\n",
    "user_functions"
   ]
  },
  {
   "cell_type": "markdown",
   "id": "8526adb2-24ca-424e-a408-9c9d90c537d6",
   "metadata": {},
   "source": [
    "# Just for testing: use the `user_function` set to call its functions"
   ]
  },
  {
   "cell_type": "code",
   "execution_count": 5,
   "id": "4f4d0dfd-3fcb-47ae-8fce-30eac22b72f1",
   "metadata": {},
   "outputs": [
    {
     "name": "stdout",
     "output_type": "stream",
     "text": [
      "send_email() returned {\"response\": \"<Response [200]>\"}\n",
      "my_cat_born_date() returned {\"cat_born_date\": \"2015-07-01\"}\n",
      "save_file() returned success: file saved\n",
      "get_flights() returned {\"flights\": 2285}\n"
     ]
    }
   ],
   "source": [
    "for function in user_functions:    \n",
    "    if function.__name__ == \"my_cat_born_date\":\n",
    "        result = function()\n",
    "    elif function.__name__ == \"save_file\": \n",
    "        result = function(\"This is the content\")\n",
    "    elif function.__name__ == \"get_flights\": \n",
    "        result = function(\"2015-01-01\", \"2021-04-04\")\n",
    "    elif function.__name__ == \"send_email\": \n",
    "        result = function(\"mauromi@microsoft.com\", \"email from Python Agent\", \"body\")\n",
    "\n",
    "    print(f\"{function.__name__}() returned {result}\")"
   ]
  },
  {
   "cell_type": "markdown",
   "id": "c9aa41d6-f4dd-42a1-a1bc-e8977c136c72",
   "metadata": {},
   "source": [
    "# Initialize `FunctionTool`"
   ]
  },
  {
   "cell_type": "code",
   "execution_count": 14,
   "id": "c51a705f-fe78-4b98-b3be-8bfa0715624d",
   "metadata": {},
   "outputs": [
    {
     "name": "stdout",
     "output_type": "stream",
     "text": [
      "functions.definitions: [{'type': 'function', 'function': {'name': 'send_email', 'description': 'Sends an email ', 'parameters': {'type': 'object', 'properties': {'to': {'type': 'string', 'description': 'No description'}, 'subject': {'type': 'string', 'description': 'No description'}, 'body': {'type': 'string', 'description': 'No description'}}, 'required': ['to', 'subject', 'body']}}}, {'type': 'function', 'function': {'name': 'my_cat_born_date', 'description': \"Returns my cat's born date \", 'parameters': {'type': 'object', 'properties': {}, 'required': []}}}, {'type': 'function', 'function': {'name': 'save_file', 'description': 'Saves a text file using the textual content passed in the joke variable.', 'parameters': {'type': 'object', 'properties': {'joke': {'type': 'string', 'description': 'No description'}}, 'required': ['joke']}}}, {'type': 'function', 'function': {'name': 'get_flights', 'description': 'Returns the number of flights in a date interval  ', 'parameters': {'type': 'object', 'properties': {'date_1': {'type': 'string', 'description': 'No description'}, 'date_2': {'type': 'string', 'description': 'No description'}}, 'required': ['date_1', 'date_2']}}}]\n",
      "\n",
      "functions.resources: {}\n",
      "functions.definitions: [{'type': 'function', 'function': {'name': 'send_email', 'description': 'Sends an email ', 'parameters': {'type': 'object', 'properties': {'to': {'type': 'string', 'description': 'No description'}, 'subject': {'type': 'string', 'description': 'No description'}, 'body': {'type': 'string', 'description': 'No description'}}, 'required': ['to', 'subject', 'body']}}}, {'type': 'function', 'function': {'name': 'my_cat_born_date', 'description': \"Returns my cat's born date \", 'parameters': {'type': 'object', 'properties': {}, 'required': []}}}, {'type': 'function', 'function': {'name': 'save_file', 'description': 'Saves a text file using the textual content passed in the joke variable.', 'parameters': {'type': 'object', 'properties': {'joke': {'type': 'string', 'description': 'No description'}}, 'required': ['joke']}}}, {'type': 'function', 'function': {'name': 'get_flights', 'description': 'Returns the number of flights in a date interval  ', 'parameters': {'type': 'object', 'properties': {'date_1': {'type': 'string', 'description': 'No description'}, 'date_2': {'type': 'string', 'description': 'No description'}}, 'required': ['date_1', 'date_2']}}}]\n",
      "\n",
      "functions.resources: {}\n"
     ]
    }
   ],
   "source": [
    "from azure.ai.agents.models import FunctionTool, ToolSet\n",
    "\n",
    "functions = FunctionTool(user_functions)\n",
    "toolset = ToolSet()\n",
    "toolset.add(functions)\n",
    "agents_client.enable_auto_function_calls(tools=toolset)\n",
    "\n",
    "print(f\"functions.definitions: {functions.definitions}\")\n",
    "print(f\"\\nfunctions.resources: {functions.resources}\")\n",
    "\n",
    "print(f\"functions.definitions: {toolset.definitions}\")\n",
    "print(f\"\\nfunctions.resources: {toolset.resources}\")"
   ]
  },
  {
   "cell_type": "code",
   "execution_count": 15,
   "id": "e6251745-7222-4d2d-ae67-4e92a7cc77a5",
   "metadata": {},
   "outputs": [],
   "source": [
    "# definitions pretty print\n",
    "def format_tool_definitions(definitions):\n",
    "    import json\n",
    "    def custom_serializer(obj):\n",
    "        return obj.__dict__ if hasattr(obj, '__dict__') else str(obj)\n",
    "\n",
    "    function_dict = {item['function']['name']: item['function'] for item in functions.definitions}\n",
    "\n",
    "    return json.dumps(function_dict, indent=2, default=custom_serializer)\n",
    "\n",
    "# print(format_tool_definitions (functions.definitions))"
   ]
  },
  {
   "cell_type": "markdown",
   "id": "d2f05e60-a64d-4536-a656-6608113bf2db",
   "metadata": {},
   "source": [
    "# Create AI Foundry Agent"
   ]
  },
  {
   "cell_type": "code",
   "execution_count": 16,
   "id": "f2c9e378-4098-42f4-b11e-7b126778bede",
   "metadata": {},
   "outputs": [
    {
     "data": {
      "text/plain": [
       "[{'type': 'function', 'function': {'name': 'send_email', 'description': 'Sends an email ', 'parameters': {'type': 'object', 'properties': {'to': {'type': 'string', 'description': 'No description'}, 'subject': {'type': 'string', 'description': 'No description'}, 'body': {'type': 'string', 'description': 'No description'}}, 'required': ['to', 'subject', 'body']}}},\n",
       " {'type': 'function', 'function': {'name': 'my_cat_born_date', 'description': \"Returns my cat's born date \", 'parameters': {'type': 'object', 'properties': {}, 'required': []}}},\n",
       " {'type': 'function', 'function': {'name': 'save_file', 'description': 'Saves a text file using the textual content passed in the joke variable.', 'parameters': {'type': 'object', 'properties': {'joke': {'type': 'string', 'description': 'No description'}}, 'required': ['joke']}}},\n",
       " {'type': 'function', 'function': {'name': 'get_flights', 'description': 'Returns the number of flights in a date interval  ', 'parameters': {'type': 'object', 'properties': {'date_1': {'type': 'string', 'description': 'No description'}, 'date_2': {'type': 'string', 'description': 'No description'}}, 'required': ['date_1', 'date_2']}}}]"
      ]
     },
     "execution_count": 16,
     "metadata": {},
     "output_type": "execute_result"
    }
   ],
   "source": [
    "functions.definitions"
   ]
  },
  {
   "cell_type": "code",
   "execution_count": 17,
   "id": "a4465bd0-370a-4651-aa48-1994a32a65f2",
   "metadata": {},
   "outputs": [
    {
     "name": "stdout",
     "output_type": "stream",
     "text": [
      "Created agent, ID: asst_XRoI4D6tDbGZNLjJa0Y7x4MT\n"
     ]
    },
    {
     "data": {
      "text/plain": [
       "<bound method _MyMutableMapping.items of {'id': 'asst_XRoI4D6tDbGZNLjJa0Y7x4MT', 'object': 'assistant', 'created_at': 1751365996, 'name': 'functiontool-agent', 'description': None, 'model': 'gpt-4o', 'instructions': 'You are a helpful assistant', 'tools': [{'type': 'function', 'function': {'name': 'send_email', 'description': 'Sends an email ', 'parameters': {'type': 'object', 'properties': {'to': {'type': 'string', 'description': 'No description'}, 'subject': {'type': 'string', 'description': 'No description'}, 'body': {'type': 'string', 'description': 'No description'}}, 'required': ['to', 'subject', 'body']}, 'strict': False}}, {'type': 'function', 'function': {'name': 'my_cat_born_date', 'description': \"Returns my cat's born date \", 'parameters': {'type': 'object', 'properties': {}, 'required': []}, 'strict': False}}, {'type': 'function', 'function': {'name': 'save_file', 'description': 'Saves a text file using the textual content passed in the joke variable.', 'parameters': {'type': 'object', 'properties': {'joke': {'type': 'string', 'description': 'No description'}}, 'required': ['joke']}, 'strict': False}}, {'type': 'function', 'function': {'name': 'get_flights', 'description': 'Returns the number of flights in a date interval  ', 'parameters': {'type': 'object', 'properties': {'date_1': {'type': 'string', 'description': 'No description'}, 'date_2': {'type': 'string', 'description': 'No description'}}, 'required': ['date_1', 'date_2']}, 'strict': False}}], 'top_p': 1.0, 'temperature': 1.0, 'tool_resources': {}, 'metadata': {}, 'response_format': 'auto'}>"
      ]
     },
     "execution_count": 17,
     "metadata": {},
     "output_type": "execute_result"
    }
   ],
   "source": [
    "# Create agent with AI search tool and process assistant run\n",
    "agent = agents_client.create_agent(\n",
    "    model=deployment_name,\n",
    "    name=\"functiontool-agent\",\n",
    "    instructions=\"You are a helpful assistant\",\n",
    "    tools=functions.definitions\n",
    ")\n",
    "print(f\"Created agent, ID: {agent.id}\")\n",
    "agent.items"
   ]
  },
  {
   "cell_type": "markdown",
   "id": "986f23c5-d08c-4f72-a2c0-d529b1c2e65d",
   "metadata": {},
   "source": [
    "# Create the thread and attach a new message to it"
   ]
  },
  {
   "cell_type": "code",
   "execution_count": 18,
   "id": "a8f794b0-036e-4952-b35f-dd058c661db9",
   "metadata": {},
   "outputs": [
    {
     "name": "stdout",
     "output_type": "stream",
     "text": [
      "Created thread: {'id': 'thread_XKVh4lMA0cP5ba1v6Ow0IkFz', 'object': 'thread', 'created_at': 1751365997, 'metadata': {}, 'tool_resources': {}}\n",
      "\n",
      "Created message: {'id': 'msg_xIYZkNmOFZz5cMZzoAvPXcC5', 'object': 'thread.message', 'created_at': 1751365997, 'assistant_id': None, 'thread_id': 'thread_XKVh4lMA0cP5ba1v6Ow0IkFz', 'run_id': None, 'role': 'user', 'content': [{'type': 'text', 'text': {'value': 'Please write into a file the nr of flights between my cat born date and Easter 2021. Send the answer to mauromi@microsoft.com, also.', 'annotations': []}}], 'attachments': [], 'metadata': {}}\n"
     ]
    },
    {
     "data": {
      "text/plain": [
       "[{'id': 'msg_xIYZkNmOFZz5cMZzoAvPXcC5', 'object': 'thread.message', 'created_at': 1751365997, 'assistant_id': None, 'thread_id': 'thread_XKVh4lMA0cP5ba1v6Ow0IkFz', 'run_id': None, 'role': 'user', 'content': [{'type': 'text', 'text': {'value': 'Please write into a file the nr of flights between my cat born date and Easter 2021. Send the answer to mauromi@microsoft.com, also.', 'annotations': []}}], 'attachments': [], 'metadata': {}}]"
      ]
     },
     "execution_count": 18,
     "metadata": {},
     "output_type": "execute_result"
    }
   ],
   "source": [
    "# Create a thread\n",
    "thread = agents_client.threads.create()\n",
    "print(f\"Created thread: {thread}\\n\")\n",
    "\n",
    "\n",
    "# Add a user message to the thread\n",
    "from azure.ai.agents.models import MessageRole\n",
    "\n",
    "message = agents_client.messages.create(\n",
    "    thread_id=thread.id, \n",
    "    role=MessageRole.USER, \n",
    "    content=\"Please write into a file the nr of flights between my cat born date and Easter 2021. Send the answer to mauromi@microsoft.com, also.\",\n",
    ")\n",
    "print(f\"Created message: {message}\")\n",
    "\n",
    "\n",
    "# let's see the messages associated with the thread\n",
    "\n",
    "list(agents_client.messages.list(thread_id=thread.id))"
   ]
  },
  {
   "cell_type": "markdown",
   "id": "6f5358da-be3d-4527-8902-9d71fba9743d",
   "metadata": {},
   "source": [
    "# Run the agent synchronously and check the status looping until the run stops\n",
    "**Note**: if you get \"incomplete\" due to content filtering, please try running the same cell again"
   ]
  },
  {
   "cell_type": "code",
   "execution_count": 19,
   "id": "c49f24af-3a75-4537-8006-bd0879aad9af",
   "metadata": {},
   "outputs": [
    {
     "name": "stdout",
     "output_type": "stream",
     "text": [
      "Run finished with status: RunStatus.COMPLETED.\n",
      "\n",
      "Run: {'id': 'run_ShCa3p1ZjIMcXUYH8MBMQ8e7', 'object': 'thread.run', 'created_at': 1751366001, 'assistant_id': 'asst_XRoI4D6tDbGZNLjJa0Y7x4MT', 'thread_id': 'thread_XKVh4lMA0cP5ba1v6Ow0IkFz', 'status': 'completed', 'started_at': 1751366011, 'expires_at': None, 'cancelled_at': None, 'failed_at': None, 'completed_at': 1751366011, 'required_action': None, 'last_error': None, 'model': 'gpt-4o', 'instructions': 'You are a helpful assistant', 'tools': [{'type': 'function', 'function': {'name': 'send_email', 'description': 'Sends an email ', 'parameters': {'type': 'object', 'properties': {'to': {'type': 'string', 'description': 'No description'}, 'subject': {'type': 'string', 'description': 'No description'}, 'body': {'type': 'string', 'description': 'No description'}}, 'required': ['to', 'subject', 'body']}, 'strict': False}}, {'type': 'function', 'function': {'name': 'my_cat_born_date', 'description': \"Returns my cat's born date \", 'parameters': {'type': 'object', 'properties': {}, 'required': []}, 'strict': False}}, {'type': 'function', 'function': {'name': 'save_file', 'description': 'Saves a text file using the textual content passed in the joke variable.', 'parameters': {'type': 'object', 'properties': {'joke': {'type': 'string', 'description': 'No description'}}, 'required': ['joke']}, 'strict': False}}, {'type': 'function', 'function': {'name': 'get_flights', 'description': 'Returns the number of flights in a date interval  ', 'parameters': {'type': 'object', 'properties': {'date_1': {'type': 'string', 'description': 'No description'}, 'date_2': {'type': 'string', 'description': 'No description'}}, 'required': ['date_1', 'date_2']}, 'strict': False}}], 'tool_resources': {}, 'metadata': {}, 'temperature': 1.0, 'top_p': 1.0, 'max_completion_tokens': None, 'max_prompt_tokens': None, 'truncation_strategy': {'type': 'auto', 'last_messages': None}, 'incomplete_details': None, 'usage': {'prompt_tokens': 2057, 'completion_tokens': 177, 'total_tokens': 2234, 'prompt_token_details': {'cached_tokens': 0}}, 'response_format': 'auto', 'tool_choice': 'auto', 'parallel_tool_calls': True}\n",
      "Run details:\n",
      "{'id': 'run_ShCa3p1ZjIMcXUYH8MBMQ8e7', 'object': 'thread.run', 'created_at': 1751366001, 'assistant_id': 'asst_XRoI4D6tDbGZNLjJa0Y7x4MT', 'thread_id': 'thread_XKVh4lMA0cP5ba1v6Ow0IkFz', 'status': 'completed', 'started_at': 1751366011, 'expires_at': None, 'cancelled_at': None, 'failed_at': None, 'completed_at': 1751366011, 'required_action': None, 'last_error': None, 'model': 'gpt-4o', 'instructions': 'You are a helpful assistant', 'tools': [{'type': 'function', 'function': {'name': 'send_email', 'description': 'Sends an email ', 'parameters': {'type': 'object', 'properties': {'to': {'type': 'string', 'description': 'No description'}, 'subject': {'type': 'string', 'description': 'No description'}, 'body': {'type': 'string', 'description': 'No description'}}, 'required': ['to', 'subject', 'body']}, 'strict': False}}, {'type': 'function', 'function': {'name': 'my_cat_born_date', 'description': \"Returns my cat's born date \", 'parameters': {'type': 'object', 'properties': {}, 'required': []}, 'strict': False}}, {'type': 'function', 'function': {'name': 'save_file', 'description': 'Saves a text file using the textual content passed in the joke variable.', 'parameters': {'type': 'object', 'properties': {'joke': {'type': 'string', 'description': 'No description'}}, 'required': ['joke']}, 'strict': False}}, {'type': 'function', 'function': {'name': 'get_flights', 'description': 'Returns the number of flights in a date interval  ', 'parameters': {'type': 'object', 'properties': {'date_1': {'type': 'string', 'description': 'No description'}, 'date_2': {'type': 'string', 'description': 'No description'}}, 'required': ['date_1', 'date_2']}, 'strict': False}}], 'tool_resources': {}, 'metadata': {}, 'temperature': 1.0, 'top_p': 1.0, 'max_completion_tokens': None, 'max_prompt_tokens': None, 'truncation_strategy': {'type': 'auto', 'last_messages': None}, 'incomplete_details': None, 'usage': {'prompt_tokens': 2057, 'completion_tokens': 177, 'total_tokens': 2234, 'prompt_token_details': {'cached_tokens': 0}}, 'response_format': 'auto', 'tool_choice': 'auto', 'parallel_tool_calls': True}\n",
      "\n",
      "Run finished with status: <RunStatus.COMPLETED>. Please proceed by running the next cell.\n",
      "\n",
      "CPU times: total: 46.9 ms\n",
      "Wall time: 12.3 s\n"
     ]
    }
   ],
   "source": [
    "%%time\n",
    "\n",
    "import time\n",
    "\n",
    "# Run the agent\n",
    "run = agents_client.runs.create_and_process(thread_id=thread.id, agent_id=agent.id)\n",
    "\n",
    "print(f\"Run finished with status: {run.status}.\\n\\nRun: {run}\")\n",
    "\n",
    "if run.status == \"failed\":\n",
    "    # Check if you got \"Rate limit is exceeded.\", then you want to get more quota\n",
    "    print(f\"Run failed: {run.last_error}\")\n",
    "\n",
    "# run.status or run[\"status\"]? it's up to you, but be aware to use it \n",
    "# use the run as json object, or as azure.ai.projects.models._models.ThreadRun\n",
    "while run[\"status\"] in ['queued', 'in_progress', 'cancelling']: # here I use the run as a json object\n",
    "    time.sleep(1)\n",
    "    run = agents_client.runs.get(thread_id=thread.id, run_id=run.id)\n",
    "\n",
    "if run[\"status\"] == \"failed\": \n",
    "    # Check if you got \"Rate limit is exceeded.\", then you want to get more quota\n",
    "    print(f\"Run failed: {run.last_error}\")\n",
    "elif run[\"status\"] == \"incomplete\":\n",
    "    print(f'\"Incomplete\" status returned due to the following reason: <{run[\"incomplete_details\"][\"reason\"]}>. You may try to run this cell again.\\n')\n",
    "else:\n",
    "    print(f\"Run details:\\n{run}\\n\\nRun finished with status: <{run.status}>. Please proceed by running the next cell.\\n\")"
   ]
  },
  {
   "cell_type": "markdown",
   "id": "baeabc3f-d5f5-4b18-be6d-82b604e1d017",
   "metadata": {},
   "source": [
    "# KEEP RUNNING this cells until run.status == 'COMPLETED'"
   ]
  },
  {
   "cell_type": "code",
   "execution_count": 20,
   "id": "e877975a-8cde-4df8-bbd7-500eebb20d7b",
   "metadata": {},
   "outputs": [
    {
     "name": "stdout",
     "output_type": "stream",
     "text": [
      "Initial run status: RunStatus.COMPLETED\n",
      "No action is required\n"
     ]
    }
   ],
   "source": [
    "# just for checking: analyze the current status\n",
    "\n",
    "from azure.ai.agents.models import ToolOutput, RequiredFunctionToolCall\n",
    "\n",
    "run = agents_client.runs.get(thread_id=thread.id, run_id=run.id)\n",
    "print(f\"Initial run status: {run.status}\")\n",
    "if not run.required_action is None:\n",
    "    print(f\"\\nRequired action(s): {run.required_action}\")\n",
    "    print(f\"\\nWe need to run {len(run.required_action.submit_tool_outputs.tool_calls)} tool call(s): {run.required_action.submit_tool_outputs.tool_calls}\")\n",
    "    \n",
    "    i = 0\n",
    "    tool_outputs = []\n",
    "    for tool_call in run.required_action.submit_tool_outputs.tool_calls:\n",
    "        if isinstance(tool_call, RequiredFunctionToolCall):\n",
    "            try:\n",
    "                i += 1\n",
    "                output = functions.execute(tool_call)\n",
    "                print(f\"\\n{i} - Executing tool_call {tool_call.function.name} ({tool_call.id}) >>> output: {output}\")\n",
    "                tool_outputs.append(\n",
    "                    ToolOutput(\n",
    "                        tool_call_id=tool_call.id,\n",
    "                        output=output\n",
    "                    )\n",
    "                )\n",
    "            except Exception as e:\n",
    "                print(f\"Error executing tool_call {tool_call.id}: {e}\")\n",
    "    \n",
    "    print(f\"Tool outputs: {tool_outputs}\")\n",
    "\n",
    "    if tool_outputs:    \n",
    "        run = agents_client.runs.submit_tool_outputs(\n",
    "            thread_id=thread.id, run_id=run.id, tool_outputs=tool_outputs\n",
    "    )\n",
    "    \n",
    "    while run[\"status\"] in [\"queued\", \"in_progress\"]:\n",
    "        time.sleep(1)\n",
    "        run = agents_client.runs.get(thread_id=thread.id, run_id=run.id)\n",
    "        print(f\"\\nRun status: {run.status}\")\n",
    "    \n",
    "    if run[\"status\"] == \"requires_action\":\n",
    "        print(\"\\nPlease run this cell again until all required actions are executed.\")\n",
    "    elif run[\"status\"] == \"completed\":\n",
    "        print(\"\\nGreat job! All required actions are completed. Please move on to the next cell.\")\n",
    "else:\n",
    "    print(\"No action is required\")"
   ]
  },
  {
   "cell_type": "markdown",
   "id": "25de741a-bd1f-4f60-9e6c-22e05f7564bb",
   "metadata": {},
   "source": [
    "# Fetch messages from the thread after the agent run execution"
   ]
  },
  {
   "cell_type": "code",
   "execution_count": 21,
   "id": "4fb99041-1e46-4b78-a4c3-23b922d957aa",
   "metadata": {},
   "outputs": [
    {
     "name": "stdout",
     "output_type": "stream",
     "text": [
      "Here are the 2 messages:\n",
      "\n",
      "\n",
      "===== MESSAGE 1 =====\n",
      "\n",
      "Message 1 / CONTENT 1 (MessageTextContent) --> Text: Please write into a file the nr of flights between my cat born date and Easter 2021. Send the answer to mauromi@microsoft.com, also.\n",
      "\n",
      "===== MESSAGE 2 =====\n",
      "\n",
      "Message 2 / CONTENT 1 (MessageTextContent) --> Text: The file has been saved and the email has been sent successfully.\n"
     ]
    }
   ],
   "source": [
    "from azure.ai.agents.models import (MessageTextContent, MessageImageFileContent, MessageTextFileCitationAnnotation, \\\n",
    "    MessageTextFilePathAnnotation, MessageTextUrlCitationAnnotation)\n",
    "\n",
    "image_files = []\n",
    "annotations = []\n",
    "citations = []\n",
    "citation_annotations = []\n",
    "\n",
    "if run.status == 'completed':\n",
    "    messages = agents_client.messages.list(thread_id=thread.id)\n",
    "    messages_list = list(agents_client.messages.list(thread_id=thread.id))  # Convert iterator to a list\n",
    "    messages_nr = len(messages_list)\n",
    "    print(f\"Here are the {messages_nr} messages:\\n\")\n",
    "    \n",
    "    for i, message in enumerate(reversed(messages_list), 1):\n",
    "        j = 0\n",
    "        print(f\"\\n===== MESSAGE {i} =====\")\n",
    "        for c in message.content:\n",
    "            j +=1\n",
    "            if (type(c) is MessageTextContent):\n",
    "                print(f\"\\nMessage {i} / CONTENT {j} (MessageTextContent) --> Text: {c.text.value}\")\n",
    "                for a in c.text.annotations:\n",
    "                    if type(a) is MessageTextFileCitationAnnotation:\n",
    "                        print(f\">>> Citation in MessageTextContent {j} of message {i}: {a}\\n\")\n",
    "                        citations.append(a)\n",
    "                    elif type(a) is MessageTextFilePathAnnotation:\n",
    "                        print(f\">>> Annotation in MessageTextContent {j} of message {i}: {a}\\n\")\n",
    "                        annotations.append(a)\n",
    "                    elif type(a) is MessageTextUrlCitationAnnotation:\n",
    "                        print(f\">>> Annotation in MessageTextContent {j} of message {i}: {a}\\n\")\n",
    "                        citation_annotations.append(a)\n",
    "                    else:\n",
    "                        print(f\"Unknown type {type(a)}\")\n",
    "            elif (type(c) is MessageImageFileContent):\n",
    "                print(f\"\\nMessage {i} / CONTENT {j} (MessageImageFileContent) --> image_file id: {c.image_file.file_id}\")\n",
    "                image_files.append(c.image_file.file_id)\n",
    "            else:\n",
    "                print(f\"Unknown type {type(a)}\")\n",
    "\n",
    "else:\n",
    "    print(f\"Sorry, I can't proceed because the run status is {run.status}\")"
   ]
  },
  {
   "cell_type": "code",
   "execution_count": 22,
   "id": "2d1ce276-4fb2-43d5-a76b-6281be318de2",
   "metadata": {},
   "outputs": [
    {
     "name": "stdout",
     "output_type": "stream",
     "text": [
      "The file has been saved and the email has been sent successfully.\n"
     ]
    }
   ],
   "source": [
    "# Get the last message from the sender\n",
    "last_msg = list(agents_client.messages.list(thread_id=thread.id))[0]\n",
    "\n",
    "if last_msg:\n",
    "    print(last_msg.content[0].text.value)"
   ]
  },
  {
   "cell_type": "markdown",
   "id": "c6f066f3-b036-4511-a34e-53466028bb93",
   "metadata": {},
   "source": [
    "# Print citation_annotations from the messages"
   ]
  },
  {
   "cell_type": "code",
   "execution_count": 23,
   "id": "f60f4229-f78b-4bb0-ae58-377476116c82",
   "metadata": {},
   "outputs": [
    {
     "name": "stdout",
     "output_type": "stream",
     "text": [
      "Nr. of citation_annotations: 0\n",
      "\n"
     ]
    }
   ],
   "source": [
    "print (f\"Nr. of citation_annotations: {len(annotations)}\\n\")\n",
    "\n",
    "i=0\n",
    "for ca in citation_annotations:\n",
    "    i += 1\n",
    "    print(f\"{i} - citation_annotations {ca.text}: {ca.url_citation} (from {ca.start_index} to {ca.end_index})\")"
   ]
  },
  {
   "cell_type": "markdown",
   "id": "e098ab10-4f7f-4244-9605-a6217eb077cf",
   "metadata": {},
   "source": [
    "# Print annotations from the messages"
   ]
  },
  {
   "cell_type": "code",
   "execution_count": 24,
   "id": "798938bd-bcdd-4c89-b4f1-97c8458f28a0",
   "metadata": {},
   "outputs": [
    {
     "name": "stdout",
     "output_type": "stream",
     "text": [
      "Nr. of file path annotations: 0\n",
      "\n"
     ]
    }
   ],
   "source": [
    "print (f\"Nr. of file path annotations: {len(annotations)}\\n\")\n",
    "\n",
    "i=0\n",
    "for a in annotations:\n",
    "    i += 1\n",
    "    print(f\"{i} - File annotation paths: {a.text}\")\n",
    "    file_name = a.text.split('/')[-1]\n",
    "    file_id = a.file_path.file_id\n",
    "\n",
    "    #agents_client.files.save(file_id=file_id, file_name=file_name)\n",
    "    project_client.agents.files.save(file_id=file_id, file_name=file_name)\n",
    "    print(f\"\\n>>> file <{file_id}> saved as <{file_name}>\")\n",
    "    \n",
    "    # project_client.agents.save_file(file_id=file_path_annotation.file_path.file_id, file_name=file_name)\n",
    "    print(f\"File annotation {i} saved as file to: {os.getcwd()}/{file_name}\")\n",
    "    image = mpimg.imread(f\"{os.getcwd()}/{file_name}\") # read the image\n",
    "    plt.imshow(image)\n",
    "    plt.show()"
   ]
  },
  {
   "cell_type": "markdown",
   "id": "8894b454-8d7e-42c5-b0e1-c67068fa2b24",
   "metadata": {},
   "source": [
    "# Fetch citations from the messages"
   ]
  },
  {
   "cell_type": "markdown",
   "id": "758884f7-e441-4e0c-bce4-bd6881af76b1",
   "metadata": {},
   "source": [
    "# Retrieve and download eventual images"
   ]
  },
  {
   "cell_type": "code",
   "execution_count": 25,
   "id": "845dd1bf-0a01-44bf-8036-fa0ec42eb024",
   "metadata": {},
   "outputs": [
    {
     "name": "stdout",
     "output_type": "stream",
     "text": [
      "Nr. of file path citations: 0\n",
      "\n"
     ]
    }
   ],
   "source": [
    "print (f\"Nr. of file path citations: {len(citations)}\\n\")\n",
    "\n",
    "i=0\n",
    "for a in citations:\n",
    "    i += 1\n",
    "    print(f\"{i} - citation: {a}\")"
   ]
  },
  {
   "cell_type": "code",
   "execution_count": 26,
   "id": "9292e925-3a05-4555-b3f5-6d9a5366c83b",
   "metadata": {},
   "outputs": [
    {
     "name": "stdout",
     "output_type": "stream",
     "text": [
      "Nr. of image contents: 0\n",
      "\n"
     ]
    }
   ],
   "source": [
    "print (f\"Nr. of image contents: {len(image_files)}\\n\")\n",
    "\n",
    "i=0\n",
    "# Generate an image file for the bar chart\n",
    "for image_file in image_files:\n",
    "    i += 1\n",
    "    print(f\"{i} - Image file id: {image_file}\")\n",
    "    file_name = f\"{image_file}.png\"\n",
    "    project_client.agents.files.save(file_id=image_file, file_name=file_name)\n",
    "    print(f\"Image content {i} file to: {os.getcwd()}/{file_name}\")\n",
    "    image = mpimg.imread(f\"{os.getcwd()}/{file_name}\") # read the image\n",
    "    plt.imshow(image)\n",
    "    plt.show()"
   ]
  },
  {
   "cell_type": "markdown",
   "id": "cf512a12-addf-49cc-929a-5df65fcf8b61",
   "metadata": {},
   "source": [
    "# Run Steps"
   ]
  },
  {
   "cell_type": "code",
   "execution_count": 27,
   "id": "9643cbce-4453-4d4a-a637-540aeec799f8",
   "metadata": {},
   "outputs": [
    {
     "name": "stdout",
     "output_type": "stream",
     "text": [
      "Nr of run step(s): 4\n",
      "\n",
      "Run step 1: {'id': 'step_4IdUE1YVF85eiEHrAbKTQW07', 'object': 'thread.run.step', 'created_at': 1751366011, 'run_id': 'run_ShCa3p1ZjIMcXUYH8MBMQ8e7', 'assistant_id': 'asst_XRoI4D6tDbGZNLjJa0Y7x4MT', 'thread_id': 'thread_XKVh4lMA0cP5ba1v6Ow0IkFz', 'type': 'message_creation', 'status': 'completed', 'cancelled_at': None, 'completed_at': 1751366011, 'expires_at': None, 'failed_at': None, 'last_error': None, 'step_details': {'type': 'message_creation', 'message_creation': {'message_id': 'msg_q85ygO9cKHBStFYYG7QSEiVc'}}, 'usage': {'prompt_tokens': 621, 'completion_tokens': 15, 'total_tokens': 636, 'prompt_token_details': {'cached_tokens': 0}}} \n",
      "\n",
      "Run step 2: {'id': 'step_ihkWj2nNFbbBRcx585udBvau', 'object': 'thread.run.step', 'created_at': 1751366007, 'run_id': 'run_ShCa3p1ZjIMcXUYH8MBMQ8e7', 'assistant_id': 'asst_XRoI4D6tDbGZNLjJa0Y7x4MT', 'thread_id': 'thread_XKVh4lMA0cP5ba1v6Ow0IkFz', 'type': 'tool_calls', 'status': 'completed', 'cancelled_at': None, 'completed_at': 1751366010, 'expires_at': None, 'failed_at': None, 'last_error': None, 'step_details': {'type': 'tool_calls', 'tool_calls': [{'id': 'call_fviJa3esO47vF9wsHlSEBN00', 'type': 'function', 'function': {'name': 'send_email', 'arguments': '{\"to\":\"mauromi@microsoft.com\",\"subject\":\"Flight information\",\"body\":\"There were 0 flights between my cat\\'s born date (2015-07-01) and Easter 2021 (2021-04-04).\"}', 'output': '{\"response\": \"<Response [200]>\"}'}}]}, 'usage': {'prompt_tokens': 543, 'completion_tokens': 61, 'total_tokens': 604, 'prompt_token_details': {'cached_tokens': 0}}} \n",
      "\n",
      "Run step 3: {'id': 'step_1f6nBxF4OfNFskao7hu77bsI', 'object': 'thread.run.step', 'created_at': 1751366004, 'run_id': 'run_ShCa3p1ZjIMcXUYH8MBMQ8e7', 'assistant_id': 'asst_XRoI4D6tDbGZNLjJa0Y7x4MT', 'thread_id': 'thread_XKVh4lMA0cP5ba1v6Ow0IkFz', 'type': 'tool_calls', 'status': 'completed', 'cancelled_at': None, 'completed_at': 1751366006, 'expires_at': None, 'failed_at': None, 'last_error': None, 'step_details': {'type': 'tool_calls', 'tool_calls': [{'id': 'call_n1SCPk7PDuV5MHv2OBNrW2BD', 'type': 'function', 'function': {'name': 'save_file', 'arguments': '{\"joke\":\"There were 0 flights between 2015-07-01 and 2021-04-04.\"}', 'output': 'success: file saved'}}]}, 'usage': {'prompt_tokens': 494, 'completion_tokens': 37, 'total_tokens': 531, 'prompt_token_details': {'cached_tokens': 0}}} \n",
      "\n",
      "Run step 4: {'id': 'step_viHtpe6kh1Nm7hAMtovRvZ1Q', 'object': 'thread.run.step', 'created_at': 1751366002, 'run_id': 'run_ShCa3p1ZjIMcXUYH8MBMQ8e7', 'assistant_id': 'asst_XRoI4D6tDbGZNLjJa0Y7x4MT', 'thread_id': 'thread_XKVh4lMA0cP5ba1v6Ow0IkFz', 'type': 'tool_calls', 'status': 'completed', 'cancelled_at': None, 'completed_at': 1751366003, 'expires_at': None, 'failed_at': None, 'last_error': None, 'step_details': {'type': 'tool_calls', 'tool_calls': [{'id': 'call_NGpGqPpfNjjOCD6fuoFok3iS', 'type': 'function', 'function': {'name': 'my_cat_born_date', 'arguments': '{}', 'output': '{\"cat_born_date\": \"2015-07-01\"}'}}, {'id': 'call_HsoJ42EZ6xXsbllvs5bnn7uH', 'type': 'function', 'function': {'name': 'get_flights', 'arguments': '{\"date_1\": \"2021-04-04\", \"date_2\": \"2021-04-04\"}', 'output': '{\"flights\": 0}'}}]}, 'usage': {'prompt_tokens': 399, 'completion_tokens': 64, 'total_tokens': 463, 'prompt_token_details': {'cached_tokens': 0}}} \n",
      "\n"
     ]
    }
   ],
   "source": [
    "run_steps = list(agents_client.run_steps.list(run_id=run.id, thread_id=thread.id))\n",
    "\n",
    "print(f'Nr of run step(s): {len(run_steps)}\\n')\n",
    "i=0\n",
    "for rs in run_steps:\n",
    "    i += 1\n",
    "    print(f\"Run step {i}: {rs}\", '\\n')"
   ]
  },
  {
   "cell_type": "markdown",
   "id": "96dbb3d5-9006-41d4-ae54-402ef4f1d35c",
   "metadata": {},
   "source": [
    "# Collect all resources for this project"
   ]
  },
  {
   "cell_type": "code",
   "execution_count": 28,
   "id": "db5b34a9-24f3-4265-8132-430619445629",
   "metadata": {},
   "outputs": [
    {
     "name": "stdout",
     "output_type": "stream",
     "text": [
      "3 agents\n",
      "3 threads\n",
      "0 files\n",
      "3 runs in 3 threads\n",
      "0 vector stores\n"
     ]
    }
   ],
   "source": [
    "all_agents = list_all_agents(client=agents_client)\n",
    "print(all_agents[\"summary\"])\n",
    "\n",
    "all_threads = list_all_threads(client=agents_client)\n",
    "print(all_threads[\"summary\"])\n",
    "\n",
    "all_files = list_all_files(client=agents_client)\n",
    "print(all_files[\"summary\"])\n",
    "\n",
    "all_runs = list_all_runs(client=agents_client)\n",
    "print(all_runs[\"summary\"])\n",
    "\n",
    "# all_runsteps=list_all_runsteps(agents_client)\n",
    "# print(all_runsteps[\"summary\"])\n",
    "\n",
    "# all_messages = list_all_messages(agents_client)\n",
    "# print(all_messages[\"summary\"])\n",
    "\n",
    "all_vectorstores = list_all_vectorstores(client=agents_client)\n",
    "print(all_vectorstores[\"summary\"])"
   ]
  },
  {
   "cell_type": "markdown",
   "id": "c1e2098a-4a70-4cd4-81a9-706db46ec561",
   "metadata": {},
   "source": [
    "# Teardown for all resources"
   ]
  },
  {
   "cell_type": "code",
   "execution_count": 29,
   "id": "f8d4599d-8818-41e4-b04a-5bdbafc50354",
   "metadata": {},
   "outputs": [
    {
     "name": "stdout",
     "output_type": "stream",
     "text": [
      "Vector stores deleted: 0\n",
      "\n"
     ]
    }
   ],
   "source": [
    "# delete all vector stores\n",
    "\n",
    "i=0\n",
    "for vector_store in all_vectorstores[\"content\"]:\n",
    "    i += 1\n",
    "    agents_client.vector_stores.delete(vector_store_id=vector_store.id)\n",
    "    print(f\"{i} - Vector store <{vector_store.id}> has been deleted\")\n",
    "\n",
    "all_vectorstores = list_all_vectorstores(client=agents_client)\n",
    "\n",
    "print(f\"Vector stores deleted: {i}\\n\")"
   ]
  },
  {
   "cell_type": "code",
   "execution_count": 30,
   "id": "d4488291-7686-4635-a042-5bbb7a434d4b",
   "metadata": {},
   "outputs": [
    {
     "name": "stdout",
     "output_type": "stream",
     "text": [
      "Files deleted: 0\n",
      "\n"
     ]
    }
   ],
   "source": [
    "# delete all files\n",
    "\n",
    "i=0\n",
    "for file in all_files['content']:\n",
    "    i += 1\n",
    "    agents_client.files.delete(file_id=file.id)\n",
    "    print(f\"{i} - File <{file.filename}> ({file.id}) has been deleted\")\n",
    "\n",
    "all_files = list_all_files(client=agents_client)\n",
    "\n",
    "print(f\"Files deleted: {i}\\n\")"
   ]
  },
  {
   "cell_type": "code",
   "execution_count": 31,
   "id": "e84716c1-7f5b-411c-8034-f6d9f979bb25",
   "metadata": {},
   "outputs": [
    {
     "name": "stdout",
     "output_type": "stream",
     "text": [
      "1 - Thread <thread_XKVh4lMA0cP5ba1v6Ow0IkFz> has been deleted\n",
      "2 - Thread <thread_eIlNsc00bYAvL8AwQcGt5E9i> has been deleted\n",
      "3 - Thread <thread_AAWpSP7I84gHthiEomEbB1i5> has been deleted\n",
      "Threads deleted: 3\n",
      "\n"
     ]
    }
   ],
   "source": [
    "# delete all threads\n",
    "\n",
    "i=0\n",
    "for thread in all_threads[\"content\"]:\n",
    "    i += 1\n",
    "    agents_client.threads.delete(thread_id=thread.id)\n",
    "    print(f\"{i} - Thread <{thread.id}> has been deleted\")\n",
    "\n",
    "all_threads = list_all_threads(client=agents_client)\n",
    "\n",
    "print(f\"Threads deleted: {i}\\n\")"
   ]
  },
  {
   "cell_type": "code",
   "execution_count": 32,
   "id": "871ef142-cdba-47a6-93da-64ae21929a9e",
   "metadata": {},
   "outputs": [
    {
     "name": "stdout",
     "output_type": "stream",
     "text": [
      "1 - Agent <asst_XRoI4D6tDbGZNLjJa0Y7x4MT> has been deleted\n",
      "2 - Agent <asst_duIdCkbw6S5FbDmFTtfSkZZD> has been deleted\n",
      "3 - Agent <asst_DSjzbDyJALqYG7mGT0FlxGql> has been deleted\n",
      "Agents deleted: 3\n",
      "\n"
     ]
    }
   ],
   "source": [
    "# delete all agents\n",
    "\n",
    "i=0\n",
    "for agent in all_agents[\"content\"]:\n",
    "    i += 1\n",
    "    agents_client.delete_agent(agent_id=agent.id)\n",
    "    print(f\"{i} - Agent <{agent.id}> has been deleted\")\n",
    "\n",
    "all_agents = list_all_agents(client=agents_client)\n",
    "\n",
    "print(f\"Agents deleted: {i}\\n\")"
   ]
  },
  {
   "cell_type": "markdown",
   "id": "c8cc2b04-a0b3-45ee-9066-4306e16511f9",
   "metadata": {},
   "source": [
    "# HIC SUNT LEONES"
   ]
  }
 ],
 "metadata": {
  "kernelspec": {
   "display_name": "aaas",
   "language": "python",
   "name": "aaas"
  },
  "language_info": {
   "codemirror_mode": {
    "name": "ipython",
    "version": 3
   },
   "file_extension": ".py",
   "mimetype": "text/x-python",
   "name": "python",
   "nbconvert_exporter": "python",
   "pygments_lexer": "ipython3",
   "version": "3.13.5"
  }
 },
 "nbformat": 4,
 "nbformat_minor": 5
}
