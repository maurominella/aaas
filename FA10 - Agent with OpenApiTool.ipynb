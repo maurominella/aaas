{
 "cells": [
  {
   "attachments": {},
   "cell_type": "markdown",
   "id": "6aff6e2d-97b4-441c-b548-2557bafae055",
   "metadata": {},
   "source": [
    "# [Create Agent With OpenAPI](https://learn.microsoft.com/en-us/python/api/overview/azure/ai-projects-readme?view=azure-python-preview#create-agent-with-openapi)\n",
    "AzureFunctionTool contains the input and output queues of azure function and the description of input parameters.\n",
    "\n",
    "Inspired by [sample_agents_openapi.py](https://github.com/Azure/azure-sdk-for-python/blob/azure-ai-projects_1.0.0b4/sdk/ai/azure-ai-projects/samples/agents/sample_agents_openapi.py)"
   ]
  },
  {
   "cell_type": "markdown",
   "id": "54084032-e7de-40c6-bcbc-90ab737a001f",
   "metadata": {},
   "source": [
    "# Constants"
   ]
  },
  {
   "cell_type": "code",
   "execution_count": 1,
   "id": "98d9cc9d-cbef-4b35-a4a3-84802dd4ee06",
   "metadata": {},
   "outputs": [
    {
     "name": "stdout",
     "output_type": "stream",
     "text": [
      "Environment variables have been loaded ;-)\n",
      "Project Connection String: <...hub01-grp;mmai-swc-hub01-prj01>\n",
      "azure-ai-projects library installed version: 1.0.0b10\n"
     ]
    }
   ],
   "source": [
    "import os, json, time, jsonref\n",
    "from IPython.display import Markdown, display\n",
    "from dotenv import load_dotenv # requires python-dotenv\n",
    "from PIL import Image # requires pip install pillow\n",
    "from datetime import datetime\n",
    "from common.agents_helper_functions import *\n",
    "import importlib.metadata\n",
    "import matplotlib.pyplot as plt\n",
    "import matplotlib.image as mpimg\n",
    "\n",
    "if not load_dotenv(\"./../config/credentials_my.env\"):\n",
    "    print(\"Environment variables not loaded, cell execution stopped\")\n",
    "else:\n",
    "    print(\"Environment variables have been loaded ;-)\")\n",
    "\n",
    "deployment_name =  os.environ[\"MODEL_DEPLOYMENT_NAME_MINI\"]\n",
    "model_name =  os.environ[\"MODEL_DEPLOYMENT_NAME\"]\n",
    "api_version = os.environ[\"OPENAI_API_VERSION\"] # at least \"2025-03-01-preview\"\n",
    "\n",
    "project_connection_string = os.environ[\"PROJECT_CONNECTION_STRING\"]\n",
    "\n",
    "print(f'Project Connection String: <...{project_connection_string[-30:]}>')\n",
    "version = importlib.metadata.version(\"azure-ai-projects\")\n",
    "print(f\"azure-ai-projects library installed version: {version}\")"
   ]
  },
  {
   "cell_type": "markdown",
   "id": "6541e9bb-3e3f-478e-a084-84b70fce0255",
   "metadata": {},
   "source": [
    "# Create AI Foundry Project Client"
   ]
  },
  {
   "cell_type": "code",
   "execution_count": 2,
   "id": "5a9abb62-b855-402f-9e22-583ffe6bf8cb",
   "metadata": {},
   "outputs": [
    {
     "data": {
      "text/plain": [
       "{'subscription_id': 'eca2eddb-0f0c-4351-a634-52751499eeea',\n",
       " 'resource_group_name': 'mmai-swc-hub01-grp',\n",
       " 'project_name': 'mmai-swc-hub01-prj01'}"
      ]
     },
     "execution_count": 2,
     "metadata": {},
     "output_type": "execute_result"
    }
   ],
   "source": [
    "from azure.ai.projects import AIProjectClient\n",
    "from azure.ai.projects.models import OpenApiTool, OpenApiAnonymousAuthDetails # <<<<<<<<<<<<<<< SPECIFIC FOR OPENAPI\n",
    "from azure.identity import DefaultAzureCredential\n",
    "\n",
    "project_client = AIProjectClient.from_connection_string(\n",
    "    credential=DefaultAzureCredential(), conn_str=project_connection_string\n",
    ")\n",
    "\n",
    "project_client.scope"
   ]
  },
  {
   "cell_type": "markdown",
   "id": "7183144b-61ea-456b-a0aa-94c5f22a7ac1",
   "metadata": {},
   "source": [
    "# Load Weather OpenAPI"
   ]
  },
  {
   "cell_type": "code",
   "execution_count": 3,
   "id": "121d6e68-3373-417e-b8fc-d31cf5ee4a83",
   "metadata": {},
   "outputs": [
    {
     "data": {
      "text/plain": [
       "{'openapi': '3.1.0',\n",
       " 'info': {'title': 'get weather data',\n",
       "  'description': 'Retrieves current weather data for a location based on wttr.in.',\n",
       "  'version': 'v1.0.0'},\n",
       " 'servers': [{'url': 'https://wttr.in'}],\n",
       " 'auth': [],\n",
       " 'paths': {'/{location}': {'get': {'description': 'Get weather information for a specific location',\n",
       "    'operationId': 'GetCurrentWeather',\n",
       "    'parameters': [{'name': 'location',\n",
       "      'in': 'path',\n",
       "      'description': 'City or location to retrieve the weather for',\n",
       "      'required': True,\n",
       "      'schema': {'type': 'string'}},\n",
       "     {'name': 'format',\n",
       "      'in': 'query',\n",
       "      'description': 'Always use j1 value for this parameter',\n",
       "      'required': True,\n",
       "      'schema': {'type': 'string', 'default': 'j1'}}],\n",
       "    'responses': {'200': {'description': 'Successful response',\n",
       "      'content': {'text/plain': {'schema': {'type': 'string'}}}},\n",
       "     '404': {'description': 'Location not found'}},\n",
       "    'deprecated': False}}},\n",
       " 'components': {'schemes': {}}}"
      ]
     },
     "execution_count": 3,
     "metadata": {},
     "output_type": "execute_result"
    }
   ],
   "source": [
    "# https://github.com/Azure/azure-sdk-for-python/blob/azure-ai-projects_1.0.0b4/sdk/ai/azure-ai-projects/samples/agents/weather_openapi.json\n",
    "with open(\"./openapi/weather_openapi.json\", \"r\") as f:\n",
    "    openapi_spec = jsonref.loads(f.read())\n",
    "\n",
    "openapi_spec"
   ]
  },
  {
   "cell_type": "markdown",
   "id": "073506bb-e90e-43a2-bb50-a07cb1397597",
   "metadata": {},
   "source": [
    "# Create Auth object for the OpenApiTool \n",
    "## Note: connection or managed identity auth setup requires additional setup in Azure"
   ]
  },
  {
   "cell_type": "code",
   "execution_count": 4,
   "id": "ed0b781f-a5c2-4994-aed4-09c7d6fbf47a",
   "metadata": {},
   "outputs": [
    {
     "data": {
      "text/plain": [
       "{'type': 'anonymous'}"
      ]
     },
     "execution_count": 4,
     "metadata": {},
     "output_type": "execute_result"
    }
   ],
   "source": [
    "auth = OpenApiAnonymousAuthDetails()\n",
    "auth"
   ]
  },
  {
   "cell_type": "markdown",
   "id": "cb3d93bc-1a86-4018-bc60-ef6bbdff4a15",
   "metadata": {},
   "source": [
    "# Initialize agent OpenApi tool using the read in OpenAPI spec"
   ]
  },
  {
   "cell_type": "code",
   "execution_count": 5,
   "id": "d8f04bae-92c8-4bcd-974a-023bd56e32e0",
   "metadata": {},
   "outputs": [
    {
     "name": "stdout",
     "output_type": "stream",
     "text": [
      "openapi.definitions: [{'type': 'openapi', 'openapi': {'name': 'get_weather', 'description': 'Retrieve weather information for a location', 'spec': {'openapi': '3.1.0', 'info': {'title': 'get weather data', 'description': 'Retrieves current weather data for a location based on wttr.in.', 'version': 'v1.0.0'}, 'servers': [{'url': 'https://wttr.in'}], 'auth': [], 'paths': {'/{location}': {'get': {'description': 'Get weather information for a specific location', 'operationId': 'GetCurrentWeather', 'parameters': [{'name': 'location', 'in': 'path', 'description': 'City or location to retrieve the weather for', 'required': True, 'schema': {'type': 'string'}}, {'name': 'format', 'in': 'query', 'description': 'Always use j1 value for this parameter', 'required': True, 'schema': {'type': 'string', 'default': 'j1'}}], 'responses': {'200': {'description': 'Successful response', 'content': {'text/plain': {'schema': {'type': 'string'}}}}, '404': {'description': 'Location not found'}}, 'deprecated': False}}}, 'components': {'schemes': {}}}, 'auth': {'type': 'anonymous'}, 'default_params': []}}]\n",
      "\n",
      "openapi.resources: {}\n"
     ]
    }
   ],
   "source": [
    "openapi = OpenApiTool(\n",
    "    name=\"get_weather\", spec=openapi_spec, description=\"Retrieve weather information for a location\", auth=auth\n",
    ")\n",
    "print(f\"openapi.definitions: {openapi.definitions}\")\n",
    "print(f\"\\nopenapi.resources: {openapi.resources}\")"
   ]
  },
  {
   "cell_type": "markdown",
   "id": "1b889e58-4f42-45fa-abb4-ba63f7038793",
   "metadata": {},
   "source": [
    "# Create AI Foundry Agent"
   ]
  },
  {
   "cell_type": "code",
   "execution_count": 6,
   "id": "b23ba3db-c486-4378-be6c-cb5626f52e3f",
   "metadata": {},
   "outputs": [
    {
     "data": {
      "text/plain": [
       "<bound method _MyMutableMapping.items of {'id': 'asst_Nt3hY5yBkmTEXpV2aNXNGeVg', 'object': 'assistant', 'created_at': 1748338742, 'name': 'openapi-agent', 'description': None, 'model': 'gpt-4o-mini', 'instructions': 'You are a helpful assistant', 'tools': [{'type': 'openapi', 'openapi': {'name': 'get_weather', 'description': 'Retrieve weather information for a location', 'spec': {'openapi': '3.1.0', 'info': {'title': 'get weather data', 'description': 'Retrieves current weather data for a location based on wttr.in.', 'version': 'v1.0.0'}, 'servers': [{'url': 'https://wttr.in'}], 'auth': [], 'paths': {'/{location}': {'get': {'description': 'Get weather information for a specific location', 'operationId': 'GetCurrentWeather', 'parameters': [{'name': 'location', 'in': 'path', 'description': 'City or location to retrieve the weather for', 'required': True, 'schema': {'type': 'string'}}, {'name': 'format', 'in': 'query', 'description': 'Always use j1 value for this parameter', 'required': True, 'schema': {'type': 'string', 'default': 'j1'}}], 'responses': {'200': {'description': 'Successful response', 'content': {'text/plain': {'schema': {'type': 'string'}}}}, '404': {'description': 'Location not found'}}, 'deprecated': False}}}, 'components': {'schemes': {}}}, 'auth': {'type': 'anonymous', 'security_scheme': {}}, 'functions': [{'name': 'get_weather_GetCurrentWeather', 'description': 'Get weather information for a specific location', 'parameters': {'type': 'object', 'properties': {'location': {'type': 'string', 'description': 'City or location to retrieve the weather for'}, 'format': {'type': 'string', 'default': 'j1', 'description': 'Always use j1 value for this parameter'}}, 'required': ['location', 'format']}}]}}], 'top_p': 1.0, 'temperature': 1.0, 'tool_resources': {}, 'metadata': {}, 'response_format': 'auto'}>"
      ]
     },
     "execution_count": 6,
     "metadata": {},
     "output_type": "execute_result"
    }
   ],
   "source": [
    "# Create agent with AI search tool and process assistant run\n",
    "agent = project_client.agents.create_agent(\n",
    "    model=deployment_name,\n",
    "    name=\"openapi-agent\",\n",
    "    instructions=\"You are a helpful assistant\",\n",
    "    tools=openapi.definitions,\n",
    "    tool_resources = openapi.resources,\n",
    ")\n",
    "\n",
    "agent.items"
   ]
  },
  {
   "cell_type": "markdown",
   "id": "d0858e59-5a9a-4523-ae47-68eafc10005b",
   "metadata": {},
   "source": [
    "# Create the thread and attach a new message to it"
   ]
  },
  {
   "cell_type": "code",
   "execution_count": 7,
   "id": "06f80125-1252-4060-bdf5-3b52acc42a47",
   "metadata": {},
   "outputs": [
    {
     "name": "stdout",
     "output_type": "stream",
     "text": [
      "Created thread: {'id': 'thread_B721ghrGdpZ7Fk1ldLqw8lTi', 'object': 'thread', 'created_at': 1748338745, 'metadata': {}, 'tool_resources': {}}\n",
      "\n",
      "Created message: {'id': 'msg_s5Aqc1N8DBLqwTRHy6Njguu4', 'object': 'thread.message', 'created_at': 1748338746, 'assistant_id': None, 'thread_id': 'thread_B721ghrGdpZ7Fk1ldLqw8lTi', 'run_id': None, 'role': 'user', 'content': [{'type': 'text', 'text': {'value': 'Quale sarà la temperatura massima a Chiavari il 15 giugno? Se il giorno non è ancora disponibile, indica la temperatura massima del giorno più lontano che sai prevedere.', 'annotations': []}}], 'attachments': [], 'metadata': {}}\n"
     ]
    }
   ],
   "source": [
    "# Create a thread\n",
    "thread = project_client.agents.create_thread()\n",
    "print(f\"Created thread: {thread}\\n\")\n",
    "\n",
    "# Add a user message to the thread\n",
    "message = project_client.agents.create_message(\n",
    "    thread_id=thread.id, \n",
    "    role=\"user\", \n",
    "    content=\"Quale sarà la temperatura massima a Chiavari il 15 giugno? Se il giorno non è ancora disponibile, indica la temperatura massima del giorno più lontano che sai prevedere.\",\n",
    ")\n",
    "print(f\"Created message: {message}\")"
   ]
  },
  {
   "cell_type": "markdown",
   "id": "ca620721-a30e-44ac-9578-bbc098e20314",
   "metadata": {},
   "source": [
    "# Run the agent synchronously"
   ]
  },
  {
   "cell_type": "code",
   "execution_count": 8,
   "id": "8604f495-2519-42a7-a19a-026538cf2c2c",
   "metadata": {},
   "outputs": [
    {
     "name": "stdout",
     "output_type": "stream",
     "text": [
      "Run finished with status: RunStatus.COMPLETED. Run: {'id': 'run_ehXEDfz0n8OI1kIIhUgc0r07', 'object': 'thread.run', 'created_at': 1748338757, 'assistant_id': 'asst_Nt3hY5yBkmTEXpV2aNXNGeVg', 'thread_id': 'thread_B721ghrGdpZ7Fk1ldLqw8lTi', 'status': 'completed', 'started_at': 1748338757, 'expires_at': None, 'cancelled_at': None, 'failed_at': None, 'completed_at': 1748338760, 'required_action': None, 'last_error': None, 'model': 'gpt-4o-mini', 'instructions': 'You are a helpful assistant', 'tools': [{'type': 'openapi', 'openapi': {'name': 'get_weather', 'description': 'Retrieve weather information for a location', 'spec': {'openapi': '3.1.0', 'info': {'title': 'get weather data', 'description': 'Retrieves current weather data for a location based on wttr.in.', 'version': 'v1.0.0'}, 'servers': [{'url': 'https://wttr.in'}], 'auth': [], 'paths': {'/{location}': {'get': {'description': 'Get weather information for a specific location', 'operationId': 'GetCurrentWeather', 'parameters': [{'name': 'location', 'in': 'path', 'description': 'City or location to retrieve the weather for', 'required': True, 'schema': {'type': 'string'}}, {'name': 'format', 'in': 'query', 'description': 'Always use j1 value for this parameter', 'required': True, 'schema': {'type': 'string', 'default': 'j1'}}], 'responses': {'200': {'description': 'Successful response', 'content': {'text/plain': {'schema': {'type': 'string'}}}}, '404': {'description': 'Location not found'}}, 'deprecated': False}}}, 'components': {'schemes': {}}}, 'auth': {'type': 'anonymous', 'security_scheme': {}}, 'functions': [{'name': 'get_weather_GetCurrentWeather', 'description': 'Get weather information for a specific location', 'parameters': {'type': 'object', 'properties': {'location': {'type': 'string', 'description': 'City or location to retrieve the weather for'}, 'format': {'type': 'string', 'default': 'j1', 'description': 'Always use j1 value for this parameter'}}, 'required': ['location', 'format']}}]}}], 'tool_resources': {}, 'metadata': {}, 'temperature': 1.0, 'top_p': 1.0, 'max_completion_tokens': None, 'max_prompt_tokens': None, 'truncation_strategy': {'type': 'auto', 'last_messages': None}, 'incomplete_details': None, 'usage': {'prompt_tokens': 9438, 'completion_tokens': 96, 'total_tokens': 9534, 'prompt_token_details': {'cached_tokens': 0}}, 'response_format': 'auto', 'tool_choice': 'auto', 'parallel_tool_calls': True}\n",
      "CPU times: user 9.78 ms, sys: 1.99 ms, total: 11.8 ms\n",
      "Wall time: 4.54 s\n"
     ]
    }
   ],
   "source": [
    "%%time\n",
    "# Create and process agent run in thread with tools\n",
    "run = project_client.agents.create_and_process_run(thread_id=thread.id, agent_id=agent.id)\n",
    "print(f\"Run finished with status: {run.status}. Run: {run}\")\n",
    "\n",
    "if run.status == \"failed\":\n",
    "    # Check if you got \"Rate limit is exceeded.\", then you want to get more quota\n",
    "    print(f\"Run failed: {run.last_error}\")"
   ]
  },
  {
   "cell_type": "markdown",
   "id": "fecc4801-ce47-47ff-8502-e11c6b38fcc2",
   "metadata": {},
   "source": [
    "# Fetch messages from the thread after the agent run execution"
   ]
  },
  {
   "cell_type": "code",
   "execution_count": 9,
   "id": "bd778151-0cbb-4216-8de9-e4dee771d546",
   "metadata": {},
   "outputs": [
    {
     "name": "stdout",
     "output_type": "stream",
     "text": [
      "Here are the 2 messages:\n",
      "\n",
      "\n",
      "===== MESSAGE 1 =====\n",
      "\n",
      "CONTENT 1 (MessageTextContent) --> Text: Quale sarà la temperatura massima a Chiavari il 15 giugno? Se il giorno non è ancora disponibile, indica la temperatura massima del giorno più lontano che sai prevedere.\n",
      "\n",
      "===== MESSAGE 2 =====\n",
      "\n",
      "CONTENT 1 (MessageTextContent) --> Text: Non posso fornire previsioni specifiche per la data del 15 giugno, in quanto non sono disponibili. Tuttavia, posso dirti che la temperatura massima a Chiavari per il 28 maggio 2025 è prevista di **22°C**. Se hai bisogno di altri dati o previsioni, chiedi pure!\n"
     ]
    }
   ],
   "source": [
    "from azure.ai.projects.models import MessageTextContent, MessageImageFileContent\n",
    "\n",
    "if run.status == 'completed':    \n",
    "    messages = project_client.agents.list_messages(thread_id=thread.id)\n",
    "    messages_nr = len(messages.data)\n",
    "    print(f\"Here are the {messages_nr} messages:\\n\")\n",
    "    \n",
    "    for i, message in enumerate(reversed(messages.data), 1):\n",
    "        j = 0\n",
    "        print(f\"\\n===== MESSAGE {i} =====\")\n",
    "        for c in message.content:\n",
    "            j +=1\n",
    "            if (type(c) is MessageImageFileContent):\n",
    "                print(f\"\\nCONTENT {j} (MessageImageFileContent) --> image_file id: {c.image_file.file_id}\")\n",
    "            elif (type(c) is MessageTextContent):\n",
    "                print(f\"\\nCONTENT {j} (MessageTextContent) --> Text: {c.text.value}\")\n",
    "                for a in c.text.annotations:\n",
    "                    print(f\">>> Annotation in MessageTextContent {j} of message {i}: {a.text}\\n\")\n",
    "\n",
    "else:\n",
    "    print(f\"Sorry, I can't proceed because the run status is {run.status}\")"
   ]
  },
  {
   "cell_type": "markdown",
   "id": "b9e4ca37-422c-4c17-8964-8c32a3bb914a",
   "metadata": {},
   "source": [
    "# Run Steps"
   ]
  },
  {
   "cell_type": "code",
   "execution_count": 10,
   "id": "cd551092-22cb-465c-baa3-ff58823fbb72",
   "metadata": {},
   "outputs": [
    {
     "name": "stdout",
     "output_type": "stream",
     "text": [
      "Nr of run step(s): 2\n",
      "\n",
      "Run step 1: {'id': 'step_8KBzmKCv9CIPXrhiK87oLmTm', 'object': 'thread.run.step', 'created_at': 1748338759, 'run_id': 'run_ehXEDfz0n8OI1kIIhUgc0r07', 'assistant_id': 'asst_Nt3hY5yBkmTEXpV2aNXNGeVg', 'thread_id': 'thread_B721ghrGdpZ7Fk1ldLqw8lTi', 'type': 'message_creation', 'status': 'completed', 'cancelled_at': None, 'completed_at': 1748338760, 'expires_at': None, 'failed_at': None, 'last_error': None, 'step_details': {'type': 'message_creation', 'message_creation': {'message_id': 'msg_RKRhRSy6uQKQhJIMqoPYCfBQ'}}, 'usage': {'prompt_tokens': 9269, 'completion_tokens': 71, 'total_tokens': 9340, 'prompt_token_details': {'cached_tokens': 0}}} \n",
      "\n",
      "Run step 2: {'id': 'step_ORW7gdjRSyBAalRG4UynSkr1', 'object': 'thread.run.step', 'created_at': 1748338758, 'run_id': 'run_ehXEDfz0n8OI1kIIhUgc0r07', 'assistant_id': 'asst_Nt3hY5yBkmTEXpV2aNXNGeVg', 'thread_id': 'thread_B721ghrGdpZ7Fk1ldLqw8lTi', 'type': 'tool_calls', 'status': 'completed', 'cancelled_at': None, 'completed_at': 1748338759, 'expires_at': None, 'failed_at': None, 'last_error': None, 'step_details': {'type': 'tool_calls', 'tool_calls': [{'id': 'call_XGFK2s3oCRu1JQqcQYcxTCmz', 'type': 'openapi', 'function': {'name': 'get_weather_GetCurrentWeather', 'arguments': '{\"location\":\"Chiavari\",\"format\":\"j1\"}', 'output': \"{'current_condition': [{'FeelsLikeC': '20', 'FeelsLikeF': '68', 'cloudcover': '25', 'humidity': '73', 'localObsDateTime': '2025-05-27 11:41 AM', 'observation_time': '09:41 AM', 'precipInches': '0.0', 'precipMM': '0.5', 'pressure': '1017', 'pressureInches': '30', 'temp_C': '20', 'temp_F': '68', 'uvIndex': '2', 'visibility': '10', 'visibilityMiles': '6', 'weatherCode': '353', 'weatherDesc': [{'value': 'Light rain shower'}], 'weatherIconUrl': [{'value': ''}], 'winddir16Point': 'NW', 'winddirDegree': '308', 'windspeedKmph': '5', 'windspeedMiles': '3'}], 'nearest_area': [{'areaName': [{'value': 'Chiavari'}], 'country': [{'value': 'Italy'}], 'latitude': '44.317', 'longitude': '9.317', 'population': '26572', 'region': [{'value': 'Liguria'}], 'weatherUrl': [{'value': ''}]}], 'request': [{'query': 'Lat 44.32 and Lon 9.32', 'type': 'LatLon'}], 'weather': [{'astronomy': [{'moon_illumination': '0', 'moon_phase': 'New Moon', 'moonrise': '05:23 AM', 'moonset': '10:00 PM', 'sunrise': '05:44 AM', 'sunset': '08:53 PM'}], 'avgtempC': '16', 'avgtempF': '61', 'date': '2025-05-27', 'hourly': [{'DewPointC': '11', 'DewPointF': '52', 'FeelsLikeC': '12', 'FeelsLikeF': '54', 'HeatIndexC': '13', 'HeatIndexF': '55', 'WindChillC': '12', 'WindChillF': '54', 'WindGustKmph': '17', 'WindGustMiles': '11', 'chanceoffog': '0', 'chanceoffrost': '0', 'chanceofhightemp': '0', 'chanceofovercast': '93', 'chanceofrain': '69', 'chanceofremdry': '0', 'chanceofsnow': '0', 'chanceofsunshine': '0', 'chanceofthunder': '0', 'chanceofwindy': '0', 'cloudcover': '89', 'diffRad': '2.1', 'humidity': '90', 'precipInches': '0.0', 'precipMM': '0.0', 'pressure': '1017', 'pressureInches': '30', 'shortRad': '4.6', 'tempC': '13', 'tempF': '55', 'time': '0', 'uvIndex': '0', 'visibility': '10', 'visibilityMiles': '6', 'weatherCode': '176', 'weatherDesc': [{'value': 'Patchy rain nearby'}], 'weatherIconUrl': [{'value': ''}], 'winddir16Point': 'ESE', 'winddirDegree': '102', 'windspeedKmph': '8', 'windspeedMiles': '5'}, {'DewPointC': '11', 'DewPointF': '52', 'FeelsLikeC': '13', 'FeelsLikeF': '55', 'HeatIndexC': '13', 'HeatIndexF': '56', 'WindChillC': '13', 'WindChillF': '55', 'WindGustKmph': '15', 'WindGustMiles': '9', 'chanceoffog': '0', 'chanceoffrost': '0', 'chanceofhightemp': '0', 'chanceofovercast': '81', 'chanceofrain': '62', 'chanceofremdry': '0', 'chanceofsnow': '0', 'chanceofsunshine': '0', 'chanceofthunder': '0', 'chanceofwindy': '0', 'cloudcover': '100', 'diffRad': '0.0', 'humidity': '89', 'precipInches': '0.0', 'precipMM': '0.0', 'pressure': '1016', 'pressureInches': '30', 'shortRad': '0.0', 'tempC': '13', 'tempF': '56', 'time': '300', 'uvIndex': '0', 'visibility': '10', 'visibilityMiles': '6', 'weatherCode': '176', 'weatherDesc': [{'value': 'Patchy rain nearby'}], 'weatherIconUrl': [{'value': ''}], 'winddir16Point': 'SE', 'winddirDegree': '127', 'windspeedKmph': '7', 'windspeedMiles': '4'}, {'DewPointC': '14', 'DewPointF': '58', 'FeelsLikeC': '17', 'FeelsLikeF': '62', 'HeatIndexC': '17', 'HeatIndexF': '62', 'WindChillC': '17', 'WindChillF': '62', 'WindGustKmph': '7', 'WindGustMiles': '4', 'chanceoffog': '0', 'chanceoffrost': '0', 'chanceofhightemp': '0', 'chanceofovercast': '87', 'chanceofrain': '100', 'chanceofremdry': '0', 'chanceofsnow': '0', 'chanceofsunshine': '0', 'chanceofthunder': '37', 'chanceofwindy': '0', 'cloudcover': '78', 'diffRad': '2.4', 'humidity': '86', 'precipInches': '0.0', 'precipMM': '0.2', 'pressure': '1017', 'pressureInches': '30', 'shortRad': '4.2', 'tempC': '17', 'tempF': '62', 'time': '600', 'uvIndex': '0', 'visibility': '10', 'visibilityMiles': '6', 'weatherCode': '353', 'weatherDesc': [{'value': 'Light rain shower'}], 'weatherIconUrl': [{'value': ''}], 'winddir16Point': 'E', 'winddirDegree': '84', 'windspeedKmph': '5', 'windspeedMiles': '3'}, {'DewPointC': '15', 'DewPointF': '59', 'FeelsLikeC': '18', 'FeelsLikeF': '65', 'HeatIndexC': '18', 'HeatIndexF': '65', 'WindChillC': '18', 'WindChillF': '65', 'WindGustKmph': '2', 'WindGustMiles': '1', 'chanceoffog': '0', 'chanceoffrost': '0', 'chanceofhightemp': '0', 'chanceofovercast': '88', 'chanceofrain': '100', 'chanceofremdry': '0', 'chanceofsnow': '0', 'chanceofsunshine': '0', 'chanceofthunder': '0', 'chanceofwindy': '0', 'cloudcover': '91', 'diffRad': '119.5', 'humidity': '82', 'precipInches': '0.0', 'precipMM': '0.4', 'pressure': '1018', 'pressureInches': '30', 'shortRad': '214.1', 'tempC': '18', 'tempF': '65', 'time': '900', 'uvIndex': '1', 'visibility': '10', 'visibilityMiles': '6', 'weatherCode': '353', 'weatherDesc': [{'value': 'Light rain shower'}], 'weatherIconUrl': [{'value': ''}], 'winddir16Point': 'ENE', 'winddirDegree': '56', 'windspeedKmph': '2', 'windspeedMiles': '1'}, {'DewPointC': '15', 'DewPointF': '59', 'FeelsLikeC': '18', 'FeelsLikeF': '65', 'HeatIndexC': '18', 'HeatIndexF': '65', 'WindChillC': '18', 'WindChillF': '65', 'WindGustKmph': '9', 'WindGustMiles': '6', 'chanceoffog': '0', 'chanceoffrost': '0', 'chanceofhightemp': '0', 'chanceofovercast': '85', 'chanceofrain': '100', 'chanceofremdry': '0', 'chanceofsnow': '0', 'chanceofsunshine': '0', 'chanceofthunder': '0', 'chanceofwindy': '0', 'cloudcover': '50', 'diffRad': '144.4', 'humidity': '80', 'precipInches': '0.0', 'precipMM': '0.4', 'pressure': '1018', 'pressureInches': '30', 'shortRad': '254.6', 'tempC': '18', 'tempF': '65', 'time': '1200', 'uvIndex': '3', 'visibility': '10', 'visibilityMiles': '6', 'weatherCode': '353', 'weatherDesc': [{'value': 'Light rain shower'}], 'weatherIconUrl': [{'value': ''}], 'winddir16Point': 'NW', 'winddirDegree': '317', 'windspeedKmph': '6', 'windspeedMiles': '4'}, {'DewPointC': '12', 'DewPointF': '54', 'FeelsLikeC': '17', 'FeelsLikeF': '63', 'HeatIndexC': '17', 'HeatIndexF': '63', 'WindChillC': '17', 'WindChillF': '63', 'WindGustKmph': '19', 'WindGustMiles': '12', 'chanceoffog': '0', 'chanceoffrost': '0', 'chanceofhightemp': '0', 'chanceofovercast': '90', 'chanceofrain': '100', 'chanceofremdry': '0', 'chanceofsnow': '0', 'chanceofsunshine': '0', 'chanceofthunder': '0', 'chanceofwindy': '0', 'cloudcover': '77', 'diffRad': '216.8', 'humidity': '73', 'precipInches': '0.0', 'precipMM': '0.1', 'pressure': '1018', 'pressureInches': '30', 'shortRad': '732.4', 'tempC': '17', 'tempF': '63', 'time': '1500', 'uvIndex': '6', 'visibility': '10', 'visibilityMiles': '6', 'weatherCode': '176', 'weatherDesc': [{'value': 'Patchy rain nearby'}], 'weatherIconUrl': [{'value': ''}], 'winddir16Point': 'NNW', 'winddirDegree': '348', 'windspeedKmph': '12', 'windspeedMiles': '7'}, {'DewPointC': '12', 'DewPointF': '53', 'FeelsLikeC': '17', 'FeelsLikeF': '63', 'HeatIndexC': '17', 'HeatIndexF': '63', 'WindChillC': '17', 'WindChillF': '63', 'WindGustKmph': '18', 'WindGustMiles': '11', 'chanceoffog': '0', 'chanceoffrost': '0', 'chanceofhightemp': '0', 'chanceofovercast': '0', 'chanceofrain': '0', 'chanceofremdry': '89', 'chanceofsnow': '0', 'chanceofsunshine': '86', 'chanceofthunder': '0', 'chanceofwindy': '0', 'cloudcover': '12', 'diffRad': '137.2', 'humidity': '71', 'precipInches': '0.0', 'precipMM': '0.0', 'pressure': '1018', 'pressureInches': '30', 'shortRad': '595.1', 'tempC': '17', 'tempF': '63', 'time': '1800', 'uvIndex': '2', 'visibility': '10', 'visibilityMiles': '6', 'weatherCode': '113', 'weatherDesc': [{'value': 'Sunny'}], 'weatherIconUrl': [{'value': ''}], 'winddir16Point': 'NW', 'winddirDegree': '323', 'windspeedKmph': '9', 'windspeedMiles': '5'}, {'DewPointC': '11', 'DewPointF': '52', 'FeelsLikeC': '13', 'FeelsLikeF': '56', 'HeatIndexC': '14', 'HeatIndexF': '57', 'WindChillC': '13', 'WindChillF': '56', 'WindGustKmph': '24', 'WindGustMiles': '15', 'chanceoffog': '0', 'chanceoffrost': '0', 'chanceofhightemp': '0', 'chanceofovercast': '0', 'chanceofrain': '0', 'chanceofremdry': '92', 'chanceofsnow': '0', 'chanceofsunshine': '89', 'chanceofthunder': '0', 'chanceofwindy': '0', 'cloudcover': '7', 'diffRad': '5.3', 'humidity': '84', 'precipInches': '0.0', 'precipMM': '0.0', 'pressure': '1019', 'pressureInches': '30', 'shortRad': '12.0', 'tempC': '14', 'tempF': '57', 'time': '2100', 'uvIndex': '0', 'visibility': '10', 'visibilityMiles': '6', 'weatherCode': '113', 'weatherDesc': [{'value': 'Clear '}], 'weatherIconUrl': [{'value': ''}], 'winddir16Point': 'N', 'winddirDegree': '353', 'windspeedKmph': '12', 'windspeedMiles': '7'}], 'maxtempC': '18', 'maxtempF': '65', 'mintempC': '13', 'mintempF': '55', 'sunHour': '12.8', 'totalSnow_cm': '0.0', 'uvIndex': '1'}, {'astronomy': [{'moon_illumination': '1', 'moon_phase': 'Waxing Crescent', 'moonrise': '06:15 AM', 'moonset': '11:09 PM', 'sunrise': '05:43 AM', 'sunset': '08:54 PM'}], 'avgtempC': '16', 'avgtempF': '61', 'date': '2025-05-28', 'hourly': [{'DewPointC': '10', 'DewPointF': '50', 'FeelsLikeC': '12', 'FeelsLikeF': '53', 'HeatIndexC': '13', 'HeatIndexF': '55', 'WindChillC': '12', 'WindChillF': '53', 'WindGustKmph': '23', 'WindGustMiles': '15', 'chanceoffog': '0', 'chanceoffrost': '0', 'chanceofhightemp': '0', 'chanceofovercast': '0', 'chanceofrain': '0', 'chanceofremdry': '84', 'chanceofsnow': '0', 'chanceofsunshine': '86', 'chanceofthunder': '0', 'chanceofwindy': '0', 'cloudcover': '8', 'diffRad': '2.1', 'humidity': '81', 'precipInches': '0.0', 'precipMM': '0.0', 'pressure': '1020', 'pressureInches': '30', 'shortRad': '4.8', 'tempC': '13', 'tempF': '55', 'time': '0', 'uvIndex': '0', 'visibility': '10', 'visibilityMiles': '6', 'weatherCode': '113', 'weatherDesc': [{'value': 'Clear '}], 'weatherIconUrl': [{'value': ''}], 'winddir16Point': 'NNE', 'winddirDegree': '30', 'windspeedKmph': '11', 'windspeedMiles': '7'}, {'DewPointC': '9', 'DewPointF': '48', 'FeelsLikeC': '12', 'FeelsLikeF': '53', 'HeatIndexC': '13', 'HeatIndexF': '55', 'WindChillC': '12', 'WindChillF': '53', 'WindGustKmph': '21', 'WindGustMiles': '13', 'chanceoffog': '0', 'chanceoffrost': '0', 'chanceofhightemp': '0', 'chanceofovercast': '0', 'chanceofrain': '0', 'chanceofremdry': '82', 'chanceofsnow': '0', 'chanceofsunshine': '93', 'chanceofthunder': '0', 'chanceofwindy': '0', 'cloudcover': '10', 'diffRad': '0.0', 'humidity': '79', 'precipInches': '0.0', 'precipMM': '0.0', 'pressure': '1019', 'pressureInches': '30', 'shortRad': '0.0', 'tempC': '13', 'tempF': '55', 'time': '300', 'uvIndex': '0', 'visibility': '10', 'visibilityMiles': '6', 'weatherCode': '113', 'weatherDesc': [{'value': 'Clear '}], 'weatherIconUrl': [{'value': ''}], 'winddir16Point': 'NNE', 'winddirDegree': '28', 'windspeedKmph': '10', 'windspeedMiles': '6'}, {'DewPointC': '10', 'DewPointF': '51', 'FeelsLikeC': '14', 'FeelsLikeF': '58', 'HeatIndexC': '15', 'HeatIndexF': '58', 'WindChillC': '14', 'WindChillF': '58', 'WindGustKmph': '15', 'WindGustMiles': '10', 'chanceoffog': '0', 'chanceoffrost': '0', 'chanceofhightemp': '0', 'chanceofovercast': '0', 'chanceofrain': '0', 'chanceofremdry': '80', 'chanceofsnow': '0', 'chanceofsunshine': '86', 'chanceofthunder': '0', 'chanceofwindy': '0', 'cloudcover': '8', 'diffRad': '5.2', 'humidity': '76', 'precipInches': '0.0', 'precipMM': '0.0', 'pressure': '1020', 'pressureInches': '30', 'shortRad': '10.5', 'tempC': '15', 'tempF': '58', 'time': '600', 'uvIndex': '0', 'visibility': '10', 'visibilityMiles': '6', 'weatherCode': '113', 'weatherDesc': [{'value': 'Sunny'}], 'weatherIconUrl': [{'value': ''}], 'winddir16Point': 'NNE', 'winddirDegree': '33', 'windspeedKmph': '8', 'windspeedMiles': '5'}, {'DewPointC': '11', 'DewPointF': '52', 'FeelsLikeC': '19', 'FeelsLikeF': '66', 'HeatIndexC': '19', 'HeatIndexF': '66', 'WindChillC': '19', 'WindChillF': '66', 'WindGustKmph': '4', 'WindGustMiles': '2', 'chanceoffog': '0', 'chanceoffrost': '0', 'chanceofhightemp': '0', 'chanceofovercast': '0', 'chanceofrain': '0', 'chanceofremdry': '90', 'chanceofsnow': '0', 'chanceofsunshine': '89', 'chanceofthunder': '0', 'chanceofwindy': '0', 'cloudcover': '4', 'diffRad': '117.3', 'humidity': '60', 'precipInches': '0.0', 'precipMM': '0.0', 'pressure': '1020', 'pressureInches': '30', 'shortRad': '474.4', 'tempC': '19', 'tempF': '66', 'time': '900', 'uvIndex': '2', 'visibility': '10', 'visibilityMiles': '6', 'weatherCode': '113', 'weatherDesc': [{'value': 'Sunny'}], 'weatherIconUrl': [{'value': ''}], 'winddir16Point': 'WSW', 'winddirDegree': '238', 'windspeedKmph': '3', 'windspeedMiles': '2'}, {'DewPointC': '12', 'DewPointF': '54', 'FeelsLikeC': '21', 'FeelsLikeF': '69', 'HeatIndexC': '21', 'HeatIndexF': '69', 'WindChillC': '21', 'WindChillF': '69', 'WindGustKmph': '9', 'WindGustMiles': '6', 'chanceoffog': '0', 'chanceoffrost': '0', 'chanceofhightemp': '0', 'chanceofovercast': '0', 'chanceofrain': '0', 'chanceofremdry': '86', 'chanceofsnow': '0', 'chanceofsunshine': '89', 'chanceofthunder': '0', 'chanceofwindy': '0', 'cloudcover': '5', 'diffRad': '205.4', 'humidity': '59', 'precipInches': '0.0', 'precipMM': '0.0', 'pressure': '1019', 'pressureInches': '30', 'shortRad': '644.6', 'tempC': '21', 'tempF': '69', 'time': '1200', 'uvIndex': '7', 'visibility': '10', 'visibilityMiles': '6', 'weatherCode': '113', 'weatherDesc': [{'value': 'Sunny'}], 'weatherIconUrl': [{'value': ''}], 'winddir16Point': 'SW', 'winddirDegree': '224', 'windspeedKmph': '8', 'windspeedMiles': '5'}, {'DewPointC': '11', 'DewPointF': '53', 'FeelsLikeC': '19', 'FeelsLikeF': '66', 'HeatIndexC': '19', 'HeatIndexF': '66', 'WindChillC': '19', 'WindChillF': '66', 'WindGustKmph': '14', 'WindGustMiles': '9', 'chanceoffog': '0', 'chanceoffrost': '0', 'chanceofhightemp': '0', 'chanceofovercast': '0', 'chanceofrain': '0', 'chanceofremdry': '93', 'chanceofsnow': '0', 'chanceofsunshine': '92', 'chanceofthunder': '0', 'chanceofwindy': '0', 'cloudcover': '6', 'diffRad': '300.6', 'humidity': '62', 'precipInches': '0.0', 'precipMM': '0.0', 'pressure': '1018', 'pressureInches': '30', 'shortRad': '742.9', 'tempC': '19', 'tempF': '66', 'time': '1500', 'uvIndex': '6', 'visibility': '10', 'visibilityMiles': '6', 'weatherCode': '113', 'weatherDesc': [{'value': 'Sunny'}], 'weatherIconUrl': [{'value': ''}], 'winddir16Point': 'WSW', 'winddirDegree': '247', 'windspeedKmph': '9', 'windspeedMiles': '5'}, {'DewPointC': '12', 'DewPointF': '54', 'FeelsLikeC': '16', 'FeelsLikeF': '62', 'HeatIndexC': '16', 'HeatIndexF': '62', 'WindChillC': '16', 'WindChillF': '62', 'WindGustKmph': '14', 'WindGustMiles': '9', 'chanceoffog': '0', 'chanceoffrost': '0', 'chanceofhightemp': '0', 'chanceofovercast': '0', 'chanceofrain': '0', 'chanceofremdry': '84', 'chanceofsnow': '0', 'chanceofsunshine': '89', 'chanceofthunder': '0', 'chanceofwindy': '0', 'cloudcover': '11', 'diffRad': '222.8', 'humidity': '75', 'precipInches': '0.0', 'precipMM': '0.0', 'pressure': '1016', 'pressureInches': '30', 'shortRad': '521.8', 'tempC': '16', 'tempF': '62', 'time': '1800', 'uvIndex': '1', 'visibility': '10', 'visibilityMiles': '6', 'weatherCode': '113', 'weatherDesc': [{'value': 'Sunny'}], 'weatherIconUrl': [{'value': ''}], 'winddir16Point': 'W', 'winddirDegree': '268', 'windspeedKmph': '7', 'windspeedMiles': '4'}, {'DewPointC': '11', 'DewPointF': '53', 'FeelsLikeC': '15', 'FeelsLikeF': '58', 'HeatIndexC': '14', 'HeatIndexF': '58', 'WindChillC': '15', 'WindChillF': '58', 'WindGustKmph': '11', 'WindGustMiles': '7', 'chanceoffog': '0', 'chanceoffrost': '0', 'chanceofhightemp': '0', 'chanceofovercast': '0', 'chanceofrain': '0', 'chanceofremdry': '87', 'chanceofsnow': '0', 'chanceofsunshine': '90', 'chanceofthunder': '0', 'chanceofwindy': '0', 'cloudcover': '6', 'diffRad': '4.4', 'humidity': '82', 'precipInches': '0.0', 'precipMM': '0.0', 'pressure': '1017', 'pressureInches': '30', 'shortRad': '8.8', 'tempC': '14', 'tempF': '58', 'time': '2100', 'uvIndex': '0', 'visibility': '10', 'visibilityMiles': '6', 'weatherCode': '113', 'weatherDesc': [{'value': 'Clear '}], 'weatherIconUrl': [{'value': ''}], 'winddir16Point': 'NW', 'winddirDegree': '322', 'windspeedKmph': '5', 'windspeedMiles': '3'}], 'maxtempC': '21', 'maxtempF': '70', 'mintempC': '13', 'mintempF': '55', 'sunHour': '15.0', 'totalSnow_cm': '0.0', 'uvIndex': '2'}, {'astronomy': [{'moon_illumination': '5', 'moon_phase': 'Waxing Crescent', 'moonrise': '07:21 AM', 'moonset': 'No moonset', 'sunrise': '05:42 AM', 'sunset': '08:55 PM'}], 'avgtempC': '18', 'avgtempF': '64', 'date': '2025-05-29', 'hourly': [{'DewPointC': '10', 'DewPointF': '51', 'FeelsLikeC': '13', 'FeelsLikeF': '56', 'HeatIndexC': '14', 'HeatIndexF': '57', 'WindChillC': '13', 'WindChillF': '56', 'WindGustKmph': '19', 'WindGustMiles': '12', 'chanceoffog': '0', 'chanceoffrost': '0', 'chanceofhightemp': '0', 'chanceofovercast': '0', 'chanceofrain': '0', 'chanceofremdry': '83', 'chanceofsnow': '0', 'chanceofsunshine': '94', 'chanceofthunder': '0', 'chanceofwindy': '0', 'cloudcover': '6', 'diffRad': '1.8', 'humidity': '80', 'precipInches': '0.0', 'precipMM': '0.0', 'pressure': '1016', 'pressureInches': '30', 'shortRad': '3.5', 'tempC': '14', 'tempF': '57', 'time': '0', 'uvIndex': '0', 'visibility': '10', 'visibilityMiles': '6', 'weatherCode': '113', 'weatherDesc': [{'value': 'Clear '}], 'weatherIconUrl': [{'value': ''}], 'winddir16Point': 'NNE', 'winddirDegree': '18', 'windspeedKmph': '9', 'windspeedMiles': '6'}, {'DewPointC': '9', 'DewPointF': '48', 'FeelsLikeC': '13', 'FeelsLikeF': '56', 'HeatIndexC': '14', 'HeatIndexF': '57', 'WindChillC': '13', 'WindChillF': '56', 'WindGustKmph': '15', 'WindGustMiles': '9', 'chanceoffog': '0', 'chanceoffrost': '0', 'chanceofhightemp': '0', 'chanceofovercast': '0', 'chanceofrain': '0', 'chanceofremdry': '91', 'chanceofsnow': '0', 'chanceofsunshine': '89', 'chanceofthunder': '0', 'chanceofwindy': '0', 'cloudcover': '2', 'diffRad': '0.0', 'humidity': '74', 'precipInches': '0.0', 'precipMM': '0.0', 'pressure': '1015', 'pressureInches': '30', 'shortRad': '0.0', 'tempC': '14', 'tempF': '57', 'time': '300', 'uvIndex': '0', 'visibility': '10', 'visibilityMiles': '6', 'weatherCode': '113', 'weatherDesc': [{'value': 'Clear '}], 'weatherIconUrl': [{'value': ''}], 'winddir16Point': 'NNE', 'winddirDegree': '30', 'windspeedKmph': '7', 'windspeedMiles': '4'}, {'DewPointC': '12', 'DewPointF': '54', 'FeelsLikeC': '17', 'FeelsLikeF': '62', 'HeatIndexC': '17', 'HeatIndexF': '62', 'WindChillC': '17', 'WindChillF': '62', 'WindGustKmph': '13', 'WindGustMiles': '8', 'chanceoffog': '0', 'chanceoffrost': '0', 'chanceofhightemp': '0', 'chanceofovercast': '0', 'chanceofrain': '0', 'chanceofremdry': '82', 'chanceofsnow': '0', 'chanceofsunshine': '86', 'chanceofthunder': '0', 'chanceofwindy': '0', 'cloudcover': '0', 'diffRad': '5.3', 'humidity': '75', 'precipInches': '0.0', 'precipMM': '0.0', 'pressure': '1016', 'pressureInches': '30', 'shortRad': '14.1', 'tempC': '17', 'tempF': '62', 'time': '600', 'uvIndex': '0', 'visibility': '10', 'visibilityMiles': '6', 'weatherCode': '113', 'weatherDesc': [{'value': 'Sunny'}], 'weatherIconUrl': [{'value': ''}], 'winddir16Point': 'NNE', 'winddirDegree': '27', 'windspeedKmph': '8', 'windspeedMiles': '5'}, {'DewPointC': '13', 'DewPointF': '56', 'FeelsLikeC': '21', 'FeelsLikeF': '70', 'HeatIndexC': '24', 'HeatIndexF': '76', 'WindChillC': '21', 'WindChillF': '70', 'WindGustKmph': '1', 'WindGustMiles': '1', 'chanceoffog': '0', 'chanceoffrost': '0', 'chanceofhightemp': '0', 'chanceofovercast': '44', 'chanceofrain': '0', 'chanceofremdry': '82', 'chanceofsnow': '0', 'chanceofsunshine': '75', 'chanceofthunder': '0', 'chanceofwindy': '0', 'cloudcover': '32', 'diffRad': '161.9', 'humidity': '62', 'precipInches': '0.0', 'precipMM': '0.0', 'pressure': '1017', 'pressureInches': '30', 'shortRad': '448.7', 'tempC': '21', 'tempF': '70', 'time': '900', 'uvIndex': '2', 'visibility': '10', 'visibilityMiles': '6', 'weatherCode': '116', 'weatherDesc': [{'value': 'Partly Cloudy '}], 'weatherIconUrl': [{'value': ''}], 'winddir16Point': 'WNW', 'winddirDegree': '287', 'windspeedKmph': '1', 'windspeedMiles': '1'}, {'DewPointC': '13', 'DewPointF': '55', 'FeelsLikeC': '25', 'FeelsLikeF': '76', 'HeatIndexC': '25', 'HeatIndexF': '76', 'WindChillC': '22', 'WindChillF': '72', 'WindGustKmph': '6', 'WindGustMiles': '4', 'chanceoffog': '0', 'chanceoffrost': '0', 'chanceofhightemp': '0', 'chanceofovercast': '0', 'chanceofrain': '0', 'chanceofremdry': '82', 'chanceofsnow': '0', 'chanceofsunshine': '91', 'chanceofthunder': '0', 'chanceofwindy': '0', 'cloudcover': '7', 'diffRad': '237.8', 'humidity': '56', 'precipInches': '0.0', 'precipMM': '0.0', 'pressure': '1017', 'pressureInches': '30', 'shortRad': '614.0', 'tempC': '22', 'tempF': '72', 'time': '1200', 'uvIndex': '7', 'visibility': '10', 'visibilityMiles': '6', 'weatherCode': '113', 'weatherDesc': [{'value': 'Sunny'}], 'weatherIconUrl': [{'value': ''}], 'winddir16Point': 'WSW', 'winddirDegree': '247', 'windspeedKmph': '5', 'windspeedMiles': '3'}, {'DewPointC': '12', 'DewPointF': '53', 'FeelsLikeC': '21', 'FeelsLikeF': '69', 'HeatIndexC': '21', 'HeatIndexF': '69', 'WindChillC': '21', 'WindChillF': '69', 'WindGustKmph': '7', 'WindGustMiles': '4', 'chanceoffog': '0', 'chanceoffrost': '0', 'chanceofhightemp': '0', 'chanceofovercast': '0', 'chanceofrain': '0', 'chanceofremdry': '94', 'chanceofsnow': '0', 'chanceofsunshine': '86', 'chanceofthunder': '0', 'chanceofwindy': '0', 'cloudcover': '6', 'diffRad': '126.3', 'humidity': '57', 'precipInches': '0.0', 'precipMM': '0.0', 'pressure': '1017', 'pressureInches': '30', 'shortRad': '844.8', 'tempC': '21', 'tempF': '69', 'time': '1500', 'uvIndex': '7', 'visibility': '10', 'visibilityMiles': '6', 'weatherCode': '113', 'weatherDesc': [{'value': 'Sunny'}], 'weatherIconUrl': [{'value': ''}], 'winddir16Point': 'WSW', 'winddirDegree': '254', 'windspeedKmph': '4', 'windspeedMiles': '2'}, {'DewPointC': '13', 'DewPointF': '56', 'FeelsLikeC': '19', 'FeelsLikeF': '66', 'HeatIndexC': '19', 'HeatIndexF': '66', 'WindChillC': '19', 'WindChillF': '66', 'WindGustKmph': '7', 'WindGustMiles': '4', 'chanceoffog': '0', 'chanceoffrost': '0', 'chanceofhightemp': '0', 'chanceofovercast': '0', 'chanceofrain': '0', 'chanceofremdry': '90', 'chanceofsnow': '0', 'chanceofsunshine': '89', 'chanceofthunder': '0', 'chanceofwindy': '0', 'cloudcover': '4', 'diffRad': '123.8', 'humidity': '69', 'precipInches': '0.0', 'precipMM': '0.0', 'pressure': '1017', 'pressureInches': '30', 'shortRad': '627.7', 'tempC': '19', 'tempF': '66', 'time': '1800', 'uvIndex': '2', 'visibility': '10', 'visibilityMiles': '6', 'weatherCode': '113', 'weatherDesc': [{'value': 'Sunny'}], 'weatherIconUrl': [{'value': ''}], 'winddir16Point': 'W', 'winddirDegree': '267', 'windspeedKmph': '3', 'windspeedMiles': '2'}, {'DewPointC': '13', 'DewPointF': '55', 'FeelsLikeC': '16', 'FeelsLikeF': '61', 'HeatIndexC': '16', 'HeatIndexF': '61', 'WindChillC': '16', 'WindChillF': '61', 'WindGustKmph': '18', 'WindGustMiles': '11', 'chanceoffog': '0', 'chanceoffrost': '0', 'chanceofhightemp': '0', 'chanceofovercast': '0', 'chanceofrain': '0', 'chanceofremdry': '84', 'chanceofsnow': '0', 'chanceofsunshine': '89', 'chanceofthunder': '0', 'chanceofwindy': '0', 'cloudcover': '8', 'diffRad': '6.0', 'humidity': '80', 'precipInches': '0.0', 'precipMM': '0.0', 'pressure': '1019', 'pressureInches': '30', 'shortRad': '12.5', 'tempC': '16', 'tempF': '61', 'time': '2100', 'uvIndex': '0', 'visibility': '10', 'visibilityMiles': '6', 'weatherCode': '113', 'weatherDesc': [{'value': 'Clear '}], 'weatherIconUrl': [{'value': ''}], 'winddir16Point': 'N', 'winddirDegree': '9', 'windspeedKmph': '9', 'windspeedMiles': '5'}], 'maxtempC': '22', 'maxtempF': '72', 'mintempC': '14', 'mintempF': '56', 'sunHour': '15.0', 'totalSnow_cm': '0.0', 'uvIndex': '2'}]}\"}}]}, 'usage': {'prompt_tokens': 169, 'completion_tokens': 25, 'total_tokens': 194, 'prompt_token_details': {'cached_tokens': 0}}} \n",
      "\n"
     ]
    }
   ],
   "source": [
    "run_steps = project_client.agents.list_run_steps(run_id=run.id, thread_id=thread.id)\n",
    "\n",
    "print(f'Nr of run step(s): {len(run_steps[\"data\"])}\\n')\n",
    "i=0\n",
    "for rs in run_steps[\"data\"]:\n",
    "    i += 1\n",
    "    print(f\"Run step {i}: {rs}\", '\\n')"
   ]
  },
  {
   "cell_type": "markdown",
   "id": "197b5314-181d-40c3-abcf-2206802be807",
   "metadata": {},
   "source": [
    "# Collect all resources for this project"
   ]
  },
  {
   "cell_type": "code",
   "execution_count": 11,
   "id": "f1152ab9-1a76-4aaf-88a2-c301187694aa",
   "metadata": {},
   "outputs": [
    {
     "name": "stdout",
     "output_type": "stream",
     "text": [
      "1 agents in project <mmai-swc-hub01-prj01>\n",
      "1 threads in project <mmai-swc-hub01-prj01>\n",
      "0 files in project <mmai-swc-hub01-prj01>\n",
      "1 runs in 1 threads of project <mmai-swc-hub01-prj01>\n",
      "2 run steps in 1 pairs of (thread, run) of project <mmai-swc-hub01-prj01>\n",
      "2 messages in 1 threads of project <mmai-swc-hub01-prj01>\n",
      "0 vector stores in project <mmai-swc-hub01-prj01>\n"
     ]
    }
   ],
   "source": [
    "all_agents = list_all_agents(project_client=project_client)\n",
    "print(all_agents[\"summary\"])\n",
    "\n",
    "all_threads = list_all_threads(project_client)\n",
    "print(all_threads[\"summary\"])\n",
    "\n",
    "all_files = list_all_files(project_client)\n",
    "print(all_files[\"summary\"])\n",
    "\n",
    "all_runs = list_all_runs(project_client)\n",
    "print(all_runs[\"summary\"])\n",
    "\n",
    "all_runsteps=list_all_runsteps(project_client)\n",
    "print(all_runsteps[\"summary\"])\n",
    "\n",
    "all_messages = list_all_messages(project_client)\n",
    "print(all_messages[\"summary\"])\n",
    "\n",
    "all_vectorstores = list_all_vectorstores(project_client=project_client)\n",
    "print(all_vectorstores[\"summary\"])"
   ]
  },
  {
   "cell_type": "markdown",
   "id": "2a9c68b0-7f54-4ab7-9eb3-790dacf3bbf6",
   "metadata": {},
   "source": [
    "# Teardown for all resources"
   ]
  },
  {
   "cell_type": "code",
   "execution_count": 12,
   "id": "8347b4ce-7efc-4c73-9b01-aed9e7cfabb9",
   "metadata": {},
   "outputs": [
    {
     "name": "stdout",
     "output_type": "stream",
     "text": [
      "Vector stores deleted: 0\n",
      "\n"
     ]
    }
   ],
   "source": [
    "# delete all vector stores\n",
    "\n",
    "i=0\n",
    "for vector_store in all_vectorstores[\"content\"][\"data\"]:\n",
    "    i += 1\n",
    "    project_client.agents.delete_vector_store(vector_store_id=vector_store.id)\n",
    "    print(f\"{i} - Vector store <{vector_store.id}> has been deleted\")\n",
    "\n",
    "all_vectorstores = list_all_vectorstores(project_client=project_client)\n",
    "\n",
    "print(f\"Vector stores deleted: {i}\\n\")"
   ]
  },
  {
   "cell_type": "code",
   "execution_count": 13,
   "id": "cbbcedd3-2e0a-47ad-8b1b-04ddcb3fc029",
   "metadata": {},
   "outputs": [
    {
     "name": "stdout",
     "output_type": "stream",
     "text": [
      "Files deleted: 0\n",
      "\n"
     ]
    }
   ],
   "source": [
    "# delete all files\n",
    "\n",
    "i=0\n",
    "for file in all_files['content']['data']:\n",
    "    i += 1\n",
    "    project_client.agents.delete_file(file_id=file.id)\n",
    "    print(f\"{i} - File <{file.filename}> ({file.id}) has been deleted\")\n",
    "\n",
    "all_files = list_all_files(project_client)\n",
    "\n",
    "print(f\"Files deleted: {i}\\n\")"
   ]
  },
  {
   "cell_type": "code",
   "execution_count": 14,
   "id": "25f2aac0-2c0f-479b-ae99-265146939af5",
   "metadata": {},
   "outputs": [
    {
     "name": "stdout",
     "output_type": "stream",
     "text": [
      "1 - Thread <thread_B721ghrGdpZ7Fk1ldLqw8lTi> has been deleted\n",
      "Threads deleted: 1\n",
      "\n"
     ]
    }
   ],
   "source": [
    "# delete all threads\n",
    "\n",
    "i=0\n",
    "for thread in all_threads[\"content\"][\"data\"]:\n",
    "    i += 1\n",
    "    project_client.agents.delete_thread(thread_id=thread.id)\n",
    "    print(f\"{i} - Thread <{thread.id}> has been deleted\")\n",
    "\n",
    "all_threads = list_all_threads(project_client)\n",
    "\n",
    "print(f\"Threads deleted: {i}\\n\")"
   ]
  },
  {
   "cell_type": "code",
   "execution_count": 15,
   "id": "5f890f4e-0502-4293-9088-f835a66d6da9",
   "metadata": {},
   "outputs": [
    {
     "name": "stdout",
     "output_type": "stream",
     "text": [
      "1 - Agent <asst_Nt3hY5yBkmTEXpV2aNXNGeVg> has been deleted\n",
      "Agents deleted: 1\n",
      "\n"
     ]
    }
   ],
   "source": [
    "# delete all agents\n",
    "\n",
    "i=0\n",
    "for agent in all_agents[\"content\"][\"data\"]:\n",
    "    i += 1\n",
    "    project_client.agents.delete_agent(agent_id=agent.id)\n",
    "    print(f\"{i} - Agent <{agent.id}> has been deleted\")\n",
    "\n",
    "all_agents = list_all_agents(project_client=project_client)\n",
    "\n",
    "print(f\"Agents deleted: {i}\\n\")"
   ]
  },
  {
   "cell_type": "markdown",
   "id": "c8cc2b04-a0b3-45ee-9066-4306e16511f9",
   "metadata": {},
   "source": [
    "# HIC SUNT LEONES"
   ]
  }
 ],
 "metadata": {
  "kernelspec": {
   "display_name": "aaas",
   "language": "python",
   "name": "aaas"
  },
  "language_info": {
   "codemirror_mode": {
    "name": "ipython",
    "version": 3
   },
   "file_extension": ".py",
   "mimetype": "text/x-python",
   "name": "python",
   "nbconvert_exporter": "python",
   "pygments_lexer": "ipython3",
   "version": "3.13.2"
  }
 },
 "nbformat": 4,
 "nbformat_minor": 5
}
