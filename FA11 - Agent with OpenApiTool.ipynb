{
 "cells": [
  {
   "attachments": {},
   "cell_type": "markdown",
   "id": "6aff6e2d-97b4-441c-b548-2557bafae055",
   "metadata": {},
   "source": [
    "# [Create Agent With OpenAPI](https://learn.microsoft.com/en-us/python/api/overview/azure/ai-agents-readme?view=azure-python-preview#create-agent-with-openapi)\n",
    "AzureFunctionTool contains the input and output queues of azure function and the description of input parameters.\n",
    "\n",
    "Inspired by [sample_agents_openapi.py](https://github.com/Azure/azure-sdk-for-python/blob/azure-ai-projects_1.0.0b4/sdk/ai/azure-ai-projects/samples/agents/sample_agents_openapi.py)"
   ]
  },
  {
   "cell_type": "markdown",
   "id": "54084032-e7de-40c6-bcbc-90ab737a001f",
   "metadata": {},
   "source": [
    "# Constants"
   ]
  },
  {
   "cell_type": "code",
   "execution_count": 1,
   "id": "98d9cc9d-cbef-4b35-a4a3-84802dd4ee06",
   "metadata": {},
   "outputs": [
    {
     "name": "stdout",
     "output_type": "stream",
     "text": [
      "Environment variables have been loaded ;-)\n",
      "Project Endpoint: <https://aif02svcsvf7n.services.ai.azure.com/api/projects/aif02stdprjvf7n>\n",
      "azure-ai-projects library installed version: 1.0.0b12\n",
      "azure-ai-agents library installed version: 1.1.0b3\n"
     ]
    }
   ],
   "source": [
    "import os\n",
    "from IPython.display import Markdown, display\n",
    "from dotenv import load_dotenv # requires python-dotenv\n",
    "from PIL import Image # requires pip install pillow\n",
    "from datetime import datetime\n",
    "from common.agents_helper_functions_NEW import *\n",
    "import importlib.metadata\n",
    "import matplotlib.pyplot as plt\n",
    "import matplotlib.image as mpimg\n",
    "\n",
    "if not load_dotenv(\"./../config/credentials_my.env\"):\n",
    "    print(\"Environment variables not loaded, cell execution stopped\")\n",
    "else:\n",
    "    print(\"Environment variables have been loaded ;-)\")\n",
    "\n",
    "project_endpoint = os.environ[\"AZURE_AIF_PROJECT_ENDPOINT\"]\n",
    "deployment_name =  os.environ[\"MODEL_DEPLOYMENT_NAME\"]\n",
    "api_version = os.environ[\"OPENAI_API_VERSION\"] # at least \"2025-03-01-preview\"\n",
    "\n",
    "print(f'Project Endpoint: <{project_endpoint}>')\n",
    "print(f\"azure-ai-projects library installed version: {importlib.metadata.version(\"azure-ai-projects\")}\")\n",
    "print(f\"azure-ai-agents library installed version: {importlib.metadata.version(\"azure-ai-agents\")}\")"
   ]
  },
  {
   "cell_type": "markdown",
   "id": "6541e9bb-3e3f-478e-a084-84b70fce0255",
   "metadata": {},
   "source": [
    "# Create AI Foundry Agents Client"
   ]
  },
  {
   "cell_type": "code",
   "execution_count": 2,
   "id": "5a9abb62-b855-402f-9e22-583ffe6bf8cb",
   "metadata": {},
   "outputs": [
    {
     "data": {
      "text/plain": [
       "<azure.ai.agents._patch.AgentsClient at 0x1b93168af90>"
      ]
     },
     "execution_count": 2,
     "metadata": {},
     "output_type": "execute_result"
    }
   ],
   "source": [
    "from azure.ai.agents import AgentsClient\n",
    "from azure.identity import DefaultAzureCredential\n",
    "\n",
    "agents_client = AgentsClient(\n",
    "    endpoint=project_endpoint,\n",
    "    credential=DefaultAzureCredential(),\n",
    ")\n",
    "\n",
    "agents_client"
   ]
  },
  {
   "cell_type": "markdown",
   "id": "7183144b-61ea-456b-a0aa-94c5f22a7ac1",
   "metadata": {},
   "source": [
    "# Load Weather OpenAPI"
   ]
  },
  {
   "cell_type": "code",
   "execution_count": 3,
   "id": "121d6e68-3373-417e-b8fc-d31cf5ee4a83",
   "metadata": {},
   "outputs": [
    {
     "data": {
      "text/plain": [
       "{'openapi': '3.1.0',\n",
       " 'info': {'title': 'get weather data',\n",
       "  'description': 'Retrieves current weather data for a location based on wttr.in.',\n",
       "  'version': 'v1.0.0'},\n",
       " 'servers': [{'url': 'https://wttr.in'}],\n",
       " 'auth': [],\n",
       " 'paths': {'/{location}': {'get': {'description': 'Get weather information for a specific location',\n",
       "    'operationId': 'GetCurrentWeather',\n",
       "    'parameters': [{'name': 'location',\n",
       "      'in': 'path',\n",
       "      'description': 'City or location to retrieve the weather for',\n",
       "      'required': True,\n",
       "      'schema': {'type': 'string'}},\n",
       "     {'name': 'format',\n",
       "      'in': 'query',\n",
       "      'description': 'Always use j1 value for this parameter',\n",
       "      'required': True,\n",
       "      'schema': {'type': 'string', 'default': 'j1'}}],\n",
       "    'responses': {'200': {'description': 'Successful response',\n",
       "      'content': {'text/plain': {'schema': {'type': 'string'}}}},\n",
       "     '404': {'description': 'Location not found'}},\n",
       "    'deprecated': False}}},\n",
       " 'components': {'schemes': {}}}"
      ]
     },
     "execution_count": 3,
     "metadata": {},
     "output_type": "execute_result"
    }
   ],
   "source": [
    "import jsonref\n",
    "\n",
    "with open(\"./openapi/weather_openapi.json\", \"r\") as f:\n",
    "    openapi_spec = jsonref.loads(f.read())\n",
    "\n",
    "openapi_spec"
   ]
  },
  {
   "cell_type": "markdown",
   "id": "073506bb-e90e-43a2-bb50-a07cb1397597",
   "metadata": {},
   "source": [
    "# Create Auth object for the OpenApiTool \n",
    "## Note: connection or managed identity auth setup requires additional setup in Azure"
   ]
  },
  {
   "cell_type": "code",
   "execution_count": 4,
   "id": "ed0b781f-a5c2-4994-aed4-09c7d6fbf47a",
   "metadata": {},
   "outputs": [
    {
     "data": {
      "text/plain": [
       "{'type': 'anonymous'}"
      ]
     },
     "execution_count": 4,
     "metadata": {},
     "output_type": "execute_result"
    }
   ],
   "source": [
    "from azure.ai.agents.models import OpenApiAnonymousAuthDetails\n",
    "\n",
    "auth = OpenApiAnonymousAuthDetails()\n",
    "auth"
   ]
  },
  {
   "cell_type": "markdown",
   "id": "cb3d93bc-1a86-4018-bc60-ef6bbdff4a15",
   "metadata": {},
   "source": [
    "# Initialize agent OpenApi tool using the read in OpenAPI spec"
   ]
  },
  {
   "cell_type": "code",
   "execution_count": 5,
   "id": "d8f04bae-92c8-4bcd-974a-023bd56e32e0",
   "metadata": {},
   "outputs": [
    {
     "name": "stdout",
     "output_type": "stream",
     "text": [
      "openapi.definitions: [{'type': 'openapi', 'openapi': {'name': 'get_weather', 'description': 'Retrieve weather information for a location', 'spec': {'openapi': '3.1.0', 'info': {'title': 'get weather data', 'description': 'Retrieves current weather data for a location based on wttr.in.', 'version': 'v1.0.0'}, 'servers': [{'url': 'https://wttr.in'}], 'auth': [], 'paths': {'/{location}': {'get': {'description': 'Get weather information for a specific location', 'operationId': 'GetCurrentWeather', 'parameters': [{'name': 'location', 'in': 'path', 'description': 'City or location to retrieve the weather for', 'required': True, 'schema': {'type': 'string'}}, {'name': 'format', 'in': 'query', 'description': 'Always use j1 value for this parameter', 'required': True, 'schema': {'type': 'string', 'default': 'j1'}}], 'responses': {'200': {'description': 'Successful response', 'content': {'text/plain': {'schema': {'type': 'string'}}}}, '404': {'description': 'Location not found'}}, 'deprecated': False}}}, 'components': {'schemes': {}}}, 'auth': {'type': 'anonymous'}, 'default_params': []}}]\n",
      "\n",
      "openapi.resources: {}\n"
     ]
    }
   ],
   "source": [
    "from azure.ai.agents.models import OpenApiTool\n",
    "\n",
    "openapi = OpenApiTool(\n",
    "    name=\"get_weather\", spec=openapi_spec, description=\"Retrieve weather information for a location\", auth=auth\n",
    ")\n",
    "print(f\"openapi.definitions: {openapi.definitions}\")\n",
    "print(f\"\\nopenapi.resources: {openapi.resources}\")"
   ]
  },
  {
   "cell_type": "markdown",
   "id": "1b889e58-4f42-45fa-abb4-ba63f7038793",
   "metadata": {},
   "source": [
    "# Create AI Foundry Agent"
   ]
  },
  {
   "cell_type": "code",
   "execution_count": 6,
   "id": "b23ba3db-c486-4378-be6c-cb5626f52e3f",
   "metadata": {},
   "outputs": [
    {
     "data": {
      "text/plain": [
       "<bound method _MyMutableMapping.items of {'id': 'asst_ObjEaMyzr2rCO5WgLwPtymzD', 'object': 'assistant', 'created_at': 1751810979, 'name': 'openapi-agent', 'description': None, 'model': 'gpt-4o', 'instructions': 'You are a helpful assistant', 'tools': [{'type': 'openapi', 'openapi': {'name': 'get_weather', 'description': 'Retrieve weather information for a location', 'spec': {'openapi': '3.1.0', 'info': {'title': 'get weather data', 'description': 'Retrieves current weather data for a location based on wttr.in.', 'version': 'v1.0.0'}, 'servers': [{'url': 'https://wttr.in'}], 'auth': [], 'paths': {'/{location}': {'get': {'description': 'Get weather information for a specific location', 'operationId': 'GetCurrentWeather', 'parameters': [{'name': 'location', 'in': 'path', 'description': 'City or location to retrieve the weather for', 'required': True, 'schema': {'type': 'string'}}, {'name': 'format', 'in': 'query', 'description': 'Always use j1 value for this parameter', 'required': True, 'schema': {'type': 'string', 'default': 'j1'}}], 'responses': {'200': {'description': 'Successful response', 'content': {'text/plain': {'schema': {'type': 'string'}}}}, '404': {'description': 'Location not found'}}, 'deprecated': False}}}, 'components': {'schemes': {}}}, 'auth': {'type': 'anonymous', 'security_scheme': {}}, 'functions': [{'name': 'get_weather_GetCurrentWeather', 'description': 'Get weather information for a specific location', 'parameters': {'type': 'object', 'properties': {'location': {'type': 'string', 'description': 'City or location to retrieve the weather for'}, 'format': {'type': 'string', 'default': 'j1', 'description': 'Always use j1 value for this parameter'}}, 'required': ['location', 'format']}}]}}], 'top_p': 1.0, 'temperature': 1.0, 'tool_resources': {}, 'metadata': {}, 'response_format': 'auto'}>"
      ]
     },
     "execution_count": 6,
     "metadata": {},
     "output_type": "execute_result"
    }
   ],
   "source": [
    "# Create agent with AI search tool and process assistant run\n",
    "agent = agents_client.create_agent(\n",
    "    model=deployment_name,\n",
    "    name=\"openapi-agent\",\n",
    "    instructions=\"You are a helpful assistant\",\n",
    "    tools=openapi.definitions,\n",
    "    tool_resources = openapi.resources,\n",
    ")\n",
    "\n",
    "agent.items"
   ]
  },
  {
   "cell_type": "markdown",
   "id": "d0858e59-5a9a-4523-ae47-68eafc10005b",
   "metadata": {},
   "source": [
    "# Create the thread and attach a new message to it"
   ]
  },
  {
   "cell_type": "code",
   "execution_count": 7,
   "id": "06f80125-1252-4060-bdf5-3b52acc42a47",
   "metadata": {},
   "outputs": [
    {
     "name": "stdout",
     "output_type": "stream",
     "text": [
      "Created thread: {'id': 'thread_rPlt8DlGnkGbahH5tUQ4W3en', 'object': 'thread', 'created_at': 1751810980, 'metadata': {}, 'tool_resources': {}}\n",
      "\n"
     ]
    },
    {
     "data": {
      "text/plain": [
       "[{'id': 'msg_dFMkfoQ4k7CBtob0lcjVlx7i', 'object': 'thread.message', 'created_at': 1751810980, 'assistant_id': None, 'thread_id': 'thread_rPlt8DlGnkGbahH5tUQ4W3en', 'run_id': None, 'role': 'user', 'content': [{'type': 'text', 'text': {'value': 'Quale sarà la temperatura massima a Chiavari il 15 giugno? Se il giorno non è ancora disponibile, indica la temperatura massima del giorno più lontano che sai prevedere.', 'annotations': []}}], 'attachments': [], 'metadata': {}}]"
      ]
     },
     "execution_count": 7,
     "metadata": {},
     "output_type": "execute_result"
    }
   ],
   "source": [
    "# Create a thread\n",
    "thread = agents_client.threads.create()\n",
    "print(f\"Created thread: {thread}\\n\")\n",
    "\n",
    "\n",
    "# Add a user message to the thread\n",
    "from azure.ai.agents.models import MessageRole\n",
    "\n",
    "message = agents_client.messages.create(\n",
    "    thread_id=thread.id, \n",
    "    role=MessageRole.USER, \n",
    "    content=\"Quale sarà la temperatura massima a Chiavari il 15 giugno? Se il giorno non è ancora disponibile, indica la temperatura massima del giorno più lontano che sai prevedere.\",\n",
    ")\n",
    "\n",
    "# let's see the messages associated with the thread\n",
    "list(agents_client.messages.list(thread_id=thread.id))"
   ]
  },
  {
   "cell_type": "markdown",
   "id": "ca620721-a30e-44ac-9578-bbc098e20314",
   "metadata": {},
   "source": [
    "# Run the agent synchronously"
   ]
  },
  {
   "cell_type": "code",
   "execution_count": 8,
   "id": "8604f495-2519-42a7-a19a-026538cf2c2c",
   "metadata": {},
   "outputs": [
    {
     "name": "stdout",
     "output_type": "stream",
     "text": [
      "Run finished with status: RunStatus.COMPLETED.\n",
      "\n",
      "Run: {'id': 'run_4KeDFcy4eejCTMHpAO3wtv1s', 'object': 'thread.run', 'created_at': 1751810983, 'assistant_id': 'asst_ObjEaMyzr2rCO5WgLwPtymzD', 'thread_id': 'thread_rPlt8DlGnkGbahH5tUQ4W3en', 'status': 'completed', 'started_at': 1751810984, 'expires_at': None, 'cancelled_at': None, 'failed_at': None, 'completed_at': 1751810990, 'required_action': None, 'last_error': None, 'model': 'gpt-4o', 'instructions': 'You are a helpful assistant', 'tools': [{'type': 'openapi', 'openapi': {'name': 'get_weather', 'description': 'Retrieve weather information for a location', 'spec': {'openapi': '3.1.0', 'info': {'title': 'get weather data', 'description': 'Retrieves current weather data for a location based on wttr.in.', 'version': 'v1.0.0'}, 'servers': [{'url': 'https://wttr.in'}], 'auth': [], 'paths': {'/{location}': {'get': {'description': 'Get weather information for a specific location', 'operationId': 'GetCurrentWeather', 'parameters': [{'name': 'location', 'in': 'path', 'description': 'City or location to retrieve the weather for', 'required': True, 'schema': {'type': 'string'}}, {'name': 'format', 'in': 'query', 'description': 'Always use j1 value for this parameter', 'required': True, 'schema': {'type': 'string', 'default': 'j1'}}], 'responses': {'200': {'description': 'Successful response', 'content': {'text/plain': {'schema': {'type': 'string'}}}}, '404': {'description': 'Location not found'}}, 'deprecated': False}}}, 'components': {'schemes': {}}}, 'auth': {'type': 'anonymous', 'security_scheme': {}}, 'functions': [{'name': 'get_weather_GetCurrentWeather', 'description': 'Get weather information for a specific location', 'parameters': {'type': 'object', 'properties': {'location': {'type': 'string', 'description': 'City or location to retrieve the weather for'}, 'format': {'type': 'string', 'default': 'j1', 'description': 'Always use j1 value for this parameter'}}, 'required': ['location', 'format']}}]}}], 'tool_resources': {}, 'metadata': {}, 'temperature': 1.0, 'top_p': 1.0, 'max_completion_tokens': None, 'max_prompt_tokens': None, 'truncation_strategy': {'type': 'auto', 'last_messages': None}, 'incomplete_details': None, 'usage': {'prompt_tokens': 9407, 'completion_tokens': 75, 'total_tokens': 9482, 'prompt_token_details': {'cached_tokens': 0}}, 'response_format': 'auto', 'tool_choice': 'auto', 'parallel_tool_calls': True}\n",
      "CPU times: total: 46.9 ms\n",
      "Wall time: 8.56 s\n"
     ]
    }
   ],
   "source": [
    "%%time\n",
    "\n",
    "# Run the agent\n",
    "run = agents_client.runs.create_and_process\\\n",
    "    (thread_id=thread.id, agent_id=agent.id)\n",
    "\n",
    "print(f\"Run finished with status: {run.status}.\\n\\nRun: {run}\")\n",
    "\n",
    "if run.status == \"failed\":\n",
    "    # Check if you got \"Rate limit is exceeded.\", then you want to get more quota\n",
    "    print(f\"Run failed: {run.last_error}\")"
   ]
  },
  {
   "cell_type": "markdown",
   "id": "fecc4801-ce47-47ff-8502-e11c6b38fcc2",
   "metadata": {},
   "source": [
    "# Fetch messages from the thread after the agent run execution"
   ]
  },
  {
   "cell_type": "code",
   "execution_count": 9,
   "id": "bd778151-0cbb-4216-8de9-e4dee771d546",
   "metadata": {},
   "outputs": [
    {
     "name": "stdout",
     "output_type": "stream",
     "text": [
      "Here are the 2 messages:\n",
      "\n",
      "\n",
      "===== MESSAGE 1 =====\n",
      "\n",
      "Message 1 / CONTENT 1 (MessageTextContent) --> Text: Quale sarà la temperatura massima a Chiavari il 15 giugno? Se il giorno non è ancora disponibile, indica la temperatura massima del giorno più lontano che sai prevedere.\n",
      "\n",
      "===== MESSAGE 2 =====\n",
      "\n",
      "Message 2 / CONTENT 1 (MessageTextContent) --> Text: La temperatura massima prevista a Chiavari per il giorno più lontano disponibile, il 7 luglio 2025, sarà di 26°C. Non è possibile prevedere la temperatura per il 15 giugno allo stato attuale.\n"
     ]
    }
   ],
   "source": [
    "from azure.ai.agents.models import (MessageTextContent, MessageImageFileContent, MessageTextFileCitationAnnotation, \\\n",
    "    MessageTextFilePathAnnotation, MessageTextUrlCitationAnnotation)\n",
    "\n",
    "image_files = []\n",
    "annotations = []\n",
    "citations = []\n",
    "citation_annotations = []\n",
    "\n",
    "if run.status == 'completed':\n",
    "    messages = agents_client.messages.list(thread_id=thread.id)\n",
    "    messages_list = list(agents_client.messages.list(thread_id=thread.id))  # Convert iterator to a list\n",
    "    messages_nr = len(messages_list)\n",
    "    print(f\"Here are the {messages_nr} messages:\\n\")\n",
    "    \n",
    "    for i, message in enumerate(reversed(messages_list), 1):\n",
    "        j = 0\n",
    "        print(f\"\\n===== MESSAGE {i} =====\")\n",
    "        for c in message.content:\n",
    "            j +=1\n",
    "            if (type(c) is MessageTextContent):\n",
    "                print(f\"\\nMessage {i} / CONTENT {j} (MessageTextContent) --> Text: {c.text.value}\")\n",
    "                for a in c.text.annotations:\n",
    "                    if type(a) is MessageTextFileCitationAnnotation:\n",
    "                        print(f\">>> Citation in MessageTextContent {j} of message {i}: {a}\\n\")\n",
    "                        citations.append(a)\n",
    "                    elif type(a) is MessageTextFilePathAnnotation:\n",
    "                        print(f\">>> Annotation in MessageTextContent {j} of message {i}: {a}\\n\")\n",
    "                        annotations.append(a)\n",
    "                    elif type(a) is MessageTextUrlCitationAnnotation:\n",
    "                        print(f\">>> Annotation in MessageTextContent {j} of message {i}: {a}\\n\")\n",
    "                        citation_annotations.append(a)\n",
    "                    else:\n",
    "                        print(f\"Unknown type {type(a)}\")\n",
    "            elif (type(c) is MessageImageFileContent):\n",
    "                print(f\"\\nMessage {i} / CONTENT {j} (MessageImageFileContent) --> image_file id: {c.image_file.file_id}\")\n",
    "                image_files.append(c.image_file.file_id)\n",
    "            else:\n",
    "                print(f\"Unknown type {type(a)}\")\n",
    "\n",
    "else:\n",
    "    print(f\"Sorry, I can't proceed because the run status is {run.status}\")"
   ]
  },
  {
   "cell_type": "code",
   "execution_count": 10,
   "id": "048682cb-cc72-4b5b-8547-63e38b021304",
   "metadata": {},
   "outputs": [
    {
     "name": "stdout",
     "output_type": "stream",
     "text": [
      "La temperatura massima prevista a Chiavari per il giorno più lontano disponibile, il 7 luglio 2025, sarà di 26°C. Non è possibile prevedere la temperatura per il 15 giugno allo stato attuale.\n"
     ]
    }
   ],
   "source": [
    "# Get the last message from the sender\n",
    "last_msg = list(agents_client.messages.list(thread_id=thread.id))[0]\n",
    "\n",
    "if last_msg:\n",
    "    print(last_msg.content[0].text.value)"
   ]
  },
  {
   "cell_type": "markdown",
   "id": "f6806dac-e90e-4424-93a1-400b2c47cd6f",
   "metadata": {},
   "source": [
    "# Print citation_annotations from the messages"
   ]
  },
  {
   "cell_type": "code",
   "execution_count": 11,
   "id": "982b2fac-c583-4464-b49f-1cce9ffdb9f7",
   "metadata": {},
   "outputs": [
    {
     "name": "stdout",
     "output_type": "stream",
     "text": [
      "Nr. of citation_annotations: 0\n",
      "\n"
     ]
    }
   ],
   "source": [
    "print (f\"Nr. of citation_annotations: {len(annotations)}\\n\")\n",
    "\n",
    "i=0\n",
    "for ca in citation_annotations:\n",
    "    i += 1\n",
    "    print(f\"{i} - citation_annotations {ca.text}: {ca.url_citation} (from {ca.start_index} to {ca.end_index})\")"
   ]
  },
  {
   "cell_type": "markdown",
   "id": "62460c07-e442-4b98-83ef-4032c030c7e2",
   "metadata": {},
   "source": [
    "# Print annotations from the messages"
   ]
  },
  {
   "cell_type": "code",
   "execution_count": 12,
   "id": "e9d75e9a-9ff8-4334-8df3-ed50932a9458",
   "metadata": {},
   "outputs": [
    {
     "name": "stdout",
     "output_type": "stream",
     "text": [
      "Nr. of file path annotations: 0\n",
      "\n"
     ]
    }
   ],
   "source": [
    "print (f\"Nr. of file path annotations: {len(annotations)}\\n\")\n",
    "\n",
    "i=0\n",
    "for a in annotations:\n",
    "    i += 1\n",
    "    print(f\"{i} - File annotation paths: {a.text}\")\n",
    "    file_name = a.text.split('/')[-1]\n",
    "    file_id = a.file_path.file_id\n",
    "\n",
    "    #agents_client.files.save(file_id=file_id, file_name=file_name)\n",
    "    project_client.agents.files.save(file_id=file_id, file_name=file_name)\n",
    "    print(f\"\\n>>> file <{file_id}> saved as <{file_name}>\")\n",
    "    \n",
    "    # project_client.agents.save_file(file_id=file_path_annotation.file_path.file_id, file_name=file_name)\n",
    "    print(f\"File annotation {i} saved as file to: {os.getcwd()}/{file_name}\")\n",
    "    image = mpimg.imread(f\"{os.getcwd()}/{file_name}\") # read the image\n",
    "    plt.imshow(image)\n",
    "    plt.show()"
   ]
  },
  {
   "cell_type": "markdown",
   "id": "6de2c6b2-b582-4ebf-bb30-22423d450c52",
   "metadata": {},
   "source": [
    "# Fetch citations from the messages"
   ]
  },
  {
   "cell_type": "code",
   "execution_count": 13,
   "id": "bb8ac635-53d7-4326-94e4-4851d63de0a8",
   "metadata": {},
   "outputs": [
    {
     "name": "stdout",
     "output_type": "stream",
     "text": [
      "Nr. of file path citations: 0\n",
      "\n"
     ]
    }
   ],
   "source": [
    "print (f\"Nr. of file path citations: {len(citations)}\\n\")\n",
    "\n",
    "i=0\n",
    "for a in citations:\n",
    "    i += 1\n",
    "    print(f\"{i} - citation: {a}\")"
   ]
  },
  {
   "cell_type": "markdown",
   "id": "c920fbc5-6196-478a-af3b-4c1787d36c80",
   "metadata": {},
   "source": [
    "# Retrieve and download eventual images"
   ]
  },
  {
   "cell_type": "code",
   "execution_count": 14,
   "id": "84d4e3fb-33a4-43b4-895c-2387313f7baa",
   "metadata": {},
   "outputs": [
    {
     "name": "stdout",
     "output_type": "stream",
     "text": [
      "Nr. of image contents: 0\n",
      "\n"
     ]
    }
   ],
   "source": [
    "print (f\"Nr. of image contents: {len(image_files)}\\n\")\n",
    "\n",
    "i=0\n",
    "# Generate an image file for the bar chart\n",
    "for image_file in image_files:\n",
    "    i += 1\n",
    "    print(f\"{i} - Image file id: {image_file}\")\n",
    "    file_name = f\"{image_file}.png\"\n",
    "    project_client.agents.files.save(file_id=image_file, file_name=file_name)\n",
    "    print(f\"Image content {i} file to: {os.getcwd()}/{file_name}\")\n",
    "    image = mpimg.imread(f\"{os.getcwd()}/{file_name}\") # read the image\n",
    "    plt.imshow(image)\n",
    "    plt.show()"
   ]
  },
  {
   "cell_type": "markdown",
   "id": "9ded7add-533f-4371-b7d1-727f1e1348bf",
   "metadata": {},
   "source": [
    "# Run Steps"
   ]
  },
  {
   "cell_type": "code",
   "execution_count": 15,
   "id": "edd4990f-3a5a-47a7-b939-2166eeb4e383",
   "metadata": {},
   "outputs": [
    {
     "name": "stdout",
     "output_type": "stream",
     "text": [
      "Nr of run step(s): 2\n",
      "\n",
      "Run step 1: {'id': 'step_Q6CVVM81chh6kEOSvhat4DP1', 'object': 'thread.run.step', 'created_at': 1751810990, 'run_id': 'run_4KeDFcy4eejCTMHpAO3wtv1s', 'assistant_id': 'asst_ObjEaMyzr2rCO5WgLwPtymzD', 'thread_id': 'thread_rPlt8DlGnkGbahH5tUQ4W3en', 'type': 'message_creation', 'status': 'completed', 'cancelled_at': None, 'completed_at': 1751810990, 'expires_at': None, 'failed_at': None, 'last_error': None, 'step_details': {'type': 'message_creation', 'message_creation': {'message_id': 'msg_Z3GjffbjjooVT6fozikLjYD6'}}, 'usage': {'prompt_tokens': 9266, 'completion_tokens': 50, 'total_tokens': 9316, 'prompt_token_details': {'cached_tokens': 0}}} \n",
      "\n",
      "Run step 2: {'id': 'step_Et7VfXHCMLu1V4d7o2w9t9o6', 'object': 'thread.run.step', 'created_at': 1751810984, 'run_id': 'run_4KeDFcy4eejCTMHpAO3wtv1s', 'assistant_id': 'asst_ObjEaMyzr2rCO5WgLwPtymzD', 'thread_id': 'thread_rPlt8DlGnkGbahH5tUQ4W3en', 'type': 'tool_calls', 'status': 'completed', 'cancelled_at': None, 'completed_at': 1751810990, 'expires_at': None, 'failed_at': None, 'last_error': None, 'step_details': {'type': 'tool_calls', 'tool_calls': [{'id': 'call_XK3tbM9CoaztxtgCabNAo6Ko', 'type': 'openapi', 'function': {'name': 'get_weather_GetCurrentWeather', 'arguments': '{\"location\":\"Chiavari\",\"format\":\"j1\"}', 'output': \"{'current_condition': [{'FeelsLikeC': '25', 'FeelsLikeF': '77', 'cloudcover': '0', 'humidity': '89', 'localObsDateTime': '2025-07-06 04:26 PM', 'observation_time': '02:26 PM', 'precipInches': '0.1', 'precipMM': '1.7', 'pressure': '1011', 'pressureInches': '30', 'temp_C': '23', 'temp_F': '73', 'uvIndex': '5', 'visibility': '9', 'visibilityMiles': '5', 'weatherCode': '176', 'weatherDesc': [{'value': 'Patchy rain nearby'}], 'weatherIconUrl': [{'value': ''}], 'winddir16Point': 'SSE', 'winddirDegree': '164', 'windspeedKmph': '16', 'windspeedMiles': '10'}], 'nearest_area': [{'areaName': [{'value': 'Chiavari'}], 'country': [{'value': 'Italy'}], 'latitude': '44.317', 'longitude': '9.317', 'population': '26572', 'region': [{'value': 'Liguria'}], 'weatherUrl': [{'value': ''}]}], 'request': [{'query': 'Lat 44.32 and Lon 9.32', 'type': 'LatLon'}], 'weather': [{'astronomy': [{'moon_illumination': '78', 'moon_phase': 'Waxing Gibbous', 'moonrise': '05:41 PM', 'moonset': '01:55 AM', 'sunrise': '05:46 AM', 'sunset': '09:10 PM'}], 'avgtempC': '25', 'avgtempF': '77', 'date': '2025-07-06', 'hourly': [{'DewPointC': '21', 'DewPointF': '69', 'FeelsLikeC': '26', 'FeelsLikeF': '79', 'HeatIndexC': '26', 'HeatIndexF': '79', 'WindChillC': '24', 'WindChillF': '75', 'WindGustKmph': '18', 'WindGustMiles': '11', 'chanceoffog': '0', 'chanceoffrost': '0', 'chanceofhightemp': '15', 'chanceofovercast': '83', 'chanceofrain': '100', 'chanceofremdry': '0', 'chanceofsnow': '0', 'chanceofsunshine': '0', 'chanceofthunder': '0', 'chanceofwindy': '0', 'cloudcover': '72', 'diffRad': '4.2', 'humidity': '81', 'precipInches': '0.0', 'precipMM': '0.5', 'pressure': '1014', 'pressureInches': '30', 'shortRad': '8.9', 'tempC': '24', 'tempF': '75', 'time': '0', 'uvIndex': '0', 'visibility': '5', 'visibilityMiles': '3', 'weatherCode': '263', 'weatherDesc': [{'value': 'Patchy light drizzle'}], 'weatherIconUrl': [{'value': ''}], 'winddir16Point': 'ENE', 'winddirDegree': '78', 'windspeedKmph': '10', 'windspeedMiles': '6'}, {'DewPointC': '21', 'DewPointF': '70', 'FeelsLikeC': '26', 'FeelsLikeF': '80', 'HeatIndexC': '26', 'HeatIndexF': '80', 'WindChillC': '24', 'WindChillF': '76', 'WindGustKmph': '19', 'WindGustMiles': '12', 'chanceoffog': '0', 'chanceoffrost': '0', 'chanceofhightemp': '15', 'chanceofovercast': '83', 'chanceofrain': '71', 'chanceofremdry': '0', 'chanceofsnow': '0', 'chanceofsunshine': '0', 'chanceofthunder': '25', 'chanceofwindy': '0', 'cloudcover': '80', 'diffRad': '0.0', 'humidity': '81', 'precipInches': '0.0', 'precipMM': '0.0', 'pressure': '1013', 'pressureInches': '30', 'shortRad': '0.0', 'tempC': '24', 'tempF': '76', 'time': '300', 'uvIndex': '0', 'visibility': '9', 'visibilityMiles': '5', 'weatherCode': '200', 'weatherDesc': [{'value': 'Thundery outbreaks in nearby'}], 'weatherIconUrl': [{'value': ''}], 'winddir16Point': 'E', 'winddirDegree': '85', 'windspeedKmph': '13', 'windspeedMiles': '8'}, {'DewPointC': '22', 'DewPointF': '71', 'FeelsLikeC': '26', 'FeelsLikeF': '79', 'HeatIndexC': '26', 'HeatIndexF': '79', 'WindChillC': '24', 'WindChillF': '75', 'WindGustKmph': '28', 'WindGustMiles': '18', 'chanceoffog': '0', 'chanceoffrost': '0', 'chanceofhightemp': '10', 'chanceofovercast': '93', 'chanceofrain': '100', 'chanceofremdry': '0', 'chanceofsnow': '0', 'chanceofsunshine': '0', 'chanceofthunder': '4', 'chanceofwindy': '0', 'cloudcover': '89', 'diffRad': '2.9', 'humidity': '89', 'precipInches': '0.0', 'precipMM': '1.0', 'pressure': '1012', 'pressureInches': '30', 'shortRad': '5.4', 'tempC': '24', 'tempF': '75', 'time': '600', 'uvIndex': '0', 'visibility': '10', 'visibilityMiles': '6', 'weatherCode': '353', 'weatherDesc': [{'value': 'Light rain shower'}], 'weatherIconUrl': [{'value': ''}], 'winddir16Point': 'E', 'winddirDegree': '87', 'windspeedKmph': '16', 'windspeedMiles': '10'}, {'DewPointC': '22', 'DewPointF': '72', 'FeelsLikeC': '27', 'FeelsLikeF': '81', 'HeatIndexC': '27', 'HeatIndexF': '81', 'WindChillC': '25', 'WindChillF': '77', 'WindGustKmph': '34', 'WindGustMiles': '21', 'chanceoffog': '0', 'chanceoffrost': '0', 'chanceofhightemp': '19', 'chanceofovercast': '93', 'chanceofrain': '100', 'chanceofremdry': '0', 'chanceofsnow': '0', 'chanceofsunshine': '0', 'chanceofthunder': '97', 'chanceofwindy': '0', 'cloudcover': '77', 'diffRad': '164.3', 'humidity': '86', 'precipInches': '0.1', 'precipMM': '1.9', 'pressure': '1012', 'pressureInches': '30', 'shortRad': '351.8', 'tempC': '25', 'tempF': '77', 'time': '900', 'uvIndex': '2', 'visibility': '10', 'visibilityMiles': '6', 'weatherCode': '353', 'weatherDesc': [{'value': 'Light rain shower'}], 'weatherIconUrl': [{'value': ''}], 'winddir16Point': 'SE', 'winddirDegree': '138', 'windspeedKmph': '20', 'windspeedMiles': '13'}, {'DewPointC': '22', 'DewPointF': '72', 'FeelsLikeC': '27', 'FeelsLikeF': '81', 'HeatIndexC': '27', 'HeatIndexF': '81', 'WindChillC': '25', 'WindChillF': '77', 'WindGustKmph': '49', 'WindGustMiles': '30', 'chanceoffog': '0', 'chanceoffrost': '0', 'chanceofhightemp': '52', 'chanceofovercast': '84', 'chanceofrain': '100', 'chanceofremdry': '0', 'chanceofsnow': '0', 'chanceofsunshine': '0', 'chanceofthunder': '49', 'chanceofwindy': '0', 'cloudcover': '87', 'diffRad': '193.0', 'humidity': '86', 'precipInches': '0.1', 'precipMM': '2.6', 'pressure': '1011', 'pressureInches': '30', 'shortRad': '416.7', 'tempC': '25', 'tempF': '77', 'time': '1200', 'uvIndex': '7', 'visibility': '7', 'visibilityMiles': '4', 'weatherCode': '356', 'weatherDesc': [{'value': 'Moderate or heavy rain shower'}], 'weatherIconUrl': [{'value': ''}], 'winddir16Point': 'SE', 'winddirDegree': '142', 'windspeedKmph': '23', 'windspeedMiles': '14'}, {'DewPointC': '23', 'DewPointF': '73', 'FeelsLikeC': '28', 'FeelsLikeF': '83', 'HeatIndexC': '28', 'HeatIndexF': '83', 'WindChillC': '26', 'WindChillF': '78', 'WindGustKmph': '30', 'WindGustMiles': '19', 'chanceoffog': '0', 'chanceoffrost': '0', 'chanceofhightemp': '95', 'chanceofovercast': '84', 'chanceofrain': '100', 'chanceofremdry': '0', 'chanceofsnow': '0', 'chanceofsunshine': '0', 'chanceofthunder': '4', 'chanceofwindy': '0', 'cloudcover': '72', 'diffRad': '210.3', 'humidity': '84', 'precipInches': '0.1', 'precipMM': '1.8', 'pressure': '1009', 'pressureInches': '30', 'shortRad': '746.8', 'tempC': '26', 'tempF': '78', 'time': '1500', 'uvIndex': '7', 'visibility': '9', 'visibilityMiles': '5', 'weatherCode': '176', 'weatherDesc': [{'value': 'Patchy rain nearby'}], 'weatherIconUrl': [{'value': ''}], 'winddir16Point': 'SSE', 'winddirDegree': '165', 'windspeedKmph': '17', 'windspeedMiles': '11'}, {'DewPointC': '23', 'DewPointF': '73', 'FeelsLikeC': '28', 'FeelsLikeF': '82', 'HeatIndexC': '28', 'HeatIndexF': '82', 'WindChillC': '25', 'WindChillF': '78', 'WindGustKmph': '32', 'WindGustMiles': '20', 'chanceoffog': '0', 'chanceoffrost': '0', 'chanceofhightemp': '94', 'chanceofovercast': '86', 'chanceofrain': '100', 'chanceofremdry': '0', 'chanceofsnow': '0', 'chanceofsunshine': '0', 'chanceofthunder': '2', 'chanceofwindy': '0', 'cloudcover': '87', 'diffRad': '177.5', 'humidity': '85', 'precipInches': '0.0', 'precipMM': '0.6', 'pressure': '1006', 'pressureInches': '30', 'shortRad': '579.3', 'tempC': '25', 'tempF': '78', 'time': '1800', 'uvIndex': '2', 'visibility': '9', 'visibilityMiles': '5', 'weatherCode': '176', 'weatherDesc': [{'value': 'Patchy rain nearby'}], 'weatherIconUrl': [{'value': ''}], 'winddir16Point': 'SE', 'winddirDegree': '136', 'windspeedKmph': '16', 'windspeedMiles': '10'}, {'DewPointC': '20', 'DewPointF': '67', 'FeelsLikeC': '28', 'FeelsLikeF': '82', 'HeatIndexC': '28', 'HeatIndexF': '82', 'WindChillC': '26', 'WindChillF': '79', 'WindGustKmph': '41', 'WindGustMiles': '26', 'chanceoffog': '0', 'chanceoffrost': '0', 'chanceofhightemp': '55', 'chanceofovercast': '0', 'chanceofrain': '0', 'chanceofremdry': '81', 'chanceofsnow': '0', 'chanceofsunshine': '89', 'chanceofthunder': '0', 'chanceofwindy': '0', 'cloudcover': '24', 'diffRad': '10.2', 'humidity': '69', 'precipInches': '0.0', 'precipMM': '0.0', 'pressure': '1004', 'pressureInches': '30', 'shortRad': '23.0', 'tempC': '26', 'tempF': '79', 'time': '2100', 'uvIndex': '0', 'visibility': '10', 'visibilityMiles': '6', 'weatherCode': '113', 'weatherDesc': [{'value': 'Sunny'}], 'weatherIconUrl': [{'value': ''}], 'winddir16Point': 'SSW', 'winddirDegree': '207', 'windspeedKmph': '23', 'windspeedMiles': '14'}], 'maxtempC': '26', 'maxtempF': '78', 'mintempC': '24', 'mintempF': '74', 'sunHour': '13.3', 'totalSnow_cm': '0.0', 'uvIndex': '2'}, {'astronomy': [{'moon_illumination': '86', 'moon_phase': 'Waxing Gibbous', 'moonrise': '06:46 PM', 'moonset': '02:24 AM', 'sunrise': '05:47 AM', 'sunset': '09:09 PM'}], 'avgtempC': '24', 'avgtempF': '76', 'date': '2025-07-07', 'hourly': [{'DewPointC': '19', 'DewPointF': '67', 'FeelsLikeC': '26', 'FeelsLikeF': '79', 'HeatIndexC': '26', 'HeatIndexF': '79', 'WindChillC': '24', 'WindChillF': '76', 'WindGustKmph': '36', 'WindGustMiles': '22', 'chanceoffog': '0', 'chanceoffrost': '0', 'chanceofhightemp': '17', 'chanceofovercast': '0', 'chanceofrain': '0', 'chanceofremdry': '91', 'chanceofsnow': '0', 'chanceofsunshine': '90', 'chanceofthunder': '0', 'chanceofwindy': '0', 'cloudcover': '12', 'diffRad': '4.1', 'humidity': '74', 'precipInches': '0.0', 'precipMM': '0.0', 'pressure': '1003', 'pressureInches': '30', 'shortRad': '9.2', 'tempC': '24', 'tempF': '76', 'time': '0', 'uvIndex': '0', 'visibility': '10', 'visibilityMiles': '6', 'weatherCode': '113', 'weatherDesc': [{'value': 'Clear '}], 'weatherIconUrl': [{'value': ''}], 'winddir16Point': 'SSW', 'winddirDegree': '208', 'windspeedKmph': '26', 'windspeedMiles': '16'}, {'DewPointC': '19', 'DewPointF': '67', 'FeelsLikeC': '25', 'FeelsLikeF': '77', 'HeatIndexC': '25', 'HeatIndexF': '77', 'WindChillC': '23', 'WindChillF': '74', 'WindGustKmph': '9', 'WindGustMiles': '6', 'chanceoffog': '0', 'chanceoffrost': '0', 'chanceofhightemp': '10', 'chanceofovercast': '0', 'chanceofrain': '0', 'chanceofremdry': '87', 'chanceofsnow': '0', 'chanceofsunshine': '92', 'chanceofthunder': '0', 'chanceofwindy': '0', 'cloudcover': '8', 'diffRad': '0.0', 'humidity': '80', 'precipInches': '0.0', 'precipMM': '0.0', 'pressure': '1002', 'pressureInches': '30', 'shortRad': '0.0', 'tempC': '23', 'tempF': '74', 'time': '300', 'uvIndex': '0', 'visibility': '10', 'visibilityMiles': '6', 'weatherCode': '113', 'weatherDesc': [{'value': 'Clear '}], 'weatherIconUrl': [{'value': ''}], 'winddir16Point': 'W', 'winddirDegree': '267', 'windspeedKmph': '6', 'windspeedMiles': '4'}, {'DewPointC': '19', 'DewPointF': '66', 'FeelsLikeC': '25', 'FeelsLikeF': '76', 'HeatIndexC': '25', 'HeatIndexF': '76', 'WindChillC': '22', 'WindChillF': '72', 'WindGustKmph': '19', 'WindGustMiles': '12', 'chanceoffog': '0', 'chanceoffrost': '0', 'chanceofhightemp': '0', 'chanceofovercast': '0', 'chanceofrain': '0', 'chanceofremdry': '82', 'chanceofsnow': '0', 'chanceofsunshine': '93', 'chanceofthunder': '0', 'chanceofwindy': '0', 'cloudcover': '7', 'diffRad': '4.6', 'humidity': '80', 'precipInches': '0.0', 'precipMM': '0.0', 'pressure': '1002', 'pressureInches': '30', 'shortRad': '11.1', 'tempC': '22', 'tempF': '72', 'time': '600', 'uvIndex': '0', 'visibility': '10', 'visibilityMiles': '6', 'weatherCode': '113', 'weatherDesc': [{'value': 'Sunny'}], 'weatherIconUrl': [{'value': ''}], 'winddir16Point': 'ENE', 'winddirDegree': '57', 'windspeedKmph': '13', 'windspeedMiles': '8'}, {'DewPointC': '18', 'DewPointF': '64', 'FeelsLikeC': '26', 'FeelsLikeF': '80', 'HeatIndexC': '26', 'HeatIndexF': '80', 'WindChillC': '25', 'WindChillF': '77', 'WindGustKmph': '6', 'WindGustMiles': '4', 'chanceoffog': '0', 'chanceoffrost': '0', 'chanceofhightemp': '57', 'chanceofovercast': '0', 'chanceofrain': '0', 'chanceofremdry': '88', 'chanceofsnow': '0', 'chanceofsunshine': '94', 'chanceofthunder': '0', 'chanceofwindy': '0', 'cloudcover': '4', 'diffRad': '80.0', 'humidity': '65', 'precipInches': '0.0', 'precipMM': '0.0', 'pressure': '1003', 'pressureInches': '30', 'shortRad': '472.8', 'tempC': '25', 'tempF': '77', 'time': '900', 'uvIndex': '2', 'visibility': '10', 'visibilityMiles': '6', 'weatherCode': '113', 'weatherDesc': [{'value': 'Sunny'}], 'weatherIconUrl': [{'value': ''}], 'winddir16Point': 'E', 'winddirDegree': '89', 'windspeedKmph': '5', 'windspeedMiles': '3'}, {'DewPointC': '19', 'DewPointF': '65', 'FeelsLikeC': '27', 'FeelsLikeF': '81', 'HeatIndexC': '27', 'HeatIndexF': '81', 'WindChillC': '26', 'WindChillF': '78', 'WindGustKmph': '23', 'WindGustMiles': '14', 'chanceoffog': '0', 'chanceoffrost': '0', 'chanceofhightemp': '88', 'chanceofovercast': '92', 'chanceofrain': '62', 'chanceofremdry': '0', 'chanceofsnow': '0', 'chanceofsunshine': '0', 'chanceofthunder': '0', 'chanceofwindy': '0', 'cloudcover': '87', 'diffRad': '119.9', 'humidity': '65', 'precipInches': '0.0', 'precipMM': '0.0', 'pressure': '1003', 'pressureInches': '30', 'shortRad': '655.9', 'tempC': '26', 'tempF': '78', 'time': '1200', 'uvIndex': '8', 'visibility': '10', 'visibilityMiles': '6', 'weatherCode': '176', 'weatherDesc': [{'value': 'Patchy rain nearby'}], 'weatherIconUrl': [{'value': ''}], 'winddir16Point': 'SE', 'winddirDegree': '143', 'windspeedKmph': '20', 'windspeedMiles': '12'}, {'DewPointC': '19', 'DewPointF': '65', 'FeelsLikeC': '27', 'FeelsLikeF': '80', 'HeatIndexC': '27', 'HeatIndexF': '80', 'WindChillC': '25', 'WindChillF': '77', 'WindGustKmph': '22', 'WindGustMiles': '14', 'chanceoffog': '0', 'chanceoffrost': '0', 'chanceofhightemp': '87', 'chanceofovercast': '87', 'chanceofrain': '67', 'chanceofremdry': '0', 'chanceofsnow': '0', 'chanceofsunshine': '0', 'chanceofthunder': '0', 'chanceofwindy': '0', 'cloudcover': '78', 'diffRad': '162.2', 'humidity': '66', 'precipInches': '0.0', 'precipMM': '0.0', 'pressure': '1003', 'pressureInches': '30', 'shortRad': '731.3', 'tempC': '25', 'tempF': '77', 'time': '1500', 'uvIndex': '8', 'visibility': '10', 'visibilityMiles': '6', 'weatherCode': '176', 'weatherDesc': [{'value': 'Patchy rain nearby'}], 'weatherIconUrl': [{'value': ''}], 'winddir16Point': 'SSE', 'winddirDegree': '156', 'windspeedKmph': '19', 'windspeedMiles': '12'}, {'DewPointC': '19', 'DewPointF': '66', 'FeelsLikeC': '27', 'FeelsLikeF': '80', 'HeatIndexC': '27', 'HeatIndexF': '80', 'WindChillC': '25', 'WindChillF': '77', 'WindGustKmph': '25', 'WindGustMiles': '15', 'chanceoffog': '0', 'chanceoffrost': '0', 'chanceofhightemp': '75', 'chanceofovercast': '0', 'chanceofrain': '0', 'chanceofremdry': '84', 'chanceofsnow': '0', 'chanceofsunshine': '91', 'chanceofthunder': '0', 'chanceofwindy': '0', 'cloudcover': '3', 'diffRad': '117.0', 'humidity': '69', 'precipInches': '0.0', 'precipMM': '0.0', 'pressure': '1002', 'pressureInches': '30', 'shortRad': '614.5', 'tempC': '25', 'tempF': '77', 'time': '1800', 'uvIndex': '2', 'visibility': '10', 'visibilityMiles': '6', 'weatherCode': '113', 'weatherDesc': [{'value': 'Sunny'}], 'weatherIconUrl': [{'value': ''}], 'winddir16Point': 'E', 'winddirDegree': '94', 'windspeedKmph': '20', 'windspeedMiles': '13'}, {'DewPointC': '20', 'DewPointF': '68', 'FeelsLikeC': '26', 'FeelsLikeF': '79', 'HeatIndexC': '26', 'HeatIndexF': '79', 'WindChillC': '24', 'WindChillF': '75', 'WindGustKmph': '24', 'WindGustMiles': '15', 'chanceoffog': '0', 'chanceoffrost': '0', 'chanceofhightemp': '18', 'chanceofovercast': '83', 'chanceofrain': '100', 'chanceofremdry': '0', 'chanceofsnow': '0', 'chanceofsunshine': '0', 'chanceofthunder': '0', 'chanceofwindy': '0', 'cloudcover': '83', 'diffRad': '9.9', 'humidity': '76', 'precipInches': '0.0', 'precipMM': '0.1', 'pressure': '999', 'pressureInches': '30', 'shortRad': '23.8', 'tempC': '24', 'tempF': '75', 'time': '2100', 'uvIndex': '0', 'visibility': '10', 'visibilityMiles': '6', 'weatherCode': '176', 'weatherDesc': [{'value': 'Patchy rain nearby'}], 'weatherIconUrl': [{'value': ''}], 'winddir16Point': 'SSW', 'winddirDegree': '200', 'windspeedKmph': '14', 'windspeedMiles': '9'}], 'maxtempC': '26', 'maxtempF': '78', 'mintempC': '22', 'mintempF': '72', 'sunHour': '14.0', 'totalSnow_cm': '0.0', 'uvIndex': '3'}, {'astronomy': [{'moon_illumination': '92', 'moon_phase': 'Waxing Gibbous', 'moonrise': '07:48 PM', 'moonset': '03:02 AM', 'sunrise': '05:48 AM', 'sunset': '09:09 PM'}], 'avgtempC': '21', 'avgtempF': '71', 'date': '2025-07-08', 'hourly': [{'DewPointC': '18', 'DewPointF': '65', 'FeelsLikeC': '25', 'FeelsLikeF': '76', 'HeatIndexC': '25', 'HeatIndexF': '76', 'WindChillC': '22', 'WindChillF': '72', 'WindGustKmph': '22', 'WindGustMiles': '14', 'chanceoffog': '0', 'chanceoffrost': '0', 'chanceofhightemp': '0', 'chanceofovercast': '88', 'chanceofrain': '100', 'chanceofremdry': '0', 'chanceofsnow': '0', 'chanceofsunshine': '0', 'chanceofthunder': '0', 'chanceofwindy': '0', 'cloudcover': '84', 'diffRad': '4.0', 'humidity': '80', 'precipInches': '0.0', 'precipMM': '0.2', 'pressure': '1000', 'pressureInches': '30', 'shortRad': '9.5', 'tempC': '22', 'tempF': '72', 'time': '0', 'uvIndex': '0', 'visibility': '9', 'visibilityMiles': '5', 'weatherCode': '176', 'weatherDesc': [{'value': 'Patchy rain nearby'}], 'weatherIconUrl': [{'value': ''}], 'winddir16Point': 'NNW', 'winddirDegree': '337', 'windspeedKmph': '14', 'windspeedMiles': '9'}, {'DewPointC': '15', 'DewPointF': '58', 'FeelsLikeC': '19', 'FeelsLikeF': '66', 'HeatIndexC': '19', 'HeatIndexF': '66', 'WindChillC': '19', 'WindChillF': '66', 'WindGustKmph': '30', 'WindGustMiles': '19', 'chanceoffog': '0', 'chanceoffrost': '0', 'chanceofhightemp': '0', 'chanceofovercast': '0', 'chanceofrain': '0', 'chanceofremdry': '89', 'chanceofsnow': '0', 'chanceofsunshine': '91', 'chanceofthunder': '0', 'chanceofwindy': '0', 'cloudcover': '4', 'diffRad': '0.0', 'humidity': '77', 'precipInches': '0.0', 'precipMM': '0.0', 'pressure': '1002', 'pressureInches': '30', 'shortRad': '0.0', 'tempC': '19', 'tempF': '66', 'time': '300', 'uvIndex': '0', 'visibility': '10', 'visibilityMiles': '6', 'weatherCode': '113', 'weatherDesc': [{'value': 'Clear '}], 'weatherIconUrl': [{'value': ''}], 'winddir16Point': 'N', 'winddirDegree': '353', 'windspeedKmph': '20', 'windspeedMiles': '12'}, {'DewPointC': '12', 'DewPointF': '54', 'FeelsLikeC': '18', 'FeelsLikeF': '65', 'HeatIndexC': '18', 'HeatIndexF': '65', 'WindChillC': '18', 'WindChillF': '65', 'WindGustKmph': '33', 'WindGustMiles': '21', 'chanceoffog': '0', 'chanceoffrost': '0', 'chanceofhightemp': '0', 'chanceofovercast': '0', 'chanceofrain': '0', 'chanceofremdry': '89', 'chanceofsnow': '0', 'chanceofsunshine': '93', 'chanceofthunder': '0', 'chanceofwindy': '0', 'cloudcover': '8', 'diffRad': '4.3', 'humidity': '68', 'precipInches': '0.0', 'precipMM': '0.0', 'pressure': '1004', 'pressureInches': '30', 'shortRad': '11.5', 'tempC': '18', 'tempF': '65', 'time': '600', 'uvIndex': '0', 'visibility': '10', 'visibilityMiles': '6', 'weatherCode': '113', 'weatherDesc': [{'value': 'Sunny'}], 'weatherIconUrl': [{'value': ''}], 'winddir16Point': 'NNE', 'winddirDegree': '23', 'windspeedKmph': '21', 'windspeedMiles': '13'}, {'DewPointC': '10', 'DewPointF': '50', 'FeelsLikeC': '24', 'FeelsLikeF': '76', 'HeatIndexC': '24', 'HeatIndexF': '76', 'WindChillC': '23', 'WindChillF': '73', 'WindGustKmph': '7', 'WindGustMiles': '5', 'chanceoffog': '0', 'chanceoffrost': '0', 'chanceofhightemp': '0', 'chanceofovercast': '0', 'chanceofrain': '0', 'chanceofremdry': '92', 'chanceofsnow': '0', 'chanceofsunshine': '87', 'chanceofthunder': '0', 'chanceofwindy': '0', 'cloudcover': '0', 'diffRad': '72.0', 'humidity': '45', 'precipInches': '0.0', 'precipMM': '0.0', 'pressure': '1005', 'pressureInches': '30', 'shortRad': '485.4', 'tempC': '23', 'tempF': '73', 'time': '900', 'uvIndex': '2', 'visibility': '10', 'visibilityMiles': '6', 'weatherCode': '113', 'weatherDesc': [{'value': 'Sunny'}], 'weatherIconUrl': [{'value': ''}], 'winddir16Point': 'NNW', 'winddirDegree': '340', 'windspeedKmph': '6', 'windspeedMiles': '4'}, {'DewPointC': '10', 'DewPointF': '51', 'FeelsLikeC': '25', 'FeelsLikeF': '77', 'HeatIndexC': '25', 'HeatIndexF': '77', 'WindChillC': '24', 'WindChillF': '75', 'WindGustKmph': '7', 'WindGustMiles': '4', 'chanceoffog': '0', 'chanceoffrost': '0', 'chanceofhightemp': '19', 'chanceofovercast': '0', 'chanceofrain': '0', 'chanceofremdry': '93', 'chanceofsnow': '0', 'chanceofsunshine': '85', 'chanceofthunder': '0', 'chanceofwindy': '0', 'cloudcover': '2', 'diffRad': '83.3', 'humidity': '42', 'precipInches': '0.0', 'precipMM': '0.0', 'pressure': '1005', 'pressureInches': '30', 'shortRad': '693.8', 'tempC': '24', 'tempF': '75', 'time': '1200', 'uvIndex': '7', 'visibility': '10', 'visibilityMiles': '6', 'weatherCode': '113', 'weatherDesc': [{'value': 'Sunny'}], 'weatherIconUrl': [{'value': ''}], 'winddir16Point': 'SW', 'winddirDegree': '221', 'windspeedKmph': '6', 'windspeedMiles': '4'}, {'DewPointC': '11', 'DewPointF': '53', 'FeelsLikeC': '25', 'FeelsLikeF': '77', 'HeatIndexC': '25', 'HeatIndexF': '77', 'WindChillC': '24', 'WindChillF': '76', 'WindGustKmph': '9', 'WindGustMiles': '6', 'chanceoffog': '0', 'chanceoffrost': '0', 'chanceofhightemp': '19', 'chanceofovercast': '0', 'chanceofrain': '0', 'chanceofremdry': '91', 'chanceofsnow': '0', 'chanceofsunshine': '88', 'chanceofthunder': '0', 'chanceofwindy': '0', 'cloudcover': '5', 'diffRad': '95.3', 'humidity': '44', 'precipInches': '0.0', 'precipMM': '0.0', 'pressure': '1005', 'pressureInches': '30', 'shortRad': '874.1', 'tempC': '24', 'tempF': '76', 'time': '1500', 'uvIndex': '6', 'visibility': '10', 'visibilityMiles': '6', 'weatherCode': '113', 'weatherDesc': [{'value': 'Sunny'}], 'weatherIconUrl': [{'value': ''}], 'winddir16Point': 'SW', 'winddirDegree': '218', 'windspeedKmph': '8', 'windspeedMiles': '5'}, {'DewPointC': '15', 'DewPointF': '60', 'FeelsLikeC': '25', 'FeelsLikeF': '77', 'HeatIndexC': '25', 'HeatIndexF': '77', 'WindChillC': '23', 'WindChillF': '74', 'WindGustKmph': '19', 'WindGustMiles': '12', 'chanceoffog': '0', 'chanceoffrost': '0', 'chanceofhightemp': '12', 'chanceofovercast': '83', 'chanceofrain': '100', 'chanceofremdry': '0', 'chanceofsnow': '0', 'chanceofsunshine': '0', 'chanceofthunder': '0', 'chanceofwindy': '0', 'cloudcover': '86', 'diffRad': '76.9', 'humidity': '62', 'precipInches': '0.0', 'precipMM': '0.8', 'pressure': '1006', 'pressureInches': '30', 'shortRad': '611.2', 'tempC': '23', 'tempF': '74', 'time': '1800', 'uvIndex': '5', 'visibility': '9', 'visibilityMiles': '5', 'weatherCode': '293', 'weatherDesc': [{'value': 'Patchy light rain'}], 'weatherIconUrl': [{'value': ''}], 'winddir16Point': 'NW', 'winddirDegree': '304', 'windspeedKmph': '14', 'windspeedMiles': '9'}, {'DewPointC': '14', 'DewPointF': '57', 'FeelsLikeC': '19', 'FeelsLikeF': '67', 'HeatIndexC': '19', 'HeatIndexF': '67', 'WindChillC': '19', 'WindChillF': '67', 'WindGustKmph': '25', 'WindGustMiles': '15', 'chanceoffog': '0', 'chanceoffrost': '0', 'chanceofhightemp': '0', 'chanceofovercast': '0', 'chanceofrain': '0', 'chanceofremdry': '87', 'chanceofsnow': '0', 'chanceofsunshine': '91', 'chanceofthunder': '0', 'chanceofwindy': '0', 'cloudcover': '0', 'diffRad': '9.8', 'humidity': '70', 'precipInches': '0.0', 'precipMM': '0.0', 'pressure': '1008', 'pressureInches': '30', 'shortRad': '20.6', 'tempC': '19', 'tempF': '67', 'time': '2100', 'uvIndex': '5', 'visibility': '10', 'visibilityMiles': '6', 'weatherCode': '113', 'weatherDesc': [{'value': 'Sunny'}], 'weatherIconUrl': [{'value': ''}], 'winddir16Point': 'NNE', 'winddirDegree': '16', 'windspeedKmph': '15', 'windspeedMiles': '9'}], 'maxtempC': '24', 'maxtempF': '76', 'mintempC': '18', 'mintempF': '64', 'sunHour': '15.6', 'totalSnow_cm': '0.0', 'uvIndex': '2'}]}\"}}]}, 'usage': {'prompt_tokens': 141, 'completion_tokens': 25, 'total_tokens': 166, 'prompt_token_details': {'cached_tokens': 0}}} \n",
      "\n"
     ]
    }
   ],
   "source": [
    "run_steps = list(agents_client.run_steps.list(run_id=run.id, thread_id=thread.id))\n",
    "\n",
    "print(f'Nr of run step(s): {len(run_steps)}\\n')\n",
    "i=0\n",
    "for rs in run_steps:\n",
    "    i += 1\n",
    "    print(f\"Run step {i}: {rs}\", '\\n')"
   ]
  },
  {
   "cell_type": "markdown",
   "id": "f49854b8-6d74-4665-889f-ced323286db7",
   "metadata": {},
   "source": [
    "# Collect all resources for this project"
   ]
  },
  {
   "cell_type": "code",
   "execution_count": 16,
   "id": "3da9fa6d-95f5-4039-80ac-aedf605b4491",
   "metadata": {},
   "outputs": [
    {
     "name": "stdout",
     "output_type": "stream",
     "text": [
      "1 agents\n",
      "1 threads\n",
      "0 files\n",
      "1 runs in 1 threads\n",
      "0 vector stores\n"
     ]
    }
   ],
   "source": [
    "all_agents = list_all_agents(client=agents_client)\n",
    "print(all_agents[\"summary\"])\n",
    "\n",
    "all_threads = list_all_threads(client=agents_client)\n",
    "print(all_threads[\"summary\"])\n",
    "\n",
    "all_files = list_all_files(client=agents_client)\n",
    "print(all_files[\"summary\"])\n",
    "\n",
    "all_runs = list_all_runs(client=agents_client)\n",
    "print(all_runs[\"summary\"])\n",
    "\n",
    "# all_runsteps=list_all_runsteps(agents_client)\n",
    "# print(all_runsteps[\"summary\"])\n",
    "\n",
    "# all_messages = list_all_messages(agents_client)\n",
    "# print(all_messages[\"summary\"])\n",
    "\n",
    "all_vectorstores = list_all_vectorstores(client=agents_client)\n",
    "print(all_vectorstores[\"summary\"])"
   ]
  },
  {
   "cell_type": "markdown",
   "id": "2a9c68b0-7f54-4ab7-9eb3-790dacf3bbf6",
   "metadata": {},
   "source": [
    "# Teardown for all resources"
   ]
  },
  {
   "cell_type": "code",
   "execution_count": 17,
   "id": "8347b4ce-7efc-4c73-9b01-aed9e7cfabb9",
   "metadata": {},
   "outputs": [
    {
     "name": "stdout",
     "output_type": "stream",
     "text": [
      "Vector stores deleted: 0\n",
      "\n"
     ]
    }
   ],
   "source": [
    "# delete all vector stores\n",
    "\n",
    "i=0\n",
    "for vector_store in all_vectorstores[\"content\"]:\n",
    "    i += 1\n",
    "    agents_client.vector_stores.delete(vector_store_id=vector_store.id)\n",
    "    print(f\"{i} - Vector store <{vector_store.id}> has been deleted\")\n",
    "\n",
    "all_vectorstores = list_all_vectorstores(client=agents_client)\n",
    "\n",
    "print(f\"Vector stores deleted: {i}\\n\")"
   ]
  },
  {
   "cell_type": "code",
   "execution_count": 18,
   "id": "cbbcedd3-2e0a-47ad-8b1b-04ddcb3fc029",
   "metadata": {},
   "outputs": [
    {
     "name": "stdout",
     "output_type": "stream",
     "text": [
      "Files deleted: 0\n",
      "\n"
     ]
    }
   ],
   "source": [
    "# delete all files\n",
    "\n",
    "i=0\n",
    "for file in all_files['content']:\n",
    "    i += 1\n",
    "    agents_client.files.delete(file_id=file.id)\n",
    "    print(f\"{i} - File <{file.filename}> ({file.id}) has been deleted\")\n",
    "\n",
    "all_files = list_all_files(client=agents_client)\n",
    "\n",
    "print(f\"Files deleted: {i}\\n\")"
   ]
  },
  {
   "cell_type": "code",
   "execution_count": 19,
   "id": "25f2aac0-2c0f-479b-ae99-265146939af5",
   "metadata": {},
   "outputs": [
    {
     "name": "stdout",
     "output_type": "stream",
     "text": [
      "1 - Thread <thread_rPlt8DlGnkGbahH5tUQ4W3en> has been deleted\n",
      "Threads deleted: 1\n",
      "\n"
     ]
    }
   ],
   "source": [
    "# delete all threads\n",
    "\n",
    "i=0\n",
    "for thread in all_threads[\"content\"]:\n",
    "    i += 1\n",
    "    agents_client.threads.delete(thread_id=thread.id)\n",
    "    print(f\"{i} - Thread <{thread.id}> has been deleted\")\n",
    "\n",
    "all_threads = list_all_threads(client=agents_client)\n",
    "\n",
    "print(f\"Threads deleted: {i}\\n\")"
   ]
  },
  {
   "cell_type": "code",
   "execution_count": 20,
   "id": "5f890f4e-0502-4293-9088-f835a66d6da9",
   "metadata": {},
   "outputs": [
    {
     "name": "stdout",
     "output_type": "stream",
     "text": [
      "1 - Agent <asst_ObjEaMyzr2rCO5WgLwPtymzD> has been deleted\n",
      "Agents deleted: 1\n",
      "\n"
     ]
    }
   ],
   "source": [
    "# delete all agents\n",
    "\n",
    "i=0\n",
    "for agent in all_agents[\"content\"]:\n",
    "    i += 1\n",
    "    agents_client.delete_agent(agent_id=agent.id)\n",
    "    print(f\"{i} - Agent <{agent.id}> has been deleted\")\n",
    "\n",
    "all_agents = list_all_agents(client=agents_client)\n",
    "\n",
    "print(f\"Agents deleted: {i}\\n\")"
   ]
  },
  {
   "cell_type": "markdown",
   "id": "c8cc2b04-a0b3-45ee-9066-4306e16511f9",
   "metadata": {},
   "source": [
    "# HIC SUNT LEONES"
   ]
  }
 ],
 "metadata": {
  "kernelspec": {
   "display_name": "aaas",
   "language": "python",
   "name": "aaas"
  },
  "language_info": {
   "codemirror_mode": {
    "name": "ipython",
    "version": 3
   },
   "file_extension": ".py",
   "mimetype": "text/x-python",
   "name": "python",
   "nbconvert_exporter": "python",
   "pygments_lexer": "ipython3",
   "version": "3.13.5"
  }
 },
 "nbformat": 4,
 "nbformat_minor": 5
}
