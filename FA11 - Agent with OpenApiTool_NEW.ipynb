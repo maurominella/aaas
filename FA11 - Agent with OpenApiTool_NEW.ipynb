{
 "cells": [
  {
   "attachments": {},
   "cell_type": "markdown",
   "id": "6aff6e2d-97b4-441c-b548-2557bafae055",
   "metadata": {},
   "source": [
    "# [Create Agent With OpenAPI](https://learn.microsoft.com/en-us/python/api/overview/azure/ai-agents-readme?view=azure-python-preview#create-agent-with-openapi)\n",
    "AzureFunctionTool contains the input and output queues of azure function and the description of input parameters.\n",
    "\n",
    "Inspired by [sample_agents_openapi.py](https://github.com/Azure/azure-sdk-for-python/blob/azure-ai-projects_1.0.0b4/sdk/ai/azure-ai-projects/samples/agents/sample_agents_openapi.py)"
   ]
  },
  {
   "cell_type": "markdown",
   "id": "54084032-e7de-40c6-bcbc-90ab737a001f",
   "metadata": {},
   "source": [
    "# Constants"
   ]
  },
  {
   "cell_type": "code",
   "execution_count": 1,
   "id": "98d9cc9d-cbef-4b35-a4a3-84802dd4ee06",
   "metadata": {},
   "outputs": [
    {
     "name": "stdout",
     "output_type": "stream",
     "text": [
      "Environment variables have been loaded ;-)\n",
      "Project Endpoint: <https://mmai-swc-new01-prj-resource.services.ai.azure.com/api/projects/mmai-swc-new01-prj>\n",
      "azure-ai-projects library installed version: 1.0.0b11\n",
      "azure-ai-agents library installed version: 1.1.0b1\n"
     ]
    }
   ],
   "source": [
    "import os\n",
    "from IPython.display import Markdown, display\n",
    "from dotenv import load_dotenv # requires python-dotenv\n",
    "from PIL import Image # requires pip install pillow\n",
    "from datetime import datetime\n",
    "from common.agents_helper_functions_NEW import *\n",
    "import importlib.metadata\n",
    "import matplotlib.pyplot as plt\n",
    "import matplotlib.image as mpimg\n",
    "\n",
    "if not load_dotenv(\"./../config/credentials_my.env\"):\n",
    "    print(\"Environment variables not loaded, cell execution stopped\")\n",
    "else:\n",
    "    print(\"Environment variables have been loaded ;-)\")\n",
    "\n",
    "project_endpoint = os.environ[\"PROJECT_ENDPOINT\"]\n",
    "deployment_name =  os.environ[\"MODEL_DEPLOYMENT_NAME\"]\n",
    "api_version = os.environ[\"OPENAI_API_VERSION\"] # at least \"2025-03-01-preview\"\n",
    "\n",
    "print(f'Project Endpoint: <{project_endpoint}>')\n",
    "print(f\"azure-ai-projects library installed version: {importlib.metadata.version(\"azure-ai-projects\")}\")\n",
    "print(f\"azure-ai-agents library installed version: {importlib.metadata.version(\"azure-ai-agents\")}\")"
   ]
  },
  {
   "cell_type": "markdown",
   "id": "6541e9bb-3e3f-478e-a084-84b70fce0255",
   "metadata": {},
   "source": [
    "# Create AI Foundry Agents Client"
   ]
  },
  {
   "cell_type": "code",
   "execution_count": 2,
   "id": "5a9abb62-b855-402f-9e22-583ffe6bf8cb",
   "metadata": {},
   "outputs": [
    {
     "data": {
      "text/plain": [
       "<azure.ai.agents._patch.AgentsClient at 0x7f69aba25400>"
      ]
     },
     "execution_count": 2,
     "metadata": {},
     "output_type": "execute_result"
    }
   ],
   "source": [
    "from azure.ai.agents import AgentsClient\n",
    "from azure.identity import DefaultAzureCredential\n",
    "\n",
    "agents_client = AgentsClient(\n",
    "    endpoint=project_endpoint,\n",
    "    credential=DefaultAzureCredential(),\n",
    ")\n",
    "\n",
    "agents_client"
   ]
  },
  {
   "cell_type": "markdown",
   "id": "7183144b-61ea-456b-a0aa-94c5f22a7ac1",
   "metadata": {},
   "source": [
    "# Load Weather OpenAPI"
   ]
  },
  {
   "cell_type": "code",
   "execution_count": 3,
   "id": "121d6e68-3373-417e-b8fc-d31cf5ee4a83",
   "metadata": {},
   "outputs": [
    {
     "data": {
      "text/plain": [
       "{'openapi': '3.1.0',\n",
       " 'info': {'title': 'get weather data',\n",
       "  'description': 'Retrieves current weather data for a location based on wttr.in.',\n",
       "  'version': 'v1.0.0'},\n",
       " 'servers': [{'url': 'https://wttr.in'}],\n",
       " 'auth': [],\n",
       " 'paths': {'/{location}': {'get': {'description': 'Get weather information for a specific location',\n",
       "    'operationId': 'GetCurrentWeather',\n",
       "    'parameters': [{'name': 'location',\n",
       "      'in': 'path',\n",
       "      'description': 'City or location to retrieve the weather for',\n",
       "      'required': True,\n",
       "      'schema': {'type': 'string'}},\n",
       "     {'name': 'format',\n",
       "      'in': 'query',\n",
       "      'description': 'Always use j1 value for this parameter',\n",
       "      'required': True,\n",
       "      'schema': {'type': 'string', 'default': 'j1'}}],\n",
       "    'responses': {'200': {'description': 'Successful response',\n",
       "      'content': {'text/plain': {'schema': {'type': 'string'}}}},\n",
       "     '404': {'description': 'Location not found'}},\n",
       "    'deprecated': False}}},\n",
       " 'components': {'schemes': {}}}"
      ]
     },
     "execution_count": 3,
     "metadata": {},
     "output_type": "execute_result"
    }
   ],
   "source": [
    "import jsonref\n",
    "\n",
    "with open(\"./openapi/weather_openapi.json\", \"r\") as f:\n",
    "    openapi_spec = jsonref.loads(f.read())\n",
    "\n",
    "openapi_spec"
   ]
  },
  {
   "cell_type": "markdown",
   "id": "073506bb-e90e-43a2-bb50-a07cb1397597",
   "metadata": {},
   "source": [
    "# Create Auth object for the OpenApiTool \n",
    "## Note: connection or managed identity auth setup requires additional setup in Azure"
   ]
  },
  {
   "cell_type": "code",
   "execution_count": 4,
   "id": "ed0b781f-a5c2-4994-aed4-09c7d6fbf47a",
   "metadata": {},
   "outputs": [
    {
     "data": {
      "text/plain": [
       "{'type': 'anonymous'}"
      ]
     },
     "execution_count": 4,
     "metadata": {},
     "output_type": "execute_result"
    }
   ],
   "source": [
    "from azure.ai.agents.models import OpenApiAnonymousAuthDetails\n",
    "\n",
    "auth = OpenApiAnonymousAuthDetails()\n",
    "auth"
   ]
  },
  {
   "cell_type": "markdown",
   "id": "cb3d93bc-1a86-4018-bc60-ef6bbdff4a15",
   "metadata": {},
   "source": [
    "# Initialize agent OpenApi tool using the read in OpenAPI spec"
   ]
  },
  {
   "cell_type": "code",
   "execution_count": 5,
   "id": "d8f04bae-92c8-4bcd-974a-023bd56e32e0",
   "metadata": {},
   "outputs": [
    {
     "name": "stdout",
     "output_type": "stream",
     "text": [
      "openapi.definitions: [{'type': 'openapi', 'openapi': {'name': 'get_weather', 'description': 'Retrieve weather information for a location', 'spec': {'openapi': '3.1.0', 'info': {'title': 'get weather data', 'description': 'Retrieves current weather data for a location based on wttr.in.', 'version': 'v1.0.0'}, 'servers': [{'url': 'https://wttr.in'}], 'auth': [], 'paths': {'/{location}': {'get': {'description': 'Get weather information for a specific location', 'operationId': 'GetCurrentWeather', 'parameters': [{'name': 'location', 'in': 'path', 'description': 'City or location to retrieve the weather for', 'required': True, 'schema': {'type': 'string'}}, {'name': 'format', 'in': 'query', 'description': 'Always use j1 value for this parameter', 'required': True, 'schema': {'type': 'string', 'default': 'j1'}}], 'responses': {'200': {'description': 'Successful response', 'content': {'text/plain': {'schema': {'type': 'string'}}}}, '404': {'description': 'Location not found'}}, 'deprecated': False}}}, 'components': {'schemes': {}}}, 'auth': {'type': 'anonymous'}, 'default_params': []}}]\n",
      "\n",
      "openapi.resources: {}\n"
     ]
    }
   ],
   "source": [
    "from azure.ai.agents.models import OpenApiTool\n",
    "\n",
    "openapi = OpenApiTool(\n",
    "    name=\"get_weather\", spec=openapi_spec, description=\"Retrieve weather information for a location\", auth=auth\n",
    ")\n",
    "print(f\"openapi.definitions: {openapi.definitions}\")\n",
    "print(f\"\\nopenapi.resources: {openapi.resources}\")"
   ]
  },
  {
   "cell_type": "markdown",
   "id": "1b889e58-4f42-45fa-abb4-ba63f7038793",
   "metadata": {},
   "source": [
    "# Create AI Foundry Agent"
   ]
  },
  {
   "cell_type": "code",
   "execution_count": 6,
   "id": "b23ba3db-c486-4378-be6c-cb5626f52e3f",
   "metadata": {},
   "outputs": [
    {
     "data": {
      "text/plain": [
       "<bound method _MyMutableMapping.items of {'id': 'asst_WeSqfvp4br9fXsRqCVyVW3GX', 'object': 'assistant', 'created_at': 1748700847, 'name': 'openapi-agent', 'description': None, 'model': 'gpt-4o', 'instructions': 'You are a helpful assistant', 'tools': [{'type': 'openapi', 'openapi': {'name': 'get_weather', 'description': 'Retrieve weather information for a location', 'spec': {'openapi': '3.1.0', 'info': {'title': 'get weather data', 'description': 'Retrieves current weather data for a location based on wttr.in.', 'version': 'v1.0.0'}, 'servers': [{'url': 'https://wttr.in'}], 'auth': [], 'paths': {'/{location}': {'get': {'description': 'Get weather information for a specific location', 'operationId': 'GetCurrentWeather', 'parameters': [{'name': 'location', 'in': 'path', 'description': 'City or location to retrieve the weather for', 'required': True, 'schema': {'type': 'string'}}, {'name': 'format', 'in': 'query', 'description': 'Always use j1 value for this parameter', 'required': True, 'schema': {'type': 'string', 'default': 'j1'}}], 'responses': {'200': {'description': 'Successful response', 'content': {'text/plain': {'schema': {'type': 'string'}}}}, '404': {'description': 'Location not found'}}, 'deprecated': False}}}, 'components': {'schemes': {}}}, 'auth': {'type': 'anonymous', 'security_scheme': {}}, 'functions': [{'name': 'get_weather_GetCurrentWeather', 'description': 'Get weather information for a specific location', 'parameters': {'type': 'object', 'properties': {'location': {'type': 'string', 'description': 'City or location to retrieve the weather for'}, 'format': {'type': 'string', 'default': 'j1', 'description': 'Always use j1 value for this parameter'}}, 'required': ['location', 'format']}}]}}], 'top_p': 1.0, 'temperature': 1.0, 'tool_resources': {}, 'metadata': {}, 'response_format': 'auto'}>"
      ]
     },
     "execution_count": 6,
     "metadata": {},
     "output_type": "execute_result"
    }
   ],
   "source": [
    "# Create agent with AI search tool and process assistant run\n",
    "agent = agents_client.create_agent(\n",
    "    model=deployment_name,\n",
    "    name=\"openapi-agent\",\n",
    "    instructions=\"You are a helpful assistant\",\n",
    "    tools=openapi.definitions,\n",
    "    tool_resources = openapi.resources,\n",
    ")\n",
    "\n",
    "agent.items"
   ]
  },
  {
   "cell_type": "markdown",
   "id": "d0858e59-5a9a-4523-ae47-68eafc10005b",
   "metadata": {},
   "source": [
    "# Create the thread and attach a new message to it"
   ]
  },
  {
   "cell_type": "code",
   "execution_count": 7,
   "id": "06f80125-1252-4060-bdf5-3b52acc42a47",
   "metadata": {},
   "outputs": [
    {
     "name": "stdout",
     "output_type": "stream",
     "text": [
      "Created thread: {'id': 'thread_q2frFLiPvk5Sr4nuXjmsKgU2', 'object': 'thread', 'created_at': 1748700847, 'metadata': {}, 'tool_resources': {}}\n",
      "\n"
     ]
    },
    {
     "data": {
      "text/plain": [
       "[{'id': 'msg_Fc8OG3XYA6rmhwUW2pjoPpI9', 'object': 'thread.message', 'created_at': 1748700847, 'assistant_id': None, 'thread_id': 'thread_q2frFLiPvk5Sr4nuXjmsKgU2', 'run_id': None, 'role': 'user', 'content': [{'type': 'text', 'text': {'value': 'Quale sarà la temperatura massima a Chiavari il 15 giugno? Se il giorno non è ancora disponibile, indica la temperatura massima del giorno più lontano che sai prevedere.', 'annotations': []}}], 'attachments': [], 'metadata': {}}]"
      ]
     },
     "execution_count": 7,
     "metadata": {},
     "output_type": "execute_result"
    }
   ],
   "source": [
    "# Create a thread\n",
    "thread = agents_client.threads.create()\n",
    "print(f\"Created thread: {thread}\\n\")\n",
    "\n",
    "\n",
    "# Add a user message to the thread\n",
    "from azure.ai.agents.models import MessageRole\n",
    "\n",
    "message = agents_client.messages.create(\n",
    "    thread_id=thread.id, \n",
    "    role=MessageRole.USER, \n",
    "    content=\"Quale sarà la temperatura massima a Chiavari il 15 giugno? Se il giorno non è ancora disponibile, indica la temperatura massima del giorno più lontano che sai prevedere.\",\n",
    ")\n",
    "\n",
    "# let's see the messages associated with the thread\n",
    "list(agents_client.messages.list(thread_id=thread.id))"
   ]
  },
  {
   "cell_type": "markdown",
   "id": "ca620721-a30e-44ac-9578-bbc098e20314",
   "metadata": {},
   "source": [
    "# Run the agent synchronously"
   ]
  },
  {
   "cell_type": "code",
   "execution_count": 8,
   "id": "8604f495-2519-42a7-a19a-026538cf2c2c",
   "metadata": {},
   "outputs": [
    {
     "name": "stdout",
     "output_type": "stream",
     "text": [
      "Run finished with status: RunStatus.COMPLETED.\n",
      "\n",
      "Run: {'id': 'run_N6fYqpPDw038uFtpVI5O3NTx', 'object': 'thread.run', 'created_at': 1748700849, 'assistant_id': 'asst_WeSqfvp4br9fXsRqCVyVW3GX', 'thread_id': 'thread_q2frFLiPvk5Sr4nuXjmsKgU2', 'status': 'completed', 'started_at': 1748700849, 'expires_at': None, 'cancelled_at': None, 'failed_at': None, 'completed_at': 1748700852, 'required_action': None, 'last_error': None, 'model': 'gpt-4o', 'instructions': 'You are a helpful assistant', 'tools': [{'type': 'openapi', 'openapi': {'name': 'get_weather', 'description': 'Retrieve weather information for a location', 'spec': {'openapi': '3.1.0', 'info': {'title': 'get weather data', 'description': 'Retrieves current weather data for a location based on wttr.in.', 'version': 'v1.0.0'}, 'servers': [{'url': 'https://wttr.in'}], 'auth': [], 'paths': {'/{location}': {'get': {'description': 'Get weather information for a specific location', 'operationId': 'GetCurrentWeather', 'parameters': [{'name': 'location', 'in': 'path', 'description': 'City or location to retrieve the weather for', 'required': True, 'schema': {'type': 'string'}}, {'name': 'format', 'in': 'query', 'description': 'Always use j1 value for this parameter', 'required': True, 'schema': {'type': 'string', 'default': 'j1'}}], 'responses': {'200': {'description': 'Successful response', 'content': {'text/plain': {'schema': {'type': 'string'}}}}, '404': {'description': 'Location not found'}}, 'deprecated': False}}}, 'components': {'schemes': {}}}, 'auth': {'type': 'anonymous', 'security_scheme': {}}, 'functions': [{'name': 'get_weather_GetCurrentWeather', 'description': 'Get weather information for a specific location', 'parameters': {'type': 'object', 'properties': {'location': {'type': 'string', 'description': 'City or location to retrieve the weather for'}, 'format': {'type': 'string', 'default': 'j1', 'description': 'Always use j1 value for this parameter'}}, 'required': ['location', 'format']}}]}}], 'tool_resources': {}, 'metadata': {}, 'temperature': 1.0, 'top_p': 1.0, 'max_completion_tokens': None, 'max_prompt_tokens': None, 'truncation_strategy': {'type': 'auto', 'last_messages': None}, 'incomplete_details': None, 'usage': {'prompt_tokens': 9419, 'completion_tokens': 83, 'total_tokens': 9502, 'prompt_token_details': {'cached_tokens': 0}}, 'response_format': 'auto', 'tool_choice': 'auto', 'parallel_tool_calls': True}\n",
      "CPU times: user 11.9 ms, sys: 1.88 ms, total: 13.8 ms\n",
      "Wall time: 3.71 s\n"
     ]
    }
   ],
   "source": [
    "%%time\n",
    "\n",
    "# Run the agent\n",
    "run = agents_client.runs.create_and_process\\\n",
    "    (thread_id=thread.id, agent_id=agent.id)\n",
    "\n",
    "print(f\"Run finished with status: {run.status}.\\n\\nRun: {run}\")\n",
    "\n",
    "if run.status == \"failed\":\n",
    "    # Check if you got \"Rate limit is exceeded.\", then you want to get more quota\n",
    "    print(f\"Run failed: {run.last_error}\")"
   ]
  },
  {
   "cell_type": "markdown",
   "id": "fecc4801-ce47-47ff-8502-e11c6b38fcc2",
   "metadata": {},
   "source": [
    "# Fetch messages from the thread after the agent run execution"
   ]
  },
  {
   "cell_type": "code",
   "execution_count": 9,
   "id": "bd778151-0cbb-4216-8de9-e4dee771d546",
   "metadata": {},
   "outputs": [
    {
     "name": "stdout",
     "output_type": "stream",
     "text": [
      "Here are the 2 messages:\n",
      "\n",
      "\n",
      "===== MESSAGE 1 =====\n",
      "\n",
      "Message 1 / CONTENT 1 (MessageTextContent) --> Text: Quale sarà la temperatura massima a Chiavari il 15 giugno? Se il giorno non è ancora disponibile, indica la temperatura massima del giorno più lontano che sai prevedere.\n",
      "\n",
      "===== MESSAGE 2 =====\n",
      "\n",
      "Message 2 / CONTENT 1 (MessageTextContent) --> Text: Al momento, non sono in grado di prevedere il tempo per il 15 giugno. Tuttavia, la previsione più distante disponibile è per il 2 giugno 2025. La temperatura massima prevista a Chiavari per quel giorno è di **23°C**.\n"
     ]
    }
   ],
   "source": [
    "from azure.ai.agents.models import (MessageTextContent, MessageImageFileContent, MessageTextFileCitationAnnotation, \\\n",
    "    MessageTextFilePathAnnotation, MessageTextUrlCitationAnnotation)\n",
    "\n",
    "image_files = []\n",
    "annotations = []\n",
    "citations = []\n",
    "citation_annotations = []\n",
    "\n",
    "if run.status == 'completed':\n",
    "    messages = agents_client.messages.list(thread_id=thread.id)\n",
    "    messages_list = list(agents_client.messages.list(thread_id=thread.id))  # Convert iterator to a list\n",
    "    messages_nr = len(messages_list)\n",
    "    print(f\"Here are the {messages_nr} messages:\\n\")\n",
    "    \n",
    "    for i, message in enumerate(reversed(messages_list), 1):\n",
    "        j = 0\n",
    "        print(f\"\\n===== MESSAGE {i} =====\")\n",
    "        for c in message.content:\n",
    "            j +=1\n",
    "            if (type(c) is MessageTextContent):\n",
    "                print(f\"\\nMessage {i} / CONTENT {j} (MessageTextContent) --> Text: {c.text.value}\")\n",
    "                for a in c.text.annotations:\n",
    "                    if type(a) is MessageTextFileCitationAnnotation:\n",
    "                        print(f\">>> Citation in MessageTextContent {j} of message {i}: {a}\\n\")\n",
    "                        citations.append(a)\n",
    "                    elif type(a) is MessageTextFilePathAnnotation:\n",
    "                        print(f\">>> Annotation in MessageTextContent {j} of message {i}: {a}\\n\")\n",
    "                        annotations.append(a)\n",
    "                    elif type(a) is MessageTextUrlCitationAnnotation:\n",
    "                        print(f\">>> Annotation in MessageTextContent {j} of message {i}: {a}\\n\")\n",
    "                        citation_annotations.append(a)\n",
    "                    else:\n",
    "                        print(f\"Unknown type {type(a)}\")\n",
    "            elif (type(c) is MessageImageFileContent):\n",
    "                print(f\"\\nMessage {i} / CONTENT {j} (MessageImageFileContent) --> image_file id: {c.image_file.file_id}\")\n",
    "                image_files.append(c.image_file.file_id)\n",
    "            else:\n",
    "                print(f\"Unknown type {type(a)}\")\n",
    "\n",
    "else:\n",
    "    print(f\"Sorry, I can't proceed because the run status is {run.status}\")"
   ]
  },
  {
   "cell_type": "code",
   "execution_count": 10,
   "id": "048682cb-cc72-4b5b-8547-63e38b021304",
   "metadata": {},
   "outputs": [
    {
     "name": "stdout",
     "output_type": "stream",
     "text": [
      "Al momento, non sono in grado di prevedere il tempo per il 15 giugno. Tuttavia, la previsione più distante disponibile è per il 2 giugno 2025. La temperatura massima prevista a Chiavari per quel giorno è di **23°C**.\n"
     ]
    }
   ],
   "source": [
    "# Get the last message from the sender\n",
    "last_msg = list(agents_client.messages.list(thread_id=thread.id))[0]\n",
    "\n",
    "if last_msg:\n",
    "    print(last_msg.content[0].text.value)"
   ]
  },
  {
   "cell_type": "markdown",
   "id": "f6806dac-e90e-4424-93a1-400b2c47cd6f",
   "metadata": {},
   "source": [
    "# Print citation_annotations from the messages"
   ]
  },
  {
   "cell_type": "code",
   "execution_count": 11,
   "id": "982b2fac-c583-4464-b49f-1cce9ffdb9f7",
   "metadata": {},
   "outputs": [
    {
     "name": "stdout",
     "output_type": "stream",
     "text": [
      "Nr. of citation_annotations: 0\n",
      "\n"
     ]
    }
   ],
   "source": [
    "print (f\"Nr. of citation_annotations: {len(annotations)}\\n\")\n",
    "\n",
    "i=0\n",
    "for ca in citation_annotations:\n",
    "    i += 1\n",
    "    print(f\"{i} - citation_annotations {ca.text}: {ca.url_citation} (from {ca.start_index} to {ca.end_index})\")"
   ]
  },
  {
   "cell_type": "markdown",
   "id": "62460c07-e442-4b98-83ef-4032c030c7e2",
   "metadata": {},
   "source": [
    "# Print annotations from the messages"
   ]
  },
  {
   "cell_type": "code",
   "execution_count": 12,
   "id": "e9d75e9a-9ff8-4334-8df3-ed50932a9458",
   "metadata": {},
   "outputs": [
    {
     "name": "stdout",
     "output_type": "stream",
     "text": [
      "Nr. of file path annotations: 0\n",
      "\n"
     ]
    }
   ],
   "source": [
    "print (f\"Nr. of file path annotations: {len(annotations)}\\n\")\n",
    "\n",
    "i=0\n",
    "for a in annotations:\n",
    "    i += 1\n",
    "    print(f\"{i} - File annotation paths: {a.text}\")\n",
    "    file_name = a.text.split('/')[-1]\n",
    "    file_id = a.file_path.file_id\n",
    "\n",
    "    #agents_client.files.save(file_id=file_id, file_name=file_name)\n",
    "    project_client.agents.files.save(file_id=file_id, file_name=file_name)\n",
    "    print(f\"\\n>>> file <{file_id}> saved as <{file_name}>\")\n",
    "    \n",
    "    # project_client.agents.save_file(file_id=file_path_annotation.file_path.file_id, file_name=file_name)\n",
    "    print(f\"File annotation {i} saved as file to: {os.getcwd()}/{file_name}\")\n",
    "    image = mpimg.imread(f\"{os.getcwd()}/{file_name}\") # read the image\n",
    "    plt.imshow(image)\n",
    "    plt.show()"
   ]
  },
  {
   "cell_type": "markdown",
   "id": "6de2c6b2-b582-4ebf-bb30-22423d450c52",
   "metadata": {},
   "source": [
    "# Fetch citations from the messages"
   ]
  },
  {
   "cell_type": "code",
   "execution_count": 13,
   "id": "bb8ac635-53d7-4326-94e4-4851d63de0a8",
   "metadata": {},
   "outputs": [
    {
     "name": "stdout",
     "output_type": "stream",
     "text": [
      "Nr. of file path citations: 0\n",
      "\n"
     ]
    }
   ],
   "source": [
    "print (f\"Nr. of file path citations: {len(citations)}\\n\")\n",
    "\n",
    "i=0\n",
    "for a in citations:\n",
    "    i += 1\n",
    "    print(f\"{i} - citation: {a}\")"
   ]
  },
  {
   "cell_type": "markdown",
   "id": "c920fbc5-6196-478a-af3b-4c1787d36c80",
   "metadata": {},
   "source": [
    "# Retrieve and download eventual images"
   ]
  },
  {
   "cell_type": "code",
   "execution_count": 14,
   "id": "84d4e3fb-33a4-43b4-895c-2387313f7baa",
   "metadata": {},
   "outputs": [
    {
     "name": "stdout",
     "output_type": "stream",
     "text": [
      "Nr. of image contents: 0\n",
      "\n"
     ]
    }
   ],
   "source": [
    "print (f\"Nr. of image contents: {len(image_files)}\\n\")\n",
    "\n",
    "i=0\n",
    "# Generate an image file for the bar chart\n",
    "for image_file in image_files:\n",
    "    i += 1\n",
    "    print(f\"{i} - Image file id: {image_file}\")\n",
    "    file_name = f\"{image_file}.png\"\n",
    "    project_client.agents.files.save(file_id=image_file, file_name=file_name)\n",
    "    print(f\"Image content {i} file to: {os.getcwd()}/{file_name}\")\n",
    "    image = mpimg.imread(f\"{os.getcwd()}/{file_name}\") # read the image\n",
    "    plt.imshow(image)\n",
    "    plt.show()"
   ]
  },
  {
   "cell_type": "markdown",
   "id": "9ded7add-533f-4371-b7d1-727f1e1348bf",
   "metadata": {},
   "source": [
    "# Run Steps"
   ]
  },
  {
   "cell_type": "code",
   "execution_count": 15,
   "id": "edd4990f-3a5a-47a7-b939-2166eeb4e383",
   "metadata": {},
   "outputs": [
    {
     "name": "stdout",
     "output_type": "stream",
     "text": [
      "Nr of run step(s): 2\n",
      "\n",
      "Run step 1: {'id': 'step_B9TgPr8NvXp50zs8JBzUsOM3', 'object': 'thread.run.step', 'created_at': 1748700851, 'run_id': 'run_N6fYqpPDw038uFtpVI5O3NTx', 'assistant_id': 'asst_WeSqfvp4br9fXsRqCVyVW3GX', 'thread_id': 'thread_q2frFLiPvk5Sr4nuXjmsKgU2', 'type': 'message_creation', 'status': 'completed', 'cancelled_at': None, 'completed_at': 1748700852, 'expires_at': None, 'failed_at': None, 'last_error': None, 'step_details': {'type': 'message_creation', 'message_creation': {'message_id': 'msg_e70l1ZE98r1mJr1nonQPUQpv'}}, 'usage': {'prompt_tokens': 9250, 'completion_tokens': 58, 'total_tokens': 9308, 'prompt_token_details': {'cached_tokens': 0}}} \n",
      "\n",
      "Run step 2: {'id': 'step_1q45EhiPaP4BwooCBIxF1sjM', 'object': 'thread.run.step', 'created_at': 1748700849, 'run_id': 'run_N6fYqpPDw038uFtpVI5O3NTx', 'assistant_id': 'asst_WeSqfvp4br9fXsRqCVyVW3GX', 'thread_id': 'thread_q2frFLiPvk5Sr4nuXjmsKgU2', 'type': 'tool_calls', 'status': 'completed', 'cancelled_at': None, 'completed_at': 1748700851, 'expires_at': None, 'failed_at': None, 'last_error': None, 'step_details': {'type': 'tool_calls', 'tool_calls': [{'id': 'call_3CMpdfEnrIgRCZKxFJU57WVV', 'type': 'openapi', 'function': {'name': 'get_weather_GetCurrentWeather', 'arguments': '{\"location\":\"Chiavari\",\"format\":\"j1\"}', 'output': \"{'current_condition': [{'FeelsLikeC': '25', 'FeelsLikeF': '77', 'cloudcover': '0', 'humidity': '73', 'localObsDateTime': '2025-05-31 04:08 PM', 'observation_time': '02:08 PM', 'precipInches': '0.0', 'precipMM': '0.0', 'pressure': '1020', 'pressureInches': '30', 'temp_C': '23', 'temp_F': '74', 'uvIndex': '5', 'visibility': '10', 'visibilityMiles': '6', 'weatherCode': '113', 'weatherDesc': [{'value': 'Sunny'}], 'weatherIconUrl': [{'value': ''}], 'winddir16Point': 'WSW', 'winddirDegree': '250', 'windspeedKmph': '6', 'windspeedMiles': '4'}], 'nearest_area': [{'areaName': [{'value': 'Chiavari'}], 'country': [{'value': 'Italy'}], 'latitude': '44.317', 'longitude': '9.317', 'population': '26572', 'region': [{'value': 'Liguria'}], 'weatherUrl': [{'value': ''}]}], 'request': [{'query': 'Lat 44.32 and Lon 9.32', 'type': 'LatLon'}], 'weather': [{'astronomy': [{'moon_illumination': '19', 'moon_phase': 'Waxing Crescent', 'moonrise': '09:52 AM', 'moonset': '12:44 AM', 'sunrise': '05:41 AM', 'sunset': '08:56 PM'}], 'avgtempC': '20', 'avgtempF': '68', 'date': '2025-05-31', 'hourly': [{'DewPointC': '13', 'DewPointF': '55', 'FeelsLikeC': '17', 'FeelsLikeF': '62', 'HeatIndexC': '17', 'HeatIndexF': '62', 'WindChillC': '17', 'WindChillF': '62', 'WindGustKmph': '13', 'WindGustMiles': '8', 'chanceoffog': '0', 'chanceoffrost': '0', 'chanceofhightemp': '0', 'chanceofovercast': '0', 'chanceofrain': '0', 'chanceofremdry': '86', 'chanceofsnow': '0', 'chanceofsunshine': '92', 'chanceofthunder': '0', 'chanceofwindy': '0', 'cloudcover': '3', 'diffRad': '2.4', 'humidity': '77', 'precipInches': '0.0', 'precipMM': '0.0', 'pressure': '1021', 'pressureInches': '30', 'shortRad': '5.6', 'tempC': '17', 'tempF': '62', 'time': '0', 'uvIndex': '0', 'visibility': '10', 'visibilityMiles': '6', 'weatherCode': '113', 'weatherDesc': [{'value': 'Clear '}], 'weatherIconUrl': [{'value': ''}], 'winddir16Point': 'N', 'winddirDegree': '8', 'windspeedKmph': '6', 'windspeedMiles': '4'}, {'DewPointC': '13', 'DewPointF': '55', 'FeelsLikeC': '17', 'FeelsLikeF': '63', 'HeatIndexC': '17', 'HeatIndexF': '63', 'WindChillC': '17', 'WindChillF': '63', 'WindGustKmph': '14', 'WindGustMiles': '8', 'chanceoffog': '0', 'chanceoffrost': '0', 'chanceofhightemp': '0', 'chanceofovercast': '0', 'chanceofrain': '0', 'chanceofremdry': '81', 'chanceofsnow': '0', 'chanceofsunshine': '94', 'chanceofthunder': '0', 'chanceofwindy': '0', 'cloudcover': '0', 'diffRad': '0.0', 'humidity': '75', 'precipInches': '0.0', 'precipMM': '0.0', 'pressure': '1021', 'pressureInches': '30', 'shortRad': '0.0', 'tempC': '17', 'tempF': '63', 'time': '300', 'uvIndex': '0', 'visibility': '10', 'visibilityMiles': '6', 'weatherCode': '113', 'weatherDesc': [{'value': 'Clear '}], 'weatherIconUrl': [{'value': ''}], 'winddir16Point': 'N', 'winddirDegree': '10', 'windspeedKmph': '6', 'windspeedMiles': '4'}, {'DewPointC': '14', 'DewPointF': '57', 'FeelsLikeC': '19', 'FeelsLikeF': '67', 'HeatIndexC': '19', 'HeatIndexF': '67', 'WindChillC': '19', 'WindChillF': '67', 'WindGustKmph': '10', 'WindGustMiles': '6', 'chanceoffog': '0', 'chanceoffrost': '0', 'chanceofhightemp': '0', 'chanceofovercast': '0', 'chanceofrain': '0', 'chanceofremdry': '91', 'chanceofsnow': '0', 'chanceofsunshine': '93', 'chanceofthunder': '0', 'chanceofwindy': '0', 'cloudcover': '0', 'diffRad': '5.3', 'humidity': '71', 'precipInches': '0.0', 'precipMM': '0.0', 'pressure': '1020', 'pressureInches': '30', 'shortRad': '15.1', 'tempC': '19', 'tempF': '67', 'time': '600', 'uvIndex': '0', 'visibility': '10', 'visibilityMiles': '6', 'weatherCode': '113', 'weatherDesc': [{'value': 'Sunny'}], 'weatherIconUrl': [{'value': ''}], 'winddir16Point': 'NE', 'winddirDegree': '48', 'windspeedKmph': '6', 'windspeedMiles': '4'}, {'DewPointC': '14', 'DewPointF': '58', 'FeelsLikeC': '25', 'FeelsLikeF': '77', 'HeatIndexC': '25', 'HeatIndexF': '77', 'WindChillC': '23', 'WindChillF': '73', 'WindGustKmph': '4', 'WindGustMiles': '3', 'chanceoffog': '0', 'chanceoffrost': '0', 'chanceofhightemp': '10', 'chanceofovercast': '0', 'chanceofrain': '0', 'chanceofremdry': '85', 'chanceofsnow': '0', 'chanceofsunshine': '92', 'chanceofthunder': '0', 'chanceofwindy': '0', 'cloudcover': '4', 'diffRad': '72.5', 'humidity': '58', 'precipInches': '0.0', 'precipMM': '0.0', 'pressure': '1021', 'pressureInches': '30', 'shortRad': '509.7', 'tempC': '23', 'tempF': '73', 'time': '900', 'uvIndex': '2', 'visibility': '10', 'visibilityMiles': '6', 'weatherCode': '113', 'weatherDesc': [{'value': 'Sunny'}], 'weatherIconUrl': [{'value': ''}], 'winddir16Point': 'SSW', 'winddirDegree': '206', 'windspeedKmph': '4', 'windspeedMiles': '2'}, {'DewPointC': '15', 'DewPointF': '58', 'FeelsLikeC': '26', 'FeelsLikeF': '79', 'HeatIndexC': '26', 'HeatIndexF': '79', 'WindChillC': '25', 'WindChillF': '77', 'WindGustKmph': '9', 'WindGustMiles': '5', 'chanceoffog': '0', 'chanceoffrost': '0', 'chanceofhightemp': '15', 'chanceofovercast': '0', 'chanceofrain': '0', 'chanceofremdry': '93', 'chanceofsnow': '0', 'chanceofsunshine': '85', 'chanceofthunder': '0', 'chanceofwindy': '0', 'cloudcover': '2', 'diffRad': '83.6', 'humidity': '53', 'precipInches': '0.0', 'precipMM': '0.0', 'pressure': '1021', 'pressureInches': '30', 'shortRad': '712.4', 'tempC': '25', 'tempF': '77', 'time': '1200', 'uvIndex': '8', 'visibility': '10', 'visibilityMiles': '6', 'weatherCode': '113', 'weatherDesc': [{'value': 'Sunny'}], 'weatherIconUrl': [{'value': ''}], 'winddir16Point': 'SW', 'winddirDegree': '228', 'windspeedKmph': '8', 'windspeedMiles': '5'}, {'DewPointC': '14', 'DewPointF': '57', 'FeelsLikeC': '25', 'FeelsLikeF': '77', 'HeatIndexC': '25', 'HeatIndexF': '77', 'WindChillC': '23', 'WindChillF': '74', 'WindGustKmph': '11', 'WindGustMiles': '7', 'chanceoffog': '0', 'chanceoffrost': '0', 'chanceofhightemp': '10', 'chanceofovercast': '0', 'chanceofrain': '0', 'chanceofremdry': '82', 'chanceofsnow': '0', 'chanceofsunshine': '94', 'chanceofthunder': '0', 'chanceofwindy': '0', 'cloudcover': '3', 'diffRad': '112.1', 'humidity': '55', 'precipInches': '0.0', 'precipMM': '0.0', 'pressure': '1020', 'pressureInches': '30', 'shortRad': '860.2', 'tempC': '23', 'tempF': '74', 'time': '1500', 'uvIndex': '7', 'visibility': '10', 'visibilityMiles': '6', 'weatherCode': '113', 'weatherDesc': [{'value': 'Sunny'}], 'weatherIconUrl': [{'value': ''}], 'winddir16Point': 'WSW', 'winddirDegree': '246', 'windspeedKmph': '8', 'windspeedMiles': '5'}, {'DewPointC': '13', 'DewPointF': '56', 'FeelsLikeC': '19', 'FeelsLikeF': '66', 'HeatIndexC': '19', 'HeatIndexF': '66', 'WindChillC': '19', 'WindChillF': '66', 'WindGustKmph': '8', 'WindGustMiles': '5', 'chanceoffog': '0', 'chanceoffrost': '0', 'chanceofhightemp': '0', 'chanceofovercast': '0', 'chanceofrain': '0', 'chanceofremdry': '85', 'chanceofsnow': '0', 'chanceofsunshine': '93', 'chanceofthunder': '0', 'chanceofwindy': '0', 'cloudcover': '6', 'diffRad': '158.9', 'humidity': '68', 'precipInches': '0.0', 'precipMM': '0.0', 'pressure': '1019', 'pressureInches': '30', 'shortRad': '602.8', 'tempC': '19', 'tempF': '66', 'time': '1800', 'uvIndex': '2', 'visibility': '10', 'visibilityMiles': '6', 'weatherCode': '113', 'weatherDesc': [{'value': 'Sunny'}], 'weatherIconUrl': [{'value': ''}], 'winddir16Point': 'WSW', 'winddirDegree': '254', 'windspeedKmph': '4', 'windspeedMiles': '2'}, {'DewPointC': '12', 'DewPointF': '53', 'FeelsLikeC': '16', 'FeelsLikeF': '62', 'HeatIndexC': '16', 'HeatIndexF': '62', 'WindChillC': '16', 'WindChillF': '62', 'WindGustKmph': '8', 'WindGustMiles': '5', 'chanceoffog': '0', 'chanceoffrost': '0', 'chanceofhightemp': '0', 'chanceofovercast': '0', 'chanceofrain': '0', 'chanceofremdry': '87', 'chanceofsnow': '0', 'chanceofsunshine': '85', 'chanceofthunder': '0', 'chanceofwindy': '0', 'cloudcover': '6', 'diffRad': '6.4', 'humidity': '74', 'precipInches': '0.0', 'precipMM': '0.0', 'pressure': '1020', 'pressureInches': '30', 'shortRad': '13.9', 'tempC': '16', 'tempF': '62', 'time': '2100', 'uvIndex': '0', 'visibility': '10', 'visibilityMiles': '6', 'weatherCode': '113', 'weatherDesc': [{'value': 'Clear '}], 'weatherIconUrl': [{'value': ''}], 'winddir16Point': 'N', 'winddirDegree': '353', 'windspeedKmph': '4', 'windspeedMiles': '2'}], 'maxtempC': '25', 'maxtempF': '77', 'mintempC': '16', 'mintempF': '61', 'sunHour': '15.0', 'totalSnow_cm': '0.0', 'uvIndex': '2'}, {'astronomy': [{'moon_illumination': '29', 'moon_phase': 'Waxing Crescent', 'moonrise': '11:06 AM', 'moonset': '01:15 AM', 'sunrise': '05:41 AM', 'sunset': '08:57 PM'}], 'avgtempC': '19', 'avgtempF': '66', 'date': '2025-06-01', 'hourly': [{'DewPointC': '10', 'DewPointF': '50', 'FeelsLikeC': '16', 'FeelsLikeF': '60', 'HeatIndexC': '16', 'HeatIndexF': '60', 'WindChillC': '16', 'WindChillF': '60', 'WindGustKmph': '11', 'WindGustMiles': '7', 'chanceoffog': '0', 'chanceoffrost': '0', 'chanceofhightemp': '0', 'chanceofovercast': '0', 'chanceofrain': '0', 'chanceofremdry': '94', 'chanceofsnow': '0', 'chanceofsunshine': '94', 'chanceofthunder': '0', 'chanceofwindy': '0', 'cloudcover': '3', 'diffRad': '2.5', 'humidity': '70', 'precipInches': '0.0', 'precipMM': '0.0', 'pressure': '1020', 'pressureInches': '30', 'shortRad': '5.6', 'tempC': '16', 'tempF': '60', 'time': '0', 'uvIndex': '0', 'visibility': '10', 'visibilityMiles': '6', 'weatherCode': '113', 'weatherDesc': [{'value': 'Clear '}], 'weatherIconUrl': [{'value': ''}], 'winddir16Point': 'N', 'winddirDegree': '7', 'windspeedKmph': '5', 'windspeedMiles': '3'}, {'DewPointC': '9', 'DewPointF': '47', 'FeelsLikeC': '15', 'FeelsLikeF': '59', 'HeatIndexC': '15', 'HeatIndexF': '59', 'WindChillC': '15', 'WindChillF': '59', 'WindGustKmph': '13', 'WindGustMiles': '8', 'chanceoffog': '0', 'chanceoffrost': '0', 'chanceofhightemp': '0', 'chanceofovercast': '0', 'chanceofrain': '0', 'chanceofremdry': '86', 'chanceofsnow': '0', 'chanceofsunshine': '92', 'chanceofthunder': '0', 'chanceofwindy': '0', 'cloudcover': '12', 'diffRad': '0.0', 'humidity': '65', 'precipInches': '0.0', 'precipMM': '0.0', 'pressure': '1020', 'pressureInches': '30', 'shortRad': '0.0', 'tempC': '15', 'tempF': '59', 'time': '300', 'uvIndex': '0', 'visibility': '10', 'visibilityMiles': '6', 'weatherCode': '113', 'weatherDesc': [{'value': 'Clear '}], 'weatherIconUrl': [{'value': ''}], 'winddir16Point': 'NNE', 'winddirDegree': '31', 'windspeedKmph': '6', 'windspeedMiles': '4'}, {'DewPointC': '13', 'DewPointF': '55', 'FeelsLikeC': '19', 'FeelsLikeF': '66', 'HeatIndexC': '19', 'HeatIndexF': '66', 'WindChillC': '19', 'WindChillF': '66', 'WindGustKmph': '8', 'WindGustMiles': '5', 'chanceoffog': '0', 'chanceoffrost': '0', 'chanceofhightemp': '0', 'chanceofovercast': '0', 'chanceofrain': '0', 'chanceofremdry': '89', 'chanceofsnow': '0', 'chanceofsunshine': '94', 'chanceofthunder': '0', 'chanceofwindy': '0', 'cloudcover': '5', 'diffRad': '5.4', 'humidity': '68', 'precipInches': '0.0', 'precipMM': '0.0', 'pressure': '1020', 'pressureInches': '30', 'shortRad': '14.9', 'tempC': '19', 'tempF': '66', 'time': '600', 'uvIndex': '0', 'visibility': '10', 'visibilityMiles': '6', 'weatherCode': '113', 'weatherDesc': [{'value': 'Sunny'}], 'weatherIconUrl': [{'value': ''}], 'winddir16Point': 'NE', 'winddirDegree': '46', 'windspeedKmph': '5', 'windspeedMiles': '3'}, {'DewPointC': '14', 'DewPointF': '58', 'FeelsLikeC': '22', 'FeelsLikeF': '72', 'HeatIndexC': '25', 'HeatIndexF': '76', 'WindChillC': '22', 'WindChillF': '72', 'WindGustKmph': '6', 'WindGustMiles': '4', 'chanceoffog': '0', 'chanceoffrost': '0', 'chanceofhightemp': '0', 'chanceofovercast': '0', 'chanceofrain': '0', 'chanceofremdry': '82', 'chanceofsnow': '0', 'chanceofsunshine': '91', 'chanceofthunder': '0', 'chanceofwindy': '0', 'cloudcover': '6', 'diffRad': '74.8', 'humidity': '62', 'precipInches': '0.0', 'precipMM': '0.0', 'pressure': '1020', 'pressureInches': '30', 'shortRad': '500.7', 'tempC': '22', 'tempF': '72', 'time': '900', 'uvIndex': '2', 'visibility': '10', 'visibilityMiles': '6', 'weatherCode': '113', 'weatherDesc': [{'value': 'Sunny'}], 'weatherIconUrl': [{'value': ''}], 'winddir16Point': 'S', 'winddirDegree': '176', 'windspeedKmph': '5', 'windspeedMiles': '3'}, {'DewPointC': '15', 'DewPointF': '59', 'FeelsLikeC': '25', 'FeelsLikeF': '77', 'HeatIndexC': '25', 'HeatIndexF': '77', 'WindChillC': '23', 'WindChillF': '74', 'WindGustKmph': '10', 'WindGustMiles': '6', 'chanceoffog': '0', 'chanceoffrost': '0', 'chanceofhightemp': '10', 'chanceofovercast': '0', 'chanceofrain': '0', 'chanceofremdry': '87', 'chanceofsnow': '0', 'chanceofsunshine': '94', 'chanceofthunder': '0', 'chanceofwindy': '0', 'cloudcover': '5', 'diffRad': '85.6', 'humidity': '60', 'precipInches': '0.0', 'precipMM': '0.0', 'pressure': '1020', 'pressureInches': '30', 'shortRad': '700.7', 'tempC': '23', 'tempF': '74', 'time': '1200', 'uvIndex': '8', 'visibility': '10', 'visibilityMiles': '6', 'weatherCode': '113', 'weatherDesc': [{'value': 'Sunny'}], 'weatherIconUrl': [{'value': ''}], 'winddir16Point': 'SSW', 'winddirDegree': '203', 'windspeedKmph': '9', 'windspeedMiles': '5'}, {'DewPointC': '13', 'DewPointF': '55', 'FeelsLikeC': '22', 'FeelsLikeF': '71', 'HeatIndexC': '24', 'HeatIndexF': '76', 'WindChillC': '22', 'WindChillF': '71', 'WindGustKmph': '9', 'WindGustMiles': '5', 'chanceoffog': '0', 'chanceoffrost': '0', 'chanceofhightemp': '0', 'chanceofovercast': '0', 'chanceofrain': '0', 'chanceofremdry': '88', 'chanceofsnow': '0', 'chanceofsunshine': '91', 'chanceofthunder': '0', 'chanceofwindy': '0', 'cloudcover': '6', 'diffRad': '94.2', 'humidity': '57', 'precipInches': '0.0', 'precipMM': '0.0', 'pressure': '1019', 'pressureInches': '30', 'shortRad': '853.6', 'tempC': '22', 'tempF': '71', 'time': '1500', 'uvIndex': '7', 'visibility': '10', 'visibilityMiles': '6', 'weatherCode': '113', 'weatherDesc': [{'value': 'Sunny'}], 'weatherIconUrl': [{'value': ''}], 'winddir16Point': 'SSW', 'winddirDegree': '195', 'windspeedKmph': '6', 'windspeedMiles': '4'}, {'DewPointC': '12', 'DewPointF': '54', 'FeelsLikeC': '19', 'FeelsLikeF': '66', 'HeatIndexC': '19', 'HeatIndexF': '66', 'WindChillC': '19', 'WindChillF': '66', 'WindGustKmph': '9', 'WindGustMiles': '6', 'chanceoffog': '0', 'chanceoffrost': '0', 'chanceofhightemp': '0', 'chanceofovercast': '0', 'chanceofrain': '0', 'chanceofremdry': '83', 'chanceofsnow': '0', 'chanceofsunshine': '91', 'chanceofthunder': '0', 'chanceofwindy': '0', 'cloudcover': '4', 'diffRad': '83.6', 'humidity': '66', 'precipInches': '0.0', 'precipMM': '0.0', 'pressure': '1019', 'pressureInches': '30', 'shortRad': '651.5', 'tempC': '19', 'tempF': '66', 'time': '1800', 'uvIndex': '2', 'visibility': '10', 'visibilityMiles': '6', 'weatherCode': '113', 'weatherDesc': [{'value': 'Sunny'}], 'weatherIconUrl': [{'value': ''}], 'winddir16Point': 'SSW', 'winddirDegree': '193', 'windspeedKmph': '5', 'windspeedMiles': '3'}, {'DewPointC': '13', 'DewPointF': '55', 'FeelsLikeC': '16', 'FeelsLikeF': '60', 'HeatIndexC': '16', 'HeatIndexF': '60', 'WindChillC': '16', 'WindChillF': '60', 'WindGustKmph': '5', 'WindGustMiles': '3', 'chanceoffog': '0', 'chanceoffrost': '0', 'chanceofhightemp': '0', 'chanceofovercast': '0', 'chanceofrain': '0', 'chanceofremdry': '86', 'chanceofsnow': '0', 'chanceofsunshine': '85', 'chanceofthunder': '0', 'chanceofwindy': '0', 'cloudcover': '8', 'diffRad': '6.2', 'humidity': '81', 'precipInches': '0.0', 'precipMM': '0.0', 'pressure': '1020', 'pressureInches': '30', 'shortRad': '12.7', 'tempC': '16', 'tempF': '60', 'time': '2100', 'uvIndex': '0', 'visibility': '10', 'visibilityMiles': '6', 'weatherCode': '113', 'weatherDesc': [{'value': 'Clear '}], 'weatherIconUrl': [{'value': ''}], 'winddir16Point': 'ENE', 'winddirDegree': '75', 'windspeedKmph': '2', 'windspeedMiles': '1'}], 'maxtempC': '23', 'maxtempF': '74', 'mintempC': '15', 'mintempF': '59', 'sunHour': '15.0', 'totalSnow_cm': '0.0', 'uvIndex': '2'}, {'astronomy': [{'moon_illumination': '38', 'moon_phase': 'Waxing Crescent', 'moonrise': '12:16 PM', 'moonset': '01:39 AM', 'sunrise': '05:40 AM', 'sunset': '08:58 PM'}], 'avgtempC': '19', 'avgtempF': '66', 'date': '2025-06-02', 'hourly': [{'DewPointC': '12', 'DewPointF': '53', 'FeelsLikeC': '15', 'FeelsLikeF': '60', 'HeatIndexC': '15', 'HeatIndexF': '60', 'WindChillC': '15', 'WindChillF': '60', 'WindGustKmph': '11', 'WindGustMiles': '7', 'chanceoffog': '0', 'chanceoffrost': '0', 'chanceofhightemp': '0', 'chanceofovercast': '0', 'chanceofrain': '0', 'chanceofremdry': '88', 'chanceofsnow': '0', 'chanceofsunshine': '92', 'chanceofthunder': '0', 'chanceofwindy': '0', 'cloudcover': '9', 'diffRad': '2.5', 'humidity': '79', 'precipInches': '0.0', 'precipMM': '0.0', 'pressure': '1020', 'pressureInches': '30', 'shortRad': '5.1', 'tempC': '15', 'tempF': '60', 'time': '0', 'uvIndex': '0', 'visibility': '10', 'visibilityMiles': '6', 'weatherCode': '113', 'weatherDesc': [{'value': 'Clear '}], 'weatherIconUrl': [{'value': ''}], 'winddir16Point': 'E', 'winddirDegree': '84', 'windspeedKmph': '5', 'windspeedMiles': '3'}, {'DewPointC': '12', 'DewPointF': '54', 'FeelsLikeC': '15', 'FeelsLikeF': '59', 'HeatIndexC': '15', 'HeatIndexF': '59', 'WindChillC': '15', 'WindChillF': '59', 'WindGustKmph': '14', 'WindGustMiles': '9', 'chanceoffog': '0', 'chanceoffrost': '0', 'chanceofhightemp': '0', 'chanceofovercast': '0', 'chanceofrain': '0', 'chanceofremdry': '85', 'chanceofsnow': '0', 'chanceofsunshine': '85', 'chanceofthunder': '0', 'chanceofwindy': '0', 'cloudcover': '10', 'diffRad': '0.0', 'humidity': '82', 'precipInches': '0.0', 'precipMM': '0.0', 'pressure': '1020', 'pressureInches': '30', 'shortRad': '0.0', 'tempC': '15', 'tempF': '59', 'time': '300', 'uvIndex': '0', 'visibility': '10', 'visibilityMiles': '6', 'weatherCode': '113', 'weatherDesc': [{'value': 'Clear '}], 'weatherIconUrl': [{'value': ''}], 'winddir16Point': 'ESE', 'winddirDegree': '111', 'windspeedKmph': '7', 'windspeedMiles': '4'}, {'DewPointC': '16', 'DewPointF': '60', 'FeelsLikeC': '19', 'FeelsLikeF': '66', 'HeatIndexC': '19', 'HeatIndexF': '66', 'WindChillC': '19', 'WindChillF': '66', 'WindGustKmph': '8', 'WindGustMiles': '5', 'chanceoffog': '0', 'chanceoffrost': '0', 'chanceofhightemp': '0', 'chanceofovercast': '0', 'chanceofrain': '0', 'chanceofremdry': '90', 'chanceofsnow': '0', 'chanceofsunshine': '91', 'chanceofthunder': '0', 'chanceofwindy': '0', 'cloudcover': '21', 'diffRad': '5.5', 'humidity': '83', 'precipInches': '0.0', 'precipMM': '0.0', 'pressure': '1020', 'pressureInches': '30', 'shortRad': '10.9', 'tempC': '19', 'tempF': '66', 'time': '600', 'uvIndex': '0', 'visibility': '10', 'visibilityMiles': '6', 'weatherCode': '113', 'weatherDesc': [{'value': 'Sunny'}], 'weatherIconUrl': [{'value': ''}], 'winddir16Point': 'E', 'winddirDegree': '99', 'windspeedKmph': '6', 'windspeedMiles': '4'}, {'DewPointC': '16', 'DewPointF': '61', 'FeelsLikeC': '21', 'FeelsLikeF': '70', 'HeatIndexC': '24', 'HeatIndexF': '76', 'WindChillC': '21', 'WindChillF': '70', 'WindGustKmph': '8', 'WindGustMiles': '5', 'chanceoffog': '0', 'chanceoffrost': '0', 'chanceofhightemp': '0', 'chanceofovercast': '0', 'chanceofrain': '0', 'chanceofremdry': '82', 'chanceofsnow': '0', 'chanceofsunshine': '92', 'chanceofthunder': '0', 'chanceofwindy': '0', 'cloudcover': '16', 'diffRad': '117.4', 'humidity': '72', 'precipInches': '0.0', 'precipMM': '0.0', 'pressure': '1020', 'pressureInches': '30', 'shortRad': '467.7', 'tempC': '21', 'tempF': '70', 'time': '900', 'uvIndex': '2', 'visibility': '10', 'visibilityMiles': '6', 'weatherCode': '113', 'weatherDesc': [{'value': 'Sunny'}], 'weatherIconUrl': [{'value': ''}], 'winddir16Point': 'SSE', 'winddirDegree': '168', 'windspeedKmph': '7', 'windspeedMiles': '4'}, {'DewPointC': '16', 'DewPointF': '60', 'FeelsLikeC': '25', 'FeelsLikeF': '77', 'HeatIndexC': '25', 'HeatIndexF': '77', 'WindChillC': '23', 'WindChillF': '73', 'WindGustKmph': '11', 'WindGustMiles': '7', 'chanceoffog': '0', 'chanceoffrost': '0', 'chanceofhightemp': '0', 'chanceofovercast': '0', 'chanceofrain': '0', 'chanceofremdry': '84', 'chanceofsnow': '0', 'chanceofsunshine': '94', 'chanceofthunder': '0', 'chanceofwindy': '0', 'cloudcover': '11', 'diffRad': '110.9', 'humidity': '65', 'precipInches': '0.0', 'precipMM': '0.0', 'pressure': '1020', 'pressureInches': '30', 'shortRad': '681.0', 'tempC': '23', 'tempF': '73', 'time': '1200', 'uvIndex': '8', 'visibility': '10', 'visibilityMiles': '6', 'weatherCode': '113', 'weatherDesc': [{'value': 'Sunny'}], 'weatherIconUrl': [{'value': ''}], 'winddir16Point': 'S', 'winddirDegree': '174', 'windspeedKmph': '10', 'windspeedMiles': '6'}, {'DewPointC': '15', 'DewPointF': '59', 'FeelsLikeC': '22', 'FeelsLikeF': '71', 'HeatIndexC': '24', 'HeatIndexF': '76', 'WindChillC': '22', 'WindChillF': '71', 'WindGustKmph': '13', 'WindGustMiles': '8', 'chanceoffog': '0', 'chanceoffrost': '0', 'chanceofhightemp': '0', 'chanceofovercast': '0', 'chanceofrain': '0', 'chanceofremdry': '93', 'chanceofsnow': '0', 'chanceofsunshine': '85', 'chanceofthunder': '0', 'chanceofwindy': '0', 'cloudcover': '12', 'diffRad': '113.6', 'humidity': '67', 'precipInches': '0.0', 'precipMM': '0.0', 'pressure': '1019', 'pressureInches': '30', 'shortRad': '843.7', 'tempC': '22', 'tempF': '71', 'time': '1500', 'uvIndex': '7', 'visibility': '10', 'visibilityMiles': '6', 'weatherCode': '113', 'weatherDesc': [{'value': 'Sunny'}], 'weatherIconUrl': [{'value': ''}], 'winddir16Point': 'SSE', 'winddirDegree': '168', 'windspeedKmph': '10', 'windspeedMiles': '6'}, {'DewPointC': '14', 'DewPointF': '56', 'FeelsLikeC': '18', 'FeelsLikeF': '65', 'HeatIndexC': '18', 'HeatIndexF': '65', 'WindChillC': '18', 'WindChillF': '65', 'WindGustKmph': '15', 'WindGustMiles': '9', 'chanceoffog': '0', 'chanceoffrost': '0', 'chanceofhightemp': '0', 'chanceofovercast': '0', 'chanceofrain': '0', 'chanceofremdry': '94', 'chanceofsnow': '0', 'chanceofsunshine': '90', 'chanceofthunder': '0', 'chanceofwindy': '0', 'cloudcover': '13', 'diffRad': '107.1', 'humidity': '75', 'precipInches': '0.0', 'precipMM': '0.0', 'pressure': '1018', 'pressureInches': '30', 'shortRad': '631.4', 'tempC': '18', 'tempF': '65', 'time': '1800', 'uvIndex': '2', 'visibility': '10', 'visibilityMiles': '6', 'weatherCode': '113', 'weatherDesc': [{'value': 'Sunny'}], 'weatherIconUrl': [{'value': ''}], 'winddir16Point': 'SSE', 'winddirDegree': '153', 'windspeedKmph': '8', 'windspeedMiles': '5'}, {'DewPointC': '15', 'DewPointF': '60', 'FeelsLikeC': '17', 'FeelsLikeF': '63', 'HeatIndexC': '17', 'HeatIndexF': '63', 'WindChillC': '17', 'WindChillF': '63', 'WindGustKmph': '18', 'WindGustMiles': '11', 'chanceoffog': '0', 'chanceoffrost': '0', 'chanceofhightemp': '0', 'chanceofovercast': '0', 'chanceofrain': '0', 'chanceofremdry': '93', 'chanceofsnow': '0', 'chanceofsunshine': '92', 'chanceofthunder': '0', 'chanceofwindy': '0', 'cloudcover': '14', 'diffRad': '5.9', 'humidity': '90', 'precipInches': '0.0', 'precipMM': '0.0', 'pressure': '1019', 'pressureInches': '30', 'shortRad': '12.0', 'tempC': '17', 'tempF': '63', 'time': '2100', 'uvIndex': '0', 'visibility': '10', 'visibilityMiles': '6', 'weatherCode': '113', 'weatherDesc': [{'value': 'Clear '}], 'weatherIconUrl': [{'value': ''}], 'winddir16Point': 'SE', 'winddirDegree': '124', 'windspeedKmph': '9', 'windspeedMiles': '6'}], 'maxtempC': '23', 'maxtempF': '73', 'mintempC': '15', 'mintempF': '59', 'sunHour': '15.0', 'totalSnow_cm': '0.0', 'uvIndex': '2'}]}\"}}]}, 'usage': {'prompt_tokens': 169, 'completion_tokens': 25, 'total_tokens': 194, 'prompt_token_details': {'cached_tokens': 0}}} \n",
      "\n"
     ]
    }
   ],
   "source": [
    "run_steps = list(agents_client.run_steps.list(run_id=run.id, thread_id=thread.id))\n",
    "\n",
    "print(f'Nr of run step(s): {len(run_steps)}\\n')\n",
    "i=0\n",
    "for rs in run_steps:\n",
    "    i += 1\n",
    "    print(f\"Run step {i}: {rs}\", '\\n')"
   ]
  },
  {
   "cell_type": "markdown",
   "id": "f49854b8-6d74-4665-889f-ced323286db7",
   "metadata": {},
   "source": [
    "# Collect all resources for this project"
   ]
  },
  {
   "cell_type": "code",
   "execution_count": 16,
   "id": "3da9fa6d-95f5-4039-80ac-aedf605b4491",
   "metadata": {},
   "outputs": [
    {
     "name": "stdout",
     "output_type": "stream",
     "text": [
      "3 agents\n",
      "1 threads\n",
      "0 files\n",
      "1 runs in 1 threads\n",
      "0 vector stores\n"
     ]
    }
   ],
   "source": [
    "all_agents = list_all_agents(client=agents_client)\n",
    "print(all_agents[\"summary\"])\n",
    "\n",
    "all_threads = list_all_threads(client=agents_client)\n",
    "print(all_threads[\"summary\"])\n",
    "\n",
    "all_files = list_all_files(client=agents_client)\n",
    "print(all_files[\"summary\"])\n",
    "\n",
    "all_runs = list_all_runs(client=agents_client)\n",
    "print(all_runs[\"summary\"])\n",
    "\n",
    "# all_runsteps=list_all_runsteps(agents_client)\n",
    "# print(all_runsteps[\"summary\"])\n",
    "\n",
    "# all_messages = list_all_messages(agents_client)\n",
    "# print(all_messages[\"summary\"])\n",
    "\n",
    "all_vectorstores = list_all_vectorstores(client=agents_client)\n",
    "print(all_vectorstores[\"summary\"])"
   ]
  },
  {
   "cell_type": "markdown",
   "id": "2a9c68b0-7f54-4ab7-9eb3-790dacf3bbf6",
   "metadata": {},
   "source": [
    "# Teardown for all resources"
   ]
  },
  {
   "cell_type": "code",
   "execution_count": 17,
   "id": "8347b4ce-7efc-4c73-9b01-aed9e7cfabb9",
   "metadata": {},
   "outputs": [
    {
     "name": "stdout",
     "output_type": "stream",
     "text": [
      "Vector stores deleted: 0\n",
      "\n"
     ]
    }
   ],
   "source": [
    "# delete all vector stores\n",
    "\n",
    "i=0\n",
    "for vector_store in all_vectorstores[\"content\"]:\n",
    "    i += 1\n",
    "    agents_client.vector_stores.delete(vector_store_id=vector_store.id)\n",
    "    print(f\"{i} - Vector store <{vector_store.id}> has been deleted\")\n",
    "\n",
    "all_vectorstores = list_all_vectorstores(client=agents_client)\n",
    "\n",
    "print(f\"Vector stores deleted: {i}\\n\")"
   ]
  },
  {
   "cell_type": "code",
   "execution_count": 18,
   "id": "cbbcedd3-2e0a-47ad-8b1b-04ddcb3fc029",
   "metadata": {},
   "outputs": [
    {
     "name": "stdout",
     "output_type": "stream",
     "text": [
      "Files deleted: 0\n",
      "\n"
     ]
    }
   ],
   "source": [
    "# delete all files\n",
    "\n",
    "i=0\n",
    "for file in all_files['content']:\n",
    "    i += 1\n",
    "    agents_client.files.delete(file_id=file.id)\n",
    "    print(f\"{i} - File <{file.filename}> ({file.id}) has been deleted\")\n",
    "\n",
    "all_files = list_all_files(client=agents_client)\n",
    "\n",
    "print(f\"Files deleted: {i}\\n\")"
   ]
  },
  {
   "cell_type": "code",
   "execution_count": 19,
   "id": "25f2aac0-2c0f-479b-ae99-265146939af5",
   "metadata": {},
   "outputs": [
    {
     "name": "stdout",
     "output_type": "stream",
     "text": [
      "1 - Thread <thread_q2frFLiPvk5Sr4nuXjmsKgU2> has been deleted\n",
      "Threads deleted: 1\n",
      "\n"
     ]
    }
   ],
   "source": [
    "# delete all threads\n",
    "\n",
    "i=0\n",
    "for thread in all_threads[\"content\"]:\n",
    "    i += 1\n",
    "    agents_client.threads.delete(thread_id=thread.id)\n",
    "    print(f\"{i} - Thread <{thread.id}> has been deleted\")\n",
    "\n",
    "all_threads = list_all_threads(client=agents_client)\n",
    "\n",
    "print(f\"Threads deleted: {i}\\n\")"
   ]
  },
  {
   "cell_type": "code",
   "execution_count": 20,
   "id": "5f890f4e-0502-4293-9088-f835a66d6da9",
   "metadata": {},
   "outputs": [
    {
     "name": "stdout",
     "output_type": "stream",
     "text": [
      "1 - Agent <asst_WeSqfvp4br9fXsRqCVyVW3GX> has been deleted\n",
      "2 - Agent <asst_JtWlXyDdf23Y6syqX8u8pUNv> has been deleted\n",
      "3 - Agent <asst_Lnu7ZHz95SQfOe9OHBvEKEeA> has been deleted\n",
      "Agents deleted: 3\n",
      "\n"
     ]
    }
   ],
   "source": [
    "# delete all agents\n",
    "\n",
    "i=0\n",
    "for agent in all_agents[\"content\"]:\n",
    "    i += 1\n",
    "    agents_client.delete_agent(agent_id=agent.id)\n",
    "    print(f\"{i} - Agent <{agent.id}> has been deleted\")\n",
    "\n",
    "all_agents = list_all_agents(client=agents_client)\n",
    "\n",
    "print(f\"Agents deleted: {i}\\n\")"
   ]
  },
  {
   "cell_type": "markdown",
   "id": "c8cc2b04-a0b3-45ee-9066-4306e16511f9",
   "metadata": {},
   "source": [
    "# HIC SUNT LEONES"
   ]
  }
 ],
 "metadata": {
  "kernelspec": {
   "display_name": "aaas_new",
   "language": "python",
   "name": "aaas_new"
  },
  "language_info": {
   "codemirror_mode": {
    "name": "ipython",
    "version": 3
   },
   "file_extension": ".py",
   "mimetype": "text/x-python",
   "name": "python",
   "nbconvert_exporter": "python",
   "pygments_lexer": "ipython3",
   "version": "3.13.2"
  }
 },
 "nbformat": 4,
 "nbformat_minor": 5
}
