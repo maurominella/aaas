{
 "cells": [
  {
   "attachments": {},
   "cell_type": "markdown",
   "id": "6aff6e2d-97b4-441c-b548-2557bafae055",
   "metadata": {},
   "source": [
    "# [Create Agent with Azure Functions](https://learn.microsoft.com/en-us/python/api/overview/azure/ai-projects-readme?view=azure-python-preview#create-agent-with-azure-function-call)\n",
    "AzureFunctionTool contains the input and output queues of azure function and the description of input parameters.\n",
    "\n",
    "The **STORAGE_SERVICE_ENDPOINT** string is used to triggering the Azure function.<br/>\n",
    "\n",
    "Notes:\n",
    "- Inspired by [sample_agents_azure_functions.py](https://github.com/Azure/azure-sdk-for-python/blob/azure-ai-projects_1.0.0b4/sdk/ai/azure-ai-projects/samples/agents/sample_agents_azure_functions.py)\n",
    "- [Getting Started with Azure Functions](https://learn.microsoft.com/azure/azure-functions/functions-get-started) page for more information on Azure Functions\n",
    "- [Azure Blob storage bindings for Azure Functions overview](https://learn.microsoft.com/en-us/azure/azure-functions/functions-bindings-storage-blob?tabs=isolated-process%2Cextensionv5%2Cextensionv3&pivots=programming-language-python)"
   ]
  },
  {
   "cell_type": "code",
   "execution_count": 1,
   "id": "98d9cc9d-cbef-4b35-a4a3-84802dd4ee06",
   "metadata": {},
   "outputs": [
    {
     "name": "stdout",
     "output_type": "stream",
     "text": [
      "Environment variables have been loaded ;-)\n",
      "Project Connection String: <...hub01-grp;mmai-swc-hub01-prj01>\n",
      "azure-ai-projects library installed version: 1.0.0b10\n"
     ]
    }
   ],
   "source": [
    "import os\n",
    "from IPython.display import Markdown, display\n",
    "from dotenv import load_dotenv # requires python-dotenv\n",
    "from PIL import Image # requires pip install pillow\n",
    "from datetime import datetime\n",
    "from common.agents_helper_functions import *\n",
    "import importlib.metadata\n",
    "import matplotlib.pyplot as plt\n",
    "import matplotlib.image as mpimg\n",
    "\n",
    "if not load_dotenv(\"./../config/credentials_my.env\"):\n",
    "    print(\"Environment variables not loaded, cell execution stopped\")\n",
    "else:\n",
    "    print(\"Environment variables have been loaded ;-)\")\n",
    "\n",
    "deployment_name =  os.environ[\"MODEL_DEPLOYMENT_NAME_MINI\"]\n",
    "model_name =  os.environ[\"MODEL_DEPLOYMENT_NAME\"]\n",
    "api_version = os.environ[\"OPENAI_API_VERSION\"] # at least \"2025-03-01-preview\"\n",
    "\n",
    "project_connection_string = os.environ[\"PROJECT_CONNECTION_STRING\"]\n",
    "\n",
    "print(f'Project Connection String: <...{project_connection_string[-30:]}>')\n",
    "version = importlib.metadata.version(\"azure-ai-projects\")\n",
    "print(f\"azure-ai-projects library installed version: {version}\")"
   ]
  },
  {
   "cell_type": "code",
   "execution_count": 2,
   "id": "5a9abb62-b855-402f-9e22-583ffe6bf8cb",
   "metadata": {},
   "outputs": [
    {
     "data": {
      "text/plain": [
       "{'subscription_id': 'eca2eddb-0f0c-4351-a634-52751499eeea',\n",
       " 'resource_group_name': 'mmai-swc-hub01-grp',\n",
       " 'project_name': 'mmai-swc-hub01-prj01'}"
      ]
     },
     "execution_count": 2,
     "metadata": {},
     "output_type": "execute_result"
    }
   ],
   "source": [
    "from azure.ai.projects import AIProjectClient\n",
    "from azure.ai.projects.models import AzureFunctionTool, AzureFunctionStorageQueue # <<<<<<<<<<<<<<< SPECIFIC FOR AZURE FUNCTIONS\n",
    "from azure.identity import DefaultAzureCredential\n",
    "\n",
    "project_client = AIProjectClient.from_connection_string(\n",
    "    credential=DefaultAzureCredential(), conn_str=project_connection_string\n",
    ")\n",
    "\n",
    "project_client.scope"
   ]
  },
  {
   "cell_type": "code",
   "execution_count": 3,
   "id": "3998027a-7129-4442-b5af-07bc5f77a890",
   "metadata": {},
   "outputs": [
    {
     "data": {
      "text/plain": [
       "'foo'"
      ]
     },
     "execution_count": 3,
     "metadata": {},
     "output_type": "execute_result"
    }
   ],
   "source": [
    "storage_service_endpoint = os.environ[\"STORAGE_SERVICE_ENDPOINT\"]\n",
    "storage_service_endpoint"
   ]
  },
  {
   "cell_type": "code",
   "execution_count": 4,
   "id": "28086556-34d4-48bb-ba24-d74839fc0a3a",
   "metadata": {},
   "outputs": [
    {
     "name": "stdout",
     "output_type": "stream",
     "text": [
      "azure_function_tool.definitions: [{'type': 'azure_function', 'azure_function': {'function': {'name': 'foo', 'description': 'Get answers from the foo bot.', 'parameters': {'type': 'object', 'properties': {'query': {'type': 'string', 'description': 'The question to ask.'}, 'outputqueueuri': {'type': 'string', 'description': 'The full output queue uri.'}}}}, 'input_binding': {'storage_queue': {'queue_name': 'azure-function-foo-input', 'queue_service_endpoint': 'foo'}, 'type': 'storage_queue'}, 'output_binding': {'storage_queue': {'queue_name': 'azure-function-tool-output', 'queue_service_endpoint': 'foo'}, 'type': 'storage_queue'}}}]\n",
      "\n",
      "azure_function_tool.resources: {}\n"
     ]
    }
   ],
   "source": [
    "azure_function_tool = AzureFunctionTool(\n",
    "    name=\"foo\",\n",
    "    description=\"Get answers from the foo bot.\",\n",
    "    parameters={\n",
    "        \"type\": \"object\",\n",
    "        \"properties\": {\n",
    "            \"query\": {\"type\": \"string\", \"description\": \"The question to ask.\"},\n",
    "            \"outputqueueuri\": {\"type\": \"string\", \"description\": \"The full output queue uri.\"},\n",
    "        },\n",
    "    },\n",
    "    input_queue=AzureFunctionStorageQueue(\n",
    "        queue_name=\"azure-function-foo-input\",\n",
    "        storage_service_endpoint=storage_service_endpoint,\n",
    "    ),\n",
    "    output_queue=AzureFunctionStorageQueue(\n",
    "        queue_name=\"azure-function-tool-output\",\n",
    "        storage_service_endpoint=storage_service_endpoint,\n",
    "    ),\n",
    ")\n",
    "\n",
    "print(f\"azure_function_tool.definitions: {azure_function_tool.definitions}\")\n",
    "print(f\"\\nazure_function_tool.resources: {azure_function_tool.resources}\")"
   ]
  },
  {
   "cell_type": "markdown",
   "id": "5f2008c5-b611-449e-bbf6-3ae60b31ef5e",
   "metadata": {},
   "source": [
    "# Just for testing: invoke the Azure Function"
   ]
  },
  {
   "cell_type": "code",
   "execution_count": null,
   "id": "b23ba3db-c486-4378-be6c-cb5626f52e3f",
   "metadata": {},
   "outputs": [],
   "source": [
    "# Create agent with AI search tool and process assistant run\n",
    "agent = project_client.agents.create_agent(\n",
    "    model=model_name,\n",
    "    name=\"azure-function-agent-foo\",\n",
    "    instructions=\"\"\"\n",
    "    You are a helpful support agent. Use the provided function any time the prompt contains the string 'What would foo say?'. \n",
    "    When you invoke the function, ALWAYS specify the output queue uri parameter as '{storage_service_endpoint}/azure-function-tool-output'. \n",
    "    Always responds with \\\"Foo says\\\" and then the response from the tool.\n",
    "    \"\"\",\n",
    "    tools=azure_function_tool.definitions,\n",
    "    tool_resources=azure_function_tool.resources,\n",
    ")\n",
    "\n",
    "print(f\"Created agent, agent ID: {agent.id}\")"
   ]
  },
  {
   "cell_type": "markdown",
   "id": "3bfe1bf8-08d0-4115-b9a9-2e9e75647d38",
   "metadata": {},
   "source": [
    "# Create the thread and attach a new message to it"
   ]
  },
  {
   "cell_type": "code",
   "execution_count": null,
   "id": "06f80125-1252-4060-bdf5-3b52acc42a47",
   "metadata": {},
   "outputs": [],
   "source": [
    "# Create a thread\n",
    "thread = project_client.agents.create_thread()\n",
    "print(f\"Created thread: {thread}\\n\")\n",
    "\n",
    "# Add a user message to the thread\n",
    "message = project_client.agents.create_message(\n",
    "    thread_id=thread.id, \n",
    "    role=\"user\", \n",
    "    content=\"What is the most prevalent element in the universe?\" #  What would foo say?\n",
    ")\n",
    "print(f\"Created message: {message}\")"
   ]
  },
  {
   "cell_type": "markdown",
   "id": "31c6c0a9-2a4c-499b-a63b-07a225d39839",
   "metadata": {},
   "source": [
    "# Run the agent syncrhonously"
   ]
  },
  {
   "cell_type": "code",
   "execution_count": null,
   "id": "8604f495-2519-42a7-a19a-026538cf2c2c",
   "metadata": {},
   "outputs": [],
   "source": [
    "%%time\n",
    "# Create and process agent run in thread with tools\n",
    "run = project_client.agents.create_and_process_run(thread_id=thread.id, assistant_id=agent.id)\n",
    "print(f\"Run finished with status: {run.status}. Run: {run}\")\n",
    "\n",
    "if run.status == \"failed\":\n",
    "    # Check if you got \"Rate limit is exceeded.\", then you want to get more quota\n",
    "    print(f\"Run failed: {run.last_error}\")"
   ]
  },
  {
   "cell_type": "markdown",
   "id": "1be20ffb-0725-4035-b0b4-79eac7eb0304",
   "metadata": {},
   "source": [
    "# Fetch messages from the thread after the agent run execution"
   ]
  },
  {
   "cell_type": "code",
   "execution_count": null,
   "id": "0d3222fb-0f69-43ec-8762-65cc8242df67",
   "metadata": {},
   "outputs": [],
   "source": [
    "from azure.ai.projects.models import MessageTextContent, MessageImageFileContent\n",
    "\n",
    "if run.status == 'completed':    \n",
    "    messages = project_client.agents.list_messages(thread_id=thread.id)\n",
    "    messages_nr = len(messages.data)\n",
    "    print(f\"Here are the {messages_nr} messages:\\n\")\n",
    "    \n",
    "    for i, message in enumerate(reversed(messages.data), 1):\n",
    "        j = 0\n",
    "        print(f\"\\n===== MESSAGE {i} =====\")\n",
    "        for c in message.content:\n",
    "            j +=1\n",
    "            if (type(c) is MessageImageFileContent):\n",
    "                print(f\"\\nCONTENT {j} (MessageImageFileContent) --> image_file id: {c.image_file.file_id}\")\n",
    "            elif (type(c) is MessageTextContent):\n",
    "                print(f\"\\nCONTENT {j} (MessageTextContent) --> Text: {c.text.value}\")\n",
    "                for a in c.text.annotations:\n",
    "                    print(f\">>> Annotation in MessageTextContent {j} of message {i}: {a.text}\\n\")\n",
    "\n",
    "else:\n",
    "    print(f\"Sorry, I can't proceed because the run status is {run.status}\")"
   ]
  },
  {
   "cell_type": "markdown",
   "id": "4a9db027-38de-40db-a4f2-022c1796ca08",
   "metadata": {},
   "source": [
    "# Run Steps"
   ]
  },
  {
   "cell_type": "code",
   "execution_count": null,
   "id": "cd551092-22cb-465c-baa3-ff58823fbb72",
   "metadata": {},
   "outputs": [],
   "source": [
    "run_steps = project_client.agents.list_run_steps(run_id=run.id, thread_id=thread.id)\n",
    "\n",
    "print(f'Nr of run step(s): {len(run_steps[\"data\"])}\\n')\n",
    "i=0\n",
    "for rs in run_steps[\"data\"]:\n",
    "    i += 1\n",
    "    print(f\"Run step {i}: {rs}\", '\\n')"
   ]
  },
  {
   "cell_type": "markdown",
   "id": "944ec759-c053-4ab7-81aa-15cfa4961468",
   "metadata": {},
   "source": [
    "# START teardown"
   ]
  },
  {
   "cell_type": "code",
   "execution_count": null,
   "id": "11b0c075-9f1a-47ca-b8c8-ad2e9d85b477",
   "metadata": {},
   "outputs": [],
   "source": [
    "print(f\"Deleting trhead: {thread}...\")\n",
    "project_client.agents.delete_thread(thread.id)"
   ]
  },
  {
   "cell_type": "code",
   "execution_count": null,
   "id": "48399858-16e3-4b7c-a13a-aa3ed8320539",
   "metadata": {},
   "outputs": [],
   "source": [
    "# Delete all agents\n",
    "\n",
    "print(f\"{len(project_client.agents.list_agents()['data'])} agent(s) will now be deleted\")\n",
    "\n",
    "i=0\n",
    "for pca in project_client.agents.list_agents()['data']:\n",
    "    i += 1\n",
    "    project_client.agents.delete_agent(pca.id)\n",
    "    print(f\"\\n{i} - Agent {pca.name} has been deleted\")"
   ]
  },
  {
   "cell_type": "markdown",
   "id": "c8cc2b04-a0b3-45ee-9066-4306e16511f9",
   "metadata": {},
   "source": [
    "# HIC SUNT LEONES"
   ]
  }
 ],
 "metadata": {
  "kernelspec": {
   "display_name": "aaas",
   "language": "python",
   "name": "aaas"
  },
  "language_info": {
   "codemirror_mode": {
    "name": "ipython",
    "version": 3
   },
   "file_extension": ".py",
   "mimetype": "text/x-python",
   "name": "python",
   "nbconvert_exporter": "python",
   "pygments_lexer": "ipython3",
   "version": "3.13.2"
  }
 },
 "nbformat": 4,
 "nbformat_minor": 5
}
