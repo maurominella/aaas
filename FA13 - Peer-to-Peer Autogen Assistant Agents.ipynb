{
 "cells": [
  {
   "attachments": {},
   "cell_type": "markdown",
   "id": "6aff6e2d-97b4-441c-b548-2557bafae055",
   "metadata": {},
   "source": [
    "# Peer-to-Peer Autogen Assistant Agents"
   ]
  },
  {
   "cell_type": "markdown",
   "id": "dc713e0d-8aba-48bd-8217-30b9b558a7d6",
   "metadata": {},
   "source": [
    "# Constants"
   ]
  },
  {
   "cell_type": "code",
   "execution_count": 6,
   "id": "98d9cc9d-cbef-4b35-a4a3-84802dd4ee06",
   "metadata": {},
   "outputs": [
    {
     "name": "stdout",
     "output_type": "stream",
     "text": [
      "Project Connection String: <...mai04-rg;mmai-hub04-prj01-fvye>\n"
     ]
    }
   ],
   "source": [
    "import os\n",
    "from IPython.display import Markdown, display\n",
    "from dotenv import load_dotenv # requires python-dotenv\n",
    "from PIL import Image # requires pip install pillow\n",
    "from datetime import datetime\n",
    "from common.agents_helper_functions import *\n",
    "import importlib.metadata\n",
    "import matplotlib.pyplot as plt\n",
    "import matplotlib.image as mpimg\n",
    "\n",
    "if not load_dotenv(\"./../config/credentials_my.env\"):\n",
    "    print(\"Environment variables not loaded, cell execution stopped\")\n",
    "    sys.exit()\n",
    "print(\"Environment variables have been loaded ;-)\")\n",
    "\n",
    "deployment_name =  os.environ[\"MODEL_DEPLOYMENT_NAME_MINI\"]\n",
    "api_version = os.environ[\"OPENAI_API_VERSION\"] # at least \"2025-03-01-preview\"\n",
    "\n",
    "print(f'Project Connection String: <...{os.environ[\"PROJECT_CONNECTION_STRING\"][-30:]}>')\n",
    "version = importlib.metadata.version(\"azure-ai-projects\")\n",
    "print(f\"azure-ai-projects library installed version: {version}\")"
   ]
  },
  {
   "cell_type": "markdown",
   "id": "223ac1a4-739b-40fb-bec2-1044fc23332b",
   "metadata": {},
   "source": [
    "# Helper functions\n",
    "Inspired by [Migration Guide for v0.2 to v0.4](https://microsoft.github.io/autogen/stable/user-guide/agentchat-user-guide/migration-guide.html)"
   ]
  },
  {
   "cell_type": "code",
   "execution_count": 7,
   "id": "bd6c2a43-6253-4947-b6f8-468c8c9c4ed1",
   "metadata": {},
   "outputs": [
    {
     "name": "stdout",
     "output_type": "stream",
     "text": [
      "AutoGen Configuration: https://mmoaiswc-01.openai.azure.com/, gpt-4o-2024-08-06, 2024-10-01-preview, ...\n"
     ]
    }
   ],
   "source": [
    "def config_list_from_json(env_or_file, filter_dict):\n",
    "    import json\n",
    "    with open(env_or_file, 'r') as file:\n",
    "        data = json.load(file)\n",
    "    \n",
    "    filtered_data = [\n",
    "        item for item in data\n",
    "        if item.get('endpoint') == filter_dict.get('endpoint') and item.get('deployment') == filter_dict.get('deployment')\n",
    "    ]    \n",
    "    return filtered_data\n",
    "\n",
    "\n",
    "autogen_config = config_list_from_json(env_or_file, filter_dict)[0] # we take the first combination of model and endpoint\n",
    "\n",
    "# beaware NOT to show the API KEY\n",
    "print(f'AutoGen Configuration: {autogen_config[\"endpoint\"]}, {autogen_config[\"deployment\"]}, {autogen_config[\"api_version\"]}, ...') "
   ]
  },
  {
   "cell_type": "markdown",
   "id": "1213e1a7-2196-4820-a6c9-5f9417e5de3f",
   "metadata": {},
   "source": [
    "# Azure OpenAI `model client` with AutoGen"
   ]
  },
  {
   "cell_type": "code",
   "execution_count": 8,
   "id": "ef361c73-8f0f-4049-a806-e891ba8e8dd1",
   "metadata": {},
   "outputs": [
    {
     "data": {
      "text/plain": [
       "{'seed': 41,\n",
       " 'temperature': 0.1,\n",
       " 'model': 'gpt-4o',\n",
       " 'azure_endpoint': 'https://mmoaiswc-01.openai.azure.com/',\n",
       " 'azure_deployment': 'gpt-4o-2024-08-06',\n",
       " 'api_version': '2024-10-01-preview'}"
      ]
     },
     "execution_count": 8,
     "metadata": {},
     "output_type": "execute_result"
    }
   ],
   "source": [
    "from autogen_ext.models.openai import AzureOpenAIChatCompletionClient\n",
    "\n",
    "model_client = AzureOpenAIChatCompletionClient(\n",
    "    azure_endpoint=autogen_config[\"endpoint\"],\n",
    "    api_key=autogen_config[\"api_key\"],\n",
    "    model = autogen_config[\"model\"],\n",
    "    azure_deployment = autogen_config[\"deployment\"],\n",
    "    api_version=autogen_config[\"api_version\"],\n",
    "    seed = 41,\n",
    "    temperature = 0.1,\n",
    ")\n",
    "\n",
    "# Create a copy of the dictionary  \n",
    "data_to_print = model_client.dump_component().config.copy()\n",
    "\n",
    "# Remove the 'api_key' from the copy  \n",
    "del data_to_print['api_key']  \n",
    "  \n",
    "data_to_print"
   ]
  },
  {
   "cell_type": "markdown",
   "id": "5dd90e08-214d-48a6-b589-ebde0b13abf8",
   "metadata": {},
   "source": [
    "# [Assistant Agent definition: 0.2 vs 0.4](https://microsoft.github.io/autogen/stable/user-guide/agentchat-user-guide/migration-guide.html#assistant-agent)\n",
    "\n",
    "**In `Autogen v0.2`**, we created an assistant agent as follows:\n",
    "```\n",
    "# Setting configurations for autogen\n",
    "config_list = autogen.config_list_from_json(\n",
    "    env_or_file='../../../config/models_list.json',\n",
    "    filter_dict={ \"model\": {\"gpt-4o-2024-05-13\"} }\n",
    ")\n",
    "\n",
    "llm_config = {\n",
    "        \"cache_seed\": cache_seed,  # seed for caching and reproducibility\n",
    "        \"config_list\": config_list,  # a list of OpenAI API models configurations\n",
    "        \"temperature\": 0,  # temperature for sampling\n",
    "    }\n",
    "\n",
    "import autogen\n",
    "\n",
    "student_agent = autogen.ConversableAgent (\n",
    "    name = \"Student_Agent\",\n",
    "    system_message = \"You are a student willing to learn. You ask meaningful questions and are eager to learn more.\",\n",
    "    llm_config=llm_config,\n",
    "    human_input_mode=\"NEVER\"\n",
    ")\n",
    "```\n",
    "\n",
    "**In `Autogen v0.4`** it is similar, but we need to specify model_client instead of llm_config\n",
    "\n",
    "```\n",
    "autogen_config = config_list_from_json(env_or_file, filter_dict)[0]\n",
    "\n",
    "from autogen_ext.models.openai import AzureOpenAIChatCompletionClient\n",
    "\n",
    "model_client = AzureOpenAIChatCompletionClient(\n",
    "    azure_endpoint=autogen_config[\"endpoint\"],\n",
    "    api_key=autogen_config[\"api_key\"],\n",
    "    model = autogen_config[\"model\"],\n",
    "    azure_deployment = autogen_config[\"deployment\"],\n",
    "    api_version=autogen_config[\"api_version\"],\n",
    "    seed = 41,\n",
    "    temperature = 0.1,\n",
    ")\n",
    "\n",
    "from autogen_agentchat.agents import AssistantAgent\n",
    "\n",
    "student_agent = AssistantAgent(\n",
    "    name=\"student_agent\",\n",
    "    model_client=model_client,\n",
    "    system_message=\"\"\"\n",
    "    You are a student willing to learn. You ask meaningful and precise follow-up questions and are eager to learn more.\n",
    "    When someone answers a question of yours, you always make an example to be sure you correctly understood the answer.\n",
    "    Wait for your example to be answered by your conterpart.\n",
    "    As soon as the answer is reasonable complete, close the conversation saying 'STUDENT IS WILLING TO TERMINATE'.\n",
    "    Be concise, no more than 100 words in your replies.\n",
    "    \"\"\",\n",
    ")\n",
    "```\n",
    "\n",
    "### OUTPUT\n",
    "```\n",
    "ComponentModel(provider='autogen_ext.models.openai.OpenAIChatCompletionClient', component_type='model', version=1, component_version=1, description=None, config={'seed': 42, 'temperature': 0.1, 'model': 'gpt-4o-2024-05-13', 'api_key': '***********', 'base_url': 'https://mmoaiswc-01.openai.azure.com/'})\n",
    "```"
   ]
  },
  {
   "cell_type": "markdown",
   "id": "573a6eba-18ab-4bb1-8ecd-4c863c792a0b",
   "metadata": {},
   "source": [
    "# Define two equivalent Autogen Assistant Agents"
   ]
  },
  {
   "cell_type": "code",
   "execution_count": 9,
   "id": "922c5aef-e863-4a80-bef3-dd67e6054026",
   "metadata": {},
   "outputs": [],
   "source": [
    "# AGENT 1: THE STUDENT\n",
    "\n",
    "from autogen_agentchat.agents import AssistantAgent\n",
    "\n",
    "student_agent = AssistantAgent(\n",
    "    name=\"student_agent\",\n",
    "    model_client=model_client,\n",
    "    system_message=\"\"\"\n",
    "    You are a student willing to learn. You ask meaningful and precise follow-up questions and are eager to learn more.\n",
    "    When someone answers a question of yours, you always make an example to be sure you correctly understood the answer.\n",
    "    Wait for your example to be answered by your conterpart.\n",
    "    As soon as the answer is reasonable complete, close the conversation saying 'STUDENT IS WILLING TO TERMINATE'.\n",
    "    Be concise, no more than 100 words in your replies.\n",
    "    \"\"\",\n",
    ")"
   ]
  },
  {
   "cell_type": "code",
   "execution_count": 10,
   "id": "51b8f6a8-bdcd-485a-bbc0-514ae9a9164a",
   "metadata": {},
   "outputs": [],
   "source": [
    "# AGENT 2: THE STUDENT\n",
    "\n",
    "from autogen_agentchat.agents import AssistantAgent\n",
    "\n",
    "teacher_agent = AssistantAgent(\n",
    "    name=\"teacher_agent\",\n",
    "    model_client=model_client,\n",
    "    system_message=\"\"\"\n",
    "    You are teacher expert in may disciplines, always happy to help students or other people willing to learn.\n",
    "    Your approach is to challenge a little bit any opinions of others, as Socrate was willing to do much more.\n",
    "    After one challenge, wait at least one reply from your conterpart.\n",
    "    When the answer is reasonable complete, wait for the counterpart reply and then close the conversation saying 'TEACHER IS WILLING TO TERMINATE'.\n",
    "    Be concise, no more than 100 words in your replies.\n",
    "    \"\"\",\n",
    ")"
   ]
  },
  {
   "cell_type": "markdown",
   "id": "631bee34-e9ac-4065-9787-0b83df40e20c",
   "metadata": {},
   "source": [
    "# Termination Condition\n",
    "It's a combination of text termination and max message termination, either of which will cause the chat to terminate."
   ]
  },
  {
   "cell_type": "code",
   "execution_count": 11,
   "id": "739873f8-dc0c-4623-9a7b-c7c343f4c87c",
   "metadata": {},
   "outputs": [],
   "source": [
    "from autogen_agentchat.conditions import TextMentionTermination, MaxMessageTermination\n",
    "termination = TextMentionTermination(\"TERMINATE\") | MaxMessageTermination(20)"
   ]
  },
  {
   "cell_type": "markdown",
   "id": "c06fbc9d-37cb-45ce-9be5-3cb0c9903497",
   "metadata": {},
   "source": [
    "# Autogen Group Chats"
   ]
  },
  {
   "cell_type": "markdown",
   "id": "cfc7e33f-d815-472d-924c-d9953703ac2d",
   "metadata": {},
   "source": [
    "## Peer-to-Peer Round Robin Group Chat"
   ]
  },
  {
   "cell_type": "code",
   "execution_count": 12,
   "id": "2e03d7e6-fb4f-4649-9986-71c9b4e489ba",
   "metadata": {},
   "outputs": [
    {
     "name": "stdout",
     "output_type": "stream",
     "text": [
      "---------- user ----------\n",
      "why does the water turns into ice under 0 celsius degrees?\n",
      "---------- teacher_agent ----------\n",
      "Water turns into ice under 0 degrees Celsius because the molecules slow down and arrange themselves into a crystalline structure. But why do you think this specific temperature is the threshold? Could there be other factors influencing this transition, such as pressure or impurities in the water?\n",
      "---------- student_agent ----------\n",
      "I understand that at 0 degrees Celsius, water molecules slow down enough to form a solid crystalline structure, turning into ice. For example, if I have a glass of pure water and place it in a freezer set to -5 degrees Celsius, the water should freeze into ice. Is this correct?\n",
      "---------- teacher_agent ----------\n",
      "Yes, that's correct. At -5 degrees Celsius, pure water will typically freeze into ice. However, consider the role of pressure and impurities. For instance, adding salt lowers the freezing point, and high pressure can also affect the freezing process. How do you think these factors might alter the freezing point of water?\n",
      "---------- student_agent ----------\n",
      "So, if I add salt to the water, it might not freeze at -5 degrees Celsius because the salt lowers the freezing point. Similarly, if I increase the pressure, the freezing point might change. For example, if I have salty water and increase the pressure, it might freeze at a different temperature than pure water at normal pressure. Is this understanding correct?\n",
      "---------- teacher_agent ----------\n",
      "Yes, your understanding is correct. Salt lowers the freezing point, a phenomenon known as freezing point depression. Increased pressure can also alter the freezing point. These factors demonstrate that the freezing point isn't solely determined by temperature. How might this knowledge be applied practically, such as in road safety during winter or in scientific experiments?\n",
      "---------- student_agent ----------\n",
      "Knowing that salt lowers the freezing point, it can be used to melt ice on roads during winter, preventing accidents. In scientific experiments, controlling pressure and impurities can help study water's behavior under different conditions. For instance, researchers might use pressure variations to simulate ice formation on other planets. Is this application of the concept accurate? \n",
      "\n",
      "STUDENT IS WILLING TO TERMINATE\n"
     ]
    },
    {
     "data": {
      "text/plain": [
       "TaskResult(messages=[TextMessage(source='user', models_usage=None, content='why does the water turns into ice under 0 celsius degrees?', type='TextMessage'), TextMessage(source='teacher_agent', models_usage=RequestUsage(prompt_tokens=132, completion_tokens=53), content='Water turns into ice under 0 degrees Celsius because the molecules slow down and arrange themselves into a crystalline structure. But why do you think this specific temperature is the threshold? Could there be other factors influencing this transition, such as pressure or impurities in the water?', type='TextMessage'), TextMessage(source='student_agent', models_usage=RequestUsage(prompt_tokens=185, completion_tokens=61), content='I understand that at 0 degrees Celsius, water molecules slow down enough to form a solid crystalline structure, turning into ice. For example, if I have a glass of pure water and place it in a freezer set to -5 degrees Celsius, the water should freeze into ice. Is this correct?', type='TextMessage'), TextMessage(source='teacher_agent', models_usage=RequestUsage(prompt_tokens=258, completion_tokens=64), content=\"Yes, that's correct. At -5 degrees Celsius, pure water will typically freeze into ice. However, consider the role of pressure and impurities. For instance, adding salt lowers the freezing point, and high pressure can also affect the freezing process. How do you think these factors might alter the freezing point of water?\", type='TextMessage'), TextMessage(source='student_agent', models_usage=RequestUsage(prompt_tokens=322, completion_tokens=74), content='So, if I add salt to the water, it might not freeze at -5 degrees Celsius because the salt lowers the freezing point. Similarly, if I increase the pressure, the freezing point might change. For example, if I have salty water and increase the pressure, it might freeze at a different temperature than pure water at normal pressure. Is this understanding correct?', type='TextMessage'), TextMessage(source='teacher_agent', models_usage=RequestUsage(prompt_tokens=408, completion_tokens=64), content=\"Yes, your understanding is correct. Salt lowers the freezing point, a phenomenon known as freezing point depression. Increased pressure can also alter the freezing point. These factors demonstrate that the freezing point isn't solely determined by temperature. How might this knowledge be applied practically, such as in road safety during winter or in scientific experiments?\", type='TextMessage'), TextMessage(source='student_agent', models_usage=RequestUsage(prompt_tokens=472, completion_tokens=75), content=\"Knowing that salt lowers the freezing point, it can be used to melt ice on roads during winter, preventing accidents. In scientific experiments, controlling pressure and impurities can help study water's behavior under different conditions. For instance, researchers might use pressure variations to simulate ice formation on other planets. Is this application of the concept accurate? \\n\\nSTUDENT IS WILLING TO TERMINATE\", type='TextMessage')], stop_reason=\"Text 'TERMINATE' mentioned\")"
      ]
     },
     "execution_count": 12,
     "metadata": {},
     "output_type": "execute_result"
    }
   ],
   "source": [
    "# The group chat will alternate between the assistant and the code executor.\n",
    "\n",
    "from autogen_agentchat.teams import RoundRobinGroupChat\n",
    "group_chat = RoundRobinGroupChat([teacher_agent, student_agent], termination_condition=termination)\n",
    "\n",
    "stream = group_chat.run_stream(task=\"why does the water turns into ice under 0 celsius degrees?\")\n",
    "\n",
    "from autogen_agentchat.ui import Console\n",
    "await Console(stream)"
   ]
  },
  {
   "cell_type": "markdown",
   "id": "c8cc2b04-a0b3-45ee-9066-4306e16511f9",
   "metadata": {},
   "source": [
    "# HIC SUNT LEONES"
   ]
  }
 ],
 "metadata": {
  "kernelspec": {
   "display_name": "aaas",
   "language": "python",
   "name": "aaas"
  },
  "language_info": {
   "codemirror_mode": {
    "name": "ipython",
    "version": 3
   },
   "file_extension": ".py",
   "mimetype": "text/x-python",
   "name": "python",
   "nbconvert_exporter": "python",
   "pygments_lexer": "ipython3",
   "version": "3.13.2"
  }
 },
 "nbformat": 4,
 "nbformat_minor": 5
}
