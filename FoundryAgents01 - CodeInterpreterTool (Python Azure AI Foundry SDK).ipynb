{
 "cells": [
  {
   "cell_type": "markdown",
   "id": "bd7eb769-c574-4f94-a528-ff66d0b7c7b3",
   "metadata": {},
   "source": [
    "# Constants"
   ]
  },
  {
   "cell_type": "code",
   "execution_count": 1,
   "id": "08e8ed1f-3eee-4994-b057-89c0d91b8c03",
   "metadata": {},
   "outputs": [],
   "source": [
    "# ! az login --tenant 3ad0b905-34ab-4116-93d9-c1dcc2d35af6"
   ]
  },
  {
   "cell_type": "code",
   "execution_count": 2,
   "id": "98d9cc9d-cbef-4b35-a4a3-84802dd4ee06",
   "metadata": {},
   "outputs": [
    {
     "name": "stdout",
     "output_type": "stream",
     "text": [
      "Environment variables have been loaded ;-)\n",
      "Project Connection String: <...hub01-grp;mmai-swc-hub01-prj01>\n"
     ]
    }
   ],
   "source": [
    "import os\n",
    "from IPython.display import Markdown, display\n",
    "from dotenv import load_dotenv # requires python-dotenv\n",
    "\n",
    "if not load_dotenv(\"./../config/credentials_my.env\"):\n",
    "    print(\"Environment variables not loaded, cell execution stopped\")\n",
    "    sys.exit()\n",
    "print(\"Environment variables have been loaded ;-)\")\n",
    "\n",
    "deployment_name =  os.environ[\"MODEL_DEPLOYMENT_NAME_MINI\"]\n",
    "api_version = os.environ[\"OPENAI_API_VERSION\"] # at least \"2025-03-01-preview\"\n",
    "\n",
    "print(f'Project Connection String: <...{os.environ[\"PROJECT_CONNECTION_STRING\"][-30:]}>')"
   ]
  },
  {
   "cell_type": "markdown",
   "id": "d5ff8df5-3544-4646-ae90-3d794944dfe7",
   "metadata": {},
   "source": [
    "# Create AI Foundry Project Client"
   ]
  },
  {
   "cell_type": "code",
   "execution_count": 3,
   "id": "5a9abb62-b855-402f-9e22-583ffe6bf8cb",
   "metadata": {},
   "outputs": [
    {
     "data": {
      "text/plain": [
       "{'subscription_id': 'eca2eddb-0f0c-4351-a634-52751499eeea',\n",
       " 'resource_group_name': 'mmai-swc-hub01-grp',\n",
       " 'project_name': 'mmai-swc-hub01-prj01'}"
      ]
     },
     "execution_count": 3,
     "metadata": {},
     "output_type": "execute_result"
    }
   ],
   "source": [
    "from azure.ai.projects import AIProjectClient\n",
    "from azure.identity import DefaultAzureCredential\n",
    "\n",
    "project_client = AIProjectClient.from_connection_string(\n",
    "    credential=DefaultAzureCredential(), \n",
    "    conn_str=os.environ[\"PROJECT_CONNECTION_STRING\"]\n",
    ")\n",
    "\n",
    "project_client.scope"
   ]
  },
  {
   "cell_type": "markdown",
   "id": "552f8322-d880-4e5b-8a2e-dcd3e1ffd0e0",
   "metadata": {},
   "source": [
    "# Just for testing: List current AI Foundry Agents"
   ]
  },
  {
   "cell_type": "code",
   "execution_count": 4,
   "id": "334ff5d8-0377-4b0f-9c57-5ce974c05a6a",
   "metadata": {},
   "outputs": [
    {
     "data": {
      "text/plain": [
       "{'object': 'list', 'data': [{'id': 'asst_mxbc98kziO1XIJKOUbWh8R14', 'object': 'assistant', 'created_at': 1745603693, 'name': 'Sage (for AI Search, offering deep knowledge retrieval)', 'description': None, 'model': 'gpt-4o', 'instructions': '', 'tools': [], 'top_p': 1.0, 'temperature': 1.0, 'tool_resources': {}, 'metadata': {}, 'response_format': 'auto'}, {'id': 'asst_lPKlxViYS4as2edgZlwsGEPz', 'object': 'assistant', 'created_at': 1745603676, 'name': 'Navigator (for Trip Advisor, guiding users through travel insights)', 'description': None, 'model': 'gpt-4o', 'instructions': '', 'tools': [], 'top_p': 1.0, 'temperature': 1.0, 'tool_resources': {}, 'metadata': {}, 'response_format': 'auto'}, {'id': 'asst_uGwQrkuV7wIqy1X7fPVZbEU5', 'object': 'assistant', 'created_at': 1745603672, 'name': 'Insight agent (for Bing-powered search intelligence)', 'description': None, 'model': 'gpt-4o-mini', 'instructions': '', 'tools': [], 'top_p': 1.0, 'temperature': 1.0, 'tool_resources': {}, 'metadata': {}, 'response_format': 'auto'}, {'id': 'asst_P4wLkpQc1VV5tjb3XpLgNMQg', 'object': 'assistant', 'created_at': 1745603658, 'name': 'Oracle (for OpenAI-powered reasoning and content generation', 'description': None, 'model': 'gpt-4o-mini', 'instructions': '', 'tools': [], 'top_p': 1.0, 'temperature': 1.0, 'tool_resources': {}, 'metadata': {}, 'response_format': 'auto'}, {'id': 'asst_eAvAKNCADL9iW0xgtMMPgWTv', 'object': 'assistant', 'created_at': 1745603649, 'name': 'Scout (for broad web discovery and intelligence gathering)', 'description': None, 'model': 'gpt-4o-mini', 'instructions': '', 'tools': [], 'top_p': 1.0, 'temperature': 1.0, 'tool_resources': {}, 'metadata': {}, 'response_format': 'auto'}, {'id': 'asst_QpVzw6SaAtyrue9LK3eidwww', 'object': 'assistant', 'created_at': 1745603645, 'name': 'Pulse (for monitoring trends and real-time data analysis)', 'description': None, 'model': 'gpt-4o-mini', 'instructions': '', 'tools': [], 'top_p': 1.0, 'temperature': 1.0, 'tool_resources': {}, 'metadata': {}, 'response_format': 'auto'}, {'id': 'asst_gRXFM2Hb97USgxrD8Yb0kjZf', 'object': 'assistant', 'created_at': 1745603631, 'name': 'Beacon (for AI-driven recommendations and guidance)', 'description': None, 'model': 'gpt-4o-mini', 'instructions': '', 'tools': [], 'top_p': 1.0, 'temperature': 1.0, 'tool_resources': {}, 'metadata': {}, 'response_format': 'auto'}], 'first_id': 'asst_mxbc98kziO1XIJKOUbWh8R14', 'last_id': 'asst_gRXFM2Hb97USgxrD8Yb0kjZf', 'has_more': False}"
      ]
     },
     "execution_count": 4,
     "metadata": {},
     "output_type": "execute_result"
    }
   ],
   "source": [
    "agents = project_client.agents.list_agents()\n",
    "agents"
   ]
  },
  {
   "cell_type": "code",
   "execution_count": 5,
   "id": "c8e63ba3-13c6-471b-99ba-e6501f26f273",
   "metadata": {},
   "outputs": [
    {
     "data": {
      "text/plain": [
       "['asst_mxbc98kziO1XIJKOUbWh8R14: Sage (for AI Search, offering deep knowledge retrieval)',\n",
       " 'asst_lPKlxViYS4as2edgZlwsGEPz: Navigator (for Trip Advisor, guiding users through travel insights)',\n",
       " 'asst_uGwQrkuV7wIqy1X7fPVZbEU5: Insight agent (for Bing-powered search intelligence)',\n",
       " 'asst_P4wLkpQc1VV5tjb3XpLgNMQg: Oracle (for OpenAI-powered reasoning and content generation',\n",
       " 'asst_eAvAKNCADL9iW0xgtMMPgWTv: Scout (for broad web discovery and intelligence gathering)',\n",
       " 'asst_QpVzw6SaAtyrue9LK3eidwww: Pulse (for monitoring trends and real-time data analysis)',\n",
       " 'asst_gRXFM2Hb97USgxrD8Yb0kjZf: Beacon (for AI-driven recommendations and guidance)']"
      ]
     },
     "execution_count": 5,
     "metadata": {},
     "output_type": "execute_result"
    }
   ],
   "source": [
    "# easier to read ;-)\n",
    "\n",
    "[f\"{a.id}: {a.name}\" for a in agents.data]"
   ]
  },
  {
   "cell_type": "markdown",
   "id": "80eeab3e-4e0d-40ad-b522-2faf0787384f",
   "metadata": {},
   "source": [
    "# Create the CodeInterpreterTool"
   ]
  },
  {
   "cell_type": "code",
   "execution_count": 6,
   "id": "daae01d0-2496-49b4-b8ce-71714f16f9af",
   "metadata": {},
   "outputs": [
    {
     "name": "stdout",
     "output_type": "stream",
     "text": [
      "Code interpreter definitions: [{'type': 'code_interpreter'}]\n",
      "Code interpreter resources: {}\n"
     ]
    }
   ],
   "source": [
    "from azure.ai.projects.models import CodeInterpreterTool\n",
    "\n",
    "code_interpreter = CodeInterpreterTool()\n",
    "print(f\"Code interpreter definitions: {code_interpreter.definitions}\")\n",
    "print(f\"Code interpreter resources: {code_interpreter.resources}\")"
   ]
  },
  {
   "cell_type": "markdown",
   "id": "63a67348-3db6-44e4-bc75-26b01a35cfdd",
   "metadata": {},
   "source": [
    "# Create AI Foundry Agent with its CodeInterpreterTool for AI Agents"
   ]
  },
  {
   "cell_type": "code",
   "execution_count": 7,
   "id": "be53bb45-87fe-46a2-afb5-925881baf673",
   "metadata": {},
   "outputs": [
    {
     "data": {
      "text/plain": [
       "<bound method _MyMutableMapping.items of {'id': 'asst_kztRjkdTvWGlp1DYMWBwGQQd', 'object': 'assistant', 'created_at': 1745604232, 'name': 'my-agent001', 'description': None, 'model': 'gpt-4o-mini', 'instructions': 'You are a helpful agent', 'tools': [{'type': 'code_interpreter'}], 'top_p': 1.0, 'temperature': 1.0, 'tool_resources': {'code_interpreter': {'file_ids': []}}, 'metadata': {}, 'response_format': 'auto'}>"
      ]
     },
     "execution_count": 7,
     "metadata": {},
     "output_type": "execute_result"
    }
   ],
   "source": [
    "# ...then, create the AI Foundry Agent, attaching CodeInterpreterTool object\n",
    "ai_agent = project_client.agents.create_agent(\n",
    "    model=deployment_name,\n",
    "    name=\"my-agent001\",\n",
    "    instructions=\"You are a helpful agent\",\n",
    "    tools=code_interpreter.definitions,\n",
    "    tool_resources=code_interpreter.resources,\n",
    ")\n",
    "\n",
    "ai_agent.items"
   ]
  },
  {
   "cell_type": "markdown",
   "id": "c2f5701e-3363-40ff-8ef6-4450d90041e2",
   "metadata": {},
   "source": [
    "# Just for testing: create a new agent and delete it"
   ]
  },
  {
   "cell_type": "code",
   "execution_count": 8,
   "id": "45404c3b-2dd9-4319-a178-cadab401bea6",
   "metadata": {},
   "outputs": [
    {
     "name": "stdout",
     "output_type": "stream",
     "text": [
      "All agents, including the useless one:\n"
     ]
    },
    {
     "data": {
      "text/plain": [
       "['asst_r1EqIGRYSxZ0IvbTTuozxOh7: my-agent002 TO BE DELETED',\n",
       " 'asst_kztRjkdTvWGlp1DYMWBwGQQd: my-agent001',\n",
       " 'asst_mxbc98kziO1XIJKOUbWh8R14: Sage (for AI Search, offering deep knowledge retrieval)',\n",
       " 'asst_lPKlxViYS4as2edgZlwsGEPz: Navigator (for Trip Advisor, guiding users through travel insights)',\n",
       " 'asst_uGwQrkuV7wIqy1X7fPVZbEU5: Insight agent (for Bing-powered search intelligence)',\n",
       " 'asst_P4wLkpQc1VV5tjb3XpLgNMQg: Oracle (for OpenAI-powered reasoning and content generation',\n",
       " 'asst_eAvAKNCADL9iW0xgtMMPgWTv: Scout (for broad web discovery and intelligence gathering)',\n",
       " 'asst_QpVzw6SaAtyrue9LK3eidwww: Pulse (for monitoring trends and real-time data analysis)',\n",
       " 'asst_gRXFM2Hb97USgxrD8Yb0kjZf: Beacon (for AI-driven recommendations and guidance)']"
      ]
     },
     "metadata": {},
     "output_type": "display_data"
    },
    {
     "name": "stdout",
     "output_type": "stream",
     "text": [
      "\n",
      "All agents, after deleting the useless one:\n"
     ]
    },
    {
     "data": {
      "text/plain": [
       "['asst_kztRjkdTvWGlp1DYMWBwGQQd: my-agent001',\n",
       " 'asst_mxbc98kziO1XIJKOUbWh8R14: Sage (for AI Search, offering deep knowledge retrieval)',\n",
       " 'asst_lPKlxViYS4as2edgZlwsGEPz: Navigator (for Trip Advisor, guiding users through travel insights)',\n",
       " 'asst_uGwQrkuV7wIqy1X7fPVZbEU5: Insight agent (for Bing-powered search intelligence)',\n",
       " 'asst_P4wLkpQc1VV5tjb3XpLgNMQg: Oracle (for OpenAI-powered reasoning and content generation',\n",
       " 'asst_eAvAKNCADL9iW0xgtMMPgWTv: Scout (for broad web discovery and intelligence gathering)',\n",
       " 'asst_QpVzw6SaAtyrue9LK3eidwww: Pulse (for monitoring trends and real-time data analysis)',\n",
       " 'asst_gRXFM2Hb97USgxrD8Yb0kjZf: Beacon (for AI-driven recommendations and guidance)']"
      ]
     },
     "metadata": {},
     "output_type": "display_data"
    }
   ],
   "source": [
    "# Create a second agent\n",
    "ai_agent_02 = project_client.agents.create_agent(\n",
    "    model=deployment_name,\n",
    "    name=\"my-agent002 TO BE DELETED\",\n",
    "    instructions=\"You are a helpful agent\",\n",
    "    tools=code_interpreter.definitions,\n",
    "    tool_resources=code_interpreter.resources,\n",
    ")\n",
    "\n",
    "# List all agents\n",
    "print(f\"All agents, including the useless one:\")\n",
    "display([f\"{a.id}: {a.name}\" for a in project_client.agents.list_agents()['data']])\n",
    "\n",
    "project_client.agents.delete_agent(ai_agent_02.id)\n",
    "\n",
    "# List all agents\n",
    "print(f\"\\nAll agents, after deleting the useless one:\")\n",
    "display([f\"{a.id}: {a.name}\" for a in project_client.agents.list_agents()['data']])"
   ]
  },
  {
   "cell_type": "markdown",
   "id": "300f0153-3b23-4128-87b7-a3854c2d9566",
   "metadata": {},
   "source": [
    "# Create the thread and attach a new message to it"
   ]
  },
  {
   "cell_type": "code",
   "execution_count": 9,
   "id": "35d519ab-0642-4198-b484-2aca590669e9",
   "metadata": {},
   "outputs": [
    {
     "name": "stdout",
     "output_type": "stream",
     "text": [
      "Created thread: {'id': 'thread_2QztOeDdGFj17fLJvU1SpJco', 'object': 'thread', 'created_at': 1745604235, 'metadata': {}, 'tool_resources': {}}\n",
      "\n",
      "Messages: {'object': 'list', 'data': [{'id': 'msg_9ycImSmJfde5XhNKMCcCyAMP', 'object': 'thread.message', 'created_at': 1745604235, 'assistant_id': None, 'thread_id': 'thread_2QztOeDdGFj17fLJvU1SpJco', 'run_id': None, 'role': 'user', 'content': [{'type': 'text', 'text': {'value': '\\n    Could you please create a bar chart for the operating profit using \\n    the following data and provide the file to me? \\n    Company A: $1.2 million, Company B: $2.5 million, Company C: $3.0 million, \\n    Company D: $1.8 million\\n    ', 'annotations': []}}], 'attachments': [], 'metadata': {}}], 'first_id': 'msg_9ycImSmJfde5XhNKMCcCyAMP', 'last_id': 'msg_9ycImSmJfde5XhNKMCcCyAMP', 'has_more': False}\n"
     ]
    }
   ],
   "source": [
    "# Create a thread\n",
    "thread = project_client.agents.create_thread()\n",
    "\n",
    "print(f\"Created thread: {thread}\\n\")\n",
    "\n",
    "# Add a user message to the thread\n",
    "message = project_client.agents.create_message(\n",
    "    thread_id=thread.id,\n",
    "    role=\"user\",\n",
    "    content=\"\"\"\n",
    "    Could you please create a bar chart for the operating profit using \n",
    "    the following data and provide the file to me? \n",
    "    Company A: $1.2 million, Company B: $2.5 million, Company C: $3.0 million, \n",
    "    Company D: $1.8 million\n",
    "    \"\"\",\n",
    ")\n",
    "print(f\"Messages: {project_client.agents.list_messages(thread_id=thread.id)}\")"
   ]
  },
  {
   "cell_type": "markdown",
   "id": "7dec81ea-03c6-4e6c-bf49-767acd1a5928",
   "metadata": {},
   "source": [
    "# Run the agent syncrhonously"
   ]
  },
  {
   "cell_type": "code",
   "execution_count": 10,
   "id": "21ea64d8-0e95-423f-925b-74f10c1f411b",
   "metadata": {},
   "outputs": [
    {
     "name": "stdout",
     "output_type": "stream",
     "text": [
      "Run status: RunStatus.COMPLETED.\n",
      "\n",
      "Run details: {'id': 'run_dDiaMt8ThRNeZwHXIYPbnWSM', 'object': 'thread.run', 'created_at': 1745604237, 'assistant_id': 'asst_kztRjkdTvWGlp1DYMWBwGQQd', 'thread_id': 'thread_2QztOeDdGFj17fLJvU1SpJco', 'status': 'completed', 'started_at': 1745604237, 'expires_at': None, 'cancelled_at': None, 'failed_at': None, 'completed_at': 1745604244, 'required_action': None, 'last_error': None, 'model': 'gpt-4o-mini', 'instructions': 'You are a helpful agent', 'tools': [{'type': 'code_interpreter'}], 'tool_resources': {}, 'metadata': {}, 'temperature': 1.0, 'top_p': 1.0, 'max_completion_tokens': None, 'max_prompt_tokens': None, 'truncation_strategy': {'type': 'auto', 'last_messages': None}, 'incomplete_details': None, 'usage': {'prompt_tokens': 622, 'completion_tokens': 212, 'total_tokens': 834, 'prompt_token_details': {'cached_tokens': 0}}, 'response_format': 'auto', 'tool_choice': 'auto', 'parallel_tool_calls': True}\n",
      "CPU times: total: 78.1 ms\n",
      "Wall time: 9.5 s\n"
     ]
    }
   ],
   "source": [
    "%%time\n",
    "\n",
    "# Run the agent\n",
    "run = project_client.agents.create_and_process_run\\\n",
    "    (thread_id=thread.id, assistant_id=ai_agent.id)\n",
    "\n",
    "print(f\"Run status: {run.status}.\\n\\nRun details: {run}\")"
   ]
  },
  {
   "cell_type": "markdown",
   "id": "43ed4cdb-c460-4af1-8f90-2c5b55e831f9",
   "metadata": {},
   "source": [
    "# Fetch messages from the thread after the agent run execution"
   ]
  },
  {
   "cell_type": "code",
   "execution_count": 11,
   "id": "d4951eb8-88ed-422b-9ebf-bc8b88847e17",
   "metadata": {},
   "outputs": [
    {
     "data": {
      "text/plain": [
       "{'id': 'msg_N1oxN1vmSeqNwr2TPXotKjbt', 'object': 'thread.message', 'created_at': 1745604243, 'assistant_id': 'asst_kztRjkdTvWGlp1DYMWBwGQQd', 'thread_id': 'thread_2QztOeDdGFj17fLJvU1SpJco', 'run_id': 'run_dDiaMt8ThRNeZwHXIYPbnWSM', 'role': 'assistant', 'content': [{'type': 'image_file', 'image_file': {'file_id': 'assistant-Jn9ebwfDxdbtBcF2jHhjKS'}}, {'type': 'text', 'text': {'value': 'I have created the bar chart for the operating profits of the companies. You can download it using the link below:\\n\\n[Download Operating Profit Chart](sandbox:/mnt/data/operating_profit_chart.png)', 'annotations': [{'type': 'file_path', 'text': 'sandbox:/mnt/data/operating_profit_chart.png', 'start_index': 150, 'end_index': 194, 'file_path': {'file_id': 'assistant-Xtxficwj29iuWfhJ5eaTms'}}]}}], 'attachments': [{'file_id': 'assistant-Xtxficwj29iuWfhJ5eaTms', 'tools': [{'type': 'code_interpreter'}]}], 'metadata': {}}"
      ]
     },
     "metadata": {},
     "output_type": "display_data"
    },
    {
     "name": "stdout",
     "output_type": "stream",
     "text": [
      "\n",
      "\n"
     ]
    },
    {
     "data": {
      "text/plain": [
       "{'id': 'msg_9ycImSmJfde5XhNKMCcCyAMP', 'object': 'thread.message', 'created_at': 1745604235, 'assistant_id': None, 'thread_id': 'thread_2QztOeDdGFj17fLJvU1SpJco', 'run_id': None, 'role': 'user', 'content': [{'type': 'text', 'text': {'value': '\\n    Could you please create a bar chart for the operating profit using \\n    the following data and provide the file to me? \\n    Company A: $1.2 million, Company B: $2.5 million, Company C: $3.0 million, \\n    Company D: $1.8 million\\n    ', 'annotations': []}}], 'attachments': [], 'metadata': {}}"
      ]
     },
     "metadata": {},
     "output_type": "display_data"
    }
   ],
   "source": [
    "display(project_client.agents.list_messages(thread_id=thread.id)[\"data\"][0])\n",
    "print(\"\\n\")\n",
    "display(project_client.agents.list_messages(thread_id=thread.id)[\"data\"][1])"
   ]
  },
  {
   "cell_type": "code",
   "execution_count": 12,
   "id": "205ebfb0-db5f-4d3a-9ab2-493bef8374c0",
   "metadata": {},
   "outputs": [
    {
     "name": "stdout",
     "output_type": "stream",
     "text": [
      "Here are the 2 messages:\n",
      "\n",
      "\n",
      "===== MESSAGE 1 =====\n",
      "\n",
      "CONTENT 1 (MessageTextContent) --> Text: \n",
      "    Could you please create a bar chart for the operating profit using \n",
      "    the following data and provide the file to me? \n",
      "    Company A: $1.2 million, Company B: $2.5 million, Company C: $3.0 million, \n",
      "    Company D: $1.8 million\n",
      "    \n",
      "\n",
      "===== MESSAGE 2 =====\n",
      "\n",
      "CONTENT 1 (MessageImageFileContent) --> image_file id: assistant-Jn9ebwfDxdbtBcF2jHhjKS\n",
      "\n",
      "CONTENT 2 (MessageTextContent) --> Text: I have created the bar chart for the operating profits of the companies. You can download it using the link below:\n",
      "\n",
      "[Download Operating Profit Chart](sandbox:/mnt/data/operating_profit_chart.png)\n",
      ">>> Annotation in MessageTextContent 2 of message 2: sandbox:/mnt/data/operating_profit_chart.png\n",
      "\n"
     ]
    }
   ],
   "source": [
    "from azure.ai.projects.models import MessageTextContent, MessageImageFileContent\n",
    "\n",
    "if run.status == 'completed':    \n",
    "    messages = project_client.agents.list_messages(thread_id=thread.id)\n",
    "    messages_nr = len(messages.data)\n",
    "    print(f\"Here are the {messages_nr} messages:\\n\")\n",
    "    \n",
    "    for i, message in enumerate(reversed(messages.data), 1):\n",
    "        j = 0\n",
    "        print(f\"\\n===== MESSAGE {i} =====\")\n",
    "        for c in message.content:\n",
    "            j +=1\n",
    "            if (type(c) is MessageImageFileContent):\n",
    "                print(f\"\\nCONTENT {j} (MessageImageFileContent) --> image_file id: {c.image_file.file_id}\")\n",
    "            elif (type(c) is MessageTextContent):\n",
    "                print(f\"\\nCONTENT {j} (MessageTextContent) --> Text: {c.text.value}\")\n",
    "                for a in c.text.annotations:\n",
    "                    print(f\">>> Annotation in MessageTextContent {j} of message {i}: {a.text}\\n\")\n",
    "\n",
    "else:\n",
    "    print(f\"Sorry, I can't proceed because the run status is {run.status}\")"
   ]
  },
  {
   "cell_type": "markdown",
   "id": "de314be8-f7b6-4c45-bb0e-1cde9b68b92d",
   "metadata": {},
   "source": [
    "# Retrieve and download eventual annotations"
   ]
  },
  {
   "cell_type": "code",
   "execution_count": 13,
   "id": "55bcd0f8-822d-4a78-ba7f-b5d27bd2a514",
   "metadata": {},
   "outputs": [
    {
     "name": "stdout",
     "output_type": "stream",
     "text": [
      "Nr. of file path annotations: 1\n",
      "\n",
      "1 - File annotation paths: {'type': 'file_path', 'text': 'sandbox:/mnt/data/operating_profit_chart.png', 'start_index': 150, 'end_index': 194, 'file_path': {'file_id': 'assistant-Xtxficwj29iuWfhJ5eaTms'}}\n",
      "File annoation 1 saved as file to: E:\\Users\\mauromi\\source\\git_repos\\aaas\\operating_profit_chart.png\n"
     ]
    }
   ],
   "source": [
    "# messages.file_path_annotations[0].text.split('/')[-1]\n",
    "print (f\"Nr. of file path annotations: {len(messages.file_path_annotations)}\\n\")\n",
    "\n",
    "i=0\n",
    "for file_path_annotation in messages.file_path_annotations:\n",
    "    i += 1\n",
    "    print(f\"{i} - File annotation paths: {file_path_annotation}\")\n",
    "    file_name = file_path_annotation.text.split('/')[-1]\n",
    "    project_client.agents.save_file(file_id=file_path_annotation.file_path.file_id, file_name=file_name)\n",
    "    print(f\"File annoation {i} saved as file to: {os.getcwd()}\\\\{file_name}\")"
   ]
  },
  {
   "cell_type": "markdown",
   "id": "ee38e091-cd96-441b-88e1-b9aec9ca20de",
   "metadata": {},
   "source": [
    "# Retrieve and download eventual images"
   ]
  },
  {
   "cell_type": "code",
   "execution_count": 14,
   "id": "73f292e8-41e8-4bee-ad54-2d6faa8ec058",
   "metadata": {},
   "outputs": [
    {
     "name": "stdout",
     "output_type": "stream",
     "text": [
      "Nr. of image contents: 1\n",
      "\n",
      "1 - Image content: {'type': 'image_file', 'image_file': {'file_id': 'assistant-Jn9ebwfDxdbtBcF2jHhjKS'}}\n",
      "Image content 1 file to: E:\\Users\\mauromi\\source\\git_repos\\aaas\\assistant-Jn9ebwfDxdbtBcF2jHhjKS_image_content.png\n"
     ]
    }
   ],
   "source": [
    "print (f\"Nr. of image contents: {len(messages.image_contents)}\\n\")\n",
    "\n",
    "i=0\n",
    "# Generate an image file for the bar chart\n",
    "for image_content in messages.image_contents:\n",
    "    i += 1\n",
    "    print(f\"{i} - Image content: {image_content}\")\n",
    "    file_name = f\"{image_content.image_file.file_id}_image_content.png\"\n",
    "    project_client.agents.save_file(file_id=image_content.image_file.file_id, file_name=file_name)\n",
    "    print(f\"Image content {i} file to: {os.getcwd()}\\\\{file_name}\")"
   ]
  },
  {
   "cell_type": "markdown",
   "id": "c4ac27b7-1e6e-42c5-a2d7-6118ec0cf9da",
   "metadata": {},
   "source": [
    "# Teardown for *all** agents and messages"
   ]
  },
  {
   "cell_type": "markdown",
   "id": "ef786a97-a465-467f-8769-0eadbeceb331",
   "metadata": {},
   "source": [
    "- Agent 2: asst_lPKlxViYS4as2edgZlwsGEPz (Navigator (for Trip Advisor, guiding users through travel insights)) created at 2025-04-25 19:54:36...\n",
    "- Agent 3: asst_P4wLkpQc1VV5tjb3XpLgNMQg (Oracle (for OpenAI-powered reasoning and content generation) created at 2025-04-25 19:54:18...\n",
    "- Agent 4: asst_QpVzw6SaAtyrue9LK3eidwww (Pulse (for monitoring trends and real-time data analysis)) created at 2025-04-25 19:54:05...\n",
    "- Agent 5: asst_mxbc98kziO1XIJKOUbWh8R14 (Sage (for AI Search, offering deep knowledge retrieval)) created at 2025-04-25 19:54:53...\n",
    "- Agent 6: asst_eAvAKNCADL9iW0xgtMMPgWTv (Scout (for broad web discovery and intelligence gathering)) created at 2025-04-25 19:54:09...\n",
    "- Agent 7: asst_uGwQrkuV7wIqy1X7fPVZbEU5 (Insight agent (for Bing-powered search intelligence)) created at 2025-04-25 19:54:32...\n",
    "- Agent 8: asst_gRXFM2Hb97USgxrD8Yb0kjZf (Beacon (for AI-driven recommendations and guidance)) created at 2025-04-25 19:53:51..."
   ]
  },
  {
   "cell_type": "code",
   "execution_count": 51,
   "id": "d128a024-18cc-4946-b539-db5c1d21e2fe",
   "metadata": {},
   "outputs": [
    {
     "name": "stdout",
     "output_type": "stream",
     "text": [
      "\n",
      "0 agents have been successfully processed.\n"
     ]
    }
   ],
   "source": [
    "def list_agents(pc: AIProjectClient, delete:bool=False):\n",
    "    agents = pc.agents.list_agents(limit=100)['data']\n",
    "\n",
    "    i=0\n",
    "    while len(agents) > 0:\n",
    "        for agent in agents:\n",
    "            i=i+1\n",
    "            if delete:\n",
    "                print(f\"Deleting agent {i}: {agent.id} ({agent.name}) created at {datetime.fromtimestamp(agent['created_at']).strftime('%Y-%m-%d %H:%M:%S')}...\")\n",
    "                # client.beta.assistants.delete(assistant.id)\n",
    "                pc.agents.delete_agent(id = agent.id)\n",
    "            else:\n",
    "                print(f\"Agent {i}: {agent.id} ({agent.name}) created at {datetime.fromtimestamp(agent['created_at']).strftime('%Y-%m-%d %H:%M:%S')}...\")\n",
    "\n",
    "            agents.remove(agent)\n",
    "            #agents = project_client.agents.list_agents(limit=100)['data']\n",
    "    \n",
    "    print (f\"\\n{i} agents have been successfully processed.\")\n",
    "\n",
    "\n",
    "list_agents(project_client, delete=True)"
   ]
  },
  {
   "cell_type": "code",
   "execution_count": 24,
   "id": "14fe6bce-e7a7-4386-a7ce-bd4ac726d5fd",
   "metadata": {},
   "outputs": [
    {
     "name": "stdout",
     "output_type": "stream",
     "text": [
      "2025-04-25 18:03:52+00:00\n",
      "Deleting agent 1: asst_kztRjkdTvWGlp1DYMWBwGQQd (my-agent001) created at 2025-04-25 20:03:52...\n",
      "2025-04-25 17:54:53+00:00\n",
      "Deleting agent 2: asst_mxbc98kziO1XIJKOUbWh8R14 (Sage (for AI Search, offering deep knowledge retrieval)) created at 2025-04-25 19:54:53...\n",
      "2025-04-25 17:54:36+00:00\n",
      "Deleting agent 3: asst_lPKlxViYS4as2edgZlwsGEPz (Navigator (for Trip Advisor, guiding users through travel insights)) created at 2025-04-25 19:54:36...\n",
      "2025-04-25 17:54:32+00:00\n",
      "Deleting agent 4: asst_uGwQrkuV7wIqy1X7fPVZbEU5 (Insight agent (for Bing-powered search intelligence)) created at 2025-04-25 19:54:32...\n",
      "2025-04-25 17:54:18+00:00\n",
      "Deleting agent 5: asst_P4wLkpQc1VV5tjb3XpLgNMQg (Oracle (for OpenAI-powered reasoning and content generation) created at 2025-04-25 19:54:18...\n",
      "2025-04-25 17:54:09+00:00\n",
      "Deleting agent 6: asst_eAvAKNCADL9iW0xgtMMPgWTv (Scout (for broad web discovery and intelligence gathering)) created at 2025-04-25 19:54:09...\n",
      "2025-04-25 17:54:05+00:00\n",
      "Deleting agent 7: asst_QpVzw6SaAtyrue9LK3eidwww (Pulse (for monitoring trends and real-time data analysis)) created at 2025-04-25 19:54:05...\n",
      "2025-04-25 17:53:51+00:00\n",
      "Deleting agent 8: asst_gRXFM2Hb97USgxrD8Yb0kjZf (Beacon (for AI-driven recommendations and guidance)) created at 2025-04-25 19:53:51...\n",
      "2025-04-25 18:03:52+00:00\n",
      "Deleting agent 9: asst_kztRjkdTvWGlp1DYMWBwGQQd (my-agent001) created at 2025-04-25 20:03:52...\n",
      "2025-04-25 17:54:53+00:00\n",
      "Deleting agent 10: asst_mxbc98kziO1XIJKOUbWh8R14 (Sage (for AI Search, offering deep knowledge retrieval)) created at 2025-04-25 19:54:53...\n",
      "2025-04-25 17:54:36+00:00\n",
      "Deleting agent 11: asst_lPKlxViYS4as2edgZlwsGEPz (Navigator (for Trip Advisor, guiding users through travel insights)) created at 2025-04-25 19:54:36...\n",
      "2025-04-25 17:54:32+00:00\n",
      "Deleting agent 12: asst_uGwQrkuV7wIqy1X7fPVZbEU5 (Insight agent (for Bing-powered search intelligence)) created at 2025-04-25 19:54:32...\n",
      "2025-04-25 17:54:18+00:00\n",
      "Deleting agent 13: asst_P4wLkpQc1VV5tjb3XpLgNMQg (Oracle (for OpenAI-powered reasoning and content generation) created at 2025-04-25 19:54:18...\n",
      "2025-04-25 17:54:09+00:00\n",
      "Deleting agent 14: asst_eAvAKNCADL9iW0xgtMMPgWTv (Scout (for broad web discovery and intelligence gathering)) created at 2025-04-25 19:54:09...\n",
      "2025-04-25 17:54:05+00:00\n",
      "Deleting agent 15: asst_QpVzw6SaAtyrue9LK3eidwww (Pulse (for monitoring trends and real-time data analysis)) created at 2025-04-25 19:54:05...\n",
      "2025-04-25 17:53:51+00:00\n",
      "Deleting agent 16: asst_gRXFM2Hb97USgxrD8Yb0kjZf (Beacon (for AI-driven recommendations and guidance)) created at 2025-04-25 19:53:51...\n",
      "2025-04-25 18:03:52+00:00\n",
      "Deleting agent 17: asst_kztRjkdTvWGlp1DYMWBwGQQd (my-agent001) created at 2025-04-25 20:03:52...\n",
      "2025-04-25 17:54:53+00:00\n",
      "Deleting agent 18: asst_mxbc98kziO1XIJKOUbWh8R14 (Sage (for AI Search, offering deep knowledge retrieval)) created at 2025-04-25 19:54:53...\n",
      "2025-04-25 17:54:36+00:00\n",
      "Deleting agent 19: asst_lPKlxViYS4as2edgZlwsGEPz (Navigator (for Trip Advisor, guiding users through travel insights)) created at 2025-04-25 19:54:36...\n",
      "2025-04-25 17:54:32+00:00\n",
      "Deleting agent 20: asst_uGwQrkuV7wIqy1X7fPVZbEU5 (Insight agent (for Bing-powered search intelligence)) created at 2025-04-25 19:54:32...\n",
      "2025-04-25 17:54:18+00:00\n",
      "Deleting agent 21: asst_P4wLkpQc1VV5tjb3XpLgNMQg (Oracle (for OpenAI-powered reasoning and content generation) created at 2025-04-25 19:54:18...\n",
      "2025-04-25 17:54:09+00:00\n",
      "Deleting agent 22: asst_eAvAKNCADL9iW0xgtMMPgWTv (Scout (for broad web discovery and intelligence gathering)) created at 2025-04-25 19:54:09...\n",
      "2025-04-25 17:54:05+00:00\n",
      "Deleting agent 23: asst_QpVzw6SaAtyrue9LK3eidwww (Pulse (for monitoring trends and real-time data analysis)) created at 2025-04-25 19:54:05...\n",
      "2025-04-25 17:53:51+00:00\n",
      "Deleting agent 24: asst_gRXFM2Hb97USgxrD8Yb0kjZf (Beacon (for AI-driven recommendations and guidance)) created at 2025-04-25 19:53:51...\n",
      "2025-04-25 18:03:52+00:00\n",
      "Deleting agent 25: asst_kztRjkdTvWGlp1DYMWBwGQQd (my-agent001) created at 2025-04-25 20:03:52...\n",
      "2025-04-25 17:54:53+00:00\n",
      "Deleting agent 26: asst_mxbc98kziO1XIJKOUbWh8R14 (Sage (for AI Search, offering deep knowledge retrieval)) created at 2025-04-25 19:54:53...\n",
      "2025-04-25 17:54:36+00:00\n",
      "Deleting agent 27: asst_lPKlxViYS4as2edgZlwsGEPz (Navigator (for Trip Advisor, guiding users through travel insights)) created at 2025-04-25 19:54:36...\n",
      "2025-04-25 17:54:32+00:00\n",
      "Deleting agent 28: asst_uGwQrkuV7wIqy1X7fPVZbEU5 (Insight agent (for Bing-powered search intelligence)) created at 2025-04-25 19:54:32...\n",
      "2025-04-25 17:54:18+00:00\n",
      "Deleting agent 29: asst_P4wLkpQc1VV5tjb3XpLgNMQg (Oracle (for OpenAI-powered reasoning and content generation) created at 2025-04-25 19:54:18...\n",
      "2025-04-25 17:54:09+00:00\n",
      "Deleting agent 30: asst_eAvAKNCADL9iW0xgtMMPgWTv (Scout (for broad web discovery and intelligence gathering)) created at 2025-04-25 19:54:09...\n",
      "2025-04-25 17:54:05+00:00\n",
      "Deleting agent 31: asst_QpVzw6SaAtyrue9LK3eidwww (Pulse (for monitoring trends and real-time data analysis)) created at 2025-04-25 19:54:05...\n",
      "2025-04-25 17:53:51+00:00\n",
      "Deleting agent 32: asst_gRXFM2Hb97USgxrD8Yb0kjZf (Beacon (for AI-driven recommendations and guidance)) created at 2025-04-25 19:53:51...\n",
      "2025-04-25 18:03:52+00:00\n",
      "Deleting agent 33: asst_kztRjkdTvWGlp1DYMWBwGQQd (my-agent001) created at 2025-04-25 20:03:52...\n",
      "2025-04-25 17:54:53+00:00\n",
      "Deleting agent 34: asst_mxbc98kziO1XIJKOUbWh8R14 (Sage (for AI Search, offering deep knowledge retrieval)) created at 2025-04-25 19:54:53...\n",
      "2025-04-25 17:54:36+00:00\n",
      "Deleting agent 35: asst_lPKlxViYS4as2edgZlwsGEPz (Navigator (for Trip Advisor, guiding users through travel insights)) created at 2025-04-25 19:54:36...\n",
      "2025-04-25 17:54:32+00:00\n",
      "Deleting agent 36: asst_uGwQrkuV7wIqy1X7fPVZbEU5 (Insight agent (for Bing-powered search intelligence)) created at 2025-04-25 19:54:32...\n",
      "2025-04-25 17:54:18+00:00\n",
      "Deleting agent 37: asst_P4wLkpQc1VV5tjb3XpLgNMQg (Oracle (for OpenAI-powered reasoning and content generation) created at 2025-04-25 19:54:18...\n",
      "2025-04-25 17:54:09+00:00\n",
      "Deleting agent 38: asst_eAvAKNCADL9iW0xgtMMPgWTv (Scout (for broad web discovery and intelligence gathering)) created at 2025-04-25 19:54:09...\n",
      "2025-04-25 17:54:05+00:00\n",
      "Deleting agent 39: asst_QpVzw6SaAtyrue9LK3eidwww (Pulse (for monitoring trends and real-time data analysis)) created at 2025-04-25 19:54:05...\n",
      "2025-04-25 17:53:51+00:00\n",
      "Deleting agent 40: asst_gRXFM2Hb97USgxrD8Yb0kjZf (Beacon (for AI-driven recommendations and guidance)) created at 2025-04-25 19:53:51...\n",
      "2025-04-25 18:03:52+00:00\n",
      "Deleting agent 41: asst_kztRjkdTvWGlp1DYMWBwGQQd (my-agent001) created at 2025-04-25 20:03:52...\n",
      "2025-04-25 17:54:53+00:00\n",
      "Deleting agent 42: asst_mxbc98kziO1XIJKOUbWh8R14 (Sage (for AI Search, offering deep knowledge retrieval)) created at 2025-04-25 19:54:53...\n",
      "2025-04-25 17:54:36+00:00\n",
      "Deleting agent 43: asst_lPKlxViYS4as2edgZlwsGEPz (Navigator (for Trip Advisor, guiding users through travel insights)) created at 2025-04-25 19:54:36...\n",
      "2025-04-25 17:54:32+00:00\n",
      "Deleting agent 44: asst_uGwQrkuV7wIqy1X7fPVZbEU5 (Insight agent (for Bing-powered search intelligence)) created at 2025-04-25 19:54:32...\n",
      "2025-04-25 17:54:18+00:00\n",
      "Deleting agent 45: asst_P4wLkpQc1VV5tjb3XpLgNMQg (Oracle (for OpenAI-powered reasoning and content generation) created at 2025-04-25 19:54:18...\n",
      "2025-04-25 17:54:09+00:00\n",
      "Deleting agent 46: asst_eAvAKNCADL9iW0xgtMMPgWTv (Scout (for broad web discovery and intelligence gathering)) created at 2025-04-25 19:54:09...\n",
      "2025-04-25 17:54:05+00:00\n",
      "Deleting agent 47: asst_QpVzw6SaAtyrue9LK3eidwww (Pulse (for monitoring trends and real-time data analysis)) created at 2025-04-25 19:54:05...\n",
      "2025-04-25 17:53:51+00:00\n",
      "Deleting agent 48: asst_gRXFM2Hb97USgxrD8Yb0kjZf (Beacon (for AI-driven recommendations and guidance)) created at 2025-04-25 19:53:51...\n",
      "2025-04-25 18:03:52+00:00\n",
      "Deleting agent 49: asst_kztRjkdTvWGlp1DYMWBwGQQd (my-agent001) created at 2025-04-25 20:03:52...\n",
      "2025-04-25 17:54:53+00:00\n",
      "Deleting agent 50: asst_mxbc98kziO1XIJKOUbWh8R14 (Sage (for AI Search, offering deep knowledge retrieval)) created at 2025-04-25 19:54:53...\n",
      "2025-04-25 17:54:36+00:00\n",
      "Deleting agent 51: asst_lPKlxViYS4as2edgZlwsGEPz (Navigator (for Trip Advisor, guiding users through travel insights)) created at 2025-04-25 19:54:36...\n",
      "2025-04-25 17:54:32+00:00\n",
      "Deleting agent 52: asst_uGwQrkuV7wIqy1X7fPVZbEU5 (Insight agent (for Bing-powered search intelligence)) created at 2025-04-25 19:54:32...\n",
      "2025-04-25 17:54:18+00:00\n",
      "Deleting agent 53: asst_P4wLkpQc1VV5tjb3XpLgNMQg (Oracle (for OpenAI-powered reasoning and content generation) created at 2025-04-25 19:54:18...\n",
      "2025-04-25 17:54:09+00:00\n",
      "Deleting agent 54: asst_eAvAKNCADL9iW0xgtMMPgWTv (Scout (for broad web discovery and intelligence gathering)) created at 2025-04-25 19:54:09...\n",
      "2025-04-25 17:54:05+00:00\n",
      "Deleting agent 55: asst_QpVzw6SaAtyrue9LK3eidwww (Pulse (for monitoring trends and real-time data analysis)) created at 2025-04-25 19:54:05...\n",
      "2025-04-25 17:53:51+00:00\n",
      "Deleting agent 56: asst_gRXFM2Hb97USgxrD8Yb0kjZf (Beacon (for AI-driven recommendations and guidance)) created at 2025-04-25 19:53:51...\n",
      "2025-04-25 18:03:52+00:00\n",
      "Deleting agent 57: asst_kztRjkdTvWGlp1DYMWBwGQQd (my-agent001) created at 2025-04-25 20:03:52...\n",
      "2025-04-25 17:54:53+00:00\n",
      "Deleting agent 58: asst_mxbc98kziO1XIJKOUbWh8R14 (Sage (for AI Search, offering deep knowledge retrieval)) created at 2025-04-25 19:54:53...\n",
      "2025-04-25 17:54:36+00:00\n",
      "Deleting agent 59: asst_lPKlxViYS4as2edgZlwsGEPz (Navigator (for Trip Advisor, guiding users through travel insights)) created at 2025-04-25 19:54:36...\n",
      "2025-04-25 17:54:32+00:00\n",
      "Deleting agent 60: asst_uGwQrkuV7wIqy1X7fPVZbEU5 (Insight agent (for Bing-powered search intelligence)) created at 2025-04-25 19:54:32...\n",
      "2025-04-25 17:54:18+00:00\n",
      "Deleting agent 61: asst_P4wLkpQc1VV5tjb3XpLgNMQg (Oracle (for OpenAI-powered reasoning and content generation) created at 2025-04-25 19:54:18...\n",
      "2025-04-25 17:54:09+00:00\n",
      "Deleting agent 62: asst_eAvAKNCADL9iW0xgtMMPgWTv (Scout (for broad web discovery and intelligence gathering)) created at 2025-04-25 19:54:09...\n",
      "2025-04-25 17:54:05+00:00\n",
      "Deleting agent 63: asst_QpVzw6SaAtyrue9LK3eidwww (Pulse (for monitoring trends and real-time data analysis)) created at 2025-04-25 19:54:05...\n",
      "2025-04-25 17:53:51+00:00\n",
      "Deleting agent 64: asst_gRXFM2Hb97USgxrD8Yb0kjZf (Beacon (for AI-driven recommendations and guidance)) created at 2025-04-25 19:53:51...\n",
      "2025-04-25 18:03:52+00:00\n",
      "Deleting agent 65: asst_kztRjkdTvWGlp1DYMWBwGQQd (my-agent001) created at 2025-04-25 20:03:52...\n",
      "2025-04-25 17:54:53+00:00\n",
      "Deleting agent 66: asst_mxbc98kziO1XIJKOUbWh8R14 (Sage (for AI Search, offering deep knowledge retrieval)) created at 2025-04-25 19:54:53...\n",
      "2025-04-25 17:54:36+00:00\n",
      "Deleting agent 67: asst_lPKlxViYS4as2edgZlwsGEPz (Navigator (for Trip Advisor, guiding users through travel insights)) created at 2025-04-25 19:54:36...\n",
      "2025-04-25 17:54:32+00:00\n",
      "Deleting agent 68: asst_uGwQrkuV7wIqy1X7fPVZbEU5 (Insight agent (for Bing-powered search intelligence)) created at 2025-04-25 19:54:32...\n",
      "2025-04-25 17:54:18+00:00\n",
      "Deleting agent 69: asst_P4wLkpQc1VV5tjb3XpLgNMQg (Oracle (for OpenAI-powered reasoning and content generation) created at 2025-04-25 19:54:18...\n",
      "2025-04-25 17:54:09+00:00\n",
      "Deleting agent 70: asst_eAvAKNCADL9iW0xgtMMPgWTv (Scout (for broad web discovery and intelligence gathering)) created at 2025-04-25 19:54:09...\n",
      "2025-04-25 17:54:05+00:00\n",
      "Deleting agent 71: asst_QpVzw6SaAtyrue9LK3eidwww (Pulse (for monitoring trends and real-time data analysis)) created at 2025-04-25 19:54:05...\n",
      "2025-04-25 17:53:51+00:00\n",
      "Deleting agent 72: asst_gRXFM2Hb97USgxrD8Yb0kjZf (Beacon (for AI-driven recommendations and guidance)) created at 2025-04-25 19:53:51...\n",
      "2025-04-25 18:03:52+00:00\n",
      "Deleting agent 73: asst_kztRjkdTvWGlp1DYMWBwGQQd (my-agent001) created at 2025-04-25 20:03:52...\n",
      "2025-04-25 17:54:53+00:00\n",
      "Deleting agent 74: asst_mxbc98kziO1XIJKOUbWh8R14 (Sage (for AI Search, offering deep knowledge retrieval)) created at 2025-04-25 19:54:53...\n",
      "2025-04-25 17:54:36+00:00\n",
      "Deleting agent 75: asst_lPKlxViYS4as2edgZlwsGEPz (Navigator (for Trip Advisor, guiding users through travel insights)) created at 2025-04-25 19:54:36...\n",
      "2025-04-25 17:54:32+00:00\n",
      "Deleting agent 76: asst_uGwQrkuV7wIqy1X7fPVZbEU5 (Insight agent (for Bing-powered search intelligence)) created at 2025-04-25 19:54:32...\n",
      "2025-04-25 17:54:18+00:00\n",
      "Deleting agent 77: asst_P4wLkpQc1VV5tjb3XpLgNMQg (Oracle (for OpenAI-powered reasoning and content generation) created at 2025-04-25 19:54:18...\n",
      "2025-04-25 17:54:09+00:00\n",
      "Deleting agent 78: asst_eAvAKNCADL9iW0xgtMMPgWTv (Scout (for broad web discovery and intelligence gathering)) created at 2025-04-25 19:54:09...\n",
      "2025-04-25 17:54:05+00:00\n",
      "Deleting agent 79: asst_QpVzw6SaAtyrue9LK3eidwww (Pulse (for monitoring trends and real-time data analysis)) created at 2025-04-25 19:54:05...\n",
      "2025-04-25 17:53:51+00:00\n",
      "Deleting agent 80: asst_gRXFM2Hb97USgxrD8Yb0kjZf (Beacon (for AI-driven recommendations and guidance)) created at 2025-04-25 19:53:51...\n",
      "2025-04-25 18:03:52+00:00\n",
      "Deleting agent 81: asst_kztRjkdTvWGlp1DYMWBwGQQd (my-agent001) created at 2025-04-25 20:03:52...\n",
      "2025-04-25 17:54:53+00:00\n",
      "Deleting agent 82: asst_mxbc98kziO1XIJKOUbWh8R14 (Sage (for AI Search, offering deep knowledge retrieval)) created at 2025-04-25 19:54:53...\n",
      "2025-04-25 17:54:36+00:00\n",
      "Deleting agent 83: asst_lPKlxViYS4as2edgZlwsGEPz (Navigator (for Trip Advisor, guiding users through travel insights)) created at 2025-04-25 19:54:36...\n",
      "2025-04-25 17:54:32+00:00\n",
      "Deleting agent 84: asst_uGwQrkuV7wIqy1X7fPVZbEU5 (Insight agent (for Bing-powered search intelligence)) created at 2025-04-25 19:54:32...\n",
      "2025-04-25 17:54:18+00:00\n",
      "Deleting agent 85: asst_P4wLkpQc1VV5tjb3XpLgNMQg (Oracle (for OpenAI-powered reasoning and content generation) created at 2025-04-25 19:54:18...\n",
      "2025-04-25 17:54:09+00:00\n",
      "Deleting agent 86: asst_eAvAKNCADL9iW0xgtMMPgWTv (Scout (for broad web discovery and intelligence gathering)) created at 2025-04-25 19:54:09...\n",
      "2025-04-25 17:54:05+00:00\n",
      "Deleting agent 87: asst_QpVzw6SaAtyrue9LK3eidwww (Pulse (for monitoring trends and real-time data analysis)) created at 2025-04-25 19:54:05...\n",
      "2025-04-25 17:53:51+00:00\n",
      "Deleting agent 88: asst_gRXFM2Hb97USgxrD8Yb0kjZf (Beacon (for AI-driven recommendations and guidance)) created at 2025-04-25 19:53:51...\n",
      "2025-04-25 18:03:52+00:00\n",
      "Deleting agent 89: asst_kztRjkdTvWGlp1DYMWBwGQQd (my-agent001) created at 2025-04-25 20:03:52...\n",
      "2025-04-25 17:54:53+00:00\n",
      "Deleting agent 90: asst_mxbc98kziO1XIJKOUbWh8R14 (Sage (for AI Search, offering deep knowledge retrieval)) created at 2025-04-25 19:54:53...\n",
      "2025-04-25 17:54:36+00:00\n",
      "Deleting agent 91: asst_lPKlxViYS4as2edgZlwsGEPz (Navigator (for Trip Advisor, guiding users through travel insights)) created at 2025-04-25 19:54:36...\n",
      "2025-04-25 17:54:32+00:00\n",
      "Deleting agent 92: asst_uGwQrkuV7wIqy1X7fPVZbEU5 (Insight agent (for Bing-powered search intelligence)) created at 2025-04-25 19:54:32...\n",
      "2025-04-25 17:54:18+00:00\n",
      "Deleting agent 93: asst_P4wLkpQc1VV5tjb3XpLgNMQg (Oracle (for OpenAI-powered reasoning and content generation) created at 2025-04-25 19:54:18...\n",
      "2025-04-25 17:54:09+00:00\n",
      "Deleting agent 94: asst_eAvAKNCADL9iW0xgtMMPgWTv (Scout (for broad web discovery and intelligence gathering)) created at 2025-04-25 19:54:09...\n",
      "2025-04-25 17:54:05+00:00\n",
      "Deleting agent 95: asst_QpVzw6SaAtyrue9LK3eidwww (Pulse (for monitoring trends and real-time data analysis)) created at 2025-04-25 19:54:05...\n",
      "2025-04-25 17:53:51+00:00\n",
      "Deleting agent 96: asst_gRXFM2Hb97USgxrD8Yb0kjZf (Beacon (for AI-driven recommendations and guidance)) created at 2025-04-25 19:53:51...\n",
      "2025-04-25 18:03:52+00:00\n",
      "Deleting agent 97: asst_kztRjkdTvWGlp1DYMWBwGQQd (my-agent001) created at 2025-04-25 20:03:52...\n",
      "2025-04-25 17:54:53+00:00\n",
      "Deleting agent 98: asst_mxbc98kziO1XIJKOUbWh8R14 (Sage (for AI Search, offering deep knowledge retrieval)) created at 2025-04-25 19:54:53...\n",
      "2025-04-25 17:54:36+00:00\n",
      "Deleting agent 99: asst_lPKlxViYS4as2edgZlwsGEPz (Navigator (for Trip Advisor, guiding users through travel insights)) created at 2025-04-25 19:54:36...\n",
      "2025-04-25 17:54:32+00:00\n",
      "Deleting agent 100: asst_uGwQrkuV7wIqy1X7fPVZbEU5 (Insight agent (for Bing-powered search intelligence)) created at 2025-04-25 19:54:32...\n",
      "2025-04-25 17:54:18+00:00\n",
      "Deleting agent 101: asst_P4wLkpQc1VV5tjb3XpLgNMQg (Oracle (for OpenAI-powered reasoning and content generation) created at 2025-04-25 19:54:18...\n",
      "2025-04-25 17:54:09+00:00\n",
      "Deleting agent 102: asst_eAvAKNCADL9iW0xgtMMPgWTv (Scout (for broad web discovery and intelligence gathering)) created at 2025-04-25 19:54:09...\n",
      "2025-04-25 17:54:05+00:00\n",
      "Deleting agent 103: asst_QpVzw6SaAtyrue9LK3eidwww (Pulse (for monitoring trends and real-time data analysis)) created at 2025-04-25 19:54:05...\n",
      "2025-04-25 17:53:51+00:00\n",
      "Deleting agent 104: asst_gRXFM2Hb97USgxrD8Yb0kjZf (Beacon (for AI-driven recommendations and guidance)) created at 2025-04-25 19:53:51...\n",
      "2025-04-25 18:03:52+00:00\n",
      "Deleting agent 105: asst_kztRjkdTvWGlp1DYMWBwGQQd (my-agent001) created at 2025-04-25 20:03:52...\n",
      "2025-04-25 17:54:53+00:00\n",
      "Deleting agent 106: asst_mxbc98kziO1XIJKOUbWh8R14 (Sage (for AI Search, offering deep knowledge retrieval)) created at 2025-04-25 19:54:53...\n",
      "2025-04-25 17:54:36+00:00\n",
      "Deleting agent 107: asst_lPKlxViYS4as2edgZlwsGEPz (Navigator (for Trip Advisor, guiding users through travel insights)) created at 2025-04-25 19:54:36...\n",
      "2025-04-25 17:54:32+00:00\n",
      "Deleting agent 108: asst_uGwQrkuV7wIqy1X7fPVZbEU5 (Insight agent (for Bing-powered search intelligence)) created at 2025-04-25 19:54:32...\n",
      "2025-04-25 17:54:18+00:00\n",
      "Deleting agent 109: asst_P4wLkpQc1VV5tjb3XpLgNMQg (Oracle (for OpenAI-powered reasoning and content generation) created at 2025-04-25 19:54:18...\n",
      "2025-04-25 17:54:09+00:00\n",
      "Deleting agent 110: asst_eAvAKNCADL9iW0xgtMMPgWTv (Scout (for broad web discovery and intelligence gathering)) created at 2025-04-25 19:54:09...\n",
      "2025-04-25 17:54:05+00:00\n",
      "Deleting agent 111: asst_QpVzw6SaAtyrue9LK3eidwww (Pulse (for monitoring trends and real-time data analysis)) created at 2025-04-25 19:54:05...\n",
      "2025-04-25 17:53:51+00:00\n",
      "Deleting agent 112: asst_gRXFM2Hb97USgxrD8Yb0kjZf (Beacon (for AI-driven recommendations and guidance)) created at 2025-04-25 19:53:51...\n",
      "2025-04-25 18:03:52+00:00\n",
      "Deleting agent 113: asst_kztRjkdTvWGlp1DYMWBwGQQd (my-agent001) created at 2025-04-25 20:03:52...\n",
      "2025-04-25 17:54:53+00:00\n",
      "Deleting agent 114: asst_mxbc98kziO1XIJKOUbWh8R14 (Sage (for AI Search, offering deep knowledge retrieval)) created at 2025-04-25 19:54:53...\n",
      "2025-04-25 17:54:36+00:00\n",
      "Deleting agent 115: asst_lPKlxViYS4as2edgZlwsGEPz (Navigator (for Trip Advisor, guiding users through travel insights)) created at 2025-04-25 19:54:36...\n",
      "2025-04-25 17:54:32+00:00\n",
      "Deleting agent 116: asst_uGwQrkuV7wIqy1X7fPVZbEU5 (Insight agent (for Bing-powered search intelligence)) created at 2025-04-25 19:54:32...\n",
      "2025-04-25 17:54:18+00:00\n",
      "Deleting agent 117: asst_P4wLkpQc1VV5tjb3XpLgNMQg (Oracle (for OpenAI-powered reasoning and content generation) created at 2025-04-25 19:54:18...\n",
      "2025-04-25 17:54:09+00:00\n",
      "Deleting agent 118: asst_eAvAKNCADL9iW0xgtMMPgWTv (Scout (for broad web discovery and intelligence gathering)) created at 2025-04-25 19:54:09...\n",
      "2025-04-25 17:54:05+00:00\n",
      "Deleting agent 119: asst_QpVzw6SaAtyrue9LK3eidwww (Pulse (for monitoring trends and real-time data analysis)) created at 2025-04-25 19:54:05...\n",
      "2025-04-25 17:53:51+00:00\n",
      "Deleting agent 120: asst_gRXFM2Hb97USgxrD8Yb0kjZf (Beacon (for AI-driven recommendations and guidance)) created at 2025-04-25 19:53:51...\n",
      "2025-04-25 18:03:52+00:00\n",
      "Deleting agent 121: asst_kztRjkdTvWGlp1DYMWBwGQQd (my-agent001) created at 2025-04-25 20:03:52...\n",
      "2025-04-25 17:54:53+00:00\n",
      "Deleting agent 122: asst_mxbc98kziO1XIJKOUbWh8R14 (Sage (for AI Search, offering deep knowledge retrieval)) created at 2025-04-25 19:54:53...\n",
      "2025-04-25 17:54:36+00:00\n",
      "Deleting agent 123: asst_lPKlxViYS4as2edgZlwsGEPz (Navigator (for Trip Advisor, guiding users through travel insights)) created at 2025-04-25 19:54:36...\n",
      "2025-04-25 17:54:32+00:00\n",
      "Deleting agent 124: asst_uGwQrkuV7wIqy1X7fPVZbEU5 (Insight agent (for Bing-powered search intelligence)) created at 2025-04-25 19:54:32...\n",
      "2025-04-25 17:54:18+00:00\n",
      "Deleting agent 125: asst_P4wLkpQc1VV5tjb3XpLgNMQg (Oracle (for OpenAI-powered reasoning and content generation) created at 2025-04-25 19:54:18...\n",
      "2025-04-25 17:54:09+00:00\n",
      "Deleting agent 126: asst_eAvAKNCADL9iW0xgtMMPgWTv (Scout (for broad web discovery and intelligence gathering)) created at 2025-04-25 19:54:09...\n",
      "2025-04-25 17:54:05+00:00\n",
      "Deleting agent 127: asst_QpVzw6SaAtyrue9LK3eidwww (Pulse (for monitoring trends and real-time data analysis)) created at 2025-04-25 19:54:05...\n",
      "2025-04-25 17:53:51+00:00\n",
      "Deleting agent 128: asst_gRXFM2Hb97USgxrD8Yb0kjZf (Beacon (for AI-driven recommendations and guidance)) created at 2025-04-25 19:53:51...\n",
      "2025-04-25 18:03:52+00:00\n",
      "Deleting agent 129: asst_kztRjkdTvWGlp1DYMWBwGQQd (my-agent001) created at 2025-04-25 20:03:52...\n",
      "2025-04-25 17:54:53+00:00\n",
      "Deleting agent 130: asst_mxbc98kziO1XIJKOUbWh8R14 (Sage (for AI Search, offering deep knowledge retrieval)) created at 2025-04-25 19:54:53...\n",
      "2025-04-25 17:54:36+00:00\n",
      "Deleting agent 131: asst_lPKlxViYS4as2edgZlwsGEPz (Navigator (for Trip Advisor, guiding users through travel insights)) created at 2025-04-25 19:54:36...\n",
      "2025-04-25 17:54:32+00:00\n",
      "Deleting agent 132: asst_uGwQrkuV7wIqy1X7fPVZbEU5 (Insight agent (for Bing-powered search intelligence)) created at 2025-04-25 19:54:32...\n",
      "2025-04-25 17:54:18+00:00\n",
      "Deleting agent 133: asst_P4wLkpQc1VV5tjb3XpLgNMQg (Oracle (for OpenAI-powered reasoning and content generation) created at 2025-04-25 19:54:18...\n",
      "2025-04-25 17:54:09+00:00\n",
      "Deleting agent 134: asst_eAvAKNCADL9iW0xgtMMPgWTv (Scout (for broad web discovery and intelligence gathering)) created at 2025-04-25 19:54:09...\n",
      "2025-04-25 17:54:05+00:00\n",
      "Deleting agent 135: asst_QpVzw6SaAtyrue9LK3eidwww (Pulse (for monitoring trends and real-time data analysis)) created at 2025-04-25 19:54:05...\n",
      "2025-04-25 17:53:51+00:00\n",
      "Deleting agent 136: asst_gRXFM2Hb97USgxrD8Yb0kjZf (Beacon (for AI-driven recommendations and guidance)) created at 2025-04-25 19:53:51...\n",
      "2025-04-25 18:03:52+00:00\n",
      "Deleting agent 137: asst_kztRjkdTvWGlp1DYMWBwGQQd (my-agent001) created at 2025-04-25 20:03:52...\n",
      "2025-04-25 17:54:53+00:00\n",
      "Deleting agent 138: asst_mxbc98kziO1XIJKOUbWh8R14 (Sage (for AI Search, offering deep knowledge retrieval)) created at 2025-04-25 19:54:53...\n",
      "2025-04-25 17:54:36+00:00\n",
      "Deleting agent 139: asst_lPKlxViYS4as2edgZlwsGEPz (Navigator (for Trip Advisor, guiding users through travel insights)) created at 2025-04-25 19:54:36...\n",
      "2025-04-25 17:54:32+00:00\n",
      "Deleting agent 140: asst_uGwQrkuV7wIqy1X7fPVZbEU5 (Insight agent (for Bing-powered search intelligence)) created at 2025-04-25 19:54:32...\n",
      "2025-04-25 17:54:18+00:00\n",
      "Deleting agent 141: asst_P4wLkpQc1VV5tjb3XpLgNMQg (Oracle (for OpenAI-powered reasoning and content generation) created at 2025-04-25 19:54:18...\n",
      "2025-04-25 17:54:09+00:00\n",
      "Deleting agent 142: asst_eAvAKNCADL9iW0xgtMMPgWTv (Scout (for broad web discovery and intelligence gathering)) created at 2025-04-25 19:54:09...\n",
      "2025-04-25 17:54:05+00:00\n",
      "Deleting agent 143: asst_QpVzw6SaAtyrue9LK3eidwww (Pulse (for monitoring trends and real-time data analysis)) created at 2025-04-25 19:54:05...\n",
      "2025-04-25 17:53:51+00:00\n",
      "Deleting agent 144: asst_gRXFM2Hb97USgxrD8Yb0kjZf (Beacon (for AI-driven recommendations and guidance)) created at 2025-04-25 19:53:51...\n",
      "2025-04-25 18:03:52+00:00\n",
      "Deleting agent 145: asst_kztRjkdTvWGlp1DYMWBwGQQd (my-agent001) created at 2025-04-25 20:03:52...\n",
      "2025-04-25 17:54:53+00:00\n",
      "Deleting agent 146: asst_mxbc98kziO1XIJKOUbWh8R14 (Sage (for AI Search, offering deep knowledge retrieval)) created at 2025-04-25 19:54:53...\n",
      "2025-04-25 17:54:36+00:00\n",
      "Deleting agent 147: asst_lPKlxViYS4as2edgZlwsGEPz (Navigator (for Trip Advisor, guiding users through travel insights)) created at 2025-04-25 19:54:36...\n",
      "2025-04-25 17:54:32+00:00\n",
      "Deleting agent 148: asst_uGwQrkuV7wIqy1X7fPVZbEU5 (Insight agent (for Bing-powered search intelligence)) created at 2025-04-25 19:54:32...\n",
      "2025-04-25 17:54:18+00:00\n",
      "Deleting agent 149: asst_P4wLkpQc1VV5tjb3XpLgNMQg (Oracle (for OpenAI-powered reasoning and content generation) created at 2025-04-25 19:54:18...\n",
      "2025-04-25 17:54:09+00:00\n",
      "Deleting agent 150: asst_eAvAKNCADL9iW0xgtMMPgWTv (Scout (for broad web discovery and intelligence gathering)) created at 2025-04-25 19:54:09...\n",
      "2025-04-25 17:54:05+00:00\n",
      "Deleting agent 151: asst_QpVzw6SaAtyrue9LK3eidwww (Pulse (for monitoring trends and real-time data analysis)) created at 2025-04-25 19:54:05...\n",
      "2025-04-25 17:53:51+00:00\n",
      "Deleting agent 152: asst_gRXFM2Hb97USgxrD8Yb0kjZf (Beacon (for AI-driven recommendations and guidance)) created at 2025-04-25 19:53:51...\n",
      "2025-04-25 18:03:52+00:00\n",
      "Deleting agent 153: asst_kztRjkdTvWGlp1DYMWBwGQQd (my-agent001) created at 2025-04-25 20:03:52...\n",
      "2025-04-25 17:54:53+00:00\n",
      "Deleting agent 154: asst_mxbc98kziO1XIJKOUbWh8R14 (Sage (for AI Search, offering deep knowledge retrieval)) created at 2025-04-25 19:54:53...\n",
      "2025-04-25 17:54:36+00:00\n",
      "Deleting agent 155: asst_lPKlxViYS4as2edgZlwsGEPz (Navigator (for Trip Advisor, guiding users through travel insights)) created at 2025-04-25 19:54:36...\n",
      "2025-04-25 17:54:32+00:00\n",
      "Deleting agent 156: asst_uGwQrkuV7wIqy1X7fPVZbEU5 (Insight agent (for Bing-powered search intelligence)) created at 2025-04-25 19:54:32...\n",
      "2025-04-25 17:54:18+00:00\n",
      "Deleting agent 157: asst_P4wLkpQc1VV5tjb3XpLgNMQg (Oracle (for OpenAI-powered reasoning and content generation) created at 2025-04-25 19:54:18...\n",
      "2025-04-25 17:54:09+00:00\n",
      "Deleting agent 158: asst_eAvAKNCADL9iW0xgtMMPgWTv (Scout (for broad web discovery and intelligence gathering)) created at 2025-04-25 19:54:09...\n",
      "2025-04-25 17:54:05+00:00\n",
      "Deleting agent 159: asst_QpVzw6SaAtyrue9LK3eidwww (Pulse (for monitoring trends and real-time data analysis)) created at 2025-04-25 19:54:05...\n",
      "2025-04-25 17:53:51+00:00\n",
      "Deleting agent 160: asst_gRXFM2Hb97USgxrD8Yb0kjZf (Beacon (for AI-driven recommendations and guidance)) created at 2025-04-25 19:53:51...\n"
     ]
    },
    {
     "ename": "KeyboardInterrupt",
     "evalue": "",
     "output_type": "error",
     "traceback": [
      "\u001b[1;31m---------------------------------------------------------------------------\u001b[0m",
      "\u001b[1;31mKeyboardInterrupt\u001b[0m                         Traceback (most recent call last)",
      "Cell \u001b[1;32mIn[24], line 12\u001b[0m\n\u001b[0;32m      9\u001b[0m         \u001b[38;5;28mprint\u001b[39m(\u001b[38;5;124mf\u001b[39m\u001b[38;5;124m\"\u001b[39m\u001b[38;5;124mDeleting agent \u001b[39m\u001b[38;5;132;01m{\u001b[39;00mi\u001b[38;5;132;01m}\u001b[39;00m\u001b[38;5;124m: \u001b[39m\u001b[38;5;132;01m{\u001b[39;00magent\u001b[38;5;241m.\u001b[39mid\u001b[38;5;132;01m}\u001b[39;00m\u001b[38;5;124m (\u001b[39m\u001b[38;5;132;01m{\u001b[39;00magent\u001b[38;5;241m.\u001b[39mname\u001b[38;5;132;01m}\u001b[39;00m\u001b[38;5;124m) created at \u001b[39m\u001b[38;5;132;01m{\u001b[39;00mdatetime\u001b[38;5;241m.\u001b[39mfromtimestamp(agent[\u001b[38;5;124m'\u001b[39m\u001b[38;5;124mcreated_at\u001b[39m\u001b[38;5;124m'\u001b[39m])\u001b[38;5;241m.\u001b[39mstrftime(\u001b[38;5;124m'\u001b[39m\u001b[38;5;124m%\u001b[39m\u001b[38;5;124mY-\u001b[39m\u001b[38;5;124m%\u001b[39m\u001b[38;5;124mm-\u001b[39m\u001b[38;5;132;01m%d\u001b[39;00m\u001b[38;5;124m \u001b[39m\u001b[38;5;124m%\u001b[39m\u001b[38;5;124mH:\u001b[39m\u001b[38;5;124m%\u001b[39m\u001b[38;5;124mM:\u001b[39m\u001b[38;5;124m%\u001b[39m\u001b[38;5;124mS\u001b[39m\u001b[38;5;124m'\u001b[39m)\u001b[38;5;132;01m}\u001b[39;00m\u001b[38;5;124m...\u001b[39m\u001b[38;5;124m\"\u001b[39m)\n\u001b[0;32m     10\u001b[0m         \u001b[38;5;66;03m# print(f\"Deleting agent {i}: {agent.id} ({agent.name}) created at {datetime.fromtimestamp(agent.created_at)}...\")\u001b[39;00m\n\u001b[0;32m     11\u001b[0m         \u001b[38;5;66;03m# client.beta.assistants.delete(assistant.id)\u001b[39;00m\n\u001b[1;32m---> 12\u001b[0m     agents \u001b[38;5;241m=\u001b[39m \u001b[43mproject_client\u001b[49m\u001b[38;5;241;43m.\u001b[39;49m\u001b[43magents\u001b[49m\u001b[38;5;241;43m.\u001b[39;49m\u001b[43mlist_agents\u001b[49m\u001b[43m(\u001b[49m\u001b[43mlimit\u001b[49m\u001b[38;5;241;43m=\u001b[39;49m\u001b[38;5;241;43m100\u001b[39;49m\u001b[43m)\u001b[49m[\u001b[38;5;124m'\u001b[39m\u001b[38;5;124mdata\u001b[39m\u001b[38;5;124m'\u001b[39m]\n\u001b[0;32m     14\u001b[0m \u001b[38;5;28mprint\u001b[39m (\u001b[38;5;124mf\u001b[39m\u001b[38;5;124m\"\u001b[39m\u001b[38;5;130;01m\\n\u001b[39;00m\u001b[38;5;132;01m{\u001b[39;00mi\u001b[38;5;132;01m}\u001b[39;00m\u001b[38;5;124m agents have been successfully deleted.\u001b[39m\u001b[38;5;124m\"\u001b[39m)\n",
      "File \u001b[1;32mD:\\ProgramData\\miniconda3\\envs\\aaas\\Lib\\site-packages\\azure\\core\\tracing\\decorator.py:105\u001b[0m, in \u001b[0;36mdistributed_trace.<locals>.decorator.<locals>.wrapper_use_tracer\u001b[1;34m(*args, **kwargs)\u001b[0m\n\u001b[0;32m    103\u001b[0m span_impl_type \u001b[38;5;241m=\u001b[39m settings\u001b[38;5;241m.\u001b[39mtracing_implementation()\n\u001b[0;32m    104\u001b[0m \u001b[38;5;28;01mif\u001b[39;00m span_impl_type \u001b[38;5;129;01mis\u001b[39;00m \u001b[38;5;28;01mNone\u001b[39;00m:\n\u001b[1;32m--> 105\u001b[0m     \u001b[38;5;28;01mreturn\u001b[39;00m \u001b[43mfunc\u001b[49m\u001b[43m(\u001b[49m\u001b[38;5;241;43m*\u001b[39;49m\u001b[43margs\u001b[49m\u001b[43m,\u001b[49m\u001b[43m \u001b[49m\u001b[38;5;241;43m*\u001b[39;49m\u001b[38;5;241;43m*\u001b[39;49m\u001b[43mkwargs\u001b[49m\u001b[43m)\u001b[49m\n\u001b[0;32m    107\u001b[0m \u001b[38;5;66;03m# Merge span is parameter is set, but only if no explicit parent are passed\u001b[39;00m\n\u001b[0;32m    108\u001b[0m \u001b[38;5;28;01mif\u001b[39;00m merge_span \u001b[38;5;129;01mand\u001b[39;00m \u001b[38;5;129;01mnot\u001b[39;00m passed_in_parent:\n",
      "File \u001b[1;32mD:\\ProgramData\\miniconda3\\envs\\aaas\\Lib\\site-packages\\azure\\ai\\projects\\operations\\_operations.py:1833\u001b[0m, in \u001b[0;36mAgentsOperations.list_agents\u001b[1;34m(self, limit, order, after, before, **kwargs)\u001b[0m\n\u001b[0;32m   1830\u001b[0m _request\u001b[38;5;241m.\u001b[39murl \u001b[38;5;241m=\u001b[39m \u001b[38;5;28mself\u001b[39m\u001b[38;5;241m.\u001b[39m_client\u001b[38;5;241m.\u001b[39mformat_url(_request\u001b[38;5;241m.\u001b[39murl, \u001b[38;5;241m*\u001b[39m\u001b[38;5;241m*\u001b[39mpath_format_arguments)\n\u001b[0;32m   1832\u001b[0m _stream \u001b[38;5;241m=\u001b[39m kwargs\u001b[38;5;241m.\u001b[39mpop(\u001b[38;5;124m\"\u001b[39m\u001b[38;5;124mstream\u001b[39m\u001b[38;5;124m\"\u001b[39m, \u001b[38;5;28;01mFalse\u001b[39;00m)\n\u001b[1;32m-> 1833\u001b[0m pipeline_response: PipelineResponse \u001b[38;5;241m=\u001b[39m \u001b[38;5;28;43mself\u001b[39;49m\u001b[38;5;241;43m.\u001b[39;49m\u001b[43m_client\u001b[49m\u001b[38;5;241;43m.\u001b[39;49m\u001b[43m_pipeline\u001b[49m\u001b[38;5;241;43m.\u001b[39;49m\u001b[43mrun\u001b[49m\u001b[43m(\u001b[49m\u001b[43m  \u001b[49m\u001b[38;5;66;43;03m# pylint: disable=protected-access\u001b[39;49;00m\n\u001b[0;32m   1834\u001b[0m \u001b[43m    \u001b[49m\u001b[43m_request\u001b[49m\u001b[43m,\u001b[49m\u001b[43m \u001b[49m\u001b[43mstream\u001b[49m\u001b[38;5;241;43m=\u001b[39;49m\u001b[43m_stream\u001b[49m\u001b[43m,\u001b[49m\u001b[43m \u001b[49m\u001b[38;5;241;43m*\u001b[39;49m\u001b[38;5;241;43m*\u001b[39;49m\u001b[43mkwargs\u001b[49m\n\u001b[0;32m   1835\u001b[0m \u001b[43m\u001b[49m\u001b[43m)\u001b[49m\n\u001b[0;32m   1837\u001b[0m response \u001b[38;5;241m=\u001b[39m pipeline_response\u001b[38;5;241m.\u001b[39mhttp_response\n\u001b[0;32m   1839\u001b[0m \u001b[38;5;28;01mif\u001b[39;00m response\u001b[38;5;241m.\u001b[39mstatus_code \u001b[38;5;129;01mnot\u001b[39;00m \u001b[38;5;129;01min\u001b[39;00m [\u001b[38;5;241m200\u001b[39m]:\n",
      "File \u001b[1;32mD:\\ProgramData\\miniconda3\\envs\\aaas\\Lib\\site-packages\\azure\\core\\pipeline\\_base.py:240\u001b[0m, in \u001b[0;36mPipeline.run\u001b[1;34m(self, request, **kwargs)\u001b[0m\n\u001b[0;32m    238\u001b[0m pipeline_request: PipelineRequest[HTTPRequestType] \u001b[38;5;241m=\u001b[39m PipelineRequest(request, context)\n\u001b[0;32m    239\u001b[0m first_node \u001b[38;5;241m=\u001b[39m \u001b[38;5;28mself\u001b[39m\u001b[38;5;241m.\u001b[39m_impl_policies[\u001b[38;5;241m0\u001b[39m] \u001b[38;5;28;01mif\u001b[39;00m \u001b[38;5;28mself\u001b[39m\u001b[38;5;241m.\u001b[39m_impl_policies \u001b[38;5;28;01melse\u001b[39;00m _TransportRunner(\u001b[38;5;28mself\u001b[39m\u001b[38;5;241m.\u001b[39m_transport)\n\u001b[1;32m--> 240\u001b[0m \u001b[38;5;28;01mreturn\u001b[39;00m \u001b[43mfirst_node\u001b[49m\u001b[38;5;241;43m.\u001b[39;49m\u001b[43msend\u001b[49m\u001b[43m(\u001b[49m\u001b[43mpipeline_request\u001b[49m\u001b[43m)\u001b[49m\n",
      "File \u001b[1;32mD:\\ProgramData\\miniconda3\\envs\\aaas\\Lib\\site-packages\\azure\\core\\pipeline\\_base.py:96\u001b[0m, in \u001b[0;36m_SansIOHTTPPolicyRunner.send\u001b[1;34m(self, request)\u001b[0m\n\u001b[0;32m     94\u001b[0m _await_result(\u001b[38;5;28mself\u001b[39m\u001b[38;5;241m.\u001b[39m_policy\u001b[38;5;241m.\u001b[39mon_request, request)\n\u001b[0;32m     95\u001b[0m \u001b[38;5;28;01mtry\u001b[39;00m:\n\u001b[1;32m---> 96\u001b[0m     response \u001b[38;5;241m=\u001b[39m \u001b[38;5;28;43mself\u001b[39;49m\u001b[38;5;241;43m.\u001b[39;49m\u001b[43mnext\u001b[49m\u001b[38;5;241;43m.\u001b[39;49m\u001b[43msend\u001b[49m\u001b[43m(\u001b[49m\u001b[43mrequest\u001b[49m\u001b[43m)\u001b[49m\n\u001b[0;32m     97\u001b[0m \u001b[38;5;28;01mexcept\u001b[39;00m \u001b[38;5;167;01mException\u001b[39;00m:\n\u001b[0;32m     98\u001b[0m     _await_result(\u001b[38;5;28mself\u001b[39m\u001b[38;5;241m.\u001b[39m_policy\u001b[38;5;241m.\u001b[39mon_exception, request)\n",
      "File \u001b[1;32mD:\\ProgramData\\miniconda3\\envs\\aaas\\Lib\\site-packages\\azure\\core\\pipeline\\_base.py:96\u001b[0m, in \u001b[0;36m_SansIOHTTPPolicyRunner.send\u001b[1;34m(self, request)\u001b[0m\n\u001b[0;32m     94\u001b[0m _await_result(\u001b[38;5;28mself\u001b[39m\u001b[38;5;241m.\u001b[39m_policy\u001b[38;5;241m.\u001b[39mon_request, request)\n\u001b[0;32m     95\u001b[0m \u001b[38;5;28;01mtry\u001b[39;00m:\n\u001b[1;32m---> 96\u001b[0m     response \u001b[38;5;241m=\u001b[39m \u001b[38;5;28;43mself\u001b[39;49m\u001b[38;5;241;43m.\u001b[39;49m\u001b[43mnext\u001b[49m\u001b[38;5;241;43m.\u001b[39;49m\u001b[43msend\u001b[49m\u001b[43m(\u001b[49m\u001b[43mrequest\u001b[49m\u001b[43m)\u001b[49m\n\u001b[0;32m     97\u001b[0m \u001b[38;5;28;01mexcept\u001b[39;00m \u001b[38;5;167;01mException\u001b[39;00m:\n\u001b[0;32m     98\u001b[0m     _await_result(\u001b[38;5;28mself\u001b[39m\u001b[38;5;241m.\u001b[39m_policy\u001b[38;5;241m.\u001b[39mon_exception, request)\n",
      "    \u001b[1;31m[... skipping similar frames: _SansIOHTTPPolicyRunner.send at line 96 (2 times)]\u001b[0m\n",
      "File \u001b[1;32mD:\\ProgramData\\miniconda3\\envs\\aaas\\Lib\\site-packages\\azure\\core\\pipeline\\_base.py:96\u001b[0m, in \u001b[0;36m_SansIOHTTPPolicyRunner.send\u001b[1;34m(self, request)\u001b[0m\n\u001b[0;32m     94\u001b[0m _await_result(\u001b[38;5;28mself\u001b[39m\u001b[38;5;241m.\u001b[39m_policy\u001b[38;5;241m.\u001b[39mon_request, request)\n\u001b[0;32m     95\u001b[0m \u001b[38;5;28;01mtry\u001b[39;00m:\n\u001b[1;32m---> 96\u001b[0m     response \u001b[38;5;241m=\u001b[39m \u001b[38;5;28;43mself\u001b[39;49m\u001b[38;5;241;43m.\u001b[39;49m\u001b[43mnext\u001b[49m\u001b[38;5;241;43m.\u001b[39;49m\u001b[43msend\u001b[49m\u001b[43m(\u001b[49m\u001b[43mrequest\u001b[49m\u001b[43m)\u001b[49m\n\u001b[0;32m     97\u001b[0m \u001b[38;5;28;01mexcept\u001b[39;00m \u001b[38;5;167;01mException\u001b[39;00m:\n\u001b[0;32m     98\u001b[0m     _await_result(\u001b[38;5;28mself\u001b[39m\u001b[38;5;241m.\u001b[39m_policy\u001b[38;5;241m.\u001b[39mon_exception, request)\n",
      "File \u001b[1;32mD:\\ProgramData\\miniconda3\\envs\\aaas\\Lib\\site-packages\\azure\\core\\pipeline\\policies\\_redirect.py:204\u001b[0m, in \u001b[0;36mRedirectPolicy.send\u001b[1;34m(self, request)\u001b[0m\n\u001b[0;32m    202\u001b[0m original_domain \u001b[38;5;241m=\u001b[39m get_domain(request\u001b[38;5;241m.\u001b[39mhttp_request\u001b[38;5;241m.\u001b[39murl) \u001b[38;5;28;01mif\u001b[39;00m redirect_settings[\u001b[38;5;124m\"\u001b[39m\u001b[38;5;124mallow\u001b[39m\u001b[38;5;124m\"\u001b[39m] \u001b[38;5;28;01melse\u001b[39;00m \u001b[38;5;28;01mNone\u001b[39;00m\n\u001b[0;32m    203\u001b[0m \u001b[38;5;28;01mwhile\u001b[39;00m retryable:\n\u001b[1;32m--> 204\u001b[0m     response \u001b[38;5;241m=\u001b[39m \u001b[38;5;28;43mself\u001b[39;49m\u001b[38;5;241;43m.\u001b[39;49m\u001b[43mnext\u001b[49m\u001b[38;5;241;43m.\u001b[39;49m\u001b[43msend\u001b[49m\u001b[43m(\u001b[49m\u001b[43mrequest\u001b[49m\u001b[43m)\u001b[49m\n\u001b[0;32m    205\u001b[0m     redirect_location \u001b[38;5;241m=\u001b[39m \u001b[38;5;28mself\u001b[39m\u001b[38;5;241m.\u001b[39mget_redirect_location(response)\n\u001b[0;32m    206\u001b[0m     \u001b[38;5;28;01mif\u001b[39;00m redirect_location \u001b[38;5;129;01mand\u001b[39;00m redirect_settings[\u001b[38;5;124m\"\u001b[39m\u001b[38;5;124mallow\u001b[39m\u001b[38;5;124m\"\u001b[39m]:\n",
      "File \u001b[1;32mD:\\ProgramData\\miniconda3\\envs\\aaas\\Lib\\site-packages\\azure\\core\\pipeline\\policies\\_retry.py:551\u001b[0m, in \u001b[0;36mRetryPolicy.send\u001b[1;34m(self, request)\u001b[0m\n\u001b[0;32m    549\u001b[0m \u001b[38;5;28mself\u001b[39m\u001b[38;5;241m.\u001b[39m_configure_timeout(request, absolute_timeout, is_response_error)\n\u001b[0;32m    550\u001b[0m request\u001b[38;5;241m.\u001b[39mcontext[\u001b[38;5;124m\"\u001b[39m\u001b[38;5;124mretry_count\u001b[39m\u001b[38;5;124m\"\u001b[39m] \u001b[38;5;241m=\u001b[39m \u001b[38;5;28mlen\u001b[39m(retry_settings[\u001b[38;5;124m\"\u001b[39m\u001b[38;5;124mhistory\u001b[39m\u001b[38;5;124m\"\u001b[39m])\n\u001b[1;32m--> 551\u001b[0m response \u001b[38;5;241m=\u001b[39m \u001b[38;5;28;43mself\u001b[39;49m\u001b[38;5;241;43m.\u001b[39;49m\u001b[43mnext\u001b[49m\u001b[38;5;241;43m.\u001b[39;49m\u001b[43msend\u001b[49m\u001b[43m(\u001b[49m\u001b[43mrequest\u001b[49m\u001b[43m)\u001b[49m\n\u001b[0;32m    552\u001b[0m \u001b[38;5;28;01mif\u001b[39;00m \u001b[38;5;28mself\u001b[39m\u001b[38;5;241m.\u001b[39mis_retry(retry_settings, response):\n\u001b[0;32m    553\u001b[0m     retry_active \u001b[38;5;241m=\u001b[39m \u001b[38;5;28mself\u001b[39m\u001b[38;5;241m.\u001b[39mincrement(retry_settings, response\u001b[38;5;241m=\u001b[39mresponse)\n",
      "File \u001b[1;32mD:\\ProgramData\\miniconda3\\envs\\aaas\\Lib\\site-packages\\azure\\core\\pipeline\\policies\\_authentication.py:159\u001b[0m, in \u001b[0;36mBearerTokenCredentialPolicy.send\u001b[1;34m(self, request)\u001b[0m\n\u001b[0;32m    157\u001b[0m \u001b[38;5;28mself\u001b[39m\u001b[38;5;241m.\u001b[39mon_request(request)\n\u001b[0;32m    158\u001b[0m \u001b[38;5;28;01mtry\u001b[39;00m:\n\u001b[1;32m--> 159\u001b[0m     response \u001b[38;5;241m=\u001b[39m \u001b[38;5;28;43mself\u001b[39;49m\u001b[38;5;241;43m.\u001b[39;49m\u001b[43mnext\u001b[49m\u001b[38;5;241;43m.\u001b[39;49m\u001b[43msend\u001b[49m\u001b[43m(\u001b[49m\u001b[43mrequest\u001b[49m\u001b[43m)\u001b[49m\n\u001b[0;32m    160\u001b[0m \u001b[38;5;28;01mexcept\u001b[39;00m \u001b[38;5;167;01mException\u001b[39;00m:\n\u001b[0;32m    161\u001b[0m     \u001b[38;5;28mself\u001b[39m\u001b[38;5;241m.\u001b[39mon_exception(request)\n",
      "File \u001b[1;32mD:\\ProgramData\\miniconda3\\envs\\aaas\\Lib\\site-packages\\azure\\core\\pipeline\\_base.py:96\u001b[0m, in \u001b[0;36m_SansIOHTTPPolicyRunner.send\u001b[1;34m(self, request)\u001b[0m\n\u001b[0;32m     94\u001b[0m _await_result(\u001b[38;5;28mself\u001b[39m\u001b[38;5;241m.\u001b[39m_policy\u001b[38;5;241m.\u001b[39mon_request, request)\n\u001b[0;32m     95\u001b[0m \u001b[38;5;28;01mtry\u001b[39;00m:\n\u001b[1;32m---> 96\u001b[0m     response \u001b[38;5;241m=\u001b[39m \u001b[38;5;28;43mself\u001b[39;49m\u001b[38;5;241;43m.\u001b[39;49m\u001b[43mnext\u001b[49m\u001b[38;5;241;43m.\u001b[39;49m\u001b[43msend\u001b[49m\u001b[43m(\u001b[49m\u001b[43mrequest\u001b[49m\u001b[43m)\u001b[49m\n\u001b[0;32m     97\u001b[0m \u001b[38;5;28;01mexcept\u001b[39;00m \u001b[38;5;167;01mException\u001b[39;00m:\n\u001b[0;32m     98\u001b[0m     _await_result(\u001b[38;5;28mself\u001b[39m\u001b[38;5;241m.\u001b[39m_policy\u001b[38;5;241m.\u001b[39mon_exception, request)\n",
      "File \u001b[1;32mD:\\ProgramData\\miniconda3\\envs\\aaas\\Lib\\site-packages\\azure\\core\\pipeline\\_base.py:96\u001b[0m, in \u001b[0;36m_SansIOHTTPPolicyRunner.send\u001b[1;34m(self, request)\u001b[0m\n\u001b[0;32m     94\u001b[0m _await_result(\u001b[38;5;28mself\u001b[39m\u001b[38;5;241m.\u001b[39m_policy\u001b[38;5;241m.\u001b[39mon_request, request)\n\u001b[0;32m     95\u001b[0m \u001b[38;5;28;01mtry\u001b[39;00m:\n\u001b[1;32m---> 96\u001b[0m     response \u001b[38;5;241m=\u001b[39m \u001b[38;5;28;43mself\u001b[39;49m\u001b[38;5;241;43m.\u001b[39;49m\u001b[43mnext\u001b[49m\u001b[38;5;241;43m.\u001b[39;49m\u001b[43msend\u001b[49m\u001b[43m(\u001b[49m\u001b[43mrequest\u001b[49m\u001b[43m)\u001b[49m\n\u001b[0;32m     97\u001b[0m \u001b[38;5;28;01mexcept\u001b[39;00m \u001b[38;5;167;01mException\u001b[39;00m:\n\u001b[0;32m     98\u001b[0m     _await_result(\u001b[38;5;28mself\u001b[39m\u001b[38;5;241m.\u001b[39m_policy\u001b[38;5;241m.\u001b[39mon_exception, request)\n",
      "    \u001b[1;31m[... skipping similar frames: _SansIOHTTPPolicyRunner.send at line 96 (2 times)]\u001b[0m\n",
      "File \u001b[1;32mD:\\ProgramData\\miniconda3\\envs\\aaas\\Lib\\site-packages\\azure\\core\\pipeline\\_base.py:96\u001b[0m, in \u001b[0;36m_SansIOHTTPPolicyRunner.send\u001b[1;34m(self, request)\u001b[0m\n\u001b[0;32m     94\u001b[0m _await_result(\u001b[38;5;28mself\u001b[39m\u001b[38;5;241m.\u001b[39m_policy\u001b[38;5;241m.\u001b[39mon_request, request)\n\u001b[0;32m     95\u001b[0m \u001b[38;5;28;01mtry\u001b[39;00m:\n\u001b[1;32m---> 96\u001b[0m     response \u001b[38;5;241m=\u001b[39m \u001b[38;5;28;43mself\u001b[39;49m\u001b[38;5;241;43m.\u001b[39;49m\u001b[43mnext\u001b[49m\u001b[38;5;241;43m.\u001b[39;49m\u001b[43msend\u001b[49m\u001b[43m(\u001b[49m\u001b[43mrequest\u001b[49m\u001b[43m)\u001b[49m\n\u001b[0;32m     97\u001b[0m \u001b[38;5;28;01mexcept\u001b[39;00m \u001b[38;5;167;01mException\u001b[39;00m:\n\u001b[0;32m     98\u001b[0m     _await_result(\u001b[38;5;28mself\u001b[39m\u001b[38;5;241m.\u001b[39m_policy\u001b[38;5;241m.\u001b[39mon_exception, request)\n",
      "File \u001b[1;32mD:\\ProgramData\\miniconda3\\envs\\aaas\\Lib\\site-packages\\azure\\core\\pipeline\\_base.py:128\u001b[0m, in \u001b[0;36m_TransportRunner.send\u001b[1;34m(self, request)\u001b[0m\n\u001b[0;32m    118\u001b[0m \u001b[38;5;250m\u001b[39m\u001b[38;5;124;03m\"\"\"HTTP transport send method.\u001b[39;00m\n\u001b[0;32m    119\u001b[0m \n\u001b[0;32m    120\u001b[0m \u001b[38;5;124;03m:param request: The PipelineRequest object.\u001b[39;00m\n\u001b[1;32m   (...)\u001b[0m\n\u001b[0;32m    123\u001b[0m \u001b[38;5;124;03m:rtype: ~azure.core.pipeline.PipelineResponse\u001b[39;00m\n\u001b[0;32m    124\u001b[0m \u001b[38;5;124;03m\"\"\"\u001b[39;00m\n\u001b[0;32m    125\u001b[0m cleanup_kwargs_for_transport(request\u001b[38;5;241m.\u001b[39mcontext\u001b[38;5;241m.\u001b[39moptions)\n\u001b[0;32m    126\u001b[0m \u001b[38;5;28;01mreturn\u001b[39;00m PipelineResponse(\n\u001b[0;32m    127\u001b[0m     request\u001b[38;5;241m.\u001b[39mhttp_request,\n\u001b[1;32m--> 128\u001b[0m     \u001b[38;5;28;43mself\u001b[39;49m\u001b[38;5;241;43m.\u001b[39;49m\u001b[43m_sender\u001b[49m\u001b[38;5;241;43m.\u001b[39;49m\u001b[43msend\u001b[49m\u001b[43m(\u001b[49m\u001b[43mrequest\u001b[49m\u001b[38;5;241;43m.\u001b[39;49m\u001b[43mhttp_request\u001b[49m\u001b[43m,\u001b[49m\u001b[43m \u001b[49m\u001b[38;5;241;43m*\u001b[39;49m\u001b[38;5;241;43m*\u001b[39;49m\u001b[43mrequest\u001b[49m\u001b[38;5;241;43m.\u001b[39;49m\u001b[43mcontext\u001b[49m\u001b[38;5;241;43m.\u001b[39;49m\u001b[43moptions\u001b[49m\u001b[43m)\u001b[49m,\n\u001b[0;32m    129\u001b[0m     context\u001b[38;5;241m=\u001b[39mrequest\u001b[38;5;241m.\u001b[39mcontext,\n\u001b[0;32m    130\u001b[0m )\n",
      "File \u001b[1;32mD:\\ProgramData\\miniconda3\\envs\\aaas\\Lib\\site-packages\\azure\\core\\pipeline\\transport\\_requests_basic.py:363\u001b[0m, in \u001b[0;36mRequestsTransport.send\u001b[1;34m(self, request, proxies, **kwargs)\u001b[0m\n\u001b[0;32m    361\u001b[0m         read_timeout \u001b[38;5;241m=\u001b[39m kwargs\u001b[38;5;241m.\u001b[39mpop(\u001b[38;5;124m\"\u001b[39m\u001b[38;5;124mread_timeout\u001b[39m\u001b[38;5;124m\"\u001b[39m, \u001b[38;5;28mself\u001b[39m\u001b[38;5;241m.\u001b[39mconnection_config\u001b[38;5;241m.\u001b[39mread_timeout)\n\u001b[0;32m    362\u001b[0m         timeout \u001b[38;5;241m=\u001b[39m (connection_timeout, read_timeout)\n\u001b[1;32m--> 363\u001b[0m     response \u001b[38;5;241m=\u001b[39m \u001b[38;5;28;43mself\u001b[39;49m\u001b[38;5;241;43m.\u001b[39;49m\u001b[43msession\u001b[49m\u001b[38;5;241;43m.\u001b[39;49m\u001b[43mrequest\u001b[49m\u001b[43m(\u001b[49m\u001b[43m  \u001b[49m\u001b[38;5;66;43;03m# type: ignore\u001b[39;49;00m\n\u001b[0;32m    364\u001b[0m \u001b[43m        \u001b[49m\u001b[43mrequest\u001b[49m\u001b[38;5;241;43m.\u001b[39;49m\u001b[43mmethod\u001b[49m\u001b[43m,\u001b[49m\n\u001b[0;32m    365\u001b[0m \u001b[43m        \u001b[49m\u001b[43mrequest\u001b[49m\u001b[38;5;241;43m.\u001b[39;49m\u001b[43murl\u001b[49m\u001b[43m,\u001b[49m\n\u001b[0;32m    366\u001b[0m \u001b[43m        \u001b[49m\u001b[43mheaders\u001b[49m\u001b[38;5;241;43m=\u001b[39;49m\u001b[43mrequest\u001b[49m\u001b[38;5;241;43m.\u001b[39;49m\u001b[43mheaders\u001b[49m\u001b[43m,\u001b[49m\n\u001b[0;32m    367\u001b[0m \u001b[43m        \u001b[49m\u001b[43mdata\u001b[49m\u001b[38;5;241;43m=\u001b[39;49m\u001b[43mrequest\u001b[49m\u001b[38;5;241;43m.\u001b[39;49m\u001b[43mdata\u001b[49m\u001b[43m,\u001b[49m\n\u001b[0;32m    368\u001b[0m \u001b[43m        \u001b[49m\u001b[43mfiles\u001b[49m\u001b[38;5;241;43m=\u001b[39;49m\u001b[43mrequest\u001b[49m\u001b[38;5;241;43m.\u001b[39;49m\u001b[43mfiles\u001b[49m\u001b[43m,\u001b[49m\n\u001b[0;32m    369\u001b[0m \u001b[43m        \u001b[49m\u001b[43mverify\u001b[49m\u001b[38;5;241;43m=\u001b[39;49m\u001b[43mkwargs\u001b[49m\u001b[38;5;241;43m.\u001b[39;49m\u001b[43mpop\u001b[49m\u001b[43m(\u001b[49m\u001b[38;5;124;43m\"\u001b[39;49m\u001b[38;5;124;43mconnection_verify\u001b[39;49m\u001b[38;5;124;43m\"\u001b[39;49m\u001b[43m,\u001b[49m\u001b[43m \u001b[49m\u001b[38;5;28;43mself\u001b[39;49m\u001b[38;5;241;43m.\u001b[39;49m\u001b[43mconnection_config\u001b[49m\u001b[38;5;241;43m.\u001b[39;49m\u001b[43mverify\u001b[49m\u001b[43m)\u001b[49m\u001b[43m,\u001b[49m\n\u001b[0;32m    370\u001b[0m \u001b[43m        \u001b[49m\u001b[43mtimeout\u001b[49m\u001b[38;5;241;43m=\u001b[39;49m\u001b[43mtimeout\u001b[49m\u001b[43m,\u001b[49m\n\u001b[0;32m    371\u001b[0m \u001b[43m        \u001b[49m\u001b[43mcert\u001b[49m\u001b[38;5;241;43m=\u001b[39;49m\u001b[43mkwargs\u001b[49m\u001b[38;5;241;43m.\u001b[39;49m\u001b[43mpop\u001b[49m\u001b[43m(\u001b[49m\u001b[38;5;124;43m\"\u001b[39;49m\u001b[38;5;124;43mconnection_cert\u001b[39;49m\u001b[38;5;124;43m\"\u001b[39;49m\u001b[43m,\u001b[49m\u001b[43m \u001b[49m\u001b[38;5;28;43mself\u001b[39;49m\u001b[38;5;241;43m.\u001b[39;49m\u001b[43mconnection_config\u001b[49m\u001b[38;5;241;43m.\u001b[39;49m\u001b[43mcert\u001b[49m\u001b[43m)\u001b[49m\u001b[43m,\u001b[49m\n\u001b[0;32m    372\u001b[0m \u001b[43m        \u001b[49m\u001b[43mallow_redirects\u001b[49m\u001b[38;5;241;43m=\u001b[39;49m\u001b[38;5;28;43;01mFalse\u001b[39;49;00m\u001b[43m,\u001b[49m\n\u001b[0;32m    373\u001b[0m \u001b[43m        \u001b[49m\u001b[43mproxies\u001b[49m\u001b[38;5;241;43m=\u001b[39;49m\u001b[43mproxies\u001b[49m\u001b[43m,\u001b[49m\n\u001b[0;32m    374\u001b[0m \u001b[43m        \u001b[49m\u001b[38;5;241;43m*\u001b[39;49m\u001b[38;5;241;43m*\u001b[39;49m\u001b[43mkwargs\u001b[49m\n\u001b[0;32m    375\u001b[0m \u001b[43m    \u001b[49m\u001b[43m)\u001b[49m\n\u001b[0;32m    376\u001b[0m     response\u001b[38;5;241m.\u001b[39mraw\u001b[38;5;241m.\u001b[39menforce_content_length \u001b[38;5;241m=\u001b[39m \u001b[38;5;28;01mTrue\u001b[39;00m\n\u001b[0;32m    378\u001b[0m \u001b[38;5;28;01mexcept\u001b[39;00m \u001b[38;5;167;01mAttributeError\u001b[39;00m \u001b[38;5;28;01mas\u001b[39;00m err:\n",
      "File \u001b[1;32mD:\\ProgramData\\miniconda3\\envs\\aaas\\Lib\\site-packages\\requests\\sessions.py:589\u001b[0m, in \u001b[0;36mSession.request\u001b[1;34m(self, method, url, params, data, headers, cookies, files, auth, timeout, allow_redirects, proxies, hooks, stream, verify, cert, json)\u001b[0m\n\u001b[0;32m    584\u001b[0m send_kwargs \u001b[38;5;241m=\u001b[39m {\n\u001b[0;32m    585\u001b[0m     \u001b[38;5;124m\"\u001b[39m\u001b[38;5;124mtimeout\u001b[39m\u001b[38;5;124m\"\u001b[39m: timeout,\n\u001b[0;32m    586\u001b[0m     \u001b[38;5;124m\"\u001b[39m\u001b[38;5;124mallow_redirects\u001b[39m\u001b[38;5;124m\"\u001b[39m: allow_redirects,\n\u001b[0;32m    587\u001b[0m }\n\u001b[0;32m    588\u001b[0m send_kwargs\u001b[38;5;241m.\u001b[39mupdate(settings)\n\u001b[1;32m--> 589\u001b[0m resp \u001b[38;5;241m=\u001b[39m \u001b[38;5;28;43mself\u001b[39;49m\u001b[38;5;241;43m.\u001b[39;49m\u001b[43msend\u001b[49m\u001b[43m(\u001b[49m\u001b[43mprep\u001b[49m\u001b[43m,\u001b[49m\u001b[43m \u001b[49m\u001b[38;5;241;43m*\u001b[39;49m\u001b[38;5;241;43m*\u001b[39;49m\u001b[43msend_kwargs\u001b[49m\u001b[43m)\u001b[49m\n\u001b[0;32m    591\u001b[0m \u001b[38;5;28;01mreturn\u001b[39;00m resp\n",
      "File \u001b[1;32mD:\\ProgramData\\miniconda3\\envs\\aaas\\Lib\\site-packages\\requests\\sessions.py:703\u001b[0m, in \u001b[0;36mSession.send\u001b[1;34m(self, request, **kwargs)\u001b[0m\n\u001b[0;32m    700\u001b[0m start \u001b[38;5;241m=\u001b[39m preferred_clock()\n\u001b[0;32m    702\u001b[0m \u001b[38;5;66;03m# Send the request\u001b[39;00m\n\u001b[1;32m--> 703\u001b[0m r \u001b[38;5;241m=\u001b[39m \u001b[43madapter\u001b[49m\u001b[38;5;241;43m.\u001b[39;49m\u001b[43msend\u001b[49m\u001b[43m(\u001b[49m\u001b[43mrequest\u001b[49m\u001b[43m,\u001b[49m\u001b[43m \u001b[49m\u001b[38;5;241;43m*\u001b[39;49m\u001b[38;5;241;43m*\u001b[39;49m\u001b[43mkwargs\u001b[49m\u001b[43m)\u001b[49m\n\u001b[0;32m    705\u001b[0m \u001b[38;5;66;03m# Total elapsed time of the request (approximately)\u001b[39;00m\n\u001b[0;32m    706\u001b[0m elapsed \u001b[38;5;241m=\u001b[39m preferred_clock() \u001b[38;5;241m-\u001b[39m start\n",
      "File \u001b[1;32mD:\\ProgramData\\miniconda3\\envs\\aaas\\Lib\\site-packages\\requests\\adapters.py:667\u001b[0m, in \u001b[0;36mHTTPAdapter.send\u001b[1;34m(self, request, stream, timeout, verify, cert, proxies)\u001b[0m\n\u001b[0;32m    664\u001b[0m     timeout \u001b[38;5;241m=\u001b[39m TimeoutSauce(connect\u001b[38;5;241m=\u001b[39mtimeout, read\u001b[38;5;241m=\u001b[39mtimeout)\n\u001b[0;32m    666\u001b[0m \u001b[38;5;28;01mtry\u001b[39;00m:\n\u001b[1;32m--> 667\u001b[0m     resp \u001b[38;5;241m=\u001b[39m \u001b[43mconn\u001b[49m\u001b[38;5;241;43m.\u001b[39;49m\u001b[43murlopen\u001b[49m\u001b[43m(\u001b[49m\n\u001b[0;32m    668\u001b[0m \u001b[43m        \u001b[49m\u001b[43mmethod\u001b[49m\u001b[38;5;241;43m=\u001b[39;49m\u001b[43mrequest\u001b[49m\u001b[38;5;241;43m.\u001b[39;49m\u001b[43mmethod\u001b[49m\u001b[43m,\u001b[49m\n\u001b[0;32m    669\u001b[0m \u001b[43m        \u001b[49m\u001b[43murl\u001b[49m\u001b[38;5;241;43m=\u001b[39;49m\u001b[43murl\u001b[49m\u001b[43m,\u001b[49m\n\u001b[0;32m    670\u001b[0m \u001b[43m        \u001b[49m\u001b[43mbody\u001b[49m\u001b[38;5;241;43m=\u001b[39;49m\u001b[43mrequest\u001b[49m\u001b[38;5;241;43m.\u001b[39;49m\u001b[43mbody\u001b[49m\u001b[43m,\u001b[49m\n\u001b[0;32m    671\u001b[0m \u001b[43m        \u001b[49m\u001b[43mheaders\u001b[49m\u001b[38;5;241;43m=\u001b[39;49m\u001b[43mrequest\u001b[49m\u001b[38;5;241;43m.\u001b[39;49m\u001b[43mheaders\u001b[49m\u001b[43m,\u001b[49m\n\u001b[0;32m    672\u001b[0m \u001b[43m        \u001b[49m\u001b[43mredirect\u001b[49m\u001b[38;5;241;43m=\u001b[39;49m\u001b[38;5;28;43;01mFalse\u001b[39;49;00m\u001b[43m,\u001b[49m\n\u001b[0;32m    673\u001b[0m \u001b[43m        \u001b[49m\u001b[43massert_same_host\u001b[49m\u001b[38;5;241;43m=\u001b[39;49m\u001b[38;5;28;43;01mFalse\u001b[39;49;00m\u001b[43m,\u001b[49m\n\u001b[0;32m    674\u001b[0m \u001b[43m        \u001b[49m\u001b[43mpreload_content\u001b[49m\u001b[38;5;241;43m=\u001b[39;49m\u001b[38;5;28;43;01mFalse\u001b[39;49;00m\u001b[43m,\u001b[49m\n\u001b[0;32m    675\u001b[0m \u001b[43m        \u001b[49m\u001b[43mdecode_content\u001b[49m\u001b[38;5;241;43m=\u001b[39;49m\u001b[38;5;28;43;01mFalse\u001b[39;49;00m\u001b[43m,\u001b[49m\n\u001b[0;32m    676\u001b[0m \u001b[43m        \u001b[49m\u001b[43mretries\u001b[49m\u001b[38;5;241;43m=\u001b[39;49m\u001b[38;5;28;43mself\u001b[39;49m\u001b[38;5;241;43m.\u001b[39;49m\u001b[43mmax_retries\u001b[49m\u001b[43m,\u001b[49m\n\u001b[0;32m    677\u001b[0m \u001b[43m        \u001b[49m\u001b[43mtimeout\u001b[49m\u001b[38;5;241;43m=\u001b[39;49m\u001b[43mtimeout\u001b[49m\u001b[43m,\u001b[49m\n\u001b[0;32m    678\u001b[0m \u001b[43m        \u001b[49m\u001b[43mchunked\u001b[49m\u001b[38;5;241;43m=\u001b[39;49m\u001b[43mchunked\u001b[49m\u001b[43m,\u001b[49m\n\u001b[0;32m    679\u001b[0m \u001b[43m    \u001b[49m\u001b[43m)\u001b[49m\n\u001b[0;32m    681\u001b[0m \u001b[38;5;28;01mexcept\u001b[39;00m (ProtocolError, \u001b[38;5;167;01mOSError\u001b[39;00m) \u001b[38;5;28;01mas\u001b[39;00m err:\n\u001b[0;32m    682\u001b[0m     \u001b[38;5;28;01mraise\u001b[39;00m \u001b[38;5;167;01mConnectionError\u001b[39;00m(err, request\u001b[38;5;241m=\u001b[39mrequest)\n",
      "File \u001b[1;32mD:\\ProgramData\\miniconda3\\envs\\aaas\\Lib\\site-packages\\urllib3\\connectionpool.py:787\u001b[0m, in \u001b[0;36mHTTPConnectionPool.urlopen\u001b[1;34m(self, method, url, body, headers, retries, redirect, assert_same_host, timeout, pool_timeout, release_conn, chunked, body_pos, preload_content, decode_content, **response_kw)\u001b[0m\n\u001b[0;32m    784\u001b[0m response_conn \u001b[38;5;241m=\u001b[39m conn \u001b[38;5;28;01mif\u001b[39;00m \u001b[38;5;129;01mnot\u001b[39;00m release_conn \u001b[38;5;28;01melse\u001b[39;00m \u001b[38;5;28;01mNone\u001b[39;00m\n\u001b[0;32m    786\u001b[0m \u001b[38;5;66;03m# Make the request on the HTTPConnection object\u001b[39;00m\n\u001b[1;32m--> 787\u001b[0m response \u001b[38;5;241m=\u001b[39m \u001b[38;5;28;43mself\u001b[39;49m\u001b[38;5;241;43m.\u001b[39;49m\u001b[43m_make_request\u001b[49m\u001b[43m(\u001b[49m\n\u001b[0;32m    788\u001b[0m \u001b[43m    \u001b[49m\u001b[43mconn\u001b[49m\u001b[43m,\u001b[49m\n\u001b[0;32m    789\u001b[0m \u001b[43m    \u001b[49m\u001b[43mmethod\u001b[49m\u001b[43m,\u001b[49m\n\u001b[0;32m    790\u001b[0m \u001b[43m    \u001b[49m\u001b[43murl\u001b[49m\u001b[43m,\u001b[49m\n\u001b[0;32m    791\u001b[0m \u001b[43m    \u001b[49m\u001b[43mtimeout\u001b[49m\u001b[38;5;241;43m=\u001b[39;49m\u001b[43mtimeout_obj\u001b[49m\u001b[43m,\u001b[49m\n\u001b[0;32m    792\u001b[0m \u001b[43m    \u001b[49m\u001b[43mbody\u001b[49m\u001b[38;5;241;43m=\u001b[39;49m\u001b[43mbody\u001b[49m\u001b[43m,\u001b[49m\n\u001b[0;32m    793\u001b[0m \u001b[43m    \u001b[49m\u001b[43mheaders\u001b[49m\u001b[38;5;241;43m=\u001b[39;49m\u001b[43mheaders\u001b[49m\u001b[43m,\u001b[49m\n\u001b[0;32m    794\u001b[0m \u001b[43m    \u001b[49m\u001b[43mchunked\u001b[49m\u001b[38;5;241;43m=\u001b[39;49m\u001b[43mchunked\u001b[49m\u001b[43m,\u001b[49m\n\u001b[0;32m    795\u001b[0m \u001b[43m    \u001b[49m\u001b[43mretries\u001b[49m\u001b[38;5;241;43m=\u001b[39;49m\u001b[43mretries\u001b[49m\u001b[43m,\u001b[49m\n\u001b[0;32m    796\u001b[0m \u001b[43m    \u001b[49m\u001b[43mresponse_conn\u001b[49m\u001b[38;5;241;43m=\u001b[39;49m\u001b[43mresponse_conn\u001b[49m\u001b[43m,\u001b[49m\n\u001b[0;32m    797\u001b[0m \u001b[43m    \u001b[49m\u001b[43mpreload_content\u001b[49m\u001b[38;5;241;43m=\u001b[39;49m\u001b[43mpreload_content\u001b[49m\u001b[43m,\u001b[49m\n\u001b[0;32m    798\u001b[0m \u001b[43m    \u001b[49m\u001b[43mdecode_content\u001b[49m\u001b[38;5;241;43m=\u001b[39;49m\u001b[43mdecode_content\u001b[49m\u001b[43m,\u001b[49m\n\u001b[0;32m    799\u001b[0m \u001b[43m    \u001b[49m\u001b[38;5;241;43m*\u001b[39;49m\u001b[38;5;241;43m*\u001b[39;49m\u001b[43mresponse_kw\u001b[49m\u001b[43m,\u001b[49m\n\u001b[0;32m    800\u001b[0m \u001b[43m\u001b[49m\u001b[43m)\u001b[49m\n\u001b[0;32m    802\u001b[0m \u001b[38;5;66;03m# Everything went great!\u001b[39;00m\n\u001b[0;32m    803\u001b[0m clean_exit \u001b[38;5;241m=\u001b[39m \u001b[38;5;28;01mTrue\u001b[39;00m\n",
      "File \u001b[1;32mD:\\ProgramData\\miniconda3\\envs\\aaas\\Lib\\site-packages\\urllib3\\connectionpool.py:534\u001b[0m, in \u001b[0;36mHTTPConnectionPool._make_request\u001b[1;34m(self, conn, method, url, body, headers, retries, timeout, chunked, response_conn, preload_content, decode_content, enforce_content_length)\u001b[0m\n\u001b[0;32m    532\u001b[0m \u001b[38;5;66;03m# Receive the response from the server\u001b[39;00m\n\u001b[0;32m    533\u001b[0m \u001b[38;5;28;01mtry\u001b[39;00m:\n\u001b[1;32m--> 534\u001b[0m     response \u001b[38;5;241m=\u001b[39m \u001b[43mconn\u001b[49m\u001b[38;5;241;43m.\u001b[39;49m\u001b[43mgetresponse\u001b[49m\u001b[43m(\u001b[49m\u001b[43m)\u001b[49m\n\u001b[0;32m    535\u001b[0m \u001b[38;5;28;01mexcept\u001b[39;00m (BaseSSLError, \u001b[38;5;167;01mOSError\u001b[39;00m) \u001b[38;5;28;01mas\u001b[39;00m e:\n\u001b[0;32m    536\u001b[0m     \u001b[38;5;28mself\u001b[39m\u001b[38;5;241m.\u001b[39m_raise_timeout(err\u001b[38;5;241m=\u001b[39me, url\u001b[38;5;241m=\u001b[39murl, timeout_value\u001b[38;5;241m=\u001b[39mread_timeout)\n",
      "File \u001b[1;32mD:\\ProgramData\\miniconda3\\envs\\aaas\\Lib\\site-packages\\urllib3\\connection.py:516\u001b[0m, in \u001b[0;36mHTTPConnection.getresponse\u001b[1;34m(self)\u001b[0m\n\u001b[0;32m    513\u001b[0m _shutdown \u001b[38;5;241m=\u001b[39m \u001b[38;5;28mgetattr\u001b[39m(\u001b[38;5;28mself\u001b[39m\u001b[38;5;241m.\u001b[39msock, \u001b[38;5;124m\"\u001b[39m\u001b[38;5;124mshutdown\u001b[39m\u001b[38;5;124m\"\u001b[39m, \u001b[38;5;28;01mNone\u001b[39;00m)\n\u001b[0;32m    515\u001b[0m \u001b[38;5;66;03m# Get the response from http.client.HTTPConnection\u001b[39;00m\n\u001b[1;32m--> 516\u001b[0m httplib_response \u001b[38;5;241m=\u001b[39m \u001b[38;5;28;43msuper\u001b[39;49m\u001b[43m(\u001b[49m\u001b[43m)\u001b[49m\u001b[38;5;241;43m.\u001b[39;49m\u001b[43mgetresponse\u001b[49m\u001b[43m(\u001b[49m\u001b[43m)\u001b[49m\n\u001b[0;32m    518\u001b[0m \u001b[38;5;28;01mtry\u001b[39;00m:\n\u001b[0;32m    519\u001b[0m     assert_header_parsing(httplib_response\u001b[38;5;241m.\u001b[39mmsg)\n",
      "File \u001b[1;32mD:\\ProgramData\\miniconda3\\envs\\aaas\\Lib\\http\\client.py:1428\u001b[0m, in \u001b[0;36mHTTPConnection.getresponse\u001b[1;34m(self)\u001b[0m\n\u001b[0;32m   1426\u001b[0m \u001b[38;5;28;01mtry\u001b[39;00m:\n\u001b[0;32m   1427\u001b[0m     \u001b[38;5;28;01mtry\u001b[39;00m:\n\u001b[1;32m-> 1428\u001b[0m         \u001b[43mresponse\u001b[49m\u001b[38;5;241;43m.\u001b[39;49m\u001b[43mbegin\u001b[49m\u001b[43m(\u001b[49m\u001b[43m)\u001b[49m\n\u001b[0;32m   1429\u001b[0m     \u001b[38;5;28;01mexcept\u001b[39;00m \u001b[38;5;167;01mConnectionError\u001b[39;00m:\n\u001b[0;32m   1430\u001b[0m         \u001b[38;5;28mself\u001b[39m\u001b[38;5;241m.\u001b[39mclose()\n",
      "File \u001b[1;32mD:\\ProgramData\\miniconda3\\envs\\aaas\\Lib\\http\\client.py:331\u001b[0m, in \u001b[0;36mHTTPResponse.begin\u001b[1;34m(self)\u001b[0m\n\u001b[0;32m    329\u001b[0m \u001b[38;5;66;03m# read until we get a non-100 response\u001b[39;00m\n\u001b[0;32m    330\u001b[0m \u001b[38;5;28;01mwhile\u001b[39;00m \u001b[38;5;28;01mTrue\u001b[39;00m:\n\u001b[1;32m--> 331\u001b[0m     version, status, reason \u001b[38;5;241m=\u001b[39m \u001b[38;5;28;43mself\u001b[39;49m\u001b[38;5;241;43m.\u001b[39;49m\u001b[43m_read_status\u001b[49m\u001b[43m(\u001b[49m\u001b[43m)\u001b[49m\n\u001b[0;32m    332\u001b[0m     \u001b[38;5;28;01mif\u001b[39;00m status \u001b[38;5;241m!=\u001b[39m CONTINUE:\n\u001b[0;32m    333\u001b[0m         \u001b[38;5;28;01mbreak\u001b[39;00m\n",
      "File \u001b[1;32mD:\\ProgramData\\miniconda3\\envs\\aaas\\Lib\\http\\client.py:292\u001b[0m, in \u001b[0;36mHTTPResponse._read_status\u001b[1;34m(self)\u001b[0m\n\u001b[0;32m    291\u001b[0m \u001b[38;5;28;01mdef\u001b[39;00m \u001b[38;5;21m_read_status\u001b[39m(\u001b[38;5;28mself\u001b[39m):\n\u001b[1;32m--> 292\u001b[0m     line \u001b[38;5;241m=\u001b[39m \u001b[38;5;28mstr\u001b[39m(\u001b[38;5;28;43mself\u001b[39;49m\u001b[38;5;241;43m.\u001b[39;49m\u001b[43mfp\u001b[49m\u001b[38;5;241;43m.\u001b[39;49m\u001b[43mreadline\u001b[49m\u001b[43m(\u001b[49m\u001b[43m_MAXLINE\u001b[49m\u001b[43m \u001b[49m\u001b[38;5;241;43m+\u001b[39;49m\u001b[43m \u001b[49m\u001b[38;5;241;43m1\u001b[39;49m\u001b[43m)\u001b[49m, \u001b[38;5;124m\"\u001b[39m\u001b[38;5;124miso-8859-1\u001b[39m\u001b[38;5;124m\"\u001b[39m)\n\u001b[0;32m    293\u001b[0m     \u001b[38;5;28;01mif\u001b[39;00m \u001b[38;5;28mlen\u001b[39m(line) \u001b[38;5;241m>\u001b[39m _MAXLINE:\n\u001b[0;32m    294\u001b[0m         \u001b[38;5;28;01mraise\u001b[39;00m LineTooLong(\u001b[38;5;124m\"\u001b[39m\u001b[38;5;124mstatus line\u001b[39m\u001b[38;5;124m\"\u001b[39m)\n",
      "File \u001b[1;32mD:\\ProgramData\\miniconda3\\envs\\aaas\\Lib\\socket.py:720\u001b[0m, in \u001b[0;36mSocketIO.readinto\u001b[1;34m(self, b)\u001b[0m\n\u001b[0;32m    718\u001b[0m \u001b[38;5;28;01mwhile\u001b[39;00m \u001b[38;5;28;01mTrue\u001b[39;00m:\n\u001b[0;32m    719\u001b[0m     \u001b[38;5;28;01mtry\u001b[39;00m:\n\u001b[1;32m--> 720\u001b[0m         \u001b[38;5;28;01mreturn\u001b[39;00m \u001b[38;5;28;43mself\u001b[39;49m\u001b[38;5;241;43m.\u001b[39;49m\u001b[43m_sock\u001b[49m\u001b[38;5;241;43m.\u001b[39;49m\u001b[43mrecv_into\u001b[49m\u001b[43m(\u001b[49m\u001b[43mb\u001b[49m\u001b[43m)\u001b[49m\n\u001b[0;32m    721\u001b[0m     \u001b[38;5;28;01mexcept\u001b[39;00m timeout:\n\u001b[0;32m    722\u001b[0m         \u001b[38;5;28mself\u001b[39m\u001b[38;5;241m.\u001b[39m_timeout_occurred \u001b[38;5;241m=\u001b[39m \u001b[38;5;28;01mTrue\u001b[39;00m\n",
      "File \u001b[1;32mD:\\ProgramData\\miniconda3\\envs\\aaas\\Lib\\ssl.py:1251\u001b[0m, in \u001b[0;36mSSLSocket.recv_into\u001b[1;34m(self, buffer, nbytes, flags)\u001b[0m\n\u001b[0;32m   1247\u001b[0m     \u001b[38;5;28;01mif\u001b[39;00m flags \u001b[38;5;241m!=\u001b[39m \u001b[38;5;241m0\u001b[39m:\n\u001b[0;32m   1248\u001b[0m         \u001b[38;5;28;01mraise\u001b[39;00m \u001b[38;5;167;01mValueError\u001b[39;00m(\n\u001b[0;32m   1249\u001b[0m           \u001b[38;5;124m\"\u001b[39m\u001b[38;5;124mnon-zero flags not allowed in calls to recv_into() on \u001b[39m\u001b[38;5;132;01m%s\u001b[39;00m\u001b[38;5;124m\"\u001b[39m \u001b[38;5;241m%\u001b[39m\n\u001b[0;32m   1250\u001b[0m           \u001b[38;5;28mself\u001b[39m\u001b[38;5;241m.\u001b[39m\u001b[38;5;18m__class__\u001b[39m)\n\u001b[1;32m-> 1251\u001b[0m     \u001b[38;5;28;01mreturn\u001b[39;00m \u001b[38;5;28;43mself\u001b[39;49m\u001b[38;5;241;43m.\u001b[39;49m\u001b[43mread\u001b[49m\u001b[43m(\u001b[49m\u001b[43mnbytes\u001b[49m\u001b[43m,\u001b[49m\u001b[43m \u001b[49m\u001b[43mbuffer\u001b[49m\u001b[43m)\u001b[49m\n\u001b[0;32m   1252\u001b[0m \u001b[38;5;28;01melse\u001b[39;00m:\n\u001b[0;32m   1253\u001b[0m     \u001b[38;5;28;01mreturn\u001b[39;00m \u001b[38;5;28msuper\u001b[39m()\u001b[38;5;241m.\u001b[39mrecv_into(buffer, nbytes, flags)\n",
      "File \u001b[1;32mD:\\ProgramData\\miniconda3\\envs\\aaas\\Lib\\ssl.py:1103\u001b[0m, in \u001b[0;36mSSLSocket.read\u001b[1;34m(self, len, buffer)\u001b[0m\n\u001b[0;32m   1101\u001b[0m \u001b[38;5;28;01mtry\u001b[39;00m:\n\u001b[0;32m   1102\u001b[0m     \u001b[38;5;28;01mif\u001b[39;00m buffer \u001b[38;5;129;01mis\u001b[39;00m \u001b[38;5;129;01mnot\u001b[39;00m \u001b[38;5;28;01mNone\u001b[39;00m:\n\u001b[1;32m-> 1103\u001b[0m         \u001b[38;5;28;01mreturn\u001b[39;00m \u001b[38;5;28;43mself\u001b[39;49m\u001b[38;5;241;43m.\u001b[39;49m\u001b[43m_sslobj\u001b[49m\u001b[38;5;241;43m.\u001b[39;49m\u001b[43mread\u001b[49m\u001b[43m(\u001b[49m\u001b[38;5;28;43mlen\u001b[39;49m\u001b[43m,\u001b[49m\u001b[43m \u001b[49m\u001b[43mbuffer\u001b[49m\u001b[43m)\u001b[49m\n\u001b[0;32m   1104\u001b[0m     \u001b[38;5;28;01melse\u001b[39;00m:\n\u001b[0;32m   1105\u001b[0m         \u001b[38;5;28;01mreturn\u001b[39;00m \u001b[38;5;28mself\u001b[39m\u001b[38;5;241m.\u001b[39m_sslobj\u001b[38;5;241m.\u001b[39mread(\u001b[38;5;28mlen\u001b[39m)\n",
      "\u001b[1;31mKeyboardInterrupt\u001b[0m: "
     ]
    }
   ],
   "source": [
    "from datetime import datetime\n",
    "agents = list_agents.agents.list_agents(limit=100)['data']\n",
    "\n",
    "i=0\n",
    "while len(agents) > 0:\n",
    "    for agent in agents:\n",
    "        i=i+1\n",
    "        print(agent.created_at)\n",
    "        print(f\"Deleting agent {i}: {agent.id} ({agent.name}) created at {datetime.fromtimestamp(agent['created_at']).strftime('%Y-%m-%d %H:%M:%S')}...\")\n",
    "        # client.beta.assistants.delete(assistant.id)\n",
    "    agents = project_client.agents.list_agents(limit=100)['data']\n",
    "\n",
    "print (f\"\\n{i} agents have been successfully deleted.\")"
   ]
  },
  {
   "cell_type": "code",
   "execution_count": 21,
   "id": "05648e27-338e-423d-927b-ef441da75bd3",
   "metadata": {},
   "outputs": [
    {
     "name": "stdout",
     "output_type": "stream",
     "text": [
      "Nr. of existing agents that will be deleted: 9\n",
      "\n",
      "1 - Agent my-agent001 (asst_nawLaEsu4lEr5odgku0qcyC4) is not deleted.\n",
      "2 - Agent Beacon (for AI-driven recommendations and guidance) (asst_N1lmbzfeWyoIqydIk1jsU8Ic) is not deleted.\n",
      "3 - Agent Pulse (for monitoring trends and real-time data analysis) (asst_Wq1Ofun2LdK04BZcK526Fd13) is not deleted.\n",
      "4 - Agent Scout (for broad web discovery and intelligence gathering) (asst_Fm51pQ0afAJC7rWyzqefyK79) is not deleted.\n",
      "5 - Agent Oracle (for OpenAI-powered reasoning and content generation) (asst_ZxEMkcCQS0bDOQQQCrveRdNz) is not deleted.\n",
      "6 - Agent Synth (for Fabric, focused on data synthesis and visualization) (asst_U9h4ux1iTdue8dF9yArV6Aha) is not deleted.\n",
      "7 - Agent Navigator (for Trip Advisor, guiding users through travel insights) (asst_3MkOnTUgjcJozbjU5CCio5dk) is not deleted.\n",
      "8 - Agent Sage (for AI Search, offering deep knowledge retrieval) (asst_HGsDJnktHqhrWXSNp4KH8Fd9) is not deleted.\n",
      "9 - Agent Insight agent (for Bing-powered search intelligence) (asst_skJxHZ50FDRwyjzUYITPbaCs) is not deleted.\n"
     ]
    }
   ],
   "source": [
    "print (f\"Nr. of existing agents that will be deleted: {len(project_client.agents.list_agents()['data'])}\\n\")\n",
    "\n",
    "i = 0\n",
    "for pca in project_client.agents.list_agents()['data']:\n",
    "    i += 1\n",
    "    project_client.agents.delete_agent(pca.id)\n",
    "    print(f\"{i} - Agent {pca.name} ({pca.id}) is not deleted.\")"
   ]
  },
  {
   "cell_type": "markdown",
   "id": "c8cc2b04-a0b3-45ee-9066-4306e16511f9",
   "metadata": {},
   "source": [
    "# HIC SUNT LEONES"
   ]
  }
 ],
 "metadata": {
  "kernelspec": {
   "display_name": "aaas",
   "language": "python",
   "name": "aaas"
  },
  "language_info": {
   "codemirror_mode": {
    "name": "ipython",
    "version": 3
   },
   "file_extension": ".py",
   "mimetype": "text/x-python",
   "name": "python",
   "nbconvert_exporter": "python",
   "pygments_lexer": "ipython3",
   "version": "3.12.8"
  }
 },
 "nbformat": 4,
 "nbformat_minor": 5
}
