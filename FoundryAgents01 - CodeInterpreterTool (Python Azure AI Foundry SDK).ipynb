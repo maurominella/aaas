{
 "cells": [
  {
   "cell_type": "markdown",
   "id": "bd7eb769-c574-4f94-a528-ff66d0b7c7b3",
   "metadata": {},
   "source": [
    "# Constants"
   ]
  },
  {
   "cell_type": "code",
   "execution_count": 1,
   "id": "98d9cc9d-cbef-4b35-a4a3-84802dd4ee06",
   "metadata": {},
   "outputs": [
    {
     "name": "stdout",
     "output_type": "stream",
     "text": [
      "Project Connection String: <...mai04-rg;mmai-hub04-prj01-fvye>\n"
     ]
    }
   ],
   "source": [
    "import os\n",
    "from dotenv import load_dotenv # requires python-dotenv\n",
    "# import logging\n",
    "# logging.basicConfig(level=logging.INFO) # Configure logging \n",
    "\n",
    "load_dotenv(\"./../config/credentials_my.env\")\n",
    "deployment_name =  \"gpt-4o-mini\" # gpt-4o-mini or gpt-4o\n",
    "\n",
    "print(f'Project Connection String: <...{os.environ[\"PROJECT_CONNECTION_STRING\"][-30:]}>')"
   ]
  },
  {
   "cell_type": "markdown",
   "id": "d5ff8df5-3544-4646-ae90-3d794944dfe7",
   "metadata": {},
   "source": [
    "# Create AI Foundry Project Client"
   ]
  },
  {
   "cell_type": "code",
   "execution_count": 2,
   "id": "5a9abb62-b855-402f-9e22-583ffe6bf8cb",
   "metadata": {},
   "outputs": [
    {
     "data": {
      "text/plain": [
       "{'subscription_id': 'eca2eddb-0f0c-4351-a634-52751499eeea',\n",
       " 'resource_group_name': 'mmai04-rg',\n",
       " 'project_name': 'mmai-hub04-prj01-fvye'}"
      ]
     },
     "execution_count": 2,
     "metadata": {},
     "output_type": "execute_result"
    }
   ],
   "source": [
    "from azure.ai.projects import AIProjectClient\n",
    "from azure.identity import DefaultAzureCredential\n",
    "\n",
    "project_client = AIProjectClient.from_connection_string(\n",
    "    credential=DefaultAzureCredential(), conn_str=os.environ[\"PROJECT_CONNECTION_STRING\"]\n",
    ")\n",
    "\n",
    "project_client.scope"
   ]
  },
  {
   "cell_type": "markdown",
   "id": "552f8322-d880-4e5b-8a2e-dcd3e1ffd0e0",
   "metadata": {},
   "source": [
    "# Just for testing: List current AI Foundry Agents"
   ]
  },
  {
   "cell_type": "code",
   "execution_count": 3,
   "id": "334ff5d8-0377-4b0f-9c57-5ce974c05a6a",
   "metadata": {},
   "outputs": [
    {
     "data": {
      "text/plain": [
       "{'object': 'list', 'data': [{'id': 'asst_6Fi5xvchHAqbT2xpMf4MZNqV', 'object': 'assistant', 'created_at': 1739872033, 'name': 'AnimalPicker', 'description': None, 'model': 'gpt-4o', 'instructions': '**YOUR GOAL**\\r\\nYou have to do a WEB search with the provided tools, and return **EXCLUSIVELY** the name of an animal.\\r\\nFor example if the question \"what is the most common mammal in Nuova Guinea?\", you should do a WEB search and return the kangaroo.', 'tools': [], 'top_p': 1.0, 'temperature': 1.0, 'tool_resources': {}, 'metadata': {}, 'response_format': 'auto'}, {'id': 'asst_ImPt29r2ILkK2VqLUUYPiqaa', 'object': 'assistant', 'created_at': 1739832429, 'name': 'my-assistant', 'description': None, 'model': 'gpt-4o', 'instructions': 'You are a helpful assistant.', 'tools': [{'type': 'bing_grounding', 'bing_grounding': {'connections': [{'connection_id': '/subscriptions/eca2eddb-0f0c-4351-a634-52751499eeea/resourceGroups/mmai04-rg/providers/Microsoft.MachineLearningServices/workspaces/mmai-hub04-prj01-fvye/connections/grounding_with_bing_search_connection'}]}}], 'top_p': 1.0, 'temperature': 1.0, 'tool_resources': {}, 'metadata': {}, 'response_format': 'auto'}, {'id': 'asst_HDBDo0Tpis8V9siBdQt18M5i', 'object': 'assistant', 'created_at': 1739811315, 'name': 'aiagent-PYTHON_SK', 'description': None, 'model': 'gpt-4o', 'instructions': 'you are a clever agent', 'tools': [], 'top_p': 1.0, 'temperature': 1.0, 'tool_resources': {}, 'metadata': {}, 'response_format': 'auto'}, {'id': 'asst_B75NEB4qt3BCsh4qxVwI0ayg', 'object': 'assistant', 'created_at': 1739811313, 'name': 'aiagent-PYTHON_aifoundry', 'description': None, 'model': 'gpt-4o', 'instructions': 'you are a clever agent', 'tools': [], 'top_p': 1.0, 'temperature': 1.0, 'tool_resources': {}, 'metadata': {}, 'response_format': 'auto'}, {'id': 'asst_j1qWBdGsjbK4hHcO0M0n3M5p', 'object': 'assistant', 'created_at': 1739758230, 'name': 'agent_name', 'description': None, 'model': 'gpt-4o', 'instructions': 'you are a clever agent', 'tools': [], 'top_p': 1.0, 'temperature': 1.0, 'tool_resources': {}, 'metadata': {}, 'response_format': 'auto'}, {'id': 'asst_2Z0fLNdyBFVKrNRrL9ZFi721', 'object': 'assistant', 'created_at': 1739758228, 'name': 'agent_name', 'description': None, 'model': 'gpt-4o', 'instructions': 'you are a clever agent', 'tools': [], 'top_p': 1.0, 'temperature': 1.0, 'tool_resources': {}, 'metadata': {}, 'response_format': 'auto'}, {'id': 'asst_tx7knwYUNwaHJCm5bPZLXQ3Y', 'object': 'assistant', 'created_at': 1739756141, 'name': 'agent_name', 'description': None, 'model': 'gpt-4o', 'instructions': 'you are a clever agent', 'tools': [], 'top_p': 1.0, 'temperature': 1.0, 'tool_resources': {}, 'metadata': {}, 'response_format': 'auto'}, {'id': 'asst_HvoamP5WsTpJ17HsioksgE8H', 'object': 'assistant', 'created_at': 1739756129, 'name': 'agent_name', 'description': None, 'model': 'gpt-4o', 'instructions': 'you are a clever agent', 'tools': [], 'top_p': 1.0, 'temperature': 1.0, 'tool_resources': {}, 'metadata': {}, 'response_format': 'auto'}, {'id': 'asst_QSy0bRDliWUqUh5dGvS2T7rP', 'object': 'assistant', 'created_at': 1739756011, 'name': 'agent_name', 'description': None, 'model': 'gpt-4o', 'instructions': 'you are a clever agent', 'tools': [], 'top_p': 1.0, 'temperature': 1.0, 'tool_resources': {}, 'metadata': {}, 'response_format': 'auto'}, {'id': 'asst_p3bnUXQGNvSKPivKsO91zwrV', 'object': 'assistant', 'created_at': 1739754037, 'name': 'agent_name', 'description': None, 'model': 'gpt-4o', 'instructions': 'you are a clever agent', 'tools': [], 'top_p': 1.0, 'temperature': 1.0, 'tool_resources': {}, 'metadata': {}, 'response_format': 'auto'}, {'id': 'asst_hElrlNzUvcI5rVW8NYe0mGVH', 'object': 'assistant', 'created_at': 1739753913, 'name': 'agent_name', 'description': None, 'model': 'gpt-4o', 'instructions': 'you are a clever agent', 'tools': [], 'top_p': 1.0, 'temperature': 1.0, 'tool_resources': {}, 'metadata': {}, 'response_format': 'auto'}, {'id': 'asst_tcmLIjIEnNqE002vjyfBaQY1', 'object': 'assistant', 'created_at': 1739753911, 'name': 'agent_name', 'description': None, 'model': 'gpt-4o', 'instructions': 'you are a clever agent', 'tools': [], 'top_p': 1.0, 'temperature': 1.0, 'tool_resources': {}, 'metadata': {}, 'response_format': 'auto'}, {'id': 'asst_lFCnGlI3XfaizJQC77QCwGE9', 'object': 'assistant', 'created_at': 1739753869, 'name': 'agent_name', 'description': None, 'model': 'gpt-4o', 'instructions': 'you are a clever agent', 'tools': [], 'top_p': 1.0, 'temperature': 1.0, 'tool_resources': {}, 'metadata': {}, 'response_format': 'auto'}, {'id': 'asst_q3gX11zU6gEAfE4GXYLSMmGG', 'object': 'assistant', 'created_at': 1739753243, 'name': 'agent_name', 'description': None, 'model': 'gpt-4o', 'instructions': 'you are a clever agent', 'tools': [], 'top_p': 1.0, 'temperature': 1.0, 'tool_resources': {}, 'metadata': {}, 'response_format': 'auto'}, {'id': 'asst_jK7XNmLmdjz0hGcDol04GaTt', 'object': 'assistant', 'created_at': 1739753163, 'name': 'agent_name', 'description': None, 'model': 'gpt-4o', 'instructions': 'you are a clever agent', 'tools': [], 'top_p': 1.0, 'temperature': 1.0, 'tool_resources': {}, 'metadata': {}, 'response_format': 'auto'}, {'id': 'asst_Xu52lNX24tXcympN1bMLpwFL', 'object': 'assistant', 'created_at': 1739753157, 'name': 'agent_name', 'description': None, 'model': 'gpt-4o', 'instructions': 'you are a clever agent', 'tools': [], 'top_p': 1.0, 'temperature': 1.0, 'tool_resources': {}, 'metadata': {}, 'response_format': 'auto'}, {'id': 'asst_4tyUDomGGFJxFhIxTZ8Y8Jvv', 'object': 'assistant', 'created_at': 1739752488, 'name': 'AGENT_NAME', 'description': None, 'model': 'gpt-4o', 'instructions': 'You are a helpful agent', 'tools': [], 'top_p': 1.0, 'temperature': 1.0, 'tool_resources': {}, 'metadata': {}, 'response_format': 'auto'}, {'id': 'asst_mRCGx891RzkXLe2RRVGVsPM1', 'object': 'assistant', 'created_at': 1739752136, 'name': 'my-agent', 'description': None, 'model': 'gpt-4o', 'instructions': 'You are a helpful agent', 'tools': [{'type': 'code_interpreter'}], 'top_p': 1.0, 'temperature': 1.0, 'tool_resources': {'code_interpreter': {'file_ids': []}}, 'metadata': {}, 'response_format': 'auto'}], 'first_id': 'asst_6Fi5xvchHAqbT2xpMf4MZNqV', 'last_id': 'asst_mRCGx891RzkXLe2RRVGVsPM1', 'has_more': False}"
      ]
     },
     "execution_count": 3,
     "metadata": {},
     "output_type": "execute_result"
    }
   ],
   "source": [
    "project_client.agents.list_agents()"
   ]
  },
  {
   "cell_type": "markdown",
   "id": "80eeab3e-4e0d-40ad-b522-2faf0787384f",
   "metadata": {},
   "source": [
    "# Create the CodeInterpreterTool"
   ]
  },
  {
   "cell_type": "code",
   "execution_count": 4,
   "id": "daae01d0-2496-49b4-b8ce-71714f16f9af",
   "metadata": {},
   "outputs": [
    {
     "name": "stdout",
     "output_type": "stream",
     "text": [
      "Code interpreter definitions: [{'type': 'code_interpreter'}]\n",
      "Code interpreter resources: {}\n"
     ]
    }
   ],
   "source": [
    "from azure.ai.projects.models import CodeInterpreterTool\n",
    "\n",
    "code_interpreter = CodeInterpreterTool()\n",
    "print(f\"Code interpreter definitions: {code_interpreter.definitions}\")\n",
    "print(f\"Code interpreter resources: {code_interpreter.resources}\")"
   ]
  },
  {
   "cell_type": "markdown",
   "id": "63a67348-3db6-44e4-bc75-26b01a35cfdd",
   "metadata": {},
   "source": [
    "# Create AI Foundry Agent with its CodeInterpreterTool for AI Agents"
   ]
  },
  {
   "cell_type": "code",
   "execution_count": 5,
   "id": "be53bb45-87fe-46a2-afb5-925881baf673",
   "metadata": {},
   "outputs": [
    {
     "data": {
      "text/plain": [
       "<bound method _MyMutableMapping.items of {'id': 'asst_NdCioL7GhlIkC3ahtOZ9RPgk', 'object': 'assistant', 'created_at': 1739892025, 'name': 'my-agent999', 'description': None, 'model': 'gpt-4o-mini', 'instructions': 'You are a helpful agent', 'tools': [{'type': 'code_interpreter'}], 'top_p': 1.0, 'temperature': 1.0, 'tool_resources': {'code_interpreter': {'file_ids': []}}, 'metadata': {}, 'response_format': 'auto'}>"
      ]
     },
     "execution_count": 5,
     "metadata": {},
     "output_type": "execute_result"
    }
   ],
   "source": [
    "# ...then, create the AI Foundry Agent, attaching CodeInterpreterTool object\n",
    "ai_agent = project_client.agents.create_agent(\n",
    "    model=deployment_name,\n",
    "    name=\"my-agent999\",\n",
    "    instructions=\"You are a helpful agent\",\n",
    "    tools=code_interpreter.definitions,\n",
    "    tool_resources=code_interpreter.resources,\n",
    ")\n",
    "\n",
    "ai_agent.items"
   ]
  },
  {
   "cell_type": "markdown",
   "id": "c2f5701e-3363-40ff-8ef6-4450d90041e2",
   "metadata": {},
   "source": [
    "# Just for testing: create a new agent and delete it"
   ]
  },
  {
   "cell_type": "code",
   "execution_count": null,
   "id": "45404c3b-2dd9-4319-a178-cadab401bea6",
   "metadata": {},
   "outputs": [],
   "source": [
    "# Create a second agent\n",
    "ai_agent_02 = project_client.agents.create_agent(\n",
    "    model=deployment_name,\n",
    "    name=\"my-agent\",\n",
    "    instructions=\"You are a helpful agent\",\n",
    "    tools=code_interpreter.definitions,\n",
    "    tool_resources=code_interpreter.resources,\n",
    ")\n",
    "\n",
    "# List all agents\n",
    "print(f\"All agents, including the second one: {project_client.agents.list_agents()['data']}\\n\")\n",
    "\n",
    "project_client.agents.delete_agent(ai_agent_02.id)\n",
    "\n",
    "# List all agents\n",
    "print(f\"All agents, after deleting the second one: {project_client.agents.list_agents()['data']}\")"
   ]
  },
  {
   "cell_type": "markdown",
   "id": "300f0153-3b23-4128-87b7-a3854c2d9566",
   "metadata": {},
   "source": [
    "# Create the thread and attach a new message to it"
   ]
  },
  {
   "cell_type": "code",
   "execution_count": 6,
   "id": "35d519ab-0642-4198-b484-2aca590669e9",
   "metadata": {},
   "outputs": [
    {
     "name": "stdout",
     "output_type": "stream",
     "text": [
      "Created thread: {'id': 'thread_80Efk2dzmqpMzYQwGb7OG1gp', 'object': 'thread', 'created_at': 1739892112, 'metadata': {}, 'tool_resources': {}}\n",
      "\n",
      "Messages: {'object': 'list', 'data': [{'id': 'msg_oINdOqM3uBR3ekFOGRne0oYl', 'object': 'thread.message', 'created_at': 1739892113, 'assistant_id': None, 'thread_id': 'thread_80Efk2dzmqpMzYQwGb7OG1gp', 'run_id': None, 'role': 'user', 'content': [{'type': 'text', 'text': {'value': '\\n    Could you please create a bar chart for the operating profit using \\n    the following data and provide the file to me? \\n    Company A: $1.2 million, Company B: $2.5 million, Company C: $3.0 million, \\n    Company D: $1.8 million\\n    ', 'annotations': []}}], 'attachments': [], 'metadata': {}}], 'first_id': 'msg_oINdOqM3uBR3ekFOGRne0oYl', 'last_id': 'msg_oINdOqM3uBR3ekFOGRne0oYl', 'has_more': False}\n"
     ]
    }
   ],
   "source": [
    "# Create a thread\n",
    "thread = project_client.agents.create_thread()\n",
    "\n",
    "print(f\"Created thread: {thread}\\n\")\n",
    "\n",
    "# Add a user message to the thread\n",
    "message = project_client.agents.create_message(\n",
    "    thread_id=thread.id,\n",
    "    role=\"user\",\n",
    "    content=\"\"\"\n",
    "    Could you please create a bar chart for the operating profit using \n",
    "    the following data and provide the file to me? \n",
    "    Company A: $1.2 million, Company B: $2.5 million, Company C: $3.0 million, \n",
    "    Company D: $1.8 million\n",
    "    \"\"\",\n",
    ")\n",
    "print(f\"Messages: {project_client.agents.list_messages(thread_id=thread.id)}\")"
   ]
  },
  {
   "cell_type": "markdown",
   "id": "7dec81ea-03c6-4e6c-bf49-767acd1a5928",
   "metadata": {},
   "source": [
    "# Run the agent syncrhonously"
   ]
  },
  {
   "cell_type": "code",
   "execution_count": null,
   "id": "21ea64d8-0e95-423f-925b-74f10c1f411b",
   "metadata": {},
   "outputs": [],
   "source": [
    "%%time\n",
    "\n",
    "# Run the agent\n",
    "run = project_client.agents.create_and_process_run\\\n",
    "    (thread_id=thread.id, assistant_id=ai_agent.id)\n",
    "\n",
    "print(f\"Run status: {run.status}.\\n\\nRun details: {run}\")"
   ]
  },
  {
   "cell_type": "markdown",
   "id": "43ed4cdb-c460-4af1-8f90-2c5b55e831f9",
   "metadata": {},
   "source": [
    "# Fetch messages from the thread after the agent run execution"
   ]
  },
  {
   "cell_type": "code",
   "execution_count": null,
   "id": "205ebfb0-db5f-4d3a-9ab2-493bef8374c0",
   "metadata": {},
   "outputs": [],
   "source": [
    "from azure.ai.projects.models import MessageTextContent, MessageImageFileContent\n",
    "\n",
    "if run.status == 'completed':    \n",
    "    messages = project_client.agents.list_messages(thread_id=thread.id)\n",
    "    messages_nr = len(messages.data)\n",
    "    print(f\"Here are the {messages_nr} messages:\\n\")\n",
    "    \n",
    "    for i, message in enumerate(reversed(messages.data), 1):\n",
    "        j = 0\n",
    "        print(f\"\\n===== MESSAGE {i} =====\")\n",
    "        for c in message.content:\n",
    "            j +=1\n",
    "            if (type(c) is MessageImageFileContent):\n",
    "                print(f\"\\nCONTENT {j} (MessageImageFileContent) --> image_file id: {c.image_file.file_id}\")\n",
    "            elif (type(c) is MessageTextContent):\n",
    "                print(f\"\\nCONTENT {j} (MessageTextContent) --> Text: {c.text.value}\")\n",
    "                for a in c.text.annotations:\n",
    "                    print(f\">>> Annotation in MessageTextContent {j} of message {i}: {a.text}\\n\")\n",
    "\n",
    "else:\n",
    "    print(f\"Sorry, I can't proceed because the run status is {run.status}\")"
   ]
  },
  {
   "cell_type": "markdown",
   "id": "de314be8-f7b6-4c45-bb0e-1cde9b68b92d",
   "metadata": {},
   "source": [
    "# Retrieve and download eventual annotations"
   ]
  },
  {
   "cell_type": "code",
   "execution_count": null,
   "id": "55bcd0f8-822d-4a78-ba7f-b5d27bd2a514",
   "metadata": {},
   "outputs": [],
   "source": [
    "# messages.file_path_annotations[0].text.split('/')[-1]\n",
    "print (f\"Nr. of file path annotations: {len(messages.file_path_annotations)}\\n\")\n",
    "\n",
    "i=0\n",
    "for file_path_annotation in messages.file_path_annotations:\n",
    "    i += 1\n",
    "    print(f\"{i} - File annotation paths: {file_path_annotation}\")\n",
    "    file_name = file_path_annotation.text.split('/')[-1]\n",
    "    project_client.agents.save_file(file_id=file_path_annotation.file_path.file_id, file_name=file_name)\n",
    "    print(f\"File annoation {i} saved as file to: {os.getcwd()}\\\\{file_name}\")"
   ]
  },
  {
   "cell_type": "markdown",
   "id": "ee38e091-cd96-441b-88e1-b9aec9ca20de",
   "metadata": {},
   "source": [
    "# Retrieve and download eventual images"
   ]
  },
  {
   "cell_type": "code",
   "execution_count": null,
   "id": "73f292e8-41e8-4bee-ad54-2d6faa8ec058",
   "metadata": {},
   "outputs": [],
   "source": [
    "print (f\"Nr. of image contents: {len(messages.image_contents)}\\n\")\n",
    "\n",
    "i=0\n",
    "# Generate an image file for the bar chart\n",
    "for image_content in messages.image_contents:\n",
    "    i += 1\n",
    "    print(f\"{i} - Image content: {image_content}\")\n",
    "    file_name = f\"{image_content.image_file.file_id}_image_content.png\"\n",
    "    project_client.agents.save_file(file_id=image_content.image_file.file_id, file_name=file_name)\n",
    "    print(f\"Image content {i} file to: {os.getcwd()}\\\\{file_name}\")"
   ]
  },
  {
   "cell_type": "markdown",
   "id": "c4ac27b7-1e6e-42c5-a2d7-6118ec0cf9da",
   "metadata": {},
   "source": [
    "# Delete all agents"
   ]
  },
  {
   "cell_type": "code",
   "execution_count": null,
   "id": "05648e27-338e-423d-927b-ef441da75bd3",
   "metadata": {},
   "outputs": [],
   "source": [
    "print (f\"Nr. of existing agents that will be deleted: {len(project_client.agents.list_agents()['data'])}\\n\")\n",
    "\n",
    "i = 0\n",
    "for pca in project_client.agents.list_agents()['data']:\n",
    "    i += 1\n",
    "    project_client.agents.delete_agent(pca.id)\n",
    "    print(f\"{i} - Agent {pca.name} ({pca.id}) is not deleted.\")"
   ]
  },
  {
   "cell_type": "markdown",
   "id": "c8cc2b04-a0b3-45ee-9066-4306e16511f9",
   "metadata": {},
   "source": [
    "# HIC SUNT LEONES"
   ]
  }
 ],
 "metadata": {
  "kernelspec": {
   "display_name": "aaas",
   "language": "python",
   "name": "aaas"
  },
  "language_info": {
   "codemirror_mode": {
    "name": "ipython",
    "version": 3
   },
   "file_extension": ".py",
   "mimetype": "text/x-python",
   "name": "python",
   "nbconvert_exporter": "python",
   "pygments_lexer": "ipython3",
   "version": "3.12.8"
  }
 },
 "nbformat": 4,
 "nbformat_minor": 5
}
