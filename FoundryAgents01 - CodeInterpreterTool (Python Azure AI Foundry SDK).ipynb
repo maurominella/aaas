{
 "cells": [
  {
   "cell_type": "markdown",
   "id": "bd7eb769-c574-4f94-a528-ff66d0b7c7b3",
   "metadata": {},
   "source": [
    "# Constants and Libraries"
   ]
  },
  {
   "cell_type": "code",
   "execution_count": 1,
   "id": "08e8ed1f-3eee-4994-b057-89c0d91b8c03",
   "metadata": {},
   "outputs": [],
   "source": [
    "# ! az login --tenant 3ad0b905-34ab-4116-93d9-c1dcc2d35af6"
   ]
  },
  {
   "cell_type": "code",
   "execution_count": 2,
   "id": "98d9cc9d-cbef-4b35-a4a3-84802dd4ee06",
   "metadata": {},
   "outputs": [
    {
     "name": "stdout",
     "output_type": "stream",
     "text": [
      "Environment variables have been loaded ;-)\n",
      "Project Connection String: <...hub01-grp;mmai-swc-hub01-prj01>\n"
     ]
    }
   ],
   "source": [
    "import os\n",
    "from IPython.display import Markdown, display\n",
    "from dotenv import load_dotenv # requires python-dotenv\n",
    "from PIL import Image\n",
    "from datetime import datetime\n",
    "\n",
    "if not load_dotenv(\"./../config/credentials_my.env\"):\n",
    "    print(\"Environment variables not loaded, cell execution stopped\")\n",
    "    sys.exit()\n",
    "print(\"Environment variables have been loaded ;-)\")\n",
    "\n",
    "deployment_name =  os.environ[\"MODEL_DEPLOYMENT_NAME_MINI\"]\n",
    "api_version = os.environ[\"OPENAI_API_VERSION\"] # at least \"2025-03-01-preview\"\n",
    "\n",
    "print(f'Project Connection String: <...{os.environ[\"PROJECT_CONNECTION_STRING\"][-30:]}>')"
   ]
  },
  {
   "cell_type": "markdown",
   "id": "d5ff8df5-3544-4646-ae90-3d794944dfe7",
   "metadata": {},
   "source": [
    "# Create AI Foundry Project Client"
   ]
  },
  {
   "cell_type": "code",
   "execution_count": 3,
   "id": "5a9abb62-b855-402f-9e22-583ffe6bf8cb",
   "metadata": {},
   "outputs": [
    {
     "data": {
      "text/plain": [
       "{'subscription_id': 'eca2eddb-0f0c-4351-a634-52751499eeea',\n",
       " 'resource_group_name': 'mmai-swc-hub01-grp',\n",
       " 'project_name': 'mmai-swc-hub01-prj01'}"
      ]
     },
     "execution_count": 3,
     "metadata": {},
     "output_type": "execute_result"
    }
   ],
   "source": [
    "from azure.ai.projects import AIProjectClient\n",
    "from azure.identity import DefaultAzureCredential\n",
    "\n",
    "project_client = AIProjectClient.from_connection_string(\n",
    "    credential=DefaultAzureCredential(), \n",
    "    conn_str=os.environ[\"PROJECT_CONNECTION_STRING\"]\n",
    ")\n",
    "\n",
    "project_client.scope"
   ]
  },
  {
   "cell_type": "markdown",
   "id": "552f8322-d880-4e5b-8a2e-dcd3e1ffd0e0",
   "metadata": {},
   "source": [
    "# Just for testing: List current AI Foundry Agents"
   ]
  },
  {
   "cell_type": "code",
   "execution_count": 4,
   "id": "334ff5d8-0377-4b0f-9c57-5ce974c05a6a",
   "metadata": {},
   "outputs": [
    {
     "data": {
      "text/plain": [
       "{'object': 'list', 'data': [{'id': 'asst_1tOGQ4Yb1epDaiNSJ9Db4ul4', 'object': 'assistant', 'created_at': 1745616439, 'name': 'my-agent001', 'description': None, 'model': 'gpt-4o-mini', 'instructions': 'You are a helpful agent', 'tools': [{'type': 'code_interpreter'}], 'top_p': 1.0, 'temperature': 1.0, 'tool_resources': {'code_interpreter': {'file_ids': []}}, 'metadata': {}, 'response_format': 'auto'}], 'first_id': 'asst_1tOGQ4Yb1epDaiNSJ9Db4ul4', 'last_id': 'asst_1tOGQ4Yb1epDaiNSJ9Db4ul4', 'has_more': False}"
      ]
     },
     "execution_count": 4,
     "metadata": {},
     "output_type": "execute_result"
    }
   ],
   "source": [
    "agents = project_client.agents.list_agents()\n",
    "agents"
   ]
  },
  {
   "cell_type": "code",
   "execution_count": 5,
   "id": "c8e63ba3-13c6-471b-99ba-e6501f26f273",
   "metadata": {},
   "outputs": [
    {
     "data": {
      "text/plain": [
       "['asst_1tOGQ4Yb1epDaiNSJ9Db4ul4: my-agent001']"
      ]
     },
     "execution_count": 5,
     "metadata": {},
     "output_type": "execute_result"
    }
   ],
   "source": [
    "# easier to read ;-)\n",
    "\n",
    "[f\"{a.id}: {a.name}\" for a in agents.data]"
   ]
  },
  {
   "cell_type": "markdown",
   "id": "80eeab3e-4e0d-40ad-b522-2faf0787384f",
   "metadata": {},
   "source": [
    "# Create the CodeInterpreterTool"
   ]
  },
  {
   "cell_type": "code",
   "execution_count": 6,
   "id": "daae01d0-2496-49b4-b8ce-71714f16f9af",
   "metadata": {},
   "outputs": [
    {
     "name": "stdout",
     "output_type": "stream",
     "text": [
      "Code interpreter definitions: [{'type': 'code_interpreter'}]\n",
      "Code interpreter resources: {}\n"
     ]
    }
   ],
   "source": [
    "from azure.ai.projects.models import CodeInterpreterTool\n",
    "\n",
    "code_interpreter = CodeInterpreterTool()\n",
    "print(f\"Code interpreter definitions: {code_interpreter.definitions}\")\n",
    "print(f\"Code interpreter resources: {code_interpreter.resources}\")"
   ]
  },
  {
   "cell_type": "markdown",
   "id": "63a67348-3db6-44e4-bc75-26b01a35cfdd",
   "metadata": {},
   "source": [
    "# Create AI Foundry Agent with its CodeInterpreterTool for AI Agents"
   ]
  },
  {
   "cell_type": "code",
   "execution_count": 7,
   "id": "be53bb45-87fe-46a2-afb5-925881baf673",
   "metadata": {},
   "outputs": [
    {
     "data": {
      "text/plain": [
       "<bound method _MyMutableMapping.items of {'id': 'asst_gD2R7c8m5YtvaE7u6proOuGs', 'object': 'assistant', 'created_at': 1745616748, 'name': 'my-agent001', 'description': None, 'model': 'gpt-4o-mini', 'instructions': 'You are a helpful agent', 'tools': [{'type': 'code_interpreter'}], 'top_p': 1.0, 'temperature': 1.0, 'tool_resources': {'code_interpreter': {'file_ids': []}}, 'metadata': {}, 'response_format': 'auto'}>"
      ]
     },
     "execution_count": 7,
     "metadata": {},
     "output_type": "execute_result"
    }
   ],
   "source": [
    "# ...then, create the AI Foundry Agent, attaching CodeInterpreterTool object\n",
    "ai_agent = project_client.agents.create_agent(\n",
    "    model=deployment_name,\n",
    "    name=\"my-agent001\",\n",
    "    instructions=\"You are a helpful agent\",\n",
    "    tools=code_interpreter.definitions,\n",
    "    tool_resources=code_interpreter.resources,\n",
    ")\n",
    "\n",
    "ai_agent.items"
   ]
  },
  {
   "cell_type": "markdown",
   "id": "c2f5701e-3363-40ff-8ef6-4450d90041e2",
   "metadata": {},
   "source": [
    "# Just for testing: create a new agent and delete it"
   ]
  },
  {
   "cell_type": "code",
   "execution_count": 8,
   "id": "45404c3b-2dd9-4319-a178-cadab401bea6",
   "metadata": {},
   "outputs": [
    {
     "name": "stdout",
     "output_type": "stream",
     "text": [
      "All agents, including the useless one:\n"
     ]
    },
    {
     "data": {
      "text/plain": [
       "['asst_9XgDbkGwouUqS9xib41FDTUY: my-agent002 TO BE DELETED',\n",
       " 'asst_gD2R7c8m5YtvaE7u6proOuGs: my-agent001',\n",
       " 'asst_1tOGQ4Yb1epDaiNSJ9Db4ul4: my-agent001']"
      ]
     },
     "metadata": {},
     "output_type": "display_data"
    },
    {
     "name": "stdout",
     "output_type": "stream",
     "text": [
      "\n",
      "All agents, after deleting the useless one:\n"
     ]
    },
    {
     "data": {
      "text/plain": [
       "['asst_gD2R7c8m5YtvaE7u6proOuGs: my-agent001',\n",
       " 'asst_1tOGQ4Yb1epDaiNSJ9Db4ul4: my-agent001']"
      ]
     },
     "metadata": {},
     "output_type": "display_data"
    }
   ],
   "source": [
    "# Create a second agent\n",
    "ai_agent_02 = project_client.agents.create_agent(\n",
    "    model=deployment_name,\n",
    "    name=\"my-agent002 TO BE DELETED\",\n",
    "    instructions=\"You are a helpful agent\",\n",
    "    tools=code_interpreter.definitions,\n",
    "    tool_resources=code_interpreter.resources,\n",
    ")\n",
    "\n",
    "# List all agents\n",
    "print(f\"All agents, including the useless one:\")\n",
    "display([f\"{a.id}: {a.name}\" for a in project_client.agents.list_agents()['data']])\n",
    "\n",
    "project_client.agents.delete_agent(ai_agent_02.id)\n",
    "\n",
    "# List all agents\n",
    "print(f\"\\nAll agents, after deleting the useless one:\")\n",
    "display([f\"{a.id}: {a.name}\" for a in project_client.agents.list_agents()['data']])"
   ]
  },
  {
   "cell_type": "markdown",
   "id": "300f0153-3b23-4128-87b7-a3854c2d9566",
   "metadata": {},
   "source": [
    "# Create the thread and attach a new message to it"
   ]
  },
  {
   "cell_type": "code",
   "execution_count": 9,
   "id": "35d519ab-0642-4198-b484-2aca590669e9",
   "metadata": {},
   "outputs": [
    {
     "name": "stdout",
     "output_type": "stream",
     "text": [
      "Created thread: {'id': 'thread_GOJawTtEyaPcbtJibLFDqq0d', 'object': 'thread', 'created_at': 1745616750, 'metadata': {}, 'tool_resources': {}}\n",
      "\n",
      "Messages: {'object': 'list', 'data': [{'id': 'msg_9Kq8T60y406wvtB8ta7ceFTd', 'object': 'thread.message', 'created_at': 1745616751, 'assistant_id': None, 'thread_id': 'thread_GOJawTtEyaPcbtJibLFDqq0d', 'run_id': None, 'role': 'user', 'content': [{'type': 'text', 'text': {'value': '\\n    Could you please create a bar chart for the operating profit using \\n    the following data and provide the file to me? \\n    Company A: $1.2 million, Company B: $2.5 million, Company C: $3.0 million, \\n    Company D: $1.8 million\\n    ', 'annotations': []}}], 'attachments': [], 'metadata': {}}], 'first_id': 'msg_9Kq8T60y406wvtB8ta7ceFTd', 'last_id': 'msg_9Kq8T60y406wvtB8ta7ceFTd', 'has_more': False}\n"
     ]
    }
   ],
   "source": [
    "# Create a thread\n",
    "thread = project_client.agents.create_thread()\n",
    "\n",
    "print(f\"Created thread: {thread}\\n\")\n",
    "\n",
    "# Add a user message to the thread\n",
    "message = project_client.agents.create_message(\n",
    "    thread_id=thread.id,\n",
    "    role=\"user\",\n",
    "    content=\"\"\"\n",
    "    Could you please create a bar chart for the operating profit using \n",
    "    the following data and provide the file to me? \n",
    "    Company A: $1.2 million, Company B: $2.5 million, Company C: $3.0 million, \n",
    "    Company D: $1.8 million\n",
    "    \"\"\",\n",
    ")\n",
    "print(f\"Messages: {project_client.agents.list_messages(thread_id=thread.id)}\")"
   ]
  },
  {
   "cell_type": "markdown",
   "id": "7dec81ea-03c6-4e6c-bf49-767acd1a5928",
   "metadata": {},
   "source": [
    "# Run the agent syncrhonously"
   ]
  },
  {
   "cell_type": "code",
   "execution_count": 10,
   "id": "21ea64d8-0e95-423f-925b-74f10c1f411b",
   "metadata": {},
   "outputs": [
    {
     "name": "stdout",
     "output_type": "stream",
     "text": [
      "Run status: RunStatus.COMPLETED.\n",
      "\n",
      "Run details: {'id': 'run_vCltUzwJ5gp9jqZ1mtJ4J1XL', 'object': 'thread.run', 'created_at': 1745616753, 'assistant_id': 'asst_gD2R7c8m5YtvaE7u6proOuGs', 'thread_id': 'thread_GOJawTtEyaPcbtJibLFDqq0d', 'status': 'completed', 'started_at': 1745616753, 'expires_at': None, 'cancelled_at': None, 'failed_at': None, 'completed_at': 1745616760, 'required_action': None, 'last_error': None, 'model': 'gpt-4o-mini', 'instructions': 'You are a helpful agent', 'tools': [{'type': 'code_interpreter'}], 'tool_resources': {}, 'metadata': {}, 'temperature': 1.0, 'top_p': 1.0, 'max_completion_tokens': None, 'max_prompt_tokens': None, 'truncation_strategy': {'type': 'auto', 'last_messages': None}, 'incomplete_details': None, 'usage': {'prompt_tokens': 625, 'completion_tokens': 217, 'total_tokens': 842, 'prompt_token_details': {'cached_tokens': 0}}, 'response_format': 'auto', 'tool_choice': 'auto', 'parallel_tool_calls': True}\n",
      "CPU times: total: 62.5 ms\n",
      "Wall time: 9.67 s\n"
     ]
    }
   ],
   "source": [
    "%%time\n",
    "\n",
    "# Run the agent\n",
    "run = project_client.agents.create_and_process_run\\\n",
    "    (thread_id=thread.id, assistant_id=ai_agent.id)\n",
    "\n",
    "print(f\"Run status: {run.status}.\\n\\nRun details: {run}\")"
   ]
  },
  {
   "cell_type": "markdown",
   "id": "43ed4cdb-c460-4af1-8f90-2c5b55e831f9",
   "metadata": {},
   "source": [
    "# Fetch messages from the thread after the agent run execution"
   ]
  },
  {
   "cell_type": "code",
   "execution_count": 11,
   "id": "205ebfb0-db5f-4d3a-9ab2-493bef8374c0",
   "metadata": {},
   "outputs": [
    {
     "name": "stdout",
     "output_type": "stream",
     "text": [
      "Here are the 2 messages:\n",
      "\n",
      "\n",
      "===== MESSAGE 1 =====\n",
      "\n",
      "CONTENT 1 (MessageTextContent) --> Text: \n",
      "    Could you please create a bar chart for the operating profit using \n",
      "    the following data and provide the file to me? \n",
      "    Company A: $1.2 million, Company B: $2.5 million, Company C: $3.0 million, \n",
      "    Company D: $1.8 million\n",
      "    \n",
      "\n",
      "===== MESSAGE 2 =====\n",
      "\n",
      "CONTENT 1 (MessageTextContent) --> Text: I have created the bar chart for the operating profits. You can download it using the link below:\n",
      "\n",
      "[Download Operating Profit Bar Chart](sandbox:/mnt/data/operating_profit_bar_chart.png)\n",
      ">>> Annotation in MessageTextContent 1 of message 2: sandbox:/mnt/data/operating_profit_bar_chart.png\n",
      "\n"
     ]
    }
   ],
   "source": [
    "from azure.ai.projects.models import MessageTextContent, MessageImageFileContent\n",
    "\n",
    "if run.status == 'completed':    \n",
    "    messages = project_client.agents.list_messages(thread_id=thread.id)\n",
    "    messages_nr = len(messages.data)\n",
    "    print(f\"Here are the {messages_nr} messages:\\n\")\n",
    "    \n",
    "    for i, message in enumerate(reversed(messages.data), 1):\n",
    "        j = 0\n",
    "        print(f\"\\n===== MESSAGE {i} =====\")\n",
    "        for c in message.content:\n",
    "            j +=1\n",
    "            if (type(c) is MessageImageFileContent):\n",
    "                print(f\"\\nCONTENT {j} (MessageImageFileContent) --> image_file id: {c.image_file.file_id}\")\n",
    "            elif (type(c) is MessageTextContent):\n",
    "                print(f\"\\nCONTENT {j} (MessageTextContent) --> Text: {c.text.value}\")\n",
    "                for a in c.text.annotations:\n",
    "                    print(f\">>> Annotation in MessageTextContent {j} of message {i}: {a.text}\\n\")\n",
    "\n",
    "else:\n",
    "    print(f\"Sorry, I can't proceed because the run status is {run.status}\")"
   ]
  },
  {
   "cell_type": "markdown",
   "id": "de314be8-f7b6-4c45-bb0e-1cde9b68b92d",
   "metadata": {},
   "source": [
    "# Retrieve and download eventual annotations"
   ]
  },
  {
   "cell_type": "code",
   "execution_count": 12,
   "id": "55bcd0f8-822d-4a78-ba7f-b5d27bd2a514",
   "metadata": {},
   "outputs": [
    {
     "name": "stdout",
     "output_type": "stream",
     "text": [
      "Nr. of file path annotations: 1\n",
      "\n",
      "1 - File annotation paths: {'type': 'file_path', 'text': 'sandbox:/mnt/data/operating_profit_bar_chart.png', 'start_index': 137, 'end_index': 185, 'file_path': {'file_id': 'assistant-A3EK7AgNm4ubELJj8XyniY'}}\n",
      "File annotation 1 saved as file to: E:\\Users\\mauromi\\source\\git_repos\\aaas\\operating_profit_bar_chart.png\n"
     ]
    }
   ],
   "source": [
    "# messages.file_path_annotations[0].text.split('/')[-1]\n",
    "print (f\"Nr. of file path annotations: {len(messages.file_path_annotations)}\\n\")\n",
    "\n",
    "i=0\n",
    "for file_path_annotation in messages.file_path_annotations:\n",
    "    i += 1\n",
    "    print(f\"{i} - File annotation paths: {file_path_annotation}\")\n",
    "    file_name = file_path_annotation.text.split('/')[-1]\n",
    "    project_client.agents.save_file(file_id=file_path_annotation.file_path.file_id, file_name=file_name)\n",
    "    print(f\"File annotation {i} saved as file to: {os.getcwd()}\\\\{file_name}\")\n",
    "    image = Image.open(f\"{os.getcwd()}\\\\{file_name}\") # Open the image\n",
    "    image.show() # Display the image"
   ]
  },
  {
   "cell_type": "markdown",
   "id": "ee38e091-cd96-441b-88e1-b9aec9ca20de",
   "metadata": {},
   "source": [
    "# Retrieve and download eventual images"
   ]
  },
  {
   "cell_type": "code",
   "execution_count": 13,
   "id": "73f292e8-41e8-4bee-ad54-2d6faa8ec058",
   "metadata": {},
   "outputs": [
    {
     "name": "stdout",
     "output_type": "stream",
     "text": [
      "Nr. of image contents: 0\n",
      "\n"
     ]
    }
   ],
   "source": [
    "print (f\"Nr. of image contents: {len(messages.image_contents)}\\n\")\n",
    "\n",
    "i=0\n",
    "# Generate an image file for the bar chart\n",
    "for image_content in messages.image_contents:\n",
    "    i += 1\n",
    "    print(f\"{i} - Image content: {image_content}\")\n",
    "    file_name = f\"{image_content.image_file.file_id}_image_content.png\"\n",
    "    project_client.agents.save_file(file_id=image_content.image_file.file_id, file_name=file_name)\n",
    "    print(f\"Image content {i} file to: {os.getcwd()}\\\\{file_name}\")\n",
    "    image = Image.open(f\"{os.getcwd()}\\\\{file_name}\") # Open the image\n",
    "    image.show() # Display the image"
   ]
  },
  {
   "cell_type": "markdown",
   "id": "c4ac27b7-1e6e-42c5-a2d7-6118ec0cf9da",
   "metadata": {},
   "source": [
    "# Teardown for *all** agents and messages"
   ]
  },
  {
   "cell_type": "markdown",
   "id": "ef786a97-a465-467f-8769-0eadbeceb331",
   "metadata": {},
   "source": [
    "- Agent 2: asst_lPKlxViYS4as2edgZlwsGEPz (Navigator (for Trip Advisor, guiding users through travel insights)) created at 2025-04-25 19:54:36...\n",
    "- Agent 3: asst_P4wLkpQc1VV5tjb3XpLgNMQg (Oracle (for OpenAI-powered reasoning and content generation) created at 2025-04-25 19:54:18...\n",
    "- Agent 4: asst_QpVzw6SaAtyrue9LK3eidwww (Pulse (for monitoring trends and real-time data analysis)) created at 2025-04-25 19:54:05...\n",
    "- Agent 5: asst_mxbc98kziO1XIJKOUbWh8R14 (Sage (for AI Search, offering deep knowledge retrieval)) created at 2025-04-25 19:54:53...\n",
    "- Agent 6: asst_eAvAKNCADL9iW0xgtMMPgWTv (Scout (for broad web discovery and intelligence gathering)) created at 2025-04-25 19:54:09...\n",
    "- Agent 7: asst_uGwQrkuV7wIqy1X7fPVZbEU5 (Insight agent (for Bing-powered search intelligence)) created at 2025-04-25 19:54:32...\n",
    "- Agent 8: asst_gRXFM2Hb97USgxrD8Yb0kjZf (Beacon (for AI-driven recommendations and guidance)) created at 2025-04-25 19:53:51..."
   ]
  },
  {
   "cell_type": "code",
   "execution_count": 14,
   "id": "d128a024-18cc-4946-b539-db5c1d21e2fe",
   "metadata": {},
   "outputs": [
    {
     "name": "stdout",
     "output_type": "stream",
     "text": [
      "Agent 1: asst_gD2R7c8m5YtvaE7u6proOuGs (my-agent001) created at 2025-04-25 23:32:28...\n",
      "Agent 2: asst_1tOGQ4Yb1epDaiNSJ9Db4ul4 (my-agent001) created at 2025-04-25 23:27:19...\n",
      "\n",
      "2 agents have been successfully processed.\n"
     ]
    }
   ],
   "source": [
    "def list_agents(pc: AIProjectClient, delete:bool=False):\n",
    "    agents = pc.agents.list_agents(limit=100)['data']\n",
    "\n",
    "    i=0\n",
    "    while len(agents) > 0:\n",
    "        for agent in agents:\n",
    "            i=i+1\n",
    "            if delete:\n",
    "                print(f\"Deleting agent {i}: {agent.id} ({agent.name}) created at {datetime.fromtimestamp(agent['created_at']).strftime('%Y-%m-%d %H:%M:%S')}...\")\n",
    "                # client.beta.assistants.delete(assistant.id)\n",
    "                pc.agents.delete_agent(id = agent.id)\n",
    "            else:\n",
    "                print(f\"Agent {i}: {agent.id} ({agent.name}) created at {datetime.fromtimestamp(agent['created_at']).strftime('%Y-%m-%d %H:%M:%S')}...\")\n",
    "\n",
    "            agents.remove(agent)\n",
    "            #agents = project_client.agents.list_agents(limit=100)['data']\n",
    "    \n",
    "    print (f\"\\n{i} agents have been successfully processed.\")\n",
    "\n",
    "\n",
    "list_agents(project_client, delete=False)"
   ]
  },
  {
   "cell_type": "markdown",
   "id": "c8cc2b04-a0b3-45ee-9066-4306e16511f9",
   "metadata": {},
   "source": [
    "# HIC SUNT LEONES"
   ]
  }
 ],
 "metadata": {
  "kernelspec": {
   "display_name": "aaas",
   "language": "python",
   "name": "aaas"
  },
  "language_info": {
   "codemirror_mode": {
    "name": "ipython",
    "version": 3
   },
   "file_extension": ".py",
   "mimetype": "text/x-python",
   "name": "python",
   "nbconvert_exporter": "python",
   "pygments_lexer": "ipython3",
   "version": "3.12.8"
  }
 },
 "nbformat": 4,
 "nbformat_minor": 5
}
