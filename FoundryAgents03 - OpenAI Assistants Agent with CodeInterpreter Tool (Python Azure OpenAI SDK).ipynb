{
 "cells": [
  {
   "cell_type": "markdown",
   "id": "bd7eb769-c574-4f94-a528-ff66d0b7c7b3",
   "metadata": {},
   "source": [
    "# Constants"
   ]
  },
  {
   "cell_type": "code",
   "execution_count": null,
   "id": "98d9cc9d-cbef-4b35-a4a3-84802dd4ee06",
   "metadata": {},
   "outputs": [],
   "source": [
    "import os\n",
    "from dotenv import load_dotenv # requires python-dotenv\n",
    "# import logging\n",
    "# logging.basicConfig(level=logging.INFO) # Configure logging \n",
    "\n",
    "load_dotenv(\"./../config/credentials_my.env\")\n",
    "model_name =  \"gpt-4o-mini\" # gpt-4o-mini or gpt-4o\n",
    "\n",
    "print(f'Project Connection String: <...{os.environ[\"PROJECT_CONNECTION_STRING\"][-30:]}>')"
   ]
  },
  {
   "cell_type": "markdown",
   "id": "d5ff8df5-3544-4646-ae90-3d794944dfe7",
   "metadata": {},
   "source": [
    "# Create AI Foundry Project Client"
   ]
  },
  {
   "cell_type": "code",
   "execution_count": null,
   "id": "5a9abb62-b855-402f-9e22-583ffe6bf8cb",
   "metadata": {},
   "outputs": [],
   "source": [
    "from azure.ai.projects import AIProjectClient\n",
    "from azure.identity import DefaultAzureCredential\n",
    "\n",
    "project_client = AIProjectClient.from_connection_string(\n",
    "    credential=DefaultAzureCredential(), conn_str=os.environ[\"PROJECT_CONNECTION_STRING\"]\n",
    ")\n",
    "\n",
    "project_client.scope"
   ]
  },
  {
   "cell_type": "markdown",
   "id": "59c23d24-7ccf-41f1-8aba-f13988ee1490",
   "metadata": {},
   "source": [
    "# Extract Azure OpenAI client from the AI Foundry Project"
   ]
  },
  {
   "cell_type": "code",
   "execution_count": null,
   "id": "9113b25e-b2ba-449a-bc98-d51dc5a95650",
   "metadata": {},
   "outputs": [],
   "source": [
    "from openai import AzureOpenAI # <<<<< NOT NEEDED FOR AZURE AI FOUNDRY SDK\n",
    "\n",
    "# using explicit type hinting for IntelliSense\n",
    "azure_openai_client: AzureOpenAI = project_client.inference.get_azure_openai_client(\n",
    "    api_version = os.environ.get(\"AZURE_OPENAI_API_VERSION\"),\n",
    ")\n",
    "\n",
    "# if NOT MI --> azure_openai_client.api_key = os.environ.get(\"AZURE_OPENAI_API_KEY\") \n",
    "\n",
    "print(azure_openai_client.base_url)"
   ]
  },
  {
   "cell_type": "markdown",
   "id": "4b78583e-e0cd-4e8d-aca8-776942412ad5",
   "metadata": {},
   "source": [
    "# Create OpenAI Assistant Agent with CodeInterpreterTool as one of the tools"
   ]
  },
  {
   "cell_type": "code",
   "execution_count": null,
   "id": "5f03834f-3190-4736-9bc7-f6d2a3e25e63",
   "metadata": {},
   "outputs": [],
   "source": [
    "# First, create the code interpreter definitions...\n",
    "code_interpreter_tool = {\"type\": \"code_interpreter\"}\n",
    "code_interpreter_resources={\"code_interpreter\":{\"file_ids\":[]}}\n",
    "\n",
    "# ...then, create the OpenAI Assistant Agent, attaching code interpreter\n",
    "assistant_agent = azure_openai_client.beta.assistants.create(\n",
    "  model=model_name,\n",
    "  instructions=\"You are a helpful agent\",\n",
    "  tools=[code_interpreter_tool],\n",
    "  tool_resources=code_interpreter_resources,\n",
    "  temperature=1,\n",
    "  top_p=1\n",
    ")"
   ]
  },
  {
   "cell_type": "markdown",
   "id": "300f0153-3b23-4128-87b7-a3854c2d9566",
   "metadata": {},
   "source": [
    "# Create the thread and attach a new message to it"
   ]
  },
  {
   "cell_type": "code",
   "execution_count": null,
   "id": "92a56915-3db9-46f3-9336-cd1ad6aa1182",
   "metadata": {},
   "outputs": [],
   "source": [
    "# Create a thread\n",
    "thread = azure_openai_client.beta.threads.create()\n",
    "\n",
    "print(f\"Created thread: {thread}\\n\")\n",
    "\n",
    "# Add a user message to the thread\n",
    "message = azure_openai_client.beta.threads.messages.create(\n",
    "    thread_id=thread.id,\n",
    "    role=\"user\",\n",
    "    content=\"\"\"\n",
    "    Could you please create a bar chart for the operating profit using \n",
    "    the following data and provide the file to me? \n",
    "    Company A: $1.2 million, Company B: $2.5 million, Company C: $3.0 million, \n",
    "    Company D: $1.8 million\n",
    "    \"\"\",\n",
    ")\n",
    "\n",
    "azure_openai_client.beta.threads.messages.retrieve \\\n",
    "    (thread_id=thread.id, message_id=message.id)"
   ]
  },
  {
   "cell_type": "markdown",
   "id": "7dec81ea-03c6-4e6c-bf49-767acd1a5928",
   "metadata": {},
   "source": [
    "# Run the agent syncrhonously"
   ]
  },
  {
   "cell_type": "code",
   "execution_count": null,
   "id": "21ea64d8-0e95-423f-925b-74f10c1f411b",
   "metadata": {},
   "outputs": [],
   "source": [
    "%%time\n",
    "\n",
    "# Run the agent\n",
    "run = azure_openai_client.beta.threads.runs.create(\n",
    "  thread_id=thread.id,\n",
    "  assistant_id=assistant_agent.id\n",
    ")\n",
    "print(f\"Run status: {run.status}\")\n",
    "\n",
    "# Looping until the run completes or fails\n",
    "import time\n",
    "while run.status in ['queued', 'in_progress', 'cancelling']:\n",
    "    time.sleep(1)\n",
    "    run = azure_openai_client.beta.threads.runs.retrieve\\\n",
    "        (thread_id=thread.id, run_id=run.id)\n",
    "    print(f\"Run status: {run.status}\")  "
   ]
  },
  {
   "cell_type": "markdown",
   "id": "43ed4cdb-c460-4af1-8f90-2c5b55e831f9",
   "metadata": {},
   "source": [
    "# Retrieve messages from the thread after the agent run execution"
   ]
  },
  {
   "cell_type": "code",
   "execution_count": null,
   "id": "e75ba08b-0c94-446d-b7e1-1d3ba12a2c51",
   "metadata": {},
   "outputs": [],
   "source": [
    "import openai\n",
    "\n",
    "if run.status == 'completed':\n",
    "    messages = azure_openai_client.beta.threads.messages.list(thread_id=thread.id)\n",
    "    messages_nr = len(messages.data)\n",
    "    print(f\"Here are the {messages_nr} messages:\\n\")\n",
    "    \n",
    "    for i, message in enumerate(reversed(messages.data), 1):\n",
    "        j =0\n",
    "        print(f\"\\n===== MESSAGE {i} =====\")\n",
    "        for c in message.content:\n",
    "            j += 1\n",
    "            if (type(c) is openai.types.beta.threads.image_file_content_block.ImageFileContentBlock):\n",
    "                print(f\"\\nCONTENT {j} (ImageFileContentBlock)--> image_file id: {c.image_file.file_id}\")\n",
    "            elif (type(c) is openai.types.beta.threads.text_content_block.TextContentBlock):\n",
    "                print(f\"\\nCONTENT {j} (TextContentBlock) --> Text: {c.text.value}\")\n",
    "                for a in c.text.annotations:\n",
    "                    print(f\">>> Annotation in MessageTextContent {j} of message {i}: {a.text}\\n\")\n",
    "else:\n",
    "    print(f\"Sorry, I can't proceed because the run status is {run.status}\")"
   ]
  },
  {
   "cell_type": "markdown",
   "id": "c4ac27b7-1e6e-42c5-a2d7-6118ec0cf9da",
   "metadata": {},
   "source": [
    "# Delete all assistants"
   ]
  },
  {
   "cell_type": "code",
   "execution_count": null,
   "id": "05648e27-338e-423d-927b-ef441da75bd3",
   "metadata": {},
   "outputs": [],
   "source": [
    "assistants = azure_openai_client.beta.assistants.list().data\n",
    "print (f\"Nr. of existing agents that will be deleted: {len(assistants)}\")\n",
    "\n",
    "i = 0\n",
    "for a in assistants:\n",
    "    i += 1\n",
    "    azure_openai_client.beta.assistants.delete(a.id)\n",
    "    print(f\"\\n{i} - Deleted agent {a}\")\n",
    "    "
   ]
  },
  {
   "cell_type": "markdown",
   "id": "c8cc2b04-a0b3-45ee-9066-4306e16511f9",
   "metadata": {},
   "source": [
    "# HIC SUNT LEONES"
   ]
  }
 ],
 "metadata": {
  "kernelspec": {
   "display_name": "aaas",
   "language": "python",
   "name": "aaas"
  },
  "language_info": {
   "codemirror_mode": {
    "name": "ipython",
    "version": 3
   },
   "file_extension": ".py",
   "mimetype": "text/x-python",
   "name": "python",
   "nbconvert_exporter": "python",
   "pygments_lexer": "ipython3",
   "version": "3.12.8"
  }
 },
 "nbformat": 4,
 "nbformat_minor": 5
}
