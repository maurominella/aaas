{
 "cells": [
  {
   "attachments": {},
   "cell_type": "markdown",
   "id": "6aff6e2d-97b4-441c-b548-2557bafae055",
   "metadata": {},
   "source": [
    "# [Create Agent with Azure AI Search](https://learn.microsoft.com/en-us/python/api/overview/azure/ai-projects-readme?view=azure-python-preview#create-agent-with-azure-ai-search)\n",
    "Azure AI Search is an enterprise search system for high-performance applications. It integrates with Azure OpenAI Service and Azure Machine Learning, offering advanced search technologies like vector search and full-text search. Ideal for knowledge base insights, information discovery, and automation.<br/><br/>\n",
    "**IMPORTANT**: in order to create the index leveraging the \"Import and Vectorize\" wizard, the `Storage Blob Data Contributor` role on the Storage Account is needed for the Azure AI Managed Identity."
   ]
  },
  {
   "cell_type": "markdown",
   "id": "a59136b0-7233-41a3-a2c7-104239de7990",
   "metadata": {},
   "source": [
    "## Create a connection to Azure AI Search using CLI\n",
    "\n",
    "1. First of all, let's check which connections we have, associated to our project mmai-hub04-prj01-fvye:\n",
    "   ```az ml connection list --resource-group mmai04-rg --workspace-name mmai-hub04-prj01-fvye```\n",
    "3. Now, create a new yaml file with the configuration for Azure AI Search, using key-based or key-less (as in this case) authentication. **Please note that the \"metadata\" section must be filled as shown, including the ResourceId that must contain the connection name reporten on line 1**:\n",
    "```\n",
    "name: mmai-hub04-fvye-connection-AISearch\n",
    "type: azure_ai_search\n",
    "endpoint: https://mmai-hub04-ai-search-fvye.search.windows.net/\n",
    "is_shared: true\n",
    "metadata:\n",
    "  ApiType: Azure\n",
    "  ResourceId: /subscriptions/eca2eddb-0f0c-4351-a634-52751499eeea/resourceGroups/mmai04-rg/providers/Microsoft.Search/searchServices/mmai-hub04-fvye-connection-AISearch\n",
    "  type: azure_ai_search\n",
    "  ```\n",
    "\n",
    "3. Run the command `az ml connection create --file aisearchconnection.yml --resource-group mmai04-rg --workspace-name mmai-hub04-prj01-fvye`"
   ]
  },
  {
   "cell_type": "markdown",
   "id": "bcf7da6f-e589-4c2a-a5d8-61ecb9d6fe42",
   "metadata": {},
   "source": [
    "# Constants"
   ]
  },
  {
   "cell_type": "code",
   "execution_count": 1,
   "id": "98d9cc9d-cbef-4b35-a4a3-84802dd4ee06",
   "metadata": {},
   "outputs": [
    {
     "name": "stdout",
     "output_type": "stream",
     "text": [
      "Project Connection String: <...mai04-rg;mmai-hub04-prj01-fvye>\n"
     ]
    }
   ],
   "source": [
    "import os\n",
    "from dotenv import load_dotenv # requires python-dotenv\n",
    "# import logging\n",
    "# logging.basicConfig(level=logging.INFO) # Configure logging \n",
    "\n",
    "load_dotenv(\"./../config/credentials_my.env\")\n",
    "model_name =  \"gpt-4o-2024-08-06\" # https://learn.microsoft.com/en-us/azure/ai-services/agents/how-to/tools/bing-grounding?tabs=python&pivots=overview#setup\n",
    "index_name =  \"ms-surface-specs\"\n",
    "project_connection_string = os.environ[\"PROJECT_CONNECTION_STRING\"]\n",
    "\n",
    "print(f'Project Connection String: <...{project_connection_string[-30:]}>')"
   ]
  },
  {
   "cell_type": "markdown",
   "id": "b2cf9908-abe3-4023-a49e-7e5e3f24173f",
   "metadata": {},
   "source": [
    "# Create AI Foundry Project Client"
   ]
  },
  {
   "cell_type": "code",
   "execution_count": 2,
   "id": "5a9abb62-b855-402f-9e22-583ffe6bf8cb",
   "metadata": {},
   "outputs": [
    {
     "data": {
      "text/plain": [
       "{'subscription_id': 'eca2eddb-0f0c-4351-a634-52751499eeea',\n",
       " 'resource_group_name': 'mmai04-rg',\n",
       " 'project_name': 'mmai-hub04-prj01-fvye'}"
      ]
     },
     "execution_count": 2,
     "metadata": {},
     "output_type": "execute_result"
    }
   ],
   "source": [
    "from azure.ai.projects import AIProjectClient\n",
    "from azure.ai.projects.models import AzureAISearchTool # <<<<<<<<<<<<<<< SPECIFIC FOR AZURE AI SEARCH\n",
    "from azure.identity import DefaultAzureCredential\n",
    "\n",
    "project_client = AIProjectClient.from_connection_string(\n",
    "    credential=DefaultAzureCredential(), conn_str=project_connection_string\n",
    ")\n",
    "\n",
    "project_client.scope"
   ]
  },
  {
   "cell_type": "markdown",
   "id": "57263e8c-9736-41e6-8dee-19fe1c2d3491",
   "metadata": {},
   "source": [
    "# List existing connections and highlight the \"AI Search\" ones"
   ]
  },
  {
   "cell_type": "code",
   "execution_count": 3,
   "id": "7f45388f-98a6-463c-a163-fbff707c5163",
   "metadata": {},
   "outputs": [
    {
     "name": "stdout",
     "output_type": "stream",
     "text": [
      "{\n",
      " \"name\": \"mmai-hub04-fvye-connection-AIServices_aoai\",\n",
      " \"id\": \"/subscriptions/eca2eddb-0f0c-4351-a634-52751499eeea/resourceGroups/mmai04-rg/providers/Microsoft.MachineLearningServices/workspaces/mmai-hub04-prj01-fvye/connections/mmai-hub04-fvye-connection-AIServices_aoai\",\n",
      " \"authentication_type\": \"AAD\",\n",
      " \"connection_type\": \"ConnectionType.AZURE_OPEN_AI\",\n",
      " \"endpoint_url\": \"https://mmai-hub04-ai-servicesfvye.openai.azure.com\",\n",
      " \"key\": null\n",
      " \"token_credential\": null\n",
      "}\n",
      "\n",
      "{\n",
      " \"name\": \"mmai-hub04-fvye-connection-AIServices\",\n",
      " \"id\": \"/subscriptions/eca2eddb-0f0c-4351-a634-52751499eeea/resourceGroups/mmai04-rg/providers/Microsoft.MachineLearningServices/workspaces/mmai-hub04-prj01-fvye/connections/mmai-hub04-fvye-connection-AIServices\",\n",
      " \"authentication_type\": \"AAD\",\n",
      " \"connection_type\": \"ConnectionType.AZURE_AI_SERVICES\",\n",
      " \"endpoint_url\": \"https://mmai-hub04-ai-servicesfvye.cognitiveservices.azure.com\",\n",
      " \"key\": null\n",
      " \"token_credential\": null\n",
      "}\n",
      "\n",
      "{\n",
      " \"name\": \"grounding_with_bing_search_connection\",\n",
      " \"id\": \"/subscriptions/eca2eddb-0f0c-4351-a634-52751499eeea/resourceGroups/mmai04-rg/providers/Microsoft.MachineLearningServices/workspaces/mmai-hub04-prj01-fvye/connections/grounding_with_bing_search_connection\",\n",
      " \"authentication_type\": \"ApiKey\",\n",
      " \"connection_type\": \"ApiKey\",\n",
      " \"endpoint_url\": \"https://api.bing.microsoft.com\",\n",
      " \"key\": null\n",
      " \"token_credential\": null\n",
      "}\n",
      "\n",
      ">>>>>>> AI SEARCH FOUND: {\n",
      " \"name\": \"mmai-hub04-fvye-connection-AISearch2\",\n",
      " \"id\": \"/subscriptions/eca2eddb-0f0c-4351-a634-52751499eeea/resourceGroups/mmai04-rg/providers/Microsoft.MachineLearningServices/workspaces/mmai-hub04-prj01-fvye/connections/mmai-hub04-fvye-connection-AISearch2\",\n",
      " \"authentication_type\": \"AAD\",\n",
      " \"connection_type\": \"ConnectionType.AZURE_AI_SEARCH\",\n",
      " \"endpoint_url\": \"https://mmai-hub04-ai-search-fvye.search.windows.net\",\n",
      " \"key\": null\n",
      " \"token_credential\": null\n",
      "}\n",
      "\n",
      ">>>>>>> AI SEARCH FOUND: {\n",
      " \"name\": \"mmai-hub04-fvye-connection-AISearch\",\n",
      " \"id\": \"/subscriptions/eca2eddb-0f0c-4351-a634-52751499eeea/resourceGroups/mmai04-rg/providers/Microsoft.MachineLearningServices/workspaces/mmai-hub04-prj01-fvye/connections/mmai-hub04-fvye-connection-AISearch\",\n",
      " \"authentication_type\": \"AAD\",\n",
      " \"connection_type\": \"ConnectionType.AZURE_AI_SEARCH\",\n",
      " \"endpoint_url\": \"https://mmai-hub04-ai-search-fvye.search.windows.net\",\n",
      " \"key\": null\n",
      " \"token_credential\": null\n",
      "}\n",
      "\n",
      "{\n",
      " \"name\": \"mmai-hub04-prj01-fvye/workspaceblobstore\",\n",
      " \"id\": \"/subscriptions/eca2eddb-0f0c-4351-a634-52751499eeea/resourceGroups/mmai04-rg/providers/Microsoft.MachineLearningServices/workspaces/mmai-hub04-prj01-fvye/connections/mmai-hub04-prj01-fvye/workspaceblobstore\",\n",
      " \"authentication_type\": \"None\",\n",
      " \"connection_type\": \"ConnectionType.AZURE_BLOB_STORAGE\",\n",
      " \"endpoint_url\": \"https://mmaihub04storagefvye.core.windows.net/a20f3480-e38b-433f-83ad-058c03c2bf92-azureml-blobstore\",\n",
      " \"key\": null\n",
      " \"token_credential\": null\n",
      "}\n",
      "\n",
      "{\n",
      " \"name\": \"mmai-hub04-prj01-fvye/workspaceartifactstore\",\n",
      " \"id\": \"/subscriptions/eca2eddb-0f0c-4351-a634-52751499eeea/resourceGroups/mmai04-rg/providers/Microsoft.MachineLearningServices/workspaces/mmai-hub04-prj01-fvye/connections/mmai-hub04-prj01-fvye/workspaceartifactstore\",\n",
      " \"authentication_type\": \"None\",\n",
      " \"connection_type\": \"ConnectionType.AZURE_BLOB_STORAGE\",\n",
      " \"endpoint_url\": \"https://mmaihub04storagefvye.core.windows.net/a20f3480-e38b-433f-83ad-058c03c2bf92-azureml\",\n",
      " \"key\": null\n",
      " \"token_credential\": null\n",
      "}\n",
      "\n"
     ]
    }
   ],
   "source": [
    "conn_list = project_client.connections.list()\n",
    "conn_id = \"\"\n",
    "for conn in conn_list:    \n",
    "    if conn.connection_type == \"CognitiveSearch\":\n",
    "        print(f\">>>>>>> AI SEARCH FOUND: {conn}\")\n",
    "        conn_id = conn.id\n",
    "    else:\n",
    "        print(conn)"
   ]
  },
  {
   "cell_type": "markdown",
   "id": "d82b832b-d86e-46c4-9968-6a5056a63e63",
   "metadata": {},
   "source": [
    "# Chosen AI Search Connection"
   ]
  },
  {
   "cell_type": "code",
   "execution_count": 4,
   "id": "39c9c299-d540-4d97-bf96-ef6bac3f4fe4",
   "metadata": {},
   "outputs": [
    {
     "data": {
      "text/plain": [
       "'/subscriptions/eca2eddb-0f0c-4351-a634-52751499eeea/resourceGroups/mmai04-rg/providers/Microsoft.MachineLearningServices/workspaces/mmai-hub04-prj01-fvye/connections/mmai-hub04-fvye-connection-AISearch'"
      ]
     },
     "execution_count": 4,
     "metadata": {},
     "output_type": "execute_result"
    }
   ],
   "source": [
    "conn_id"
   ]
  },
  {
   "cell_type": "markdown",
   "id": "59f94c6a-d7c2-43c8-8fb3-fb14a98d5fee",
   "metadata": {},
   "source": [
    "# Initialize `AzureAISearchTool`, adding the connection id to it"
   ]
  },
  {
   "cell_type": "code",
   "execution_count": 5,
   "id": "db6d8143-2d9b-4454-81eb-7e4bf91523d3",
   "metadata": {},
   "outputs": [
    {
     "name": "stdout",
     "output_type": "stream",
     "text": [
      "ai_search.definitions: [{'type': 'azure_ai_search'}]\n",
      "ai_search.resources: {'azure_ai_search': {'indexes': [{'index_connection_id': '/subscriptions/eca2eddb-0f0c-4351-a634-52751499eeea/resourceGroups/mmai04-rg/providers/Microsoft.MachineLearningServices/workspaces/mmai-hub04-prj01-fvye/connections/mmai-hub04-fvye-connection-AISearch', 'index_name': 'ms-surface-specs'}]}}\n"
     ]
    }
   ],
   "source": [
    "ai_search = AzureAISearchTool(index_connection_id=conn_id, index_name=index_name)\n",
    "print(f\"ai_search.definitions: {ai_search.definitions}\")\n",
    "print(f\"ai_search.resources: {ai_search.resources}\")"
   ]
  },
  {
   "cell_type": "markdown",
   "id": "77755d46-20df-44eb-804c-3ef469b5ac5b",
   "metadata": {},
   "source": [
    "# Create AI Foundry Agent"
   ]
  },
  {
   "cell_type": "code",
   "execution_count": 6,
   "id": "c2f4c841-42aa-4245-9bdd-a5811b9f424a",
   "metadata": {},
   "outputs": [
    {
     "data": {
      "text/plain": [
       "<bound method _MyMutableMapping.items of {'id': 'asst_ul8MekPllPkuMrXT8GU4kInQ', 'object': 'assistant', 'created_at': 1738151597, 'name': 'aisearch-agent', 'description': None, 'model': 'gpt-4o-2024-08-06', 'instructions': 'You are a helpful assistant', 'tools': [{'type': 'azure_ai_search'}], 'top_p': 1.0, 'temperature': 1.0, 'tool_resources': {'azure_ai_search': {'indexes': [{'index_connection_id': '/subscriptions/eca2eddb-0f0c-4351-a634-52751499eeea/resourceGroups/mmai04-rg/providers/Microsoft.MachineLearningServices/workspaces/mmai-hub04-prj01-fvye/connections/mmai-hub04-fvye-connection-AISearch', 'index_name': 'ms-surface-specs'}]}}, 'metadata': {}, 'response_format': 'auto'}>"
      ]
     },
     "execution_count": 6,
     "metadata": {},
     "output_type": "execute_result"
    }
   ],
   "source": [
    "# Create agent with AI search tool and process assistant run\n",
    "agent = project_client.agents.create_agent(\n",
    "    model=model_name,\n",
    "    name=\"aisearch-agent\",\n",
    "    instructions=\"You are a helpful assistant\",\n",
    "    tools=ai_search.definitions,\n",
    "    tool_resources=ai_search.resources,\n",
    "    headers={\"x-ms-enable-preview\": \"true\"},\n",
    ")\n",
    "\n",
    "agent.items"
   ]
  },
  {
   "cell_type": "markdown",
   "id": "79a07fe3-2500-4fb1-bb01-a697e4b7f02d",
   "metadata": {},
   "source": [
    "# Create the thread and attach a new message to it"
   ]
  },
  {
   "cell_type": "code",
   "execution_count": 7,
   "id": "ab44f7b1-8043-4594-bfcc-1c38bb38fe11",
   "metadata": {},
   "outputs": [
    {
     "name": "stdout",
     "output_type": "stream",
     "text": [
      "Created thread: {'id': 'thread_vruTaHnwYLksA3lQZ89CeXmh', 'object': 'thread', 'created_at': 1738151603, 'metadata': {}, 'tool_resources': {}}\n",
      "\n",
      "Created message: {'id': 'msg_ynD09J0bCl1wjMkjBiUo8TWt', 'object': 'thread.message', 'created_at': 1738151603, 'assistant_id': None, 'thread_id': 'thread_vruTaHnwYLksA3lQZ89CeXmh', 'run_id': None, 'role': 'user', 'content': [{'type': 'text', 'text': {'value': 'What kind of keys does the MS Surface Book keyboard include? Do **NOT** use your own internal knowledge.', 'annotations': []}}], 'attachments': [], 'metadata': {}}\n"
     ]
    }
   ],
   "source": [
    "# Create a thread\n",
    "thread = project_client.agents.create_thread()\n",
    "print(f\"Created thread: {thread}\\n\")\n",
    "\n",
    "# Add a user message to the thread\n",
    "message = project_client.agents.create_message(\n",
    "    thread_id=thread.id, \n",
    "    role=\"user\", \n",
    "    content=\"What kind of keys does the MS Surface Book keyboard include? Do **NOT** use your own internal knowledge.\",\n",
    ")\n",
    "print(f\"Created message: {message}\")"
   ]
  },
  {
   "cell_type": "markdown",
   "id": "ce7eb1d6-bb0d-4da7-a377-b36f8e8881c0",
   "metadata": {},
   "source": [
    "# Run the agent syncrhonously"
   ]
  },
  {
   "cell_type": "code",
   "execution_count": 8,
   "id": "09b34c7b-8190-4c83-98ed-663e956f2864",
   "metadata": {},
   "outputs": [
    {
     "name": "stdout",
     "output_type": "stream",
     "text": [
      "Run finished with status: RunStatus.COMPLETED.\n",
      "\n",
      "Run: {'id': 'run_yt117XVf9mxJ8fpP86d6qjyk', 'object': 'thread.run', 'created_at': 1738151606, 'assistant_id': 'asst_ul8MekPllPkuMrXT8GU4kInQ', 'thread_id': 'thread_vruTaHnwYLksA3lQZ89CeXmh', 'status': 'completed', 'started_at': 1738151606, 'expires_at': None, 'cancelled_at': None, 'failed_at': None, 'completed_at': 1738151612, 'required_action': None, 'last_error': None, 'model': 'gpt-4o-2024-08-06', 'instructions': 'You are a helpful assistant', 'tools': [{'type': 'azure_ai_search'}], 'tool_resources': {}, 'metadata': {}, 'temperature': 1.0, 'top_p': 1.0, 'max_completion_tokens': None, 'max_prompt_tokens': None, 'truncation_strategy': {'type': 'auto', 'last_messages': None}, 'incomplete_details': None, 'usage': {'prompt_tokens': 1132, 'completion_tokens': 84, 'total_tokens': 1216}, 'response_format': 'auto', 'tool_choice': 'auto', 'parallel_tool_calls': True}\n",
      "CPU times: total: 15.6 ms\n",
      "Wall time: 7.92 s\n"
     ]
    }
   ],
   "source": [
    "%%time\n",
    "# Create and process assistant run in thread with tools\n",
    "run = project_client.agents.create_and_process_run\\\n",
    "    (thread_id=thread.id, assistant_id=agent.id)\n",
    "\n",
    "print(f\"Run finished with status: {run.status}.\\n\\nRun: {run}\")\n",
    "\n",
    "if run.status == \"failed\":\n",
    "    # Check if you got \"Rate limit is exceeded.\", then you want to get more quota\n",
    "    print(f\"Run failed: {run.last_error}\")"
   ]
  },
  {
   "cell_type": "markdown",
   "id": "c266525d-1a74-4516-a3b8-909c7c5ee8b4",
   "metadata": {},
   "source": [
    "# Fetch messages from the thread after the agent run execution"
   ]
  },
  {
   "cell_type": "code",
   "execution_count": 9,
   "id": "225a1e08-e65a-4a8f-a29f-48da35130645",
   "metadata": {},
   "outputs": [
    {
     "name": "stdout",
     "output_type": "stream",
     "text": [
      "Here are the 2 messages:\n",
      "\n",
      "\n",
      "===== MESSAGE 1 =====\n",
      "\n",
      "CONTENT 1 (MessageTextContent) --> Text: What kind of keys does the MS Surface Book keyboard include? Do **NOT** use your own internal knowledge.\n",
      "\n",
      "===== MESSAGE 2 =====\n",
      "\n",
      "CONTENT 1 (MessageTextContent) --> Text: I couldn't find the specific information in the provided documents. You might want to check the official Microsoft Surface Book specifications or a detailed product review for comprehensive information about the keyboard keys. If you have any other questions or need further assistance, feel free to ask!\n"
     ]
    }
   ],
   "source": [
    "from azure.ai.projects.models import MessageTextContent, MessageImageFileContent\n",
    "\n",
    "if run.status == 'completed':    \n",
    "    messages = project_client.agents.list_messages(thread_id=thread.id)\n",
    "    messages_nr = len(messages.data)\n",
    "    print(f\"Here are the {messages_nr} messages:\\n\")\n",
    "    \n",
    "    for i, message in enumerate(reversed(messages.data), 1):\n",
    "        j = 0\n",
    "        print(f\"\\n===== MESSAGE {i} =====\")\n",
    "        for c in message.content:\n",
    "            j +=1\n",
    "            if (type(c) is MessageImageFileContent):\n",
    "                print(f\"\\nCONTENT {j} (MessageImageFileContent) --> image_file id: {c.image_file.file_id}\")\n",
    "            elif (type(c) is MessageTextContent):\n",
    "                print(f\"\\nCONTENT {j} (MessageTextContent) --> Text: {c.text.value}\")\n",
    "                for a in c.text.annotations:\n",
    "                    print(f\">>> Annotation in MessageTextContent {j} of message {i}: {a.text}\\n\")\n",
    "\n",
    "else:\n",
    "    print(f\"Sorry, I can't proceed because the run status is {run.status}\")"
   ]
  },
  {
   "cell_type": "code",
   "execution_count": 11,
   "id": "8deffde5-8d1e-4774-938c-7d74d34ec4b8",
   "metadata": {},
   "outputs": [
    {
     "name": "stdout",
     "output_type": "stream",
     "text": [
      "Last Message: I couldn't find the specific information in the provided documents. You might want to check the official Microsoft Surface Book specifications or a detailed product review for comprehensive information about the keyboard keys. If you have any other questions or need further assistance, feel free to ask!\n"
     ]
    }
   ],
   "source": [
    "# Get the last message from the sender\n",
    "last_msg = messages.get_last_text_message_by_sender(\"assistant\")\n",
    "if last_msg:\n",
    "    print(f\"Last Message: {last_msg.text.value}\")"
   ]
  },
  {
   "cell_type": "markdown",
   "id": "912679ac-5feb-400c-920e-5ce3f7bfdefc",
   "metadata": {},
   "source": [
    "# Print annotations from the messages"
   ]
  },
  {
   "cell_type": "code",
   "execution_count": 12,
   "id": "f46708dc-95a9-4949-b68c-c801cec87112",
   "metadata": {},
   "outputs": [
    {
     "name": "stdout",
     "output_type": "stream",
     "text": [
      "Number of annotation(s): 0\n"
     ]
    }
   ],
   "source": [
    "print(f\"Number of annotation(s): {len(last_msg.text.annotations)}\")\n",
    "\n",
    "for annotation in last_msg.text.annotations:\n",
    "    print(annotation[\"text\"], annotation[\"file_citation\"][\"file_id\"])"
   ]
  },
  {
   "cell_type": "markdown",
   "id": "5dd16e09-ea32-45c7-bb35-5f0a6c5194c4",
   "metadata": {},
   "source": [
    "# Run Steps"
   ]
  },
  {
   "cell_type": "code",
   "execution_count": null,
   "id": "5af25587-47a5-4d2c-bcd4-9f08949edcc5",
   "metadata": {},
   "outputs": [],
   "source": [
    "run_steps = project_client.agents.list_run_steps(run_id=run.id, thread_id=thread.id)\n",
    "\n",
    "print(f'Nr of run step(s): {len(run_steps[\"data\"])}\\n')\n",
    "i=0\n",
    "for rs in run_steps[\"data\"]:\n",
    "    i += 1\n",
    "    print(f\"Run step {i}: {rs}\", '\\n')"
   ]
  },
  {
   "cell_type": "markdown",
   "id": "944ec759-c053-4ab7-81aa-15cfa4961468",
   "metadata": {},
   "source": [
    "# START Teardown"
   ]
  },
  {
   "cell_type": "code",
   "execution_count": 13,
   "id": "11b0c075-9f1a-47ca-b8c8-ad2e9d85b477",
   "metadata": {},
   "outputs": [
    {
     "name": "stdout",
     "output_type": "stream",
     "text": [
      "deleting trhead: {'id': 'thread_vruTaHnwYLksA3lQZ89CeXmh', 'object': 'thread', 'created_at': 1738151603, 'metadata': {}, 'tool_resources': {}}...\n"
     ]
    },
    {
     "data": {
      "text/plain": [
       "{'id': 'thread_vruTaHnwYLksA3lQZ89CeXmh', 'object': 'thread.deleted', 'deleted': True}"
      ]
     },
     "execution_count": 13,
     "metadata": {},
     "output_type": "execute_result"
    }
   ],
   "source": [
    "print(f\"deleting trhead: {thread}...\")\n",
    "project_client.agents.delete_thread(thread.id)"
   ]
  },
  {
   "cell_type": "code",
   "execution_count": 14,
   "id": "48399858-16e3-4b7c-a13a-aa3ed8320539",
   "metadata": {},
   "outputs": [
    {
     "name": "stdout",
     "output_type": "stream",
     "text": [
      "1 agent(s) will now be deleted\n",
      "\n",
      "1 - Agent aisearch-agent has been deleted\n"
     ]
    }
   ],
   "source": [
    "# Delete all agents\n",
    "\n",
    "print(f\"{len(project_client.agents.list_agents()['data'])} agent(s) will now be deleted\")\n",
    "\n",
    "i=0\n",
    "for pca in project_client.agents.list_agents()['data']:\n",
    "    i += 1\n",
    "    project_client.agents.delete_agent(pca.id)\n",
    "    print(f\"\\n{i} - Agent {pca.name} has been deleted\")"
   ]
  },
  {
   "cell_type": "markdown",
   "id": "c8cc2b04-a0b3-45ee-9066-4306e16511f9",
   "metadata": {},
   "source": [
    "# HIC SUNT LEONES"
   ]
  }
 ],
 "metadata": {
  "kernelspec": {
   "display_name": "aaas",
   "language": "python",
   "name": "aaas"
  },
  "language_info": {
   "codemirror_mode": {
    "name": "ipython",
    "version": 3
   },
   "file_extension": ".py",
   "mimetype": "text/x-python",
   "name": "python",
   "nbconvert_exporter": "python",
   "pygments_lexer": "ipython3",
   "version": "3.12.8"
  }
 },
 "nbformat": 4,
 "nbformat_minor": 5
}
