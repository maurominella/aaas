{
 "cells": [
  {
   "attachments": {},
   "cell_type": "markdown",
   "id": "6aff6e2d-97b4-441c-b548-2557bafae055",
   "metadata": {},
   "source": [
    "# [Create Agent with Function Call](https://learn.microsoft.com/en-us/python/api/overview/azure/ai-projects-readme?view=azure-python-preview#create-agent-with-function-call) using FunctionTool + ToolSet\n",
    "You can enhance your Agents by defining **callback functions as function tools**. These can be provided to `create_agent` via either the `toolset` parameter or the **combination** of `tools and tool_resources`. Here are the distinctions:\n",
    "\n",
    "1. **toolset**: When using the toolset parameter, you provide not only the function definitions and descriptions but also their implementations. The SDK will execute these functions within `create_and_run_process` or `streaming`. These functions will be invoked based on their definitions.\n",
    "2. **tools and tool_resources**: When using the tools and tool_resources parameters, only the function definitions and descriptions are provided to `create_agent`, without the implementations. The `Run` or event handler of stream will raise a `requires_action` status based on the function definitions. **Your code must handle this status and call the appropriate functions**.<br/>\n",
    "\n",
    "As a reference point, let's see how we were used to managed this with [OpenAI Assistants API](https://github.com/maurominella/openai/blob/main/assistantapi/Assistant%20APIs%2002%20-%20SDK%20with%20Function%20Calling.ipynb)"
   ]
  },
  {
   "cell_type": "markdown",
   "id": "b744f94c-f307-4655-bc8e-fe8d178056d9",
   "metadata": {},
   "source": [
    "# Constants"
   ]
  },
  {
   "cell_type": "code",
   "execution_count": 1,
   "id": "98d9cc9d-cbef-4b35-a4a3-84802dd4ee06",
   "metadata": {},
   "outputs": [
    {
     "name": "stdout",
     "output_type": "stream",
     "text": [
      "Project Connection String: <...hub01-grp;mmai-swc-hub01-prj01>\n"
     ]
    }
   ],
   "source": [
    "import os, json\n",
    "from dotenv import load_dotenv # requires python-dotenv\n",
    "from common.agents_helper_functions import *\n",
    "# import logging\n",
    "\n",
    "# logging.basicConfig(level=logging.INFO) # Configure logging \n",
    "\n",
    "load_dotenv(\"./../config/credentials_my.env\")\n",
    "model_name = os.environ[\"AZURE_OPENAI_CHAT_DEPLOYMENT_NAME\"] #  the type must be \"gpt-4o-2024-08-06\": https://learn.microsoft.com/en-us/azure/ai-services/agents/how-to/tools/bing-grounding?tabs=python&pivots=overview#setup\n",
    "project_connection_string = os.environ[\"PROJECT_CONNECTION_STRING\"]\n",
    "index_name =  \"ms-surface-specs-index\"\n",
    "\n",
    "print(f'Project Connection String: <...{project_connection_string[-30:]}>')"
   ]
  },
  {
   "cell_type": "markdown",
   "id": "8d3cc043-85c7-4c1d-bf65-c9aa1ea453a2",
   "metadata": {},
   "source": [
    "# Create AI Foundry Project Client"
   ]
  },
  {
   "cell_type": "code",
   "execution_count": 2,
   "id": "5a9abb62-b855-402f-9e22-583ffe6bf8cb",
   "metadata": {},
   "outputs": [
    {
     "data": {
      "text/plain": [
       "{'subscription_id': 'eca2eddb-0f0c-4351-a634-52751499eeea',\n",
       " 'resource_group_name': 'mmai-swc-hub01-grp',\n",
       " 'project_name': 'mmai-swc-hub01-prj01'}"
      ]
     },
     "execution_count": 2,
     "metadata": {},
     "output_type": "execute_result"
    }
   ],
   "source": [
    "from azure.ai.projects import AIProjectClient\n",
    "from azure.ai.projects.models import FunctionTool, ToolSet # <<<<<<<<<<<<<<< SPECIFIC FOR FUNCTION CALLING\n",
    "from azure.identity import DefaultAzureCredential\n",
    "\n",
    "project_client = AIProjectClient.from_connection_string(\n",
    "    credential=DefaultAzureCredential(), conn_str=project_connection_string\n",
    ")\n",
    "\n",
    "project_client.scope"
   ]
  },
  {
   "cell_type": "markdown",
   "id": "cce71f12-75e0-4e06-ba41-faedc3235164",
   "metadata": {},
   "source": [
    "# Define some custom functions"
   ]
  },
  {
   "cell_type": "code",
   "execution_count": 3,
   "id": "28086556-34d4-48bb-ba24-d74839fc0a3a",
   "metadata": {},
   "outputs": [],
   "source": [
    "from datetime import date\n",
    "\n",
    "def save_file(joke:str) -> str:\n",
    "    \"\"\"\n",
    "    Saves a text file using the textual content passed in the joke variable.\n",
    "    Args:\n",
    "        joke (str): The text content to be saved into the file. \n",
    "        \n",
    "    Returns:\n",
    "        Optional[str]: Returns 'success: file saved' on success, otherwise returns an error message.\n",
    "    \"\"\"\n",
    "    file_name = \"joke.txt\"\n",
    "    try:\n",
    "        with open(file_name, \"w\") as f:\n",
    "            f.write(joke)\n",
    "        return \"success: file saved\"\n",
    "    except Exception as e:\n",
    "        return f\"error: {str(e)}\"\n",
    "\n",
    "\n",
    "def get_flights(date_1:date, date_2:date) -> str:\n",
    "    \"\"\" Returns the number of flights in a date interval  \"\"\"\n",
    "    import json\n",
    "    from dateutil.parser import parse\n",
    "    flights = {\n",
    "        \"flights\": abs((parse(date_2) - parse(date_1)).days) \n",
    "    }\n",
    "    return json.dumps(flights)\n",
    "\n",
    "\n",
    "def my_cat_born_date() -> str:\n",
    "    \"\"\" Returns my cat's born date \"\"\"\n",
    "    import datetime, random, json\n",
    "    from dateutil.relativedelta import relativedelta\n",
    "    \n",
    "    # Calculate the date as ten years ago  \n",
    "    ten_years_ago = datetime.date.today() - relativedelta(years=10) \n",
    "    \n",
    "    cat_born_date = {\n",
    "        \"cat_born_date\": ten_years_ago.strftime(\"%Y-%m-%d\")\n",
    "    }\n",
    "    return json.dumps(cat_born_date)\n",
    "\n",
    "\n",
    "def send_email(to:str, subject:str, body:str) -> str:\n",
    "    \"\"\" Sends an email \"\"\"\n",
    "    import requests, json\n",
    "    url = 'https://prod-18.swedencentral.logic.azure.com:443/workflows/4f7a19b041e04a9e8ea47303e1af503c/triggers/When_a_HTTP_request_is_received/paths/invoke?api-version=2016-10-01&sp=%2Ftriggers%2FWhen_a_HTTP_request_is_received%2Frun&sv=1.0&sig=TX-eDahoU_QIEOjw9qOXjRyPNqA9s4IVkd0osbsyzzI'  \n",
    "\n",
    "    headers = {\n",
    "        'Content-Type': 'application/json'\n",
    "    }\n",
    "\n",
    "    data = {\n",
    "        \"to\": to,\n",
    "        \"subject\": subject,\n",
    "        \"body\": body\n",
    "    }\n",
    "    response = {\"response\": str(requests.post(url, headers=headers, data=json.dumps(data)))}\n",
    "    return json.dumps(response)"
   ]
  },
  {
   "cell_type": "markdown",
   "id": "e50b7edb-9c0e-4be9-95bb-bd661b5aef7f",
   "metadata": {},
   "source": [
    "# Consolidate the custom functions into a single set"
   ]
  },
  {
   "cell_type": "code",
   "execution_count": 4,
   "id": "1a6a6f91-7a99-40a4-8c36-f06ef9299ef0",
   "metadata": {},
   "outputs": [
    {
     "data": {
      "text/plain": [
       "{<function __main__.get_flights(date_1: datetime.date, date_2: datetime.date) -> str>,\n",
       " <function __main__.my_cat_born_date() -> str>,\n",
       " <function __main__.save_file(joke: str) -> str>,\n",
       " <function __main__.send_email(to: str, subject: str, body: str) -> str>}"
      ]
     },
     "execution_count": 4,
     "metadata": {},
     "output_type": "execute_result"
    }
   ],
   "source": [
    "from typing import Any, Callable, Set\n",
    "\n",
    "user_functions: Set[Callable[..., Any]] = {\n",
    "    save_file, \n",
    "    get_flights, \n",
    "    my_cat_born_date,\n",
    "    send_email\n",
    "}\n",
    "\n",
    "user_functions"
   ]
  },
  {
   "cell_type": "markdown",
   "id": "e809d1bd-080f-405e-8c13-0733e585bb53",
   "metadata": {},
   "source": [
    "# Just for testing: use the `user_function` set to call its functions"
   ]
  },
  {
   "cell_type": "code",
   "execution_count": 5,
   "id": "4f4d0dfd-3fcb-47ae-8fce-30eac22b72f1",
   "metadata": {},
   "outputs": [
    {
     "name": "stdout",
     "output_type": "stream",
     "text": [
      "send_email() returned {\"response\": \"<Response [200]>\"}\n",
      "save_file() returned success: file saved\n",
      "get_flights() returned {\"flights\": 2285}\n",
      "my_cat_born_date() returned {\"cat_born_date\": \"2015-04-27\"}\n"
     ]
    }
   ],
   "source": [
    "for function in user_functions:    \n",
    "    if function.__name__ == \"my_cat_born_date\":\n",
    "        result = function()\n",
    "    elif function.__name__ == \"save_file\": \n",
    "        result = function(\"This is the content\")\n",
    "    elif function.__name__ == \"get_flights\": \n",
    "        result = function(\"2015-01-01\", \"2021-04-04\")\n",
    "    elif function.__name__ == \"send_email\": \n",
    "        result = function(\"mauromi@microsoft.com\", \"email from Python Agent\", \"body\")\n",
    "\n",
    "    print(f\"{function.__name__}() returned {result}\")"
   ]
  },
  {
   "cell_type": "markdown",
   "id": "1c04fab6-8299-4d73-a5fc-e332f2715a85",
   "metadata": {},
   "source": [
    "# Initialize `FunctionTool` and `ToolSet`\n",
    "**RECALL TO ENABLE AUTO_FUNCTION_CALLS!**"
   ]
  },
  {
   "cell_type": "code",
   "execution_count": 6,
   "id": "110d0c52-d935-47d1-8bda-d307ce5e2c50",
   "metadata": {},
   "outputs": [
    {
     "name": "stdout",
     "output_type": "stream",
     "text": [
      "toolset: <azure.ai.projects.models._patch.ToolSet object at 0x000001CF611EDE80>\n",
      "\n",
      "toolset.definitions: [{'type': 'function', 'function': {'name': 'send_email', 'description': 'Sends an email ', 'parameters': {'type': 'object', 'properties': {'to': {'type': 'string', 'description': 'No description'}, 'subject': {'type': 'string', 'description': 'No description'}, 'body': {'type': 'string', 'description': 'No description'}}, 'required': ['to', 'subject', 'body']}}}, {'type': 'function', 'function': {'name': 'save_file', 'description': 'Saves a text file using the textual content passed in the joke variable.', 'parameters': {'type': 'object', 'properties': {'joke': {'type': 'string', 'description': 'No description'}}, 'required': ['joke']}}}, {'type': 'function', 'function': {'name': 'get_flights', 'description': 'Returns the number of flights in a date interval  ', 'parameters': {'type': 'object', 'properties': {'date_1': {'type': 'string', 'description': 'No description'}, 'date_2': {'type': 'string', 'description': 'No description'}}, 'required': ['date_1', 'date_2']}}}, {'type': 'function', 'function': {'name': 'my_cat_born_date', 'description': \"Returns my cat's born date \", 'parameters': {'type': 'object', 'properties': {}, 'required': []}}}]\n",
      "\n",
      "toolset.resources: {}\n"
     ]
    }
   ],
   "source": [
    "functions = FunctionTool(user_functions)\n",
    "toolset = ToolSet()\n",
    "toolset.add(functions)\n",
    "project_client.agents.enable_auto_function_calls(toolset=toolset) # ENABLE AUTO_FUNCTION_CALLS!\n",
    "\n",
    "print(f\"toolset: {toolset}\")\n",
    "print(f\"\\ntoolset.definitions: {toolset.definitions}\")\n",
    "print(f\"\\ntoolset.resources: {toolset.resources}\")"
   ]
  },
  {
   "cell_type": "code",
   "execution_count": 7,
   "id": "eaa716c6-aa5e-4df0-99cb-5a9bea233c76",
   "metadata": {},
   "outputs": [
    {
     "name": "stdout",
     "output_type": "stream",
     "text": [
      "{\n",
      "  \"send_email\": {\n",
      "    \"_data\": {\n",
      "      \"name\": \"send_email\",\n",
      "      \"description\": \"Sends an email \",\n",
      "      \"parameters\": {\n",
      "        \"type\": \"object\",\n",
      "        \"properties\": {\n",
      "          \"to\": {\n",
      "            \"type\": \"string\",\n",
      "            \"description\": \"No description\"\n",
      "          },\n",
      "          \"subject\": {\n",
      "            \"type\": \"string\",\n",
      "            \"description\": \"No description\"\n",
      "          },\n",
      "          \"body\": {\n",
      "            \"type\": \"string\",\n",
      "            \"description\": \"No description\"\n",
      "          }\n",
      "        },\n",
      "        \"required\": [\n",
      "          \"to\",\n",
      "          \"subject\",\n",
      "          \"body\"\n",
      "        ]\n",
      "      }\n",
      "    }\n",
      "  },\n",
      "  \"save_file\": {\n",
      "    \"_data\": {\n",
      "      \"name\": \"save_file\",\n",
      "      \"description\": \"Saves a text file using the textual content passed in the joke variable.\",\n",
      "      \"parameters\": {\n",
      "        \"type\": \"object\",\n",
      "        \"properties\": {\n",
      "          \"joke\": {\n",
      "            \"type\": \"string\",\n",
      "            \"description\": \"No description\"\n",
      "          }\n",
      "        },\n",
      "        \"required\": [\n",
      "          \"joke\"\n",
      "        ]\n",
      "      }\n",
      "    }\n",
      "  },\n",
      "  \"get_flights\": {\n",
      "    \"_data\": {\n",
      "      \"name\": \"get_flights\",\n",
      "      \"description\": \"Returns the number of flights in a date interval  \",\n",
      "      \"parameters\": {\n",
      "        \"type\": \"object\",\n",
      "        \"properties\": {\n",
      "          \"date_1\": {\n",
      "            \"type\": \"string\",\n",
      "            \"description\": \"No description\"\n",
      "          },\n",
      "          \"date_2\": {\n",
      "            \"type\": \"string\",\n",
      "            \"description\": \"No description\"\n",
      "          }\n",
      "        },\n",
      "        \"required\": [\n",
      "          \"date_1\",\n",
      "          \"date_2\"\n",
      "        ]\n",
      "      }\n",
      "    }\n",
      "  },\n",
      "  \"my_cat_born_date\": {\n",
      "    \"_data\": {\n",
      "      \"name\": \"my_cat_born_date\",\n",
      "      \"description\": \"Returns my cat's born date \",\n",
      "      \"parameters\": {\n",
      "        \"type\": \"object\",\n",
      "        \"properties\": {},\n",
      "        \"required\": []\n",
      "      }\n",
      "    }\n",
      "  }\n",
      "}\n"
     ]
    }
   ],
   "source": [
    "# definitions pretty print\n",
    "\n",
    "def format_tool_definitions(definitions):\n",
    "    def custom_serializer(obj):\n",
    "        return obj.__dict__ if hasattr(obj, '__dict__') else str(obj)\n",
    "\n",
    "    function_dict = {item['function']['name']: item['function'] for item in functions.definitions}\n",
    "\n",
    "    return json.dumps(function_dict, indent=2, default=custom_serializer)\n",
    "\n",
    "print(format_tool_definitions (functions.definitions))"
   ]
  },
  {
   "cell_type": "markdown",
   "id": "a922f615-bdc1-411f-803b-0596647e98da",
   "metadata": {},
   "source": [
    "# Create AI Foundry Agent"
   ]
  },
  {
   "cell_type": "code",
   "execution_count": 8,
   "id": "b23ba3db-c486-4378-be6c-cb5626f52e3f",
   "metadata": {},
   "outputs": [
    {
     "data": {
      "text/plain": [
       "<bound method _MyMutableMapping.items of {'id': 'asst_khT8UKBBHzCZJEk5PcplzTRM', 'object': 'assistant', 'created_at': 1745747342, 'name': 'functiontoolset-agent', 'description': None, 'model': 'gpt-4o', 'instructions': 'You are a helpful assistant', 'tools': [{'type': 'function', 'function': {'name': 'send_email', 'description': 'Sends an email ', 'parameters': {'type': 'object', 'properties': {'to': {'type': 'string', 'description': 'No description'}, 'subject': {'type': 'string', 'description': 'No description'}, 'body': {'type': 'string', 'description': 'No description'}}, 'required': ['to', 'subject', 'body']}, 'strict': False}}, {'type': 'function', 'function': {'name': 'save_file', 'description': 'Saves a text file using the textual content passed in the joke variable.', 'parameters': {'type': 'object', 'properties': {'joke': {'type': 'string', 'description': 'No description'}}, 'required': ['joke']}, 'strict': False}}, {'type': 'function', 'function': {'name': 'get_flights', 'description': 'Returns the number of flights in a date interval  ', 'parameters': {'type': 'object', 'properties': {'date_1': {'type': 'string', 'description': 'No description'}, 'date_2': {'type': 'string', 'description': 'No description'}}, 'required': ['date_1', 'date_2']}, 'strict': False}}, {'type': 'function', 'function': {'name': 'my_cat_born_date', 'description': \"Returns my cat's born date \", 'parameters': {'type': 'object', 'properties': {}, 'required': []}, 'strict': False}}], 'top_p': 1.0, 'temperature': 1.0, 'tool_resources': {}, 'metadata': {}, 'response_format': 'auto'}>"
      ]
     },
     "execution_count": 8,
     "metadata": {},
     "output_type": "execute_result"
    }
   ],
   "source": [
    "agent = project_client.agents.create_agent(\n",
    "    model=model_name,\n",
    "    name=\"functiontoolset-agent\",\n",
    "    instructions=\"You are a helpful assistant\",\n",
    "    toolset=toolset\n",
    ")\n",
    "\n",
    "agent.items"
   ]
  },
  {
   "cell_type": "markdown",
   "id": "972eff1e-eaf9-426e-a494-cf4d316e1e79",
   "metadata": {},
   "source": [
    "# Create the thread and attach a new message to it"
   ]
  },
  {
   "cell_type": "code",
   "execution_count": 9,
   "id": "06f80125-1252-4060-bdf5-3b52acc42a47",
   "metadata": {},
   "outputs": [
    {
     "name": "stdout",
     "output_type": "stream",
     "text": [
      "Created thread: {'id': 'thread_x9jZ5ER9xSWzeulIdG3S0U1x', 'object': 'thread', 'created_at': 1745747342, 'metadata': {}, 'tool_resources': {}}\n",
      "\n",
      "Created message: {'id': 'msg_2Gza21HsY8c3P4Pc316UDxic', 'object': 'thread.message', 'created_at': 1745747342, 'assistant_id': None, 'thread_id': 'thread_x9jZ5ER9xSWzeulIdG3S0U1x', 'run_id': None, 'role': 'user', 'content': [{'type': 'text', 'text': {'value': 'Please write into a file the nr of flights between my cat born date and Easter 2021. Send the answer to mauromi@microsoft.com, also.', 'annotations': []}}], 'attachments': [], 'metadata': {}}\n"
     ]
    }
   ],
   "source": [
    "# Create a thread\n",
    "thread = project_client.agents.create_thread()\n",
    "print(f\"Created thread: {thread}\\n\")\n",
    "\n",
    "# Add a user message to the thread\n",
    "message = project_client.agents.create_message(\n",
    "    thread_id=thread.id, \n",
    "    role=\"user\", \n",
    "    content=\"Please write into a file the nr of flights between my cat born date and Easter 2021. Send the answer to mauromi@microsoft.com, also.\",\n",
    ")\n",
    "print(f\"Created message: {message}\")"
   ]
  },
  {
   "cell_type": "markdown",
   "id": "b9536eda-ae76-4d3f-b912-30169b42b15c",
   "metadata": {},
   "source": [
    "# Run the agent synchronously"
   ]
  },
  {
   "cell_type": "code",
   "execution_count": 11,
   "id": "8604f495-2519-42a7-a19a-026538cf2c2c",
   "metadata": {},
   "outputs": [
    {
     "name": "stdout",
     "output_type": "stream",
     "text": [
      "Run details:\n",
      "{'id': 'run_WPm9394I6FAXpsncYXVaUoNs', 'object': 'thread.run', 'created_at': 1745747349, 'assistant_id': 'asst_khT8UKBBHzCZJEk5PcplzTRM', 'thread_id': 'thread_x9jZ5ER9xSWzeulIdG3S0U1x', 'status': 'completed', 'started_at': 1745747358, 'expires_at': None, 'cancelled_at': None, 'failed_at': None, 'completed_at': 1745747359, 'required_action': None, 'last_error': None, 'model': 'gpt-4o', 'instructions': 'You are a helpful assistant', 'tools': [{'type': 'function', 'function': {'name': 'send_email', 'description': 'Sends an email ', 'parameters': {'type': 'object', 'properties': {'to': {'type': 'string', 'description': 'No description'}, 'subject': {'type': 'string', 'description': 'No description'}, 'body': {'type': 'string', 'description': 'No description'}}, 'required': ['to', 'subject', 'body']}, 'strict': False}}, {'type': 'function', 'function': {'name': 'save_file', 'description': 'Saves a text file using the textual content passed in the joke variable.', 'parameters': {'type': 'object', 'properties': {'joke': {'type': 'string', 'description': 'No description'}}, 'required': ['joke']}, 'strict': False}}, {'type': 'function', 'function': {'name': 'get_flights', 'description': 'Returns the number of flights in a date interval  ', 'parameters': {'type': 'object', 'properties': {'date_1': {'type': 'string', 'description': 'No description'}, 'date_2': {'type': 'string', 'description': 'No description'}}, 'required': ['date_1', 'date_2']}, 'strict': False}}, {'type': 'function', 'function': {'name': 'my_cat_born_date', 'description': \"Returns my cat's born date \", 'parameters': {'type': 'object', 'properties': {}, 'required': []}, 'strict': False}}], 'tool_resources': {}, 'metadata': {}, 'temperature': 1.0, 'top_p': 1.0, 'max_completion_tokens': None, 'max_prompt_tokens': None, 'truncation_strategy': {'type': 'auto', 'last_messages': None}, 'incomplete_details': None, 'usage': {'prompt_tokens': 2146, 'completion_tokens': 251, 'total_tokens': 2397, 'prompt_token_details': {'cached_tokens': 0}}, 'response_format': 'auto', 'tool_choice': 'auto', 'parallel_tool_calls': True}\n",
      "\n",
      "Run finished with status: <RunStatus.COMPLETED>. Please proceed by running the next cell.\n",
      "\n",
      "CPU times: total: 78.1 ms\n",
      "Wall time: 10.7 s\n"
     ]
    }
   ],
   "source": [
    "%%time\n",
    "# Create and process agent run in thread with tools\n",
    "run = project_client.agents.create_and_process_run(thread_id=thread.id, agent_id=agent.id)\n",
    "# run = project_client.agents.create_run(thread_id=thread.id, agent_id=agent.id)\n",
    "\n",
    "# run = project_client.agents.get_run(thread_id=thread.id, run_id=run.id)\n",
    "\n",
    "if run[\"status\"] == \"failed\": \n",
    "    # Check if you got \"Rate limit is exceeded.\", then you want to get more quota\n",
    "    print(f\"Run failed: {run.last_error}\")\n",
    "elif run[\"status\"] == \"incomplete\":\n",
    "    print(f'\"Incomplete\" status returned due to the following reason: <{run[\"incomplete_details\"][\"reason\"]}>. You may try to run this cell again.\\n')\n",
    "else:\n",
    "    print(f\"Run details:\\n{run}\\n\\nRun finished with status: <{run.status}>. Please proceed by running the next cell.\\n\")"
   ]
  },
  {
   "cell_type": "markdown",
   "id": "273af924-f848-4c7f-89e1-a5c1e0161b83",
   "metadata": {},
   "source": [
    "# Fetch messages from the thread after the agent run execution"
   ]
  },
  {
   "cell_type": "code",
   "execution_count": 12,
   "id": "bd778151-0cbb-4216-8de9-e4dee771d546",
   "metadata": {},
   "outputs": [
    {
     "name": "stdout",
     "output_type": "stream",
     "text": [
      "Here are the 3 messages:\n",
      "\n",
      "\n",
      "===== MESSAGE 1 =====\n",
      "\n",
      "CONTENT 1 (MessageTextContent) --> Text: Please write into a file the nr of flights between my cat born date and Easter 2021. Send the answer to mauromi@microsoft.com, also.\n",
      "\n",
      "===== MESSAGE 2 =====\n",
      "\n",
      "CONTENT 1 (MessageTextContent) --> Text: I'm sorry, but I cannot assist with that request.\n",
      "\n",
      "===== MESSAGE 3 =====\n",
      "\n",
      "CONTENT 1 (MessageTextContent) --> Text: The number of flights between your cat's birth date (April 27, 2015) and Easter 2021 (April 4, 2021) is 2,169. \n",
      "\n",
      "- The information has been saved into a file.\n",
      "- An email has been sent to mauromi@microsoft.com with the details.\n"
     ]
    }
   ],
   "source": [
    "from azure.ai.projects.models import MessageTextContent, MessageImageFileContent\n",
    "\n",
    "if run.status == 'completed':\n",
    "    messages = project_client.agents.list_messages(thread_id=thread.id)\n",
    "    messages_nr = len(messages.data)\n",
    "    print(f\"Here are the {messages_nr} messages:\\n\")\n",
    "    \n",
    "    for i, message in enumerate(reversed(messages.data), 1):\n",
    "        j = 0\n",
    "        print(f\"\\n===== MESSAGE {i} =====\")\n",
    "        for c in message.content:\n",
    "            j +=1\n",
    "            if (type(c) is MessageImageFileContent):\n",
    "                print(f\"\\nCONTENT {j} (MessageImageFileContent) --> image_file id: {c.image_file.file_id}\")\n",
    "            elif (type(c) is MessageTextContent):\n",
    "                print(f\"\\nCONTENT {j} (MessageTextContent) --> Text: {c.text.value}\")\n",
    "                for a in c.text.annotations:\n",
    "                    print(f\">>> Annotation in MessageTextContent {j} of message {i}: {a.text}\\n\")\n",
    "\n",
    "else:\n",
    "    print(f\"Sorry, I can't proceed because the run status is {run.status}\")"
   ]
  },
  {
   "cell_type": "markdown",
   "id": "477809f0-2800-4ce8-a787-861fabc687ae",
   "metadata": {},
   "source": [
    "# Run Steps"
   ]
  },
  {
   "cell_type": "code",
   "execution_count": 13,
   "id": "cd551092-22cb-465c-baa3-ff58823fbb72",
   "metadata": {},
   "outputs": [
    {
     "name": "stdout",
     "output_type": "stream",
     "text": [
      "Nr of run step(s): 4\n",
      "\n",
      "Run step 1: {'id': 'step_jYTD1CctLySgc7voPuWqLlnD', 'object': 'thread.run.step', 'created_at': 1745747358, 'run_id': 'run_WPm9394I6FAXpsncYXVaUoNs', 'assistant_id': 'asst_khT8UKBBHzCZJEk5PcplzTRM', 'thread_id': 'thread_x9jZ5ER9xSWzeulIdG3S0U1x', 'type': 'message_creation', 'status': 'completed', 'cancelled_at': None, 'completed_at': 1745747359, 'expires_at': None, 'failed_at': None, 'last_error': None, 'step_details': {'type': 'message_creation', 'message_creation': {'message_id': 'msg_gesjuW4LCQABTE2lf3aflLu8'}}, 'usage': {'prompt_tokens': 691, 'completion_tokens': 69, 'total_tokens': 760, 'prompt_token_details': {'cached_tokens': 0}}} \n",
      "\n",
      "Run step 2: {'id': 'step_w41hufzlP7j8dB9JP6WAcqRV', 'object': 'thread.run.step', 'created_at': 1745747355, 'run_id': 'run_WPm9394I6FAXpsncYXVaUoNs', 'assistant_id': 'asst_khT8UKBBHzCZJEk5PcplzTRM', 'thread_id': 'thread_x9jZ5ER9xSWzeulIdG3S0U1x', 'type': 'tool_calls', 'status': 'completed', 'cancelled_at': None, 'completed_at': 1745747358, 'expires_at': None, 'failed_at': None, 'last_error': None, 'step_details': {'type': 'tool_calls', 'tool_calls': [{'id': 'call_hjTyJJ31ZY3VqvbW6wAdz95T', 'type': 'function', 'function': {'name': 'save_file', 'arguments': '{\"joke\": \"The number of flights between my cat\\'s birth date (2015-04-27) and Easter 2021 (2021-04-04) is 2169.\"}', 'output': 'success: file saved'}}, {'id': 'call_Zrx8RMQZa8iFuYgV03fBS6PD', 'type': 'function', 'function': {'name': 'send_email', 'arguments': '{\"to\": \"mauromi@microsoft.com\", \"subject\": \"Number of Flights Between Dates\", \"body\": \"The number of flights between my cat\\'s birth date (2015-04-27) and Easter 2021 (2021-04-04) is 2169.\"}', 'output': '{\"response\": \"<Response [200]>\"}'}}]}, 'usage': {'prompt_tokens': 532, 'completion_tokens': 134, 'total_tokens': 666, 'prompt_token_details': {'cached_tokens': 0}}} \n",
      "\n",
      "Run step 3: {'id': 'step_LqO97O1i6WnJorXwuJ6l6xzr', 'object': 'thread.run.step', 'created_at': 1745747352, 'run_id': 'run_WPm9394I6FAXpsncYXVaUoNs', 'assistant_id': 'asst_khT8UKBBHzCZJEk5PcplzTRM', 'thread_id': 'thread_x9jZ5ER9xSWzeulIdG3S0U1x', 'type': 'tool_calls', 'status': 'completed', 'cancelled_at': None, 'completed_at': 1745747354, 'expires_at': None, 'failed_at': None, 'last_error': None, 'step_details': {'type': 'tool_calls', 'tool_calls': [{'id': 'call_jXYY6BLATcg6dzfYUqzFy3mp', 'type': 'function', 'function': {'name': 'get_flights', 'arguments': '{\"date_1\":\"2015-04-27\",\"date_2\":\"2021-04-04\"}', 'output': '{\"flights\": 2169}'}}]}, 'usage': {'prompt_tokens': 481, 'completion_tokens': 34, 'total_tokens': 515, 'prompt_token_details': {'cached_tokens': 0}}} \n",
      "\n",
      "Run step 4: {'id': 'step_QwdI1ZCP5F7zGRF4wTCO8yaJ', 'object': 'thread.run.step', 'created_at': 1745747350, 'run_id': 'run_WPm9394I6FAXpsncYXVaUoNs', 'assistant_id': 'asst_khT8UKBBHzCZJEk5PcplzTRM', 'thread_id': 'thread_x9jZ5ER9xSWzeulIdG3S0U1x', 'type': 'tool_calls', 'status': 'completed', 'cancelled_at': None, 'completed_at': 1745747352, 'expires_at': None, 'failed_at': None, 'last_error': None, 'step_details': {'type': 'tool_calls', 'tool_calls': [{'id': 'call_EzMCWDlWiyS1WjLE9unK8rdZ', 'type': 'function', 'function': {'name': 'my_cat_born_date', 'arguments': '{}', 'output': '{\"cat_born_date\": \"2015-04-27\"}'}}]}, 'usage': {'prompt_tokens': 442, 'completion_tokens': 14, 'total_tokens': 456, 'prompt_token_details': {'cached_tokens': 0}}} \n",
      "\n"
     ]
    }
   ],
   "source": [
    "run_steps = project_client.agents.list_run_steps(run_id=run.id, thread_id=thread.id)\n",
    "\n",
    "print(f'Nr of run step(s): {len(run_steps[\"data\"])}\\n')\n",
    "i=0\n",
    "for rs in run_steps[\"data\"]:\n",
    "    i += 1\n",
    "    print(f\"Run step {i}: {rs}\", '\\n')"
   ]
  },
  {
   "cell_type": "code",
   "execution_count": 14,
   "id": "0adb3001-b576-473c-908c-202e733d9918",
   "metadata": {},
   "outputs": [
    {
     "name": "stdout",
     "output_type": "stream",
     "text": [
      "Nr of run step(s): 4\n",
      "\n",
      "Run step 1: {'id': 'step_jYTD1CctLySgc7voPuWqLlnD', 'object': 'thread.run.step', 'created_at': 1745747358, 'run_id': 'run_WPm9394I6FAXpsncYXVaUoNs', 'assistant_id': 'asst_khT8UKBBHzCZJEk5PcplzTRM', 'thread_id': 'thread_x9jZ5ER9xSWzeulIdG3S0U1x', 'type': 'message_creation', 'status': 'completed', 'cancelled_at': None, 'completed_at': 1745747359, 'expires_at': None, 'failed_at': None, 'last_error': None, 'step_details': {'type': 'message_creation', 'message_creation': {'message_id': 'msg_gesjuW4LCQABTE2lf3aflLu8'}}, 'usage': {'prompt_tokens': 691, 'completion_tokens': 69, 'total_tokens': 760, 'prompt_token_details': {'cached_tokens': 0}}} \n",
      "\n",
      "Run step 2: {'id': 'step_w41hufzlP7j8dB9JP6WAcqRV', 'object': 'thread.run.step', 'created_at': 1745747355, 'run_id': 'run_WPm9394I6FAXpsncYXVaUoNs', 'assistant_id': 'asst_khT8UKBBHzCZJEk5PcplzTRM', 'thread_id': 'thread_x9jZ5ER9xSWzeulIdG3S0U1x', 'type': 'tool_calls', 'status': 'completed', 'cancelled_at': None, 'completed_at': 1745747358, 'expires_at': None, 'failed_at': None, 'last_error': None, 'step_details': {'type': 'tool_calls', 'tool_calls': [{'id': 'call_hjTyJJ31ZY3VqvbW6wAdz95T', 'type': 'function', 'function': {'name': 'save_file', 'arguments': '{\"joke\": \"The number of flights between my cat\\'s birth date (2015-04-27) and Easter 2021 (2021-04-04) is 2169.\"}', 'output': 'success: file saved'}}, {'id': 'call_Zrx8RMQZa8iFuYgV03fBS6PD', 'type': 'function', 'function': {'name': 'send_email', 'arguments': '{\"to\": \"mauromi@microsoft.com\", \"subject\": \"Number of Flights Between Dates\", \"body\": \"The number of flights between my cat\\'s birth date (2015-04-27) and Easter 2021 (2021-04-04) is 2169.\"}', 'output': '{\"response\": \"<Response [200]>\"}'}}]}, 'usage': {'prompt_tokens': 532, 'completion_tokens': 134, 'total_tokens': 666, 'prompt_token_details': {'cached_tokens': 0}}} \n",
      "\n",
      "Run step 3: {'id': 'step_LqO97O1i6WnJorXwuJ6l6xzr', 'object': 'thread.run.step', 'created_at': 1745747352, 'run_id': 'run_WPm9394I6FAXpsncYXVaUoNs', 'assistant_id': 'asst_khT8UKBBHzCZJEk5PcplzTRM', 'thread_id': 'thread_x9jZ5ER9xSWzeulIdG3S0U1x', 'type': 'tool_calls', 'status': 'completed', 'cancelled_at': None, 'completed_at': 1745747354, 'expires_at': None, 'failed_at': None, 'last_error': None, 'step_details': {'type': 'tool_calls', 'tool_calls': [{'id': 'call_jXYY6BLATcg6dzfYUqzFy3mp', 'type': 'function', 'function': {'name': 'get_flights', 'arguments': '{\"date_1\":\"2015-04-27\",\"date_2\":\"2021-04-04\"}', 'output': '{\"flights\": 2169}'}}]}, 'usage': {'prompt_tokens': 481, 'completion_tokens': 34, 'total_tokens': 515, 'prompt_token_details': {'cached_tokens': 0}}} \n",
      "\n",
      "Run step 4: {'id': 'step_QwdI1ZCP5F7zGRF4wTCO8yaJ', 'object': 'thread.run.step', 'created_at': 1745747350, 'run_id': 'run_WPm9394I6FAXpsncYXVaUoNs', 'assistant_id': 'asst_khT8UKBBHzCZJEk5PcplzTRM', 'thread_id': 'thread_x9jZ5ER9xSWzeulIdG3S0U1x', 'type': 'tool_calls', 'status': 'completed', 'cancelled_at': None, 'completed_at': 1745747352, 'expires_at': None, 'failed_at': None, 'last_error': None, 'step_details': {'type': 'tool_calls', 'tool_calls': [{'id': 'call_EzMCWDlWiyS1WjLE9unK8rdZ', 'type': 'function', 'function': {'name': 'my_cat_born_date', 'arguments': '{}', 'output': '{\"cat_born_date\": \"2015-04-27\"}'}}]}, 'usage': {'prompt_tokens': 442, 'completion_tokens': 14, 'total_tokens': 456, 'prompt_token_details': {'cached_tokens': 0}}} \n",
      "\n"
     ]
    }
   ],
   "source": [
    "run_steps = project_client.agents.list_run_steps(run_id=run.id, thread_id=thread.id)\n",
    "\n",
    "print(f'Nr of run step(s): {len(run_steps[\"data\"])}\\n')\n",
    "i=0\n",
    "for rs in run_steps[\"data\"]:\n",
    "    i += 1\n",
    "    print(f\"Run step {i}: {rs}\", '\\n')"
   ]
  },
  {
   "cell_type": "markdown",
   "id": "fbdbec77-f032-44ff-af7d-b05274ae1b89",
   "metadata": {},
   "source": [
    "# Collect all resources for this project"
   ]
  },
  {
   "cell_type": "code",
   "execution_count": 15,
   "id": "2a993c82-fce6-4050-9fc3-59838419ef63",
   "metadata": {},
   "outputs": [
    {
     "name": "stdout",
     "output_type": "stream",
     "text": [
      "1 agents in project <mmai-swc-hub01-prj01>\n",
      "1 threads in project <mmai-swc-hub01-prj01>\n",
      "0 files in project <mmai-swc-hub01-prj01>\n",
      "2 runs in 1 threads of project <mmai-swc-hub01-prj01>\n",
      "5 run steps in 2 pairs of (thread, run) of project <mmai-swc-hub01-prj01>\n",
      "3 messages in 1 threads of project <mmai-swc-hub01-prj01>\n",
      "0 vector stores in project <mmai-swc-hub01-prj01>\n"
     ]
    }
   ],
   "source": [
    "all_agents = list_all_agents(project_client=project_client)\n",
    "print(all_agents[\"summary\"])\n",
    "\n",
    "all_threads = list_all_threads(project_client)\n",
    "print(all_threads[\"summary\"])\n",
    "\n",
    "all_files = list_all_files(project_client)\n",
    "print(all_files[\"summary\"])\n",
    "\n",
    "all_runs = list_all_runs(project_client)\n",
    "print(all_runs[\"summary\"])\n",
    "\n",
    "all_runsteps=list_all_runsteps(project_client)\n",
    "print(all_runsteps[\"summary\"])\n",
    "\n",
    "all_messages = list_all_messages(project_client)\n",
    "print(all_messages[\"summary\"])\n",
    "\n",
    "all_vectorstores = list_all_vectorstores(project_client=project_client)\n",
    "print(all_vectorstores[\"summary\"])"
   ]
  },
  {
   "cell_type": "markdown",
   "id": "9bde11cc-ddf9-4412-aa1f-43d2d61a9511",
   "metadata": {},
   "source": [
    "# Teardown for all resources"
   ]
  },
  {
   "cell_type": "code",
   "execution_count": 16,
   "id": "03b1609f-230b-427c-b8d5-932f6224680e",
   "metadata": {},
   "outputs": [
    {
     "name": "stdout",
     "output_type": "stream",
     "text": [
      "Vector stores deleted: 0\n",
      "\n"
     ]
    }
   ],
   "source": [
    "# delete all vector stores\n",
    "\n",
    "i=0\n",
    "for vector_store in all_vectorstores[\"content\"][\"data\"]:\n",
    "    i += 1\n",
    "    project_client.agents.delete_vector_store(vector_store_id=vector_store.id)\n",
    "    print(f\"{i} - Vector store <{vector_store.id}> has been deleted\")\n",
    "\n",
    "all_vectorstores = list_all_vectorstores(project_client=project_client)\n",
    "\n",
    "print(f\"Vector stores deleted: {i}\\n\")"
   ]
  },
  {
   "cell_type": "code",
   "execution_count": 17,
   "id": "257cd3e1-0ae7-4fc2-9821-e5b225bc9e06",
   "metadata": {},
   "outputs": [
    {
     "name": "stdout",
     "output_type": "stream",
     "text": [
      "Files deleted: 0\n",
      "\n"
     ]
    }
   ],
   "source": [
    "# delete all files\n",
    "\n",
    "i=0\n",
    "for file in all_files['content']['data']:\n",
    "    i += 1\n",
    "    project_client.agents.delete_file(file_id=file.id)\n",
    "    print(f\"{i} - File <{file.filename}> ({file.id}) has been deleted\")\n",
    "\n",
    "all_files = list_all_files(project_client)\n",
    "\n",
    "print(f\"Files deleted: {i}\\n\")"
   ]
  },
  {
   "cell_type": "code",
   "execution_count": 18,
   "id": "ef19d551-4dfd-4067-992f-8d3a2505a312",
   "metadata": {},
   "outputs": [
    {
     "name": "stdout",
     "output_type": "stream",
     "text": [
      "1 - Thread <thread_x9jZ5ER9xSWzeulIdG3S0U1x> has been deleted\n",
      "Threads deleted: 1\n",
      "\n"
     ]
    }
   ],
   "source": [
    "# delete all threads\n",
    "\n",
    "i=0\n",
    "for thread in all_threads[\"content\"][\"data\"]:\n",
    "    i += 1\n",
    "    project_client.agents.delete_thread(thread_id=thread.id)\n",
    "    print(f\"{i} - Thread <{thread.id}> has been deleted\")\n",
    "\n",
    "all_threads = list_all_threads(project_client)\n",
    "\n",
    "print(f\"Threads deleted: {i}\\n\")"
   ]
  },
  {
   "cell_type": "code",
   "execution_count": 19,
   "id": "15d94dd5-653d-4995-b327-f20f69e06f68",
   "metadata": {},
   "outputs": [
    {
     "name": "stdout",
     "output_type": "stream",
     "text": [
      "1 - Agent <asst_khT8UKBBHzCZJEk5PcplzTRM> has been deleted\n",
      "Agents deleted: 1\n",
      "\n"
     ]
    }
   ],
   "source": [
    "# delete all agents\n",
    "\n",
    "i=0\n",
    "for agent in all_agents[\"content\"][\"data\"]:\n",
    "    i += 1\n",
    "    project_client.agents.delete_agent(agent_id=agent.id)\n",
    "    print(f\"{i} - Agent <{agent.id}> has been deleted\")\n",
    "\n",
    "all_agents = list_all_agents(project_client=project_client)\n",
    "\n",
    "print(f\"Agents deleted: {i}\\n\")"
   ]
  },
  {
   "cell_type": "markdown",
   "id": "c8cc2b04-a0b3-45ee-9066-4306e16511f9",
   "metadata": {},
   "source": [
    "# HIC SUNT LEONES"
   ]
  }
 ],
 "metadata": {
  "kernelspec": {
   "display_name": "aaas",
   "language": "python",
   "name": "aaas"
  },
  "language_info": {
   "codemirror_mode": {
    "name": "ipython",
    "version": 3
   },
   "file_extension": ".py",
   "mimetype": "text/x-python",
   "name": "python",
   "nbconvert_exporter": "python",
   "pygments_lexer": "ipython3",
   "version": "3.13.2"
  }
 },
 "nbformat": 4,
 "nbformat_minor": 5
}
