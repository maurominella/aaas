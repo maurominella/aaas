{
 "cells": [
  {
   "attachments": {},
   "cell_type": "markdown",
   "id": "6aff6e2d-97b4-441c-b548-2557bafae055",
   "metadata": {},
   "source": [
    "# [Create Agent with Function Call](https://learn.microsoft.com/en-us/python/api/overview/azure/ai-projects-readme?view=azure-python-preview#create-agent-with-function-call) using FunctionTool + ToolSet\n",
    "You can enhance your Agents by defining **callback functions as function tools**. These can be provided to `create_agent` via either the `toolset` parameter or the **combination** of `tools and tool_resources`. Here are the distinctions:\n",
    "\n",
    "1. **toolset**: When using the toolset parameter, you provide not only the function definitions and descriptions but also their implementations. The SDK will execute these functions within `create_and_run_process` or `streaming`. These functions will be invoked based on their definitions.\n",
    "2. **tools and tool_resources**: When using the tools and tool_resources parameters, only the function definitions and descriptions are provided to `create_agent`, without the implementations. The `Run` or event handler of stream will raise a `requires_action` status based on the function definitions. **Your code must handle this status and call the appropriate functions**.<br/>\n",
    "\n",
    "As a reference point, let's see how we were used to managed this with [OpenAI Assistants API](https://github.com/maurominella/openai/blob/main/assistantapi/Assistant%20APIs%2002%20-%20SDK%20with%20Function%20Calling.ipynb)"
   ]
  },
  {
   "cell_type": "markdown",
   "id": "b744f94c-f307-4655-bc8e-fe8d178056d9",
   "metadata": {},
   "source": [
    "# Constants"
   ]
  },
  {
   "cell_type": "code",
   "execution_count": null,
   "id": "98d9cc9d-cbef-4b35-a4a3-84802dd4ee06",
   "metadata": {},
   "outputs": [],
   "source": [
    "import os\n",
    "from dotenv import load_dotenv # requires python-dotenv\n",
    "# import logging\n",
    "# logging.basicConfig(level=logging.INFO) # Configure logging \n",
    "\n",
    "load_dotenv(\"./../config/credentials_my.env\")\n",
    "model_name =  \"gpt-4o-2024-08-06\" # https://learn.microsoft.com/en-us/azure/ai-services/agents/how-to/tools/bing-grounding?tabs=python&pivots=overview#setup\n",
    "project_connection_string = os.environ[\"PROJECT_CONNECTION_STRING\"]\n",
    "\n",
    "print(f'Project Connection String: <...{project_connection_string[-30:]}>')"
   ]
  },
  {
   "cell_type": "markdown",
   "id": "8d3cc043-85c7-4c1d-bf65-c9aa1ea453a2",
   "metadata": {},
   "source": [
    "# Create AI Foundry Project Client"
   ]
  },
  {
   "cell_type": "code",
   "execution_count": null,
   "id": "5a9abb62-b855-402f-9e22-583ffe6bf8cb",
   "metadata": {},
   "outputs": [],
   "source": [
    "from azure.ai.projects import AIProjectClient\n",
    "from azure.ai.projects.models import FunctionTool, ToolSet # <<<<<<<<<<<<<<< SPECIFIC FOR FUNCTION CALLING\n",
    "from azure.identity import DefaultAzureCredential\n",
    "\n",
    "project_client = AIProjectClient.from_connection_string(\n",
    "    credential=DefaultAzureCredential(), conn_str=project_connection_string\n",
    ")\n",
    "\n",
    "project_client.scope"
   ]
  },
  {
   "cell_type": "markdown",
   "id": "cce71f12-75e0-4e06-ba41-faedc3235164",
   "metadata": {},
   "source": [
    "# Define some custom functions"
   ]
  },
  {
   "cell_type": "code",
   "execution_count": null,
   "id": "28086556-34d4-48bb-ba24-d74839fc0a3a",
   "metadata": {},
   "outputs": [],
   "source": [
    "from datetime import date\n",
    "\n",
    "def save_file(joke:str) -> str:\n",
    "    \"\"\"\n",
    "    Saves a text file using the textual content passed in the joke variable.\n",
    "    Args:\n",
    "        joke (str): The text content to be saved into the file. \n",
    "        \n",
    "    Returns:\n",
    "        Optional[str]: Returns 'success: file saved' on success, otherwise returns an error message.\n",
    "    \"\"\"\n",
    "    file_name = \"joke.txt\"\n",
    "    try:\n",
    "        with open(file_name, \"w\") as f:\n",
    "            f.write(joke)\n",
    "        return \"success: file saved\"\n",
    "    except Exception as e:\n",
    "        return f\"error: {str(e)}\"\n",
    "\n",
    "\n",
    "def get_flights(date_1:date, date_2:date) -> str:\n",
    "    \"\"\" Returns the number of flights in a date interval  \"\"\"\n",
    "    import json\n",
    "    from dateutil.parser import parse\n",
    "    flights = {\n",
    "        \"flights\": abs((parse(date_2) - parse(date_1)).days) \n",
    "    }\n",
    "    return json.dumps(flights)\n",
    "\n",
    "\n",
    "def my_cat_born_date() -> str:\n",
    "    \"\"\" Returns my cat's born date \"\"\"\n",
    "    import datetime, random, json\n",
    "    from dateutil.relativedelta import relativedelta\n",
    "    \n",
    "    # Calculate the date as ten years ago  \n",
    "    ten_years_ago = datetime.date.today() - relativedelta(years=10) \n",
    "    \n",
    "    cat_born_date = {\n",
    "        \"cat_born_date\": ten_years_ago.strftime(\"%Y-%m-%d\")\n",
    "    }\n",
    "    return json.dumps(cat_born_date)\n",
    "\n",
    "\n",
    "def send_email(to:str, subject:str, body:str) -> str:\n",
    "    \"\"\" Sends an email \"\"\"\n",
    "    import requests, json\n",
    "    url = 'https://prod-18.swedencentral.logic.azure.com:443/workflows/4f7a19b041e04a9e8ea47303e1af503c/triggers/When_a_HTTP_request_is_received/paths/invoke?api-version=2016-10-01&sp=%2Ftriggers%2FWhen_a_HTTP_request_is_received%2Frun&sv=1.0&sig=TX-eDahoU_QIEOjw9qOXjRyPNqA9s4IVkd0osbsyzzI'  \n",
    "\n",
    "    headers = {\n",
    "        'Content-Type': 'application/json'\n",
    "    }\n",
    "\n",
    "    data = {\n",
    "        \"to\": to,\n",
    "        \"subject\": subject,\n",
    "        \"body\": body\n",
    "    }\n",
    "    response = {\"response\": str(requests.post(url, headers=headers, data=json.dumps(data)))}\n",
    "    return json.dumps(response)"
   ]
  },
  {
   "cell_type": "markdown",
   "id": "e50b7edb-9c0e-4be9-95bb-bd661b5aef7f",
   "metadata": {},
   "source": [
    "# Consolidate the custom functions into a single set"
   ]
  },
  {
   "cell_type": "code",
   "execution_count": null,
   "id": "1a6a6f91-7a99-40a4-8c36-f06ef9299ef0",
   "metadata": {},
   "outputs": [],
   "source": [
    "from typing import Any, Callable, Set\n",
    "\n",
    "user_functions: Set[Callable[..., Any]] = {\n",
    "    save_file, \n",
    "    get_flights, \n",
    "    my_cat_born_date,\n",
    "    send_email\n",
    "}\n",
    "\n",
    "user_functions"
   ]
  },
  {
   "cell_type": "markdown",
   "id": "e809d1bd-080f-405e-8c13-0733e585bb53",
   "metadata": {},
   "source": [
    "# Just for testing: use the `user_function` set to call its functions"
   ]
  },
  {
   "cell_type": "code",
   "execution_count": null,
   "id": "4f4d0dfd-3fcb-47ae-8fce-30eac22b72f1",
   "metadata": {},
   "outputs": [],
   "source": [
    "for function in user_functions:    \n",
    "    if function.__name__ == \"my_cat_born_date\":\n",
    "        result = function()\n",
    "    elif function.__name__ == \"save_file\": \n",
    "        result = function(\"This is the content\")\n",
    "    elif function.__name__ == \"get_flights\": \n",
    "        result = function(\"2015-01-01\", \"2021-04-04\")\n",
    "    elif function.__name__ == \"send_email\": \n",
    "        result = function(\"mauromi@microsoft.com\", \"email from Python Agent\", \"body\")\n",
    "\n",
    "    print(f\"{function.__name__}() returned {result}\")"
   ]
  },
  {
   "cell_type": "markdown",
   "id": "1c04fab6-8299-4d73-a5fc-e332f2715a85",
   "metadata": {},
   "source": [
    "# Initialize `FunctionTool` and `ToolSet`"
   ]
  },
  {
   "cell_type": "code",
   "execution_count": null,
   "id": "110d0c52-d935-47d1-8bda-d307ce5e2c50",
   "metadata": {},
   "outputs": [],
   "source": [
    "functions = FunctionTool(user_functions)\n",
    "toolset = ToolSet()\n",
    "toolset.add(functions)\n",
    "\n",
    "print(f\"toolset: {toolset}\")\n",
    "print(f\"\\ntoolset.definitions: {toolset.definitions}\")\n",
    "print(f\"\\ntoolset.resources: {toolset.resources}\")"
   ]
  },
  {
   "cell_type": "markdown",
   "id": "a922f615-bdc1-411f-803b-0596647e98da",
   "metadata": {},
   "source": [
    "# Create AI Foundry Agent"
   ]
  },
  {
   "cell_type": "code",
   "execution_count": null,
   "id": "b23ba3db-c486-4378-be6c-cb5626f52e3f",
   "metadata": {},
   "outputs": [],
   "source": [
    "agent = project_client.agents.create_agent(\n",
    "    model=model_name,\n",
    "    name=\"functiontoolset-agent\",\n",
    "    instructions=\"You are a helpful assistant\",\n",
    "    toolset=toolset\n",
    ")\n",
    "\n",
    "agent.items"
   ]
  },
  {
   "cell_type": "markdown",
   "id": "972eff1e-eaf9-426e-a494-cf4d316e1e79",
   "metadata": {},
   "source": [
    "# Create the thread and attach a new message to it"
   ]
  },
  {
   "cell_type": "code",
   "execution_count": null,
   "id": "06f80125-1252-4060-bdf5-3b52acc42a47",
   "metadata": {},
   "outputs": [],
   "source": [
    "# Create a thread\n",
    "thread = project_client.agents.create_thread()\n",
    "print(f\"Created thread: {thread}\\n\")\n",
    "\n",
    "# Add a user message to the thread\n",
    "message = project_client.agents.create_message(\n",
    "    thread_id=thread.id, \n",
    "    role=\"user\", \n",
    "    content=\"Please write into a file the nr of flights between my cat born date and Easter 2021. Send the answer to mauromi@microsoft.com, also.\",\n",
    ")\n",
    "print(f\"Created message: {message}\")"
   ]
  },
  {
   "cell_type": "markdown",
   "id": "b9536eda-ae76-4d3f-b912-30169b42b15c",
   "metadata": {},
   "source": [
    "# Run the agent synchronously"
   ]
  },
  {
   "cell_type": "code",
   "execution_count": null,
   "id": "8604f495-2519-42a7-a19a-026538cf2c2c",
   "metadata": {},
   "outputs": [],
   "source": [
    "%%time\n",
    "# Create and process agent run in thread with tools\n",
    "run = project_client.agents.create_and_process_run(thread_id=thread.id, assistant_id=agent.id)\n",
    "print(f\"Run finished with status: {run.status}. Run: {run}\")\n",
    "\n",
    "if run.status == \"failed\":\n",
    "    # Check if you got \"Rate limit is exceeded.\", then you want to get more quota\n",
    "    print(f\"Run failed: {run.last_error}\")"
   ]
  },
  {
   "cell_type": "markdown",
   "id": "273af924-f848-4c7f-89e1-a5c1e0161b83",
   "metadata": {},
   "source": [
    "# Fetch messages from the thread after the agent run execution"
   ]
  },
  {
   "cell_type": "code",
   "execution_count": null,
   "id": "bd778151-0cbb-4216-8de9-e4dee771d546",
   "metadata": {},
   "outputs": [],
   "source": [
    "from azure.ai.projects.models import MessageTextContent, MessageImageFileContent\n",
    "\n",
    "if run.status == 'completed':    \n",
    "    messages = project_client.agents.list_messages(thread_id=thread.id)\n",
    "    messages_nr = len(messages.data)\n",
    "    print(f\"Here are the {messages_nr} messages:\\n\")\n",
    "    \n",
    "    for i, message in enumerate(reversed(messages.data), 1):\n",
    "        j = 0\n",
    "        print(f\"\\n===== MESSAGE {i} =====\")\n",
    "        for c in message.content:\n",
    "            j +=1\n",
    "            if (type(c) is MessageImageFileContent):\n",
    "                print(f\"\\nCONTENT {j} (MessageImageFileContent) --> image_file id: {c.image_file.file_id}\")\n",
    "            elif (type(c) is MessageTextContent):\n",
    "                print(f\"\\nCONTENT {j} (MessageTextContent) --> Text: {c.text.value}\")\n",
    "                for a in c.text.annotations:\n",
    "                    print(f\">>> Annotation in MessageTextContent {j} of message {i}: {a.text}\\n\")\n",
    "\n",
    "else:\n",
    "    print(f\"Sorry, I can't proceed because the run status is {run.status}\")"
   ]
  },
  {
   "cell_type": "markdown",
   "id": "477809f0-2800-4ce8-a787-861fabc687ae",
   "metadata": {},
   "source": [
    "# Run Steps"
   ]
  },
  {
   "cell_type": "code",
   "execution_count": null,
   "id": "cd551092-22cb-465c-baa3-ff58823fbb72",
   "metadata": {},
   "outputs": [],
   "source": [
    "run_steps = project_client.agents.list_run_steps(run_id=run.id, thread_id=thread.id)\n",
    "\n",
    "print(f'Nr of run step(s): {len(run_steps[\"data\"])}\\n')\n",
    "i=0\n",
    "for rs in run_steps[\"data\"]:\n",
    "    i += 1\n",
    "    print(f\"Run step {i}: {rs}\", '\\n')"
   ]
  },
  {
   "cell_type": "markdown",
   "id": "944ec759-c053-4ab7-81aa-15cfa4961468",
   "metadata": {},
   "source": [
    "# START teardown"
   ]
  },
  {
   "cell_type": "code",
   "execution_count": null,
   "id": "4067d9ab-2a20-4107-be1f-9ea5ccd19cc0",
   "metadata": {},
   "outputs": [],
   "source": [
    "print(f\"deleting trhead: {thread}...\")\n",
    "project_client.agents.delete_thread(thread.id)"
   ]
  },
  {
   "cell_type": "code",
   "execution_count": null,
   "id": "11b0c075-9f1a-47ca-b8c8-ad2e9d85b477",
   "metadata": {},
   "outputs": [],
   "source": [
    "# Delete all agents\n",
    "\n",
    "print(f\"{len(project_client.agents.list_agents()['data'])} agent(s) will now be deleted\")\n",
    "\n",
    "i=0\n",
    "for pca in project_client.agents.list_agents()['data']:\n",
    "    i += 1\n",
    "    project_client.agents.delete_agent(pca.id)\n",
    "    print(f\"\\n{i} - Agent {pca.name} has been deleted\")"
   ]
  },
  {
   "cell_type": "markdown",
   "id": "c8cc2b04-a0b3-45ee-9066-4306e16511f9",
   "metadata": {},
   "source": [
    "# HIC SUNT LEONES"
   ]
  }
 ],
 "metadata": {
  "kernelspec": {
   "display_name": "aaas",
   "language": "python",
   "name": "aaas"
  },
  "language_info": {
   "codemirror_mode": {
    "name": "ipython",
    "version": 3
   },
   "file_extension": ".py",
   "mimetype": "text/x-python",
   "name": "python",
   "nbconvert_exporter": "python",
   "pygments_lexer": "ipython3",
   "version": "3.12.8"
  }
 },
 "nbformat": 4,
 "nbformat_minor": 5
}
