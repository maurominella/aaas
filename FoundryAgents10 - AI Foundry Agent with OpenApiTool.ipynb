{
 "cells": [
  {
   "attachments": {},
   "cell_type": "markdown",
   "id": "6aff6e2d-97b4-441c-b548-2557bafae055",
   "metadata": {},
   "source": [
    "# [Create Agent With OpenAPI](https://learn.microsoft.com/en-us/python/api/overview/azure/ai-projects-readme?view=azure-python-preview#create-agent-with-openapi)\n",
    "AzureFunctionTool contains the input and output queues of azure function and the description of input parameters.\n",
    "\n",
    "Inspired by [sample_agents_openapi.py](https://github.com/Azure/azure-sdk-for-python/blob/azure-ai-projects_1.0.0b4/sdk/ai/azure-ai-projects/samples/agents/sample_agents_openapi.py)"
   ]
  },
  {
   "cell_type": "markdown",
   "id": "54084032-e7de-40c6-bcbc-90ab737a001f",
   "metadata": {},
   "source": [
    "# Constants"
   ]
  },
  {
   "cell_type": "code",
   "execution_count": 1,
   "id": "98d9cc9d-cbef-4b35-a4a3-84802dd4ee06",
   "metadata": {},
   "outputs": [
    {
     "name": "stdout",
     "output_type": "stream",
     "text": [
      "Project Connection String: <...mai04-rg;mmai-hub04-prj01-fvye>\n"
     ]
    }
   ],
   "source": [
    "import os, jsonref\n",
    "from dotenv import load_dotenv # requires python-dotenv\n",
    "# import logging\n",
    "# logging.basicConfig(level=logging.INFO) # Configure logging \n",
    "\n",
    "load_dotenv(\"./../config/credentials_my.env\")\n",
    "model_name =  \"gpt-4o-2024-08-06\" # https://learn.microsoft.com/en-us/azure/ai-services/agents/how-to/tools/bing-grounding?tabs=python&pivots=overview#setup\n",
    "project_connection_string = os.environ[\"PROJECT_CONNECTION_STRING\"]\n",
    "\n",
    "print(f'Project Connection String: <...{project_connection_string[-30:]}>')"
   ]
  },
  {
   "cell_type": "markdown",
   "id": "6541e9bb-3e3f-478e-a084-84b70fce0255",
   "metadata": {},
   "source": [
    "# Create AI Foundry Project Client"
   ]
  },
  {
   "cell_type": "code",
   "execution_count": 2,
   "id": "5a9abb62-b855-402f-9e22-583ffe6bf8cb",
   "metadata": {},
   "outputs": [
    {
     "data": {
      "text/plain": [
       "{'subscription_id': 'eca2eddb-0f0c-4351-a634-52751499eeea',\n",
       " 'resource_group_name': 'mmai04-rg',\n",
       " 'project_name': 'mmai-hub04-prj01-fvye'}"
      ]
     },
     "execution_count": 2,
     "metadata": {},
     "output_type": "execute_result"
    }
   ],
   "source": [
    "from azure.ai.projects import AIProjectClient\n",
    "from azure.ai.projects.models import OpenApiTool, OpenApiAnonymousAuthDetails # <<<<<<<<<<<<<<< SPECIFIC FOR OPENAPI\n",
    "from azure.identity import DefaultAzureCredential\n",
    "\n",
    "project_client = AIProjectClient.from_connection_string(\n",
    "    credential=DefaultAzureCredential(), conn_str=project_connection_string\n",
    ")\n",
    "\n",
    "project_client.scope"
   ]
  },
  {
   "cell_type": "code",
   "execution_count": 3,
   "id": "18bd8408-d7d0-43b1-bd29-5131090ea4f3",
   "metadata": {},
   "outputs": [],
   "source": [
    "# Load Weather OpenAPI"
   ]
  },
  {
   "cell_type": "code",
   "execution_count": 4,
   "id": "121d6e68-3373-417e-b8fc-d31cf5ee4a83",
   "metadata": {},
   "outputs": [
    {
     "data": {
      "text/plain": [
       "{'openapi': '3.1.0',\n",
       " 'info': {'title': 'get weather data',\n",
       "  'description': 'Retrieves current weather data for a location based on wttr.in.',\n",
       "  'version': 'v1.0.0'},\n",
       " 'servers': [{'url': 'https://wttr.in'}],\n",
       " 'auth': [],\n",
       " 'paths': {'/{location}': {'get': {'description': 'Get weather information for a specific location',\n",
       "    'operationId': 'GetCurrentWeather',\n",
       "    'parameters': [{'name': 'location',\n",
       "      'in': 'path',\n",
       "      'description': 'City or location to retrieve the weather for',\n",
       "      'required': True,\n",
       "      'schema': {'type': 'string'}},\n",
       "     {'name': 'format',\n",
       "      'in': 'query',\n",
       "      'description': 'Always use j1 value for this parameter',\n",
       "      'required': True,\n",
       "      'schema': {'type': 'string', 'default': 'j1'}}],\n",
       "    'responses': {'200': {'description': 'Successful response',\n",
       "      'content': {'text/plain': {'schema': {'type': 'string'}}}},\n",
       "     '404': {'description': 'Location not found'}},\n",
       "    'deprecated': False}}},\n",
       " 'components': {'schemes': {}}}"
      ]
     },
     "execution_count": 4,
     "metadata": {},
     "output_type": "execute_result"
    }
   ],
   "source": [
    "# https://github.com/Azure/azure-sdk-for-python/blob/azure-ai-projects_1.0.0b4/sdk/ai/azure-ai-projects/samples/agents/weather_openapi.json\n",
    "with open(\"./openapi/weather_openapi.json\", \"r\") as f:\n",
    "    openapi_spec = jsonref.loads(f.read())\n",
    "\n",
    "openapi_spec"
   ]
  },
  {
   "cell_type": "markdown",
   "id": "073506bb-e90e-43a2-bb50-a07cb1397597",
   "metadata": {},
   "source": [
    "# Create Auth object for the OpenApiTool \n",
    "## Note: connection or managed identity auth setup requires additional setup in Azure"
   ]
  },
  {
   "cell_type": "code",
   "execution_count": 5,
   "id": "ed0b781f-a5c2-4994-aed4-09c7d6fbf47a",
   "metadata": {},
   "outputs": [
    {
     "data": {
      "text/plain": [
       "{'type': 'anonymous'}"
      ]
     },
     "execution_count": 5,
     "metadata": {},
     "output_type": "execute_result"
    }
   ],
   "source": [
    "auth = OpenApiAnonymousAuthDetails()\n",
    "auth"
   ]
  },
  {
   "cell_type": "markdown",
   "id": "cb3d93bc-1a86-4018-bc60-ef6bbdff4a15",
   "metadata": {},
   "source": [
    "# Initialize agent OpenApi tool using the read in OpenAPI spec"
   ]
  },
  {
   "cell_type": "code",
   "execution_count": 6,
   "id": "d8f04bae-92c8-4bcd-974a-023bd56e32e0",
   "metadata": {},
   "outputs": [
    {
     "name": "stdout",
     "output_type": "stream",
     "text": [
      "openapi.definitions: [{'type': 'openapi', 'openapi': {'name': 'get_weather', 'description': 'Retrieve weather information for a location', 'spec': {'openapi': '3.1.0', 'info': {'title': 'get weather data', 'description': 'Retrieves current weather data for a location based on wttr.in.', 'version': 'v1.0.0'}, 'servers': [{'url': 'https://wttr.in'}], 'auth': [], 'paths': {'/{location}': {'get': {'description': 'Get weather information for a specific location', 'operationId': 'GetCurrentWeather', 'parameters': [{'name': 'location', 'in': 'path', 'description': 'City or location to retrieve the weather for', 'required': True, 'schema': {'type': 'string'}}, {'name': 'format', 'in': 'query', 'description': 'Always use j1 value for this parameter', 'required': True, 'schema': {'type': 'string', 'default': 'j1'}}], 'responses': {'200': {'description': 'Successful response', 'content': {'text/plain': {'schema': {'type': 'string'}}}}, '404': {'description': 'Location not found'}}, 'deprecated': False}}}, 'components': {'schemes': {}}}, 'auth': {'type': 'anonymous'}}}]\n",
      "\n",
      "openapi.resources: {}\n"
     ]
    }
   ],
   "source": [
    "openapi = OpenApiTool(\n",
    "    name=\"get_weather\", spec=openapi_spec, description=\"Retrieve weather information for a location\", auth=auth\n",
    ")\n",
    "print(f\"openapi.definitions: {openapi.definitions}\")\n",
    "print(f\"\\nopenapi.resources: {openapi.resources}\")"
   ]
  },
  {
   "cell_type": "markdown",
   "id": "1b889e58-4f42-45fa-abb4-ba63f7038793",
   "metadata": {},
   "source": [
    "# Create AI Foundry Agent"
   ]
  },
  {
   "cell_type": "code",
   "execution_count": 7,
   "id": "b23ba3db-c486-4378-be6c-cb5626f52e3f",
   "metadata": {},
   "outputs": [
    {
     "data": {
      "text/plain": [
       "<bound method _MyMutableMapping.items of {'id': 'asst_1fIWl6gIVJLQp8mA5Rhkzq2f', 'object': 'assistant', 'created_at': 1742915550, 'name': 'openapi-agent', 'description': None, 'model': 'gpt-4o-2024-08-06', 'instructions': 'You are a helpful assistant', 'tools': [{'type': 'openapi', 'openapi': {'name': 'get_weather', 'description': 'Retrieve weather information for a location', 'spec': {'openapi': '3.1.0', 'info': {'title': 'get weather data', 'description': 'Retrieves current weather data for a location based on wttr.in.', 'version': 'v1.0.0'}, 'servers': [{'url': 'https://wttr.in'}], 'auth': [], 'paths': {'/{location}': {'get': {'description': 'Get weather information for a specific location', 'operationId': 'GetCurrentWeather', 'parameters': [{'name': 'location', 'in': 'path', 'description': 'City or location to retrieve the weather for', 'required': True, 'schema': {'type': 'string'}}, {'name': 'format', 'in': 'query', 'description': 'Always use j1 value for this parameter', 'required': True, 'schema': {'type': 'string', 'default': 'j1'}}], 'responses': {'200': {'description': 'Successful response', 'content': {'text/plain': {'schema': {'type': 'string'}}}}, '404': {'description': 'Location not found'}}, 'deprecated': False}}}, 'components': {'schemes': {}}}, 'auth': {'type': 'anonymous', 'security_scheme': {}}, 'functions': [{'name': 'get_weather_GetCurrentWeather', 'description': 'Get weather information for a specific location', 'parameters': {'type': 'object', 'properties': {'location': {'type': 'string', 'description': 'City or location to retrieve the weather for'}, 'format': {'type': 'string', 'default': 'j1', 'description': 'Always use j1 value for this parameter'}}, 'required': ['location', 'format']}}]}}], 'top_p': 1.0, 'temperature': 1.0, 'tool_resources': {}, 'metadata': {}, 'response_format': 'auto'}>"
      ]
     },
     "execution_count": 7,
     "metadata": {},
     "output_type": "execute_result"
    }
   ],
   "source": [
    "# Create agent with AI search tool and process assistant run\n",
    "agent = project_client.agents.create_agent(\n",
    "    model=model_name,\n",
    "    name=\"openapi-agent\",\n",
    "    instructions=\"You are a helpful assistant\",\n",
    "    tools=openapi.definitions,\n",
    "    tool_resources = openapi.resources,\n",
    ")\n",
    "\n",
    "agent.items"
   ]
  },
  {
   "cell_type": "markdown",
   "id": "d0858e59-5a9a-4523-ae47-68eafc10005b",
   "metadata": {},
   "source": [
    "# Create the thread and attach a new message to it"
   ]
  },
  {
   "cell_type": "code",
   "execution_count": 8,
   "id": "06f80125-1252-4060-bdf5-3b52acc42a47",
   "metadata": {},
   "outputs": [
    {
     "name": "stdout",
     "output_type": "stream",
     "text": [
      "Created thread: {'id': 'thread_gEyM4fsepZhcz0FHm9osIwK4', 'object': 'thread', 'created_at': 1742915554, 'metadata': {}, 'tool_resources': {}}\n",
      "\n",
      "Created message: {'id': 'msg_TMtjfy02sE3iU6rzYoG2p99p', 'object': 'thread.message', 'created_at': 1742915554, 'assistant_id': None, 'thread_id': 'thread_gEyM4fsepZhcz0FHm9osIwK4', 'run_id': None, 'role': 'user', 'content': [{'type': 'text', 'text': {'value': 'Quale sarà la temperatura massima a Chiavari il 15 giugno? Se il giorno non è ancora disponibile, indica la temperatura massima del giorno più lontano che sai prevedere.', 'annotations': []}}], 'attachments': [], 'metadata': {}}\n"
     ]
    }
   ],
   "source": [
    "# Create a thread\n",
    "thread = project_client.agents.create_thread()\n",
    "print(f\"Created thread: {thread}\\n\")\n",
    "\n",
    "# Add a user message to the thread\n",
    "message = project_client.agents.create_message(\n",
    "    thread_id=thread.id, \n",
    "    role=\"user\", \n",
    "    content=\"Quale sarà la temperatura massima a Chiavari il 15 giugno? Se il giorno non è ancora disponibile, indica la temperatura massima del giorno più lontano che sai prevedere.\",\n",
    ")\n",
    "print(f\"Created message: {message}\")"
   ]
  },
  {
   "cell_type": "markdown",
   "id": "ca620721-a30e-44ac-9578-bbc098e20314",
   "metadata": {},
   "source": [
    "# Run the agent synchronously"
   ]
  },
  {
   "cell_type": "code",
   "execution_count": 9,
   "id": "8604f495-2519-42a7-a19a-026538cf2c2c",
   "metadata": {},
   "outputs": [
    {
     "name": "stdout",
     "output_type": "stream",
     "text": [
      "Run finished with status: RunStatus.COMPLETED. Run: {'id': 'run_tdjNOIrIHKvE87ofgXjBejmn', 'object': 'thread.run', 'created_at': 1742915602, 'assistant_id': 'asst_1fIWl6gIVJLQp8mA5Rhkzq2f', 'thread_id': 'thread_gEyM4fsepZhcz0FHm9osIwK4', 'status': 'completed', 'started_at': 1742915602, 'expires_at': None, 'cancelled_at': None, 'failed_at': None, 'completed_at': 1742915605, 'required_action': None, 'last_error': None, 'model': 'gpt-4o-2024-08-06', 'instructions': 'You are a helpful assistant', 'tools': [{'type': 'openapi', 'openapi': {'name': 'get_weather', 'description': 'Retrieve weather information for a location', 'spec': {'openapi': '3.1.0', 'info': {'title': 'get weather data', 'description': 'Retrieves current weather data for a location based on wttr.in.', 'version': 'v1.0.0'}, 'servers': [{'url': 'https://wttr.in'}], 'auth': [], 'paths': {'/{location}': {'get': {'description': 'Get weather information for a specific location', 'operationId': 'GetCurrentWeather', 'parameters': [{'name': 'location', 'in': 'path', 'description': 'City or location to retrieve the weather for', 'required': True, 'schema': {'type': 'string'}}, {'name': 'format', 'in': 'query', 'description': 'Always use j1 value for this parameter', 'required': True, 'schema': {'type': 'string', 'default': 'j1'}}], 'responses': {'200': {'description': 'Successful response', 'content': {'text/plain': {'schema': {'type': 'string'}}}}, '404': {'description': 'Location not found'}}, 'deprecated': False}}}, 'components': {'schemes': {}}}, 'auth': {'type': 'anonymous', 'security_scheme': {}}, 'functions': [{'name': 'get_weather_GetCurrentWeather', 'description': 'Get weather information for a specific location', 'parameters': {'type': 'object', 'properties': {'location': {'type': 'string', 'description': 'City or location to retrieve the weather for'}, 'format': {'type': 'string', 'default': 'j1', 'description': 'Always use j1 value for this parameter'}}, 'required': ['location', 'format']}}]}}], 'tool_resources': {}, 'metadata': {}, 'temperature': 1.0, 'top_p': 1.0, 'max_completion_tokens': None, 'max_prompt_tokens': None, 'truncation_strategy': {'type': 'auto', 'last_messages': None}, 'incomplete_details': None, 'usage': {'prompt_tokens': 9461, 'completion_tokens': 79, 'total_tokens': 9540, 'prompt_token_details': {'cached_tokens': 0}}, 'response_format': 'auto', 'tool_choice': 'auto', 'parallel_tool_calls': True}\n",
      "CPU times: total: 31.2 ms\n",
      "Wall time: 7.12 s\n"
     ]
    }
   ],
   "source": [
    "%%time\n",
    "# Create and process agent run in thread with tools\n",
    "run = project_client.agents.create_and_process_run(thread_id=thread.id, assistant_id=agent.id)\n",
    "print(f\"Run finished with status: {run.status}. Run: {run}\")\n",
    "\n",
    "if run.status == \"failed\":\n",
    "    # Check if you got \"Rate limit is exceeded.\", then you want to get more quota\n",
    "    print(f\"Run failed: {run.last_error}\")"
   ]
  },
  {
   "cell_type": "markdown",
   "id": "fecc4801-ce47-47ff-8502-e11c6b38fcc2",
   "metadata": {},
   "source": [
    "# Fetch messages from the thread after the agent run execution"
   ]
  },
  {
   "cell_type": "code",
   "execution_count": 10,
   "id": "bd778151-0cbb-4216-8de9-e4dee771d546",
   "metadata": {},
   "outputs": [
    {
     "name": "stdout",
     "output_type": "stream",
     "text": [
      "Here are the 2 messages:\n",
      "\n",
      "\n",
      "===== MESSAGE 1 =====\n",
      "\n",
      "CONTENT 1 (MessageTextContent) --> Text: Quale sarà la temperatura massima a Chiavari il 15 giugno? Se il giorno non è ancora disponibile, indica la temperatura massima del giorno più lontano che sai prevedere.\n",
      "\n",
      "===== MESSAGE 2 =====\n",
      "\n",
      "CONTENT 1 (MessageTextContent) --> Text: Non posso prevedere la temperatura per il 15 giugno, ma posso dirti che, per la data più distante disponibile, ovvero il 27 marzo 2025, la temperatura massima prevista a Chiavari è di 17°C.\n"
     ]
    }
   ],
   "source": [
    "from azure.ai.projects.models import MessageTextContent, MessageImageFileContent\n",
    "\n",
    "if run.status == 'completed':    \n",
    "    messages = project_client.agents.list_messages(thread_id=thread.id)\n",
    "    messages_nr = len(messages.data)\n",
    "    print(f\"Here are the {messages_nr} messages:\\n\")\n",
    "    \n",
    "    for i, message in enumerate(reversed(messages.data), 1):\n",
    "        j = 0\n",
    "        print(f\"\\n===== MESSAGE {i} =====\")\n",
    "        for c in message.content:\n",
    "            j +=1\n",
    "            if (type(c) is MessageImageFileContent):\n",
    "                print(f\"\\nCONTENT {j} (MessageImageFileContent) --> image_file id: {c.image_file.file_id}\")\n",
    "            elif (type(c) is MessageTextContent):\n",
    "                print(f\"\\nCONTENT {j} (MessageTextContent) --> Text: {c.text.value}\")\n",
    "                for a in c.text.annotations:\n",
    "                    print(f\">>> Annotation in MessageTextContent {j} of message {i}: {a.text}\\n\")\n",
    "\n",
    "else:\n",
    "    print(f\"Sorry, I can't proceed because the run status is {run.status}\")"
   ]
  },
  {
   "cell_type": "markdown",
   "id": "b9e4ca37-422c-4c17-8964-8c32a3bb914a",
   "metadata": {},
   "source": [
    "# Run Steps"
   ]
  },
  {
   "cell_type": "code",
   "execution_count": null,
   "id": "cd551092-22cb-465c-baa3-ff58823fbb72",
   "metadata": {},
   "outputs": [],
   "source": [
    "run_steps = project_client.agents.list_run_steps(run_id=run.id, thread_id=thread.id)\n",
    "\n",
    "print(f'Nr of run step(s): {len(run_steps[\"data\"])}\\n')\n",
    "i=0\n",
    "for rs in run_steps[\"data\"]:\n",
    "    i += 1\n",
    "    print(f\"Run step {i}: {rs}\", '\\n')"
   ]
  },
  {
   "cell_type": "markdown",
   "id": "944ec759-c053-4ab7-81aa-15cfa4961468",
   "metadata": {},
   "source": [
    "# START teardown"
   ]
  },
  {
   "cell_type": "code",
   "execution_count": null,
   "id": "4067d9ab-2a20-4107-be1f-9ea5ccd19cc0",
   "metadata": {},
   "outputs": [],
   "source": [
    "print(f\"Deleting trhead: {thread}...\")\n",
    "project_client.agents.delete_thread(thread.id)"
   ]
  },
  {
   "cell_type": "code",
   "execution_count": null,
   "id": "48399858-16e3-4b7c-a13a-aa3ed8320539",
   "metadata": {},
   "outputs": [],
   "source": [
    "# Delete all agents\n",
    "\n",
    "print(f\"{len(project_client.agents.list_agents()['data'])} agent(s) will now be deleted\")\n",
    "\n",
    "i=0\n",
    "for pca in project_client.agents.list_agents()['data']:\n",
    "    i += 1\n",
    "    project_client.agents.delete_agent(pca.id)\n",
    "    print(f\"\\n{i} - Agent {pca.name} has been deleted\")"
   ]
  },
  {
   "cell_type": "markdown",
   "id": "c8cc2b04-a0b3-45ee-9066-4306e16511f9",
   "metadata": {},
   "source": [
    "# HIC SUNT LEONES"
   ]
  }
 ],
 "metadata": {
  "kernelspec": {
   "display_name": "aaas",
   "language": "python",
   "name": "aaas"
  },
  "language_info": {
   "codemirror_mode": {
    "name": "ipython",
    "version": 3
   },
   "file_extension": ".py",
   "mimetype": "text/x-python",
   "name": "python",
   "nbconvert_exporter": "python",
   "pygments_lexer": "ipython3",
   "version": "3.12.8"
  }
 },
 "nbformat": 4,
 "nbformat_minor": 5
}
