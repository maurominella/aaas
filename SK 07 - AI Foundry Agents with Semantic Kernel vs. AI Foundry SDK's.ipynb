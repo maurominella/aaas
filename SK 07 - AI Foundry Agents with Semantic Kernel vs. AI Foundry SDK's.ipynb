{
 "cells": [
  {
   "cell_type": "markdown",
   "id": "500c19b9-9089-404e-b90b-dbed05a2c606",
   "metadata": {},
   "source": [
    "# [SK 07 - AI Foundry Agents with Semantic Kernel vs. AI Foundry SDK's](https://github.com/microsoft/semantic-kernel/tree/main/python/samples/getting_started_with_agents/azure_ai_agent)\n",
    "- How to use Azure AI Agents with Semantic Kernel.<br/>\n",
    "Dependencies: `pip install semantic-kernel[azure]`. [Sample](https://github.com/microsoft/semantic-kernel/blob/main/python/samples/getting_started_with_agents/azure_ai_agent/step1_azure_ai_agent.py)<br/><br/>\n",
    "\n",
    "Note: it's worth to review the usage of AI Foundry Agents\n",
    "- with [Python AI Foundry SDK](https://github.com/maurominella/aaas)\n",
    "- with [C#](https://github.com/maurominella/aaas/tree/main/FoundryAgents06%20-%20AI%20Foundry%20Agent%20with%20BingGroundingTool)"
   ]
  },
  {
   "cell_type": "markdown",
   "id": "296abcfd-2fde-4472-b8f8-16508a639cc1",
   "metadata": {},
   "source": [
    "# Constants and Libraries"
   ]
  },
  {
   "cell_type": "code",
   "execution_count": null,
   "id": "9467fb43-cbef-4c04-a2d5-9f719cb8fe65",
   "metadata": {},
   "outputs": [],
   "source": [
    "import os\n",
    "from dotenv import load_dotenv # requires python-dotenv\n",
    "from azure.identity import DefaultAzureCredential\n",
    "\n",
    "load_dotenv(\"./../config/credentials_my.env\")\n",
    "\n",
    "agent_name                  = \"aiagent-PYTHON\"\n",
    "instructions                = \"you are a clever agent\"\n",
    "user_inputs = [\n",
    "    \"Toggle the status of my second light.\",\n",
    "]\n",
    "\n",
    "plugin_name                 = \"Lights\"\n",
    "\n",
    "project_connection_string   = os.environ[\"PROJECT_CONNECTION_STRING\"]\n",
    "model_deployment_name       = os.environ['AZURE_OPENAI_CHAT_DEPLOYMENT_NAME']\n",
    "\n",
    "credential                  = DefaultAzureCredential()"
   ]
  },
  {
   "cell_type": "markdown",
   "id": "1c289761-e526-4462-b143-6237e7f61dd8",
   "metadata": {},
   "source": [
    "# Native Plugin"
   ]
  },
  {
   "cell_type": "code",
   "execution_count": null,
   "id": "6d3c05f4-7837-4496-995c-c077ce12ae8e",
   "metadata": {},
   "outputs": [],
   "source": [
    "# First, we define the plugin through its class...\n",
    "\n",
    "class LightsPlugin:\n",
    "    from typing import Annotated\n",
    "    from semantic_kernel.functions import kernel_function\n",
    "    \n",
    "    lights = [\n",
    "        {\"id\": 0, \"name\": \"Table Lamp\", \"is_on\": False},\n",
    "        {\"id\": 1, \"name\": \"Porch light\", \"is_on\": False},\n",
    "        {\"id\": 2, \"name\": \"Chandelier\", \"is_on\": True},\n",
    "    ]\n",
    "\n",
    "    @kernel_function(\n",
    "        name=\"get_lights\", # <<<=== DIFFERENT FROM THE FUNCTION NAME <get_state>, which will be ignored\n",
    "        description=\"Gets a list of lights and their current state\",\n",
    "    )\n",
    "    def get_state(\n",
    "        self,\n",
    "    ) -> Annotated[str, \"the output is a string\"]:\n",
    "        \"\"\"Gets a list of lights and their current state.\"\"\"\n",
    "        return self.lights\n",
    "\n",
    "    @kernel_function(\n",
    "        name=\"change_state\",\n",
    "        description=\"Changes the state of the light\",\n",
    "    )\n",
    "    def change_state(\n",
    "        self,\n",
    "        id: int,\n",
    "        is_on: bool,\n",
    "    ) -> Annotated[str, \"the output is a string\"]:\n",
    "        \"\"\"Changes the state of the light.\"\"\"\n",
    "        for light in self.lights:\n",
    "            if light[\"id\"] == id:\n",
    "                light[\"is_on\"] = is_on\n",
    "                return light\n",
    "        return None"
   ]
  },
  {
   "cell_type": "markdown",
   "id": "64b8c6d0-1c8d-45f8-825f-c53af690d09d",
   "metadata": {},
   "source": [
    "# AI FOUNDRY PROJECT CLIENT"
   ]
  },
  {
   "cell_type": "markdown",
   "id": "08d0b7ff-d021-4e00-81c3-6dce4c09c2df",
   "metadata": {},
   "source": [
    "## AI Foundry SDK"
   ]
  },
  {
   "cell_type": "code",
   "execution_count": null,
   "id": "e52d6990-e61f-4761-af92-793015bfa4f7",
   "metadata": {},
   "outputs": [],
   "source": [
    "from azure.ai.projects import AIProjectClient\n",
    "\n",
    "aifoundry_project_client = AIProjectClient.from_connection_string(\n",
    "    credential=credential, \n",
    "    conn_str=project_connection_string,\n",
    ")\n",
    "\n",
    "aifoundry_project_client"
   ]
  },
  {
   "cell_type": "markdown",
   "id": "2235ddf1-e11f-4031-875b-41f401b4146c",
   "metadata": {},
   "source": [
    "## Semantic Kernel SDK"
   ]
  },
  {
   "cell_type": "code",
   "execution_count": null,
   "id": "d4a3a80f-3b7a-4c51-8cf5-3f5c9f6f95e2",
   "metadata": {},
   "outputs": [],
   "source": [
    "from semantic_kernel.agents.azure_ai import AzureAIAgent\n",
    "\n",
    "sk_project_client = AzureAIAgent.create_client(\n",
    "    credential=credential,\n",
    "    conn_str=project_connection_string,\n",
    ")\n",
    "\n",
    "sk_project_client"
   ]
  },
  {
   "cell_type": "markdown",
   "id": "b51702f2-1980-4ec4-84f3-1c834548bbeb",
   "metadata": {},
   "source": [
    "# AI FOUNDRY AGENT"
   ]
  },
  {
   "cell_type": "markdown",
   "id": "d621ece1-2399-45ee-b24d-efb56ff06e1e",
   "metadata": {},
   "source": [
    "## AI Foundry SDK\n",
    "Single step:\n",
    "- `create_agent` for agent **creation**"
   ]
  },
  {
   "cell_type": "code",
   "execution_count": null,
   "id": "935e23a1-5920-400a-9d7c-1712b1a6d743",
   "metadata": {},
   "outputs": [],
   "source": [
    "aifoundry_ai_agent = aifoundry_project_client.agents.create_agent(\n",
    "    model=model_deployment_name,\n",
    "    name=f\"{agent_name}_aifoundry\",\n",
    "    instructions=instructions\n",
    ")\n",
    "\n",
    "aifoundry_ai_agent"
   ]
  },
  {
   "cell_type": "markdown",
   "id": "e34c2f4d-b9fc-41d2-91ae-ade4e6a4de51",
   "metadata": {},
   "source": [
    "## Semantic Kernel SDK\n",
    "Two steps:\n",
    "- `create_agent` for **agent definition**\n",
    "- `AzureAIAgent` for **client creation** (including **kernel**)"
   ]
  },
  {
   "cell_type": "code",
   "execution_count": null,
   "id": "734f4eb2-4fac-4676-979d-b3dcaed1a8cd",
   "metadata": {},
   "outputs": [],
   "source": [
    "sk_ai_agent_definition = await sk_project_client.agents.create_agent(\n",
    "    model=model_deployment_name,\n",
    "    name=f\"{agent_name}_SK\",\n",
    "    instructions=instructions\n",
    ")\n",
    "sk_ai_agent_definition"
   ]
  },
  {
   "cell_type": "code",
   "execution_count": null,
   "id": "29ec201d-f3c4-40d1-9c1a-177f8fdbb678",
   "metadata": {},
   "outputs": [],
   "source": [
    "sk_ai_agent = AzureAIAgent(\n",
    "    client=sk_project_client,\n",
    "    definition=sk_ai_agent_definition,\n",
    ")\n",
    "sk_ai_agent"
   ]
  },
  {
   "cell_type": "markdown",
   "id": "b254eb36-6783-4d44-b943-4b862582e5df",
   "metadata": {},
   "source": [
    "# ADD PLUGIN TO THE KERNEL"
   ]
  },
  {
   "cell_type": "markdown",
   "id": "db789932-fffb-497b-8b85-af686e7c4c85",
   "metadata": {},
   "source": [
    "## AI Foundry SDK"
   ]
  },
  {
   "cell_type": "code",
   "execution_count": null,
   "id": "df34cbe8-c741-48a6-9f1d-e037e4efdc4a",
   "metadata": {},
   "outputs": [],
   "source": [
    "from azure.ai.projects.models import FunctionTool, ToolSet"
   ]
  },
  {
   "cell_type": "code",
   "execution_count": null,
   "id": "b28c901a-30a7-401b-84b5-66bbb18b525b",
   "metadata": {},
   "outputs": [],
   "source": []
  },
  {
   "cell_type": "markdown",
   "id": "509abff0-6743-4669-b7cc-db4bf7b8a832",
   "metadata": {},
   "source": [
    "## Semantic Kernel SDK"
   ]
  },
  {
   "cell_type": "code",
   "execution_count": null,
   "id": "f8f65f27-ea8b-4d5b-a6c3-635589f75572",
   "metadata": {},
   "outputs": [],
   "source": [
    "sk_ai_agent.kernel.add_plugin(\n",
    "    plugin=LightsPlugin(),\n",
    "    plugin_name=plugin_name,\n",
    ")\n",
    "sk_ai_agent"
   ]
  },
  {
   "cell_type": "markdown",
   "id": "1a051cb7-c153-44d0-af20-4c8857aaee81",
   "metadata": {},
   "source": [
    "# CREATE A NEW THREAD"
   ]
  },
  {
   "cell_type": "markdown",
   "id": "343b1a8f-4449-42c0-a91b-922c30af92d9",
   "metadata": {},
   "source": [
    "## AI Foundry SDK"
   ]
  },
  {
   "cell_type": "code",
   "execution_count": null,
   "id": "4fb321d9-5211-425f-8fd1-49fd44595ff0",
   "metadata": {},
   "outputs": [],
   "source": [
    "aifoundry_thread = aifoundry_project_client.agents.create_thread()\n",
    "aifoundry_thread"
   ]
  },
  {
   "cell_type": "markdown",
   "id": "216dacc3-3555-401d-85f0-7e79b48f9ec4",
   "metadata": {},
   "source": [
    "## Semantic Kernel SDK"
   ]
  },
  {
   "cell_type": "code",
   "execution_count": null,
   "id": "29393fb9-3251-43f9-ab50-4a1ad9c7648e",
   "metadata": {},
   "outputs": [],
   "source": [
    "sk_thread = await sk_project_client.agents.create_thread()\n",
    "sk_thread"
   ]
  },
  {
   "cell_type": "markdown",
   "id": "8e29451e-a0c3-4421-a9f9-f1396bd1eea0",
   "metadata": {},
   "source": [
    "# MESSAGE(S) CREATION AND INVOKATION"
   ]
  },
  {
   "cell_type": "markdown",
   "id": "d54fc5fc-53fa-48d1-9d50-7cdd37468ae5",
   "metadata": {},
   "source": [
    "## AI Foundry SDK"
   ]
  },
  {
   "cell_type": "code",
   "execution_count": null,
   "id": "98b5f12b-d5c3-4430-a7ba-bcaf64f58092",
   "metadata": {},
   "outputs": [],
   "source": [
    "for user_input in user_inputs:\n",
    "    message = aifoundry_project_client.agents.create_message(\n",
    "        thread_id=aifoundry_thread.id, \n",
    "        role=\"user\", \n",
    "        content=user_input,\n",
    "    )"
   ]
  },
  {
   "cell_type": "markdown",
   "id": "0019608e-92b6-4e32-93da-dbc013994dfd",
   "metadata": {},
   "source": [
    "## Semantic Kernel SDK"
   ]
  },
  {
   "cell_type": "code",
   "execution_count": null,
   "id": "88d70ad8-f888-4cb8-bffb-164ba3248534",
   "metadata": {},
   "outputs": [],
   "source": [
    "from semantic_kernel.contents.chat_message_content import ChatMessageContent\n",
    "from semantic_kernel.contents.utils.author_role import AuthorRole\n",
    "\n",
    "for user_input in user_inputs:\n",
    "    await sk_ai_agent.add_chat_message(\n",
    "        thread_id=sk_thread.id,\n",
    "        message=ChatMessageContent(role=AuthorRole.USER, content=user_input)\n",
    "    )"
   ]
  },
  {
   "cell_type": "markdown",
   "id": "c79f299d-3b7e-4002-b4c0-0d4feed0b1c9",
   "metadata": {},
   "source": [
    "# RUN THE AGENT"
   ]
  },
  {
   "cell_type": "markdown",
   "id": "9da2ab5a-0da0-4981-8fc7-3ddbeb52c54d",
   "metadata": {},
   "source": [
    "## AI Foundry SDK"
   ]
  },
  {
   "cell_type": "code",
   "execution_count": null,
   "id": "1dbf7e91-a4e0-43e6-9f0c-07345a5c85e7",
   "metadata": {},
   "outputs": [],
   "source": [
    "run = aifoundry_project_client.agents.create_and_process_run(\n",
    "    thread_id=aifoundry_thread.id, \n",
    "    assistant_id=aifoundry_ai_agent.id)\n",
    "\n",
    "print(f\"Run finished with status: {run.status}. Run: {run}\")"
   ]
  },
  {
   "cell_type": "code",
   "execution_count": null,
   "id": "259aeafa-e230-4e97-97d3-ce063776ae74",
   "metadata": {},
   "outputs": [],
   "source": [
    "from azure.ai.projects.models import MessageTextContent, MessageImageFileContent\n",
    "\n",
    "if run.status == 'completed':    \n",
    "    messages = aifoundry_project_client.agents.list_messages(thread_id=aifoundry_thread.id)\n",
    "    messages_nr = len(messages.data)\n",
    "    print(f\"Here are the {messages_nr} messages:\\n\")\n",
    "    \n",
    "    for i, message in enumerate(reversed(messages.data), 1):\n",
    "        j = 0\n",
    "        print(f\"\\n===== MESSAGE {i} =====\")\n",
    "        for c in message.content:\n",
    "            j +=1\n",
    "            if (type(c) is MessageImageFileContent):\n",
    "                print(f\"\\nCONTENT {j} (MessageImageFileContent) --> image_file id: {c.image_file.file_id}\")\n",
    "            elif (type(c) is MessageTextContent):\n",
    "                print(f\"\\nCONTENT {j} (MessageTextContent) --> Text: {c.text.value}\")\n",
    "                for a in c.text.annotations:\n",
    "                    print(f\">>> Annotation in MessageTextContent {j} of message {i}: {a.text}\\n\")\n",
    "\n",
    "else:\n",
    "    print(f\"Sorry, I can't proceed because the run status is {run.status}\")"
   ]
  },
  {
   "cell_type": "markdown",
   "id": "561a834e-ce00-4b31-b9fc-5ee2ecae9960",
   "metadata": {},
   "source": [
    "## Semantic Kernel SDK"
   ]
  },
  {
   "cell_type": "code",
   "execution_count": null,
   "id": "b0025504-b175-4b57-9bc6-706d785482ed",
   "metadata": {},
   "outputs": [],
   "source": [
    "async for content in sk_ai_agent.invoke(        \n",
    "    thread_id=sk_thread.id,\n",
    "    temperature=0.2,  # override the agent-level temperature setting with a run-time value\n",
    "):\n",
    "    print(f\"# Agent: {content.to_dict()}\")"
   ]
  },
  {
   "cell_type": "markdown",
   "id": "ec6fb9ef-3838-453c-af90-4532bb5d3533",
   "metadata": {},
   "source": [
    "# HIC SUNT LEONES"
   ]
  },
  {
   "cell_type": "markdown",
   "id": "0bdcfcdc-52d7-468e-bb94-965aee261667",
   "metadata": {},
   "source": [
    "# TEARDOWN"
   ]
  },
  {
   "cell_type": "code",
   "execution_count": null,
   "id": "f7c0b863-3c17-4e56-9297-20c782a16971",
   "metadata": {},
   "outputs": [],
   "source": [
    "from openai import AzureOpenAI\n",
    "\n",
    "# Create the client\n",
    "client = AzureOpenAI(\n",
    "    # api_key        = os.getenv(\"AZURE_OPENAI_API_KEY\"),  \n",
    "    # api_version    = os.getenv(\"AZURE_OPENAI_API_VERSION\"), # at least 2024-02-15-preview\n",
    "    # azure_endpoint = os.getenv(\"AZURE_OPENAI_ENDPOINT\")\n",
    ")\n",
    "print(f\"client.base_url: {client.base_url}\")"
   ]
  },
  {
   "cell_type": "code",
   "execution_count": null,
   "id": "432fa3b8-31ad-4b07-bd91-92dc64753d31",
   "metadata": {},
   "outputs": [],
   "source": [
    "# delete files\n",
    "\n",
    "files_list = client.files.list().data\n",
    "print(f\"There are {len(files_list)} files to delete\")\n",
    "\n",
    "i = 0\n",
    "for file in files_list:\n",
    "    i += 1\n",
    "    print(f\"File {i}/{len(files_list)}: {file.filename} (id={file.id}) is being deleted...\")\n",
    "    client.files.delete(file.id) # un-comment this line if you want to delete it"
   ]
  },
  {
   "cell_type": "code",
   "execution_count": null,
   "id": "a53e4764-2f93-4682-8318-146749161ac2",
   "metadata": {},
   "outputs": [],
   "source": [
    "print(f\"Deleting thread {thread_id}...\")\n",
    "#client.beta.threads.delete(thread.id)"
   ]
  },
  {
   "cell_type": "code",
   "execution_count": null,
   "id": "e487bfbd-d356-4fcc-8328-b9d0de2a71e9",
   "metadata": {},
   "outputs": [],
   "source": [
    "# delete all assistants\n",
    "\n",
    "assistants_list = client.beta.assistants.list().data\n",
    "print(f\"There are {len(assistants_list)} assistants to delete\")\n",
    "\n",
    "i = 0\n",
    "for assistant in assistants_list:\n",
    "    i += 1\n",
    "    print(f\"Assistant {i}/{len(assistants_list)}: Assistant {assistant.name} ({assistant.id})) is being deleted...\")\n",
    "    client.beta.assistants.delete(assistant_id=assistant.id) # un-comment this line if you want to delete it"
   ]
  },
  {
   "cell_type": "markdown",
   "id": "991c281e-6cc5-4326-aef6-455f6cab3ae9",
   "metadata": {},
   "source": [
    "# Check the message history through the thread id\n",
    "**IMPORTANT**\n",
    "- The Assistant Agent automatically manages the history through the thread.\n",
    "- The list of message history in the thread starts with the most recent one to the oldest one."
   ]
  },
  {
   "cell_type": "code",
   "execution_count": null,
   "id": "3ac9efff-ebc0-4647-9502-99152afab533",
   "metadata": {},
   "outputs": [],
   "source": [
    "i =0\n",
    "async for message in agent.get_thread_messages(thread_id):\n",
    "    i += 1\n",
    "    print(f\">>> Message {i} - {message}\\n\")"
   ]
  },
  {
   "cell_type": "markdown",
   "id": "dd93afa6-a2a6-4fb5-88fc-0b458e64e253",
   "metadata": {},
   "source": [
    "# Additional tests. Run multiple times to toggle the first light."
   ]
  },
  {
   "cell_type": "code",
   "execution_count": null,
   "id": "465c88b2-fa78-4de4-aec5-b604951d0521",
   "metadata": {},
   "outputs": [],
   "source": [
    "message = ChatMessageContent(role=AuthorRole.USER, content=\"Toggle the first light and give me the status of all my lights.\")\n",
    "\n",
    "await agent.add_chat_message(thread_id=thread_id, message=message)\n",
    "\n",
    "async for message in agent.invoke(thread_id=thread_id):\n",
    "    print(message)\n",
    "\n",
    "messages = [message async for message in agent.get_thread_messages(thread_id)]\n",
    "print(f\"\\n\\nHere are all the {len(messages)} messages:\\n\")\n",
    "for i, message in enumerate(reversed(messages), 1):\n",
    "    print(f\">>> Message {i} - {message}\\n\")"
   ]
  }
 ],
 "metadata": {
  "kernelspec": {
   "display_name": "semantic_kernel",
   "language": "python",
   "name": "semantic_kernel"
  },
  "language_info": {
   "codemirror_mode": {
    "name": "ipython",
    "version": 3
   },
   "file_extension": ".py",
   "mimetype": "text/x-python",
   "name": "python",
   "nbconvert_exporter": "python",
   "pygments_lexer": "ipython3",
   "version": "3.12.8"
  }
 },
 "nbformat": 4,
 "nbformat_minor": 5
}
