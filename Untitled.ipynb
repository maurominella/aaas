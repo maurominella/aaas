{
 "cells": [
  {
   "cell_type": "code",
   "execution_count": 1,
   "id": "bab797f6-9b90-4961-9897-1601c96f26f9",
   "metadata": {},
   "outputs": [
    {
     "name": "stdout",
     "output_type": "stream",
     "text": [
      "Project Connection String: <westus.api.azureml.ms;eca2eddb>\n"
     ]
    }
   ],
   "source": [
    "import os\n",
    "from dotenv import load_dotenv # requires python-dotenv\n",
    "load_dotenv(\"./../config/credentials_my.env\")\n",
    "\n",
    "print(f'Project Connection String: <{os.environ[\"PROJECT_CONNECTION_STRING\"][:30]}>')"
   ]
  },
  {
   "cell_type": "code",
   "execution_count": 2,
   "id": "5a9abb62-b855-402f-9e22-583ffe6bf8cb",
   "metadata": {},
   "outputs": [
    {
     "data": {
      "text/plain": [
       "{'subscription_id': 'eca2eddb-0f0c-4351-a634-52751499eeea',\n",
       " 'resource_group_name': 'mmai01-rg',\n",
       " 'project_name': 'mmai01-hub-project01-vhdt'}"
      ]
     },
     "execution_count": 2,
     "metadata": {},
     "output_type": "execute_result"
    }
   ],
   "source": [
    "from azure.ai.projects import AIProjectClient\n",
    "from azure.identity import DefaultAzureCredential\n",
    "\n",
    "project_client = AIProjectClient.from_connection_string(\n",
    "    credential=DefaultAzureCredential(), conn_str=os.environ[\"PROJECT_CONNECTION_STRING\"])\n",
    "\n",
    "project_client.scope"
   ]
  },
  {
   "cell_type": "code",
   "execution_count": 2,
   "id": "620acc5d-d1dc-4515-bb9f-67d3a7f4ebd3",
   "metadata": {},
   "outputs": [
    {
     "name": "stdout",
     "output_type": "stream",
     "text": [
      "Code interpreter definitions: [{'type': 'code_interpreter'}]\n",
      "Code interpreter resources: {}\n",
      "Code interpreter file_ids: set()\n"
     ]
    }
   ],
   "source": [
    "from azure.ai.projects.models import CodeInterpreterTool\n",
    "\n",
    "code_interpreter = CodeInterpreterTool()\n",
    "\n",
    "print(f\"Code interpreter definitions: {code_interpreter.definitions}\")\n",
    "print(f\"Code interpreter resources: {code_interpreter.resources}\")\n",
    "print(f\"Code interpreter file_ids: {code_interpreter.file_ids}\")"
   ]
  },
  {
   "cell_type": "code",
   "execution_count": 3,
   "id": "be53bb45-87fe-46a2-afb5-925881baf673",
   "metadata": {},
   "outputs": [
    {
     "data": {
      "text/plain": [
       "<bound method _MyMutableMapping.items of {'id': 'asst_qxuCn5Kgeiw5Ir8hDES8AHTA', 'object': 'assistant', 'created_at': 1735423445, 'name': 'my-agent', 'description': None, 'model': 'gpt-4o-mini', 'instructions': 'You are a helpful agent', 'tools': [{'type': 'code_interpreter'}], 'top_p': 1.0, 'temperature': 1.0, 'tool_resources': {'code_interpreter': {'file_ids': []}}, 'metadata': {}, 'response_format': 'auto'}>"
      ]
     },
     "execution_count": 3,
     "metadata": {},
     "output_type": "execute_result"
    }
   ],
   "source": [
    "agent = project_client.agents.create_agent(\n",
    "    model=\"gpt-4o-mini\",\n",
    "    name=\"my-agent\",\n",
    "    instructions=\"You are a helpful agent\",\n",
    "    tools=code_interpreter.definitions,\n",
    "    tool_resources=code_interpreter.resources,\n",
    ")\n",
    "\n",
    "agent.items"
   ]
  },
  {
   "cell_type": "code",
   "execution_count": 4,
   "id": "3795b59d-d6a6-47cd-9457-04843e689515",
   "metadata": {},
   "outputs": [
    {
     "data": {
      "text/plain": [
       "<bound method _MyMutableMapping.items of {'id': 'asst_TvwPek5aGErw3HEXi0AAaJUC', 'object': 'assistant', 'created_at': 1735423446, 'name': 'my-agent', 'description': None, 'model': 'gpt-4o-mini', 'instructions': 'You are a helpful agent', 'tools': [{'type': 'code_interpreter'}], 'top_p': 1.0, 'temperature': 1.0, 'tool_resources': {'code_interpreter': {'file_ids': []}}, 'metadata': {}, 'response_format': 'auto'}>"
      ]
     },
     "execution_count": 4,
     "metadata": {},
     "output_type": "execute_result"
    }
   ],
   "source": [
    "# Create a second agent\n",
    "agent_02 = project_client.agents.create_agent(\n",
    "    model=\"gpt-4o-mini\",\n",
    "    name=\"my-agent\",\n",
    "    instructions=\"You are a helpful agent\",\n",
    "    tools=code_interpreter.definitions,\n",
    "    tool_resources=code_interpreter.resources,\n",
    ")\n",
    "\n",
    "agent_02.items"
   ]
  },
  {
   "cell_type": "code",
   "execution_count": 6,
   "id": "384dfedd-bb04-4515-bfe2-2ef7a6d2c8cd",
   "metadata": {},
   "outputs": [
    {
     "data": {
      "text/plain": [
       "{'id': 'asst_TvwPek5aGErw3HEXi0AAaJUC', 'object': 'assistant.deleted', 'deleted': True}"
      ]
     },
     "execution_count": 6,
     "metadata": {},
     "output_type": "execute_result"
    }
   ],
   "source": [
    "project_client.agents.delete_agent(agent_02.id)"
   ]
  },
  {
   "cell_type": "code",
   "execution_count": 7,
   "id": "57193096-78a0-4b44-84a3-cc321aba4ddc",
   "metadata": {},
   "outputs": [
    {
     "name": "stdout",
     "output_type": "stream",
     "text": [
      "[{'id': 'asst_qxuCn5Kgeiw5Ir8hDES8AHTA', 'object': 'assistant', 'created_at': 1735423445, 'name': 'my-agent', 'description': None, 'model': 'gpt-4o-mini', 'instructions': 'You are a helpful agent', 'tools': [{'type': 'code_interpreter'}], 'top_p': 1.0, 'temperature': 1.0, 'tool_resources': {'code_interpreter': {'file_ids': []}}, 'metadata': {}, 'response_format': 'auto'}]\n"
     ]
    }
   ],
   "source": [
    "# List all agents\n",
    "print(project_client.agents.list_agents()['data'])"
   ]
  },
  {
   "cell_type": "code",
   "execution_count": 8,
   "id": "35d519ab-0642-4198-b484-2aca590669e9",
   "metadata": {},
   "outputs": [
    {
     "name": "stdout",
     "output_type": "stream",
     "text": [
      "Created thread: {'id': 'thread_utwMjSXTSdkoKa05XCIhhSGt', 'object': 'thread', 'created_at': 1735423504, 'metadata': {}, 'tool_resources': {}}\n"
     ]
    }
   ],
   "source": [
    "# Create a thread\n",
    "thread = project_client.agents.create_thread()\n",
    "\n",
    "print(f\"Created thread: {thread}\")"
   ]
  },
  {
   "cell_type": "code",
   "execution_count": 9,
   "id": "fa690a7a-dee4-4b7c-92c9-9f64920488ac",
   "metadata": {},
   "outputs": [
    {
     "name": "stdout",
     "output_type": "stream",
     "text": [
      "Created message: {'id': 'msg_JgqGwKGOgclBTFAA0PvABE8q', 'object': 'thread.message', 'created_at': 1735423515, 'assistant_id': None, 'thread_id': 'thread_utwMjSXTSdkoKa05XCIhhSGt', 'run_id': None, 'role': 'user', 'content': [{'type': 'text', 'text': {'value': 'Could you please create a bar chart for the operating profit using the following data and provide the file to me? Company A: $1.2 million, Company B: $2.5 million, Company C: $3.0 million, Company D: $1.8 million', 'annotations': []}}], 'attachments': [], 'metadata': {}}\n"
     ]
    }
   ],
   "source": [
    "# Create a message\n",
    "message = project_client.agents.create_message(\n",
    "    thread_id=thread.id,\n",
    "    role=\"user\",\n",
    "    content=\"Could you please create a bar chart for the operating profit using the following data and provide the file to me? Company A: $1.2 million, Company B: $2.5 million, Company C: $3.0 million, Company D: $1.8 million\",\n",
    ")\n",
    "print(f\"Created message: {message}\")"
   ]
  },
  {
   "cell_type": "code",
   "execution_count": 10,
   "id": "21ea64d8-0e95-423f-925b-74f10c1f411b",
   "metadata": {},
   "outputs": [
    {
     "name": "stdout",
     "output_type": "stream",
     "text": [
      "Run details: {'id': 'run_nPqrcet53SzzFI9LkjQoAxUN', 'object': 'thread.run', 'created_at': 1735423536, 'assistant_id': 'asst_qxuCn5Kgeiw5Ir8hDES8AHTA', 'thread_id': 'thread_utwMjSXTSdkoKa05XCIhhSGt', 'status': 'failed', 'started_at': 1735423536, 'expires_at': None, 'cancelled_at': None, 'failed_at': 1735423553, 'completed_at': None, 'required_action': None, 'last_error': {'code': 'rate_limit_exceeded', 'message': 'Rate limit is exceeded. Try again in 44 seconds.'}, 'model': 'gpt-4o-mini', 'instructions': 'You are a helpful agent', 'tools': [{'type': 'code_interpreter'}], 'tool_resources': {}, 'metadata': {}, 'temperature': 1.0, 'top_p': 1.0, 'max_completion_tokens': None, 'max_prompt_tokens': None, 'truncation_strategy': {'type': 'auto', 'last_messages': None}, 'incomplete_details': None, 'usage': {'prompt_tokens': 0, 'completion_tokens': 318, 'total_tokens': 318}, 'response_format': 'auto', 'tool_choice': 'auto', 'parallel_tool_calls': True}\n"
     ]
    }
   ],
   "source": [
    "# Run the agent\n",
    "run = project_client.agents.create_and_process_run(thread_id=thread.id, assistant_id=agent.id)\n",
    "\n",
    "print(f\"Run details: {run}\")"
   ]
  },
  {
   "cell_type": "code",
   "execution_count": 11,
   "id": "97716093-13b8-4f25-8b5a-62f6b0f2f0c0",
   "metadata": {},
   "outputs": [
    {
     "name": "stdout",
     "output_type": "stream",
     "text": [
      "Messages: {'object': 'list', 'data': [{'id': 'msg_JgqGwKGOgclBTFAA0PvABE8q', 'object': 'thread.message', 'created_at': 1735423515, 'assistant_id': None, 'thread_id': 'thread_utwMjSXTSdkoKa05XCIhhSGt', 'run_id': None, 'role': 'user', 'content': [{'type': 'text', 'text': {'value': 'Could you please create a bar chart for the operating profit using the following data and provide the file to me? Company A: $1.2 million, Company B: $2.5 million, Company C: $3.0 million, Company D: $1.8 million', 'annotations': []}}], 'attachments': [], 'metadata': {}}], 'first_id': 'msg_JgqGwKGOgclBTFAA0PvABE8q', 'last_id': 'msg_JgqGwKGOgclBTFAA0PvABE8q', 'has_more': False}\n"
     ]
    }
   ],
   "source": [
    "# Get messages from the thread\n",
    "messages = project_client.agents.list_messages(thread_id=thread.id)\n",
    "print(f\"Messages: {messages}\")"
   ]
  },
  {
   "cell_type": "code",
   "execution_count": 12,
   "id": "231e7e27-d9c4-4882-a4d8-d814f9e36b9b",
   "metadata": {},
   "outputs": [],
   "source": [
    "# Get the last message from the sender\n",
    "last_msg = messages.get_last_text_message_by_sender(\"assistant\")\n",
    "if last_msg:\n",
    "    print(f\"Last Message: {last_msg.text.value}\")"
   ]
  },
  {
   "cell_type": "code",
   "execution_count": 13,
   "id": "1901fdac-bb69-47f9-b20a-912c9791edd4",
   "metadata": {},
   "outputs": [
    {
     "data": {
      "text/plain": [
       "[]"
      ]
     },
     "execution_count": 13,
     "metadata": {},
     "output_type": "execute_result"
    }
   ],
   "source": [
    "# Check files\n",
    "messages.image_contents"
   ]
  },
  {
   "cell_type": "code",
   "execution_count": 14,
   "id": "55bcd0f8-822d-4a78-ba7f-b5d27bd2a514",
   "metadata": {},
   "outputs": [],
   "source": [
    "for file_path_annotation in messages.file_path_annotations:\n",
    "    print(f\"File Paths:\")"
   ]
  },
  {
   "cell_type": "code",
   "execution_count": 15,
   "id": "73f292e8-41e8-4bee-ad54-2d6faa8ec058",
   "metadata": {},
   "outputs": [],
   "source": [
    "# Generate an image file for the bar chart\n",
    "for image_content in messages.image_contents:\n",
    "    print(f\"Image File ID: {image_content.image_file.file_id}\")\n",
    "    file_name = f\"{image_content.image_file.file_id}_image_file.png\"\n",
    "    project_client.agents.save_file(file_id=image_content.image_file.file_id, file_name=file_name)\n",
    "    print(f\"Saved image file to: {Path.cwd() / file_name}\")"
   ]
  },
  {
   "cell_type": "code",
   "execution_count": 16,
   "id": "293f3b0e-f695-441e-8da1-a9248d91ad5d",
   "metadata": {},
   "outputs": [
    {
     "data": {
      "text/plain": [
       "[{'id': 'asst_qxuCn5Kgeiw5Ir8hDES8AHTA', 'object': 'assistant', 'created_at': 1735423445, 'name': 'my-agent', 'description': None, 'model': 'gpt-4o-mini', 'instructions': 'You are a helpful agent', 'tools': [{'type': 'code_interpreter'}], 'top_p': 1.0, 'temperature': 1.0, 'tool_resources': {'code_interpreter': {'file_ids': []}}, 'metadata': {}, 'response_format': 'auto'}]"
      ]
     },
     "execution_count": 16,
     "metadata": {},
     "output_type": "execute_result"
    }
   ],
   "source": [
    "project_client.agents.list_agents()['data']"
   ]
  },
  {
   "cell_type": "code",
   "execution_count": 17,
   "id": "05648e27-338e-423d-927b-ef441da75bd3",
   "metadata": {},
   "outputs": [
    {
     "name": "stdout",
     "output_type": "stream",
     "text": [
      "Deleting agent my-agent (asst_qxuCn5Kgeiw5Ir8hDES8AHTA)...\n"
     ]
    }
   ],
   "source": [
    "# Delete all agents\n",
    "for pca in project_client.agents.list_agents()['data']:\n",
    "    print(f\"Deleting agent {pca.name} ({pca.id})...\")\n",
    "    project_client.agents.delete_agent(pca.id)    "
   ]
  },
  {
   "cell_type": "markdown",
   "id": "c8cc2b04-a0b3-45ee-9066-4306e16511f9",
   "metadata": {},
   "source": [
    "# HIC SUNT LEONES"
   ]
  },
  {
   "cell_type": "code",
   "execution_count": null,
   "id": "2c38587d-0e7d-488a-bdf1-1177f26a161d",
   "metadata": {},
   "outputs": [],
   "source": [
    "import os\n",
    "from azure.ai.projects import AIProjectClient\n",
    "from azure.ai.projects.models import CodeInterpreterTool\n",
    "from azure.identity import DefaultAzureCredential\n",
    "from typing import Any\n",
    "from pathlib import Path\n",
    "from dotenv import load_dotenv # requires python-dotenv\n",
    "load_dotenv(\"./../config/credentials_my.env\")"
   ]
  },
  {
   "cell_type": "code",
   "execution_count": null,
   "id": "9358dbdd-2824-4ac2-8e44-00fe25c9bd28",
   "metadata": {},
   "outputs": [],
   "source": [
    "os.environ[\"PROJECT_CONNECTION_STRING\"]"
   ]
  },
  {
   "cell_type": "markdown",
   "id": "ee3c4f9d-28e4-4d3f-8057-0da03ee77b46",
   "metadata": {},
   "source": [
    "# Why are we using the syntax <*with project_client*>?\n",
    "\n",
    "**project_client** is a context manager. The code within the with block (everything indented under it) will execute with project_client's context.<br/>\n",
    "When the block of code is done executing, the context manager takes care of closing or releasing project_client properly, ensuring no resources are left hanging.\n"
   ]
  },
  {
   "cell_type": "code",
   "execution_count": null,
   "id": "ab04c4fa-2041-48e4-9455-e0f69cbbaf5a",
   "metadata": {},
   "outputs": [],
   "source": [
    "project_client = AIProjectClient.from_connection_string(\n",
    "    credential=DefaultAzureCredential(), conn_str=os.environ[\"PROJECT_CONNECTION_STRING\"]\n",
    ")\n",
    "\n",
    "with project_client:\n",
    "    # Create an instance of the CodeInterpreterTool\n",
    "    code_interpreter = CodeInterpreterTool()\n",
    "    \n",
    "    # The CodeInterpreterTool needs to be included in creation of the agent\n",
    "    agent = project_client.agents.create_agent(\n",
    "        model=\"gpt-4o-mini\",\n",
    "        name=\"my-agent\",\n",
    "        instructions=\"You are helpful agent\",\n",
    "        tools=code_interpreter.definitions,\n",
    "        tool_resources=code_interpreter.resources,\n",
    "    )"
   ]
  },
  {
   "cell_type": "code",
   "execution_count": null,
   "id": "57ca3d18-5ba3-41f0-a5f9-729ba3bb765a",
   "metadata": {},
   "outputs": [],
   "source": [
    "with project_client:\n",
    "    # Create an instance of the CodeInterpreterTool\n",
    "    code_interpreter = CodeInterpreterTool()\n",
    "\n",
    "    # The CodeInterpreterTool needs to be included in creation of the agent\n",
    "    agent = project_client.agents.create_agent(\n",
    "        model=\"gpt-4o-mini\",\n",
    "        name=\"my-agent\",\n",
    "        instructions=\"You are helpful agent\",\n",
    "        tools=code_interpreter.definitions,\n",
    "        tool_resources=code_interpreter.resources,\n",
    "    )\n",
    "    print(f\"Created agent, agent ID: {agent.id}\")\n",
    "\n",
    "    # Create a thread\n",
    "    thread = project_client.agents.create_thread()\n",
    "    print(f\"Created thread, thread ID: {thread.id}\")\n",
    "\n",
    "    # Create a message\n",
    "    message = project_client.agents.create_message(\n",
    "        thread_id=thread.id,\n",
    "        role=\"user\",\n",
    "        content=\"Could you please create a bar chart for the operating profit using the following data and provide the file to me? Company A: $1.2 million, Company B: $2.5 million, Company C: $3.0 million, Company D: $1.8 million\",\n",
    "    )\n",
    "    print(f\"Created message, message ID: {message.id}\")\n",
    "\n",
    "    # Run the agent\n",
    "    run = project_client.agents.create_and_process_run(thread_id=thread.id, assistant_id=agent.id)\n",
    "    print(f\"Run finished with status: {run.status}\")\n",
    "\n",
    "    if run.status == \"failed\":\n",
    "        # Check if you got \"Rate limit is exceeded.\", then you want to get more quota\n",
    "        print(f\"Run failed: {run.last_error}\")\n",
    "\n",
    "    # Get messages from the thread\n",
    "    messages = project_client.agents.list_messages(thread_id=thread.id)\n",
    "    print(f\"Messages: {messages}\")\n",
    "\n",
    "    # Get the last message from the sender\n",
    "    last_msg = messages.get_last_text_message_by_sender(\"assistant\")\n",
    "    if last_msg:\n",
    "        print(f\"Last Message: {last_msg.text.value}\")\n",
    "\n",
    "    # Generate an image file for the bar chart\n",
    "    for image_content in messages.image_contents:\n",
    "        print(f\"Image File ID: {image_content.image_file.file_id}\")\n",
    "        file_name = f\"{image_content.image_file.file_id}_image_file.png\"\n",
    "        project_client.agents.save_file(file_id=image_content.image_file.file_id, file_name=file_name)\n",
    "        print(f\"Saved image file to: {Path.cwd() / file_name}\")\n",
    "\n",
    "    # Print the file path(s) from the messages\n",
    "    for file_path_annotation in messages.file_path_annotations:\n",
    "        print(f\"File Paths:\")\n",
    "        print(f\"Type: {file_path_annotation.type}\")\n",
    "        print(f\"Text: {file_path_annotation.text}\")\n",
    "        print(f\"File ID: {file_path_annotation.file_path.file_id}\")\n",
    "        print(f\"Start Index: {file_path_annotation.start_index}\")\n",
    "        print(f\"End Index: {file_path_annotation.end_index}\")\n",
    "        project_client.agents.save_file(file_id=file_path_annotation.file_path.file_id, file_name=Path(file_path_annotation.text).name)\n",
    "\n",
    "    # Delete the agent once done\n",
    "    project_client.agents.delete_agent(agent.id)\n",
    "    print(\"Deleted agent\")"
   ]
  },
  {
   "cell_type": "code",
   "execution_count": null,
   "id": "dcd067f3-a3c8-41ac-bb6e-3ebe56489673",
   "metadata": {},
   "outputs": [],
   "source": []
  }
 ],
 "metadata": {
  "kernelspec": {
   "display_name": "aaas",
   "language": "python",
   "name": "aaas"
  },
  "language_info": {
   "codemirror_mode": {
    "name": "ipython",
    "version": 3
   },
   "file_extension": ".py",
   "mimetype": "text/x-python",
   "name": "python",
   "nbconvert_exporter": "python",
   "pygments_lexer": "ipython3",
   "version": "3.12.8"
  }
 },
 "nbformat": 4,
 "nbformat_minor": 5
}
